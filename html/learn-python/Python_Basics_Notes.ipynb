{
 "cells": [
  {
   "cell_type": "markdown",
   "metadata": {},
   "source": [
    "<p style=\"font-size:110%\">In this post, we will learn about\n",
    "<ul style=\"font-size:110%\">\t\t\t\t\n",
    "<li><b style=\"font-size:110%\">Data Types</b> - How computers sees the data/ information?</li>\n",
    "<li><b style=\"font-size:110%\">Operations</b> - How does python work on (operates) on different data types?</li>\n",
    "<li><b style=\"font-size:110%\">Variables</b> - How does computers store information in their memory?</li> \n",
    "<li><b style=\"font-size:110%\">Output</b> - How to print or display the output on the screen?</li> \n",
    "<li><b style=\"font-size:110%\">Input</b> - How to get input from the user into our computer?</li> \n",
    "</ul>\n",
    "</p>"
   ]
  },
  {
   "cell_type": "markdown",
   "metadata": {},
   "source": [
    "# Common data types"
   ]
  },
  {
   "cell_type": "markdown",
   "metadata": {},
   "source": [
    "The way computers sees the data/information is very different from how we as humans see it. So, we need to understand a bit about if before learning to program. \n",
    "\n",
    "In the table below, I have summarized the 4 most commonly used data types in Python with few examples."
   ]
  },
  {
   "cell_type": "markdown",
   "metadata": {},
   "source": [
    "<table style=\"max-width:100%;margin-left:20px;border: 1px solid black; font-size:110%\">\n",
    "    <caption style=\"text-align: center\"><b> Basic Data Types in Python </b></caption>\n",
    "    <tr>\n",
    "        <td style=\"color:blue; background-color:rgb(80, 80, 80); color:white; text-align: center\">Data Type</td>\n",
    "        <td style=\"color:blue; background-color:rgb(80, 80, 80); color:white; text-align: center\">Python keyword</td>  \n",
    "        <td style=\"color:blue; background-color:rgb(80, 80, 80); color:white; text-align: center\">Example</td>\n",
    "        <td style=\"color:blue; background-color:rgb(80, 80, 80); color:white; text-align: center\">Explanation</td>\n",
    "    </tr>\n",
    "    <tr style=\"color:black;text-align: center\">\n",
    "        <td style=\"text-align: center\">integer</td>\n",
    "        <td style=\"text-align: center\"><code>int</code></td>\n",
    "        <td style=\"text-align: center\"><code>2, 10, 100, 0, -5838</code></td>\n",
    "        <td style=\"text-align: center\">Integers are just numbers that we normally use in daily life.</td>\n",
    "    </tr>\n",
    "    <tr style=\"color:black;text-align: center\">\n",
    "        <td style=\"text-align: center\">float</td>\n",
    "        <td style=\"text-align: center\"><code>float</code></td>\n",
    "        <td style=\"text-align: center\"><code>2.10, 10.0, 100.8712, 0.0, -5838.12</code></td>\n",
    "        <td style=\"text-align: center\">Floats are numbers with decimal values. <br>Any number with a . (dot) will be treated as float by Python.</td>\n",
    "    </tr>\n",
    "        <tr style=\"color:black;text-align: center\">\n",
    "        <td style=\"text-align: center\">string</td>\n",
    "        <td style=\"text-align: center\"><code>str</code></td>\n",
    "        <td style=\"text-align: center\"><code>\"hi', \"hello\", \"I am so cool\", \"40.0, \"-30\"</code></td>\n",
    "        <td style=\"text-align: center\">Anything inside single or double quotes will be treated as string in Python. <br>Usually, letter, words and symbols should always go inside the quotes as a string.</td>\n",
    "    </tr>\n",
    "        </tr>\n",
    "        <tr style=\"color:black;text-align: center\">\n",
    "        <td style=\"text-align: center\">Boolean</td>\n",
    "        <td style=\"text-align: center\"><code>bool</code></td>\n",
    "        <td style=\"text-align: center\"><code>True, False</code></td>\n",
    "        <td style=\"text-align: center\">Boolean data type has only two values. <br>True is similar to 1 (yes) and False is similar to 0 (no).</td>\n",
    "    </tr>\n",
    "</table>"
   ]
  },
  {
   "cell_type": "markdown",
   "metadata": {},
   "source": [
    "## type() function"
   ]
  },
  {
   "cell_type": "markdown",
   "metadata": {},
   "source": [
    "<p>In fact, Python has a built-in command called <code>type()</code> to find the type of any data! <br>Let's see few examples below. Feel free to modify the data and check the results.</p>"
   ]
  },
  {
   "cell_type": "code",
   "execution_count": 3,
   "metadata": {
    "ExecuteTime": {
     "end_time": "2019-04-16T15:54:45.234787Z",
     "start_time": "2019-04-16T15:54:45.225791Z"
    }
   },
   "outputs": [
    {
     "name": "stdout",
     "output_type": "stream",
     "text": [
      "<class 'int'>\n"
     ]
    }
   ],
   "source": [
    "print (type(10))"
   ]
  },
  {
   "cell_type": "code",
   "execution_count": 4,
   "metadata": {
    "ExecuteTime": {
     "end_time": "2019-04-16T15:54:51.943314Z",
     "start_time": "2019-04-16T15:54:51.932319Z"
    }
   },
   "outputs": [
    {
     "name": "stdout",
     "output_type": "stream",
     "text": [
      "<class 'float'>\n"
     ]
    }
   ],
   "source": [
    "print (type(3.1415))"
   ]
  },
  {
   "cell_type": "code",
   "execution_count": 9,
   "metadata": {
    "ExecuteTime": {
     "end_time": "2019-04-16T15:55:37.703034Z",
     "start_time": "2019-04-16T15:55:37.695038Z"
    }
   },
   "outputs": [
    {
     "name": "stdout",
     "output_type": "stream",
     "text": [
      "<class 'str'>\n"
     ]
    }
   ],
   "source": [
    "print (type('Hello World!'))"
   ]
  },
  {
   "cell_type": "code",
   "execution_count": 6,
   "metadata": {
    "ExecuteTime": {
     "end_time": "2019-04-16T15:55:21.676185Z",
     "start_time": "2019-04-16T15:55:21.663194Z"
    }
   },
   "outputs": [
    {
     "name": "stdout",
     "output_type": "stream",
     "text": [
      "<class 'bool'>\n"
     ]
    }
   ],
   "source": [
    "print (type(True))"
   ]
  },
  {
   "cell_type": "markdown",
   "metadata": {},
   "source": [
    "<a id=\"Python Basics\"></a>\n",
    "# Operators\n",
    "\n",
    "<p>We can do basic math operations in <code>python</code> pretty easily. All that we have to figure out is the symbol to be used for each math operation.</p>"
   ]
  },
  {
   "cell_type": "markdown",
   "metadata": {},
   "source": [
    "## Entering expressions"
   ]
  },
  {
   "cell_type": "code",
   "execution_count": 10,
   "metadata": {
    "ExecuteTime": {
     "end_time": "2019-04-16T15:55:53.779958Z",
     "start_time": "2019-04-16T15:55:53.765967Z"
    },
    "scrolled": true
   },
   "outputs": [
    {
     "data": {
      "text/plain": [
       "4"
      ]
     },
     "execution_count": 10,
     "metadata": {},
     "output_type": "execute_result"
    }
   ],
   "source": [
    "2+2"
   ]
  },
  {
   "cell_type": "markdown",
   "metadata": {
    "ExecuteTime": {
     "end_time": "2018-06-27T08:31:09.787160Z",
     "start_time": "2018-06-27T08:31:09.779163Z"
    }
   },
   "source": [
    "**Commonly used math operators**\n",
    "- Addition `+`\n",
    "- Subtraction  `-`\n",
    "- Multiplication `*`\n",
    "- Division `/`\n",
    "- Integer Division `//`\n",
    "- Moduls/ Remainder `%`\n",
    "- Exponent/ Power `**`\n",
    "\n",
    "**Order of Precedence**\n",
    "\n",
    "The order of operations (also called precedence) of Python math operators is similar to that of mathematics. The ** operator is evaluated first; the *, /, //, and % operators are evaluated next, from left to right; and the + and - operators are evaluated last (also from left to right)"
   ]
  },
  {
   "cell_type": "code",
   "execution_count": 15,
   "metadata": {
    "ExecuteTime": {
     "end_time": "2019-04-15T11:14:16.919685Z",
     "start_time": "2019-04-15T11:14:16.894680Z"
    }
   },
   "outputs": [
    {
     "data": {
      "text/plain": [
       "20"
      ]
     },
     "execution_count": 15,
     "metadata": {},
     "output_type": "execute_result"
    }
   ],
   "source": [
    "2+3*6"
   ]
  },
  {
   "cell_type": "code",
   "execution_count": 16,
   "metadata": {
    "ExecuteTime": {
     "end_time": "2019-04-15T11:14:16.947652Z",
     "start_time": "2019-04-15T11:14:16.922662Z"
    }
   },
   "outputs": [
    {
     "data": {
      "text/plain": [
       "30"
      ]
     },
     "execution_count": 16,
     "metadata": {},
     "output_type": "execute_result"
    }
   ],
   "source": [
    "(2 + 3) * 6"
   ]
  },
  {
   "cell_type": "code",
   "execution_count": 17,
   "metadata": {
    "ExecuteTime": {
     "end_time": "2019-04-15T11:14:16.965659Z",
     "start_time": "2019-04-15T11:14:16.951646Z"
    }
   },
   "outputs": [
    {
     "data": {
      "text/plain": [
       "32"
      ]
     },
     "execution_count": 17,
     "metadata": {},
     "output_type": "execute_result"
    }
   ],
   "source": [
    "2**5"
   ]
  },
  {
   "cell_type": "code",
   "execution_count": 18,
   "metadata": {
    "ExecuteTime": {
     "end_time": "2019-04-15T11:14:16.991630Z",
     "start_time": "2019-04-15T11:14:16.969640Z"
    }
   },
   "outputs": [
    {
     "data": {
      "text/plain": [
       "3.142857142857143"
      ]
     },
     "execution_count": 18,
     "metadata": {},
     "output_type": "execute_result"
    }
   ],
   "source": [
    "22/7"
   ]
  },
  {
   "cell_type": "code",
   "execution_count": 19,
   "metadata": {
    "ExecuteTime": {
     "end_time": "2019-04-15T11:14:17.024604Z",
     "start_time": "2019-04-15T11:14:16.995624Z"
    }
   },
   "outputs": [
    {
     "data": {
      "text/plain": [
       "3"
      ]
     },
     "execution_count": 19,
     "metadata": {},
     "output_type": "execute_result"
    }
   ],
   "source": [
    "22//7"
   ]
  },
  {
   "cell_type": "code",
   "execution_count": 20,
   "metadata": {
    "ExecuteTime": {
     "end_time": "2019-04-15T11:14:17.042596Z",
     "start_time": "2019-04-15T11:14:17.027603Z"
    }
   },
   "outputs": [
    {
     "data": {
      "text/plain": [
       "1"
      ]
     },
     "execution_count": 20,
     "metadata": {},
     "output_type": "execute_result"
    }
   ],
   "source": [
    "22 % 7"
   ]
  },
  {
   "cell_type": "markdown",
   "metadata": {},
   "source": [
    "The meaning of an operator (e.g. `+`) may change based on the data types of the values next to it\n"
   ]
  },
  {
   "cell_type": "code",
   "execution_count": 21,
   "metadata": {
    "ExecuteTime": {
     "end_time": "2019-04-15T11:14:17.069579Z",
     "start_time": "2019-04-15T11:14:17.045594Z"
    }
   },
   "outputs": [
    {
     "data": {
      "text/plain": [
       "(3, 3.5999999999999996)"
      ]
     },
     "execution_count": 21,
     "metadata": {},
     "output_type": "execute_result"
    }
   ],
   "source": [
    "# Addition for int or float\n",
    "1 + 2, 1.2 + 2.4"
   ]
  },
  {
   "cell_type": "markdown",
   "metadata": {},
   "source": [
    "## String concatenation & Replication\n",
    "\n",
    "<p><code>+</code> not only performs addition on numbers. It also performs concatenation (combine or join operation) on two or more strings. </p>"
   ]
  },
  {
   "cell_type": "code",
   "execution_count": 22,
   "metadata": {
    "ExecuteTime": {
     "end_time": "2019-04-15T11:14:17.096565Z",
     "start_time": "2019-04-15T11:14:17.072578Z"
    }
   },
   "outputs": [
    {
     "data": {
      "text/plain": [
       "'BruceWayne'"
      ]
     },
     "execution_count": 22,
     "metadata": {},
     "output_type": "execute_result"
    }
   ],
   "source": [
    "# Concatenation for string data type\n",
    "'Bruce' + 'Wayne'"
   ]
  },
  {
   "cell_type": "markdown",
   "metadata": {},
   "source": [
    " <p style=\"color:red;\">If you try to use the + operator on a string and an integer value, Python will not know how to handle this, and it will display an error message</p>"
   ]
  },
  {
   "cell_type": "code",
   "execution_count": 23,
   "metadata": {
    "ExecuteTime": {
     "end_time": "2019-04-15T11:14:17.237485Z",
     "start_time": "2019-04-15T11:14:17.102561Z"
    }
   },
   "outputs": [
    {
     "ename": "TypeError",
     "evalue": "must be str, not int",
     "output_type": "error",
     "traceback": [
      "\u001b[1;31m---------------------------------------------------------------------------\u001b[0m",
      "\u001b[1;31mTypeError\u001b[0m                                 Traceback (most recent call last)",
      "\u001b[1;32m<ipython-input-23-1d945ca000fe>\u001b[0m in \u001b[0;36m<module>\u001b[1;34m()\u001b[0m\n\u001b[1;32m----> 1\u001b[1;33m \u001b[1;34m'Bruce'\u001b[0m \u001b[1;33m+\u001b[0m \u001b[1;36m42\u001b[0m\u001b[1;33m\u001b[0m\u001b[0m\n\u001b[0m",
      "\u001b[1;31mTypeError\u001b[0m: must be str, not int"
     ]
    }
   ],
   "source": [
    "'Bruce' + 42"
   ]
  },
  {
   "cell_type": "markdown",
   "metadata": {
    "ExecuteTime": {
     "end_time": "2018-06-27T09:34:50.278962Z",
     "start_time": "2018-06-27T09:34:50.270964Z"
    }
   },
   "source": [
    "The `*` operator when used on one string value and one integer value becomes string replication operator."
   ]
  },
  {
   "cell_type": "code",
   "execution_count": 24,
   "metadata": {
    "ExecuteTime": {
     "end_time": "2019-04-15T11:14:39.994940Z",
     "start_time": "2019-04-15T11:14:39.987948Z"
    }
   },
   "outputs": [
    {
     "data": {
      "text/plain": [
       "10"
      ]
     },
     "execution_count": 24,
     "metadata": {},
     "output_type": "execute_result"
    }
   ],
   "source": [
    "2*5"
   ]
  },
  {
   "cell_type": "code",
   "execution_count": 25,
   "metadata": {
    "ExecuteTime": {
     "end_time": "2019-04-15T11:14:41.355006Z",
     "start_time": "2019-04-15T11:14:41.347011Z"
    }
   },
   "outputs": [
    {
     "data": {
      "text/plain": [
       "'BatmanBatmanBatmanBatmanBatman'"
      ]
     },
     "execution_count": 25,
     "metadata": {},
     "output_type": "execute_result"
    }
   ],
   "source": [
    "'Batman'*5"
   ]
  },
  {
   "cell_type": "markdown",
   "metadata": {
    "ExecuteTime": {
     "end_time": "2018-06-27T09:36:49.908939Z",
     "start_time": "2018-06-27T09:36:49.900963Z"
    }
   },
   "source": [
    "# **Varaibles**\n",
    "\n",
    "- It's like a box in the computer’s memory where we can store values.\n",
    "\n",
    "**Variable Names** are case sensitive.<br>We  can name a variable anything as long as it obeys the following three rules:\n",
    "\n",
    "- It can be only one word.\n",
    "- It can use only letters, numbers, and the underscore `_` character.\n",
    "- It can’t begin with a number.\n",
    "\n",
    "e.g. of *invalid variable names*: \t\n",
    "`current-balance, current balance 4account, total_$um, 'batman'`"
   ]
  },
  {
   "cell_type": "markdown",
   "metadata": {},
   "source": [
    "# `Hello world` - First Python program\n",
    "\n",
    "Let's write our first python program. The explanation for each line of code is given below as well."
   ]
  },
  {
   "cell_type": "code",
   "execution_count": 38,
   "metadata": {
    "ExecuteTime": {
     "end_time": "2019-04-15T11:16:05.324298Z",
     "start_time": "2019-04-15T11:16:00.091599Z"
    }
   },
   "outputs": [
    {
     "name": "stdout",
     "output_type": "stream",
     "text": [
      "Hello world!\n",
      "What is your name?\n",
      "Super Man\n",
      "It is good to meet you, Super Man\n",
      "The length of your name is:\n",
      "9\n",
      "What is your age?\n",
      "40\n",
      "<class 'str'>\n",
      "You will be 41 in a year.\n"
     ]
    }
   ],
   "source": [
    "# This program says hello and asks for my name.\n",
    "\n",
    "print('Hello world!')\n",
    "print('What is your name?')    # ask for their name\n",
    "myName = input()\n",
    "print('It is good to meet you, ' + myName)\n",
    "print('The length of your name is:')\n",
    "print(len(myName))\n",
    "print('What is your age?')    # ask for their age\n",
    "myAge = input()\n",
    "print (type(myAge))\n",
    "print('You will be ' + str(int(myAge) + 1) + ' in a year.')"
   ]
  },
  {
   "cell_type": "markdown",
   "metadata": {},
   "source": [
    "### Program Breakdown"
   ]
  },
  {
   "cell_type": "markdown",
   "metadata": {},
   "source": [
    "#### Comments"
   ]
  },
  {
   "cell_type": "markdown",
   "metadata": {
    "ExecuteTime": {
     "end_time": "2018-06-27T09:43:38.683366Z",
     "start_time": "2018-06-27T09:43:38.675388Z"
    }
   },
   "source": [
    "The following line is called a comment. Python ignores comments, and you can use them to write notes or remind yourself what the code is trying to do. Any text for the rest of the line following a hash mark `#` is part of a comment."
   ]
  },
  {
   "cell_type": "code",
   "execution_count": 27,
   "metadata": {
    "ExecuteTime": {
     "end_time": "2019-04-15T11:14:43.227178Z",
     "start_time": "2019-04-15T11:14:43.223177Z"
    }
   },
   "outputs": [],
   "source": [
    "# This program says hello and asks for my name."
   ]
  },
  {
   "cell_type": "markdown",
   "metadata": {},
   "source": [
    "To comment across multiple lies, we can use triple quotes (could be single `'''` or double `\"\"\"`)"
   ]
  },
  {
   "cell_type": "code",
   "execution_count": 28,
   "metadata": {
    "ExecuteTime": {
     "end_time": "2019-04-15T11:14:43.298145Z",
     "start_time": "2019-04-15T11:14:43.293137Z"
    }
   },
   "outputs": [
    {
     "name": "stdout",
     "output_type": "stream",
     "text": [
      "Hello\n"
     ]
    }
   ],
   "source": [
    "'''This line is part of multine comment\n",
    "\n",
    "This line is also part of multiline comment\n",
    "\n",
    "Again, this line as well is a multiline comment'''\n",
    "\n",
    "print ('Hello')"
   ]
  },
  {
   "cell_type": "markdown",
   "metadata": {},
   "source": [
    "#### `print()` function"
   ]
  },
  {
   "cell_type": "markdown",
   "metadata": {},
   "source": [
    "The `print()` function displays the `string` value inside the parentheses on the screen. Notice that the quotes are not printed to the screen. They just mark where the string begins and ends; they are not part of the string value."
   ]
  },
  {
   "cell_type": "code",
   "execution_count": 39,
   "metadata": {
    "ExecuteTime": {
     "end_time": "2019-04-15T11:16:13.194367Z",
     "start_time": "2019-04-15T11:16:13.187371Z"
    }
   },
   "outputs": [
    {
     "name": "stdout",
     "output_type": "stream",
     "text": [
      "Hello world!\n",
      "What is your name?\n"
     ]
    }
   ],
   "source": [
    "print('Hello world!')\n",
    "print('What is your name?')    # ask for their name"
   ]
  },
  {
   "cell_type": "markdown",
   "metadata": {},
   "source": [
    "#### `input()` function"
   ]
  },
  {
   "cell_type": "markdown",
   "metadata": {},
   "source": [
    "The `input()` function waits for the user to type some text on the keyboard and press ENTER key.\n",
    "The user input will then be stored in `myName` variable"
   ]
  },
  {
   "cell_type": "code",
   "execution_count": 40,
   "metadata": {
    "ExecuteTime": {
     "end_time": "2019-04-15T11:16:17.540103Z",
     "start_time": "2019-04-15T11:16:15.428625Z"
    }
   },
   "outputs": [
    {
     "name": "stdout",
     "output_type": "stream",
     "text": [
      "Super Man\n"
     ]
    }
   ],
   "source": [
    "myName = input()"
   ]
  },
  {
   "cell_type": "markdown",
   "metadata": {},
   "source": [
    "The expression `'It is good to meet you, ' + myName` is evaluated and is `print`ed on the screen."
   ]
  },
  {
   "cell_type": "code",
   "execution_count": 41,
   "metadata": {
    "ExecuteTime": {
     "end_time": "2019-04-15T11:16:24.953407Z",
     "start_time": "2019-04-15T11:16:24.946392Z"
    }
   },
   "outputs": [
    {
     "name": "stdout",
     "output_type": "stream",
     "text": [
      "It is good to meet you, Super Man\n"
     ]
    }
   ],
   "source": [
    "print('It is good to meet you, ' + myName)"
   ]
  },
  {
   "cell_type": "markdown",
   "metadata": {},
   "source": [
    "#### `len()` function"
   ]
  },
  {
   "cell_type": "markdown",
   "metadata": {},
   "source": [
    "The `len()` function returns the number of characters in the given string."
   ]
  },
  {
   "cell_type": "code",
   "execution_count": 42,
   "metadata": {
    "ExecuteTime": {
     "end_time": "2019-04-15T11:16:26.048484Z",
     "start_time": "2019-04-15T11:16:26.042486Z"
    }
   },
   "outputs": [
    {
     "name": "stdout",
     "output_type": "stream",
     "text": [
      "The length of your name is:\n",
      "9\n"
     ]
    }
   ],
   "source": [
    "print('The length of your name is:')\n",
    "print(len(myName))"
   ]
  },
  {
   "cell_type": "markdown",
   "metadata": {},
   "source": [
    "#### type() function"
   ]
  },
  {
   "cell_type": "markdown",
   "metadata": {},
   "source": [
    "The `type()` function returns the data type of the value given"
   ]
  },
  {
   "cell_type": "code",
   "execution_count": 44,
   "metadata": {
    "ExecuteTime": {
     "end_time": "2019-04-15T11:16:32.940009Z",
     "start_time": "2019-04-15T11:16:31.410580Z"
    }
   },
   "outputs": [
    {
     "name": "stdout",
     "output_type": "stream",
     "text": [
      "What is your age?\n",
      "40\n",
      "<class 'str'>\n"
     ]
    }
   ],
   "source": [
    "print('What is your age?')    # ask for their age\n",
    "myAge = input()\n",
    "print (type(myAge))           # the input functions usually returns a string data type"
   ]
  },
  {
   "cell_type": "markdown",
   "metadata": {},
   "source": [
    "#### `str(), int(), float()` functions"
   ]
  },
  {
   "cell_type": "markdown",
   "metadata": {},
   "source": [
    "These functions are used to change the data types of the values. <br>\n",
    "As the `input()` function returns `str` data, `myAge` variable is of `str` data type. <br>\n",
    "To add a numerical value to it, the value should be converted to `int`.<br> \n",
    "After performing the addition, the `int` value is converted back to `str` again so that it can be concatenated with other strings."
   ]
  },
  {
   "cell_type": "code",
   "execution_count": 45,
   "metadata": {
    "ExecuteTime": {
     "end_time": "2019-04-15T11:16:34.420899Z",
     "start_time": "2019-04-15T11:16:34.412904Z"
    }
   },
   "outputs": [
    {
     "name": "stdout",
     "output_type": "stream",
     "text": [
      "You will be 41 in a year.\n"
     ]
    }
   ],
   "source": [
    "print('You will be ' + str(int(myAge) + 1) + ' in a year.')"
   ]
  },
  {
   "cell_type": "markdown",
   "metadata": {},
   "source": [
    "# Task  1 "
   ]
  },
  {
   "cell_type": "markdown",
   "metadata": {},
   "source": [
    "Now, let's take a break from learning and start testing what we have learnt. \n",
    "\n",
    "- Open <code><font style=\"color:#FF8b33\">1-Python-Notes-Exercise</font></code>  > `3. Create shapes` and follow the instructions. \n",
    "- If you are new to python `turtle`, read upon `import turtle` and `Move the turtle` written on top of the same page. \n",
    "\n",
    "Upon completion, return back to this section."
   ]
  },
  {
   "cell_type": "markdown",
   "metadata": {},
   "source": [
    "To view and download the *tasks* in `HTML` : <a href=\"https://prasanth-ntu.github.io/html/learn-python/1-Python-Notes-Exercise.html\" target=\"_blank\">Click here</a> and in `GITHUB` : <a href=\"https://prasanth-ntu.github.io/html/learn-python/1-Python-Notes-Exercise.ipynb\" target=\"_blank\">Click here</a>"
   ]
  }
 ],
 "metadata": {
  "kernelspec": {
   "display_name": "Python3",
   "language": "python",
   "name": "python3"
  },
  "language_info": {
   "codemirror_mode": {
    "name": "ipython",
    "version": 3
   },
   "file_extension": ".py",
   "mimetype": "text/x-python",
   "name": "python",
   "nbconvert_exporter": "python",
   "pygments_lexer": "ipython3",
   "version": "3.6.1"
  },
  "toc": {
   "base_numbering": 1,
   "nav_menu": {},
   "number_sections": true,
   "sideBar": true,
   "skip_h1_title": false,
   "title_cell": "Table of Contents",
   "title_sidebar": "Contents",
   "toc_cell": false,
   "toc_position": {
    "height": "calc(100% - 180px)",
    "left": "10px",
    "top": "150px",
    "width": "267px"
   },
   "toc_section_display": true,
   "toc_window_display": true
  }
 },
 "nbformat": 4,
 "nbformat_minor": 2
}

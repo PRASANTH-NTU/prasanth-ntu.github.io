{
 "cells": [
  {
   "cell_type": "markdown",
   "metadata": {},
   "source": [
    "# import turtle"
   ]
  },
  {
   "cell_type": "markdown",
   "metadata": {},
   "source": [
    "- The `import` statements in Python are similar (but different) to the `#include` statements in C: they allow us to use `modules` defined elsewhere (either in a standard module, or our own)\n",
    "- Using `import`, Python code in one module gains access to the all the code (functions, variables, classes, etc.) in another module"
   ]
  },
  {
   "cell_type": "code",
   "execution_count": 1,
   "metadata": {
    "ExecuteTime": {
     "end_time": "2018-09-29T17:24:15.029545Z",
     "start_time": "2018-09-29T17:24:14.974574Z"
    }
   },
   "outputs": [],
   "source": [
    "from turtle import *"
   ]
  },
  {
   "cell_type": "markdown",
   "metadata": {},
   "source": [
    "The above line imports all features of the `turtle` module into our programming. "
   ]
  },
  {
   "cell_type": "markdown",
   "metadata": {},
   "source": [
    "A quick intro on what `turtle` module is\n",
    "    - https://docs.python.org/3.3/library/turtle.html?highlight=turtle#changes-since-python-3-0\n",
    "    - Turtle graphics is a popular way used for introducing programming to kids\n",
    "    - Intricate shapes and pictures can easily be drawn\n",
    "    - Enables the programmer to use all the commands, classes and methods interactively"
   ]
  },
  {
   "cell_type": "markdown",
   "metadata": {},
   "source": [
    "# Turtle functions"
   ]
  },
  {
   "cell_type": "markdown",
   "metadata": {},
   "source": [
    "https://docs.python.org/3.3/library/turtle.html?highlight=turtle#turtle-methods"
   ]
  },
  {
   "cell_type": "code",
   "execution_count": 7,
   "metadata": {
    "ExecuteTime": {
     "end_time": "2018-09-29T17:23:55.972952Z",
     "start_time": "2018-09-29T17:23:55.765206Z"
    }
   },
   "outputs": [],
   "source": [
    "reset()"
   ]
  },
  {
   "cell_type": "code",
   "execution_count": 8,
   "metadata": {
    "ExecuteTime": {
     "end_time": "2018-09-29T17:23:56.107082Z",
     "start_time": "2018-09-29T17:23:55.977694Z"
    }
   },
   "outputs": [],
   "source": [
    "forward(100)    # fd(100)"
   ]
  },
  {
   "cell_type": "code",
   "execution_count": 9,
   "metadata": {
    "ExecuteTime": {
     "end_time": "2018-09-29T17:23:56.224449Z",
     "start_time": "2018-09-29T17:23:56.110503Z"
    }
   },
   "outputs": [],
   "source": [
    "backward(100)   # bk(100)"
   ]
  },
  {
   "cell_type": "code",
   "execution_count": 10,
   "metadata": {
    "ExecuteTime": {
     "end_time": "2018-09-29T17:23:56.487643Z",
     "start_time": "2018-09-29T17:23:56.229431Z"
    }
   },
   "outputs": [],
   "source": [
    "right(180)      # rt(180)"
   ]
  },
  {
   "cell_type": "code",
   "execution_count": 11,
   "metadata": {
    "ExecuteTime": {
     "end_time": "2018-09-29T17:23:57.021423Z",
     "start_time": "2018-09-29T17:23:56.724282Z"
    }
   },
   "outputs": [],
   "source": [
    "left(180)       # lt(180)"
   ]
  },
  {
   "cell_type": "code",
   "execution_count": 12,
   "metadata": {
    "ExecuteTime": {
     "end_time": "2018-09-29T17:23:57.981814Z",
     "start_time": "2018-09-29T17:23:57.328381Z"
    }
   },
   "outputs": [],
   "source": [
    "reset()\n",
    "speed(1)\n",
    "goto(100,100) #setpos(100,100) #setposition(100,100)"
   ]
  },
  {
   "cell_type": "code",
   "execution_count": 2,
   "metadata": {
    "ExecuteTime": {
     "end_time": "2018-09-29T17:24:19.707249Z",
     "start_time": "2018-09-29T17:24:18.696595Z"
    }
   },
   "outputs": [],
   "source": [
    "reset()\n",
    "speed(1)\n",
    "penup()\n",
    "goto(100,100)\n",
    "pendown()"
   ]
  },
  {
   "cell_type": "code",
   "execution_count": 4,
   "metadata": {
    "ExecuteTime": {
     "end_time": "2018-09-29T17:24:51.213836Z",
     "start_time": "2018-09-29T17:24:41.087943Z"
    }
   },
   "outputs": [
    {
     "name": "stdout",
     "output_type": "stream",
     "text": [
      "0\n",
      "1\n",
      "2\n",
      "3\n",
      "4\n",
      "5\n",
      "6\n",
      "7\n",
      "8\n",
      "9\n"
     ]
    }
   ],
   "source": [
    "for i in range(10):\n",
    "    print (i)\n",
    "    fd(100)\n",
    "    rt(90)"
   ]
  },
  {
   "cell_type": "code",
   "execution_count": null,
   "metadata": {},
   "outputs": [],
   "source": []
  }
 ],
 "metadata": {
  "kernelspec": {
   "display_name": "Python 3",
   "language": "python",
   "name": "python3"
  },
  "language_info": {
   "codemirror_mode": {
    "name": "ipython",
    "version": 3
   },
   "file_extension": ".py",
   "mimetype": "text/x-python",
   "name": "python",
   "nbconvert_exporter": "python",
   "pygments_lexer": "ipython3",
   "version": "3.6.1"
  },
  "toc": {
   "base_numbering": 1,
   "nav_menu": {},
   "number_sections": true,
   "sideBar": true,
   "skip_h1_title": false,
   "title_cell": "Table of Contents",
   "title_sidebar": "Contents",
   "toc_cell": false,
   "toc_position": {},
   "toc_section_display": true,
   "toc_window_display": false
  }
 },
 "nbformat": 4,
 "nbformat_minor": 2
}

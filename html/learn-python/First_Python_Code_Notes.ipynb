{
 "cells": [
  {
   "cell_type": "markdown",
   "metadata": {},
   "source": [
    "# `Hello world` - First Python program\n",
    "\n",
    "<p>Let's write our first python program. The code below is gonna print the output <code>'Hello World!'</code> on the screen. You may modify the message inside the <code>print</code> and rerun it in your computer<big><big>🤔</big></big>. <br><br>\n",
    "If you haven't installed python in your computer, read the next section below for the installation details.</p> "
   ]
  },
  {
   "cell_type": "code",
   "execution_count": 1,
   "metadata": {
    "ExecuteTime": {
     "end_time": "2019-04-15T11:52:26.789070Z",
     "start_time": "2019-04-15T11:52:26.771082Z"
    }
   },
   "outputs": [
    {
     "name": "stdout",
     "output_type": "stream",
     "text": [
      "Hello world!\n"
     ]
    }
   ],
   "source": [
    "print ('Hello world!')"
   ]
  },
  {
   "cell_type": "markdown",
   "metadata": {},
   "source": [
    "# Second Python program"
   ]
  },
  {
   "cell_type": "markdown",
   "metadata": {},
   "source": [
    "<p>We can produce multiple outputs on the screen by using multiple <code>print</code> statement. By now, it should be obvious that the statement displays whatever message is inside the <code>()</code>.</p>"
   ]
  },
  {
   "cell_type": "code",
   "execution_count": 3,
   "metadata": {
    "ExecuteTime": {
     "end_time": "2019-04-15T11:56:21.368259Z",
     "start_time": "2019-04-15T11:56:21.359243Z"
    }
   },
   "outputs": [
    {
     "name": "stdout",
     "output_type": "stream",
     "text": [
      "My name is Batman\n",
      "I love in Gotham City\n",
      "Alfred is my Butler\n"
     ]
    }
   ],
   "source": [
    "print ('My name is Batman')\n",
    "print ('I love in Gotham City')\n",
    "print ('Alfred is my Butler')"
   ]
  }
 ],
 "metadata": {
  "kernelspec": {
   "display_name": "Python3",
   "language": "python",
   "name": "python3"
  },
  "language_info": {
   "codemirror_mode": {
    "name": "ipython",
    "version": 3
   },
   "file_extension": ".py",
   "mimetype": "text/x-python",
   "name": "python",
   "nbconvert_exporter": "python",
   "pygments_lexer": "ipython3",
   "version": "3.6.1"
  },
  "toc": {
   "base_numbering": 1,
   "nav_menu": {},
   "number_sections": true,
   "sideBar": true,
   "skip_h1_title": false,
   "title_cell": "Table of Contents",
   "title_sidebar": "Contents",
   "toc_cell": false,
   "toc_position": {},
   "toc_section_display": true,
   "toc_window_display": true
  }
 },
 "nbformat": 4,
 "nbformat_minor": 2
}

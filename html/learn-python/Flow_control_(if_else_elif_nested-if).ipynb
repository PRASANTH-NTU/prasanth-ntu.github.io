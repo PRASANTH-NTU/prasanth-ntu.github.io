{
 "cells": [
  {
   "cell_type": "markdown",
   "metadata": {},
   "source": [
    "For Full screen view, <a href=\"https://prasanth-ntu.github.io/html/learn-python/Flow_control_(if_else_elif_nested-if).html\" target=\"_blank\">Click here</a>. To download the notebook from `GITHUB` : <a href=\"https://prasanth-ntu.github.io/html/learn-python/Flow_control_(if_else_elif_nested-if).ipynb\" target=\"_blank\">Click here</a>. \n",
    "<i>To go back to Learn Python website</i>,  <a href=\"https://prasanth-ntu.github.io/html/learn-python/learn-python-3.html\" target=\"_blank\">Click here</a>"
   ]
  },
  {
   "cell_type": "markdown",
   "metadata": {},
   "source": [
    "<p style=\"font-size:110%\">In this post, we will learn about\n",
    "\n",
    "<ul>\n",
    "    <li><span style=\"font-size:110%\">Operators</span></li>\n",
    "    <ul style=\"font-size:100%\">\t\t\t\t\n",
    "        <li><b style=\"font-size:100%\"><a href=\"#Comparison Operators\">Comparison Operators</a></b> - How to compare values?</li>\n",
    "        <li><b style=\"font-size:100%\"><a href=\"#Boolean Operators\">Boolean Operators</a></b> - How to combine multiple conditions?</li><br>\n",
    "    </ul>\n",
    "    <li><span style=\"font-size:110%\">Flow Control</span></li>\n",
    "    <ul style=\"font-size:100%\">\t\t\t\n",
    "        <li><b style=\"font-size:100%\"><a href=\"#if\">if</a></b> - Makes a single decision</li> \n",
    "        <li><b style=\"font-size:100%\"><a href=\"#else\">else</a></b> - Makes either or decision</li> \n",
    "        <li><b style=\"font-size:100%\"><a href=\"#elif\">elif</a></b> - Makes multiple (3 or more) decisions</li> \n",
    "        <li><b style=\"font-size:100%\"><a href=\"#nested if\">nested if</a></b> - Condition inside a condition</li> \n",
    "    </ul>\n",
    "</ul>\n",
    "</p>\n"
   ]
  },
  {
   "cell_type": "markdown",
   "metadata": {},
   "source": [
    "# Operators"
   ]
  },
  {
   "cell_type": "markdown",
   "metadata": {},
   "source": [
    "<a id=\"Comparison Operators\"></a>\n",
    "## Comparison Operators"
   ]
  },
  {
   "cell_type": "markdown",
   "metadata": {
    "ExecuteTime": {
     "end_time": "2019-04-20T11:44:07.479975Z",
     "start_time": "2019-04-20T11:44:07.455986Z"
    }
   },
   "source": [
    "<p> The table below shows the commonly used Comparison operators used to compare values in Python.</p>\n",
    "<table style=\"max-width:100%;margin-left:10%;border: 1px solid black; font-size:110%\">\n",
    "    <caption style=\"text-align: center\"><b> Comparison Operators </b></caption>\n",
    "    <tr>\n",
    "        <td style=\"color:blue; background-color:rgb(80, 80, 80); color:white; text-align: center\">Operator</td>\n",
    "        <td style=\"color:blue; background-color:rgb(80, 80, 80); color:white; text-align: center\">Description</td>  \n",
    "        <td style=\"color:blue; background-color:rgb(80, 80, 80); color:white; text-align: center\">Example</td>  \n",
    "        <td style=\"color:blue; background-color:rgb(80, 80, 80); color:white; text-align: center\">Output</td>  \n",
    "\n",
    "\n",
    "    </tr>\n",
    "    <tr style=\"color:black;text-align: center\">\n",
    "        <td style=\"text-align: center\"><code><</code></td>\n",
    "        <td style=\"text-align: center\">Less than</td>\n",
    "        <td style=\"text-align: center\"><code>5<4 </code></td>\n",
    "        <td style=\"text-align: center\"><code>False</code></td>\n",
    "\n",
    "    </tr>\n",
    "    <tr style=\"color:black;text-align: center\">\n",
    "        <td style=\"text-align: center\"><code>></code></td>\n",
    "        <td style=\"text-align: center\">Greater than</td>\n",
    "        <td style=\"text-align: center\"><code>5>4 </code></td>\n",
    "        <td style=\"text-align: center\"><code>True</code></td>\n",
    "\n",
    "    </tr>\n",
    "    <tr style=\"color:black;text-align: center\">\n",
    "        <td style=\"text-align: center\"><code><=</code></td>\n",
    "        <td style=\"text-align: center\">Less than or equal to</td>\n",
    "        <td style=\"text-align: center\"><code>5<=4</code></td>\n",
    "        <td style=\"text-align: center\"><code>False</code></td>\n",
    "    </tr>\n",
    "    <tr style=\"color:black;text-align: center\">\n",
    "        <td style=\"text-align: center\"><code>>=</code></td>\n",
    "        <td style=\"text-align: center\">Greater than or equal to</td>\n",
    "        <td style=\"text-align: center\"><code>5>=4</code></td>\n",
    "        <td style=\"text-align: center\"><code>True</code></td>\n",
    "    </tr>\n",
    "    <tr style=\"color:black;text-align: center\">\n",
    "        <td style=\"text-align: center\"><code>==</code></td>\n",
    "        <td style=\"text-align: center\">Equal to</td>\n",
    "        <td style=\"text-align: center\"><code>5==4</code></td>\n",
    "        <td style=\"text-align: center\"><code>False</code></td>\n",
    "    </tr>\n",
    "    <tr style=\"color:black;text-align: center\">\n",
    "        <td style=\"text-align: center\"><code>!=</code></td>\n",
    "        <td style=\"text-align: center\">Not equal to</td>\n",
    "        <td style=\"text-align: center\"><code>5!=4</code></td>\n",
    "        <td style=\"text-align: center\"><code>False</code></td>\n",
    "    </tr>\n",
    "</table>"
   ]
  },
  {
   "cell_type": "code",
   "execution_count": 1,
   "metadata": {
    "ExecuteTime": {
     "end_time": "2019-04-27T14:57:46.925246Z",
     "start_time": "2019-04-27T14:57:46.904256Z"
    }
   },
   "outputs": [
    {
     "name": "stdout",
     "output_type": "stream",
     "text": [
      "5<4 => False\n",
      "><4 => True\n",
      "5<=4 => False\n",
      "5>=4 => True\n",
      "5==4 => False\n",
      "5!=4 => True\n"
     ]
    }
   ],
   "source": [
    "# Comparison operators - Example\n",
    "print ('5<4 =>', 5<4)\n",
    "print ('><4 =>', 5>4)\n",
    "print ('5<=4 =>', 5<=4)\n",
    "print ('5>=4 =>', 5>=4)\n",
    "print ('5==4 =>', 5==4)\n",
    "print ('5!=4 =>', 5!=4)"
   ]
  },
  {
   "cell_type": "code",
   "execution_count": 2,
   "metadata": {
    "ExecuteTime": {
     "end_time": "2019-04-27T14:57:46.947233Z",
     "start_time": "2019-04-27T14:57:46.928243Z"
    }
   },
   "outputs": [
    {
     "name": "stdout",
     "output_type": "stream",
     "text": [
      "True\n",
      "True\n"
     ]
    }
   ],
   "source": [
    "# We can also compare string and other types\n",
    "print ( 'apple'!='banana')\n",
    "print ([1,2]==[1,2])"
   ]
  },
  {
   "cell_type": "markdown",
   "metadata": {},
   "source": [
    "<a id=\"Boolean Operators\"></a>\n",
    "## Boolean Operators"
   ]
  },
  {
   "cell_type": "markdown",
   "metadata": {
    "ExecuteTime": {
     "end_time": "2019-04-27T09:21:32.969440Z",
     "start_time": "2019-04-27T09:21:32.937449Z"
    }
   },
   "source": [
    "<p> The table below shows the 3 types of Boolean Operators used to combine multiple conditions.</p>\n",
    "<table style=\"max-width:100%;margin-left:10%;border: 1px solid black; font-size:110%\">\n",
    "    <caption style=\"text-align: center\"><b> Boolean Operators </b></caption>\n",
    "    <tr>\n",
    "        <td style=\"color:blue; background-color:rgb(80, 80, 80); color:white; text-align: center\">Operator</td>\n",
    "        <td style=\"color:blue; background-color:rgb(80, 80, 80); color:white; text-align: center\">Description</td>  \n",
    "        <td style=\"color:blue; background-color:rgb(80, 80, 80); color:white; text-align: center\">Example</td>  \n",
    "        <td style=\"color:blue; background-color:rgb(80, 80, 80); color:white; text-align: center\">Output</td>  \n",
    "\n",
    "    </tr>\n",
    "    <tr style=\"color:black;text-align: center\">\n",
    "        <td style=\"text-align: center\"><code>and</code></td>\n",
    "        <td style=\"text-align: center\">True if all the values are True</td>\n",
    "        <td style=\"text-align: center\"><code>5>4 and 4>3 </code></td>\n",
    "        <td style=\"text-align: center\"><code>True and True => True</code></td>\n",
    "\n",
    "    </tr>\n",
    "    <tr style=\"color:black;text-align: center\">\n",
    "        <td style=\"text-align: center\"><code></code></td>\n",
    "        <td style=\"text-align: center\"></td>\n",
    "        <td style=\"text-align: center\"><code>5>4 and 4<3</code></td>\n",
    "        <td style=\"text-align: center\"><code>True and False => False</code></td>\n",
    "\n",
    "    </tr>\n",
    "    <tr style=\"color:black;text-align: center\">\n",
    "        <td style=\"text-align: center\"><code>or</code></td>\n",
    "        <td style=\"text-align: center\">True as long as one value is True</td>\n",
    "        <td style=\"text-align: center\"><code>5>4 or 4>3</code></td>\n",
    "        <td style=\"text-align: center\"><code>True or True => True</code></td>\n",
    "    </tr>\n",
    "    <tr style=\"color:black;text-align: center\">\n",
    "        <td style=\"text-align: center\"><code></code></td>\n",
    "        <td style=\"text-align: center\"></td>\n",
    "        <td style=\"text-align: center\"><code>5>4 or 4<3</code></td>\n",
    "        <td style=\"text-align: center\"><code>True or False => True</code></td>\n",
    "    </tr>\n",
    "    <tr style=\"color:black;text-align: center\">\n",
    "        <td style=\"text-align: center\"><code>not</code></td>\n",
    "        <td style=\"text-align: center\">Flips the boolean value</td>\n",
    "        <td style=\"text-align: center\"><code>not(True)</code></td>\n",
    "        <td style=\"text-align: center\"><code>False</code></td>\n",
    "    </tr>\n",
    "    <tr style=\"color:black;text-align: center\">\n",
    "        <td style=\"text-align: center\"><code></code></td>\n",
    "        <td style=\"text-align: center\"></td>\n",
    "        <td style=\"text-align: center\"><code>not(False)</code></td>\n",
    "        <td style=\"text-align: center\"><code>True</code></td>\n",
    "    </tr>\n",
    "</table>"
   ]
  },
  {
   "cell_type": "code",
   "execution_count": 3,
   "metadata": {
    "ExecuteTime": {
     "end_time": "2019-04-27T14:57:46.978214Z",
     "start_time": "2019-04-27T14:57:46.951229Z"
    }
   },
   "outputs": [
    {
     "name": "stdout",
     "output_type": "stream",
     "text": [
      "### and ###\n",
      "True\n",
      "False\n"
     ]
    }
   ],
   "source": [
    "print ('### and ###')\n",
    "print (5>4 and 4>3)  # True\n",
    "print (5>4 and 4<3)  # False "
   ]
  },
  {
   "cell_type": "code",
   "execution_count": 4,
   "metadata": {
    "ExecuteTime": {
     "end_time": "2019-04-27T14:57:47.006200Z",
     "start_time": "2019-04-27T14:57:46.982213Z"
    }
   },
   "outputs": [
    {
     "name": "stdout",
     "output_type": "stream",
     "text": [
      "### or ###\n",
      "True\n",
      "True\n"
     ]
    }
   ],
   "source": [
    "print ('### or ###')  \n",
    "print (5>4 or 4>3)   # True\n",
    "print (5>4 or 4<3)   # True"
   ]
  },
  {
   "cell_type": "code",
   "execution_count": 5,
   "metadata": {
    "ExecuteTime": {
     "end_time": "2019-04-27T14:57:47.029187Z",
     "start_time": "2019-04-27T14:57:47.011196Z"
    }
   },
   "outputs": [
    {
     "name": "stdout",
     "output_type": "stream",
     "text": [
      "### not ###\n",
      "False\n",
      "True\n"
     ]
    }
   ],
   "source": [
    "print ('### not ###')  \n",
    "print (not(True))    # False\n",
    "print (not(False))   # True"
   ]
  },
  {
   "cell_type": "code",
   "execution_count": 6,
   "metadata": {
    "ExecuteTime": {
     "end_time": "2019-04-27T14:57:47.060168Z",
     "start_time": "2019-04-27T14:57:47.032186Z"
    }
   },
   "outputs": [
    {
     "name": "stdout",
     "output_type": "stream",
     "text": [
      "True\n"
     ]
    }
   ],
   "source": [
    "print ('apple'=='apple' and 'apple'!='orange')"
   ]
  },
  {
   "cell_type": "markdown",
   "metadata": {},
   "source": [
    "# Flow Control"
   ]
  },
  {
   "cell_type": "markdown",
   "metadata": {},
   "source": [
    "Let's say you decided to watch a bunch of movies in your school holidays. However, each movie comes with a rating and you need to find out the movie ratings approved for your age."
   ]
  },
  {
   "cell_type": "markdown",
   "metadata": {},
   "source": [
    "<p> The table below shows MPAA (Motion Picture Association of America) Film ratings</p>\n",
    "<table style=\"max-width:100%;margin-left:0%;border: 1px solid black; font-size:100%\">\n",
    "    <caption style=\"text-align: center\"><b> US Film Ratings </b></caption>\n",
    "    <tr>\n",
    "        <td style=\"color:blue; background-color:rgb(80, 80, 80); color:white; text-align: center\">Rating Symbol</td>\n",
    "        <td style=\"color:blue; background-color:rgb(80, 80, 80); color:white; text-align: center\">Description</td>  \n",
    "        <td style=\"color:blue; background-color:rgb(80, 80, 80); color:white; text-align: center\">Meaning</td>  \n",
    "        <td style=\"color:blue; background-color:rgb(80, 80, 80); color:white; text-align: center\">Age limit?</td>  \n",
    "\n",
    "    </tr>\n",
    "    <tr style=\"color:black;text-align: center\">\n",
    "        <td style=\"text-align: center\"><code>G</code></td>\n",
    "        <td style=\"text-align: center\">General Audience</td>\n",
    "        <td style=\"text-align: center\">All ages admitted</td>\n",
    "        <td style=\"text-align: center\"><code>No age limit</code></td>\n",
    "        \n",
    "    </tr>\n",
    "    <tr style=\"color:black;text-align: center\">\n",
    "        <td style=\"text-align: center\"><code>PG</code></td>\n",
    "        <td style=\"text-align: center\">Parenal Guidance Suggested</td>\n",
    "        <td style=\"text-align: center\">Some material may not be suitable for children</td>\n",
    "        <td style=\"text-align: center\"><code>No age limit</code></td>\n",
    "     </tr>\n",
    "    <tr style=\"color:black;text-align: center\">\n",
    "        <td style=\"text-align: center\"><code>PG-13</code></td>\n",
    "        <td style=\"text-align: center\">Parents Strongly Cautioned</td>\n",
    "        <td style=\"text-align: center\">Some material may be inappropriate for children under 13</td>\n",
    "        <td style=\"text-align: center\"><code>age<13 requires adult</code></td>\n",
    "    </tr>\n",
    "    <tr style=\"color:black;text-align: center\">\n",
    "        <td style=\"text-align: center\"><code>R</code></td>\n",
    "        <td style=\"text-align: center\">Restricted</td>\n",
    "        <td style=\"text-align: center\">Under 17 requires accompanying parent or adult guardian</td>\n",
    "        <td style=\"text-align: center\"><code>age<17 requires adult</code></td>\n",
    "    </tr>\n",
    "    <tr style=\"color:black;text-align: center\">\n",
    "        <td style=\"text-align: center\"><code>NC-17</code></td>\n",
    "        <td style=\"text-align: center\">Adults only</td>\n",
    "        <td style=\"text-align: center\">No one 17 and under admitted</td>\n",
    "        <td style=\"text-align: center\"><code>age > 17</code></td>\n",
    "    </tr>\n",
    "</table>"
   ]
  },
  {
   "cell_type": "markdown",
   "metadata": {},
   "source": [
    "<a id=\"if\"></a>\n",
    "## if"
   ]
  },
  {
   "cell_type": "markdown",
   "metadata": {},
   "source": [
    "<p>Using <code>if</code> condition, we can check the movie with specific film ratings you are allowed to watch based on your age. When if condition evalues to <code>True</code>, the block of statement indented inside will get executed. <br><br>\n",
    "\n",
    "<i><u><b>Note</b></u>:<br>\n",
    "    To run a code(s) inside the <code>if</code> statement, the correspondig code(s) should be indented.</i><br>\n",
    "<ul>\n",
    "    <li><b><span style=\"color:blue;\">To indent the code, i would recommended to use a <code>tab</code> key than pressing spaces</span></b> as later on we might forget how many space keys to press to do an indentation.</li>\n",
    "    <li><b><span style=\"color:blue;\">To de-indent the code, i would recommended to using <code>shift + tab</code> key or <code>backspace</code> key.</span></b></li>\n",
    "</ul></p>"
   ]
  },
  {
   "cell_type": "code",
   "execution_count": 17,
   "metadata": {
    "ExecuteTime": {
     "end_time": "2019-04-27T15:06:18.996469Z",
     "start_time": "2019-04-27T15:06:18.989491Z"
    }
   },
   "outputs": [
    {
     "name": "stdout",
     "output_type": "stream",
     "text": [
      "You can watch movies with these ratings (on your own)  : G | PG |PG-13 | R | NC-17\n"
     ]
    }
   ],
   "source": [
    "age = 20 # Change this value and see what happens #\n",
    "if age > 17: # as long as this age>17 is True, print statement inside it will work\n",
    "    print ('You can watch movies with these ratings (on your own)  :', 'G | PG |PG-13 | R | NC-17')"
   ]
  },
  {
   "cell_type": "code",
   "execution_count": 20,
   "metadata": {
    "ExecuteTime": {
     "end_time": "2019-04-27T15:08:44.480333Z",
     "start_time": "2019-04-27T15:08:44.469360Z"
    }
   },
   "outputs": [
    {
     "name": "stdout",
     "output_type": "stream",
     "text": [
      "You can watch movies with these ratings (on your own)  : G | PG | PG-13\n",
      "You can watch movies with these ratings (with an adult): R\n",
      "You cannot watch movies with these ratings             : NC-17\n"
     ]
    }
   ],
   "source": [
    "age = 15\n",
    "if age>13 and age <=17:\n",
    "    print ('You can watch movies with these ratings (on your own)  :', 'G | PG | PG-13')\n",
    "    print ('You can watch movies with these ratings (with an adult):', 'R')\n",
    "    print ('You cannot watch movies with these ratings             :', 'NC-17')"
   ]
  },
  {
   "cell_type": "code",
   "execution_count": 16,
   "metadata": {
    "ExecuteTime": {
     "end_time": "2019-04-27T15:03:32.531095Z",
     "start_time": "2019-04-27T15:03:32.520104Z"
    }
   },
   "outputs": [
    {
     "name": "stdout",
     "output_type": "stream",
     "text": [
      "You can watch movies with these ratings (on your own)  : G | PG \n",
      "You can watch movies with these ratings (with an adult): PG-13 | R\n",
      "You cannot watch movies with these ratings             : NC-17\n"
     ]
    }
   ],
   "source": [
    "age = 13\n",
    "if age <=13:\n",
    "    print ('You can watch movies with these ratings (on your own)  :', 'G | PG ')\n",
    "    print ('You can watch movies with these ratings (with an adult):', 'PG-13 | R')\n",
    "    print ('You cannot watch movies with these ratings             :', 'NC-17')"
   ]
  },
  {
   "cell_type": "markdown",
   "metadata": {},
   "source": [
    "### multiple if\n",
    "\n",
    "<p>We can stack in multiple if conditions (one after the other). As long as the condition becomes True, the code inside (indented) will be executed.</p>"
   ]
  },
  {
   "cell_type": "code",
   "execution_count": 19,
   "metadata": {
    "ExecuteTime": {
     "end_time": "2019-04-27T15:08:42.414314Z",
     "start_time": "2019-04-27T15:08:42.405323Z"
    }
   },
   "outputs": [
    {
     "name": "stdout",
     "output_type": "stream",
     "text": [
      "You can watch movies with these ratings (on your own)  : G | PG | PG-13 | R | NC-17\n"
     ]
    }
   ],
   "source": [
    "age = 20\n",
    "if age > 17: # as long as this age>17 is True, print statement inside it will work\n",
    "    print ('You can watch movies with these ratings (on your own)  :', 'G | PG | PG-13 | R | NC-17')\n",
    "if age>13 and age <=17:\n",
    "    print ('You can watch movies with these ratings (on your own)  :', 'G | PG |PG-13')\n",
    "    print ('You can watch movies with these ratings (with an adult):', 'R')\n",
    "    print ('You cannot watch movies with these ratings             :', 'NC-17')\n",
    "if age <=13:\n",
    "    print ('You can watch movies with these ratings (on your own)  :', 'G | PG ')\n",
    "    print ('You can watch movies with these ratings (with an adult):', 'PG-13 | R')\n",
    "    print ('You cannot watch movies with these ratings             :', 'NC-17')"
   ]
  },
  {
   "cell_type": "markdown",
   "metadata": {
    "ExecuteTime": {
     "end_time": "2018-06-28T17:38:14.878641Z",
     "start_time": "2018-06-28T17:38:14.870647Z"
    }
   },
   "source": [
    "<a id=\"else\"></a>\n",
    "## else\n",
    "\n",
    "<p>When we have two conditions (this or that decision),<code> if-else</code> combo will be the best choice\n",
    "<ul>\n",
    "    <li>When <code>if</code> condition evalues to <code>True</code>, the block of statement indented inside <code>if</code> will get executed.</li>\n",
    "    <li>When <code>if</code> evaluates to <code>False</code>, the  block of statement indented inside <code>else</code> will get executed.</li>\n",
    "</ul>\n",
    "\n",
    "<span style=\"color:red;\">Unlike <code>if</code>, the <code>else</code>statement</b> doesn't take any condition.</span>\n",
    "</p>"
   ]
  },
  {
   "cell_type": "code",
   "execution_count": 21,
   "metadata": {
    "ExecuteTime": {
     "end_time": "2019-04-27T15:21:06.126023Z",
     "start_time": "2019-04-27T15:21:06.117006Z"
    }
   },
   "outputs": [
    {
     "name": "stdout",
     "output_type": "stream",
     "text": [
      "You can watch movies with these ratings (on your own)  : G | PG | PG-13 | R | NC-17\n"
     ]
    }
   ],
   "source": [
    "age = 20\n",
    "if age > 17: # as long as this age>17 is True, print statement inside it will work\n",
    "    print ('You can watch movies with these ratings (on your own)  :', 'G | PG | PG-13 | R | NC-17')\n",
    "else:\n",
    "    print ('You can watch movies with these ratings (on your own)  :', 'G | PG |PG-13')\n",
    "    print ('You can watch movies with these ratings (with an adult):', 'R')\n",
    "    print ('You cannot watch movies with these ratings             :', 'NC-17')"
   ]
  },
  {
   "cell_type": "markdown",
   "metadata": {},
   "source": [
    "<a id=\"elif\"></a>\n",
    "## elif\n",
    "\n",
    "<p>When we have three or conditions/ criteria,<code> if-elif-else</code> combo will be the best choice.\n",
    "<ul>\n",
    "    <li>When <code>if</code> condition evalues to <code>True</code>, the block of statement indented inside <code>if</code> will get executed. After that, rest of the <code>elif</code> and <code>else</code> are skiped even if some of them evaluate to <code>True</code>.</li>\n",
    "    <li>When <code>if</code> fails, the <code>elif</code> condition will be evaluated and if turns out be <code>True</code>, the  block of statement indented inside <code>elif</code> will get executed. After that, rest of the <code>elif</code> (if exists) and <code>else</code> are skiped even if some of them evaluate to <code>True</code>.</li>\n",
    "    <li>When both <code>if</code> and <code>elif</code> evaluates to <code>False</code>, the block of statement indented inside <code>else</code> will get executed.\n",
    "</ul></p>\n",
    "\n",
    "\n",
    "<span style=\"color:red;\">Unlike <code>if</code> and <code>elif</code>, the <code>else</code>statement</b> doesn't take any condition. Also, it's optional to have <code>else</code> statement.</span><br>\n",
    "<span style=\"color:green;\">Unlike <code>if</code>, we can have multiple <code>elif</code> conditions following a single<code>if</code> condition. \n",
    "</p>"
   ]
  },
  {
   "cell_type": "code",
   "execution_count": 22,
   "metadata": {
    "ExecuteTime": {
     "end_time": "2019-04-27T15:26:51.061612Z",
     "start_time": "2019-04-27T15:26:51.052617Z"
    }
   },
   "outputs": [
    {
     "name": "stdout",
     "output_type": "stream",
     "text": [
      "You can watch movies with these ratings (on your own)  : G | PG | PG-13 | R | NC-17\n"
     ]
    }
   ],
   "source": [
    "age = 20\n",
    "if age > 17:\n",
    "    print ('You can watch movies with these ratings (on your own)  :', 'G | PG | PG-13 | R | NC-17')\n",
    "elif age > 13: # <=> elif age >13 and age<=17\n",
    "    print ('You can watch movies with these ratings (on your own)  :', 'G | PG |PG-13')\n",
    "    print ('You can watch movies with these ratings (with an adult):', 'R')\n",
    "    print ('You cannot watch movies with these ratings             :', 'NC-17')\n",
    "else: # <=> elif age <=13\n",
    "    print ('You can watch movies with these ratings (on your own)  :', 'G | PG ')\n",
    "    print ('You can watch movies with these ratings (with an adult):', 'PG-13 | R')\n",
    "    print ('You cannot watch movies with these ratings             :', 'NC-17')"
   ]
  },
  {
   "cell_type": "markdown",
   "metadata": {
    "ExecuteTime": {
     "end_time": "2019-04-27T15:27:46.282829Z",
     "start_time": "2019-04-27T15:27:46.275831Z"
    }
   },
   "source": [
    "<p>In the above code, I haven't included the red portion in <code>elif <b><span style=\"color:red;\">age <= 17 and </span></b>age > 13</code>. However, the code still works perfectly. How? <br><br>\n",
    "\n",
    "Since the <code>if age > 17</code> evaluates to <code>True</code> for any age more than 17, it's redundant to mention the <span style=\"color:red;\">age <= 17</span> condition in elif statment.</p>"
   ]
  },
  {
   "cell_type": "markdown",
   "metadata": {},
   "source": [
    "<a id=\"nested if\"></a>\n",
    "## nested if\n",
    "\n",
    "<p>We can have <code>if-else</code> inside another <code>if-else</code> and we can keep nesting them. The deeper the nest gets, the harder it will be to debug and trace.</p>"
   ]
  },
  {
   "cell_type": "code",
   "execution_count": 24,
   "metadata": {
    "ExecuteTime": {
     "end_time": "2019-04-27T15:37:55.844787Z",
     "start_time": "2019-04-27T15:37:48.651901Z"
    }
   },
   "outputs": [
    {
     "name": "stdout",
     "output_type": "stream",
     "text": [
      "Enter user name: james bond\n",
      "Enter pass word: 007\n",
      "Access granted\n"
     ]
    }
   ],
   "source": [
    "user_name = input('Enter user name: ')      # james bond\n",
    "pass_word = input('Enter pass word: ')      # 007\n",
    "if user_name == 'james bond':\n",
    "    if pass_word == '007':\n",
    "        print ('Access granted')\n",
    "    else:\n",
    "        print ('Access denied. Wrong password')\n",
    "else:\n",
    "     print ('Access denied. Wrong username')"
   ]
  },
  {
   "cell_type": "markdown",
   "metadata": {
    "ExecuteTime": {
     "end_time": "2018-06-28T17:48:00.330476Z",
     "start_time": "2018-06-28T17:48:00.323501Z"
    }
   },
   "source": [
    "The above code could be re-witten as follows using `boolean` and `comparison operators` making it easy to read and follow up."
   ]
  },
  {
   "cell_type": "code",
   "execution_count": 25,
   "metadata": {
    "ExecuteTime": {
     "end_time": "2019-04-27T15:38:20.781547Z",
     "start_time": "2019-04-27T15:38:13.507974Z"
    }
   },
   "outputs": [
    {
     "name": "stdout",
     "output_type": "stream",
     "text": [
      "Enter user name: james bond\n",
      "Enter pass word: 007\n",
      "Access granted\n"
     ]
    }
   ],
   "source": [
    "user_name = input('Enter user name: ')      # james bond\n",
    "pass_word = input('Enter pass word: ')      # 007\n",
    "if user_name == 'james bond' and pass_word == '007':\n",
    "    print ('Access granted')\n",
    "else:\n",
    "    print ('Access denied. Wrong login details')"
   ]
  }
 ],
 "metadata": {
  "kernelspec": {
   "display_name": "Python3",
   "language": "python",
   "name": "python3"
  },
  "language_info": {
   "codemirror_mode": {
    "name": "ipython",
    "version": 3
   },
   "file_extension": ".py",
   "mimetype": "text/x-python",
   "name": "python",
   "nbconvert_exporter": "python",
   "pygments_lexer": "ipython3",
   "version": "3.6.1"
  },
  "toc": {
   "base_numbering": 1,
   "nav_menu": {},
   "number_sections": true,
   "sideBar": true,
   "skip_h1_title": false,
   "title_cell": "Table of Contents",
   "title_sidebar": "Contents",
   "toc_cell": false,
   "toc_position": {},
   "toc_section_display": true,
   "toc_window_display": true
  }
 },
 "nbformat": 4,
 "nbformat_minor": 2
}

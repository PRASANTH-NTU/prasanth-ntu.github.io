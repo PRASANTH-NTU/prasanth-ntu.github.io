{
 "cells": [
  {
   "cell_type": "markdown",
   "metadata": {
    "slideshow": {
     "slide_type": "slide"
    },
    "toc": true
   },
   "source": [
    "<h1>Table of Contents<span class=\"tocSkip\"></span></h1>\n",
    "<div class=\"toc\"><ul class=\"toc-item\"><li><span><a href=\"#import-turtle\" data-toc-modified-id=\"import-turtle-1\"><span class=\"toc-item-num\">1&nbsp;&nbsp;</span>import turtle</a></span></li><li><span><a href=\"#Move-the-turtle\" data-toc-modified-id=\"Move-the-turtle-2\"><span class=\"toc-item-num\">2&nbsp;&nbsp;</span>Move the turtle</a></span></li><li><span><a href=\"#Create-shapes\" data-toc-modified-id=\"Create-shapes-3\"><span class=\"toc-item-num\">3&nbsp;&nbsp;</span>Create shapes</a></span></li><li><span><a href=\"#Create-shapes-using-loops-&amp;-conditions\" data-toc-modified-id=\"Create-shapes-using-loops-&amp;-conditions-4\"><span class=\"toc-item-num\">4&nbsp;&nbsp;</span>Create shapes using loops &amp; conditions</a></span></li><li><span><a href=\"#Create-shapes-using-functions\" data-toc-modified-id=\"Create-shapes-using-functions-5\"><span class=\"toc-item-num\">5&nbsp;&nbsp;</span>Create shapes using functions</a></span></li><li><span><a href=\"#Solution\" data-toc-modified-id=\"Solution-6\"><span class=\"toc-item-num\">6&nbsp;&nbsp;</span>Solution</a></span></li></ul></div>"
   ]
  },
  {
   "cell_type": "markdown",
   "metadata": {
    "ExecuteTime": {
     "end_time": "2018-09-30T11:53:57.286840Z",
     "start_time": "2018-09-30T11:53:57.274841Z"
    }
   },
   "source": [
    "<p style=\"color:blue; font-size:110%;  border-left: 5px solid blue; padding-left: 10px;\"><big><a href=\"https://docs.python.org/3.3/library/turtle.html?highlight=turtle#module-turtle\" target=\"_blank\">Click here</a> for a quick intro on what `turtle` module is</big></p>\n",
    "\n",
    "- Turtle graphics is a popular way used for introducing programming to kids\n",
    "- Intricate shapes and pictures can easily be drawn\n",
    "- Enables the programmer to use all the commands, classes and methods interactively"
   ]
  },
  {
   "cell_type": "markdown",
   "metadata": {},
   "source": [
    "What can be done with Turtle in Python\n",
    "- https://repl.it/@prasanththangavel/1-Welcome-message\n",
    "- https://repl.it/@prasanththangavel/ping-pong-game"
   ]
  },
  {
   "cell_type": "markdown",
   "metadata": {
    "slideshow": {
     "slide_type": "slide"
    }
   },
   "source": [
    "# import turtle"
   ]
  },
  {
   "cell_type": "markdown",
   "metadata": {
    "slideshow": {
     "slide_type": "-"
    }
   },
   "source": [
    "- The `import` statements in Python are similar (but different) to the `#include` statements in C: they allow us to use `modules` defined elsewhere (either in a standard module, or our own)\n",
    "- Using `import`, Python code in one module gains access to the all the code (functions, variables, classes, etc.) in another module"
   ]
  },
  {
   "cell_type": "code",
   "execution_count": 3,
   "metadata": {
    "ExecuteTime": {
     "end_time": "2018-10-01T14:52:19.845789Z",
     "start_time": "2018-10-01T14:52:19.840806Z"
    },
    "slideshow": {
     "slide_type": "-"
    }
   },
   "outputs": [],
   "source": [
    "from turtle import *"
   ]
  },
  {
   "cell_type": "markdown",
   "metadata": {
    "slideshow": {
     "slide_type": "-"
    }
   },
   "source": [
    "The above line imports all features of the `turtle` module into our programming. \n",
    "\n",
    "Some of the functions available in the `turtle` module are \n",
    "- `reset()`\n",
    "- `forward()`\n",
    "- `backward()`\n",
    "- `right()`\n",
    "- `left() `\n",
    "- `goto() `\n",
    "- `speed()`"
   ]
  },
  {
   "cell_type": "markdown",
   "metadata": {
    "slideshow": {
     "slide_type": "slide"
    }
   },
   "source": [
    "# Move the turtle"
   ]
  },
  {
   "cell_type": "markdown",
   "metadata": {
    "slideshow": {
     "slide_type": "-"
    }
   },
   "source": [
    "<p style=\"color:green; font-size:110%;  border-left: 5px solid blue; padding-left: 10px;\"><big><a href=\"https://docs.python.org/3.3/library/turtle.html?highlight=turtle#turtle-methods\" target=\"_blank\">Click here</a> to see the list of `turtle` methods/ functions </big></p>"
   ]
  },
  {
   "cell_type": "markdown",
   "metadata": {},
   "source": [
    "- `reset()` command resets the entire turtle environment, including drawings, variables and poistion of the turtle on the screen. By default, the turtle will be at `(0,0)` position in the screen's x-y plane"
   ]
  },
  {
   "cell_type": "code",
   "execution_count": 3,
   "metadata": {
    "ExecuteTime": {
     "end_time": "2018-09-30T11:14:01.838747Z",
     "start_time": "2018-09-30T11:14:01.806774Z"
    },
    "slideshow": {
     "slide_type": "-"
    }
   },
   "outputs": [],
   "source": [
    "reset()"
   ]
  },
  {
   "cell_type": "markdown",
   "metadata": {},
   "source": [
    "- `forward(x)` moves the turtle forward by the specified distance `x`, in the direction the turtle is headed.\n",
    "- `backward(x)` moves the turtle backward by the specified distance `x`, opposite to direction the turtle is headed.\n",
    "- `right(θ)` turns turtle by `θ` degrees, by default.\n",
    "- `left(θ)` turns turtle by `-θ` degrees, by default."
   ]
  },
  {
   "cell_type": "code",
   "execution_count": 4,
   "metadata": {
    "ExecuteTime": {
     "end_time": "2018-09-30T11:14:03.476496Z",
     "start_time": "2018-09-30T11:14:03.335344Z"
    },
    "slideshow": {
     "slide_type": "-"
    }
   },
   "outputs": [],
   "source": [
    "forward(100)    # fd(100)"
   ]
  },
  {
   "cell_type": "code",
   "execution_count": 5,
   "metadata": {
    "ExecuteTime": {
     "end_time": "2018-09-30T11:14:04.849901Z",
     "start_time": "2018-09-30T11:14:04.715405Z"
    },
    "slideshow": {
     "slide_type": "-"
    }
   },
   "outputs": [],
   "source": [
    "backward(100)   # bk(100)"
   ]
  },
  {
   "cell_type": "code",
   "execution_count": 6,
   "metadata": {
    "ExecuteTime": {
     "end_time": "2018-09-30T11:14:05.731919Z",
     "start_time": "2018-09-30T11:14:05.381303Z"
    },
    "slideshow": {
     "slide_type": "-"
    }
   },
   "outputs": [],
   "source": [
    "right(180)      # rt(180)"
   ]
  },
  {
   "cell_type": "code",
   "execution_count": 7,
   "metadata": {
    "ExecuteTime": {
     "end_time": "2018-09-30T11:14:06.565288Z",
     "start_time": "2018-09-30T11:14:06.222989Z"
    },
    "slideshow": {
     "slide_type": "-"
    }
   },
   "outputs": [],
   "source": [
    "left(180)       # lt(180)"
   ]
  },
  {
   "cell_type": "markdown",
   "metadata": {},
   "source": [
    "- `speed(x)` set the turtle’s speed to an integer value in the `range 0..10`\n",
    "- Speedstrings are mapped to speedvalues as follows:\n",
    "    - `“fastest”`: 0 <<< No graphics >>>\n",
    "    - `“fast”`: 10\n",
    "    - `“normal”`: 6\n",
    "    - `“slow”`: 3\n",
    "    - `“slowest”`: 1"
   ]
  },
  {
   "cell_type": "code",
   "execution_count": 8,
   "metadata": {
    "ExecuteTime": {
     "end_time": "2018-09-30T14:56:37.735688Z",
     "start_time": "2018-09-30T14:56:37.014681Z"
    },
    "slideshow": {
     "slide_type": "slide"
    }
   },
   "outputs": [],
   "source": [
    "reset()\n",
    "speed(1)\n",
    "goto(100,100)   #setpos(100,100)    #setposition(100,100)"
   ]
  },
  {
   "cell_type": "markdown",
   "metadata": {},
   "source": [
    "- `penup()` pulls the pen up – **no drawing** when moving\n",
    "- `pendown()` pulls the pen down – **drawing** when moving"
   ]
  },
  {
   "cell_type": "code",
   "execution_count": 5,
   "metadata": {
    "ExecuteTime": {
     "end_time": "2018-10-01T14:52:34.389823Z",
     "start_time": "2018-10-01T14:52:33.660499Z"
    }
   },
   "outputs": [],
   "source": [
    "reset()\n",
    "speed(1)\n",
    "penup()\n",
    "goto(100,100)\n",
    "pendown()"
   ]
  },
  {
   "cell_type": "markdown",
   "metadata": {
    "ExecuteTime": {
     "end_time": "2018-10-01T09:15:15.032695Z",
     "start_time": "2018-10-01T09:15:15.024700Z"
    }
   },
   "source": [
    "- By default, turtle `shape` is set to `classic`\n",
    "- To change the shape of turtle, use `shape(shape_name)`\n",
    "    - `shape_name` could be `\"arrow\", \"turtle\", \"circle\", \"square\", \"triangle\", \"classic\"`"
   ]
  },
  {
   "cell_type": "code",
   "execution_count": 6,
   "metadata": {
    "ExecuteTime": {
     "end_time": "2018-10-01T09:14:54.661600Z",
     "start_time": "2018-10-01T09:14:54.641621Z"
    }
   },
   "outputs": [
    {
     "name": "stdout",
     "output_type": "stream",
     "text": [
      "Shape of the turtle: classic\n"
     ]
    }
   ],
   "source": [
    "print ('Shape of the turtle:', shape())"
   ]
  },
  {
   "cell_type": "code",
   "execution_count": 4,
   "metadata": {
    "ExecuteTime": {
     "end_time": "2018-10-01T14:52:24.533897Z",
     "start_time": "2018-10-01T14:52:23.731490Z"
    }
   },
   "outputs": [],
   "source": [
    "reset()\n",
    "speed(1)\n",
    "# Change the shape of the turtle\n",
    "shape(\"turtle\")\n",
    "fd(100)"
   ]
  },
  {
   "cell_type": "markdown",
   "metadata": {
    "ExecuteTime": {
     "end_time": "2018-10-01T14:56:45.309290Z",
     "start_time": "2018-10-01T14:56:45.300292Z"
    }
   },
   "source": [
    "- By default, turtle `pencolor` & `fillcolor` is set to `black`\n",
    "- To change the pencolor of turtle, use `color(*args)` or `pencolor(args)` where`*args` could be \n",
    "   - `color(colorstring)` such as `\"red\"`, `\"green\"`, `\"black\"`, etc. <a href=\"https://www.tcl.tk/man/tcl8.4/TkCmd/colors.htm\" target=\"_blank\">Click here</a> to see the list of colorstrings\n",
    "   - `color((r,g,b))` where r,g,b ∈ (0,1) were 0 stands for black and 1 stands for white\n",
    "   - `color(hexcode)` where hexcode could be `#RRGGBB`, `#DC143C`, etc. Google \"HTML Color Codes\" to find the appropriate hex code."
   ]
  },
  {
   "cell_type": "code",
   "execution_count": 30,
   "metadata": {
    "ExecuteTime": {
     "end_time": "2018-10-01T15:37:34.843640Z",
     "start_time": "2018-10-01T15:37:34.814669Z"
    }
   },
   "outputs": [
    {
     "data": {
      "text/plain": [
       "('black', 'black')"
      ]
     },
     "execution_count": 30,
     "metadata": {},
     "output_type": "execute_result"
    }
   ],
   "source": [
    "reset()\n",
    "color()"
   ]
  },
  {
   "cell_type": "code",
   "execution_count": 31,
   "metadata": {
    "ExecuteTime": {
     "end_time": "2018-10-01T15:37:37.738183Z",
     "start_time": "2018-10-01T15:37:36.055651Z"
    }
   },
   "outputs": [],
   "source": [
    "reset()\n",
    "speed(1)\n",
    "# Change the color of the turtle\n",
    "color(\"red\")\n",
    "fd(100)\n",
    "color(.1,.1,.1)\n",
    "goto(200,100)\n",
    "color(\"#285078\")\n",
    "goto(200,200)"
   ]
  },
  {
   "cell_type": "markdown",
   "metadata": {},
   "source": [
    "# Create shapes\n",
    "Your task is to use the concepts learnt earlier to create the following shapes\n",
    "- triangle \n",
    "- square \n",
    "- rectangle \n",
    "- hexagon\n",
    "- shape of your own choice"
   ]
  },
  {
   "cell_type": "code",
   "execution_count": 39,
   "metadata": {
    "ExecuteTime": {
     "end_time": "2018-10-01T16:04:35.031248Z",
     "start_time": "2018-10-01T16:04:35.026271Z"
    }
   },
   "outputs": [],
   "source": [
    "### your code for triangle ###\n",
    "\n"
   ]
  },
  {
   "cell_type": "code",
   "execution_count": 40,
   "metadata": {
    "ExecuteTime": {
     "end_time": "2018-10-01T16:04:36.690212Z",
     "start_time": "2018-10-01T16:04:36.686231Z"
    }
   },
   "outputs": [],
   "source": [
    "### code for square ###\n",
    "\n"
   ]
  },
  {
   "cell_type": "code",
   "execution_count": 41,
   "metadata": {
    "ExecuteTime": {
     "end_time": "2018-10-01T16:04:38.222825Z",
     "start_time": "2018-10-01T16:04:38.217827Z"
    }
   },
   "outputs": [],
   "source": [
    "### code for rectangle ###\n",
    "\n"
   ]
  },
  {
   "cell_type": "code",
   "execution_count": 42,
   "metadata": {
    "ExecuteTime": {
     "end_time": "2018-10-01T16:04:40.170600Z",
     "start_time": "2018-10-01T16:04:40.165584Z"
    }
   },
   "outputs": [],
   "source": [
    "### code for hexagon ###\n",
    "\n"
   ]
  },
  {
   "cell_type": "markdown",
   "metadata": {},
   "source": [
    "---"
   ]
  },
  {
   "cell_type": "markdown",
   "metadata": {},
   "source": [
    "# Create shapes using loops & conditions"
   ]
  },
  {
   "cell_type": "markdown",
   "metadata": {
    "ExecuteTime": {
     "end_time": "2018-10-01T15:38:49.310301Z",
     "start_time": "2018-10-01T15:38:49.303306Z"
    }
   },
   "source": [
    "Your task is to ask the user to enter a shape and distance to draw and draw that shape for him\n",
    "- shapes to provide (triangle, square, rectangle, hexagon)"
   ]
  },
  {
   "cell_type": "code",
   "execution_count": 38,
   "metadata": {
    "ExecuteTime": {
     "end_time": "2018-10-01T16:04:32.291986Z",
     "start_time": "2018-10-01T16:04:32.286992Z"
    }
   },
   "outputs": [],
   "source": [
    "###       ask for user input, select the appropriate shapes       ###\n",
    "### (use loops to draw them and save yourself repeating the code) ###\n",
    "\n"
   ]
  },
  {
   "cell_type": "markdown",
   "metadata": {},
   "source": [
    "---"
   ]
  },
  {
   "cell_type": "markdown",
   "metadata": {
    "slideshow": {
     "slide_type": "slide"
    }
   },
   "source": [
    "# Create shapes using functions"
   ]
  },
  {
   "cell_type": "markdown",
   "metadata": {
    "ExecuteTime": {
     "end_time": "2018-09-29T17:40:00.859402Z",
     "start_time": "2018-09-29T17:39:57.554424Z"
    }
   },
   "source": [
    "<p style=\"color:purple; font-size:110%;  border-left: 5px solid blue; padding-left: 10px;\"><big> Functions are great. Why? Reusability & Abstraction </big></p>\n",
    "1. Reusability => Once a function is defined, it can be used over and over and over again\n",
    "2. Abstraction => To use a function, we just need to know fn_name, its functionality, input arguments, return values from functions"
   ]
  },
  {
   "cell_type": "markdown",
   "metadata": {},
   "source": [
    "Your task is to create a seperate function for each shapes of your choice and allow the user to enter his choice of shape and draw it accordingly."
   ]
  },
  {
   "cell_type": "code",
   "execution_count": 43,
   "metadata": {
    "ExecuteTime": {
     "end_time": "2018-10-01T16:04:52.360107Z",
     "start_time": "2018-10-01T16:04:52.356125Z"
    }
   },
   "outputs": [],
   "source": [
    "### functions for different shapes goes here###\n",
    "\n",
    "\n",
    "\n",
    "### asking for user input and calling the function goes here ###\n",
    "\n",
    "\n"
   ]
  },
  {
   "cell_type": "markdown",
   "metadata": {},
   "source": [
    "---"
   ]
  },
  {
   "cell_type": "markdown",
   "metadata": {},
   "source": [
    "# Solution"
   ]
  },
  {
   "cell_type": "code",
   "execution_count": 16,
   "metadata": {
    "ExecuteTime": {
     "end_time": "2018-10-01T09:26:03.893036Z",
     "start_time": "2018-10-01T09:26:02.702716Z"
    }
   },
   "outputs": [],
   "source": [
    "# Create a traingle using for loop\n",
    "reset();\n",
    "for i in range(3):\n",
    "    fd(100);lt(120);"
   ]
  },
  {
   "cell_type": "code",
   "execution_count": 44,
   "metadata": {
    "ExecuteTime": {
     "end_time": "2018-10-01T16:08:15.515949Z",
     "start_time": "2018-10-01T16:08:14.395666Z"
    }
   },
   "outputs": [],
   "source": [
    "# Create a traingle using while loop\n",
    "counter = 0\n",
    "reset();\n",
    "while counter < 3:\n",
    "    fd(100);lt(120);\n",
    "    counter += 1"
   ]
  },
  {
   "cell_type": "code",
   "execution_count": 48,
   "metadata": {
    "ExecuteTime": {
     "end_time": "2018-10-01T16:15:54.403396Z",
     "start_time": "2018-10-01T16:15:47.679451Z"
    }
   },
   "outputs": [
    {
     "name": "stdout",
     "output_type": "stream",
     "text": [
      "Enter a shape of your choice (triangle, square, hexagon) :square\n",
      "Enter distance: 100\n"
     ]
    }
   ],
   "source": [
    "# Create functions for different shapes\n",
    "def triangle(distance):\n",
    "    for i in range(3):\n",
    "        fd(distance); lt(120)\n",
    "        \n",
    "def square(distance):\n",
    "    for i in range(4):\n",
    "        fd(distance); lt(90)\n",
    "        \n",
    "def hexagon(distance):\n",
    "    for i in range(6):\n",
    "        fd(distance); lt(60)\n",
    "        \n",
    "reset()\n",
    "\n",
    "# Ask for user's choice of shape and distance\n",
    "shape = input(\"Enter a shape of your choice (triangle, square, hexagon) :\")\n",
    "distance = float(input(\"Enter distance: \"))\n",
    "\n",
    "# Draw the shape with given distance\n",
    "if shape == \"triangle\":\n",
    "    triangle(distance)\n",
    "elif shape == \"square\":\n",
    "    triangle(distance)\n",
    "elif shape == \"hexagon\":\n",
    "    triangle(distance)\n",
    "else:\n",
    "    print (\"Not a valid shape\")"
   ]
  },
  {
   "cell_type": "code",
   "execution_count": null,
   "metadata": {},
   "outputs": [],
   "source": []
  }
 ],
 "metadata": {
  "kernelspec": {
   "display_name": "Python 3",
   "language": "python",
   "name": "python3"
  },
  "language_info": {
   "codemirror_mode": {
    "name": "ipython",
    "version": 3
   },
   "file_extension": ".py",
   "mimetype": "text/x-python",
   "name": "python",
   "nbconvert_exporter": "python",
   "pygments_lexer": "ipython3",
   "version": "3.6.1"
  },
  "toc": {
   "base_numbering": 1,
   "nav_menu": {},
   "number_sections": true,
   "sideBar": true,
   "skip_h1_title": false,
   "title_cell": "Table of Contents",
   "title_sidebar": "Contents",
   "toc_cell": true,
   "toc_position": {
    "height": "calc(100% - 180px)",
    "left": "10px",
    "top": "150px",
    "width": "235px"
   },
   "toc_section_display": true,
   "toc_window_display": false
  }
 },
 "nbformat": 4,
 "nbformat_minor": 2
}

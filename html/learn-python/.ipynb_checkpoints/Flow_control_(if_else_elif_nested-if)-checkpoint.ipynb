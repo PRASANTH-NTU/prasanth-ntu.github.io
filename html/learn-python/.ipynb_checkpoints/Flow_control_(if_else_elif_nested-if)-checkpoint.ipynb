{
 "cells": [
  {
   "cell_type": "markdown",
   "metadata": {},
   "source": [
    "Boolean Values: True, False\n",
    "Boolean operators: and,or,not\n",
    "returns True or False\n",
    "Comparison operators: <, >, <=, >=, ==, !=\n",
    "returns True or False\n"
   ]
  },
  {
   "cell_type": "markdown",
   "metadata": {
    "ExecuteTime": {
     "end_time": "2019-04-20T11:44:07.479975Z",
     "start_time": "2019-04-20T11:44:07.455986Z"
    }
   },
   "source": [
    "<p> The table below shows the commonly used math operators followed by example for each operator.</p>\n",
    "<table style=\"max-width:100%;margin-left:10%;border: 1px solid black; font-size:110%\">\n",
    "    <caption style=\"text-align: center\"><b> Comparison Operators </b></caption>\n",
    "    <tr>\n",
    "        <td style=\"color:blue; background-color:rgb(80, 80, 80); color:white; text-align: center\">Operator</td>\n",
    "        <td style=\"color:blue; background-color:rgb(80, 80, 80); color:white; text-align: center\">Description</td>  \n",
    "        <td style=\"color:blue; background-color:rgb(80, 80, 80); color:white; text-align: center\">Example</td>  \n",
    "        <td style=\"color:blue; background-color:rgb(80, 80, 80); color:white; text-align: center\">ResultExample</td>  \n",
    "\n",
    "\n",
    "    </tr>\n",
    "    <tr style=\"color:black;text-align: center\">\n",
    "        <td style=\"text-align: center\"><code><</code></td>\n",
    "        <td style=\"text-align: center\">Less than</td>\n",
    "        <td style=\"text-align: center\"><code>5<4 </code></td>\n",
    "        <td style=\"text-align: center\"><code>False</code></td>\n",
    "\n",
    "    </tr>\n",
    "    <tr style=\"color:black;text-align: center\">\n",
    "        <td style=\"text-align: center\"><code>></code></td>\n",
    "        <td style=\"text-align: center\">Greater than</td>\n",
    "        <td style=\"text-align: center\"><code>5>4 </code></td>\n",
    "        <td style=\"text-align: center\"><code>True</code></td>\n",
    "\n",
    "    </tr>\n",
    "    <tr style=\"color:black;text-align: center\">\n",
    "        <td style=\"text-align: center\"><code><=</code></td>\n",
    "        <td style=\"text-align: center\">Less than or equal to</td>\n",
    "        <td style=\"text-align: center\"><code>5<=4</code></td>\n",
    "        <td style=\"text-align: center\"><code>False</code></td>\n",
    "    </tr>\n",
    "    <tr style=\"color:black;text-align: center\">\n",
    "        <td style=\"text-align: center\"><code>>=</code></td>\n",
    "        <td style=\"text-align: center\">Greater than or equal to</td>\n",
    "        <td style=\"text-align: center\"><code>5>=4</code></td>\n",
    "        <td style=\"text-align: center\"><code>True</code></td>\n",
    "    </tr>\n",
    "    <tr style=\"color:black;text-align: center\">\n",
    "        <td style=\"text-align: center\"><code>==</code></td>\n",
    "        <td style=\"text-align: center\">Equal to</td>\n",
    "        <td style=\"text-align: center\"><code>5==4</code></td>\n",
    "        <td style=\"text-align: center\"><code>False</code></td>\n",
    "    </tr>\n",
    "    <tr style=\"color:black;text-align: center\">\n",
    "        <td style=\"text-align: center\"><code>!=</code></td>\n",
    "        <td style=\"text-align: center\">Not equal to</td>\n",
    "        <td style=\"text-align: center\"><code>5!=4</code></td>\n",
    "        <td style=\"text-align: center\"><code>False</code></td>\n",
    "    </tr>\n",
    "</table>\n",
    "\n",
    "<p><b>Order of Precedence</b><br>\n",
    "\n",
    "The order of operations (also called precedence) of Python math operators is similar to that of mathematics. The `**` operator is evaluated first; the `*, /, //, and %` operators are evaluated next, from left to right; and the <code>+</code> and <code>-</code> operators are evaluated last (also from left to right).\n",
    "</p>"
   ]
  }
 ],
 "metadata": {
  "kernelspec": {
   "display_name": "Python3",
   "language": "python",
   "name": "python3"
  },
  "language_info": {
   "codemirror_mode": {
    "name": "ipython",
    "version": 3
   },
   "file_extension": ".py",
   "mimetype": "text/x-python",
   "name": "python",
   "nbconvert_exporter": "python",
   "pygments_lexer": "ipython3",
   "version": "3.6.1"
  },
  "toc": {
   "base_numbering": 1,
   "nav_menu": {},
   "number_sections": true,
   "sideBar": true,
   "skip_h1_title": false,
   "title_cell": "Table of Contents",
   "title_sidebar": "Contents",
   "toc_cell": false,
   "toc_position": {},
   "toc_section_display": true,
   "toc_window_display": false
  }
 },
 "nbformat": 4,
 "nbformat_minor": 2
}

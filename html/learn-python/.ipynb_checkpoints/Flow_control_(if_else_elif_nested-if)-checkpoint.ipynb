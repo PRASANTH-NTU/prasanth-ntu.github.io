{
 "cells": [
  {
   "cell_type": "markdown",
   "metadata": {},
   "source": [
    "- Boolean Values: True, False\n",
    "- Boolean operators: and,or,not\n",
    "    - returns True or False\n",
    "- Comparison operators: <, >, <=, >=, ==, !=\n",
    "    - returns True or False\n"
   ]
  },
  {
   "cell_type": "markdown",
   "metadata": {},
   "source": [
    "# Operators"
   ]
  },
  {
   "cell_type": "markdown",
   "metadata": {},
   "source": [
    "## Comparison Operators"
   ]
  },
  {
   "cell_type": "markdown",
   "metadata": {
    "ExecuteTime": {
     "end_time": "2019-04-20T11:44:07.479975Z",
     "start_time": "2019-04-20T11:44:07.455986Z"
    }
   },
   "source": [
    "<p> The table below shows the commonly used Comparison operators used to compare values in Python.</p>\n",
    "<table style=\"max-width:100%;margin-left:10%;border: 1px solid black; font-size:110%\">\n",
    "    <caption style=\"text-align: center\"><b> Comparison Operators </b></caption>\n",
    "    <tr>\n",
    "        <td style=\"color:blue; background-color:rgb(80, 80, 80); color:white; text-align: center\">Operator</td>\n",
    "        <td style=\"color:blue; background-color:rgb(80, 80, 80); color:white; text-align: center\">Description</td>  \n",
    "        <td style=\"color:blue; background-color:rgb(80, 80, 80); color:white; text-align: center\">Example</td>  \n",
    "        <td style=\"color:blue; background-color:rgb(80, 80, 80); color:white; text-align: center\">Output</td>  \n",
    "\n",
    "\n",
    "    </tr>\n",
    "    <tr style=\"color:black;text-align: center\">\n",
    "        <td style=\"text-align: center\"><code><</code></td>\n",
    "        <td style=\"text-align: center\">Less than</td>\n",
    "        <td style=\"text-align: center\"><code>5<4 </code></td>\n",
    "        <td style=\"text-align: center\"><code>False</code></td>\n",
    "\n",
    "    </tr>\n",
    "    <tr style=\"color:black;text-align: center\">\n",
    "        <td style=\"text-align: center\"><code>></code></td>\n",
    "        <td style=\"text-align: center\">Greater than</td>\n",
    "        <td style=\"text-align: center\"><code>5>4 </code></td>\n",
    "        <td style=\"text-align: center\"><code>True</code></td>\n",
    "\n",
    "    </tr>\n",
    "    <tr style=\"color:black;text-align: center\">\n",
    "        <td style=\"text-align: center\"><code><=</code></td>\n",
    "        <td style=\"text-align: center\">Less than or equal to</td>\n",
    "        <td style=\"text-align: center\"><code>5<=4</code></td>\n",
    "        <td style=\"text-align: center\"><code>False</code></td>\n",
    "    </tr>\n",
    "    <tr style=\"color:black;text-align: center\">\n",
    "        <td style=\"text-align: center\"><code>>=</code></td>\n",
    "        <td style=\"text-align: center\">Greater than or equal to</td>\n",
    "        <td style=\"text-align: center\"><code>5>=4</code></td>\n",
    "        <td style=\"text-align: center\"><code>True</code></td>\n",
    "    </tr>\n",
    "    <tr style=\"color:black;text-align: center\">\n",
    "        <td style=\"text-align: center\"><code>==</code></td>\n",
    "        <td style=\"text-align: center\">Equal to</td>\n",
    "        <td style=\"text-align: center\"><code>5==4</code></td>\n",
    "        <td style=\"text-align: center\"><code>False</code></td>\n",
    "    </tr>\n",
    "    <tr style=\"color:black;text-align: center\">\n",
    "        <td style=\"text-align: center\"><code>!=</code></td>\n",
    "        <td style=\"text-align: center\">Not equal to</td>\n",
    "        <td style=\"text-align: center\"><code>5!=4</code></td>\n",
    "        <td style=\"text-align: center\"><code>False</code></td>\n",
    "    </tr>\n",
    "</table>"
   ]
  },
  {
   "cell_type": "code",
   "execution_count": 12,
   "metadata": {
    "ExecuteTime": {
     "end_time": "2019-04-27T10:32:41.961208Z",
     "start_time": "2019-04-27T10:32:41.949210Z"
    }
   },
   "outputs": [
    {
     "name": "stdout",
     "output_type": "stream",
     "text": [
      "5<4 => False\n",
      "><4 => True\n",
      "5<=4 => False\n",
      "5>=4 => True\n",
      "5==4 => False\n",
      "5!=4 => True\n"
     ]
    }
   ],
   "source": [
    "# Comparison operators - Example\n",
    "print ('5<4 =>', 5<4)\n",
    "print ('><4 =>', 5>4)\n",
    "print ('5<=4 =>', 5<=4)\n",
    "print ('5>=4 =>', 5>=4)\n",
    "print ('5==4 =>', 5==4)\n",
    "print ('5!=4 =>', 5!=4)"
   ]
  },
  {
   "cell_type": "code",
   "execution_count": 16,
   "metadata": {
    "ExecuteTime": {
     "end_time": "2019-04-27T10:33:31.221501Z",
     "start_time": "2019-04-27T10:33:31.213504Z"
    }
   },
   "outputs": [
    {
     "name": "stdout",
     "output_type": "stream",
     "text": [
      "True\n",
      "True\n"
     ]
    }
   ],
   "source": [
    "# We can also compare string and other types\n",
    "print ( 'apple'!='banana')\n",
    "print ([1,2]==[1,2])"
   ]
  },
  {
   "cell_type": "markdown",
   "metadata": {},
   "source": [
    "## Boolean Operators"
   ]
  },
  {
   "cell_type": "markdown",
   "metadata": {
    "ExecuteTime": {
     "end_time": "2019-04-27T09:21:32.969440Z",
     "start_time": "2019-04-27T09:21:32.937449Z"
    }
   },
   "source": [
    "<p> The table below shows the 3 types of Boolean Operators used to combine multiple conditions.</p>\n",
    "<table style=\"max-width:100%;margin-left:10%;border: 1px solid black; font-size:110%\">\n",
    "    <caption style=\"text-align: center\"><b> Boolean Operators </b></caption>\n",
    "    <tr>\n",
    "        <td style=\"color:blue; background-color:rgb(80, 80, 80); color:white; text-align: center\">Operator</td>\n",
    "        <td style=\"color:blue; background-color:rgb(80, 80, 80); color:white; text-align: center\">Description</td>  \n",
    "        <td style=\"color:blue; background-color:rgb(80, 80, 80); color:white; text-align: center\">Example</td>  \n",
    "        <td style=\"color:blue; background-color:rgb(80, 80, 80); color:white; text-align: center\">Output</td>  \n",
    "\n",
    "    </tr>\n",
    "    <tr style=\"color:black;text-align: center\">\n",
    "        <td style=\"text-align: center\"><code>and</code></td>\n",
    "        <td style=\"text-align: center\">True if all the values are True</td>\n",
    "        <td style=\"text-align: center\"><code>5>4 and 4>3 </code></td>\n",
    "        <td style=\"text-align: center\"><code>True and True => True</code></td>\n",
    "\n",
    "    </tr>\n",
    "    <tr style=\"color:black;text-align: center\">\n",
    "        <td style=\"text-align: center\"><code></code></td>\n",
    "        <td style=\"text-align: center\"></td>\n",
    "        <td style=\"text-align: center\"><code>5>4 and 4<3</code></td>\n",
    "        <td style=\"text-align: center\"><code>True and False => False</code></td>\n",
    "\n",
    "    </tr>\n",
    "    <tr style=\"color:black;text-align: center\">\n",
    "        <td style=\"text-align: center\"><code>or</code></td>\n",
    "        <td style=\"text-align: center\">True as long as one value is True</td>\n",
    "        <td style=\"text-align: center\"><code>5>4 or 4>3</code></td>\n",
    "        <td style=\"text-align: center\"><code>True or True => True</code></td>\n",
    "    </tr>\n",
    "    <tr style=\"color:black;text-align: center\">\n",
    "        <td style=\"text-align: center\"><code></code></td>\n",
    "        <td style=\"text-align: center\"></td>\n",
    "        <td style=\"text-align: center\"><code>5>4 or 4<3</code></td>\n",
    "        <td style=\"text-align: center\"><code>True or False => True</code></td>\n",
    "    </tr>\n",
    "    <tr style=\"color:black;text-align: center\">\n",
    "        <td style=\"text-align: center\"><code>not</code></td>\n",
    "        <td style=\"text-align: center\">Flips the boolean value</td>\n",
    "        <td style=\"text-align: center\"><code>not(True)</code></td>\n",
    "        <td style=\"text-align: center\"><code>False</code></td>\n",
    "    </tr>\n",
    "    <tr style=\"color:black;text-align: center\">\n",
    "        <td style=\"text-align: center\"><code></code></td>\n",
    "        <td style=\"text-align: center\"></td>\n",
    "        <td style=\"text-align: center\"><code>not(False)</code></td>\n",
    "        <td style=\"text-align: center\"><code>True</code></td>\n",
    "    </tr>\n",
    "</table>"
   ]
  },
  {
   "cell_type": "code",
   "execution_count": 30,
   "metadata": {
    "ExecuteTime": {
     "end_time": "2019-04-27T10:43:46.375656Z",
     "start_time": "2019-04-27T10:43:46.363660Z"
    }
   },
   "outputs": [
    {
     "name": "stdout",
     "output_type": "stream",
     "text": [
      "### and ###\n",
      "True\n",
      "False\n"
     ]
    }
   ],
   "source": [
    "print ('### and ###')\n",
    "print (5>4 and 4>3)  # True\n",
    "print (5>4 and 4<3)  # False "
   ]
  },
  {
   "cell_type": "code",
   "execution_count": 31,
   "metadata": {
    "ExecuteTime": {
     "end_time": "2019-04-27T10:43:46.791552Z",
     "start_time": "2019-04-27T10:43:46.779559Z"
    }
   },
   "outputs": [
    {
     "name": "stdout",
     "output_type": "stream",
     "text": [
      "### or ###\n",
      "True\n",
      "True\n"
     ]
    }
   ],
   "source": [
    "print ('### or ###')  \n",
    "print (5>4 or 4>3)   # True\n",
    "print (5>4 or 4<3)   # True"
   ]
  },
  {
   "cell_type": "code",
   "execution_count": 32,
   "metadata": {
    "ExecuteTime": {
     "end_time": "2019-04-27T10:43:47.232196Z",
     "start_time": "2019-04-27T10:43:47.220202Z"
    }
   },
   "outputs": [
    {
     "name": "stdout",
     "output_type": "stream",
     "text": [
      "### not ###\n",
      "False\n",
      "True\n"
     ]
    }
   ],
   "source": [
    "print ('### not ###')  \n",
    "print (not(True))    # False\n",
    "print (not(False))   # True"
   ]
  },
  {
   "cell_type": "code",
   "execution_count": 25,
   "metadata": {
    "ExecuteTime": {
     "end_time": "2019-04-27T10:38:02.413630Z",
     "start_time": "2019-04-27T10:38:02.405637Z"
    }
   },
   "outputs": [
    {
     "name": "stdout",
     "output_type": "stream",
     "text": [
      "True\n"
     ]
    }
   ],
   "source": [
    "print ('apple'=='apple' and 'apple'!='orange')"
   ]
  },
  {
   "cell_type": "markdown",
   "metadata": {},
   "source": [
    "# Flow Control"
   ]
  },
  {
   "cell_type": "markdown",
   "metadata": {},
   "source": [
    "Let's say you decided to watch a bunch of movies in your school holidays. However, each movie comes with a rating and you need to find out the movie ratings approved for your age."
   ]
  },
  {
   "cell_type": "markdown",
   "metadata": {},
   "source": [
    "<p> The table below shows MPAA (Motion Picture Association of America) Film ratings</p>\n",
    "<table style=\"max-width:100%;margin-left:0%;border: 1px solid black; font-size:100%\">\n",
    "    <caption style=\"text-align: center\"><b> US Film Ratings </b></caption>\n",
    "    <tr>\n",
    "        <td style=\"color:blue; background-color:rgb(80, 80, 80); color:white; text-align: center\">Operator</td>\n",
    "        <td style=\"color:blue; background-color:rgb(80, 80, 80); color:white; text-align: center\">Description</td>  \n",
    "        <td style=\"color:blue; background-color:rgb(80, 80, 80); color:white; text-align: center\">Example</td>  \n",
    "        <td style=\"color:blue; background-color:rgb(80, 80, 80); color:white; text-align: center\">Output</td>  \n",
    "\n",
    "    </tr>\n",
    "    <tr style=\"color:black;text-align: center\">\n",
    "        <td style=\"text-align: center\"><code>G</code></td>\n",
    "        <td style=\"text-align: center\">General Audience</td>\n",
    "        <td style=\"text-align: center\">All ages admitted</td>\n",
    "        <td style=\"text-align: center\"><code>age >=0</code></td>\n",
    "        \n",
    "    </tr>\n",
    "    <tr style=\"color:black;text-align: center\">\n",
    "        <td style=\"text-align: center\"><code>PG</code></td>\n",
    "        <td style=\"text-align: center\">Parenal Guidance Suggested</td>\n",
    "        <td style=\"text-align: center\">Some material may not be suitable for children</td>\n",
    "        <td style=\"text-align: center\"><code>age >=0</code></td>\n",
    "     </tr>\n",
    "    <tr style=\"color:black;text-align: center\">\n",
    "        <td style=\"text-align: center\"><code>PG-13</code></td>\n",
    "        <td style=\"text-align: center\">Parents Strongly Cautioned</td>\n",
    "        <td style=\"text-align: center\">Some material may be inappropriate for children under 13</td>\n",
    "        <td style=\"text-align: center\"><code>age<3 requires adult</code></td>\n",
    "    </tr>\n",
    "    <tr style=\"color:black;text-align: center\">\n",
    "        <td style=\"text-align: center\"><code>R</code></td>\n",
    "        <td style=\"text-align: center\">Restricted</td>\n",
    "        <td style=\"text-align: center\">Under 17 requires accompanying parent or adult guardian</td>\n",
    "        <td style=\"text-align: center\"><code>age<17 requires adult</code></td>\n",
    "    </tr>\n",
    "    <tr style=\"color:black;text-align: center\">\n",
    "        <td style=\"text-align: center\"><code>NC-17</code></td>\n",
    "        <td style=\"text-align: center\">Adults only</td>\n",
    "        <td style=\"text-align: center\">No one 17 and under admitted</td>\n",
    "        <td style=\"text-align: center\"><code>age > 17</code></td>\n",
    "    </tr>\n",
    "</table>"
   ]
  },
  {
   "cell_type": "markdown",
   "metadata": {},
   "source": [
    "Using <code>if</code> condition, we can check the what are the movies you are allowed to watch if you "
   ]
  },
  {
   "cell_type": "code",
   "execution_count": 1,
   "metadata": {
    "ExecuteTime": {
     "end_time": "2019-04-27T12:47:02.058159Z",
     "start_time": "2019-04-27T12:47:02.036173Z"
    }
   },
   "outputs": [
    {
     "name": "stdout",
     "output_type": "stream",
     "text": [
      "You can watch movies with these ratings: G PG PG-13 R NC-17\n"
     ]
    }
   ],
   "source": [
    "age = 20\n",
    "if age > 17:\n",
    "    print ('You can watch movies with these ratings:', 'G', 'PG', 'PG-13', 'R', 'NC-17')"
   ]
  }
 ],
 "metadata": {
  "kernelspec": {
   "display_name": "Python3",
   "language": "python",
   "name": "python3"
  },
  "language_info": {
   "codemirror_mode": {
    "name": "ipython",
    "version": 3
   },
   "file_extension": ".py",
   "mimetype": "text/x-python",
   "name": "python",
   "nbconvert_exporter": "python",
   "pygments_lexer": "ipython3",
   "version": "3.6.1"
  },
  "toc": {
   "base_numbering": 1,
   "nav_menu": {},
   "number_sections": true,
   "sideBar": true,
   "skip_h1_title": false,
   "title_cell": "Table of Contents",
   "title_sidebar": "Contents",
   "toc_cell": false,
   "toc_position": {},
   "toc_section_display": true,
   "toc_window_display": true
  }
 },
 "nbformat": 4,
 "nbformat_minor": 2
}

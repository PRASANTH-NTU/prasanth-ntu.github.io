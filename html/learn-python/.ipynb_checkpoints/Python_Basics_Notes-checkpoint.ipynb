{
 "cells": [
  {
   "cell_type": "markdown",
   "metadata": {},
   "source": [
    "<p style=\"font-size:110%\">In this post, we will learn about\n",
    "<ul style=\"font-size:110%\">\t\t\t\t\n",
    "<li><b style=\"font-size:110%\">Data Types</b> - How computers sees the data/ information?</li>\n",
    "<li><b style=\"font-size:110%\">Operations</b> - How does python work on (operates) on different data types?</li>\n",
    "<li><b style=\"font-size:110%\">Variables</b> - How does computers store information in their memory?</li> \n",
    "<li><b style=\"font-size:110%\">Output</b> - How to print or display the output on the screen?</li> \n",
    "<li><b style=\"font-size:110%\">Input</b> - How to get input from the user into our computer?</li> \n",
    "<li><b style=\"font-size:110%\">Data Type Conversion</b> - How to convert data from one type to another?</li> \n",
    "\n",
    "</ul>\n",
    "</p>"
   ]
  },
  {
   "cell_type": "markdown",
   "metadata": {},
   "source": [
    "# Common data types"
   ]
  },
  {
   "cell_type": "markdown",
   "metadata": {},
   "source": [
    "The way computers sees the data/information is very different from how we as humans see it. So, we need to understand a bit about if before learning to program. \n",
    "\n",
    "In the table below, I have summarized the 4 most commonly used data types in Python with few examples."
   ]
  },
  {
   "cell_type": "markdown",
   "metadata": {},
   "source": [
    "<table style=\"max-width:100%;margin-left:20px;border: 1px solid black; font-size:110%\">\n",
    "    <caption style=\"text-align: center\"><b> Basic Data Types in Python </b></caption>\n",
    "    <tr>\n",
    "        <td style=\"color:blue; background-color:rgb(80, 80, 80); color:white; text-align: center\">Data Type</td>\n",
    "        <td style=\"color:blue; background-color:rgb(80, 80, 80); color:white; text-align: center\">Python keyword</td>  \n",
    "        <td style=\"color:blue; background-color:rgb(80, 80, 80); color:white; text-align: center\">Example</td>\n",
    "        <td style=\"color:blue; background-color:rgb(80, 80, 80); color:white; text-align: center\">Explanation</td>\n",
    "    </tr>\n",
    "    <tr style=\"color:black;text-align: center\">\n",
    "        <td style=\"text-align: center\">integer</td>\n",
    "        <td style=\"text-align: center\"><code>int</code></td>\n",
    "        <td style=\"text-align: center\"><code>2, 10, 100, 0, -5838</code></td>\n",
    "        <td style=\"text-align: center\">Integers are just numbers that we normally use in daily life.</td>\n",
    "    </tr>\n",
    "    <tr style=\"color:black;text-align: center\">\n",
    "        <td style=\"text-align: center\">float</td>\n",
    "        <td style=\"text-align: center\"><code>float</code></td>\n",
    "        <td style=\"text-align: center\"><code>2.10, 10.0, 100.8712, 0.0, -5838.12</code></td>\n",
    "        <td style=\"text-align: center\">Floats are numbers with decimal values. <br>Any number with a . (dot) will be treated as float by Python.</td>\n",
    "    </tr>\n",
    "        <tr style=\"color:black;text-align: center\">\n",
    "        <td style=\"text-align: center\">string</td>\n",
    "        <td style=\"text-align: center\"><code>str</code></td>\n",
    "        <td style=\"text-align: center\"><code>\"hi', \"hello\", \"I am so cool\", \"40.0, \"-30\"</code></td>\n",
    "        <td style=\"text-align: center\">Anything inside single or double quotes will be treated as string in Python. <br>Usually, letter, words and symbols should always go inside the quotes as a string.</td>\n",
    "    </tr>\n",
    "        </tr>\n",
    "        <tr style=\"color:black;text-align: center\">\n",
    "        <td style=\"text-align: center\">Boolean</td>\n",
    "        <td style=\"text-align: center\"><code>bool</code></td>\n",
    "        <td style=\"text-align: center\"><code>True, False</code></td>\n",
    "        <td style=\"text-align: center\">Boolean data type has only two values. <br>True is similar to 1 (yes) and False is similar to 0 (no).</td>\n",
    "    </tr>\n",
    "</table>"
   ]
  },
  {
   "cell_type": "markdown",
   "metadata": {},
   "source": [
    "## type() function"
   ]
  },
  {
   "cell_type": "markdown",
   "metadata": {},
   "source": [
    "<p>In fact, Python has a built-in command called <code>type()</code> to find the type of any data! <br>Let's see few examples below. Feel free to modify the data and check the results.\n",
    "\n",
    "<br><br>\n",
    "<i>Note: <code>print()</code> is a built-in function in python used to show output on the screen. We will see more about it in later section of this post.</i></p>"
   ]
  },
  {
   "cell_type": "code",
   "execution_count": 3,
   "metadata": {
    "ExecuteTime": {
     "end_time": "2019-04-16T15:54:45.234787Z",
     "start_time": "2019-04-16T15:54:45.225791Z"
    }
   },
   "outputs": [
    {
     "name": "stdout",
     "output_type": "stream",
     "text": [
      "<class 'int'>\n"
     ]
    }
   ],
   "source": [
    "print (type(10))"
   ]
  },
  {
   "cell_type": "code",
   "execution_count": 4,
   "metadata": {
    "ExecuteTime": {
     "end_time": "2019-04-16T15:54:51.943314Z",
     "start_time": "2019-04-16T15:54:51.932319Z"
    }
   },
   "outputs": [
    {
     "name": "stdout",
     "output_type": "stream",
     "text": [
      "<class 'float'>\n"
     ]
    }
   ],
   "source": [
    "print (type(3.1415))"
   ]
  },
  {
   "cell_type": "code",
   "execution_count": 9,
   "metadata": {
    "ExecuteTime": {
     "end_time": "2019-04-16T15:55:37.703034Z",
     "start_time": "2019-04-16T15:55:37.695038Z"
    }
   },
   "outputs": [
    {
     "name": "stdout",
     "output_type": "stream",
     "text": [
      "<class 'str'>\n"
     ]
    }
   ],
   "source": [
    "print (type('Hello World!'))"
   ]
  },
  {
   "cell_type": "code",
   "execution_count": 6,
   "metadata": {
    "ExecuteTime": {
     "end_time": "2019-04-16T15:55:21.676185Z",
     "start_time": "2019-04-16T15:55:21.663194Z"
    }
   },
   "outputs": [
    {
     "name": "stdout",
     "output_type": "stream",
     "text": [
      "<class 'bool'>\n"
     ]
    }
   ],
   "source": [
    "print (type(True))"
   ]
  },
  {
   "cell_type": "markdown",
   "metadata": {},
   "source": [
    "<a id=\"Python Basics\"></a>\n",
    "# Operators\n",
    "\n",
    "<p>We can do basic math operations in <code>python</code> pretty easily. All that we have to figure out is the symbol to be used for each math operation.</p>"
   ]
  },
  {
   "cell_type": "markdown",
   "metadata": {},
   "source": [
    "## Entering expressions"
   ]
  },
  {
   "cell_type": "code",
   "execution_count": 10,
   "metadata": {
    "ExecuteTime": {
     "end_time": "2019-04-16T15:55:53.779958Z",
     "start_time": "2019-04-16T15:55:53.765967Z"
    },
    "scrolled": true
   },
   "outputs": [
    {
     "data": {
      "text/plain": [
       "4"
      ]
     },
     "execution_count": 10,
     "metadata": {},
     "output_type": "execute_result"
    }
   ],
   "source": [
    "2+2"
   ]
  },
  {
   "cell_type": "markdown",
   "metadata": {
    "ExecuteTime": {
     "end_time": "2018-06-27T08:31:09.787160Z",
     "start_time": "2018-06-27T08:31:09.779163Z"
    }
   },
   "source": [
    "<p> The table below shows the commonly used math operators followed by example for each operator.</p>\n",
    "<table style=\"max-width:100%;margin-left:30%;border: 1px solid black; font-size:110%\">\n",
    "    <caption style=\"text-align: center\"><b> Commonly used math operators </b></caption>\n",
    "    <tr>\n",
    "        <td style=\"color:blue; background-color:rgb(80, 80, 80); color:white; text-align: center\">Function</td>\n",
    "        <td style=\"color:blue; background-color:rgb(80, 80, 80); color:white; text-align: center\">Operator</td>  \n",
    "    </tr>\n",
    "    <tr style=\"color:black;text-align: center\">\n",
    "        <td style=\"text-align: center\">Addition</td>\n",
    "        <td style=\"text-align: center\"><code>+</code></td>\n",
    "    </tr>\n",
    "    <tr style=\"color:black;text-align: center\">\n",
    "        <td style=\"text-align: center\">Subtraction</td>\n",
    "        <td style=\"text-align: center\"><code>-</code></td>\n",
    "    </tr>\n",
    "    <tr style=\"color:black;text-align: center\">\n",
    "        <td style=\"text-align: center\">Multiplication</td>\n",
    "        <td style=\"text-align: center\"><code>*</code></td>\n",
    "    </tr>\n",
    "        <tr style=\"color:black;text-align: center\">\n",
    "        <td style=\"text-align: center\">Division</td>\n",
    "        <td style=\"text-align: center\"><code>/</code></td>\n",
    "    </tr>\n",
    "        <tr style=\"color:black;text-align: center\">\n",
    "        <td style=\"text-align: center\">Integer Division</td>\n",
    "        <td style=\"text-align: center\"><code>//</code></td>\n",
    "    </tr>\n",
    "        <tr style=\"color:black;text-align: center\">\n",
    "        <td style=\"text-align: center\">Modulus or Remainder</td>\n",
    "        <td style=\"text-align: center\"><code>%</code></td>\n",
    "    </tr>\n",
    "    <tr style=\"color:black;text-align: center\">\n",
    "        <td style=\"text-align: center\">Exponent or Power</td>\n",
    "        <td style=\"text-align: center\"><code>**</code></td>\n",
    "    </tr>\n",
    "</table>\n",
    "\n",
    "<p><b>Order of Precedence</b><br>\n",
    "\n",
    "The order of operations (also called precedence) of Python math operators is similar to that of mathematics. The `**` operator is evaluated first; the `*, /, //, and %` operators are evaluated next, from left to right; and the <code>+</code> and <code>-</code> operators are evaluated last (also from left to right).\n",
    "</p>"
   ]
  },
  {
   "cell_type": "code",
   "execution_count": 15,
   "metadata": {
    "ExecuteTime": {
     "end_time": "2019-04-15T11:14:16.919685Z",
     "start_time": "2019-04-15T11:14:16.894680Z"
    }
   },
   "outputs": [
    {
     "data": {
      "text/plain": [
       "20"
      ]
     },
     "execution_count": 15,
     "metadata": {},
     "output_type": "execute_result"
    }
   ],
   "source": [
    "2+3*6"
   ]
  },
  {
   "cell_type": "code",
   "execution_count": 16,
   "metadata": {
    "ExecuteTime": {
     "end_time": "2019-04-15T11:14:16.947652Z",
     "start_time": "2019-04-15T11:14:16.922662Z"
    }
   },
   "outputs": [
    {
     "data": {
      "text/plain": [
       "30"
      ]
     },
     "execution_count": 16,
     "metadata": {},
     "output_type": "execute_result"
    }
   ],
   "source": [
    "(2 + 3) * 6"
   ]
  },
  {
   "cell_type": "code",
   "execution_count": 17,
   "metadata": {
    "ExecuteTime": {
     "end_time": "2019-04-15T11:14:16.965659Z",
     "start_time": "2019-04-15T11:14:16.951646Z"
    }
   },
   "outputs": [
    {
     "data": {
      "text/plain": [
       "32"
      ]
     },
     "execution_count": 17,
     "metadata": {},
     "output_type": "execute_result"
    }
   ],
   "source": [
    "2**5"
   ]
  },
  {
   "cell_type": "code",
   "execution_count": 18,
   "metadata": {
    "ExecuteTime": {
     "end_time": "2019-04-15T11:14:16.991630Z",
     "start_time": "2019-04-15T11:14:16.969640Z"
    }
   },
   "outputs": [
    {
     "data": {
      "text/plain": [
       "3.142857142857143"
      ]
     },
     "execution_count": 18,
     "metadata": {},
     "output_type": "execute_result"
    }
   ],
   "source": [
    "22/7"
   ]
  },
  {
   "cell_type": "code",
   "execution_count": 1,
   "metadata": {
    "ExecuteTime": {
     "end_time": "2019-04-17T11:11:32.556428Z",
     "start_time": "2019-04-17T11:11:32.536438Z"
    }
   },
   "outputs": [
    {
     "data": {
      "text/plain": [
       "3"
      ]
     },
     "execution_count": 1,
     "metadata": {},
     "output_type": "execute_result"
    }
   ],
   "source": [
    "22//7 # integer division - truncates all the decimals (similar to round down)"
   ]
  },
  {
   "cell_type": "code",
   "execution_count": 2,
   "metadata": {
    "ExecuteTime": {
     "end_time": "2019-04-17T11:11:39.763543Z",
     "start_time": "2019-04-17T11:11:39.756547Z"
    }
   },
   "outputs": [
    {
     "data": {
      "text/plain": [
       "1"
      ]
     },
     "execution_count": 2,
     "metadata": {},
     "output_type": "execute_result"
    }
   ],
   "source": [
    "22 % 7 # Returns the reminder of the division"
   ]
  },
  {
   "cell_type": "markdown",
   "metadata": {},
   "source": [
    "The meaning of an operator (e.g. `+`) may change based on the data types of the values next to it\n"
   ]
  },
  {
   "cell_type": "code",
   "execution_count": 21,
   "metadata": {
    "ExecuteTime": {
     "end_time": "2019-04-15T11:14:17.069579Z",
     "start_time": "2019-04-15T11:14:17.045594Z"
    }
   },
   "outputs": [
    {
     "data": {
      "text/plain": [
       "(3, 3.5999999999999996)"
      ]
     },
     "execution_count": 21,
     "metadata": {},
     "output_type": "execute_result"
    }
   ],
   "source": [
    "# Addition for int or float\n",
    "1 + 2, 1.2 + 2.4"
   ]
  },
  {
   "cell_type": "markdown",
   "metadata": {
    "ExecuteTime": {
     "end_time": "2019-04-17T12:09:54.146146Z",
     "start_time": "2019-04-17T12:09:54.138148Z"
    }
   },
   "source": [
    " <p style=\"color:green;\">Any line or sentence or code after hash mark<Code>#</code> will be treated as a <b>comment</b> by the python interpreter (its the program that runs the python code). The computer will simply ignore (skip) the comment from running. We can also use them to write notes or remind yourself what the code is trying to do. </p>"
   ]
  },
  {
   "cell_type": "markdown",
   "metadata": {},
   "source": [
    "## String concatenation & Replication\n",
    "\n",
    "<p><code>+</code> not only performs addition on numbers. It also performs concatenation (combine or join operation) on two or more strings. </p>"
   ]
  },
  {
   "cell_type": "code",
   "execution_count": 22,
   "metadata": {
    "ExecuteTime": {
     "end_time": "2019-04-17T12:11:32.849752Z",
     "start_time": "2019-04-17T12:11:32.842756Z"
    }
   },
   "outputs": [
    {
     "data": {
      "text/plain": [
       "'BruceWayne'"
      ]
     },
     "execution_count": 22,
     "metadata": {},
     "output_type": "execute_result"
    }
   ],
   "source": [
    "# Concatenation for string data type\n",
    "'Bruce' + 'Wayne'"
   ]
  },
  {
   "cell_type": "markdown",
   "metadata": {},
   "source": [
    " <p style=\"color:red;\">If you try to use the + operator on a string and an integer value, Python will not know how to handle this, and it will display an error message</p>"
   ]
  },
  {
   "cell_type": "code",
   "execution_count": 23,
   "metadata": {
    "ExecuteTime": {
     "end_time": "2019-04-15T11:14:17.237485Z",
     "start_time": "2019-04-15T11:14:17.102561Z"
    }
   },
   "outputs": [
    {
     "ename": "TypeError",
     "evalue": "must be str, not int",
     "output_type": "error",
     "traceback": [
      "\u001b[1;31m---------------------------------------------------------------------------\u001b[0m",
      "\u001b[1;31mTypeError\u001b[0m                                 Traceback (most recent call last)",
      "\u001b[1;32m<ipython-input-23-1d945ca000fe>\u001b[0m in \u001b[0;36m<module>\u001b[1;34m()\u001b[0m\n\u001b[1;32m----> 1\u001b[1;33m \u001b[1;34m'Bruce'\u001b[0m \u001b[1;33m+\u001b[0m \u001b[1;36m42\u001b[0m\u001b[1;33m\u001b[0m\u001b[0m\n\u001b[0m",
      "\u001b[1;31mTypeError\u001b[0m: must be str, not int"
     ]
    }
   ],
   "source": [
    "'Bruce' + 42"
   ]
  },
  {
   "cell_type": "markdown",
   "metadata": {
    "ExecuteTime": {
     "end_time": "2018-06-27T09:34:50.278962Z",
     "start_time": "2018-06-27T09:34:50.270964Z"
    }
   },
   "source": [
    "The `*` operator when used on one string value and one integer value becomes string replication operator."
   ]
  },
  {
   "cell_type": "code",
   "execution_count": 24,
   "metadata": {
    "ExecuteTime": {
     "end_time": "2019-04-15T11:14:39.994940Z",
     "start_time": "2019-04-15T11:14:39.987948Z"
    }
   },
   "outputs": [
    {
     "data": {
      "text/plain": [
       "10"
      ]
     },
     "execution_count": 24,
     "metadata": {},
     "output_type": "execute_result"
    }
   ],
   "source": [
    "2*5"
   ]
  },
  {
   "cell_type": "code",
   "execution_count": 25,
   "metadata": {
    "ExecuteTime": {
     "end_time": "2019-04-15T11:14:41.355006Z",
     "start_time": "2019-04-15T11:14:41.347011Z"
    }
   },
   "outputs": [
    {
     "data": {
      "text/plain": [
       "'BatmanBatmanBatmanBatmanBatman'"
      ]
     },
     "execution_count": 25,
     "metadata": {},
     "output_type": "execute_result"
    }
   ],
   "source": [
    "'Batman'*5"
   ]
  },
  {
   "cell_type": "markdown",
   "metadata": {
    "ExecuteTime": {
     "end_time": "2018-06-27T09:36:49.908939Z",
     "start_time": "2018-06-27T09:36:49.900963Z"
    }
   },
   "source": [
    "# Variables\n",
    "\n",
    "<p>\n",
    "Think of it like a box in the computer’s memory where we can store values by giving a name to it.<br>\n",
    "\n",
    "<b>Variable Names</b> are case sensitive. We can name a variable anything as long as it obeys the following three rules:\n",
    "<ul style=\"font-size:100%\">\t\t\t\t\n",
    "<li><b style=\"font-size:100%\">Rule 1</b>- It can be only one word.</li>\n",
    "<li><b style=\"font-size:100%\">Rule 2</b> - It can use only letters, numbers, and the underscore <code>__</code> character.</li>\n",
    "<li><b style=\"font-size:100%\">Rule 3</b> - It can’t begin with a number.</li> \n",
    "</ul>\n",
    "\n",
    "\n",
    "<i><font style=\"color:red\">Example of invalid variable names</font></i>: \t<code>current-balance</code>, <code>current balance 4account</code>, <code>total_(um</code>, <code>'batman'</code>\n",
    "</p>\n",
    "\n",
    "\n",
    "<table style=\"max-width:80%;margin-left:10%;border: 1px solid black; font-size:110%\">\n",
    "    <caption style=\"text-align: center\"><b> Example of Invalid variable names and why they are invalid</b></caption>\n",
    "    <tr>\n",
    "        <td style=\"color:blue; background-color:rgb(80, 80, 80); color:white; text-align: center\">Invalid variable name</td>\n",
    "        <td style=\"color:blue; background-color:rgb(80, 80, 80); color:white; text-align: center\">Why it's invalid?</td>  \n",
    "    </tr>\n",
    "    <tr style=\"color:black;text-align: center\">\n",
    "        <td style=\"text-align: center\" width=30%><code>current-balance</code></td>\n",
    "        <td style=\"text-align: center\">Other than <code>__</code>, no symbols are allowed in variable name</td>\n",
    "    </tr>\n",
    "    <tr style=\"color:black;text-align: center\">\n",
    "        <td style=\"text-align: center\"><code>current balance 4account</code></td>\n",
    "        <td style=\"text-align: center\">Space is also note allowed in variable name</td>\n",
    "    </tr>\n",
    "        <tr style=\"color:black;text-align: center\">\n",
    "        <td style=\"text-align: center\"><code>total_(um</code></td>\n",
    "        <td style=\"text-align: center\">The brackets are not allowed in variable name.</td>\n",
    "    </tr>\n",
    "        <tr style=\"color:black;text-align: center\">\n",
    "        <td style=\"text-align: center\"><code>'batman'</code></td>\n",
    "        <td style=\"text-align: center\">Quotes are not allowed in variable name. Enclosing the variable name inside quotes makes them a string. We will see more about string in future posts.</td>\n",
    "    </tr>\n",
    "</table>\n",
    "\n"
   ]
  },
  {
   "cell_type": "markdown",
   "metadata": {},
   "source": [
    "<p>Now, let's see how to assign value to the variable and store it inside the computers memory. The format is <code>variable_name = value</code></p>"
   ]
  },
  {
   "cell_type": "code",
   "execution_count": 8,
   "metadata": {
    "ExecuteTime": {
     "end_time": "2019-04-17T11:42:06.863273Z",
     "start_time": "2019-04-17T11:42:06.851298Z"
    }
   },
   "outputs": [
    {
     "name": "stdout",
     "output_type": "stream",
     "text": [
      "Super Man\n",
      "49\n",
      "50\n"
     ]
    }
   ],
   "source": [
    "name = 'Super Man'\n",
    "age = 49\n",
    "pi = 3.1415\n",
    "\n",
    "print (name)\n",
    "print (age)\n",
    "\n",
    "age = age + 1 #Add 1 to age and update it\n",
    "print (age)\n",
    "\n",
    "# What do you think will happend if we run the two lines below ?\n",
    "#age = age + 10\n",
    "#print (age)"
   ]
  },
  {
   "cell_type": "markdown",
   "metadata": {},
   "source": [
    "# Output using `print`"
   ]
  },
  {
   "cell_type": "markdown",
   "metadata": {},
   "source": [
    "Storing the data will not be sufficient enough. We need to display the values on the screen from time to time. The easiest way to display the value is to use built in function <code>print(your_value)</code>. Let's see few examples"
   ]
  },
  {
   "cell_type": "code",
   "execution_count": 9,
   "metadata": {
    "ExecuteTime": {
     "end_time": "2019-04-17T11:47:23.245602Z",
     "start_time": "2019-04-17T11:47:23.239584Z"
    }
   },
   "outputs": [
    {
     "name": "stdout",
     "output_type": "stream",
     "text": [
      "Hello world!\n"
     ]
    }
   ],
   "source": [
    "print ('Hello world!')"
   ]
  },
  {
   "cell_type": "markdown",
   "metadata": {},
   "source": [
    "To print multiple values on same line, there are two approaches:\n",
    "\n",
    "<b>Approach 1 - Use comma(,) inside the print to dispay multiple values</b>. Take note that the comma used to seperate the values inside the print will not get printed. Instead, it introduces a space."
   ]
  },
  {
   "cell_type": "code",
   "execution_count": 11,
   "metadata": {
    "ExecuteTime": {
     "end_time": "2019-04-17T11:52:36.239677Z",
     "start_time": "2019-04-17T11:52:36.232677Z"
    }
   },
   "outputs": [
    {
     "name": "stdout",
     "output_type": "stream",
     "text": [
      "hi hello 100 3.145\n"
     ]
    }
   ],
   "source": [
    "print ('hi', 'hello', 100, 3.145)"
   ]
  },
  {
   "cell_type": "markdown",
   "metadata": {},
   "source": [
    "<b>Approach 2 - Use plus(+) inside the print to dispay multiple values</b>. Take note that the plus used to combine the values inside the print will not get printed.\n",
    "\n",
    "<font style=\"color:red\">Unlike comma (,), plus(+) doesn't work with different data types. We need to convert everything to string before using plus sign.</font>\n",
    "\n",
    "How do we convert every value into string?\n",
    "- Again, there's a built in function in python called <code>str()</code> which helps us convert data of any type into string data."
   ]
  },
  {
   "cell_type": "code",
   "execution_count": 13,
   "metadata": {
    "ExecuteTime": {
     "end_time": "2019-04-17T11:55:31.413260Z",
     "start_time": "2019-04-17T11:55:31.250437Z"
    }
   },
   "outputs": [
    {
     "ename": "TypeError",
     "evalue": "must be str, not int",
     "output_type": "error",
     "traceback": [
      "\u001b[1;31m---------------------------------------------------------------------------\u001b[0m",
      "\u001b[1;31mTypeError\u001b[0m                                 Traceback (most recent call last)",
      "\u001b[1;32m<ipython-input-13-762ba75001d7>\u001b[0m in \u001b[0;36m<module>\u001b[1;34m()\u001b[0m\n\u001b[1;32m----> 1\u001b[1;33m \u001b[0mprint\u001b[0m \u001b[1;33m(\u001b[0m\u001b[1;34m'hi'\u001b[0m \u001b[1;33m+\u001b[0m \u001b[1;34m'hello'\u001b[0m \u001b[1;33m+\u001b[0m  \u001b[1;36m100\u001b[0m \u001b[1;33m+\u001b[0m \u001b[1;36m3.145\u001b[0m\u001b[1;33m)\u001b[0m\u001b[1;33m\u001b[0m\u001b[0m\n\u001b[0m",
      "\u001b[1;31mTypeError\u001b[0m: must be str, not int"
     ]
    }
   ],
   "source": [
    "print ('hi' + 'hello' +  100 + 3.145) # plus(+) doesn't work with different datatypes"
   ]
  },
  {
   "cell_type": "code",
   "execution_count": 14,
   "metadata": {
    "ExecuteTime": {
     "end_time": "2019-04-17T11:56:51.443958Z",
     "start_time": "2019-04-17T11:56:51.435984Z"
    }
   },
   "outputs": [
    {
     "name": "stdout",
     "output_type": "stream",
     "text": [
      "hihello1003.145\n"
     ]
    }
   ],
   "source": [
    "print ('hi' + 'hello' + str(100) + str(3.145)) "
   ]
  },
  {
   "cell_type": "markdown",
   "metadata": {},
   "source": [
    "What if we want to include space between each value printed? "
   ]
  },
  {
   "cell_type": "code",
   "execution_count": 15,
   "metadata": {
    "ExecuteTime": {
     "end_time": "2019-04-17T12:00:27.540151Z",
     "start_time": "2019-04-17T12:00:27.533152Z"
    }
   },
   "outputs": [
    {
     "name": "stdout",
     "output_type": "stream",
     "text": [
      "hi hello 100 3.145\n"
     ]
    }
   ],
   "source": [
    "print ('hi' + ' ' + 'hello' +  ' ' + str(100) + ' ' + str(3.145)) "
   ]
  },
  {
   "cell_type": "code",
   "execution_count": 20,
   "metadata": {
    "ExecuteTime": {
     "end_time": "2019-04-17T12:04:21.438844Z",
     "start_time": "2019-04-17T12:04:21.422854Z"
    }
   },
   "outputs": [
    {
     "name": "stdout",
     "output_type": "stream",
     "text": [
      "=== Using comma (,) to print multiple values ===\n",
      "My name is Super Man\n",
      "My age is 49\n",
      "My height is 1.85\n",
      "=== Using plus (+) to print multiple values ===\n",
      "My name is Super Man\n",
      "My age is 49\n",
      "My height is 1.85\n"
     ]
    }
   ],
   "source": [
    "# Another xample on using print() with multiple values and data types\n",
    "name = 'Super Man'\n",
    "age = 49\n",
    "height = 1.85 \n",
    "\n",
    "print('=== Using comma (,) to print multiple values ===')\n",
    "print ('My name is', name)\n",
    "print ('My age is', age)\n",
    "print ('My height is', height)\n",
    "\n",
    "print('=== Using plus (+) to print multiple values ===')\n",
    "print ('My name is ' + name)   # We don't have to convert the name var into string. Why? It's already a string\n",
    "print ('My age is ' + str(age))\n",
    "print ('My height is ' + str(height))"
   ]
  },
  {
   "cell_type": "markdown",
   "metadata": {},
   "source": [
    "<p>Which one of the following two <code>print</code> lines is correct?\n",
    "<br><br>\n",
    "<i>Hint 1</i>: Anything enclosed inside the quotes will be treated as a string. <br>\n",
    "<i>Hint 2</i>: Variable should be enclosed inside a quote.</p>"
   ]
  },
  {
   "cell_type": "code",
   "execution_count": null,
   "metadata": {},
   "outputs": [],
   "source": [
    "#print ('My name is ' + 'name')\n",
    "#print ('My name is ' + name)"
   ]
  },
  {
   "cell_type": "markdown",
   "metadata": {},
   "source": [
    "# Input using `input`"
   ]
  },
  {
   "cell_type": "markdown",
   "metadata": {
    "ExecuteTime": {
     "end_time": "2019-04-17T12:16:48.119449Z",
     "start_time": "2019-04-17T12:16:48.110454Z"
    },
    "code_folding": []
   },
   "source": [
    "<p>Using <code>print</code> function, we can display values/output to the user. However, how do we get values from the user like username, password, etc?. <br><br>\n",
    "\n",
    "To get input from the user, we have to use <code>input()</code>function. <br><br>\n",
    "\n",
    "<font style=\"color:red\">Note that irrespective of the data we type (e.g. numbers), input function will read it as a string data.</font>\n",
    "</p>"
   ]
  },
  {
   "cell_type": "code",
   "execution_count": 27,
   "metadata": {
    "ExecuteTime": {
     "end_time": "2019-04-17T12:20:28.489853Z",
     "start_time": "2019-04-17T12:20:23.142830Z"
    }
   },
   "outputs": [
    {
     "name": "stdout",
     "output_type": "stream",
     "text": [
      ">>> Enter your name: Batman\n",
      "Your name is Batman\n"
     ]
    }
   ],
   "source": [
    "name = input('>>> Enter your name: ')\n",
    "print ('Your name is', name)"
   ]
  },
  {
   "cell_type": "markdown",
   "metadata": {},
   "source": [
    "<p>[MINI TASK] Write a program that gets your name, age and height and prints it on the screen.</p>"
   ]
  },
  {
   "cell_type": "code",
   "execution_count": 28,
   "metadata": {
    "ExecuteTime": {
     "end_time": "2019-04-17T12:25:08.201679Z",
     "start_time": "2019-04-17T12:25:05.523303Z"
    }
   },
   "outputs": [
    {
     "name": "stdout",
     "output_type": "stream",
     "text": [
      ">>> Enter your name: \n"
     ]
    }
   ],
   "source": [
    "name = input('>>> Enter your name: ')\n",
    "\n",
    "### your code goes here ###"
   ]
  },
  {
   "cell_type": "markdown",
   "metadata": {},
   "source": [
    "# Type converstion"
   ]
  },
  {
   "cell_type": "markdown",
   "metadata": {},
   "source": [
    "`str(), int(), float()` - These functions are used to change the data types of the values. <br>\n",
    "\n",
    "As the `input()` function returns `str` data, we may have to manually change if we are handling numbers. <br>"
   ]
  },
  {
   "cell_type": "code",
   "execution_count": 30,
   "metadata": {
    "ExecuteTime": {
     "end_time": "2019-04-17T12:29:00.676815Z",
     "start_time": "2019-04-17T12:29:00.667801Z"
    }
   },
   "outputs": [
    {
     "name": "stdout",
     "output_type": "stream",
     "text": [
      "Before data type conversion: <class 'str'>\n",
      "After data type conversion: <class 'int'>\n"
     ]
    }
   ],
   "source": [
    "age = '21'\n",
    "print ('Before data type conversion:', type(age))\n",
    "\n",
    "age = int(age) # Converts age into int data type\n",
    "print ('After data type conversion:', type(age))"
   ]
  },
  {
   "cell_type": "markdown",
   "metadata": {},
   "source": [
    "# Challenge  1 "
   ]
  },
  {
   "cell_type": "markdown",
   "metadata": {},
   "source": [
    "<p>Now, let's take a break from learning and start testing what we have learnt.<br><br>\n",
    "<font style=\"color:#FF8b33\">Write a code that asks for users height in centimeter and convert it into meters.</font><br><br>\n",
    "<i>Example: If the user enters his height as 181 in centimeter, it should be converted as 1.81 in meter and printed on the screen.</i></p>"
   ]
  },
  {
   "cell_type": "code",
   "execution_count": 33,
   "metadata": {
    "ExecuteTime": {
     "end_time": "2019-04-17T12:33:20.474472Z",
     "start_time": "2019-04-17T12:33:20.469479Z"
    }
   },
   "outputs": [],
   "source": [
    "### your code goes here ###\n",
    "\n"
   ]
  },
  {
   "cell_type": "markdown",
   "metadata": {},
   "source": [
    "<p>I have added one of the many possible for this challenge. Try not to look at it until you try first. I know it's hard not to look at the solution when it's right below the challenge 😀 </p>"
   ]
  },
  {
   "cell_type": "code",
   "execution_count": 35,
   "metadata": {
    "ExecuteTime": {
     "end_time": "2019-04-17T12:35:13.820845Z",
     "start_time": "2019-04-17T12:35:11.949959Z"
    }
   },
   "outputs": [
    {
     "name": "stdout",
     "output_type": "stream",
     "text": [
      "Enter height in cm: 181\n",
      "Your height in meters: 1.81\n"
     ]
    }
   ],
   "source": [
    "### SOLUTION ###\n",
    "\n",
    "height_in_cm = input(\"Enter height in cm: \")\n",
    "height_in_cm = float(height_in_cm)\n",
    "\n",
    "print ('Your height in meters:', height_in_cm/100)"
   ]
  }
 ],
 "metadata": {
  "kernelspec": {
   "display_name": "Python3",
   "language": "python",
   "name": "python3"
  },
  "language_info": {
   "codemirror_mode": {
    "name": "ipython",
    "version": 3
   },
   "file_extension": ".py",
   "mimetype": "text/x-python",
   "name": "python",
   "nbconvert_exporter": "python",
   "pygments_lexer": "ipython3",
   "version": "3.6.1"
  },
  "toc": {
   "base_numbering": 1,
   "nav_menu": {},
   "number_sections": true,
   "sideBar": true,
   "skip_h1_title": false,
   "title_cell": "Table of Contents",
   "title_sidebar": "Contents",
   "toc_cell": false,
   "toc_position": {
    "height": "calc(100% - 180px)",
    "left": "10px",
    "top": "150px",
    "width": "267px"
   },
   "toc_section_display": true,
   "toc_window_display": true
  }
 },
 "nbformat": 4,
 "nbformat_minor": 2
}

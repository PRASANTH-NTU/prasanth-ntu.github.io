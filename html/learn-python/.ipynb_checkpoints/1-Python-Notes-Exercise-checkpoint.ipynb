{
 "cells": [
  {
   "cell_type": "markdown",
   "metadata": {},
   "source": [
    "*For full screen view & to download, visit *\n",
    "- `HTML` : <a href=\"https://prasanth-ntu.github.io/html/learn-python/1-Python-Notes-Exercise.html\" target=\"_blank\">Click here</a>\n",
    "- `GITHUB` : <a href=\"https://prasanth-ntu.github.io/html/learn-python/1-Python-Notes-Exercise.ipynb\" target=\"_blank\">Click here</a>\n",
    "\n",
    "<i>To go back to Learn Python website</i>,  <a href=\"https://prasanth-ntu.github.io/html/learn-python/learn-python-1.html\" target=\"_blank\">Click here</a>"
   ]
  },
  {
   "cell_type": "markdown",
   "metadata": {
    "slideshow": {
     "slide_type": "slide"
    },
    "toc": true
   },
   "source": [
    "<h1>Table of Contents<span class=\"tocSkip\"></span></h1>\n",
    "<div class=\"toc\"><ul class=\"toc-item\"><li><span><a href=\"#import-turtle\" data-toc-modified-id=\"import-turtle-1\"><span class=\"toc-item-num\">1&nbsp;&nbsp;</span>import turtle</a></span></li><li><span><a href=\"#Move-the-turtle\" data-toc-modified-id=\"Move-the-turtle-2\"><span class=\"toc-item-num\">2&nbsp;&nbsp;</span>Move the turtle</a></span></li><li><span><a href=\"#Create-shapes\" data-toc-modified-id=\"Create-shapes-3\"><span class=\"toc-item-num\">3&nbsp;&nbsp;</span>Create shapes</a></span></li><li><span><a href=\"#Create-shapes-using-loops-&amp;-conditions\" data-toc-modified-id=\"Create-shapes-using-loops-&amp;-conditions-4\"><span class=\"toc-item-num\">4&nbsp;&nbsp;</span>Create shapes using loops &amp; conditions</a></span></li><li><span><a href=\"#Create-shapes-using-functions\" data-toc-modified-id=\"Create-shapes-using-functions-5\"><span class=\"toc-item-num\">5&nbsp;&nbsp;</span>Create shapes using functions</a></span></li><li><span><a href=\"#Create-a-multiplication-table\" data-toc-modified-id=\"Create-a-multiplication-table-6\"><span class=\"toc-item-num\">6&nbsp;&nbsp;</span>Create a multiplication table</a></span></li><li><span><a href=\"#Fahrenheit-to-Celcius-function\" data-toc-modified-id=\"Fahrenheit-to-Celcius-function-7\"><span class=\"toc-item-num\">7&nbsp;&nbsp;</span>Fahrenheit to Celcius function</a></span></li><li><span><a href=\"#Sum-of-list-items\" data-toc-modified-id=\"Sum-of-list-items-8\"><span class=\"toc-item-num\">8&nbsp;&nbsp;</span>Sum of list items</a></span></li><li><span><a href=\"#Find-the-largest-number\" data-toc-modified-id=\"Find-the-largest-number-9\"><span class=\"toc-item-num\">9&nbsp;&nbsp;</span>Find the largest number</a></span></li><li><span><a href=\"#Concatenate-dictionaries\" data-toc-modified-id=\"Concatenate-dictionaries-10\"><span class=\"toc-item-num\">10&nbsp;&nbsp;</span>Concatenate dictionaries</a></span></li><li><span><a href=\"#Solution\" data-toc-modified-id=\"Solution-11\"><span class=\"toc-item-num\">11&nbsp;&nbsp;</span>Solution</a></span></li></ul></div>"
   ]
  },
  {
   "cell_type": "markdown",
   "metadata": {
    "ExecuteTime": {
     "end_time": "2018-09-30T11:53:57.286840Z",
     "start_time": "2018-09-30T11:53:57.274841Z"
    }
   },
   "source": [
    "<p style=\"color:blue; font-size:110%;  border-left: 5px solid blue; padding-left: 10px;\"><big><a href=\"https://docs.python.org/3.3/library/turtle.html?highlight=turtle#module-turtle\" target=\"_blank\">Click here</a> for a quick intro on what `turtle` module is</big></p>\n",
    "\n",
    "- Turtle graphics is a popular way used for introducing programming to kids\n",
    "- Intricate shapes and pictures can easily be drawn\n",
    "- Enables the programmer to use all the commands, classes and methods interactively"
   ]
  },
  {
   "cell_type": "markdown",
   "metadata": {},
   "source": [
    "What can be done with Turtle in Python (Hit `Run` to start the program)\n",
    "- https://repl.it/@prasanththangavel/1-Welcome-message\n",
    "- https://repl.it/@prasanththangavel/ping-pong-game"
   ]
  },
  {
   "cell_type": "markdown",
   "metadata": {
    "slideshow": {
     "slide_type": "slide"
    }
   },
   "source": [
    "# import turtle"
   ]
  },
  {
   "cell_type": "markdown",
   "metadata": {
    "slideshow": {
     "slide_type": "-"
    }
   },
   "source": [
    "- The `import` statements in Python are similar (but different) to the `#include` statements in C: they allow us to use `modules` defined elsewhere (either in a standard module, or our own)\n",
    "- Using `import`, Python code in one module gains access to the all the code (functions, variables, classes, etc.) in another module"
   ]
  },
  {
   "cell_type": "code",
   "execution_count": 2,
   "metadata": {
    "ExecuteTime": {
     "end_time": "2018-12-10T07:54:51.211676Z",
     "start_time": "2018-12-10T07:54:51.147691Z"
    },
    "slideshow": {
     "slide_type": "-"
    }
   },
   "outputs": [],
   "source": [
    "from turtle import *"
   ]
  },
  {
   "cell_type": "markdown",
   "metadata": {
    "slideshow": {
     "slide_type": "-"
    }
   },
   "source": [
    "The above line imports all features of the `turtle` module into our programming. \n",
    "\n",
    "Some of the functions available in the `turtle` module are \n",
    "- `reset()`\n",
    "- `forward()`\n",
    "- `backward()`\n",
    "- `right()`\n",
    "- `left() `\n",
    "- `goto() `\n",
    "- `speed()`"
   ]
  },
  {
   "cell_type": "markdown",
   "metadata": {
    "slideshow": {
     "slide_type": "slide"
    }
   },
   "source": [
    "# Move the turtle"
   ]
  },
  {
   "cell_type": "markdown",
   "metadata": {
    "slideshow": {
     "slide_type": "-"
    }
   },
   "source": [
    "<p style=\"color:green; font-size:110%;  border-left: 5px solid blue; padding-left: 10px;\"><big><a href=\"https://docs.python.org/3.3/library/turtle.html?highlight=turtle#turtle-methods\" target=\"_blank\">Click here</a> to see the list of `turtle` methods/ functions </big></p>"
   ]
  },
  {
   "cell_type": "markdown",
   "metadata": {},
   "source": [
    "- `reset()` command resets the entire turtle environment, including drawings, variables and poistion of the turtle on the screen. By default, the turtle will be at `(0,0)` position in the screen's x-y plane"
   ]
  },
  {
   "cell_type": "code",
   "execution_count": 3,
   "metadata": {
    "ExecuteTime": {
     "end_time": "2018-12-10T07:54:54.555555Z",
     "start_time": "2018-12-10T07:54:54.319898Z"
    },
    "slideshow": {
     "slide_type": "-"
    }
   },
   "outputs": [],
   "source": [
    "reset()"
   ]
  },
  {
   "cell_type": "markdown",
   "metadata": {},
   "source": [
    "- `forward(x)` moves the turtle forward by the specified distance `x`, in the direction the turtle is headed.\n",
    "- `backward(x)` moves the turtle backward by the specified distance `x`, opposite to direction the turtle is headed.\n",
    "- `right(θ)` turns turtle by `θ` degrees, by default.\n",
    "- `left(θ)` turns turtle by `-θ` degrees, by default."
   ]
  },
  {
   "cell_type": "code",
   "execution_count": 4,
   "metadata": {
    "ExecuteTime": {
     "end_time": "2018-12-10T07:50:54.334074Z",
     "start_time": "2018-12-10T07:50:54.186360Z"
    },
    "slideshow": {
     "slide_type": "-"
    }
   },
   "outputs": [],
   "source": [
    "forward(100)    # fd(100)"
   ]
  },
  {
   "cell_type": "code",
   "execution_count": 5,
   "metadata": {
    "ExecuteTime": {
     "end_time": "2018-12-10T07:51:03.030535Z",
     "start_time": "2018-12-10T07:51:02.854790Z"
    },
    "slideshow": {
     "slide_type": "-"
    }
   },
   "outputs": [],
   "source": [
    "backward(100)   # bk(100)"
   ]
  },
  {
   "cell_type": "code",
   "execution_count": 6,
   "metadata": {
    "ExecuteTime": {
     "end_time": "2018-12-10T07:51:03.877212Z",
     "start_time": "2018-12-10T07:51:03.538852Z"
    },
    "slideshow": {
     "slide_type": "-"
    }
   },
   "outputs": [],
   "source": [
    "right(180)      # rt(180)"
   ]
  },
  {
   "cell_type": "code",
   "execution_count": 7,
   "metadata": {
    "ExecuteTime": {
     "end_time": "2018-12-10T07:51:04.236945Z",
     "start_time": "2018-12-10T07:51:03.877212Z"
    },
    "slideshow": {
     "slide_type": "-"
    }
   },
   "outputs": [],
   "source": [
    "left(180)       # lt(180)"
   ]
  },
  {
   "cell_type": "markdown",
   "metadata": {},
   "source": [
    "- `speed(x)` set the turtle’s speed to an integer value in the `range 0..10`\n",
    "- Speedstrings are mapped to speedvalues as follows:\n",
    "    - `“fastest”`: 0 <<< No graphics >>>\n",
    "    - `“fast”`: 10\n",
    "    - `“normal”`: 6\n",
    "    - `“slow”`: 3\n",
    "    - `“slowest”`: 1"
   ]
  },
  {
   "cell_type": "code",
   "execution_count": 8,
   "metadata": {
    "ExecuteTime": {
     "end_time": "2018-12-10T07:51:12.529178Z",
     "start_time": "2018-12-10T07:51:11.787167Z"
    },
    "slideshow": {
     "slide_type": "slide"
    }
   },
   "outputs": [],
   "source": [
    "reset()\n",
    "speed(1)\n",
    "goto(100,100)   #setpos(100,100)    #setposition(100,100)"
   ]
  },
  {
   "cell_type": "markdown",
   "metadata": {},
   "source": [
    "- `penup()` pulls the pen up – **no drawing** when moving\n",
    "- `pendown()` pulls the pen down – **drawing** when moving"
   ]
  },
  {
   "cell_type": "code",
   "execution_count": 5,
   "metadata": {
    "ExecuteTime": {
     "end_time": "2018-10-01T14:52:34.389823Z",
     "start_time": "2018-10-01T14:52:33.660499Z"
    }
   },
   "outputs": [],
   "source": [
    "reset()\n",
    "speed(1)\n",
    "penup()\n",
    "goto(100,100)\n",
    "pendown()"
   ]
  },
  {
   "cell_type": "markdown",
   "metadata": {
    "ExecuteTime": {
     "end_time": "2018-10-01T09:15:15.032695Z",
     "start_time": "2018-10-01T09:15:15.024700Z"
    }
   },
   "source": [
    "- By default, turtle `shape` is set to `classic`\n",
    "- To change the shape of turtle, use `shape(shape_name)`\n",
    "    - `shape_name` could be `\"arrow\", \"turtle\", \"circle\", \"square\", \"triangle\", \"classic\"`"
   ]
  },
  {
   "cell_type": "code",
   "execution_count": 9,
   "metadata": {
    "ExecuteTime": {
     "end_time": "2018-12-10T07:51:18.358546Z",
     "start_time": "2018-12-10T07:51:18.346568Z"
    }
   },
   "outputs": [
    {
     "name": "stdout",
     "output_type": "stream",
     "text": [
      "Shape of the turtle: classic\n"
     ]
    }
   ],
   "source": [
    "print ('Shape of the turtle:', shape())"
   ]
  },
  {
   "cell_type": "code",
   "execution_count": 10,
   "metadata": {
    "ExecuteTime": {
     "end_time": "2018-12-10T07:51:19.912450Z",
     "start_time": "2018-12-10T07:51:19.352902Z"
    }
   },
   "outputs": [],
   "source": [
    "reset()\n",
    "speed(1)\n",
    "# Change the shape of the turtle\n",
    "shape(\"turtle\")\n",
    "fd(100)"
   ]
  },
  {
   "cell_type": "markdown",
   "metadata": {
    "ExecuteTime": {
     "end_time": "2018-10-01T14:56:45.309290Z",
     "start_time": "2018-10-01T14:56:45.300292Z"
    }
   },
   "source": [
    "- By default, turtle `pencolor` & `fillcolor` is set to `black`\n",
    "- To change the pencolor of turtle, use `color(*args)` or `pencolor(args)` where`*args` could be \n",
    "   - `color(colorstring)` such as `\"red\"`, `\"green\"`, `\"black\"`, etc. <a href=\"https://www.tcl.tk/man/tcl8.4/TkCmd/colors.htm\" target=\"_blank\">Click here</a> to see the list of colorstrings\n",
    "   - `color((r,g,b))` where r,g,b ∈ (0,1) were 0 stands for black and 1 stands for white\n",
    "   - `color(hexcode)` where hexcode could be `#RRGGBB`, `#DC143C`, etc. Google \"HTML Color Codes\" to find the appropriate hex code."
   ]
  },
  {
   "cell_type": "code",
   "execution_count": 11,
   "metadata": {
    "ExecuteTime": {
     "end_time": "2018-12-10T07:51:30.394915Z",
     "start_time": "2018-12-10T07:51:30.346948Z"
    }
   },
   "outputs": [
    {
     "data": {
      "text/plain": [
       "('black', 'black')"
      ]
     },
     "execution_count": 11,
     "metadata": {},
     "output_type": "execute_result"
    }
   ],
   "source": [
    "reset()\n",
    "color()"
   ]
  },
  {
   "cell_type": "code",
   "execution_count": 12,
   "metadata": {
    "ExecuteTime": {
     "end_time": "2018-12-10T07:51:32.479878Z",
     "start_time": "2018-12-10T07:51:30.698839Z"
    }
   },
   "outputs": [],
   "source": [
    "reset()\n",
    "speed(1)\n",
    "# Change the color of the turtle\n",
    "color(\"red\")\n",
    "fd(100)\n",
    "color(.1,.1,.1)\n",
    "goto(200,100)\n",
    "color(\"#285078\")\n",
    "goto(200,200)"
   ]
  },
  {
   "cell_type": "markdown",
   "metadata": {},
   "source": [
    "# Create shapes\n",
    "Your task is to use the concepts learnt earlier to create the following shapes\n",
    "- triangle \n",
    "- square \n",
    "- rectangle \n",
    "- hexagon\n",
    "- shape of your own choice"
   ]
  },
  {
   "cell_type": "code",
   "execution_count": 39,
   "metadata": {
    "ExecuteTime": {
     "end_time": "2018-10-01T16:04:35.031248Z",
     "start_time": "2018-10-01T16:04:35.026271Z"
    }
   },
   "outputs": [],
   "source": [
    "### your code for triangle ###\n",
    "\n"
   ]
  },
  {
   "cell_type": "code",
   "execution_count": 40,
   "metadata": {
    "ExecuteTime": {
     "end_time": "2018-10-01T16:04:36.690212Z",
     "start_time": "2018-10-01T16:04:36.686231Z"
    }
   },
   "outputs": [],
   "source": [
    "### code for square ###\n",
    "\n"
   ]
  },
  {
   "cell_type": "code",
   "execution_count": 41,
   "metadata": {
    "ExecuteTime": {
     "end_time": "2018-10-01T16:04:38.222825Z",
     "start_time": "2018-10-01T16:04:38.217827Z"
    }
   },
   "outputs": [],
   "source": [
    "### code for rectangle ###\n",
    "\n"
   ]
  },
  {
   "cell_type": "code",
   "execution_count": 42,
   "metadata": {
    "ExecuteTime": {
     "end_time": "2018-10-01T16:04:40.170600Z",
     "start_time": "2018-10-01T16:04:40.165584Z"
    }
   },
   "outputs": [],
   "source": [
    "### code for hexagon ###\n",
    "\n"
   ]
  },
  {
   "cell_type": "markdown",
   "metadata": {},
   "source": [
    "<a href=\"#Create shapes - Solution\">Link to solution</a>"
   ]
  },
  {
   "cell_type": "markdown",
   "metadata": {},
   "source": [
    "---"
   ]
  },
  {
   "cell_type": "markdown",
   "metadata": {},
   "source": [
    "# Create shapes using loops & conditions"
   ]
  },
  {
   "cell_type": "markdown",
   "metadata": {
    "ExecuteTime": {
     "end_time": "2018-10-01T15:38:49.310301Z",
     "start_time": "2018-10-01T15:38:49.303306Z"
    }
   },
   "source": [
    "Your task is to ask the user to enter a shape and distance to draw and draw that shape for him\n",
    "- shapes to provide (triangle, square, rectangle, hexagon)"
   ]
  },
  {
   "cell_type": "code",
   "execution_count": 38,
   "metadata": {
    "ExecuteTime": {
     "end_time": "2018-10-01T16:04:32.291986Z",
     "start_time": "2018-10-01T16:04:32.286992Z"
    }
   },
   "outputs": [],
   "source": [
    "###       ask for user input, select the appropriate shapes       ###\n",
    "### (use loops to draw them and save yourself repeating the code) ###\n",
    "\n"
   ]
  },
  {
   "cell_type": "markdown",
   "metadata": {},
   "source": [
    "<a href=\"#Create shapes using loop - Solution\">Link to solution</a>"
   ]
  },
  {
   "cell_type": "markdown",
   "metadata": {},
   "source": [
    "---"
   ]
  },
  {
   "cell_type": "markdown",
   "metadata": {
    "slideshow": {
     "slide_type": "slide"
    }
   },
   "source": [
    "# Create shapes using functions"
   ]
  },
  {
   "cell_type": "markdown",
   "metadata": {
    "ExecuteTime": {
     "end_time": "2018-09-29T17:40:00.859402Z",
     "start_time": "2018-09-29T17:39:57.554424Z"
    }
   },
   "source": [
    "<p style=\"color:purple; font-size:110%;  border-left: 5px solid blue; padding-left: 10px;\"><big> Functions are great. Why? Reusability & Abstraction </big></p>\n",
    "1. Reusability => Once a function is defined, it can be used over and over and over again\n",
    "2. Abstraction => To use a function, we just need to know fn_name, its functionality, input arguments, return values from functions"
   ]
  },
  {
   "cell_type": "markdown",
   "metadata": {},
   "source": [
    "Your task is to create a seperate function for each shapes of your choice and allow the user to enter his choice of shape and draw it accordingly."
   ]
  },
  {
   "cell_type": "code",
   "execution_count": 43,
   "metadata": {
    "ExecuteTime": {
     "end_time": "2018-10-01T16:04:52.360107Z",
     "start_time": "2018-10-01T16:04:52.356125Z"
    }
   },
   "outputs": [],
   "source": [
    "### functions for different shapes goes here###\n",
    "\n",
    "\n",
    "\n",
    "### asking for user input and calling the function goes here ###\n",
    "\n",
    "\n"
   ]
  },
  {
   "cell_type": "markdown",
   "metadata": {},
   "source": [
    "<a href=\"#Create functions for different shapes - Solution\">Link to solution</a>"
   ]
  },
  {
   "cell_type": "markdown",
   "metadata": {},
   "source": [
    "---"
   ]
  },
  {
   "cell_type": "markdown",
   "metadata": {
    "ExecuteTime": {
     "end_time": "2018-12-10T08:02:39.992704Z",
     "start_time": "2018-12-10T08:02:39.988705Z"
    }
   },
   "source": [
    "# Create a multiplication table"
   ]
  },
  {
   "cell_type": "markdown",
   "metadata": {
    "ExecuteTime": {
     "end_time": "2018-12-10T08:02:49.000680Z",
     "start_time": "2018-12-10T08:02:48.988684Z"
    }
   },
   "source": [
    "Write a program using loop that asks for the table number and prints the corresponding multiplication table\n",
    "\n",
    "<p><code><i>Enter the table no: </i><b>8</b>\n",
    "\n",
    "0 x 8 = 0\n",
    "1 x 8 = 8\n",
    "2 x 8 = 16\n",
    "3 x 8 = 24\n",
    "4 x 8 = 32\n",
    "5 x 8 = 40\n",
    "6 x 8 = 48\n",
    "7 x 8 = 56\n",
    "8 x 8 = 64\n",
    "9 x 8 = 72\n",
    "</code></p>"
   ]
  },
  {
   "cell_type": "code",
   "execution_count": null,
   "metadata": {},
   "outputs": [],
   "source": [
    "### Get an table no from user, remember to convert to proper data type ###\n",
    "\n",
    "\n",
    "### use loop to multiply the loop iteration variable with table no ###\n",
    "\n",
    "\n",
    "\n"
   ]
  },
  {
   "cell_type": "markdown",
   "metadata": {},
   "source": [
    "<a href=\"#Create a multiplication table - Solution\">Link to solution</a>"
   ]
  },
  {
   "cell_type": "markdown",
   "metadata": {},
   "source": [
    "---"
   ]
  },
  {
   "cell_type": "markdown",
   "metadata": {},
   "source": [
    "# Fahrenheit to Celcius function"
   ]
  },
  {
   "cell_type": "markdown",
   "metadata": {},
   "source": [
    "Write a function FahtoCel to convert the Fahrenheit input to Celcius degrees\n",
    "\n",
    "Formula: `(°F − 32) × 5/9 = °C`\n",
    "\n",
    "Example: `(32°F − 32) × 5/9 = 0°C`"
   ]
  },
  {
   "cell_type": "code",
   "execution_count": null,
   "metadata": {},
   "outputs": [],
   "source": [
    "def FahtoCel(F):\n",
    "    # your code goes here\n",
    "    \n",
    "    \n",
    "    \n",
    "    \n",
    "user_input = float(input(\"Enter temperature in Fahrenheit\"))\n",
    "\n",
    "print (FahtoCel(user_input))"
   ]
  },
  {
   "cell_type": "markdown",
   "metadata": {},
   "source": [
    "<a href=\"#Fahrenheit to Celcius function - Solution\">Link to solution</a>"
   ]
  },
  {
   "cell_type": "markdown",
   "metadata": {},
   "source": [
    "---"
   ]
  },
  {
   "cell_type": "markdown",
   "metadata": {},
   "source": [
    "# Sum of list items"
   ]
  },
  {
   "cell_type": "markdown",
   "metadata": {},
   "source": [
    "Write a program using `for` loop to find the sum of all the items in the list shown below"
   ]
  },
  {
   "cell_type": "code",
   "execution_count": 31,
   "metadata": {
    "ExecuteTime": {
     "end_time": "2018-12-10T08:29:58.326678Z",
     "start_time": "2018-12-10T08:29:58.321681Z"
    }
   },
   "outputs": [],
   "source": [
    "l = [2,4,6,8,10,12,14,16,18,20]\n",
    "\n",
    "\n"
   ]
  },
  {
   "cell_type": "markdown",
   "metadata": {},
   "source": [
    "Discuss whether there's a better approach to find the `sum` in `list` rather than using `for` loop"
   ]
  },
  {
   "cell_type": "markdown",
   "metadata": {
    "ExecuteTime": {
     "end_time": "2018-12-10T08:31:24.577164Z",
     "start_time": "2018-12-10T08:31:24.570169Z"
    }
   },
   "source": [
    "<a href=\"#Sum of list items - Solution\">Link to solution</a>"
   ]
  },
  {
   "cell_type": "markdown",
   "metadata": {},
   "source": [
    "# Find the largest number"
   ]
  },
  {
   "cell_type": "markdown",
   "metadata": {},
   "source": [
    "Write a program using `for` loop to find the largest number of all the items in the list given below"
   ]
  },
  {
   "cell_type": "code",
   "execution_count": 51,
   "metadata": {
    "ExecuteTime": {
     "end_time": "2018-12-10T08:36:49.106014Z",
     "start_time": "2018-12-10T08:36:49.098018Z"
    }
   },
   "outputs": [
    {
     "data": {
      "text/plain": [
       "[20, 2, 4, 18, 8, 6, 12, 16, 10, 14]"
      ]
     },
     "execution_count": 51,
     "metadata": {},
     "output_type": "execute_result"
    }
   ],
   "source": [
    " l = [-1, 20, 2, 4, 18, 8, 6, 12, 16, 10, 14, 2]\n",
    "    \n",
    "    \n"
   ]
  },
  {
   "cell_type": "markdown",
   "metadata": {},
   "source": [
    "<a href=\"#Find the largest number - Solution\">Link to solution</a>"
   ]
  },
  {
   "cell_type": "markdown",
   "metadata": {},
   "source": [
    "---"
   ]
  },
  {
   "cell_type": "markdown",
   "metadata": {},
   "source": [
    "# Concatenate dictionaries"
   ]
  },
  {
   "cell_type": "markdown",
   "metadata": {},
   "source": [
    "Write a python program to concatenate/ join following dictionaries to create a new one\n",
    "\n",
    "```\n",
    "dic1={1:10, 2:20} \n",
    "dic2={3:30, 4:40} \n",
    "dic3={5:50,6:60}\n",
    "\n",
    "Expected Result : {1: 10, 2: 20, 3: 30, 4: 40, 5: 50, 6: 60}\n",
    "```"
   ]
  },
  {
   "cell_type": "code",
   "execution_count": 56,
   "metadata": {
    "ExecuteTime": {
     "end_time": "2018-12-10T08:49:36.573824Z",
     "start_time": "2018-12-10T08:49:36.565810Z"
    }
   },
   "outputs": [],
   "source": [
    "dic1={1:10, 2:20} \n",
    "dic2={3:30, 4:40} \n",
    "dic3={5:50, 6:60}\n",
    "\n",
    "\n",
    "### Your code goes here ###\n",
    "\n"
   ]
  },
  {
   "cell_type": "markdown",
   "metadata": {},
   "source": [
    "<a href=\"#Concatenate dictionaries - Solution\">Link to solution</a>"
   ]
  },
  {
   "cell_type": "markdown",
   "metadata": {},
   "source": [
    "---"
   ]
  },
  {
   "cell_type": "markdown",
   "metadata": {},
   "source": [
    "# Solution"
   ]
  },
  {
   "cell_type": "markdown",
   "metadata": {},
   "source": [
    "<a id=\"Create shapes - Solution\"></a>"
   ]
  },
  {
   "cell_type": "code",
   "execution_count": 7,
   "metadata": {
    "ExecuteTime": {
     "end_time": "2018-12-10T07:56:09.465001Z",
     "start_time": "2018-12-10T07:56:06.115965Z"
    }
   },
   "outputs": [],
   "source": [
    "### your code for triangle ###\n",
    "\n",
    "reset(); speed(1);\n",
    "\n",
    "d = 100; angle = 120;\n",
    "\n",
    "fd(d); lt(angle);\n",
    "fd(d); lt(angle);\n",
    "fd(d); lt(angle);"
   ]
  },
  {
   "cell_type": "code",
   "execution_count": 8,
   "metadata": {
    "ExecuteTime": {
     "end_time": "2018-12-10T07:56:29.658848Z",
     "start_time": "2018-12-10T07:56:25.675835Z"
    }
   },
   "outputs": [],
   "source": [
    "### code for square ###\n",
    "\n",
    "reset(); speed(1);\n",
    "\n",
    "d = 100; angle = 90;\n",
    "\n",
    "fd(d); lt(angle);\n",
    "fd(d); lt(angle);\n",
    "fd(d); lt(angle);\n",
    "fd(d); lt(angle);"
   ]
  },
  {
   "cell_type": "code",
   "execution_count": 9,
   "metadata": {
    "ExecuteTime": {
     "end_time": "2018-12-10T07:56:46.601120Z",
     "start_time": "2018-12-10T07:56:42.971862Z"
    }
   },
   "outputs": [],
   "source": [
    "### code for rectangle ###\n",
    "\n",
    "reset(); speed(1);\n",
    "\n",
    "l = 100; w = 50; angle = 90;\n",
    "\n",
    "fd(l); lt(angle);\n",
    "fd(w); lt(angle);\n",
    "fd(l); lt(angle);\n",
    "fd(w); lt(angle);"
   ]
  },
  {
   "cell_type": "code",
   "execution_count": 10,
   "metadata": {
    "ExecuteTime": {
     "end_time": "2018-12-10T07:57:05.899264Z",
     "start_time": "2018-12-10T07:57:00.708250Z"
    }
   },
   "outputs": [],
   "source": [
    "### code for hexagon ###\n",
    "\n",
    "reset(); speed(1);\n",
    "\n",
    "d = 100; angle = 60;\n",
    "\n",
    "fd(d); lt(angle);\n",
    "fd(d); lt(angle);\n",
    "fd(d); lt(angle);\n",
    "fd(d); lt(angle);\n",
    "fd(d); lt(angle);\n",
    "fd(d); lt(angle);"
   ]
  },
  {
   "cell_type": "markdown",
   "metadata": {},
   "source": [
    "<a id=\"Create shapes using loop - Solution\"></a>"
   ]
  },
  {
   "cell_type": "code",
   "execution_count": 16,
   "metadata": {
    "ExecuteTime": {
     "end_time": "2018-10-01T09:26:03.893036Z",
     "start_time": "2018-10-01T09:26:02.702716Z"
    }
   },
   "outputs": [],
   "source": [
    "# Create a traingle using for loop\n",
    "reset();\n",
    "for i in range(3):\n",
    "    fd(100);lt(120);"
   ]
  },
  {
   "cell_type": "code",
   "execution_count": 44,
   "metadata": {
    "ExecuteTime": {
     "end_time": "2018-10-01T16:08:15.515949Z",
     "start_time": "2018-10-01T16:08:14.395666Z"
    }
   },
   "outputs": [],
   "source": [
    "# Create a traingle using while loop\n",
    "counter = 0\n",
    "reset();\n",
    "while counter < 3:\n",
    "    fd(100);lt(120);\n",
    "    counter += 1"
   ]
  },
  {
   "cell_type": "markdown",
   "metadata": {
    "ExecuteTime": {
     "end_time": "2018-12-10T07:47:34.855998Z",
     "start_time": "2018-12-10T07:47:34.844001Z"
    }
   },
   "source": [
    "<a id=\"Create functions for different shapes - Solution\"></a>"
   ]
  },
  {
   "cell_type": "code",
   "execution_count": 48,
   "metadata": {
    "ExecuteTime": {
     "end_time": "2018-10-01T16:15:54.403396Z",
     "start_time": "2018-10-01T16:15:47.679451Z"
    }
   },
   "outputs": [
    {
     "name": "stdout",
     "output_type": "stream",
     "text": [
      "Enter a shape of your choice (triangle, square, hexagon) :square\n",
      "Enter distance: 100\n"
     ]
    }
   ],
   "source": [
    "# Create functions for different shapes\n",
    "def triangle(distance):\n",
    "    for i in range(3):\n",
    "        fd(distance); lt(120)\n",
    "        \n",
    "def square(distance):\n",
    "    for i in range(4):\n",
    "        fd(distance); lt(90)\n",
    "        \n",
    "def hexagon(distance):\n",
    "    for i in range(6):\n",
    "        fd(distance); lt(60)\n",
    "        \n",
    "reset()\n",
    "\n",
    "# Ask for user's choice of shape and distance\n",
    "shape = input(\"Enter a shape of your choice (triangle, square, hexagon) :\")\n",
    "distance = float(input(\"Enter distance: \"))\n",
    "\n",
    "# Draw the shape with given distance\n",
    "if shape == \"triangle\":\n",
    "    triangle(distance)\n",
    "elif shape == \"square\":\n",
    "    triangle(distance)\n",
    "elif shape == \"hexagon\":\n",
    "    triangle(distance)\n",
    "else:\n",
    "    print (\"Not a valid shape\")"
   ]
  },
  {
   "cell_type": "markdown",
   "metadata": {},
   "source": [
    "<a id=\"Create a multiplication table - Solution\"></a>"
   ]
  },
  {
   "cell_type": "code",
   "execution_count": 15,
   "metadata": {
    "ExecuteTime": {
     "end_time": "2018-12-10T08:02:08.146458Z",
     "start_time": "2018-12-10T08:02:06.261401Z"
    }
   },
   "outputs": [
    {
     "name": "stdout",
     "output_type": "stream",
     "text": [
      "Enter the table no: 8\n",
      "\n",
      "0 x 8 = 0\n",
      "1 x 8 = 8\n",
      "2 x 8 = 16\n",
      "3 x 8 = 24\n",
      "4 x 8 = 32\n",
      "5 x 8 = 40\n",
      "6 x 8 = 48\n",
      "7 x 8 = 56\n",
      "8 x 8 = 64\n",
      "9 x 8 = 72\n"
     ]
    }
   ],
   "source": [
    "### Create a mutliplication table - Solution ###\n",
    "\n",
    "table = int(input(\"Enter the table no: \"))\n",
    "\n",
    "print()\n",
    "for i in range(10):\n",
    "    print (i, \"x\", table, \"=\", i*table)"
   ]
  },
  {
   "cell_type": "markdown",
   "metadata": {
    "ExecuteTime": {
     "end_time": "2018-12-10T08:22:28.919308Z",
     "start_time": "2018-12-10T08:22:28.912297Z"
    }
   },
   "source": [
    "<a id=\"Fahrenheit to Celcius function - Solution\"></a>"
   ]
  },
  {
   "cell_type": "code",
   "execution_count": 28,
   "metadata": {
    "ExecuteTime": {
     "end_time": "2018-12-10T08:26:07.298238Z",
     "start_time": "2018-12-10T08:26:06.159838Z"
    }
   },
   "outputs": [
    {
     "name": "stdout",
     "output_type": "stream",
     "text": [
      "Enter temperature in Fahrenheit: 0\n",
      "\n",
      "Temperature in Celcius: -17.77777777777778\n"
     ]
    }
   ],
   "source": [
    "### Fahrenheit to Celcius function - Solution ###\n",
    "\n",
    "def FahtoCel(F):\n",
    "    C = (F-32)*5/9\n",
    "    return C\n",
    "    \n",
    "    \n",
    "user_input = float(input(\"Enter temperature in Fahrenheit: \"))\n",
    "\n",
    "Cel = FahtoCel(user_input)\n",
    "\n",
    "print (\"\\nTemperature in Celcius:\", Cel)"
   ]
  },
  {
   "cell_type": "markdown",
   "metadata": {},
   "source": [
    "<a id=\"Sum of list items - Solution\"></a>"
   ]
  },
  {
   "cell_type": "code",
   "execution_count": 44,
   "metadata": {
    "ExecuteTime": {
     "end_time": "2018-12-10T08:34:55.286141Z",
     "start_time": "2018-12-10T08:34:55.275169Z"
    }
   },
   "outputs": [
    {
     "name": "stdout",
     "output_type": "stream",
     "text": [
      "Sum of list items: 110\n"
     ]
    }
   ],
   "source": [
    "### Sum of list items - Solution 1 ###\n",
    "\n",
    "l = [2,4,6,8,10,12,14,16,18,20]\n",
    "\n",
    "total = 0\n",
    "for item in l:\n",
    "    total += item # <=> total = total + item\n",
    "\n",
    "print ('Sum of list items:', total)"
   ]
  },
  {
   "cell_type": "code",
   "execution_count": 47,
   "metadata": {
    "ExecuteTime": {
     "end_time": "2018-12-10T08:35:02.907320Z",
     "start_time": "2018-12-10T08:35:02.899326Z"
    }
   },
   "outputs": [
    {
     "data": {
      "text/plain": [
       "110"
      ]
     },
     "execution_count": 47,
     "metadata": {},
     "output_type": "execute_result"
    }
   ],
   "source": [
    "### Sum of list items - Solution 2 - Better approach ###\n",
    "\n",
    "sum([2,4,6,8,10,12,14,16,18,20])"
   ]
  },
  {
   "cell_type": "markdown",
   "metadata": {
    "ExecuteTime": {
     "end_time": "2018-12-10T08:44:01.250626Z",
     "start_time": "2018-12-10T08:44:01.244624Z"
    }
   },
   "source": [
    "<a id=\"Find the largest number - Solution\"></a>"
   ]
  },
  {
   "cell_type": "code",
   "execution_count": 53,
   "metadata": {
    "ExecuteTime": {
     "end_time": "2018-12-10T08:39:24.840660Z",
     "start_time": "2018-12-10T08:39:24.828690Z"
    }
   },
   "outputs": [
    {
     "name": "stdout",
     "output_type": "stream",
     "text": [
      "The largest number in the list: 20\n"
     ]
    }
   ],
   "source": [
    "### Find the largest number - Solution 1 ###\n",
    "\n",
    "l = [-1, 20, 2, 4, 18, 8, 6, 12, 16, 10, 14, 2]\n",
    "    \n",
    "largest = None\n",
    "\n",
    "for no in l:\n",
    "    if largest is None:\n",
    "        largest = no\n",
    "    elif largest < no:\n",
    "        largest = no\n",
    "        \n",
    "print (\"The largest number in the list:\", largest)"
   ]
  },
  {
   "cell_type": "code",
   "execution_count": 54,
   "metadata": {
    "ExecuteTime": {
     "end_time": "2018-12-10T08:41:03.465882Z",
     "start_time": "2018-12-10T08:41:03.452895Z"
    }
   },
   "outputs": [
    {
     "name": "stdout",
     "output_type": "stream",
     "text": [
      "The largest number in the list: 20\n",
      "The index no of largest item in the list: 1\n"
     ]
    }
   ],
   "source": [
    "### Find the largest number - Solution 2 ###\n",
    "### Finds both the largest number and the corresponding index position ###\n",
    "\n",
    "l = [-1, 20, 2, 4, 18, 8, 6, 12, 16, 10, 14, 2]\n",
    "    \n",
    "largest_idx = 0\n",
    "\n",
    "for i in range(1,len(l)):\n",
    "    \n",
    "    if l[largest_idx] < l[i]:\n",
    "        largest_idx = i\n",
    "        \n",
    "print (\"The largest number in the list:\", l[largest_idx])\n",
    "print (\"The index no of largest item in the list:\", largest_idx)"
   ]
  },
  {
   "cell_type": "markdown",
   "metadata": {},
   "source": [
    "<a id=\"Concatenate dictionaries - Solution\"></a>"
   ]
  },
  {
   "cell_type": "code",
   "execution_count": 60,
   "metadata": {
    "ExecuteTime": {
     "end_time": "2018-12-10T08:51:34.610065Z",
     "start_time": "2018-12-10T08:51:34.598071Z"
    }
   },
   "outputs": [
    {
     "name": "stdout",
     "output_type": "stream",
     "text": [
      "{1: 10, 2: 20, 3: 30, 4: 40, 5: 50, 6: 60}\n"
     ]
    }
   ],
   "source": [
    "dic1={1:10, 2:20} \n",
    "dic2={3:30, 4:40} \n",
    "dic3={5:50, 6:60}\n",
    "\n",
    "d_list = [dic1, dic2, dic3]\n",
    "\n",
    "new_d = {}\n",
    "\n",
    "for d in d_list:\n",
    "    for key,value in d.items():\n",
    "        new_d[key] = value\n",
    "        \n",
    "print (new_d)"
   ]
  },
  {
   "cell_type": "code",
   "execution_count": null,
   "metadata": {},
   "outputs": [],
   "source": []
  }
 ],
 "metadata": {
  "kernelspec": {
   "display_name": "Python3",
   "language": "python",
   "name": "python3"
  },
  "language_info": {
   "codemirror_mode": {
    "name": "ipython",
    "version": 3
   },
   "file_extension": ".py",
   "mimetype": "text/x-python",
   "name": "python",
   "nbconvert_exporter": "python",
   "pygments_lexer": "ipython3",
   "version": "3.6.1"
  },
  "toc": {
   "base_numbering": 1,
   "nav_menu": {},
   "number_sections": true,
   "sideBar": true,
   "skip_h1_title": false,
   "title_cell": "Table of Contents",
   "title_sidebar": "Contents",
   "toc_cell": true,
   "toc_position": {
    "height": "calc(100% - 180px)",
    "left": "10px",
    "top": "150px",
    "width": "235px"
   },
   "toc_section_display": true,
   "toc_window_display": true
  }
 },
 "nbformat": 4,
 "nbformat_minor": 2
}

{
 "cells": [
  {
   "cell_type": "markdown",
   "metadata": {},
   "source": [
    "# print()"
   ]
  },
  {
   "cell_type": "code",
   "execution_count": 19,
   "metadata": {
    "ExecuteTime": {
     "end_time": "2018-09-29T17:36:02.883499Z",
     "start_time": "2018-09-29T17:36:02.877484Z"
    }
   },
   "outputs": [
    {
     "name": "stdout",
     "output_type": "stream",
     "text": [
      "Welcome Pythonists!\n"
     ]
    }
   ],
   "source": [
    "print (\"Welcome Pythonists!\")"
   ]
  },
  {
   "cell_type": "markdown",
   "metadata": {},
   "source": [
    "# import turtle"
   ]
  },
  {
   "cell_type": "markdown",
   "metadata": {},
   "source": [
    "- The `import` statements in Python are similar (but different) to the `#include` statements in C: they allow us to use `modules` defined elsewhere (either in a standard module, or our own)\n",
    "- Using `import`, Python code in one module gains access to the all the code (functions, variables, classes, etc.) in another module"
   ]
  },
  {
   "cell_type": "code",
   "execution_count": 1,
   "metadata": {
    "ExecuteTime": {
     "end_time": "2018-09-29T17:29:43.510782Z",
     "start_time": "2018-09-29T17:29:43.452756Z"
    }
   },
   "outputs": [],
   "source": [
    "from turtle import *"
   ]
  },
  {
   "cell_type": "markdown",
   "metadata": {},
   "source": [
    "The above line imports all features of the `turtle` module into our programming. "
   ]
  },
  {
   "cell_type": "markdown",
   "metadata": {},
   "source": [
    "A quick intro on what `turtle` module is\n",
    "    - https://docs.python.org/3.3/library/turtle.html?highlight=turtle#changes-since-python-3-0\n",
    "    - Turtle graphics is a popular way used for introducing programming to kids\n",
    "    - Intricate shapes and pictures can easily be drawn\n",
    "    - Enables the programmer to use all the commands, classes and methods interactively"
   ]
  },
  {
   "cell_type": "markdown",
   "metadata": {},
   "source": [
    "# turtle functions"
   ]
  },
  {
   "cell_type": "markdown",
   "metadata": {},
   "source": [
    "https://docs.python.org/3.3/library/turtle.html?highlight=turtle#turtle-methods"
   ]
  },
  {
   "cell_type": "code",
   "execution_count": 2,
   "metadata": {
    "ExecuteTime": {
     "end_time": "2018-09-29T17:29:45.284443Z",
     "start_time": "2018-09-29T17:29:45.071671Z"
    }
   },
   "outputs": [],
   "source": [
    "reset()"
   ]
  },
  {
   "cell_type": "code",
   "execution_count": 3,
   "metadata": {
    "ExecuteTime": {
     "end_time": "2018-09-29T17:29:45.609097Z",
     "start_time": "2018-09-29T17:29:45.501432Z"
    }
   },
   "outputs": [],
   "source": [
    "forward(100)    # fd(100)"
   ]
  },
  {
   "cell_type": "code",
   "execution_count": 4,
   "metadata": {
    "ExecuteTime": {
     "end_time": "2018-09-29T17:29:46.135480Z",
     "start_time": "2018-09-29T17:29:46.001030Z"
    }
   },
   "outputs": [],
   "source": [
    "backward(100)   # bk(100)"
   ]
  },
  {
   "cell_type": "code",
   "execution_count": 5,
   "metadata": {
    "ExecuteTime": {
     "end_time": "2018-09-29T17:29:46.684289Z",
     "start_time": "2018-09-29T17:29:46.392415Z"
    }
   },
   "outputs": [],
   "source": [
    "right(180)      # rt(180)"
   ]
  },
  {
   "cell_type": "code",
   "execution_count": 6,
   "metadata": {
    "ExecuteTime": {
     "end_time": "2018-09-29T17:29:47.220270Z",
     "start_time": "2018-09-29T17:29:46.933642Z"
    }
   },
   "outputs": [],
   "source": [
    "left(180)       # lt(180)"
   ]
  },
  {
   "cell_type": "code",
   "execution_count": 7,
   "metadata": {
    "ExecuteTime": {
     "end_time": "2018-09-29T17:29:48.440441Z",
     "start_time": "2018-09-29T17:29:47.722589Z"
    }
   },
   "outputs": [],
   "source": [
    "reset()\n",
    "speed(1)\n",
    "goto(100,100) #setpos(100,100) #setposition(100,100)"
   ]
  },
  {
   "cell_type": "code",
   "execution_count": 8,
   "metadata": {
    "ExecuteTime": {
     "end_time": "2018-09-29T17:29:50.095721Z",
     "start_time": "2018-09-29T17:29:49.381308Z"
    }
   },
   "outputs": [],
   "source": [
    "reset()\n",
    "speed(1)\n",
    "penup()\n",
    "goto(100,100)\n",
    "pendown()"
   ]
  },
  {
   "cell_type": "code",
   "execution_count": 11,
   "metadata": {
    "ExecuteTime": {
     "end_time": "2018-09-29T17:32:08.958320Z",
     "start_time": "2018-09-29T17:32:08.778756Z"
    }
   },
   "outputs": [],
   "source": [
    "# “arrow”, “turtle”, “circle”, “square”, “triangle”, “classic”\n",
    "reset()\n",
    "shape(\"turtle\")\n",
    "fd(100)"
   ]
  },
  {
   "cell_type": "markdown",
   "metadata": {},
   "source": [
    "**Create the following shapes:**\n",
    "- triangle \n",
    "- square \n",
    "- rectangle \n",
    "- hexagon"
   ]
  },
  {
   "cell_type": "markdown",
   "metadata": {},
   "source": [
    "# Variables"
   ]
  },
  {
   "cell_type": "code",
   "execution_count": 15,
   "metadata": {
    "ExecuteTime": {
     "end_time": "2018-09-29T17:34:54.700771Z",
     "start_time": "2018-09-29T17:34:53.369682Z"
    }
   },
   "outputs": [],
   "source": [
    "length = 100\n",
    "angle = 90\n",
    "\n",
    "reset()\n",
    "fd(100); rt(90);\n",
    "fd(100); rt(90);\n",
    "fd(100); rt(90);\n",
    "fd(100); rt(90);"
   ]
  },
  {
   "cell_type": "markdown",
   "metadata": {},
   "source": [
    "# range fun"
   ]
  },
  {
   "cell_type": "code",
   "execution_count": 29,
   "metadata": {
    "ExecuteTime": {
     "end_time": "2018-09-29T17:39:54.744034Z",
     "start_time": "2018-09-29T17:39:54.736039Z"
    }
   },
   "outputs": [
    {
     "name": "stdout",
     "output_type": "stream",
     "text": [
      "0 1 2 3 4 5 6 7 8 9\n"
     ]
    }
   ],
   "source": [
    "print(*range(10)) "
   ]
  },
  {
   "cell_type": "markdown",
   "metadata": {},
   "source": [
    "# for loop"
   ]
  },
  {
   "cell_type": "code",
   "execution_count": 30,
   "metadata": {
    "ExecuteTime": {
     "end_time": "2018-09-29T17:40:00.859402Z",
     "start_time": "2018-09-29T17:39:57.554424Z"
    }
   },
   "outputs": [
    {
     "name": "stdout",
     "output_type": "stream",
     "text": [
      "Loop started\n",
      "Current loop index, i = 0\n",
      "Current loop index, i = 1\n",
      "Current loop index, i = 2\n",
      "Current loop index, i = 3\n",
      "Loop ended\n"
     ]
    }
   ],
   "source": [
    "length = 100\n",
    "angle = 90\n",
    "\n",
    "reset()\n",
    "speed(1)\n",
    "print (\"For Loop started\")\n",
    "\n",
    "for i in range(4):\n",
    "    print (\"Current loop index, i =\", i)\n",
    "    fd(100)\n",
    "    rt(90)\n",
    "    \n",
    "print (\"Loop ended\")"
   ]
  },
  {
   "cell_type": "markdown",
   "metadata": {},
   "source": [
    "# while loop"
   ]
  },
  {
   "cell_type": "code",
   "execution_count": 33,
   "metadata": {
    "ExecuteTime": {
     "end_time": "2018-09-29T17:41:50.505604Z",
     "start_time": "2018-09-29T17:41:46.739357Z"
    }
   },
   "outputs": [
    {
     "name": "stdout",
     "output_type": "stream",
     "text": [
      "For Loop started\n",
      "Current loop counter = 0\n",
      "Current loop counter = 1\n",
      "Current loop counter = 2\n",
      "Current loop counter = 3\n",
      "Loop ended\n"
     ]
    }
   ],
   "source": [
    "length = 100\n",
    "angle = 90\n",
    "\n",
    "reset()\n",
    "speed(1)\n",
    "print (\"For Loop started\")\n",
    "\n",
    "counter = 0\n",
    "while counter < 4:\n",
    "    print (\"Current loop counter =\", counter)\n",
    "    fd(100)\n",
    "    rt(90)\n",
    "    counter += 1\n",
    "    \n",
    "print (\"Loop ended\")"
   ]
  },
  {
   "cell_type": "code",
   "execution_count": 39,
   "metadata": {
    "ExecuteTime": {
     "end_time": "2018-09-29T17:45:01.186076Z",
     "start_time": "2018-09-29T17:44:59.720025Z"
    }
   },
   "outputs": [],
   "source": [
    "reset()\n",
    "speed(0)\n",
    "\n",
    "color(\"orange\")\n",
    "\n",
    "for outer in range(10):     #repeat 10 times\n",
    "    for inner in range(4):  #repeat four times\n",
    "        forward(50)\n",
    "        left(90)\n",
    "    left(36)          # turn left 36 degrees\n"
   ]
  },
  {
   "cell_type": "code",
   "execution_count": 8,
   "metadata": {
    "ExecuteTime": {
     "end_time": "2018-09-29T17:48:41.808286Z",
     "start_time": "2018-09-29T17:48:39.987764Z"
    }
   },
   "outputs": [
    {
     "name": "stdout",
     "output_type": "stream",
     "text": [
      "range(5, 60, 2)\n"
     ]
    }
   ],
   "source": [
    "from turtle import *\n",
    "\n",
    "reset()\n",
    "speed(0)\n",
    "\n",
    "color(\"blue\")\n",
    "shape(\"turtle\")\n",
    "\n",
    "print(range(5,60,2))\n",
    "up()                       # this is another way to pick up the pen\n",
    "for dist in range(5,150,2):# start with dist = 5 and grow by 2\n",
    "    stamp()                # leave an impression on the canvas\n",
    "    forward(dist)          # move tess along\n",
    "    right(24)              # and turn her\n",
    "\n"
   ]
  },
  {
   "cell_type": "code",
   "execution_count": null,
   "metadata": {},
   "outputs": [],
   "source": []
  }
 ],
 "metadata": {
  "kernelspec": {
   "display_name": "Python 3",
   "language": "python",
   "name": "python3"
  },
  "toc": {
   "base_numbering": 1,
   "nav_menu": {},
   "number_sections": true,
   "sideBar": true,
   "skip_h1_title": false,
   "title_cell": "Table of Contents",
   "title_sidebar": "Contents",
   "toc_cell": false,
   "toc_position": {
    "height": "calc(100% - 180px)",
    "left": "10px",
    "top": "150px",
    "width": "165px"
   },
   "toc_section_display": true,
   "toc_window_display": true
  }
 },
 "nbformat": 4,
 "nbformat_minor": 2
}

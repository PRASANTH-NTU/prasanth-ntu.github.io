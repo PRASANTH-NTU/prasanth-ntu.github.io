{
 "cells": [
  {
   "cell_type": "code",
   "execution_count": 73,
   "metadata": {
    "ExecuteTime": {
     "end_time": "2018-09-16T09:03:11.938336Z",
     "start_time": "2018-09-16T09:03:11.879369Z"
    },
    "code_folding": []
   },
   "outputs": [
    {
     "name": "stdout",
     "output_type": "stream",
     "text": [
      "File name extracted from URL: \u001b[92m\u001b[1mex1data1.txt\u001b[0m\n",
      "File downloaded to: ex1data1.txt in current working directoy\n"
     ]
    }
   ],
   "source": [
    "##################################################################################\n",
    "# Title      : Download any file from web                                        #\n",
    "# Description: The easiest way to download any file from web and save it locally #\n",
    "##################################################################################\n",
    "\n",
    "import urllib\n",
    "import urllib.request\n",
    "import os\n",
    "\n",
    "class bcolors:\n",
    "    '''To print in terminal with colors'''\n",
    "    GREEN_BOLD = '\\033[92m' + '\\033[1m'\n",
    "    ENDC = '\\033[0m'\n",
    "    \n",
    "url = '''https://prasanth-ntu.github.io/html/ML-Course/Intro-to-ML-with-Python/data/ex1data1.txt'''\n",
    "\n",
    "# extracts the file name from the given url (change the file_name to suit your needs)\n",
    "file_name =  url.split(\"/\")[-1]\n",
    "print (\"File name extracted from URL: \"+ bcolors.GREEN_BOLD + file_name + bcolors.ENDC)\n",
    "\n",
    "# uncomment the line below to print the current working directory\n",
    "#print (\"Current working dir:\", os.getcwd())   \n",
    "\n",
    "if not os.path.exists(file_name):\n",
    "    # file will be downloaded from web and stored in current directoy \n",
    "    file_name_out, message = urllib.request.urlretrieve(url = url, filename = file_name)   \n",
    "    print (\"File downloaded to:\", file_name_out, \"in current working directoy\")\n",
    "else:\n",
    "    # skip downloading if the file already exists in the current directory\n",
    "    print (\"File already exists:\", file_name, \"in current working directoy\")"
   ]
  },
  {
   "cell_type": "code",
   "execution_count": 80,
   "metadata": {
    "ExecuteTime": {
     "end_time": "2018-09-16T09:31:59.281012Z",
     "start_time": "2018-09-16T09:31:58.773320Z"
    }
   },
   "outputs": [
    {
     "name": "stdout",
     "output_type": "stream",
     "text": [
      "File name extracted from URL: \u001b[92m\u001b[1mwords.py\u001b[0m\n",
      "File downloaded to: words.py in current working directoy\n"
     ]
    }
   ],
   "source": [
    "url = \"http://www.py4inf.com/code/words.py\"\n",
    "\n",
    "file_name =  url.split(\"/\")[-1]\n",
    "print (\"File name extracted from URL: \"+ bcolors.GREEN_BOLD + file_name + bcolors.ENDC)\n",
    "\n",
    "file_name_out, message = urllib.request.urlretrieve(url = url, filename = file_name)   \n",
    "print (\"File downloaded to:\", file_name_out, \"in current working directoy\")"
   ]
  }
 ],
 "metadata": {
  "kernelspec": {
   "display_name": "Python 3",
   "language": "python",
   "name": "python3"
  },
  "language_info": {
   "codemirror_mode": {
    "name": "ipython",
    "version": 3
   },
   "file_extension": ".py",
   "mimetype": "text/x-python",
   "name": "python",
   "nbconvert_exporter": "python",
   "pygments_lexer": "ipython3",
   "version": "3.6.1"
  },
  "toc": {
   "base_numbering": 1,
   "nav_menu": {},
   "number_sections": true,
   "sideBar": true,
   "skip_h1_title": false,
   "title_cell": "Table of Contents",
   "title_sidebar": "Contents",
   "toc_cell": false,
   "toc_position": {},
   "toc_section_display": true,
   "toc_window_display": false
  }
 },
 "nbformat": 4,
 "nbformat_minor": 2
}

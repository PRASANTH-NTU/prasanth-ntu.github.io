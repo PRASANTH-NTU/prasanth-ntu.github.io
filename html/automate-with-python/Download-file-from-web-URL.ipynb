{
 "cells": [
  {
   "cell_type": "code",
   "execution_count": 10,
   "metadata": {
    "ExecuteTime": {
     "end_time": "2018-09-16T05:54:45.847338Z",
     "start_time": "2018-09-16T05:54:45.803366Z"
    }
   },
   "outputs": [],
   "source": [
    "import urllib\n",
    "import urllib.request\n",
    "import os"
   ]
  },
  {
   "cell_type": "code",
   "execution_count": 11,
   "metadata": {
    "ExecuteTime": {
     "end_time": "2018-09-16T05:54:46.589960Z",
     "start_time": "2018-09-16T05:54:46.583963Z"
    }
   },
   "outputs": [],
   "source": [
    "url = '''https://prasanth-ntu.github.io/html/ML-Course/Intro-to-ML-with-Python/data/ex1data1.txt'''"
   ]
  },
  {
   "cell_type": "code",
   "execution_count": 12,
   "metadata": {
    "ExecuteTime": {
     "end_time": "2018-09-16T05:54:46.801444Z",
     "start_time": "2018-09-16T05:54:46.793462Z"
    }
   },
   "outputs": [
    {
     "data": {
      "text/plain": [
       "'data\\\\ex1data1.txt'"
      ]
     },
     "execution_count": 12,
     "metadata": {},
     "output_type": "execute_result"
    }
   ],
   "source": [
    "path"
   ]
  },
  {
   "cell_type": "code",
   "execution_count": 13,
   "metadata": {
    "ExecuteTime": {
     "end_time": "2018-09-16T05:54:48.379463Z",
     "start_time": "2018-09-16T05:54:47.573970Z"
    }
   },
   "outputs": [
    {
     "name": "stdout",
     "output_type": "stream",
     "text": [
      "File downloaded to: data\\ex1data1.txt\n"
     ]
    }
   ],
   "source": [
    "path =  os.path.join(url.split(\"/\")[-2], url.split(\"/\")[-1])\n",
    "\n",
    "if not os.path.exists(path):\n",
    "    path_out, message = urllib.request.urlretrieve(url, path)\n",
    "    print (\"File downloaded to:\", path)\n",
    "else:\n",
    "    print (\"File already exists:\", path)"
   ]
  },
  {
   "cell_type": "code",
   "execution_count": null,
   "metadata": {},
   "outputs": [],
   "source": []
  }
 ],
 "metadata": {
  "kernelspec": {
   "display_name": "Python 3",
   "language": "python",
   "name": "python3"
  },
  "language_info": {
   "codemirror_mode": {
    "name": "ipython",
    "version": 3
   },
   "file_extension": ".py",
   "mimetype": "text/x-python",
   "name": "python",
   "nbconvert_exporter": "python",
   "pygments_lexer": "ipython3",
   "version": "3.6.1"
  },
  "toc": {
   "base_numbering": 1,
   "nav_menu": {},
   "number_sections": true,
   "sideBar": true,
   "skip_h1_title": false,
   "title_cell": "Table of Contents",
   "title_sidebar": "Contents",
   "toc_cell": false,
   "toc_position": {},
   "toc_section_display": true,
   "toc_window_display": false
  }
 },
 "nbformat": 4,
 "nbformat_minor": 2
}

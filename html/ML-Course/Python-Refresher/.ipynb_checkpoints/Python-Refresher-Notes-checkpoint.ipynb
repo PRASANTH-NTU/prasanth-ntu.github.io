{
 "cells": [
  {
   "cell_type": "markdown",
   "metadata": {
    "ExecuteTime": {
     "end_time": "2018-06-29T01:48:34.594903Z",
     "start_time": "2018-06-29T01:48:34.586925Z"
    }
   },
   "source": [
    "*For full screen view & to download, visit *\n",
    "- `HTML` : <a href=\"https://prasanth-ntu.github.io/html/ML-Course/Python-Refresher/Python-Refresher-Notes.html\" target=\"_blank\">Click here</a>\n",
    "- `GITHUB` : <a href=\"https://github.com/prasanth-ntu/prasanth-ntu.github.io/blob/master/html/ML-Course/Python-Refresher/Python-Refresher-Notes.ipynb\" target=\"_blank\">Click here</a>"
   ]
  },
  {
   "cell_type": "markdown",
   "metadata": {
    "ExecuteTime": {
     "end_time": "2018-06-27T08:28:44.322503Z",
     "start_time": "2018-06-27T08:28:43.384360Z"
    }
   },
   "source": [
    "<a id=\"Introduction\"></a>\n",
    "# Introduction"
   ]
  },
  {
   "cell_type": "markdown",
   "metadata": {
    "ExecuteTime": {
     "end_time": "2018-06-29T04:00:01.693329Z",
     "start_time": "2018-06-29T04:00:01.685333Z"
    }
   },
   "source": [
    "<p style=\"font-size:125%\"><b>Topics Covered</b></p>\n",
    "\n",
    "\n",
    "1. [Python Basics](#Python Basics) <br>\n",
    "2. [Flow Control](#Flow Control) <br>\n",
    "3. [Functions](#Functions) <br>\n",
    "4. [Lists](#Lists) <br>\n",
    "5. [Tuples](#Tuples) <br>\n",
    "6. [Dictionaries](#Dictionaries) <br>\n",
    "7. [Strings](#Strings) <br>\n",
    "8. [Set](#Set) <br>\n",
    "9. [Reading and Writing Files](#Reading and Writing Files) <br>\n",
    "10. [Others](#Others) <br>\n",
    "11. [Sample Projects](#Sample Projects) <br>\n",
    "12. [Packages used](#Packages used) <br>"
   ]
  },
  {
   "cell_type": "markdown",
   "metadata": {},
   "source": [
    "We have to learn some basic programming concepts before doing anything in Maching Learning or Data Science or any Projects.\n",
    "\n",
    "This notebook is created on the presumption that you have some basic grounding on programming world, with some idea on `variables & data types, arrays, flow conditions - if | else | elif | while | for | break | continue, importing libraries & functions, Functions - creating functions | passing arguments | returning values`."
   ]
  },
  {
   "cell_type": "markdown",
   "metadata": {},
   "source": [
    "TIP: Visit <a href=\"http://pythontutor.com/\" target=\"_blank\">Python Tutor Visualizer </a> to visualise the code and understand what happens in the behind the screen when each line of Python code runs."
   ]
  },
  {
   "cell_type": "markdown",
   "metadata": {},
   "source": [
    "<a id=\"Python Basics\"></a>\n",
    "# Python Basics"
   ]
  },
  {
   "cell_type": "markdown",
   "metadata": {},
   "source": [
    "## Entering expressions"
   ]
  },
  {
   "cell_type": "code",
   "execution_count": 1,
   "metadata": {
    "ExecuteTime": {
     "end_time": "2018-06-28T14:38:58.205924Z",
     "start_time": "2018-06-28T14:38:58.183934Z"
    }
   },
   "outputs": [
    {
     "data": {
      "text/plain": [
       "4"
      ]
     },
     "execution_count": 1,
     "metadata": {},
     "output_type": "execute_result"
    }
   ],
   "source": [
    "2+2"
   ]
  },
  {
   "cell_type": "markdown",
   "metadata": {
    "ExecuteTime": {
     "end_time": "2018-06-27T08:31:09.787160Z",
     "start_time": "2018-06-27T08:31:09.779163Z"
    }
   },
   "source": [
    "**Commonly used math operators**\n",
    "- Addition \n",
    "- Subtraction\n",
    "- Multiplication\n",
    "- Division\n",
    "- Integer Division\n",
    "- Moduls/ Remainder\n",
    "- Exponent/ Power\n",
    "\n",
    "**Order of Precedence**\n",
    "\n",
    "The order of operations (also called precedence) of Python math operators is similar to that of mathematics. The ** operator is evaluated first; the *, /, //, and % operators are evaluated next, from left to right; and the + and - operators are evaluated last (also from left to right)"
   ]
  },
  {
   "cell_type": "code",
   "execution_count": 15,
   "metadata": {
    "ExecuteTime": {
     "end_time": "2018-06-27T08:36:00.497367Z",
     "start_time": "2018-06-27T08:36:00.489372Z"
    }
   },
   "outputs": [
    {
     "data": {
      "text/plain": [
       "20"
      ]
     },
     "execution_count": 15,
     "metadata": {},
     "output_type": "execute_result"
    }
   ],
   "source": [
    "2+3*6"
   ]
  },
  {
   "cell_type": "code",
   "execution_count": 16,
   "metadata": {
    "ExecuteTime": {
     "end_time": "2018-06-27T08:36:05.158056Z",
     "start_time": "2018-06-27T08:36:05.150042Z"
    }
   },
   "outputs": [
    {
     "data": {
      "text/plain": [
       "30"
      ]
     },
     "execution_count": 16,
     "metadata": {},
     "output_type": "execute_result"
    }
   ],
   "source": [
    "(2 + 3) * 6"
   ]
  },
  {
   "cell_type": "code",
   "execution_count": 17,
   "metadata": {
    "ExecuteTime": {
     "end_time": "2018-06-27T08:36:11.911226Z",
     "start_time": "2018-06-27T08:36:11.899234Z"
    }
   },
   "outputs": [
    {
     "data": {
      "text/plain": [
       "32"
      ]
     },
     "execution_count": 17,
     "metadata": {},
     "output_type": "execute_result"
    }
   ],
   "source": [
    "2**5"
   ]
  },
  {
   "cell_type": "code",
   "execution_count": 25,
   "metadata": {
    "ExecuteTime": {
     "end_time": "2018-06-27T09:31:51.210956Z",
     "start_time": "2018-06-27T09:31:51.202980Z"
    }
   },
   "outputs": [
    {
     "data": {
      "text/plain": [
       "3.142857142857143"
      ]
     },
     "execution_count": 25,
     "metadata": {},
     "output_type": "execute_result"
    }
   ],
   "source": [
    "22/7"
   ]
  },
  {
   "cell_type": "code",
   "execution_count": 26,
   "metadata": {
    "ExecuteTime": {
     "end_time": "2018-06-27T09:31:53.900896Z",
     "start_time": "2018-06-27T09:31:53.892917Z"
    }
   },
   "outputs": [
    {
     "data": {
      "text/plain": [
       "3"
      ]
     },
     "execution_count": 26,
     "metadata": {},
     "output_type": "execute_result"
    }
   ],
   "source": [
    "22//7"
   ]
  },
  {
   "cell_type": "code",
   "execution_count": 27,
   "metadata": {
    "ExecuteTime": {
     "end_time": "2018-06-27T09:31:56.640839Z",
     "start_time": "2018-06-27T09:31:56.632842Z"
    }
   },
   "outputs": [
    {
     "data": {
      "text/plain": [
       "1"
      ]
     },
     "execution_count": 27,
     "metadata": {},
     "output_type": "execute_result"
    }
   ],
   "source": [
    "22 % 7"
   ]
  },
  {
   "cell_type": "markdown",
   "metadata": {},
   "source": [
    "## Common data types"
   ]
  },
  {
   "cell_type": "markdown",
   "metadata": {},
   "source": [
    "**Common Data Types**\n",
    "- Integer - `int`\n",
    "    - e.g. `0,50,-100`\n",
    "- Floating-Point - `float`\n",
    "    - e.g. `1.25, 3.14, -1.0, --0.5, 0.0`\n",
    "- String - `str`\n",
    "    - e.g. `'a', 'aa', 'aaa', 'Hello!', '11 cats'`\n",
    "- Boolean - `bool`\n",
    "    - e.g. `True, False`"
   ]
  },
  {
   "cell_type": "markdown",
   "metadata": {},
   "source": [
    "String can be enclosed in single or double quotes"
   ]
  },
  {
   "cell_type": "markdown",
   "metadata": {},
   "source": [
    "## String concatenation & Replicaiton"
   ]
  },
  {
   "cell_type": "markdown",
   "metadata": {},
   "source": [
    "The meaning of an operator (e.g. `+`) may change based on the data types of the values next to it\n"
   ]
  },
  {
   "cell_type": "code",
   "execution_count": 23,
   "metadata": {
    "ExecuteTime": {
     "end_time": "2018-06-27T08:41:08.764193Z",
     "start_time": "2018-06-27T08:41:08.756216Z"
    }
   },
   "outputs": [
    {
     "data": {
      "text/plain": [
       "3"
      ]
     },
     "execution_count": 23,
     "metadata": {},
     "output_type": "execute_result"
    }
   ],
   "source": [
    "# Addition for int or float\n",
    "1 + 2"
   ]
  },
  {
   "cell_type": "code",
   "execution_count": 22,
   "metadata": {
    "ExecuteTime": {
     "end_time": "2018-06-27T08:40:49.806583Z",
     "start_time": "2018-06-27T08:40:49.794610Z"
    }
   },
   "outputs": [
    {
     "data": {
      "text/plain": [
       "'BruceWayne'"
      ]
     },
     "execution_count": 22,
     "metadata": {},
     "output_type": "execute_result"
    }
   ],
   "source": [
    "# Concatenation for string data type\n",
    "'Bruce' + 'Wayne'"
   ]
  },
  {
   "cell_type": "markdown",
   "metadata": {},
   "source": [
    " <p style=\"color:red;\">If you try to use the + operator on a string and an integer value, Python will not know how to handle this, and it will display an error message</p>."
   ]
  },
  {
   "cell_type": "code",
   "execution_count": 29,
   "metadata": {
    "ExecuteTime": {
     "end_time": "2018-06-27T09:32:31.739717Z",
     "start_time": "2018-06-27T09:32:31.723723Z"
    }
   },
   "outputs": [
    {
     "ename": "TypeError",
     "evalue": "must be str, not int",
     "output_type": "error",
     "traceback": [
      "\u001b[1;31m---------------------------------------------------------------------------\u001b[0m",
      "\u001b[1;31mTypeError\u001b[0m                                 Traceback (most recent call last)",
      "\u001b[1;32m<ipython-input-29-ec44728c2272>\u001b[0m in \u001b[0;36m<module>\u001b[1;34m()\u001b[0m\n\u001b[0;32m      1\u001b[0m \u001b[1;31m# if you try to use the + operator on a string and an integer value,\u001b[0m\u001b[1;33m\u001b[0m\u001b[1;33m\u001b[0m\u001b[0m\n\u001b[0;32m      2\u001b[0m \u001b[1;31m# Python will not know how to handle this, and it will display an error message.\u001b[0m\u001b[1;33m\u001b[0m\u001b[1;33m\u001b[0m\u001b[0m\n\u001b[1;32m----> 3\u001b[1;33m \u001b[1;34m'Bruce'\u001b[0m \u001b[1;33m+\u001b[0m \u001b[1;36m42\u001b[0m\u001b[1;33m\u001b[0m\u001b[0m\n\u001b[0m",
      "\u001b[1;31mTypeError\u001b[0m: must be str, not int"
     ]
    }
   ],
   "source": [
    "'Bruce' + 42"
   ]
  },
  {
   "cell_type": "markdown",
   "metadata": {
    "ExecuteTime": {
     "end_time": "2018-06-27T09:34:50.278962Z",
     "start_time": "2018-06-27T09:34:50.270964Z"
    }
   },
   "source": [
    "The `*` operator when used on one string value and one integer value becomes string replication operator."
   ]
  },
  {
   "cell_type": "code",
   "execution_count": 31,
   "metadata": {
    "ExecuteTime": {
     "end_time": "2018-06-27T09:34:27.049334Z",
     "start_time": "2018-06-27T09:34:27.041361Z"
    }
   },
   "outputs": [
    {
     "data": {
      "text/plain": [
       "10"
      ]
     },
     "execution_count": 31,
     "metadata": {},
     "output_type": "execute_result"
    }
   ],
   "source": [
    "2*5"
   ]
  },
  {
   "cell_type": "code",
   "execution_count": 30,
   "metadata": {
    "ExecuteTime": {
     "end_time": "2018-06-27T09:33:51.330742Z",
     "start_time": "2018-06-27T09:33:51.322765Z"
    }
   },
   "outputs": [
    {
     "data": {
      "text/plain": [
       "'BatmanBatmanBatmanBatmanBatman'"
      ]
     },
     "execution_count": 30,
     "metadata": {},
     "output_type": "execute_result"
    }
   ],
   "source": [
    "'Batman'*5"
   ]
  },
  {
   "cell_type": "markdown",
   "metadata": {
    "ExecuteTime": {
     "end_time": "2018-06-27T09:36:49.908939Z",
     "start_time": "2018-06-27T09:36:49.900963Z"
    }
   },
   "source": [
    "**Varaibles**\n",
    "- It's like box in the computer’s memory where we can store values\n",
    "\n",
    "**Variable Names** are case sensitive.<br>We  can name a variable anything as long as it obeys the following three rules:\n",
    "\n",
    "- It can be only one word.\n",
    "- It can use only letters, numbers, and the underscore `_` character.\n",
    "- It can’t begin with a number.\n",
    "\n",
    "e.g. of *invalid variable names*: \t\n",
    "`current-balance, current balance 4account, total_$um, 'batman'`"
   ]
  },
  {
   "cell_type": "markdown",
   "metadata": {},
   "source": [
    "## `Hello world` - First Python program"
   ]
  },
  {
   "cell_type": "code",
   "execution_count": 4,
   "metadata": {
    "ExecuteTime": {
     "end_time": "2018-06-28T15:09:30.254443Z",
     "start_time": "2018-06-28T15:09:18.805651Z"
    }
   },
   "outputs": [
    {
     "name": "stdout",
     "output_type": "stream",
     "text": [
      "Hello world!\n",
      "What is your name?\n",
      "James Bond\n",
      "It is good to meet you, James Bond\n",
      "The length of your name is:\n",
      "10\n",
      "What is your age?\n",
      "50\n",
      "<class 'str'>\n",
      "You will be 51 in a year.\n"
     ]
    }
   ],
   "source": [
    "# This program says hello and asks for my name.\n",
    "\n",
    "print('Hello world!')\n",
    "print('What is your name?')    # ask for their name\n",
    "myName = input()\n",
    "print('It is good to meet you, ' + myName)\n",
    "print('The length of your name is:')\n",
    "print(len(myName))\n",
    "print('What is your age?')    # ask for their age\n",
    "myAge = input()\n",
    "print (type(myAge))\n",
    "print('You will be ' + str(int(myAge) + 1) + ' in a year.')"
   ]
  },
  {
   "cell_type": "markdown",
   "metadata": {},
   "source": [
    "### Program Breakdown"
   ]
  },
  {
   "cell_type": "markdown",
   "metadata": {},
   "source": [
    "#### Comments"
   ]
  },
  {
   "cell_type": "markdown",
   "metadata": {
    "ExecuteTime": {
     "end_time": "2018-06-27T09:43:38.683366Z",
     "start_time": "2018-06-27T09:43:38.675388Z"
    }
   },
   "source": [
    "The following line is called a comment. Python ignores comments, and you can use them to write notes or remind yourself what the code is trying to do. Any text for the rest of the line following a hash mark `#` is part of a comment."
   ]
  },
  {
   "cell_type": "code",
   "execution_count": 5,
   "metadata": {
    "ExecuteTime": {
     "end_time": "2018-06-27T09:44:16.819207Z",
     "start_time": "2018-06-27T09:44:16.815212Z"
    }
   },
   "outputs": [],
   "source": [
    "# This program says hello and asks for my name."
   ]
  },
  {
   "cell_type": "markdown",
   "metadata": {},
   "source": [
    "To comment across multiple lies, we can use triple quotes (could be single `'''` or double `\"\"\"`)"
   ]
  },
  {
   "cell_type": "code",
   "execution_count": 193,
   "metadata": {
    "ExecuteTime": {
     "end_time": "2018-06-29T13:21:57.310908Z",
     "start_time": "2018-06-29T13:21:57.302916Z"
    }
   },
   "outputs": [
    {
     "name": "stdout",
     "output_type": "stream",
     "text": [
      "Hello\n"
     ]
    }
   ],
   "source": [
    "'''This line is part of multine comment\n",
    "\n",
    "This line is also part of multiline comment\n",
    "\n",
    "Again, this line as well is a multiline comment'''\n",
    "\n",
    "print ('Hello')"
   ]
  },
  {
   "cell_type": "markdown",
   "metadata": {},
   "source": [
    "#### `print()` function"
   ]
  },
  {
   "cell_type": "markdown",
   "metadata": {},
   "source": [
    "The `print()` function displays the `string` value inside the parentheses on the screen. Notice that the quotes are not printed to the screen. They just mark where the string begins and ends; they are not part of the string value."
   ]
  },
  {
   "cell_type": "code",
   "execution_count": 6,
   "metadata": {
    "ExecuteTime": {
     "end_time": "2018-06-27T09:45:41.772088Z",
     "start_time": "2018-06-27T09:45:41.764087Z"
    }
   },
   "outputs": [
    {
     "name": "stdout",
     "output_type": "stream",
     "text": [
      "Hello world!\n",
      "What is your name?\n"
     ]
    }
   ],
   "source": [
    "print('Hello world!')\n",
    "print('What is your name?')    # ask for their name"
   ]
  },
  {
   "cell_type": "markdown",
   "metadata": {},
   "source": [
    "#### `input()` function"
   ]
  },
  {
   "cell_type": "markdown",
   "metadata": {},
   "source": [
    "The `input()` function waits for the user to type some text on the keyboard and press ENTER key.\n",
    "The user input will then be stored in `myName` variable"
   ]
  },
  {
   "cell_type": "code",
   "execution_count": 7,
   "metadata": {
    "ExecuteTime": {
     "end_time": "2018-06-27T09:47:57.345988Z",
     "start_time": "2018-06-27T09:47:44.580356Z"
    }
   },
   "outputs": [
    {
     "name": "stdout",
     "output_type": "stream",
     "text": [
      "Gandolf the Gray\n"
     ]
    }
   ],
   "source": [
    "myName = input()"
   ]
  },
  {
   "cell_type": "markdown",
   "metadata": {},
   "source": [
    "The expression `'It is good to meet you, ' + myName` is evaluated and is `print`ed on the screen."
   ]
  },
  {
   "cell_type": "code",
   "execution_count": 8,
   "metadata": {
    "ExecuteTime": {
     "end_time": "2018-06-27T09:49:06.300283Z",
     "start_time": "2018-06-27T09:49:06.292287Z"
    }
   },
   "outputs": [
    {
     "name": "stdout",
     "output_type": "stream",
     "text": [
      "It is good to meet you, Gandolf the Gray\n"
     ]
    }
   ],
   "source": [
    "print('It is good to meet you, ' + myName)"
   ]
  },
  {
   "cell_type": "markdown",
   "metadata": {},
   "source": [
    "#### `len()` function"
   ]
  },
  {
   "cell_type": "markdown",
   "metadata": {},
   "source": [
    "The `len()` function returns the number of characters in the given string."
   ]
  },
  {
   "cell_type": "code",
   "execution_count": 9,
   "metadata": {
    "ExecuteTime": {
     "end_time": "2018-06-27T09:49:47.701469Z",
     "start_time": "2018-06-27T09:49:47.693472Z"
    }
   },
   "outputs": [
    {
     "name": "stdout",
     "output_type": "stream",
     "text": [
      "The length of your name is:\n",
      "16\n"
     ]
    }
   ],
   "source": [
    "print('The length of your name is:')\n",
    "print(len(myName))"
   ]
  },
  {
   "cell_type": "markdown",
   "metadata": {},
   "source": [
    "#### type() function"
   ]
  },
  {
   "cell_type": "markdown",
   "metadata": {},
   "source": [
    "The `type()` function returns the data type of the value given"
   ]
  },
  {
   "cell_type": "code",
   "execution_count": 7,
   "metadata": {
    "ExecuteTime": {
     "end_time": "2018-06-28T15:10:31.254178Z",
     "start_time": "2018-06-28T15:10:29.193350Z"
    }
   },
   "outputs": [
    {
     "name": "stdout",
     "output_type": "stream",
     "text": [
      "What is your age?\n",
      "50\n",
      "<class 'str'>\n"
     ]
    }
   ],
   "source": [
    "print('What is your age?')    # ask for their age\n",
    "myAge = input()\n",
    "print (type(myAge))           # the input functions usually returns a string data type"
   ]
  },
  {
   "cell_type": "markdown",
   "metadata": {},
   "source": [
    "#### `str(), int(), float()` functions"
   ]
  },
  {
   "cell_type": "markdown",
   "metadata": {},
   "source": [
    "These functions are used to change the data types of the values. <br>\n",
    "As the `input()` function returns `str` data, `myAge` variable is of `str` data type. <br>\n",
    "To add a numerical value to it, the value should be converted to `int`.<br> \n",
    "After performing the addition, the `int` value is converted back to `str` again so that it can be concatenated with other strings."
   ]
  },
  {
   "cell_type": "code",
   "execution_count": 8,
   "metadata": {
    "ExecuteTime": {
     "end_time": "2018-06-28T15:10:37.979478Z",
     "start_time": "2018-06-28T15:10:37.973500Z"
    }
   },
   "outputs": [
    {
     "name": "stdout",
     "output_type": "stream",
     "text": [
      "50\n"
     ]
    }
   ],
   "source": [
    "print('You will be ' + str(int(myAge) + 1) + ' in a year.')"
   ]
  },
  {
   "cell_type": "markdown",
   "metadata": {},
   "source": [
    "<a id=\"Flow Control\"></a>\n",
    "# Flow Control"
   ]
  },
  {
   "cell_type": "markdown",
   "metadata": {},
   "source": [
    "## `and,or,not` and `<,>,<=,>=,==,!=`"
   ]
  },
  {
   "cell_type": "markdown",
   "metadata": {},
   "source": [
    "- Boolean Values: `True, False`\n",
    "- Boolean operators: `and,or,not`\n",
    "    - returns `True` or `False`\n",
    "- Comparison operators: `<, >, <=, >=, ==, !=`\n",
    "    - returns `True` or `False`"
   ]
  },
  {
   "cell_type": "code",
   "execution_count": 14,
   "metadata": {
    "ExecuteTime": {
     "end_time": "2018-06-28T17:28:47.932616Z",
     "start_time": "2018-06-28T17:28:47.925617Z"
    }
   },
   "outputs": [
    {
     "data": {
      "text/plain": [
       "(False, True, False)"
      ]
     },
     "execution_count": 14,
     "metadata": {},
     "output_type": "execute_result"
    }
   ],
   "source": [
    "5 > 6"
   ]
  },
  {
   "cell_type": "code",
   "execution_count": 20,
   "metadata": {
    "ExecuteTime": {
     "end_time": "2018-06-28T17:29:57.912911Z",
     "start_time": "2018-06-28T17:29:57.904933Z"
    }
   },
   "outputs": [
    {
     "data": {
      "text/plain": [
       "(True, False, True, False)"
      ]
     },
     "execution_count": 20,
     "metadata": {},
     "output_type": "execute_result"
    }
   ],
   "source": [
    "5 <= 6, 3>5, 3!=5, 3 == 5"
   ]
  },
  {
   "cell_type": "code",
   "execution_count": 17,
   "metadata": {
    "ExecuteTime": {
     "end_time": "2018-06-28T17:29:15.083136Z",
     "start_time": "2018-06-28T17:29:15.075158Z"
    }
   },
   "outputs": [
    {
     "data": {
      "text/plain": [
       "(False, True)"
      ]
     },
     "execution_count": 17,
     "metadata": {},
     "output_type": "execute_result"
    }
   ],
   "source": [
    "5<6 and 3>5, 5<6 or 3>5"
   ]
  },
  {
   "cell_type": "code",
   "execution_count": 12,
   "metadata": {
    "ExecuteTime": {
     "end_time": "2018-06-28T17:28:29.602211Z",
     "start_time": "2018-06-28T17:28:29.595208Z"
    }
   },
   "outputs": [
    {
     "data": {
      "text/plain": [
       "(False, True)"
      ]
     },
     "execution_count": 12,
     "metadata": {},
     "output_type": "execute_result"
    }
   ],
   "source": [
    "not (True), not(False)"
   ]
  },
  {
   "cell_type": "markdown",
   "metadata": {},
   "source": [
    "## Flow control"
   ]
  },
  {
   "cell_type": "markdown",
   "metadata": {},
   "source": [
    "### `if,else,elif`"
   ]
  },
  {
   "cell_type": "markdown",
   "metadata": {},
   "source": [
    "#### `if`"
   ]
  },
  {
   "cell_type": "markdown",
   "metadata": {
    "ExecuteTime": {
     "end_time": "2018-06-28T17:37:32.256117Z",
     "start_time": "2018-06-28T17:37:32.249104Z"
    }
   },
   "source": [
    "- When `if` condition evalues to `True`, the block of statement indented inside will get executed. \n",
    "- The block can be indented (pushed in) by *`Tab`*. The block can be deindented by *`Shift+Tab`*\n",
    "\n",
    "*Note: There should be atleast one line of indented code after `if` condition*"
   ]
  },
  {
   "cell_type": "code",
   "execution_count": 30,
   "metadata": {
    "ExecuteTime": {
     "end_time": "2018-06-28T17:34:44.986189Z",
     "start_time": "2018-06-28T17:34:44.980193Z"
    }
   },
   "outputs": [
    {
     "name": "stdout",
     "output_type": "stream",
     "text": [
      "age is less than 10\n"
     ]
    }
   ],
   "source": [
    "age = 5\n",
    "if age < 10:                       # age < 10 evaluates to True      \n",
    "    print ('age is less than 10')  # if True, this code will get executed"
   ]
  },
  {
   "cell_type": "code",
   "execution_count": 31,
   "metadata": {
    "ExecuteTime": {
     "end_time": "2018-06-28T17:34:45.155141Z",
     "start_time": "2018-06-28T17:34:45.150134Z"
    }
   },
   "outputs": [],
   "source": [
    "age = 15\n",
    "if age < 10:                       # age < 10 evaluates to False             \n",
    "    print ('age is less than 10')  # Doesn't get printed as age variable us more than 10"
   ]
  },
  {
   "cell_type": "markdown",
   "metadata": {},
   "source": [
    "#### `else`"
   ]
  },
  {
   "cell_type": "markdown",
   "metadata": {
    "ExecuteTime": {
     "end_time": "2018-06-28T17:38:14.878641Z",
     "start_time": "2018-06-28T17:38:14.870647Z"
    }
   },
   "source": [
    "- When `if` condition evalues to `True`, the block of statement indented inside `if` will get executed.\n",
    "- When it evaluates to `False`, the  block of statement indented inside `else` will get executed."
   ]
  },
  {
   "cell_type": "code",
   "execution_count": 32,
   "metadata": {
    "ExecuteTime": {
     "end_time": "2018-06-28T17:35:21.266180Z",
     "start_time": "2018-06-28T17:35:21.260184Z"
    }
   },
   "outputs": [
    {
     "name": "stdout",
     "output_type": "stream",
     "text": [
      "You are an adult\n"
     ]
    }
   ],
   "source": [
    "age = 18\n",
    "if age < 18:                     \n",
    "    print ('You are not an adult')\n",
    "else:\n",
    "    print ('You are an adult')"
   ]
  },
  {
   "cell_type": "markdown",
   "metadata": {},
   "source": [
    "#### `elif`"
   ]
  },
  {
   "cell_type": "markdown",
   "metadata": {
    "ExecuteTime": {
     "end_time": "2018-06-28T17:39:28.994740Z",
     "start_time": "2018-06-28T17:39:28.986745Z"
    }
   },
   "source": [
    "- When `if` condition evalues to `True`, the block of statement indented inside `if` will get executed.\n",
    "- When it fails, the `elif` condition will be evaluated and if it turns out to be `True`,  the block of statement indented inside `elif` will get executed.\n",
    "- When both `if` and `elif` evaluates to `False`, the  block of statement indented inside `else` will get executed."
   ]
  },
  {
   "cell_type": "code",
   "execution_count": 37,
   "metadata": {
    "ExecuteTime": {
     "end_time": "2018-06-28T17:36:43.078074Z",
     "start_time": "2018-06-28T17:36:43.070076Z"
    }
   },
   "outputs": [
    {
     "name": "stdout",
     "output_type": "stream",
     "text": [
      "You are neither adult nor teen. Just a kid!\n"
     ]
    }
   ],
   "source": [
    "age = 10\n",
    "if age > 18:\n",
    "    print ('You are  an adult')\n",
    "elif age > 12:\n",
    "    print ('You are a teenager')\n",
    "else:\n",
    "    print ('You are neither adult nor teen. Just a kid!')"
   ]
  },
  {
   "cell_type": "markdown",
   "metadata": {
    "ExecuteTime": {
     "end_time": "2018-06-28T17:41:21.725225Z",
     "start_time": "2018-06-28T17:41:21.717231Z"
    }
   },
   "source": [
    "We can have multiple `elif` statements after an `if` statement. In the entire combo, `if-elseif-else` combo, only one of the condition will be exeucted. The order of execution is from top to bottom."
   ]
  },
  {
   "cell_type": "code",
   "execution_count": 41,
   "metadata": {
    "ExecuteTime": {
     "end_time": "2018-06-28T17:40:55.946528Z",
     "start_time": "2018-06-28T17:40:55.937553Z"
    }
   },
   "outputs": [
    {
     "name": "stdout",
     "output_type": "stream",
     "text": [
      "You are a teenager\n"
     ]
    }
   ],
   "source": [
    "age = 15\n",
    "if age >60 :\n",
    "    print ('You are very old')\n",
    "elif age>18:\n",
    "    print ('You are an adult')\n",
    "elif age > 12:\n",
    "    print ('You are a teenager')\n",
    "else:\n",
    "    print ('You are neither adult nor teen. Just a kid!')"
   ]
  },
  {
   "cell_type": "markdown",
   "metadata": {},
   "source": [
    "#### nested `if`"
   ]
  },
  {
   "cell_type": "markdown",
   "metadata": {},
   "source": [
    "We can have `if-else` inside another `if-else` and we can keep nesting them. The deeper the nest gets, the harder it will be to debug and trace."
   ]
  },
  {
   "cell_type": "code",
   "execution_count": 44,
   "metadata": {
    "ExecuteTime": {
     "end_time": "2018-06-28T17:46:21.765952Z",
     "start_time": "2018-06-28T17:46:14.614365Z"
    }
   },
   "outputs": [
    {
     "name": "stdout",
     "output_type": "stream",
     "text": [
      "Enter user name: james bond\n",
      "Enter pass word: 008\n",
      "Access denied. Wrong password\n"
     ]
    }
   ],
   "source": [
    "user_name = input('Enter user name: ')      # james bond\n",
    "pass_word = input('Enter pass word: ')      # 007\n",
    "if user_name == 'james bond':\n",
    "    if pass_word == '007':\n",
    "        print ('Access granted')\n",
    "    else:\n",
    "        print ('Access denied. Wrong password')\n",
    "else:\n",
    "     print ('Access denied. Wrong username')"
   ]
  },
  {
   "cell_type": "markdown",
   "metadata": {
    "ExecuteTime": {
     "end_time": "2018-06-28T17:48:00.330476Z",
     "start_time": "2018-06-28T17:48:00.323501Z"
    }
   },
   "source": [
    "The above code could be re-witten as follows using `boolean` and `comparison operators` making it easy to read and follow"
   ]
  },
  {
   "cell_type": "code",
   "execution_count": 46,
   "metadata": {
    "ExecuteTime": {
     "end_time": "2018-06-28T17:47:18.575904Z",
     "start_time": "2018-06-28T17:47:12.425393Z"
    }
   },
   "outputs": [
    {
     "name": "stdout",
     "output_type": "stream",
     "text": [
      "Enter user name: james bond\n",
      "Enter pass word: 007\n",
      "Access granted\n"
     ]
    }
   ],
   "source": [
    "user_name = input('Enter user name: ')      # james bond\n",
    "pass_word = input('Enter pass word: ')      # 007\n",
    "if user_name == 'james bond' and pass_word == '007':\n",
    "    print ('Access granted')\n",
    "else:\n",
    "    print ('Access denied. Wrong login details')"
   ]
  },
  {
   "cell_type": "markdown",
   "metadata": {},
   "source": [
    "### Loops"
   ]
  },
  {
   "cell_type": "markdown",
   "metadata": {},
   "source": [
    "#### `while` loop"
   ]
  },
  {
   "cell_type": "markdown",
   "metadata": {},
   "source": [
    "- `while` loop keeps on running as long as the condition evaluates to `True`"
   ]
  },
  {
   "cell_type": "code",
   "execution_count": 1,
   "metadata": {
    "ExecuteTime": {
     "end_time": "2018-06-29T01:23:11.757368Z",
     "start_time": "2018-06-29T01:23:11.733383Z"
    }
   },
   "outputs": [
    {
     "name": "stdout",
     "output_type": "stream",
     "text": [
      "Loop start\n",
      "10\n",
      "9\n",
      "8\n",
      "7\n",
      "6\n",
      "5\n",
      "4\n",
      "3\n",
      "2\n",
      "1\n",
      "Loop end\n"
     ]
    }
   ],
   "source": [
    "i = 10\n",
    "print ('Loop start')\n",
    "while i>0:            # while loop evaluates to true as long as i>0\n",
    "    print (i)\n",
    "    i = i - 1         # everytime, the loop runs, value of `i` decreases by 1\n",
    "print ('Loop end')    # This line of code is outside the loop. Will run only when the while loop ends"
   ]
  },
  {
   "cell_type": "markdown",
   "metadata": {
    "ExecuteTime": {
     "end_time": "2018-06-29T01:25:13.890946Z",
     "start_time": "2018-06-29T01:25:13.884950Z"
    }
   },
   "source": [
    "What happens if you run **`while False:`** and **`while True:`**?"
   ]
  },
  {
   "cell_type": "markdown",
   "metadata": {},
   "source": [
    "#### for loop"
   ]
  },
  {
   "cell_type": "markdown",
   "metadata": {},
   "source": [
    "- `for` loop runs for a fixed number of iterations.\n",
    "- Here, the `range(10)` returns a list of numbers from 0 to 9.\n",
    "- Everytime, the `for` loop runs, the iterator variable `i` takes the next available value from the list."
   ]
  },
  {
   "cell_type": "code",
   "execution_count": 3,
   "metadata": {
    "ExecuteTime": {
     "end_time": "2018-06-29T01:31:05.211143Z",
     "start_time": "2018-06-29T01:31:05.202144Z"
    }
   },
   "outputs": [
    {
     "name": "stdout",
     "output_type": "stream",
     "text": [
      "0\n",
      "1\n",
      "2\n",
      "3\n",
      "4\n",
      "5\n",
      "6\n",
      "7\n",
      "8\n",
      "9\n"
     ]
    }
   ],
   "source": [
    "for i in range(10):\n",
    "    print (i)"
   ]
  },
  {
   "cell_type": "markdown",
   "metadata": {},
   "source": [
    "- Beside using `range()` function in `for` loop, we can use many other data types.\n",
    "- Here, I have used `list` type containing list of 4 names and used `for` loop to read through all names in list, one at a time .\n",
    "\n",
    "*Note: We will see more about list data types later.*"
   ]
  },
  {
   "cell_type": "code",
   "execution_count": 5,
   "metadata": {
    "ExecuteTime": {
     "end_time": "2018-06-29T01:34:54.156627Z",
     "start_time": "2018-06-29T01:34:54.148615Z"
    }
   },
   "outputs": [
    {
     "name": "stdout",
     "output_type": "stream",
     "text": [
      "Batman\n",
      "Superman\n",
      "Ironman\n",
      "Thanos\n"
     ]
    }
   ],
   "source": [
    "for name in ['Batman', 'Superman', 'Ironman', 'Thanos']:\n",
    "    print (name)"
   ]
  },
  {
   "cell_type": "markdown",
   "metadata": {
    "ExecuteTime": {
     "end_time": "2018-06-29T01:36:37.554619Z",
     "start_time": "2018-06-29T01:36:37.547621Z"
    }
   },
   "source": [
    "- We can also loop through each element in a `string` data type\n",
    "\n",
    "*Note: We will see more about string data types later.*"
   ]
  },
  {
   "cell_type": "code",
   "execution_count": 6,
   "metadata": {
    "ExecuteTime": {
     "end_time": "2018-06-29T01:36:07.830347Z",
     "start_time": "2018-06-29T01:36:07.820353Z"
    }
   },
   "outputs": [
    {
     "name": "stdout",
     "output_type": "stream",
     "text": [
      "B\n",
      "r\n",
      "u\n",
      "c\n",
      "e\n",
      " \n",
      "W\n",
      "a\n",
      "y\n",
      "n\n",
      "e\n"
     ]
    }
   ],
   "source": [
    "for letter in 'Bruce Wayne':\n",
    "    print (letter)"
   ]
  },
  {
   "cell_type": "markdown",
   "metadata": {},
   "source": [
    "#### `break`"
   ]
  },
  {
   "cell_type": "markdown",
   "metadata": {},
   "source": [
    "`break` is used to exit the loop (`while` or `for`) the program is currently evaluating prematurely based on certain conditions."
   ]
  },
  {
   "cell_type": "code",
   "execution_count": 9,
   "metadata": {
    "ExecuteTime": {
     "end_time": "2018-06-29T01:40:52.240830Z",
     "start_time": "2018-06-29T01:40:52.229838Z"
    }
   },
   "outputs": [
    {
     "name": "stdout",
     "output_type": "stream",
     "text": [
      "Loop start\n",
      "B\n",
      "r\n",
      "u\n",
      "c\n",
      "e\n",
      "Break the loop\n",
      "Loop end\n"
     ]
    }
   ],
   "source": [
    "print ('Loop start')\n",
    "for letter in 'Bruce Wayne':\n",
    "    print (letter)\n",
    "    if letter == 'e':\n",
    "        print ('Break the loop')\n",
    "        break                     # this command breaks the for loop (takes the program outside the loop)\n",
    "print ('Loop end')"
   ]
  },
  {
   "cell_type": "markdown",
   "metadata": {},
   "source": [
    "#### `continue`"
   ]
  },
  {
   "cell_type": "markdown",
   "metadata": {},
   "source": [
    "- `continue` is used to skip the execution of code inside the loop (`for` or `while`) and move on to next iteration on certain conditions.\n",
    "\n",
    "The program below skips printing the vowel letters and prints the rest of the consonants. "
   ]
  },
  {
   "cell_type": "code",
   "execution_count": 11,
   "metadata": {
    "ExecuteTime": {
     "end_time": "2018-06-29T01:43:35.869488Z",
     "start_time": "2018-06-29T01:43:35.858489Z"
    }
   },
   "outputs": [
    {
     "name": "stdout",
     "output_type": "stream",
     "text": [
      "Loop start\n",
      "B\n",
      "r\n",
      "c\n",
      " \n",
      "W\n",
      "y\n",
      "n\n",
      "Loop end\n"
     ]
    }
   ],
   "source": [
    "print ('Loop start')\n",
    "for letter in 'Bruce Wayne':\n",
    "    if letter == 'a' or letter =='e' or letter =='i' or letter =='o' or letter =='u':\n",
    "        continue      # this command skips lines inside the for loop below this line and starts the next iteration\n",
    "    print (letter)\n",
    "               \n",
    "print ('Loop end')"
   ]
  },
  {
   "cell_type": "markdown",
   "metadata": {},
   "source": [
    "### `in`"
   ]
  },
  {
   "cell_type": "markdown",
   "metadata": {},
   "source": [
    "- The `in` operator can be used to check whether a value is inside another and it evaluates to `bool` (`True`,`False`)\n",
    "\n",
    "*Note: We will see more about `in`, `str` & `list` data types later.*"
   ]
  },
  {
   "cell_type": "code",
   "execution_count": 14,
   "metadata": {
    "ExecuteTime": {
     "end_time": "2018-06-29T01:51:20.312815Z",
     "start_time": "2018-06-29T01:51:20.294847Z"
    }
   },
   "outputs": [
    {
     "data": {
      "text/plain": [
       "True"
      ]
     },
     "execution_count": 14,
     "metadata": {},
     "output_type": "execute_result"
    }
   ],
   "source": [
    "'a' in 'James'"
   ]
  },
  {
   "cell_type": "code",
   "execution_count": 20,
   "metadata": {
    "ExecuteTime": {
     "end_time": "2018-06-29T01:53:50.480512Z",
     "start_time": "2018-06-29T01:53:50.472536Z"
    }
   },
   "outputs": [
    {
     "data": {
      "text/plain": [
       "(False, True, True, False)"
      ]
     },
     "execution_count": 20,
     "metadata": {},
     "output_type": "execute_result"
    }
   ],
   "source": [
    "'b' in 'James', 'Ja' in 'James', 'James' in 'James', 'JameS' in 'James'"
   ]
  },
  {
   "cell_type": "code",
   "execution_count": 13,
   "metadata": {
    "ExecuteTime": {
     "end_time": "2018-06-29T01:49:34.578025Z",
     "start_time": "2018-06-29T01:49:34.567025Z"
    }
   },
   "outputs": [
    {
     "name": "stdout",
     "output_type": "stream",
     "text": [
      "Loop start\n",
      "B\n",
      "r\n",
      "c\n",
      " \n",
      "W\n",
      "y\n",
      "n\n",
      "Loop end\n"
     ]
    }
   ],
   "source": [
    "print ('Loop start')\n",
    "for letter in 'Bruce Wayne':\n",
    "    if letter in 'aeiou':          \n",
    "        continue      # this command skips lines inside the for loop below this line and starts the next iteration\n",
    "    print (letter)\n",
    "               \n",
    "print ('Loop end')"
   ]
  },
  {
   "cell_type": "markdown",
   "metadata": {},
   "source": [
    "<a id=\"Functions\"></a>\n",
    "# Functions"
   ]
  },
  {
   "cell_type": "markdown",
   "metadata": {},
   "source": [
    "## `import`"
   ]
  },
  {
   "cell_type": "markdown",
   "metadata": {
    "ExecuteTime": {
     "end_time": "2018-06-29T01:54:55.171209Z",
     "start_time": "2018-06-29T01:54:55.163215Z"
    }
   },
   "source": [
    "**built-in functions**\n",
    "- Till now, we have used a basic set of functions like `print(), inpu()t, len(), str(), int(), float()`.\n",
    "\n",
    "**standard library**\n",
    "- Set of modules that conatins related group of functions embedded together.\n",
    "- e.g.\n",
    "    - `math` module contains mathematic related functions.\n",
    "    - `random` module containsrandom number related functions.       \n",
    "\n",
    "> Functions are often used as *\"Black Boxes\"*. Often, all we need to know is its inputs (parameter values), outputs and its generic function. We don't have to burden to understand each and every function and the code inside it."
   ]
  },
  {
   "cell_type": "markdown",
   "metadata": {},
   "source": [
    "**`random`** library"
   ]
  },
  {
   "cell_type": "code",
   "execution_count": 24,
   "metadata": {
    "ExecuteTime": {
     "end_time": "2018-06-29T02:00:10.696534Z",
     "start_time": "2018-06-29T02:00:10.689536Z"
    }
   },
   "outputs": [
    {
     "name": "stdout",
     "output_type": "stream",
     "text": [
      "5\n"
     ]
    }
   ],
   "source": [
    "import random                # Before using a function in standard library, we have to use import _______\n",
    "print (random.randint(1,10)) # Randomly generates an integer from 1 to 10"
   ]
  },
  {
   "cell_type": "code",
   "execution_count": 23,
   "metadata": {
    "ExecuteTime": {
     "end_time": "2018-06-29T01:59:55.415952Z",
     "start_time": "2018-06-29T01:59:55.408973Z"
    }
   },
   "outputs": [
    {
     "name": "stdout",
     "output_type": "stream",
     "text": [
      "1\n"
     ]
    }
   ],
   "source": [
    "print (random.randint(1,10))  # Randomly generates an integer from 1 to 10"
   ]
  },
  {
   "cell_type": "markdown",
   "metadata": {
    "ExecuteTime": {
     "end_time": "2018-06-29T02:01:29.983891Z",
     "start_time": "2018-06-29T02:01:29.976916Z"
    }
   },
   "source": [
    "**`math`** library"
   ]
  },
  {
   "cell_type": "code",
   "execution_count": 30,
   "metadata": {
    "ExecuteTime": {
     "end_time": "2018-06-29T02:00:54.318905Z",
     "start_time": "2018-06-29T02:00:54.310911Z"
    }
   },
   "outputs": [
    {
     "data": {
      "text/plain": [
       "1.4142135623730951"
      ]
     },
     "execution_count": 30,
     "metadata": {},
     "output_type": "execute_result"
    }
   ],
   "source": [
    "import math\n",
    "math.sqrt(2)"
   ]
  },
  {
   "cell_type": "code",
   "execution_count": 31,
   "metadata": {
    "ExecuteTime": {
     "end_time": "2018-06-29T02:00:56.615298Z",
     "start_time": "2018-06-29T02:00:56.607301Z"
    }
   },
   "outputs": [
    {
     "data": {
      "text/plain": [
       "3.141592653589793"
      ]
     },
     "execution_count": 31,
     "metadata": {},
     "output_type": "execute_result"
    }
   ],
   "source": [
    "math.pi"
   ]
  },
  {
   "cell_type": "markdown",
   "metadata": {},
   "source": [
    "## Function - `def`"
   ]
  },
  {
   "cell_type": "markdown",
   "metadata": {},
   "source": [
    "- A `function` is like mini program inside a program.\n",
    "- The idea behind function is to avoid duplicating code.\n",
    "- Deduplicaiton makes our code shorter, easier to read and update."
   ]
  },
  {
   "cell_type": "markdown",
   "metadata": {
    "ExecuteTime": {
     "end_time": "2018-06-29T02:10:18.035516Z",
     "start_time": "2018-06-29T02:10:18.030539Z"
    }
   },
   "source": [
    "### fn - without `arguments` and `return`"
   ]
  },
  {
   "cell_type": "code",
   "execution_count": 47,
   "metadata": {
    "ExecuteTime": {
     "end_time": "2018-06-29T02:22:26.003470Z",
     "start_time": "2018-06-29T02:22:25.998474Z"
    }
   },
   "outputs": [],
   "source": [
    "# create a function named 'welcome'. It neither take any input and nor returns any output\n",
    "def welcome():\n",
    "    print ('hi')\n",
    "    print ('mi casa es tu casa')"
   ]
  },
  {
   "cell_type": "code",
   "execution_count": 46,
   "metadata": {
    "ExecuteTime": {
     "end_time": "2018-06-29T02:12:03.816594Z",
     "start_time": "2018-06-29T02:12:03.809598Z"
    }
   },
   "outputs": [
    {
     "name": "stdout",
     "output_type": "stream",
     "text": [
      "hi\n",
      "mi casa es tu casa\n"
     ]
    }
   ],
   "source": [
    "# invoking/ calling a function\n",
    "welcome()"
   ]
  },
  {
   "cell_type": "code",
   "execution_count": 43,
   "metadata": {
    "ExecuteTime": {
     "end_time": "2018-06-29T02:11:49.647742Z",
     "start_time": "2018-06-29T02:11:49.639748Z"
    }
   },
   "outputs": [
    {
     "name": "stdout",
     "output_type": "stream",
     "text": [
      "hi\n",
      "mi casa es tu casa\n",
      "hi\n",
      "mi casa es tu casa\n"
     ]
    }
   ],
   "source": [
    "welcome()\n",
    "welcome()"
   ]
  },
  {
   "cell_type": "markdown",
   "metadata": {
    "ExecuteTime": {
     "end_time": "2018-06-29T02:34:47.332443Z",
     "start_time": "2018-06-29T02:34:47.326447Z"
    }
   },
   "source": [
    "### fn - with `arguments`"
   ]
  },
  {
   "cell_type": "code",
   "execution_count": 51,
   "metadata": {
    "ExecuteTime": {
     "end_time": "2018-06-29T02:36:36.642839Z",
     "start_time": "2018-06-29T02:36:36.636842Z"
    }
   },
   "outputs": [],
   "source": [
    "def hello(name):\n",
    "    print ('Hello ' + name + '!')\n",
    "    print ('Bienvenido a casa')"
   ]
  },
  {
   "cell_type": "code",
   "execution_count": 52,
   "metadata": {
    "ExecuteTime": {
     "end_time": "2018-06-29T02:36:36.798948Z",
     "start_time": "2018-06-29T02:36:36.787955Z"
    }
   },
   "outputs": [
    {
     "name": "stdout",
     "output_type": "stream",
     "text": [
      "Hello Scare Crow!\n",
      "Bienvenido a casa\n"
     ]
    }
   ],
   "source": [
    "hello('Scare Crow')"
   ]
  },
  {
   "cell_type": "markdown",
   "metadata": {},
   "source": [
    "### fn - with `return`"
   ]
  },
  {
   "cell_type": "markdown",
   "metadata": {},
   "source": [
    "- e.g.\n",
    "    - `len()` - returns the lenght of the argument passed inside\n",
    "    - `len('Python')` >>> 5"
   ]
  },
  {
   "cell_type": "code",
   "execution_count": 54,
   "metadata": {
    "ExecuteTime": {
     "end_time": "2018-06-29T03:51:52.295952Z",
     "start_time": "2018-06-29T03:51:52.287976Z"
    }
   },
   "outputs": [],
   "source": [
    "def greet(lan):\n",
    "    if lan == 'english':\n",
    "        return 'Welcome'\n",
    "    elif lan == 'spanish':\n",
    "        return 'Bienvenido'\n",
    "    elif lan == 'french':\n",
    "        return 'Bonjour'\n",
    "    else:\n",
    "        return 'Welcome'"
   ]
  },
  {
   "cell_type": "code",
   "execution_count": 56,
   "metadata": {
    "ExecuteTime": {
     "end_time": "2018-06-29T03:52:14.630916Z",
     "start_time": "2018-06-29T03:52:14.621939Z"
    }
   },
   "outputs": [
    {
     "data": {
      "text/plain": [
       "'Welcome'"
      ]
     },
     "execution_count": 56,
     "metadata": {},
     "output_type": "execute_result"
    }
   ],
   "source": [
    "greet('english')"
   ]
  },
  {
   "cell_type": "code",
   "execution_count": 59,
   "metadata": {
    "ExecuteTime": {
     "end_time": "2018-06-29T03:54:01.112371Z",
     "start_time": "2018-06-29T03:54:01.105363Z"
    }
   },
   "outputs": [
    {
     "data": {
      "text/plain": [
       "'Bonjour'"
      ]
     },
     "execution_count": 59,
     "metadata": {},
     "output_type": "execute_result"
    }
   ],
   "source": [
    "greet('french')"
   ]
  },
  {
   "cell_type": "markdown",
   "metadata": {},
   "source": [
    "## Local and Global scope"
   ]
  },
  {
   "cell_type": "markdown",
   "metadata": {
    "ExecuteTime": {
     "end_time": "2018-06-29T04:17:41.580815Z",
     "start_time": "2018-06-29T04:17:41.571840Z"
    }
   },
   "source": [
    "- *Local scope* - Variables inside the function exist in local scope\n",
    "    - Created whenever a function is called\n",
    "    - Variables created inside a function eist within local scope and they cannot be used outside the function\n",
    "    - When the function returns/ ends, the scope is closed/ destroyed along with the variables inside it\n",
    "    - The next time we call the function, the local scope is created again and they wont remember the previous values \n",
    "    \n",
    "- *Global scope* - Variables that are assigned outside all functions exist in global scope\n",
    "    - Created when our program begins\n",
    "    - When program ends, the global scope is destroyed\n",
    "\n",
    "A variable must be either in local or global scope, cannot be both. \n",
    "\n",
    "*Note: We will see more about `Local and Global scope` later.*"
   ]
  },
  {
   "cell_type": "markdown",
   "metadata": {},
   "source": [
    "<a id=\"Lists\"></a>\n",
    "# `Lists`"
   ]
  },
  {
   "cell_type": "markdown",
   "metadata": {
    "ExecuteTime": {
     "end_time": "2018-06-29T04:58:19.870783Z",
     "start_time": "2018-06-29T04:58:19.863787Z"
    }
   },
   "source": [
    " We have already seen `bool`, `int`, `float`, `str` built-in data types.`list` <span style=\"color:green;\"> is my personal favortie data type in Python </span>. Two other cool built-in data types that we will explore in further sections are `tuples` and `dict`.\n",
    "\n",
    "- `list` will be very helpful to handle large amount of data and hierarchical structures.\n",
    "- `str` and `tuple` have lot of `list` like features which will also be in further sections below.\n",
    "- `list` can contain another `list` and many other different data types inside it."
   ]
  },
  {
   "cell_type": "markdown",
   "metadata": {
    "ExecuteTime": {
     "end_time": "2018-06-29T05:14:33.475594Z",
     "start_time": "2018-06-29T05:14:33.469594Z"
    }
   },
   "source": [
    "## List data type\n",
    "- Variable that contains multiple values in an ordered sequence\n",
    "- They start and end with `[` `]`\n",
    "- Values inside the `list` are called as `items`"
   ]
  },
  {
   "cell_type": "code",
   "execution_count": 64,
   "metadata": {
    "ExecuteTime": {
     "end_time": "2018-06-29T05:16:26.321295Z",
     "start_time": "2018-06-29T05:16:26.314299Z"
    }
   },
   "outputs": [],
   "source": [
    "animals = ['cat', 'bat', 'rat', 'cow', 'dog']"
   ]
  },
  {
   "cell_type": "code",
   "execution_count": 65,
   "metadata": {
    "ExecuteTime": {
     "end_time": "2018-06-29T05:16:31.804389Z",
     "start_time": "2018-06-29T05:16:31.793417Z"
    }
   },
   "outputs": [
    {
     "data": {
      "text/plain": [
       "['cat', 'bat', 'rat', 'cow', 'dog']"
      ]
     },
     "execution_count": 65,
     "metadata": {},
     "output_type": "execute_result"
    }
   ],
   "source": [
    "animals"
   ]
  },
  {
   "cell_type": "markdown",
   "metadata": {},
   "source": [
    "## List index\n",
    "**Getting individual values in a List with indices**\n",
    "\n",
    "- The list index starts from 0\n",
    "- <p style=\"color:red;\">The index no can only be integers </p>\n",
    "\n",
    "<p><i>To ponder : What happens when you try to access an element with index number that doesn't exist in the list?</i> <big><big>🤔</big></big></p>"
   ]
  },
  {
   "cell_type": "code",
   "execution_count": 66,
   "metadata": {
    "ExecuteTime": {
     "end_time": "2018-06-29T05:16:35.022403Z",
     "start_time": "2018-06-29T05:16:35.014409Z"
    }
   },
   "outputs": [
    {
     "data": {
      "text/plain": [
       "'cat'"
      ]
     },
     "execution_count": 66,
     "metadata": {},
     "output_type": "execute_result"
    }
   ],
   "source": [
    "animals[0]"
   ]
  },
  {
   "cell_type": "code",
   "execution_count": 67,
   "metadata": {
    "ExecuteTime": {
     "end_time": "2018-06-29T05:16:37.691065Z",
     "start_time": "2018-06-29T05:16:37.683056Z"
    }
   },
   "outputs": [
    {
     "data": {
      "text/plain": [
       "'bat'"
      ]
     },
     "execution_count": 67,
     "metadata": {},
     "output_type": "execute_result"
    }
   ],
   "source": [
    "animals[1]"
   ]
  },
  {
   "cell_type": "code",
   "execution_count": 68,
   "metadata": {
    "ExecuteTime": {
     "end_time": "2018-06-29T05:19:36.438432Z",
     "start_time": "2018-06-29T05:19:36.261534Z"
    }
   },
   "outputs": [
    {
     "ename": "TypeError",
     "evalue": "list indices must be integers or slices, not float",
     "output_type": "error",
     "traceback": [
      "\u001b[1;31m---------------------------------------------------------------------------\u001b[0m",
      "\u001b[1;31mTypeError\u001b[0m                                 Traceback (most recent call last)",
      "\u001b[1;32m<ipython-input-68-ac423d8e17b8>\u001b[0m in \u001b[0;36m<module>\u001b[1;34m()\u001b[0m\n\u001b[1;32m----> 1\u001b[1;33m \u001b[0manimals\u001b[0m\u001b[1;33m[\u001b[0m\u001b[1;36m1.0\u001b[0m\u001b[1;33m]\u001b[0m\u001b[1;33m\u001b[0m\u001b[0m\n\u001b[0m",
      "\u001b[1;31mTypeError\u001b[0m: list indices must be integers or slices, not float"
     ]
    }
   ],
   "source": [
    "animals[1.0]"
   ]
  },
  {
   "cell_type": "code",
   "execution_count": 83,
   "metadata": {
    "ExecuteTime": {
     "end_time": "2018-06-29T05:24:22.018342Z",
     "start_time": "2018-06-29T05:24:22.011329Z"
    }
   },
   "outputs": [
    {
     "data": {
      "text/plain": [
       "'rat'"
      ]
     },
     "execution_count": 83,
     "metadata": {},
     "output_type": "execute_result"
    }
   ],
   "source": [
    "animals[-1]    # Go in reverse direction"
   ]
  },
  {
   "cell_type": "markdown",
   "metadata": {},
   "source": [
    "## Change list value using index"
   ]
  },
  {
   "cell_type": "code",
   "execution_count": 92,
   "metadata": {
    "ExecuteTime": {
     "end_time": "2018-06-29T05:49:38.829644Z",
     "start_time": "2018-06-29T05:49:38.825642Z"
    }
   },
   "outputs": [],
   "source": [
    "animals = ['cat', 'bat', 'rat', 'cow', 'dog']"
   ]
  },
  {
   "cell_type": "code",
   "execution_count": 93,
   "metadata": {
    "ExecuteTime": {
     "end_time": "2018-06-29T05:49:42.566507Z",
     "start_time": "2018-06-29T05:49:42.558517Z"
    }
   },
   "outputs": [
    {
     "data": {
      "text/plain": [
       "['cat', 'bat', 'rat', 'cow', 'dog']"
      ]
     },
     "execution_count": 93,
     "metadata": {},
     "output_type": "execute_result"
    }
   ],
   "source": [
    "animals"
   ]
  },
  {
   "cell_type": "code",
   "execution_count": 95,
   "metadata": {
    "ExecuteTime": {
     "end_time": "2018-06-29T05:50:12.283541Z",
     "start_time": "2018-06-29T05:50:12.277530Z"
    }
   },
   "outputs": [
    {
     "name": "stdout",
     "output_type": "stream",
     "text": [
      "['cat', 'horse', 'rat', 'cow', 'dog']\n"
     ]
    }
   ],
   "source": [
    "animals[1] = 'horse'     # Override the item in index 1 of list \n",
    "print (animals)"
   ]
  },
  {
   "cell_type": "markdown",
   "metadata": {
    "ExecuteTime": {
     "end_time": "2018-06-29T05:22:53.578923Z",
     "start_time": "2018-06-29T05:22:53.573945Z"
    }
   },
   "source": [
    "## List of List"
   ]
  },
  {
   "cell_type": "code",
   "execution_count": 76,
   "metadata": {
    "ExecuteTime": {
     "end_time": "2018-06-29T05:23:42.398546Z",
     "start_time": "2018-06-29T05:23:42.392570Z"
    }
   },
   "outputs": [],
   "source": [
    "num = [[1,2,3,4,5],[6,7,8,9,10]]"
   ]
  },
  {
   "cell_type": "code",
   "execution_count": 78,
   "metadata": {
    "ExecuteTime": {
     "end_time": "2018-06-29T05:23:47.455126Z",
     "start_time": "2018-06-29T05:23:47.447148Z"
    }
   },
   "outputs": [
    {
     "data": {
      "text/plain": [
       "[1, 2, 3, 4, 5]"
      ]
     },
     "execution_count": 78,
     "metadata": {},
     "output_type": "execute_result"
    }
   ],
   "source": [
    "num[0]"
   ]
  },
  {
   "cell_type": "code",
   "execution_count": 80,
   "metadata": {
    "ExecuteTime": {
     "end_time": "2018-06-29T05:23:58.059331Z",
     "start_time": "2018-06-29T05:23:58.051339Z"
    }
   },
   "outputs": [
    {
     "data": {
      "text/plain": [
       "1"
      ]
     },
     "execution_count": 80,
     "metadata": {},
     "output_type": "execute_result"
    }
   ],
   "source": [
    "num[0][0]"
   ]
  },
  {
   "cell_type": "code",
   "execution_count": 81,
   "metadata": {
    "ExecuteTime": {
     "end_time": "2018-06-29T05:24:03.818305Z",
     "start_time": "2018-06-29T05:24:03.811309Z"
    }
   },
   "outputs": [
    {
     "data": {
      "text/plain": [
       "6"
      ]
     },
     "execution_count": 81,
     "metadata": {},
     "output_type": "execute_result"
    }
   ],
   "source": [
    "num[1][0]"
   ]
  },
  {
   "cell_type": "markdown",
   "metadata": {},
   "source": [
    "## List slice\n",
    "\n",
    "Syntax: `list_name[start:stop(exclusive):jump]`\n",
    "Default values\n",
    "- `start = 0`\n",
    "- `stop = last item in list`\n",
    "- `jump = 1`"
   ]
  },
  {
   "cell_type": "code",
   "execution_count": 71,
   "metadata": {
    "ExecuteTime": {
     "end_time": "2018-06-29T05:22:28.999554Z",
     "start_time": "2018-06-29T05:22:28.992559Z"
    }
   },
   "outputs": [
    {
     "data": {
      "text/plain": [
       "['cat', 'bat']"
      ]
     },
     "execution_count": 71,
     "metadata": {},
     "output_type": "execute_result"
    }
   ],
   "source": [
    "animals = ['cat', 'bat', 'rat', 'cow', 'dog', 'rat']\n",
    "animals[0:2]    # Returns list items from index = 0 to index = 2-1 "
   ]
  },
  {
   "cell_type": "code",
   "execution_count": 72,
   "metadata": {
    "ExecuteTime": {
     "end_time": "2018-06-29T05:22:35.031038Z",
     "start_time": "2018-06-29T05:22:35.022043Z"
    }
   },
   "outputs": [
    {
     "data": {
      "text/plain": [
       "['cat', 'rat', 'dog']"
      ]
     },
     "execution_count": 72,
     "metadata": {},
     "output_type": "execute_result"
    }
   ],
   "source": [
    "animals[0:5:2]"
   ]
  },
  {
   "cell_type": "code",
   "execution_count": 84,
   "metadata": {
    "ExecuteTime": {
     "end_time": "2018-06-29T05:25:39.979029Z",
     "start_time": "2018-06-29T05:25:39.972032Z"
    }
   },
   "outputs": [
    {
     "data": {
      "text/plain": [
       "['cat', 'bat', 'rat', 'cow', 'dog']"
      ]
     },
     "execution_count": 84,
     "metadata": {},
     "output_type": "execute_result"
    }
   ],
   "source": [
    "animals[0:5:1]"
   ]
  },
  {
   "cell_type": "code",
   "execution_count": 87,
   "metadata": {
    "ExecuteTime": {
     "end_time": "2018-06-29T05:26:35.437265Z",
     "start_time": "2018-06-29T05:26:35.430270Z"
    }
   },
   "outputs": [
    {
     "data": {
      "text/plain": [
       "['cat', 'bat', 'rat', 'cow', 'dog', 'rat']"
      ]
     },
     "execution_count": 87,
     "metadata": {},
     "output_type": "execute_result"
    }
   ],
   "source": [
    "animals[::]"
   ]
  },
  {
   "cell_type": "code",
   "execution_count": 89,
   "metadata": {
    "ExecuteTime": {
     "end_time": "2018-06-29T05:26:52.419256Z",
     "start_time": "2018-06-29T05:26:52.411278Z"
    }
   },
   "outputs": [
    {
     "data": {
      "text/plain": [
       "['rat', 'dog', 'cow', 'rat', 'bat', 'cat']"
      ]
     },
     "execution_count": 89,
     "metadata": {},
     "output_type": "execute_result"
    }
   ],
   "source": [
    "animals[::-1]   # Traverse in reverse direction"
   ]
  },
  {
   "cell_type": "markdown",
   "metadata": {
    "ExecuteTime": {
     "end_time": "2018-06-29T05:48:13.546675Z",
     "start_time": "2018-06-29T05:48:13.540680Z"
    }
   },
   "source": [
    "## `for` loop with list"
   ]
  },
  {
   "cell_type": "code",
   "execution_count": 91,
   "metadata": {
    "ExecuteTime": {
     "end_time": "2018-06-29T05:48:41.884378Z",
     "start_time": "2018-06-29T05:48:41.875384Z"
    }
   },
   "outputs": [
    {
     "name": "stdout",
     "output_type": "stream",
     "text": [
      "cat\n",
      "bat\n",
      "rat\n",
      "cow\n",
      "dog\n",
      "rat\n"
     ]
    }
   ],
   "source": [
    "animals = ['cat', 'bat', 'rat', 'cow', 'dog', 'rat']\n",
    "for animal in animals:\n",
    "    print (animal)"
   ]
  },
  {
   "cell_type": "markdown",
   "metadata": {},
   "source": [
    "## `len()`"
   ]
  },
  {
   "cell_type": "code",
   "execution_count": 96,
   "metadata": {
    "ExecuteTime": {
     "end_time": "2018-06-29T05:50:56.264602Z",
     "start_time": "2018-06-29T05:50:56.255608Z"
    }
   },
   "outputs": [
    {
     "data": {
      "text/plain": [
       "6"
      ]
     },
     "execution_count": 96,
     "metadata": {},
     "output_type": "execute_result"
    }
   ],
   "source": [
    "animals = ['cat', 'bat', 'rat', 'cow', 'dog', 'rat']\n",
    "len(animals)"
   ]
  },
  {
   "cell_type": "markdown",
   "metadata": {
    "ExecuteTime": {
     "end_time": "2018-07-06T09:04:30.804103Z",
     "start_time": "2018-07-06T09:04:30.796129Z"
    }
   },
   "source": [
    "**empty list**\n",
    "\n",
    "We can create empty list using `[]` notation or `list()` function."
   ]
  },
  {
   "cell_type": "code",
   "execution_count": 9,
   "metadata": {
    "ExecuteTime": {
     "end_time": "2018-07-06T08:56:39.838109Z",
     "start_time": "2018-07-06T08:56:39.828117Z"
    }
   },
   "outputs": [
    {
     "name": "stdout",
     "output_type": "stream",
     "text": [
      "Data type = <class 'list'>\n",
      "No of elements = 0\n"
     ]
    }
   ],
   "source": [
    "# empty list\n",
    "animals = []                            # or try # list()\n",
    "print ('Data type =', type(animals))\n",
    "print ('No of elements =', len(animals))"
   ]
  },
  {
   "cell_type": "markdown",
   "metadata": {},
   "source": [
    "## List concatenation"
   ]
  },
  {
   "cell_type": "code",
   "execution_count": 99,
   "metadata": {
    "ExecuteTime": {
     "end_time": "2018-06-29T05:52:38.610072Z",
     "start_time": "2018-06-29T05:52:38.605076Z"
    }
   },
   "outputs": [],
   "source": [
    "animals = ['cat', 'rat', 'cow', 'dog', 'rat']\n",
    "birds = ['crow', 'pigeon', 'sparrow']"
   ]
  },
  {
   "cell_type": "code",
   "execution_count": 100,
   "metadata": {
    "ExecuteTime": {
     "end_time": "2018-06-29T05:52:38.769001Z",
     "start_time": "2018-06-29T05:52:38.761007Z"
    }
   },
   "outputs": [
    {
     "data": {
      "text/plain": [
       "['cat', 'rat', 'cow', 'dog', 'rat', 'crow', 'pigeon', 'sparrow']"
      ]
     },
     "execution_count": 100,
     "metadata": {},
     "output_type": "execute_result"
    }
   ],
   "source": [
    "animals + birds      # Joins the 2 list and returns a new list"
   ]
  },
  {
   "cell_type": "markdown",
   "metadata": {},
   "source": [
    "## `del`"
   ]
  },
  {
   "cell_type": "code",
   "execution_count": 104,
   "metadata": {
    "ExecuteTime": {
     "end_time": "2018-06-29T05:53:00.654019Z",
     "start_time": "2018-06-29T05:53:00.646025Z"
    }
   },
   "outputs": [
    {
     "data": {
      "text/plain": [
       "['cat', 'rat', 'dog', 'rat']"
      ]
     },
     "execution_count": 104,
     "metadata": {},
     "output_type": "execute_result"
    }
   ],
   "source": [
    "animals = ['cat', 'rat', 'cow', 'dog', 'rat']\n",
    "del animals[2]       # delete the list item at index 2\n",
    "animals"
   ]
  },
  {
   "cell_type": "markdown",
   "metadata": {},
   "source": [
    "## `in` & `not in` operators"
   ]
  },
  {
   "cell_type": "code",
   "execution_count": 106,
   "metadata": {
    "ExecuteTime": {
     "end_time": "2018-06-29T05:53:55.101096Z",
     "start_time": "2018-06-29T05:53:55.094092Z"
    }
   },
   "outputs": [
    {
     "name": "stdout",
     "output_type": "stream",
     "text": [
      "True\n",
      "True\n"
     ]
    }
   ],
   "source": [
    "animals = ['cat', 'rat', 'cow', 'dog', 'rat']\n",
    "print ('cat'in animals)\n",
    "print ('crow' not in animals)"
   ]
  },
  {
   "cell_type": "markdown",
   "metadata": {},
   "source": [
    "## `list` methods"
   ]
  },
  {
   "cell_type": "markdown",
   "metadata": {},
   "source": [
    "### `append()` \n",
    "- Add Single Element to The end of the List"
   ]
  },
  {
   "cell_type": "code",
   "execution_count": 114,
   "metadata": {
    "ExecuteTime": {
     "end_time": "2018-06-29T05:59:43.392248Z",
     "start_time": "2018-06-29T05:59:43.386233Z"
    }
   },
   "outputs": [
    {
     "name": "stdout",
     "output_type": "stream",
     "text": [
      "['cat', 'rat', 'cow', 'dog', 'rat', 'Gorilla']\n"
     ]
    }
   ],
   "source": [
    "animals = ['cat', 'rat', 'cow', 'dog', 'rat']\n",
    "animals.append('Gorilla')\n",
    "print (animals)"
   ]
  },
  {
   "cell_type": "markdown",
   "metadata": {},
   "source": [
    " ### `insert()` \n",
    " - Inserts element to the list in given index"
   ]
  },
  {
   "cell_type": "code",
   "execution_count": 115,
   "metadata": {
    "ExecuteTime": {
     "end_time": "2018-06-29T05:59:43.717063Z",
     "start_time": "2018-06-29T05:59:43.710051Z"
    }
   },
   "outputs": [
    {
     "name": "stdout",
     "output_type": "stream",
     "text": [
      "['cat', 'rat', 'Gorilla', 'cow', 'dog', 'rat']\n"
     ]
    }
   ],
   "source": [
    "animals = ['cat', 'rat', 'cow', 'dog', 'rat']\n",
    "animals.insert(2, 'Gorilla')\n",
    "print (animals)"
   ]
  },
  {
   "cell_type": "markdown",
   "metadata": {},
   "source": [
    "### `remove()`\n",
    "- searches for the given element in the list and removes the first matching element."
   ]
  },
  {
   "cell_type": "code",
   "execution_count": 116,
   "metadata": {
    "ExecuteTime": {
     "end_time": "2018-06-29T05:59:44.864398Z",
     "start_time": "2018-06-29T05:59:44.856383Z"
    }
   },
   "outputs": [
    {
     "name": "stdout",
     "output_type": "stream",
     "text": [
      "['cat', 'cow', 'dog', 'rat']\n"
     ]
    }
   ],
   "source": [
    "animals = ['cat', 'rat', 'cow', 'dog', 'rat']\n",
    "animals.remove('rat')\n",
    "print (animals)"
   ]
  },
  {
   "cell_type": "markdown",
   "metadata": {
    "ExecuteTime": {
     "end_time": "2018-06-29T06:01:18.795571Z",
     "start_time": "2018-06-29T06:01:18.787596Z"
    }
   },
   "source": [
    "### `index()` \n",
    "- searches for given element in the list and returns its index. If the same element is present more than once, `index()` method returns its smallest/first position."
   ]
  },
  {
   "cell_type": "code",
   "execution_count": 117,
   "metadata": {
    "ExecuteTime": {
     "end_time": "2018-06-29T06:00:42.394756Z",
     "start_time": "2018-06-29T06:00:42.387757Z"
    }
   },
   "outputs": [
    {
     "name": "stdout",
     "output_type": "stream",
     "text": [
      "1\n"
     ]
    }
   ],
   "source": [
    "animals = ['cat', 'rat', 'cow', 'dog', 'rat']\n",
    "print (animals.index('rat'))"
   ]
  },
  {
   "cell_type": "markdown",
   "metadata": {},
   "source": [
    "### `reverse()` \n",
    "-  reverses the elements of a given list."
   ]
  },
  {
   "cell_type": "code",
   "execution_count": 119,
   "metadata": {
    "ExecuteTime": {
     "end_time": "2018-06-29T06:01:55.215222Z",
     "start_time": "2018-06-29T06:01:55.207227Z"
    }
   },
   "outputs": [
    {
     "name": "stdout",
     "output_type": "stream",
     "text": [
      "['rat', 'dog', 'cow', 'rat', 'cat']\n"
     ]
    }
   ],
   "source": [
    "animals = ['cat', 'rat', 'cow', 'dog', 'rat']\n",
    "animals.reverse()\n",
    "print (animals)"
   ]
  },
  {
   "cell_type": "markdown",
   "metadata": {},
   "source": [
    "### `sort()` \n",
    "- sorts the elements of a given list in a specific order - Ascending or Descending."
   ]
  },
  {
   "cell_type": "code",
   "execution_count": 120,
   "metadata": {
    "ExecuteTime": {
     "end_time": "2018-06-29T06:03:41.338361Z",
     "start_time": "2018-06-29T06:03:41.330386Z"
    }
   },
   "outputs": [
    {
     "name": "stdout",
     "output_type": "stream",
     "text": [
      "['cat', 'cow', 'dog', 'rat', 'rat']\n"
     ]
    }
   ],
   "source": [
    "animals = ['cat', 'rat', 'cow', 'dog', 'rat']\n",
    "animals.sort()\n",
    "print (animals)"
   ]
  },
  {
   "cell_type": "code",
   "execution_count": 121,
   "metadata": {
    "ExecuteTime": {
     "end_time": "2018-06-29T06:03:51.595392Z",
     "start_time": "2018-06-29T06:03:51.588377Z"
    }
   },
   "outputs": [
    {
     "name": "stdout",
     "output_type": "stream",
     "text": [
      "['rat', 'rat', 'dog', 'cow', 'cat']\n"
     ]
    }
   ],
   "source": [
    "animals.sort(reverse=True)\n",
    "print (animals)"
   ]
  },
  {
   "cell_type": "markdown",
   "metadata": {
    "ExecuteTime": {
     "end_time": "2018-06-29T07:52:31.559947Z",
     "start_time": "2018-06-29T07:52:31.538938Z"
    }
   },
   "source": [
    "### `count()` \n",
    "- the number of times given element appears in the list."
   ]
  },
  {
   "cell_type": "code",
   "execution_count": 125,
   "metadata": {
    "ExecuteTime": {
     "end_time": "2018-06-29T07:52:53.758991Z",
     "start_time": "2018-06-29T07:52:53.751016Z"
    }
   },
   "outputs": [
    {
     "name": "stdout",
     "output_type": "stream",
     "text": [
      "2\n"
     ]
    }
   ],
   "source": [
    "animals = ['cat', 'rat', 'cow', 'dog', 'rat']\n",
    "print (animals.count('rat'))"
   ]
  },
  {
   "cell_type": "markdown",
   "metadata": {},
   "source": [
    "For more details on list, visit the <a href=\"https://docs.python.org/3/tutorial/datastructures.html\" target=\"_blank\">Python documentation</a> or <a href=\"https://www.programiz.com/python-programming/methods/lis\" target=\"_blank\">Python List Methods</a>."
   ]
  },
  {
   "cell_type": "markdown",
   "metadata": {},
   "source": [
    "<a id=\"Tuples\"></a>\n",
    "# `Tuples`"
   ]
  },
  {
   "cell_type": "markdown",
   "metadata": {},
   "source": [
    "## `tuple` data type"
   ]
  },
  {
   "cell_type": "markdown",
   "metadata": {},
   "source": [
    "The `tuple` data type is identicial to `list` data type, except in 2 ways\n",
    "1. Tuples are identified with paranetheses `(` and `)` whereas lists are identified by sqaure brackets `[` and `]`\n",
    "2. Tuples are immutable\n",
    "    - Tuples cannot have their values modified, removed or appended\n",
    "    \n",
    "If you have only one value in the tuple, indicate that by adding a trailing comma after the value inside\n",
    "- e.g. \n",
    "    `('hello',)` is a tuple with only one value"
   ]
  },
  {
   "cell_type": "code",
   "execution_count": 128,
   "metadata": {
    "ExecuteTime": {
     "end_time": "2018-06-29T08:04:10.982864Z",
     "start_time": "2018-06-29T08:04:10.974887Z"
    }
   },
   "outputs": [
    {
     "name": "stdout",
     "output_type": "stream",
     "text": [
      "('easter_eggs', 1, 3.14)\n"
     ]
    }
   ],
   "source": [
    "tuple_1 = ('easter_eggs', 1, 3.14)\n",
    "print (tuple_1)"
   ]
  },
  {
   "cell_type": "code",
   "execution_count": null,
   "metadata": {},
   "outputs": [],
   "source": [
    "type(tuple)"
   ]
  },
  {
   "cell_type": "code",
   "execution_count": 130,
   "metadata": {
    "ExecuteTime": {
     "end_time": "2018-06-29T08:32:38.124214Z",
     "start_time": "2018-06-29T08:32:38.116202Z"
    }
   },
   "outputs": [
    {
     "data": {
      "text/plain": [
       "'easter_eggs'"
      ]
     },
     "execution_count": 130,
     "metadata": {},
     "output_type": "execute_result"
    }
   ],
   "source": [
    "tuple_1[0]"
   ]
  },
  {
   "cell_type": "code",
   "execution_count": 132,
   "metadata": {
    "ExecuteTime": {
     "end_time": "2018-06-29T08:32:45.514209Z",
     "start_time": "2018-06-29T08:32:45.507213Z"
    }
   },
   "outputs": [
    {
     "data": {
      "text/plain": [
       "3.14"
      ]
     },
     "execution_count": 132,
     "metadata": {},
     "output_type": "execute_result"
    }
   ],
   "source": [
    "tuple_1[2]"
   ]
  },
  {
   "cell_type": "code",
   "execution_count": 133,
   "metadata": {
    "ExecuteTime": {
     "end_time": "2018-06-29T08:33:18.441242Z",
     "start_time": "2018-06-29T08:33:18.428252Z"
    }
   },
   "outputs": [
    {
     "ename": "TypeError",
     "evalue": "'tuple' object does not support item assignment",
     "output_type": "error",
     "traceback": [
      "\u001b[1;31m---------------------------------------------------------------------------\u001b[0m",
      "\u001b[1;31mTypeError\u001b[0m                                 Traceback (most recent call last)",
      "\u001b[1;32m<ipython-input-133-04f87d6efeaf>\u001b[0m in \u001b[0;36m<module>\u001b[1;34m()\u001b[0m\n\u001b[1;32m----> 1\u001b[1;33m \u001b[0mtuple_1\u001b[0m\u001b[1;33m[\u001b[0m\u001b[1;36m2\u001b[0m\u001b[1;33m]\u001b[0m \u001b[1;33m=\u001b[0m \u001b[1;34m'Cant change the tuple item value as they are immutable'\u001b[0m\u001b[1;33m\u001b[0m\u001b[0m\n\u001b[0m",
      "\u001b[1;31mTypeError\u001b[0m: 'tuple' object does not support item assignment"
     ]
    }
   ],
   "source": [
    "tuple_1[2] = 'Cant change the tuple item value as they are immutable'"
   ]
  },
  {
   "cell_type": "markdown",
   "metadata": {},
   "source": [
    "## List and Tuples"
   ]
  },
  {
   "cell_type": "markdown",
   "metadata": {},
   "source": [
    "**Convert list to tuple**"
   ]
  },
  {
   "cell_type": "code",
   "execution_count": 144,
   "metadata": {
    "ExecuteTime": {
     "end_time": "2018-06-29T08:36:47.288920Z",
     "start_time": "2018-06-29T08:36:47.278931Z"
    }
   },
   "outputs": [
    {
     "data": {
      "text/plain": [
       "('cat', 'rat', 'cow', 'dog', 'rat')"
      ]
     },
     "execution_count": 144,
     "metadata": {},
     "output_type": "execute_result"
    }
   ],
   "source": [
    "animals_list = ['cat', 'rat', 'cow', 'dog', 'rat']\n",
    "animals_tuple = tuple(animals_list)\n",
    "animals_tuple"
   ]
  },
  {
   "cell_type": "code",
   "execution_count": 142,
   "metadata": {
    "ExecuteTime": {
     "end_time": "2018-06-29T08:34:44.380445Z",
     "start_time": "2018-06-29T08:34:44.373451Z"
    }
   },
   "outputs": [
    {
     "data": {
      "text/plain": [
       "(list, tuple)"
      ]
     },
     "execution_count": 142,
     "metadata": {},
     "output_type": "execute_result"
    }
   ],
   "source": [
    "type(animals_list), type(animals_tuple)"
   ]
  },
  {
   "cell_type": "markdown",
   "metadata": {
    "ExecuteTime": {
     "end_time": "2018-06-29T08:37:50.411371Z",
     "start_time": "2018-06-29T08:37:50.404375Z"
    }
   },
   "source": [
    "**Convert tuple to list**"
   ]
  },
  {
   "cell_type": "code",
   "execution_count": 147,
   "metadata": {
    "ExecuteTime": {
     "end_time": "2018-06-29T08:38:01.768147Z",
     "start_time": "2018-06-29T08:38:01.762150Z"
    }
   },
   "outputs": [
    {
     "name": "stdout",
     "output_type": "stream",
     "text": [
      "['cat', 'rat', 'cow', 'dog', 'rat']\n"
     ]
    }
   ],
   "source": [
    "animals = ('cat', 'rat', 'cow', 'dog', 'rat')\n",
    "print (list(animals))"
   ]
  },
  {
   "cell_type": "markdown",
   "metadata": {},
   "source": [
    "**Tuples are faster than list**"
   ]
  },
  {
   "cell_type": "code",
   "execution_count": 88,
   "metadata": {
    "ExecuteTime": {
     "end_time": "2018-07-06T09:54:21.233842Z",
     "start_time": "2018-07-06T09:54:21.210858Z"
    }
   },
   "outputs": [
    {
     "name": "stdout",
     "output_type": "stream",
     "text": [
      "List execution time : 0.011051107368757584\n",
      "Tuple execution time: 0.0031230319397081985\n"
     ]
    }
   ],
   "source": [
    "import timeit\n",
    "print ('List execution time :', timeit.timeit('[1,2,3,1,7,1,2,3,1,7]', number=100000))\n",
    "print ('Tuple execution time:',timeit.timeit('(1,2,3,1,7,1,2,3,1,7)', number=100000))"
   ]
  },
  {
   "cell_type": "markdown",
   "metadata": {},
   "source": [
    "## `for` loop with `tuple`"
   ]
  },
  {
   "cell_type": "code",
   "execution_count": 145,
   "metadata": {
    "ExecuteTime": {
     "end_time": "2018-06-29T08:37:10.070980Z",
     "start_time": "2018-06-29T08:37:10.062985Z"
    }
   },
   "outputs": [
    {
     "name": "stdout",
     "output_type": "stream",
     "text": [
      "cat\n",
      "rat\n",
      "cow\n",
      "dog\n",
      "rat\n"
     ]
    }
   ],
   "source": [
    "animals = ('cat', 'rat', 'cow', 'dog', 'rat')\n",
    "\n",
    "for animal in animals:\n",
    "    print (animal)"
   ]
  },
  {
   "cell_type": "markdown",
   "metadata": {
    "ExecuteTime": {
     "end_time": "2018-06-29T08:36:04.344849Z",
     "start_time": "2018-06-29T08:36:04.335855Z"
    }
   },
   "source": [
    "## `len ()`"
   ]
  },
  {
   "cell_type": "code",
   "execution_count": 148,
   "metadata": {
    "ExecuteTime": {
     "end_time": "2018-06-29T08:53:19.200655Z",
     "start_time": "2018-06-29T08:53:19.193655Z"
    }
   },
   "outputs": [
    {
     "name": "stdout",
     "output_type": "stream",
     "text": [
      "5\n"
     ]
    }
   ],
   "source": [
    "animals = ('cat', 'rat', 'cow', 'dog', 'rat')\n",
    "print (len(animals))"
   ]
  },
  {
   "cell_type": "markdown",
   "metadata": {},
   "source": [
    "**empty tuple**\n",
    "\n",
    "We can create an empty tuple using `()` notation or `tuple()` function."
   ]
  },
  {
   "cell_type": "code",
   "execution_count": 8,
   "metadata": {
    "ExecuteTime": {
     "end_time": "2018-07-06T08:56:08.760411Z",
     "start_time": "2018-07-06T08:56:08.751419Z"
    }
   },
   "outputs": [
    {
     "name": "stdout",
     "output_type": "stream",
     "text": [
      "Data type = <class 'tuple'>\n",
      "No of elements = 0\n"
     ]
    }
   ],
   "source": [
    "# empty tuple\n",
    "animals = ()                                 # or try # tuple()\n",
    "print ('Data type =', type(animals))\n",
    "print ('No of elements =', len(animals))"
   ]
  },
  {
   "cell_type": "markdown",
   "metadata": {},
   "source": [
    "## `in` & `not` in operators"
   ]
  },
  {
   "cell_type": "code",
   "execution_count": 150,
   "metadata": {
    "ExecuteTime": {
     "end_time": "2018-06-29T08:53:49.247642Z",
     "start_time": "2018-06-29T08:53:49.241645Z"
    }
   },
   "outputs": [
    {
     "name": "stdout",
     "output_type": "stream",
     "text": [
      "False\n"
     ]
    }
   ],
   "source": [
    "animals = ('cat', 'rat', 'cow', 'dog', 'rat')\n",
    "print ('cat' not in animals)"
   ]
  },
  {
   "cell_type": "markdown",
   "metadata": {},
   "source": [
    "## Multiple data assignment using `tuple`"
   ]
  },
  {
   "cell_type": "code",
   "execution_count": 171,
   "metadata": {
    "ExecuteTime": {
     "end_time": "2018-06-29T10:40:15.315512Z",
     "start_time": "2018-06-29T10:40:15.307536Z"
    }
   },
   "outputs": [
    {
     "name": "stdout",
     "output_type": "stream",
     "text": [
      "a = 2\n",
      "b = 1\n"
     ]
    }
   ],
   "source": [
    "a = 1\n",
    "b = 2\n",
    "a,b = b,a               # swap a,b values using tuple assignemnt\n",
    "print ('a = ' + str(a))\n",
    "print ('b = ' + str(b))"
   ]
  },
  {
   "cell_type": "code",
   "execution_count": 165,
   "metadata": {
    "ExecuteTime": {
     "end_time": "2018-06-29T10:39:09.435296Z",
     "start_time": "2018-06-29T10:39:09.429318Z"
    }
   },
   "outputs": [],
   "source": [
    "name,height, weight = ('Christian Bale', 1.86, 90)"
   ]
  },
  {
   "cell_type": "code",
   "execution_count": 167,
   "metadata": {
    "ExecuteTime": {
     "end_time": "2018-06-29T10:39:18.764132Z",
     "start_time": "2018-06-29T10:39:18.758116Z"
    }
   },
   "outputs": [
    {
     "name": "stdout",
     "output_type": "stream",
     "text": [
      "Christian Bale\n",
      "1.86\n",
      "90\n"
     ]
    }
   ],
   "source": [
    "print (name)\n",
    "print (height)\n",
    "print (weight)"
   ]
  },
  {
   "cell_type": "markdown",
   "metadata": {},
   "source": [
    "<a id=\"Dictionaries\"></a>\n",
    "# `Dictionaries`"
   ]
  },
  {
   "cell_type": "markdown",
   "metadata": {},
   "source": [
    "We have already seen `bool`, `int`, `float`, `list`, `tuple` built-in data types. `dict` <span style=\"color:green;\"><i>(dictionary) is my second favortie data type in Python, next to </i></span>`list`.\n",
    "\n",
    "- `dict` provides flexible way to access and organize data.\n",
    "- dictionaries are identified with flower brackets `{` and `}` with `key:value` format inside, whereas \n",
    "    - lists are identified by sqaure brackets `[` and `]` and \n",
    "        - tuple is identified by `(` and `)` "
   ]
  },
  {
   "cell_type": "code",
   "execution_count": 152,
   "metadata": {
    "ExecuteTime": {
     "end_time": "2018-06-29T09:08:05.055696Z",
     "start_time": "2018-06-29T09:08:05.047699Z"
    }
   },
   "outputs": [
    {
     "name": "stdout",
     "output_type": "stream",
     "text": [
      "{'cat': 'meow', 'dog': 'lol', 'cow': 'moo', 'ducks': 'quack'}\n"
     ]
    }
   ],
   "source": [
    "animal_sounds = {'cat': 'meow',\n",
    "                 'dog': 'lol',\n",
    "                 'cow': 'moo',\n",
    "                 'ducks': 'quack'\n",
    "                }\n",
    "print (animal_sounds)"
   ]
  },
  {
   "cell_type": "code",
   "execution_count": 153,
   "metadata": {
    "ExecuteTime": {
     "end_time": "2018-06-29T09:08:14.463881Z",
     "start_time": "2018-06-29T09:08:14.456891Z"
    }
   },
   "outputs": [
    {
     "data": {
      "text/plain": [
       "'moo'"
      ]
     },
     "execution_count": 153,
     "metadata": {},
     "output_type": "execute_result"
    }
   ],
   "source": [
    "animal_sounds['cow']"
   ]
  },
  {
   "cell_type": "markdown",
   "metadata": {},
   "source": [
    "*To ponder : What happens when you try to access an element with key that doesn't exist in tuple?* <big>🤔</big>"
   ]
  },
  {
   "cell_type": "markdown",
   "metadata": {
    "ExecuteTime": {
     "end_time": "2018-06-29T09:08:54.431278Z",
     "start_time": "2018-06-29T09:08:54.426264Z"
    }
   },
   "source": [
    "## `list` vs `dict`"
   ]
  },
  {
   "cell_type": "markdown",
   "metadata": {},
   "source": [
    "- In `list` data type, we access its elements using the index number that starts from `0`.\n",
    "- On the other hand, in `dict` data type, we access the `items/values` using `keys`.\n",
    "    - Indexes for dictionary are called `keys`.\n",
    "    - Key with its associated value is called `key-value` pair.\n",
    "- Unlike `list`, \n",
    "    - dictionary `keys` can be of many different data types. \n",
    "    - dictionary `items` are unordered.\n",
    "    - dictionaries cannot be sliced.\n",
    "    \n",
    "- *Though dictionaries are not ordered, its flexibility allows to orgranize data in powerful ways.*"
   ]
  },
  {
   "cell_type": "markdown",
   "metadata": {},
   "source": [
    "## `keys(), values(), items()`"
   ]
  },
  {
   "cell_type": "markdown",
   "metadata": {},
   "source": [
    "These 3 dictionary methods will return list like values which can be used in loops."
   ]
  },
  {
   "cell_type": "code",
   "execution_count": 155,
   "metadata": {
    "ExecuteTime": {
     "end_time": "2018-06-29T10:36:08.035961Z",
     "start_time": "2018-06-29T10:36:08.011975Z"
    }
   },
   "outputs": [
    {
     "name": "stdout",
     "output_type": "stream",
     "text": [
      "{'cat': 'meow', 'dog': 'lol', 'cow': 'moo', 'ducks': 'quack'}\n"
     ]
    }
   ],
   "source": [
    "animal_sounds = {'cat': 'meow',\n",
    "                 'dog': 'lol',\n",
    "                 'cow': 'moo',\n",
    "                 'ducks': 'quack'\n",
    "                }\n",
    "print (animal_sounds)"
   ]
  },
  {
   "cell_type": "code",
   "execution_count": 156,
   "metadata": {
    "ExecuteTime": {
     "end_time": "2018-06-29T10:36:12.498683Z",
     "start_time": "2018-06-29T10:36:12.488697Z"
    }
   },
   "outputs": [
    {
     "data": {
      "text/plain": [
       "dict_keys(['cat', 'dog', 'cow', 'ducks'])"
      ]
     },
     "execution_count": 156,
     "metadata": {},
     "output_type": "execute_result"
    }
   ],
   "source": [
    "animal_sounds.keys()          # returns a list of keys"
   ]
  },
  {
   "cell_type": "code",
   "execution_count": 157,
   "metadata": {
    "ExecuteTime": {
     "end_time": "2018-06-29T10:36:19.525968Z",
     "start_time": "2018-06-29T10:36:19.518969Z"
    }
   },
   "outputs": [
    {
     "data": {
      "text/plain": [
       "dict_values(['meow', 'lol', 'moo', 'quack'])"
      ]
     },
     "execution_count": 157,
     "metadata": {},
     "output_type": "execute_result"
    }
   ],
   "source": [
    "animal_sounds.values()        # returns a list of values"
   ]
  },
  {
   "cell_type": "code",
   "execution_count": 159,
   "metadata": {
    "ExecuteTime": {
     "end_time": "2018-06-29T10:36:55.997728Z",
     "start_time": "2018-06-29T10:36:55.989733Z"
    }
   },
   "outputs": [
    {
     "data": {
      "text/plain": [
       "dict_items([('cat', 'meow'), ('dog', 'lol'), ('cow', 'moo'), ('ducks', 'quack')])"
      ]
     },
     "execution_count": 159,
     "metadata": {},
     "output_type": "execute_result"
    }
   ],
   "source": [
    "animal_sounds.items()         # returns a list of key-value pairs"
   ]
  },
  {
   "cell_type": "code",
   "execution_count": 163,
   "metadata": {
    "ExecuteTime": {
     "end_time": "2018-06-29T10:37:25.599172Z",
     "start_time": "2018-06-29T10:37:25.589193Z"
    }
   },
   "outputs": [
    {
     "name": "stdout",
     "output_type": "stream",
     "text": [
      "cat , meow\n",
      "dog , lol\n",
      "cow , moo\n",
      "ducks , quack\n"
     ]
    }
   ],
   "source": [
    "for key in animal_sounds.keys():\n",
    "    print (key, ',', animal_sounds[key])"
   ]
  },
  {
   "cell_type": "code",
   "execution_count": 164,
   "metadata": {
    "ExecuteTime": {
     "end_time": "2018-06-29T10:37:40.218934Z",
     "start_time": "2018-06-29T10:37:40.208959Z"
    }
   },
   "outputs": [
    {
     "name": "stdout",
     "output_type": "stream",
     "text": [
      "cat , meow\n",
      "dog , lol\n",
      "cow , moo\n",
      "ducks , quack\n"
     ]
    }
   ],
   "source": [
    "for key,value in animal_sounds.items():\n",
    "    print (key, ',', value)"
   ]
  },
  {
   "cell_type": "markdown",
   "metadata": {
    "ExecuteTime": {
     "end_time": "2018-07-06T08:57:24.345981Z",
     "start_time": "2018-07-06T08:57:24.341984Z"
    }
   },
   "source": [
    "## `len()`"
   ]
  },
  {
   "cell_type": "code",
   "execution_count": 12,
   "metadata": {
    "ExecuteTime": {
     "end_time": "2018-07-06T08:58:01.036731Z",
     "start_time": "2018-07-06T08:58:01.029756Z"
    }
   },
   "outputs": [
    {
     "name": "stdout",
     "output_type": "stream",
     "text": [
      "4\n"
     ]
    }
   ],
   "source": [
    "animal_sounds = {'cat': 'meow',\n",
    "                 'dog': 'lol',\n",
    "                 'cow': 'moo',\n",
    "                 'ducks': 'quack'\n",
    "                }\n",
    "print (len(animal_sounds))"
   ]
  },
  {
   "cell_type": "markdown",
   "metadata": {},
   "source": [
    "**empty dictionary**\n",
    "\n",
    "We can create empty dictionary using `{}` notation or `dict()` function."
   ]
  },
  {
   "cell_type": "code",
   "execution_count": 13,
   "metadata": {
    "ExecuteTime": {
     "end_time": "2018-07-06T08:59:00.317880Z",
     "start_time": "2018-07-06T08:59:00.308885Z"
    }
   },
   "outputs": [
    {
     "name": "stdout",
     "output_type": "stream",
     "text": [
      "Data type = <class 'dict'>\n",
      "No of elements = 0\n"
     ]
    }
   ],
   "source": [
    "animal_sounds = {}                        # or try # dict()\n",
    "print ('Data type =', type(animal_sounds))\n",
    "print ('No of elements =', len(animal_sounds))"
   ]
  },
  {
   "cell_type": "markdown",
   "metadata": {},
   "source": [
    "## `in` & `not` in operators"
   ]
  },
  {
   "cell_type": "code",
   "execution_count": 177,
   "metadata": {
    "ExecuteTime": {
     "end_time": "2018-06-29T10:43:03.200302Z",
     "start_time": "2018-06-29T10:43:03.189295Z"
    }
   },
   "outputs": [
    {
     "name": "stdout",
     "output_type": "stream",
     "text": [
      "{'name': 'Christian Bale', 'height': 1.86, 'weight': 90}\n"
     ]
    }
   ],
   "source": [
    "data = {'name':'Christian Bale',\n",
    "        'height': 1.86, \n",
    "        'weight': 90}\n",
    "print (data)"
   ]
  },
  {
   "cell_type": "code",
   "execution_count": 181,
   "metadata": {
    "ExecuteTime": {
     "end_time": "2018-06-29T10:43:58.067947Z",
     "start_time": "2018-06-29T10:43:58.059951Z"
    }
   },
   "outputs": [
    {
     "data": {
      "text/plain": [
       "(False, True)"
      ]
     },
     "execution_count": 181,
     "metadata": {},
     "output_type": "execute_result"
    }
   ],
   "source": [
    "90 in data.keys(), 90 in data.values()"
   ]
  },
  {
   "cell_type": "markdown",
   "metadata": {},
   "source": [
    "## `get()`"
   ]
  },
  {
   "cell_type": "markdown",
   "metadata": {
    "ExecuteTime": {
     "end_time": "2018-06-29T10:46:54.602457Z",
     "start_time": "2018-06-29T10:46:54.594483Z"
    }
   },
   "source": [
    "- Used to check whether a key exists in a dictionary before accessing the key's value\n",
    "- `get()` method takes 2 arguments\n",
    "    - `key` of the value to retrieve\n",
    "    - `fallback value` to return if key doesn't exist"
   ]
  },
  {
   "cell_type": "code",
   "execution_count": 183,
   "metadata": {
    "ExecuteTime": {
     "end_time": "2018-06-29T10:47:41.219616Z",
     "start_time": "2018-06-29T10:47:41.212621Z"
    }
   },
   "outputs": [
    {
     "name": "stdout",
     "output_type": "stream",
     "text": [
      "{'name': 'Christian Bale', 'height': 1.86, 'weight': 90}\n"
     ]
    }
   ],
   "source": [
    "data = {'name':'Christian Bale',\n",
    "        'height': 1.86, \n",
    "        'weight': 90}\n",
    "print (data)"
   ]
  },
  {
   "cell_type": "code",
   "execution_count": 184,
   "metadata": {
    "ExecuteTime": {
     "end_time": "2018-06-29T10:47:49.744932Z",
     "start_time": "2018-06-29T10:47:49.732956Z"
    }
   },
   "outputs": [
    {
     "ename": "KeyError",
     "evalue": "'age'",
     "output_type": "error",
     "traceback": [
      "\u001b[1;31m---------------------------------------------------------------------------\u001b[0m",
      "\u001b[1;31mKeyError\u001b[0m                                  Traceback (most recent call last)",
      "\u001b[1;32m<ipython-input-184-1743a0764bb4>\u001b[0m in \u001b[0;36m<module>\u001b[1;34m()\u001b[0m\n\u001b[1;32m----> 1\u001b[1;33m \u001b[0mdata\u001b[0m\u001b[1;33m[\u001b[0m\u001b[1;34m'age'\u001b[0m\u001b[1;33m]\u001b[0m\u001b[1;33m\u001b[0m\u001b[0m\n\u001b[0m",
      "\u001b[1;31mKeyError\u001b[0m: 'age'"
     ]
    }
   ],
   "source": [
    "data['age']           # without get() method, there's no fallback value"
   ]
  },
  {
   "cell_type": "code",
   "execution_count": 187,
   "metadata": {
    "ExecuteTime": {
     "end_time": "2018-06-29T10:48:49.189360Z",
     "start_time": "2018-06-29T10:48:49.182383Z"
    }
   },
   "outputs": [
    {
     "data": {
      "text/plain": [
       "30"
      ]
     },
     "execution_count": 187,
     "metadata": {},
     "output_type": "execute_result"
    }
   ],
   "source": [
    "data.get('age', 30)    # As the dictionary doesn't have age key, it returns the fall back value provided"
   ]
  },
  {
   "cell_type": "code",
   "execution_count": 186,
   "metadata": {
    "ExecuteTime": {
     "end_time": "2018-06-29T10:48:29.351007Z",
     "start_time": "2018-06-29T10:48:29.343009Z"
    }
   },
   "outputs": [
    {
     "data": {
      "text/plain": [
       "'Christian Bale'"
      ]
     },
     "execution_count": 186,
     "metadata": {},
     "output_type": "execute_result"
    }
   ],
   "source": [
    "data.get('name', 'Unknown')"
   ]
  },
  {
   "cell_type": "markdown",
   "metadata": {},
   "source": [
    "<a id=\"Strings\"></a>\n",
    "# `Strings`"
   ]
  },
  {
   "cell_type": "markdown",
   "metadata": {},
   "source": [
    "We have already seen `bool`, `int`, `float`, `list`, `tuple`& `dict` built-in data types. `str` <span style=\"color:green;\"><i>(string) is my third favortie data type in Python, next to </i></span>`list` & `dict`.\n",
    "\n",
    "Handling text such as *emails, documents, web scraping* is one of the most commong forms of data our program needs to handle. With Python, we can do lot of cool stuff with strings."
   ]
  },
  {
   "cell_type": "markdown",
   "metadata": {
    "ExecuteTime": {
     "end_time": "2018-06-29T13:17:26.316108Z",
     "start_time": "2018-06-29T13:17:26.307113Z"
    }
   },
   "source": [
    "## `str` data type"
   ]
  },
  {
   "cell_type": "markdown",
   "metadata": {},
   "source": [
    "- `str` data type starts and ends with quotes (could be single or double).\n",
    "- `str` data type is immutable\n",
    "    - i.e. Values once assinged cannot be changed through indexing. "
   ]
  },
  {
   "cell_type": "code",
   "execution_count": 190,
   "metadata": {
    "ExecuteTime": {
     "end_time": "2018-06-29T13:18:49.777777Z",
     "start_time": "2018-06-29T13:18:49.770786Z"
    }
   },
   "outputs": [],
   "source": [
    "str1 = 'hi welcome to my home'\n",
    "str2 = \"hola bienvenido a mi casa\""
   ]
  },
  {
   "cell_type": "code",
   "execution_count": 191,
   "metadata": {
    "ExecuteTime": {
     "end_time": "2018-06-29T13:19:03.947841Z",
     "start_time": "2018-06-29T13:19:03.940848Z"
    }
   },
   "outputs": [
    {
     "name": "stdout",
     "output_type": "stream",
     "text": [
      "hi welcome to my home <class 'str'>\n",
      "hola bienvenido a mi casa <class 'str'>\n"
     ]
    }
   ],
   "source": [
    "print (str1, type(str1))\n",
    "print (str2, type(str2))"
   ]
  },
  {
   "cell_type": "markdown",
   "metadata": {},
   "source": [
    "## `len ()`"
   ]
  },
  {
   "cell_type": "code",
   "execution_count": 215,
   "metadata": {
    "ExecuteTime": {
     "end_time": "2018-06-29T13:58:22.917070Z",
     "start_time": "2018-06-29T13:58:22.910091Z"
    }
   },
   "outputs": [
    {
     "data": {
      "text/plain": [
       "21"
      ]
     },
     "execution_count": 215,
     "metadata": {},
     "output_type": "execute_result"
    }
   ],
   "source": [
    "str1 = 'hi welcome to my home'\n",
    "len(str1)"
   ]
  },
  {
   "cell_type": "markdown",
   "metadata": {},
   "source": [
    "**emptry string**\n",
    "\n",
    "We can create empty string using `''` notation or `str()` function."
   ]
  },
  {
   "cell_type": "code",
   "execution_count": 214,
   "metadata": {
    "ExecuteTime": {
     "end_time": "2018-06-29T13:58:11.626448Z",
     "start_time": "2018-06-29T13:58:11.618455Z"
    }
   },
   "outputs": [
    {
     "name": "stdout",
     "output_type": "stream",
     "text": [
      "0\n"
     ]
    }
   ],
   "source": [
    "empty_string = ''          # No characters inside empty string    # or try # str()\n",
    "print (len(empty_string))"
   ]
  },
  {
   "cell_type": "markdown",
   "metadata": {},
   "source": [
    "## `str` index"
   ]
  },
  {
   "cell_type": "markdown",
   "metadata": {},
   "source": [
    "- Indexing a string to get the corresponding character is similar to indexing list or tuple data type.\n",
    "- Index no starts from 0 "
   ]
  },
  {
   "cell_type": "code",
   "execution_count": 195,
   "metadata": {
    "ExecuteTime": {
     "end_time": "2018-06-29T13:22:53.841661Z",
     "start_time": "2018-06-29T13:22:53.833667Z"
    }
   },
   "outputs": [
    {
     "name": "stdout",
     "output_type": "stream",
     "text": [
      "Bruce Wayne!\n"
     ]
    }
   ],
   "source": [
    "batman = 'Bruce Wayne!'\n",
    "print (batman)"
   ]
  },
  {
   "cell_type": "markdown",
   "metadata": {},
   "source": [
    "<table style=\"max-width:50%;margin-left:20px;border: 1px solid black;\">\n",
    "    <caption style=\"text-align: center\"><b> String Index Position </b></caption>\n",
    "    <tr>\n",
    "        <td style=\"color:blue; background-color:rgb(80, 80, 80); color:white\">Letter</td>\n",
    "        <td>B</td>\n",
    "        <td>r</td> \n",
    "        <td>u</td>\n",
    "        <td>c</td>\n",
    "        <td>e</td>\n",
    "        <td> </td>\n",
    "        <td>W</td>\n",
    "        <td>a</td>\n",
    "        <td>y</td>\n",
    "        <td>n</td>\n",
    "        <td>e</td>\n",
    "        <td>!</td>\n",
    "    </tr>\n",
    "    <tr style=\"color:blue;\">\n",
    "        <td style=\"color:blue; background-color:rgb(80, 80, 80); color:white\">Index no</td>\n",
    "        <td>0</td>\n",
    "        <td>1</td>\n",
    "        <td>2</td>\n",
    "        <td>3</td>\n",
    "        <td>4</td>\n",
    "        <td>5</td>\n",
    "        <td>6</td>\n",
    "        <td>7</td>\n",
    "        <td>8</td>\n",
    "        <td>9</td>\n",
    "        <td>10</td>\n",
    "        <td>11</td>\n",
    "    </tr>\n",
    "    <tr style=\"color:green;\">\n",
    "        <td style=\"color:blue; background-color:rgb(80, 80, 80); color:white\">Index no (Reverse)</td>\n",
    "        <td>-12</td>\n",
    "        <td>-11</td>\n",
    "        <td>-10</td>\n",
    "        <td>-9</td>\n",
    "        <td>-8</td>\n",
    "        <td>-7</td>\n",
    "        <td>-6</td>\n",
    "        <td>-5</td>\n",
    "        <td>-4</td>\n",
    "        <td>-3</td>\n",
    "        <td>-2</td>\n",
    "        <td>-1</td>\n",
    "    </tr>\n",
    "</table>\n",
    "\n",
    "The space and exclamation point are included in the string character and is counted as one character/ letter"
   ]
  },
  {
   "cell_type": "code",
   "execution_count": 198,
   "metadata": {
    "ExecuteTime": {
     "end_time": "2018-06-29T13:30:55.557868Z",
     "start_time": "2018-06-29T13:30:55.549891Z"
    }
   },
   "outputs": [
    {
     "data": {
      "text/plain": [
       "'B'"
      ]
     },
     "execution_count": 198,
     "metadata": {},
     "output_type": "execute_result"
    }
   ],
   "source": [
    "batman[0]"
   ]
  },
  {
   "cell_type": "code",
   "execution_count": 199,
   "metadata": {
    "ExecuteTime": {
     "end_time": "2018-06-29T13:42:49.399636Z",
     "start_time": "2018-06-29T13:42:49.391638Z"
    }
   },
   "outputs": [
    {
     "data": {
      "text/plain": [
       "'B'"
      ]
     },
     "execution_count": 199,
     "metadata": {},
     "output_type": "execute_result"
    }
   ],
   "source": [
    "batman[-12]"
   ]
  },
  {
   "cell_type": "code",
   "execution_count": 201,
   "metadata": {
    "ExecuteTime": {
     "end_time": "2018-06-29T13:43:03.892965Z",
     "start_time": "2018-06-29T13:43:03.883975Z"
    }
   },
   "outputs": [
    {
     "data": {
      "text/plain": [
       "' '"
      ]
     },
     "execution_count": 201,
     "metadata": {},
     "output_type": "execute_result"
    }
   ],
   "source": [
    "batman[5]"
   ]
  },
  {
   "cell_type": "markdown",
   "metadata": {},
   "source": [
    " As string data type is immutable, an individual index position cannot be assigned a new value.\n",
    " In order to  do that the entire string data type should be overwritten"
   ]
  },
  {
   "cell_type": "code",
   "execution_count": 202,
   "metadata": {
    "ExecuteTime": {
     "end_time": "2018-06-29T13:46:43.619301Z",
     "start_time": "2018-06-29T13:46:43.586319Z"
    }
   },
   "outputs": [
    {
     "ename": "TypeError",
     "evalue": "'str' object does not support item assignment",
     "output_type": "error",
     "traceback": [
      "\u001b[1;31m---------------------------------------------------------------------------\u001b[0m",
      "\u001b[1;31mTypeError\u001b[0m                                 Traceback (most recent call last)",
      "\u001b[1;32m<ipython-input-202-dbb14015b79f>\u001b[0m in \u001b[0;36m<module>\u001b[1;34m()\u001b[0m\n\u001b[1;32m----> 1\u001b[1;33m \u001b[0mbatman\u001b[0m\u001b[1;33m[\u001b[0m\u001b[1;36m5\u001b[0m\u001b[1;33m]\u001b[0m \u001b[1;33m=\u001b[0m \u001b[1;34m'-'\u001b[0m\u001b[1;33m\u001b[0m\u001b[0m\n\u001b[0m",
      "\u001b[1;31mTypeError\u001b[0m: 'str' object does not support item assignment"
     ]
    }
   ],
   "source": [
    "batman[5] = '-'         "
   ]
  },
  {
   "cell_type": "code",
   "execution_count": 204,
   "metadata": {
    "ExecuteTime": {
     "end_time": "2018-06-29T13:48:11.087063Z",
     "start_time": "2018-06-29T13:48:11.080069Z"
    }
   },
   "outputs": [
    {
     "name": "stdout",
     "output_type": "stream",
     "text": [
      "Bruce-Wayne!\n"
     ]
    }
   ],
   "source": [
    "batman = 'Bruce-Wayne!'            # Overwritting the string data type with new vale\n",
    "print (batman)"
   ]
  },
  {
   "cell_type": "markdown",
   "metadata": {},
   "source": [
    "## `str` slicing"
   ]
  },
  {
   "cell_type": "markdown",
   "metadata": {},
   "source": [
    "`str` slicing is very similar to slicing  a `list` data type"
   ]
  },
  {
   "cell_type": "code",
   "execution_count": 205,
   "metadata": {
    "ExecuteTime": {
     "end_time": "2018-06-29T13:49:01.656623Z",
     "start_time": "2018-06-29T13:49:01.650624Z"
    }
   },
   "outputs": [
    {
     "name": "stdout",
     "output_type": "stream",
     "text": [
      "ruce\n"
     ]
    }
   ],
   "source": [
    "batman = 'Bruce Wayne!'\n",
    "print (batman[1:5])"
   ]
  },
  {
   "cell_type": "markdown",
   "metadata": {},
   "source": [
    "`str` slicing returns an empty string when there is no element to slice in the given range."
   ]
  },
  {
   "cell_type": "code",
   "execution_count": 211,
   "metadata": {
    "ExecuteTime": {
     "end_time": "2018-06-29T13:50:41.054199Z",
     "start_time": "2018-06-29T13:50:41.047222Z"
    }
   },
   "outputs": [
    {
     "name": "stdout",
     "output_type": "stream",
     "text": [
      "--\n"
     ]
    }
   ],
   "source": [
    "print ('-' + batman[12:15] + '-')       # returns an empty string"
   ]
  },
  {
   "cell_type": "markdown",
   "metadata": {},
   "source": [
    "## `in` & `not in` operators"
   ]
  },
  {
   "cell_type": "markdown",
   "metadata": {
    "ExecuteTime": {
     "end_time": "2018-06-29T17:08:36.622443Z",
     "start_time": "2018-06-29T17:08:36.614448Z"
    }
   },
   "source": [
    "- Works similar to list data type\n",
    "- They check whether first string can be found withing second string"
   ]
  },
  {
   "cell_type": "code",
   "execution_count": 218,
   "metadata": {
    "ExecuteTime": {
     "end_time": "2018-06-29T17:08:54.327093Z",
     "start_time": "2018-06-29T17:08:54.319094Z"
    }
   },
   "outputs": [
    {
     "name": "stdout",
     "output_type": "stream",
     "text": [
      "True\n"
     ]
    }
   ],
   "source": [
    "batman = 'Bruce Wayne!'\n",
    "print ('Bruce' in batman)"
   ]
  },
  {
   "cell_type": "code",
   "execution_count": 220,
   "metadata": {
    "ExecuteTime": {
     "end_time": "2018-06-29T17:09:29.115432Z",
     "start_time": "2018-06-29T17:09:29.109433Z"
    }
   },
   "outputs": [
    {
     "name": "stdout",
     "output_type": "stream",
     "text": [
      "False\n"
     ]
    }
   ],
   "source": [
    "print ('bruce' in batman)    # Python is case-sensitive"
   ]
  },
  {
   "cell_type": "code",
   "execution_count": 221,
   "metadata": {
    "ExecuteTime": {
     "end_time": "2018-06-29T17:09:42.324445Z",
     "start_time": "2018-06-29T17:09:42.317431Z"
    }
   },
   "outputs": [
    {
     "name": "stdout",
     "output_type": "stream",
     "text": [
      "False\n"
     ]
    }
   ],
   "source": [
    "print ('Wayne' not in batman)    "
   ]
  },
  {
   "cell_type": "markdown",
   "metadata": {
    "ExecuteTime": {
     "end_time": "2018-06-29T17:11:42.884394Z",
     "start_time": "2018-06-29T17:11:42.880377Z"
    }
   },
   "source": [
    "## `isXXX()` methods"
   ]
  },
  {
   "cell_type": "markdown",
   "metadata": {
    "ExecuteTime": {
     "end_time": "2018-06-29T17:10:53.332755Z",
     "start_time": "2018-06-29T17:10:53.321745Z"
    }
   },
   "source": [
    "There are several string methods that have names beginning with the word `is`. These methods return a `bool` value that describes the nature of the string. Here are some common `isX` string methods:\n",
    "\n",
    "- `isupper()` returns `True` if the string has at least one letter and all the letters are uppercase.\n",
    "\n",
    "- `islower()` returns `True` if the string has at least one letter and all the letters are lowercase.\n",
    "\n",
    "- `isalpha()` returns `True` if the string consists only of letters and is not blank.\n",
    "\n",
    "- `isalnum()` returns `True` if the string consists only of letters and numbers and is not blank.\n",
    "\n",
    "- `isdecimal()` returns `True` if the string consists only of numeric characters and is not blank.\n",
    "\n",
    "- `isspace()` returns `True` if the string consists only of spaces, tabs, and new-lines and is not blank.\n",
    "\n",
    "- `istitle()` returns `True` if the string consists only of words that begin with an uppercase letter followed by only lowercase letters\n",
    "\n",
    "WHY WE NEED IT? The `isX` string methods are helpful when you need to validate user input & to make the code smarter and more generic/ fool proof."
   ]
  },
  {
   "cell_type": "code",
   "execution_count": 225,
   "metadata": {
    "ExecuteTime": {
     "end_time": "2018-06-29T17:12:59.970923Z",
     "start_time": "2018-06-29T17:12:59.960949Z"
    }
   },
   "outputs": [
    {
     "data": {
      "text/plain": [
       "False"
      ]
     },
     "execution_count": 225,
     "metadata": {},
     "output_type": "execute_result"
    }
   ],
   "source": [
    "spam = 'Hello world!'\n",
    "spam.islower()"
   ]
  },
  {
   "cell_type": "markdown",
   "metadata": {},
   "source": [
    "<a id=\"Set\"></a>\n",
    "# `Set`"
   ]
  },
  {
   "cell_type": "markdown",
   "metadata": {},
   "source": [
    "We have already seen `bool`, `int`, `float`, `str`, `list`, `tuple`& `dict` built-in data types. `Set` unlike `lists` or `tuples`, \n",
    " \n",
    "- cannot have multiple occurrences of the same element => highly useful to efficiently remove duplicate values\n",
    "- stores unordered values\n",
    "- contains only immutable values (like a `str` or `tuple`)\n",
    "\n",
    "\n",
    "Set are identified with flower brackets `{` and `}` similar to dictionary. However, they are different from dictionary as `set` doesn't have key-value pair."
   ]
  },
  {
   "cell_type": "markdown",
   "metadata": {
    "ExecuteTime": {
     "end_time": "2018-07-06T08:48:43.371068Z",
     "start_time": "2018-07-06T08:48:43.365071Z"
    }
   },
   "source": [
    "## `set` data type"
   ]
  },
  {
   "cell_type": "code",
   "execution_count": 3,
   "metadata": {
    "ExecuteTime": {
     "end_time": "2018-07-06T08:50:15.785278Z",
     "start_time": "2018-07-06T08:50:15.765287Z"
    }
   },
   "outputs": [
    {
     "name": "stdout",
     "output_type": "stream",
     "text": [
      "{'SAS', 'Python', 'R', 'Tableau', 'Git', 'SQL'}\n"
     ]
    }
   ],
   "source": [
    "dataScientist = {'Python', 'R', 'SQL', 'Git', 'Tableau', 'SAS'}     \n",
    "print (dataScientist)"
   ]
  },
  {
   "cell_type": "markdown",
   "metadata": {
    "ExecuteTime": {
     "end_time": "2018-07-06T09:32:16.710077Z",
     "start_time": "2018-07-06T09:32:16.704079Z"
    }
   },
   "source": [
    "<p style=\"color:red\"><i>Take note that unlike <code style=\"color:red\">list</code> & <code style=\"color:red\">tuple</code>, the <code style=\"color:red\">set</code> values are not ordered. The order in which the set values are created and stored/ printed are different.</i></p>"
   ]
  },
  {
   "cell_type": "markdown",
   "metadata": {},
   "source": [
    "## `len()`"
   ]
  },
  {
   "cell_type": "code",
   "execution_count": 14,
   "metadata": {
    "ExecuteTime": {
     "end_time": "2018-07-06T08:59:37.275744Z",
     "start_time": "2018-07-06T08:59:37.255776Z"
    }
   },
   "outputs": [
    {
     "data": {
      "text/plain": [
       "6"
      ]
     },
     "execution_count": 14,
     "metadata": {},
     "output_type": "execute_result"
    }
   ],
   "source": [
    "dataScientist = {'Python', 'R', 'SQL', 'Git', 'Tableau', 'SAS'}     \n",
    "len(dataScientist)"
   ]
  },
  {
   "cell_type": "markdown",
   "metadata": {
    "ExecuteTime": {
     "end_time": "2018-07-06T09:00:22.274073Z",
     "start_time": "2018-07-06T09:00:22.268074Z"
    }
   },
   "source": [
    "**Empty set**\n",
    "\n",
    "- Unlike `list, dict, tuples`, there is no notation for an empty set. We have to explicitly write it as `set()`"
   ]
  },
  {
   "cell_type": "code",
   "execution_count": 20,
   "metadata": {
    "ExecuteTime": {
     "end_time": "2018-07-06T09:02:19.609444Z",
     "start_time": "2018-07-06T09:02:19.596471Z"
    }
   },
   "outputs": [
    {
     "name": "stdout",
     "output_type": "stream",
     "text": [
      "Data type = <class 'dict'>\n",
      "No of elements = 0\n",
      "Data type = <class 'set'>\n",
      "No of elements = 0\n"
     ]
    }
   ],
   "source": [
    "dataScientist_dict = {}                         # Creates an empty dictionary\n",
    "print ('Data type =', type(dataScientist_dict))\n",
    "print('No of elements =', len(dataScientist_dict))\n",
    "\n",
    "dataScientist_set = set()                        # Creates an empty set\n",
    "print ('Data type =', type(dataScientist_set))\n",
    "print('No of elements =', len(dataScientist_set))"
   ]
  },
  {
   "cell_type": "markdown",
   "metadata": {},
   "source": [
    "## List and Sets"
   ]
  },
  {
   "cell_type": "markdown",
   "metadata": {},
   "source": [
    "**Convert list to sets**"
   ]
  },
  {
   "cell_type": "code",
   "execution_count": 38,
   "metadata": {
    "ExecuteTime": {
     "end_time": "2018-07-06T09:40:53.970041Z",
     "start_time": "2018-07-06T09:40:53.963042Z"
    }
   },
   "outputs": [
    {
     "name": "stdout",
     "output_type": "stream",
     "text": [
      "{'Scala', 'Python', 'Hadoop', 'Java', 'Git', 'SQL'}\n"
     ]
    }
   ],
   "source": [
    "dataEngineer = set(['Python', 'Java', 'Scala', 'Git', 'SQL', 'Hadoop'])  \n",
    "print (dataEngineer)"
   ]
  },
  {
   "cell_type": "markdown",
   "metadata": {},
   "source": [
    "**Convert sets to list**"
   ]
  },
  {
   "cell_type": "code",
   "execution_count": 41,
   "metadata": {
    "ExecuteTime": {
     "end_time": "2018-07-06T09:41:23.679332Z",
     "start_time": "2018-07-06T09:41:23.669340Z"
    }
   },
   "outputs": [
    {
     "name": "stdout",
     "output_type": "stream",
     "text": [
      "['Scala', 'Python', 'Hadoop', 'Java', 'Git', 'SQL']\n"
     ]
    }
   ],
   "source": [
    "dataEngineer = {'Scala', 'Python', 'Hadoop', 'Java', 'Git', 'SQL'}\n",
    "\n",
    "dataEngineer_list = list(dataEngineer)\n",
    "print (dataEngineer_list)"
   ]
  },
  {
   "cell_type": "markdown",
   "metadata": {
    "ExecuteTime": {
     "end_time": "2018-07-06T09:41:36.169228Z",
     "start_time": "2018-07-06T09:41:36.162233Z"
    }
   },
   "source": [
    "**Convert sets to Ordered list**"
   ]
  },
  {
   "cell_type": "code",
   "execution_count": 47,
   "metadata": {
    "ExecuteTime": {
     "end_time": "2018-07-06T09:42:15.129094Z",
     "start_time": "2018-07-06T09:42:15.121762Z"
    }
   },
   "outputs": [
    {
     "name": "stdout",
     "output_type": "stream",
     "text": [
      "['Git', 'Hadoop', 'Java', 'Python', 'SQL', 'Scala']\n"
     ]
    }
   ],
   "source": [
    "dataEngineer = {'Scala', 'Python', 'Hadoop', 'Java', 'Git', 'SQL'}\n",
    "print (sorted(dataEngineer))           # Sort in alphabetical order (A-Z)"
   ]
  },
  {
   "cell_type": "code",
   "execution_count": 49,
   "metadata": {
    "ExecuteTime": {
     "end_time": "2018-07-06T09:43:01.032423Z",
     "start_time": "2018-07-06T09:43:01.017431Z"
    }
   },
   "outputs": [
    {
     "data": {
      "text/plain": [
       "['Scala', 'SQL', 'Python', 'Java', 'Hadoop', 'Git']"
      ]
     },
     "execution_count": 49,
     "metadata": {},
     "output_type": "execute_result"
    }
   ],
   "source": [
    "sorted(dataEngineer, reverse=True)   # Sort in reverse alphabetical order (Z-A)"
   ]
  },
  {
   "cell_type": "markdown",
   "metadata": {},
   "source": [
    "**Remove duplicates from list**\n",
    "- By converting the list to set data type, the duplicates will be automatically removed.\n",
    "- Infact, removing duplicates this way is more time efficient than writing our own code to do it."
   ]
  },
  {
   "cell_type": "code",
   "execution_count": 55,
   "metadata": {
    "ExecuteTime": {
     "end_time": "2018-07-06T09:45:39.378905Z",
     "start_time": "2018-07-06T09:45:39.371906Z"
    }
   },
   "outputs": [
    {
     "name": "stdout",
     "output_type": "stream",
     "text": [
      "Before : [1, 1, 1, 1, 2, 2, 2, 3, 4, 4, 5, 5, 5]\n",
      "After  : [1, 2, 3, 4, 5]\n"
     ]
    }
   ],
   "source": [
    "num = [1,1,1,1,2,2,2,3,4,4,5,5,5]\n",
    "print ('Before :', num)\n",
    "print ('After  :', list(set(num)))     # Convert the value to set and back to list again (duplicates are removed)"
   ]
  },
  {
   "cell_type": "code",
   "execution_count": 56,
   "metadata": {
    "ExecuteTime": {
     "end_time": "2018-07-06T09:46:43.285697Z",
     "start_time": "2018-07-06T09:46:43.280700Z"
    }
   },
   "outputs": [],
   "source": []
  },
  {
   "cell_type": "code",
   "execution_count": 65,
   "metadata": {
    "ExecuteTime": {
     "end_time": "2018-07-06T09:50:39.875140Z",
     "start_time": "2018-07-06T09:50:39.868141Z"
    }
   },
   "outputs": [
    {
     "data": {
      "text/plain": [
       "[1, 2, 3, 1, 7]"
      ]
     },
     "execution_count": 65,
     "metadata": {},
     "output_type": "execute_result"
    }
   ],
   "source": []
  },
  {
   "cell_type": "code",
   "execution_count": 85,
   "metadata": {
    "ExecuteTime": {
     "end_time": "2018-07-06T09:52:14.500985Z",
     "start_time": "2018-07-06T09:52:14.471025Z"
    }
   },
   "outputs": [
    {
     "name": "stdout",
     "output_type": "stream",
     "text": [
      "0.014667206399280985\n",
      "0.005589188487931551\n"
     ]
    }
   ],
   "source": []
  },
  {
   "cell_type": "code",
   "execution_count": 83,
   "metadata": {
    "ExecuteTime": {
     "end_time": "2018-07-06T09:52:03.767520Z",
     "start_time": "2018-07-06T09:52:03.756521Z"
    }
   },
   "outputs": [
    {
     "name": "stdout",
     "output_type": "stream",
     "text": [
      "0.0047898532458248155\n"
     ]
    }
   ],
   "source": []
  },
  {
   "cell_type": "markdown",
   "metadata": {},
   "source": [
    "## Add & remove values from set"
   ]
  },
  {
   "cell_type": "markdown",
   "metadata": {},
   "source": [
    "**Add values to set**"
   ]
  },
  {
   "cell_type": "code",
   "execution_count": 30,
   "metadata": {
    "ExecuteTime": {
     "end_time": "2018-07-06T09:31:35.195798Z",
     "start_time": "2018-07-06T09:31:35.188820Z"
    }
   },
   "outputs": [
    {
     "name": "stdout",
     "output_type": "stream",
     "text": [
      "{'Scala', 'Python', 'Hadoop', 'Java', 'SoS', 'Git', 'SQL'}\n"
     ]
    }
   ],
   "source": [
    "dataScientist = {'Python', 'R', 'SQL', 'Git', 'Tableau'}     \n",
    "dataEngineer.add('SoS')\n",
    "print (dataEngineer)"
   ]
  },
  {
   "cell_type": "markdown",
   "metadata": {},
   "source": [
    "**Remove values from set**\n",
    "\n",
    "There are 2 ways to remove values from `set`\n",
    "1. Using `remove()` method -  The shortfall of using this is if we try to remove a value that is not in your set, we will get a KeyError.\n",
    "2. Using `discard()` method - This will not throw Error if the value is not found. This is equivalent to `get()` method in `dict`."
   ]
  },
  {
   "cell_type": "code",
   "execution_count": 33,
   "metadata": {
    "ExecuteTime": {
     "end_time": "2018-07-06T09:35:45.084840Z",
     "start_time": "2018-07-06T09:35:45.077849Z"
    }
   },
   "outputs": [
    {
     "name": "stdout",
     "output_type": "stream",
     "text": [
      "{'R', 'Tableau', 'Git', 'SQL'}\n"
     ]
    }
   ],
   "source": [
    "dataScientist = {'Python', 'R', 'SQL', 'Git', 'Tableau'}     \n",
    "dataScientist.remove('Python')\n",
    "print(dataScientist) "
   ]
  },
  {
   "cell_type": "code",
   "execution_count": 35,
   "metadata": {
    "ExecuteTime": {
     "end_time": "2018-07-06T09:37:47.744326Z",
     "start_time": "2018-07-06T09:37:47.733317Z"
    }
   },
   "outputs": [
    {
     "ename": "KeyError",
     "evalue": "'Java'",
     "output_type": "error",
     "traceback": [
      "\u001b[1;31m---------------------------------------------------------------------------\u001b[0m",
      "\u001b[1;31mKeyError\u001b[0m                                  Traceback (most recent call last)",
      "\u001b[1;32m<ipython-input-35-ce19914cb54d>\u001b[0m in \u001b[0;36m<module>\u001b[1;34m()\u001b[0m\n\u001b[1;32m----> 1\u001b[1;33m \u001b[0mdataScientist\u001b[0m\u001b[1;33m.\u001b[0m\u001b[0mremove\u001b[0m\u001b[1;33m(\u001b[0m\u001b[1;34m'Java'\u001b[0m\u001b[1;33m)\u001b[0m          \u001b[1;31m# Throws error as the value is not inside the set\u001b[0m\u001b[1;33m\u001b[0m\u001b[0m\n\u001b[0m",
      "\u001b[1;31mKeyError\u001b[0m: 'Java'"
     ]
    }
   ],
   "source": [
    "dataScientist.remove('Java')          # Throws error as the value is not inside the set"
   ]
  },
  {
   "cell_type": "code",
   "execution_count": 36,
   "metadata": {
    "ExecuteTime": {
     "end_time": "2018-07-06T09:37:53.802573Z",
     "start_time": "2018-07-06T09:37:53.796576Z"
    }
   },
   "outputs": [],
   "source": [
    "dataScientist.discard('Java')  "
   ]
  },
  {
   "cell_type": "markdown",
   "metadata": {},
   "source": [
    "## `Set` operations"
   ]
  },
  {
   "cell_type": "markdown",
   "metadata": {
    "ExecuteTime": {
     "end_time": "2018-07-06T09:56:44.847245Z",
     "start_time": "2018-07-06T09:56:44.841248Z"
    }
   },
   "source": [
    "A common use of sets in Python is computing standard math operations such as `union, intersection, difference, and symmetric difference`. \n",
    "\n",
    "- `set.union(A,B)` - All values that are members of A or B or both\n",
    "- `set.intersection(A,B)` - All values that are members of both A and B\n",
    "- `set.difference(A,B)` - All values of A that not in B\n",
    "- `set.symmetric_difference(A,B)` - All values which are in one of the sets, but not in both \n",
    "    - <=> `set.union(A,B) - set.intersection(A,B)` "
   ]
  },
  {
   "cell_type": "code",
   "execution_count": 3,
   "metadata": {
    "ExecuteTime": {
     "end_time": "2018-07-06T10:09:14.953833Z",
     "start_time": "2018-07-06T10:09:14.947827Z"
    }
   },
   "outputs": [],
   "source": [
    "dataScientist = set(['Python', 'R', 'SQL', 'Git', 'Tableau', 'SAS'])\n",
    "dataEngineer = set(['Python', 'Java', 'Scala', 'Git', 'SQL', 'Hadoop'])"
   ]
  },
  {
   "cell_type": "code",
   "execution_count": 77,
   "metadata": {
    "ExecuteTime": {
     "end_time": "2018-07-06T10:59:54.884815Z",
     "start_time": "2018-07-06T10:59:54.707936Z"
    }
   },
   "outputs": [
    {
     "data": {
      "image/png": "[encoded data removed]",
      "text/plain": [
       "<matplotlib.figure.Figure at 0x21d474dc748>"
      ]
     },
     "metadata": {},
     "output_type": "display_data"
    }
   ],
   "source": [
    "# For visualization purpose - 2 Circle VENN diagrams\n",
    "import matplotlib.pyplot as plt\n",
    "from matplotlib_venn import venn2, venn2_circles\n",
    "\n",
    "plt.figure(figsize=(7,7))\n",
    "subset_10 = '\\n\\n'.join(list(set.difference(dataScientist, dataEngineer)))\n",
    "subset_01 = '\\n\\n'.join(list(set.difference(dataEngineer,dataScientist)))\n",
    "subset_11 = '\\n\\n'.join(list(set.intersection(dataScientist, dataEngineer)))\n",
    "\n",
    "v = venn2(subsets={'10': 3, '01': 3, '11': 3}, set_labels = ('dataScientist', 'dataEngineer'))\n",
    "c = venn2_circles(subsets=(1, 1, 1), linestyle='solid', linewidth=1.0)\n",
    "v.get_label_by_id('10').set_text(subset_10);v.get_label_by_id('10').set_fontsize(12)\n",
    "v.get_label_by_id('01').set_text(subset_01);v.get_label_by_id('01').set_fontsize(12)\n",
    "v.get_label_by_id('11').set_text(subset_11);v.get_label_by_id('11').set_fontsize(12)\n",
    "plt.show()"
   ]
  },
  {
   "cell_type": "code",
   "execution_count": 7,
   "metadata": {
    "ExecuteTime": {
     "end_time": "2018-07-06T10:09:26.499031Z",
     "start_time": "2018-07-06T10:09:26.489039Z"
    }
   },
   "outputs": [
    {
     "data": {
      "text/plain": [
       "{'Git', 'Hadoop', 'Java', 'Python', 'R', 'SAS', 'SQL', 'Scala', 'Tableau'}"
      ]
     },
     "execution_count": 7,
     "metadata": {},
     "output_type": "execute_result"
    }
   ],
   "source": [
    "set.union(dataScientist, dataEngineer)                 "
   ]
  },
  {
   "cell_type": "code",
   "execution_count": 91,
   "metadata": {
    "ExecuteTime": {
     "end_time": "2018-07-06T09:55:19.684971Z",
     "start_time": "2018-07-06T09:55:19.676996Z"
    }
   },
   "outputs": [
    {
     "data": {
      "text/plain": [
       "{'Git', 'Python', 'SQL'}"
      ]
     },
     "execution_count": 91,
     "metadata": {},
     "output_type": "execute_result"
    }
   ],
   "source": [
    "set.intersection(dataScientist, dataEngineer)"
   ]
  },
  {
   "cell_type": "code",
   "execution_count": 92,
   "metadata": {
    "ExecuteTime": {
     "end_time": "2018-07-06T09:55:37.420209Z",
     "start_time": "2018-07-06T09:55:37.411234Z"
    }
   },
   "outputs": [
    {
     "data": {
      "text/plain": [
       "{'R', 'SAS', 'Tableau'}"
      ]
     },
     "execution_count": 92,
     "metadata": {},
     "output_type": "execute_result"
    }
   ],
   "source": [
    "set.difference(dataScientist, dataEngineer)"
   ]
  },
  {
   "cell_type": "code",
   "execution_count": 93,
   "metadata": {
    "ExecuteTime": {
     "end_time": "2018-07-06T09:55:51.785653Z",
     "start_time": "2018-07-06T09:55:51.776659Z"
    }
   },
   "outputs": [
    {
     "data": {
      "text/plain": [
       "{'Hadoop', 'Java', 'R', 'SAS', 'Scala', 'Tableau'}"
      ]
     },
     "execution_count": 93,
     "metadata": {},
     "output_type": "execute_result"
    }
   ],
   "source": [
    "set.symmetric_difference(dataScientist, dataEngineer)"
   ]
  },
  {
   "cell_type": "code",
   "execution_count": 95,
   "metadata": {
    "ExecuteTime": {
     "end_time": "2018-07-06T10:01:30.216504Z",
     "start_time": "2018-07-06T10:01:30.207509Z"
    }
   },
   "outputs": [
    {
     "data": {
      "text/plain": [
       "{'Hadoop', 'Java', 'R', 'SAS', 'Scala', 'Tableau'}"
      ]
     },
     "execution_count": 95,
     "metadata": {},
     "output_type": "execute_result"
    }
   ],
   "source": [
    "set.union(dataScientist, dataEngineer) - set.intersection(dataScientist, dataEngineer)"
   ]
  },
  {
   "cell_type": "code",
   "execution_count": 85,
   "metadata": {
    "ExecuteTime": {
     "end_time": "2018-07-06T11:06:21.140553Z",
     "start_time": "2018-07-06T11:06:21.131557Z"
    }
   },
   "outputs": [
    {
     "data": {
      "text/plain": [
       "(True, False)"
      ]
     },
     "execution_count": 85,
     "metadata": {},
     "output_type": "execute_result"
    }
   ],
   "source": [
    "subset = {'R', 'SAS'}\n",
    "set.issubset(subset, dataScientist), set.issubset(subset, dataEngineer)"
   ]
  },
  {
   "cell_type": "markdown",
   "metadata": {
    "ExecuteTime": {
     "end_time": "2018-07-06T11:03:28.820577Z",
     "start_time": "2018-07-06T11:03:28.815578Z"
    }
   },
   "source": [
    "## `in` and `not in` operators"
   ]
  },
  {
   "cell_type": "markdown",
   "metadata": {
    "ExecuteTime": {
     "end_time": "2018-06-29T17:08:36.622443Z",
     "start_time": "2018-06-29T17:08:36.614448Z"
    }
   },
   "source": [
    "- Works similar to checking in list and tuple\n",
    "    - `in <=> ` element `∈` set \n",
    "    - `not in <=> ` element `∉` set "
   ]
  },
  {
   "cell_type": "code",
   "execution_count": 79,
   "metadata": {
    "ExecuteTime": {
     "end_time": "2018-07-06T11:03:39.548932Z",
     "start_time": "2018-07-06T11:03:39.543931Z"
    }
   },
   "outputs": [],
   "source": [
    "possibleSet = {'Python', 'R', 'SQL', 'Git', 'Tableau', 'SAS', 'Java', 'Spark', 'Scala'}"
   ]
  },
  {
   "cell_type": "code",
   "execution_count": 82,
   "metadata": {
    "ExecuteTime": {
     "end_time": "2018-07-06T11:04:08.643176Z",
     "start_time": "2018-07-06T11:04:08.635180Z"
    }
   },
   "outputs": [
    {
     "data": {
      "text/plain": [
       "(True, True)"
      ]
     },
     "execution_count": 82,
     "metadata": {},
     "output_type": "execute_result"
    }
   ],
   "source": [
    "# Membership test\n",
    "'Python' in possibleSet, 'C++' not  in possibleSet"
   ]
  },
  {
   "cell_type": "markdown",
   "metadata": {},
   "source": [
    "<a id=\"Reading and Writing Files\"></a>\n",
    "# Reading and Writing Files"
   ]
  },
  {
   "cell_type": "code",
   "execution_count": 109,
   "metadata": {
    "ExecuteTime": {
     "end_time": "2018-07-06T17:57:49.394712Z",
     "start_time": "2018-07-06T17:57:49.359731Z"
    }
   },
   "outputs": [
    {
     "ename": "SyntaxError",
     "evalue": "invalid syntax (<ipython-input-109-aaf37367e941>, line 1)",
     "output_type": "error",
     "traceback": [
      "\u001b[1;36m  File \u001b[1;32m\"<ipython-input-109-aaf37367e941>\"\u001b[1;36m, line \u001b[1;32m1\u001b[0m\n\u001b[1;33m    http://www.pythonforbeginners.com/systems-programming/reading-and-writing-files-in-python/\u001b[0m\n\u001b[1;37m          ^\u001b[0m\n\u001b[1;31mSyntaxError\u001b[0m\u001b[1;31m:\u001b[0m invalid syntax\n"
     ]
    }
   ],
   "source": [
    "http://www.pythonforbeginners.com/systems-programming/reading-and-writing-files-in-python/"
   ]
  },
  {
   "cell_type": "markdown",
   "metadata": {},
   "source": [
    "<a id=\"Others\"></a>\n",
    "# Others"
   ]
  },
  {
   "cell_type": "markdown",
   "metadata": {
    "ExecuteTime": {
     "end_time": "2018-07-06T11:53:22.508066Z",
     "start_time": "2018-07-06T11:53:22.502071Z"
    }
   },
   "source": [
    "## `zip()`\n",
    "- Make an iterator that aggregates elements from each of the iterables.\n",
    "- Returns an iterator of tuples, where the i-th tuple contains the i-th element from each of the argument sequences or iterables. The iterator stops when the shortest input iterable is exhausted. "
   ]
  },
  {
   "cell_type": "code",
   "execution_count": 101,
   "metadata": {
    "ExecuteTime": {
     "end_time": "2018-07-06T12:15:54.915161Z",
     "start_time": "2018-07-06T12:15:54.903166Z"
    }
   },
   "outputs": [
    {
     "name": "stdout",
     "output_type": "stream",
     "text": [
      "<zip object at 0x0000021D476AEB88> <class 'zip'>\n",
      "(1, 4, 7)\n",
      "(2, 5, 8)\n",
      "(3, 6, 9)\n"
     ]
    }
   ],
   "source": [
    "x = [1,2,3]\n",
    "y = [4,5,6]\n",
    "z = [7,8,9]\n",
    "zipped = zip(x,y,z)\n",
    "print (zipped, type(zipped))\n",
    "\n",
    "for i in zipped:\n",
    "    print (i)"
   ]
  },
  {
   "cell_type": "markdown",
   "metadata": {},
   "source": [
    "**unzip a list**\n",
    "\n",
    "`zip()` in conjunction with the `*` operator can be used to unzip a list as shown below"
   ]
  },
  {
   "cell_type": "code",
   "execution_count": 107,
   "metadata": {
    "ExecuteTime": {
     "end_time": "2018-07-06T12:17:11.595346Z",
     "start_time": "2018-07-06T12:17:11.587346Z"
    }
   },
   "outputs": [
    {
     "name": "stdout",
     "output_type": "stream",
     "text": [
      "(1, 2, 3) (4, 5, 6) (7, 8, 9)\n"
     ]
    }
   ],
   "source": [
    "zipped = zip(x,y,z)\n",
    "l1, l2, l3 = zip(*zipped)\n",
    "print (l1, l2, l3)"
   ]
  },
  {
   "cell_type": "markdown",
   "metadata": {},
   "source": [
    "If the length of the iterables are not equal, zip creates the list of tuples of length equal to the smallest iterable and truncates the extra elements."
   ]
  },
  {
   "cell_type": "code",
   "execution_count": 98,
   "metadata": {
    "ExecuteTime": {
     "end_time": "2018-07-06T12:14:24.599961Z",
     "start_time": "2018-07-06T12:14:24.588989Z"
    }
   },
   "outputs": [
    {
     "name": "stdout",
     "output_type": "stream",
     "text": [
      "('Clark Kent', 'Super Man', 'Blue')\n",
      "('Bruce Wayne', 'Bat Man', 'Black')\n"
     ]
    }
   ],
   "source": [
    "names = ['Clark Kent', 'Bruce Wayne', 'Peter Parker', 'Tony Stark']\n",
    "speical_names = ['Super Man', 'Bat Man', 'Spider Man']\n",
    "color = ['Blue', 'Black']                                         \n",
    "zipped = zip(names,speical_names,color)\n",
    "\n",
    "for i in zipped:\n",
    "    print (i)     # As color is the shortest iterable, zip stops with 2 iterations"
   ]
  },
  {
   "cell_type": "markdown",
   "metadata": {
    "ExecuteTime": {
     "end_time": "2018-07-06T11:54:05.107409Z",
     "start_time": "2018-07-06T11:54:05.099428Z"
    }
   },
   "source": [
    "\n",
    "<a id=\"Sample Projects\"></a>\n",
    "# Sample Projects"
   ]
  },
  {
   "cell_type": "markdown",
   "metadata": {},
   "source": [
    "## `tic-tac-toe`"
   ]
  },
  {
   "cell_type": "code",
   "execution_count": 188,
   "metadata": {
    "ExecuteTime": {
     "end_time": "2018-06-29T10:59:15.220990Z",
     "start_time": "2018-06-29T10:50:59.810111Z"
    }
   },
   "outputs": [
    {
     "name": "stdout",
     "output_type": "stream",
     "text": [
      " | | \n",
      "-+-+-\n",
      " | | \n",
      "-+-+-\n",
      " | | \n",
      "Turn for X. Move on which space? 1\n",
      "X| | \n",
      "-+-+-\n",
      " | | \n",
      "-+-+-\n",
      " | | \n",
      "Turn for O. Move on which space? 2\n",
      "X|O| \n",
      "-+-+-\n",
      " | | \n",
      "-+-+-\n",
      " | | \n",
      "Turn for X. Move on which space? 3\n",
      "X|O|X\n",
      "-+-+-\n",
      " | | \n",
      "-+-+-\n",
      " | | \n",
      "Turn for O. Move on which space? 4\n",
      "X|O|X\n",
      "-+-+-\n",
      "O| | \n",
      "-+-+-\n",
      " | | \n",
      "Turn for X. Move on which space? 5\n",
      "X|O|X\n",
      "-+-+-\n",
      "O|X| \n",
      "-+-+-\n",
      " | | \n",
      "Turn for O. Move on which space? 6\n",
      "X|O|X\n",
      "-+-+-\n",
      "O|X|O\n",
      "-+-+-\n",
      " | | \n",
      "Turn for X. Move on which space? 7\n",
      "X|O|X\n",
      "-+-+-\n",
      "O|X|O\n",
      "-+-+-\n",
      "X| | \n",
      "player X wins\n",
      "Game over. Do you want to continue (y or n): y\n",
      "\n",
      "\n",
      "\n",
      "\n",
      " | | \n",
      "-+-+-\n",
      " | | \n",
      "-+-+-\n",
      " | | \n",
      "Turn for O. Move on which space? 2\n",
      " |O| \n",
      "-+-+-\n",
      " | | \n",
      "-+-+-\n",
      " | | \n",
      "Turn for X. Move on which space? 3\n",
      " |O|X\n",
      "-+-+-\n",
      " | | \n",
      "-+-+-\n",
      " | | \n",
      "Turn for O. Move on which space? 3\n",
      "Invalid input : Try again\n",
      "Turn for O. Move on which space? 2\n",
      "Invalid input : Try again\n",
      "Turn for O. Move on which space? 4\n",
      " |O|X\n",
      "-+-+-\n",
      "O| | \n",
      "-+-+-\n",
      " | | \n",
      "Turn for X. Move on which space? 1\n",
      "X|O|X\n",
      "-+-+-\n",
      "O| | \n",
      "-+-+-\n",
      " | | \n",
      "Turn for O. Move on which space? 5\n",
      "X|O|X\n",
      "-+-+-\n",
      "O|O| \n",
      "-+-+-\n",
      " | | \n",
      "Turn for X. Move on which space? 6\n",
      "X|O|X\n",
      "-+-+-\n",
      "O|O|X\n",
      "-+-+-\n",
      " | | \n",
      "Turn for O. Move on which space? 9\n",
      "X|O|X\n",
      "-+-+-\n",
      "O|O|X\n",
      "-+-+-\n",
      " | |O\n",
      "Turn for X. Move on which space? x\n",
      "Invalid input : Try again\n",
      "Turn for X. Move on which space? 8\n",
      "X|O|X\n",
      "-+-+-\n",
      "O|O|X\n",
      "-+-+-\n",
      " |X|O\n",
      "Turn for O. Move on which space? 7\n",
      "X|O|X\n",
      "-+-+-\n",
      "O|O|X\n",
      "-+-+-\n",
      "O|X|O\n",
      "Game over. Do you want to continue (y or n): n\n"
     ]
    }
   ],
   "source": [
    "# -*- coding: utf-8 -*-\n",
    "\"\"\"\n",
    "Created on Thu Jun 14 21:20:40 2018\n",
    "\n",
    "@author: Prasanth\n",
    "\"\"\"\n",
    "\n",
    "# Create an empty tic tac toe board\n",
    "theBoard = {1: ' ', 2: ' ', 3: ' ',\n",
    "            4: ' ', 5: ' ', 6: ' ',\n",
    "            7: ' ', 8: ' ', 9: ' '}\n",
    "\n",
    "# List of winning combinations\n",
    "winningCombos = [[1,2,3],\n",
    "                 [4,5,6],\n",
    "                 [7,8,9],\n",
    "                 [1,4,7],\n",
    "                 [2,5,8],\n",
    "                 [3,6,9],\n",
    "                 [1,5,9],\n",
    "                 [3,5,7]]\n",
    "\n",
    "def printBoard(board):\n",
    "    print (board[1] + '|' + board[2] + '|' + board[3] + '\\n' + \n",
    "           '-+-+-\\n' + \n",
    "           board[4] + '|' + board[5] + '|' + board[6] + '\\n' + \n",
    "           '-+-+-\\n' + \n",
    "           board[7] + '|' + board[8] + '|' + board[9])\n",
    "    \n",
    "def resetBoard():\n",
    "    theBoard = {1: ' ', 2: ' ', 3: ' ',\n",
    "                4: ' ', 5: ' ', 6: ' ',\n",
    "                7: ' ', 8: ' ', 9: ' '}\n",
    "    return theBoard\n",
    "    \n",
    "printBoard(theBoard)\n",
    "    \n",
    "player = 'X' \n",
    "winFlag = 0\n",
    "counter = 0\n",
    "\n",
    "while True:\n",
    "    try:\n",
    "        user_input = input('Turn for ' + player + \". Move on which space? \")\n",
    "        user_input = int(user_input)\n",
    "        if  theBoard.get(user_input,'') != ' ':\n",
    "            print ('Invalid input : Try again')\n",
    "            continue\n",
    "    except ValueError:\n",
    "        print ('Invalid input : Try again')\n",
    "        continue\n",
    "    except:\n",
    "        quit()\n",
    "        break\n",
    "\n",
    "    theBoard[user_input] = player\n",
    "    \n",
    "    printBoard(theBoard)\n",
    "    \n",
    "    # If the player wins, inform\n",
    "    for combo in winningCombos:\n",
    "        if theBoard[combo[0]] == theBoard[combo[1]] == theBoard[combo[2]] == player:\n",
    "            print (\"player \" + player + \" wins\")\n",
    "            winFlag = 1 \n",
    "            break\n",
    "    \n",
    "    counter += 1\n",
    "    \n",
    "    if winFlag == 1 or counter == 9:\n",
    "        user_input = input('Game over. Do you want to continue (y or n): ')\n",
    "        if user_input == 'n' :\n",
    "            break\n",
    "        else:\n",
    "            winFlag = 0\n",
    "            counter = 0\n",
    "            theBoard = resetBoard()\n",
    "            print ('\\n'*3)\n",
    "            printBoard(theBoard)\n",
    "            \n",
    "    # toggle player\n",
    "    if player == 'X':\n",
    "        player = 'O'\n",
    "    else:\n",
    "        player = 'X'  "
   ]
  },
  {
   "cell_type": "markdown",
   "metadata": {},
   "source": [
    "## `Encryption & Decryption`\n",
    "\n",
    "Will be added soon"
   ]
  },
  {
   "cell_type": "markdown",
   "metadata": {},
   "source": [
    "<a id=\"Packages used\"></a>\n",
    "# Packages used in this series"
   ]
  },
  {
   "cell_type": "code",
   "execution_count": 1,
   "metadata": {
    "ExecuteTime": {
     "end_time": "2018-07-03T11:16:51.851804Z",
     "start_time": "2018-07-03T11:16:51.845172Z"
    }
   },
   "outputs": [
    {
     "name": "stdout",
     "output_type": "stream",
     "text": [
      "Python version: 3.5.2 (default, Nov 23 2017, 16:37:01) \n",
      "[GCC 5.4.0 20160609]\n"
     ]
    }
   ],
   "source": [
    "import sys\n",
    "print (\"Python version: {}\".format(sys.version))"
   ]
  },
  {
   "cell_type": "code",
   "execution_count": 3,
   "metadata": {
    "ExecuteTime": {
     "end_time": "2018-07-03T11:17:43.204785Z",
     "start_time": "2018-07-03T11:17:43.199087Z"
    }
   },
   "outputs": [
    {
     "name": "stdout",
     "output_type": "stream",
     "text": [
      "Numpy version: 1.14.0\n"
     ]
    }
   ],
   "source": [
    "import numpy as np\n",
    "print (\"Numpy version: {}\".format(np.__version__))"
   ]
  },
  {
   "cell_type": "code",
   "execution_count": 5,
   "metadata": {
    "ExecuteTime": {
     "end_time": "2018-07-03T11:18:14.075206Z",
     "start_time": "2018-07-03T11:18:14.070056Z"
    }
   },
   "outputs": [
    {
     "name": "stdout",
     "output_type": "stream",
     "text": [
      "Matplotlib version: 2.1.2\n"
     ]
    }
   ],
   "source": [
    "import matplotlib\n",
    "print (\"Matplotlib version: {}\".format(matplotlib.__version__))"
   ]
  },
  {
   "cell_type": "code",
   "execution_count": 7,
   "metadata": {
    "ExecuteTime": {
     "end_time": "2018-07-03T11:18:34.849795Z",
     "start_time": "2018-07-03T11:18:34.844713Z"
    }
   },
   "outputs": [
    {
     "name": "stdout",
     "output_type": "stream",
     "text": [
      "Scikit-learn version: 0.19.1\n"
     ]
    }
   ],
   "source": [
    "import sklearn\n",
    "print (\"Scikit-learn version: {}\".format(sklearn.__version__))"
   ]
  },
  {
   "cell_type": "code",
   "execution_count": 8,
   "metadata": {
    "ExecuteTime": {
     "end_time": "2018-07-03T11:18:54.524116Z",
     "start_time": "2018-07-03T11:18:54.518831Z"
    }
   },
   "outputs": [
    {
     "name": "stdout",
     "output_type": "stream",
     "text": [
      "Scipy version: 1.0.0\n"
     ]
    }
   ],
   "source": [
    "import scipy\n",
    "print (\"Scipy version: {}\".format(scipy.__version__))"
   ]
  },
  {
   "cell_type": "code",
   "execution_count": 2,
   "metadata": {
    "ExecuteTime": {
     "end_time": "2018-07-03T11:17:20.998949Z",
     "start_time": "2018-07-03T11:17:20.624566Z"
    }
   },
   "outputs": [
    {
     "name": "stdout",
     "output_type": "stream",
     "text": [
      "Pandas version: 0.22.0\n"
     ]
    }
   ],
   "source": [
    "import pandas as pd\n",
    "print (\"Pandas version: {}\".format(pd.__version__))"
   ]
  },
  {
   "cell_type": "code",
   "execution_count": 9,
   "metadata": {
    "ExecuteTime": {
     "end_time": "2018-07-03T11:19:13.391214Z",
     "start_time": "2018-07-03T11:19:12.875587Z"
    }
   },
   "outputs": [
    {
     "name": "stdout",
     "output_type": "stream",
     "text": [
      "Mglearn version: 0.1.6\n"
     ]
    }
   ],
   "source": [
    "import mglearn\n",
    "print (\"Mglearn version: {}\".format(mglearn.__version__))"
   ]
  },
  {
   "cell_type": "code",
   "execution_count": 13,
   "metadata": {
    "ExecuteTime": {
     "end_time": "2018-07-03T11:21:20.928795Z",
     "start_time": "2018-07-03T11:21:20.923225Z"
    }
   },
   "outputs": [
    {
     "name": "stdout",
     "output_type": "stream",
     "text": [
      "Graph viz verison: 0.8.3\n"
     ]
    }
   ],
   "source": [
    "import graphviz\n",
    "print (\"Graph viz verison: {}\".format(graphviz.__version__))"
   ]
  },
  {
   "cell_type": "code",
   "execution_count": 10,
   "metadata": {
    "ExecuteTime": {
     "end_time": "2018-07-03T11:19:49.952192Z",
     "start_time": "2018-07-03T11:19:49.214520Z"
    }
   },
   "outputs": [
    {
     "name": "stdout",
     "output_type": "stream",
     "text": [
      "Tensorflow version: 1.5.0\n"
     ]
    }
   ],
   "source": [
    "import tensorflow as tf\n",
    "print (\"Tensorflow version: {}\".format(tf.__version__))"
   ]
  },
  {
   "cell_type": "markdown",
   "metadata": {},
   "source": [
    "# Acknowledgements"
   ]
  },
  {
   "cell_type": "markdown",
   "metadata": {
    "ExecuteTime": {
     "end_time": "2018-07-06T12:40:59.019354Z",
     "start_time": "2018-07-06T12:40:59.011358Z"
    }
   },
   "source": [
    "- Automate the Boring Stuff with Python - https://automatetheboringstuff.com/"
   ]
  }
 ],
 "metadata": {
  "kernelspec": {
   "display_name": "Python 3",
   "language": "python",
   "name": "python3"
  },
  "language_info": {
   "codemirror_mode": {
    "name": "ipython",
    "version": 3
   },
   "file_extension": ".py",
   "mimetype": "text/x-python",
   "name": "python",
   "nbconvert_exporter": "python",
   "pygments_lexer": "ipython3",
   "version": "3.6.1"
  },
  "toc": {
   "base_numbering": "0",
   "nav_menu": {},
   "number_sections": true,
   "sideBar": true,
   "skip_h1_title": false,
   "title_cell": "Table of Contents",
   "title_sidebar": "Contents",
   "toc_cell": false,
   "toc_position": {
    "height": "calc(100% - 180px)",
    "left": "10px",
    "top": "150px",
    "width": "341px"
   },
   "toc_section_display": true,
   "toc_window_display": true
  }
 },
 "nbformat": 4,
 "nbformat_minor": 2
}

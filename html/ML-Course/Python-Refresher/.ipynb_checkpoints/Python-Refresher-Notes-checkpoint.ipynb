{
 "cells": [
  {
   "cell_type": "markdown",
   "metadata": {
    "ExecuteTime": {
     "end_time": "2018-06-27T08:28:44.322503Z",
     "start_time": "2018-06-27T08:28:43.384360Z"
    }
   },
   "source": [
    "# Introduction"
   ]
  },
  {
   "cell_type": "markdown",
   "metadata": {},
   "source": [
    "We have to learn some basic programming concepts before doing anything in Maching Learning or Data Science or any Projects "
   ]
  },
  {
   "cell_type": "markdown",
   "metadata": {},
   "source": [
    "# Python Basics"
   ]
  },
  {
   "cell_type": "markdown",
   "metadata": {},
   "source": [
    "## Entering expressions"
   ]
  },
  {
   "cell_type": "code",
   "execution_count": 1,
   "metadata": {
    "ExecuteTime": {
     "end_time": "2018-06-28T14:38:58.205924Z",
     "start_time": "2018-06-28T14:38:58.183934Z"
    }
   },
   "outputs": [
    {
     "data": {
      "text/plain": [
       "4"
      ]
     },
     "execution_count": 1,
     "metadata": {},
     "output_type": "execute_result"
    }
   ],
   "source": [
    "2+2"
   ]
  },
  {
   "cell_type": "markdown",
   "metadata": {
    "ExecuteTime": {
     "end_time": "2018-06-27T08:31:09.787160Z",
     "start_time": "2018-06-27T08:31:09.779163Z"
    }
   },
   "source": [
    "**Commonly used math operators**\n",
    "- Addition \n",
    "- Subtraction\n",
    "- Multiplication\n",
    "- Division\n",
    "- Integer Division\n",
    "- Moduls/ Remainder\n",
    "- Exponent/ Power\n",
    "\n",
    "**Order of Precedence**\n",
    "\n",
    "The order of operations (also called precedence) of Python math operators is similar to that of mathematics. The ** operator is evaluated first; the *, /, //, and % operators are evaluated next, from left to right; and the + and - operators are evaluated last (also from left to right)"
   ]
  },
  {
   "cell_type": "code",
   "execution_count": 15,
   "metadata": {
    "ExecuteTime": {
     "end_time": "2018-06-27T08:36:00.497367Z",
     "start_time": "2018-06-27T08:36:00.489372Z"
    }
   },
   "outputs": [
    {
     "data": {
      "text/plain": [
       "20"
      ]
     },
     "execution_count": 15,
     "metadata": {},
     "output_type": "execute_result"
    }
   ],
   "source": [
    "2+3*6"
   ]
  },
  {
   "cell_type": "code",
   "execution_count": 16,
   "metadata": {
    "ExecuteTime": {
     "end_time": "2018-06-27T08:36:05.158056Z",
     "start_time": "2018-06-27T08:36:05.150042Z"
    }
   },
   "outputs": [
    {
     "data": {
      "text/plain": [
       "30"
      ]
     },
     "execution_count": 16,
     "metadata": {},
     "output_type": "execute_result"
    }
   ],
   "source": [
    "(2 + 3) * 6"
   ]
  },
  {
   "cell_type": "code",
   "execution_count": 17,
   "metadata": {
    "ExecuteTime": {
     "end_time": "2018-06-27T08:36:11.911226Z",
     "start_time": "2018-06-27T08:36:11.899234Z"
    }
   },
   "outputs": [
    {
     "data": {
      "text/plain": [
       "32"
      ]
     },
     "execution_count": 17,
     "metadata": {},
     "output_type": "execute_result"
    }
   ],
   "source": [
    "2**5"
   ]
  },
  {
   "cell_type": "code",
   "execution_count": 25,
   "metadata": {
    "ExecuteTime": {
     "end_time": "2018-06-27T09:31:51.210956Z",
     "start_time": "2018-06-27T09:31:51.202980Z"
    }
   },
   "outputs": [
    {
     "data": {
      "text/plain": [
       "3.142857142857143"
      ]
     },
     "execution_count": 25,
     "metadata": {},
     "output_type": "execute_result"
    }
   ],
   "source": [
    "22/7"
   ]
  },
  {
   "cell_type": "code",
   "execution_count": 26,
   "metadata": {
    "ExecuteTime": {
     "end_time": "2018-06-27T09:31:53.900896Z",
     "start_time": "2018-06-27T09:31:53.892917Z"
    }
   },
   "outputs": [
    {
     "data": {
      "text/plain": [
       "3"
      ]
     },
     "execution_count": 26,
     "metadata": {},
     "output_type": "execute_result"
    }
   ],
   "source": [
    "22//7"
   ]
  },
  {
   "cell_type": "code",
   "execution_count": 27,
   "metadata": {
    "ExecuteTime": {
     "end_time": "2018-06-27T09:31:56.640839Z",
     "start_time": "2018-06-27T09:31:56.632842Z"
    }
   },
   "outputs": [
    {
     "data": {
      "text/plain": [
       "1"
      ]
     },
     "execution_count": 27,
     "metadata": {},
     "output_type": "execute_result"
    }
   ],
   "source": [
    "22 % 7"
   ]
  },
  {
   "cell_type": "markdown",
   "metadata": {},
   "source": [
    "## Common data types"
   ]
  },
  {
   "cell_type": "markdown",
   "metadata": {},
   "source": [
    "**Common Data Types**\n",
    "- Integer - `int`\n",
    "    - e.g. `0,50,-100`\n",
    "- Floating-Point - `float`\n",
    "    - e.g. `1.25, 3.14, -1.0, --0.5, 0.0`\n",
    "- String - `str`\n",
    "    - e.g. `'a', 'aa', 'aaa', 'Hello!', '11 cats'`\n",
    "- Boolean - `bool`\n",
    "    - e.g. `True, False`"
   ]
  },
  {
   "cell_type": "markdown",
   "metadata": {},
   "source": [
    "String can be enclosed in single or double quotes"
   ]
  },
  {
   "cell_type": "markdown",
   "metadata": {},
   "source": [
    "## String concatenation & Replicaiton"
   ]
  },
  {
   "cell_type": "markdown",
   "metadata": {},
   "source": [
    "The meaning of an operator (e.g. `+`) may change based on the data types of the values next to it\n"
   ]
  },
  {
   "cell_type": "code",
   "execution_count": 23,
   "metadata": {
    "ExecuteTime": {
     "end_time": "2018-06-27T08:41:08.764193Z",
     "start_time": "2018-06-27T08:41:08.756216Z"
    }
   },
   "outputs": [
    {
     "data": {
      "text/plain": [
       "3"
      ]
     },
     "execution_count": 23,
     "metadata": {},
     "output_type": "execute_result"
    }
   ],
   "source": [
    "# Addition for int or float\n",
    "1 + 2"
   ]
  },
  {
   "cell_type": "code",
   "execution_count": 22,
   "metadata": {
    "ExecuteTime": {
     "end_time": "2018-06-27T08:40:49.806583Z",
     "start_time": "2018-06-27T08:40:49.794610Z"
    }
   },
   "outputs": [
    {
     "data": {
      "text/plain": [
       "'BruceWayne'"
      ]
     },
     "execution_count": 22,
     "metadata": {},
     "output_type": "execute_result"
    }
   ],
   "source": [
    "# Concatenation for string data type\n",
    "'Bruce' + 'Wayne'"
   ]
  },
  {
   "cell_type": "markdown",
   "metadata": {},
   "source": [
    "if you try to use the + operator on a string and an integer value, Python will not know how to handle this, and it will display an <font color = red>error message</font>."
   ]
  },
  {
   "cell_type": "code",
   "execution_count": 29,
   "metadata": {
    "ExecuteTime": {
     "end_time": "2018-06-27T09:32:31.739717Z",
     "start_time": "2018-06-27T09:32:31.723723Z"
    }
   },
   "outputs": [
    {
     "ename": "TypeError",
     "evalue": "must be str, not int",
     "output_type": "error",
     "traceback": [
      "\u001b[1;31m---------------------------------------------------------------------------\u001b[0m",
      "\u001b[1;31mTypeError\u001b[0m                                 Traceback (most recent call last)",
      "\u001b[1;32m<ipython-input-29-ec44728c2272>\u001b[0m in \u001b[0;36m<module>\u001b[1;34m()\u001b[0m\n\u001b[0;32m      1\u001b[0m \u001b[1;31m# if you try to use the + operator on a string and an integer value,\u001b[0m\u001b[1;33m\u001b[0m\u001b[1;33m\u001b[0m\u001b[0m\n\u001b[0;32m      2\u001b[0m \u001b[1;31m# Python will not know how to handle this, and it will display an error message.\u001b[0m\u001b[1;33m\u001b[0m\u001b[1;33m\u001b[0m\u001b[0m\n\u001b[1;32m----> 3\u001b[1;33m \u001b[1;34m'Bruce'\u001b[0m \u001b[1;33m+\u001b[0m \u001b[1;36m42\u001b[0m\u001b[1;33m\u001b[0m\u001b[0m\n\u001b[0m",
      "\u001b[1;31mTypeError\u001b[0m: must be str, not int"
     ]
    }
   ],
   "source": [
    "'Bruce' + 42"
   ]
  },
  {
   "cell_type": "markdown",
   "metadata": {
    "ExecuteTime": {
     "end_time": "2018-06-27T09:34:50.278962Z",
     "start_time": "2018-06-27T09:34:50.270964Z"
    }
   },
   "source": [
    "The `*` operator when used on one string value and one integer value becomes string replication operator."
   ]
  },
  {
   "cell_type": "code",
   "execution_count": 31,
   "metadata": {
    "ExecuteTime": {
     "end_time": "2018-06-27T09:34:27.049334Z",
     "start_time": "2018-06-27T09:34:27.041361Z"
    }
   },
   "outputs": [
    {
     "data": {
      "text/plain": [
       "10"
      ]
     },
     "execution_count": 31,
     "metadata": {},
     "output_type": "execute_result"
    }
   ],
   "source": [
    "2*5"
   ]
  },
  {
   "cell_type": "code",
   "execution_count": 30,
   "metadata": {
    "ExecuteTime": {
     "end_time": "2018-06-27T09:33:51.330742Z",
     "start_time": "2018-06-27T09:33:51.322765Z"
    }
   },
   "outputs": [
    {
     "data": {
      "text/plain": [
       "'BatmanBatmanBatmanBatmanBatman'"
      ]
     },
     "execution_count": 30,
     "metadata": {},
     "output_type": "execute_result"
    }
   ],
   "source": [
    "'Batman'*5"
   ]
  },
  {
   "cell_type": "markdown",
   "metadata": {
    "ExecuteTime": {
     "end_time": "2018-06-27T09:36:49.908939Z",
     "start_time": "2018-06-27T09:36:49.900963Z"
    }
   },
   "source": [
    "**Varaibles**\n",
    "- It's like box in the computer’s memory where we can store values\n",
    "\n",
    "**Variable Names** are case sensitive.<br>We  can name a variable anything as long as it obeys the following three rules:\n",
    "\n",
    "- It can be only one word.\n",
    "- It can use only letters, numbers, and the underscore `_` character.\n",
    "- It can’t begin with a number.\n",
    "\n",
    "e.g. of *invalid variable names*: \t\n",
    "`current-balance, current balance 4account, total_$um, 'batman'`"
   ]
  },
  {
   "cell_type": "markdown",
   "metadata": {},
   "source": [
    "## `Hello world` - First Python program"
   ]
  },
  {
   "cell_type": "code",
   "execution_count": 4,
   "metadata": {
    "ExecuteTime": {
     "end_time": "2018-06-28T15:09:30.254443Z",
     "start_time": "2018-06-28T15:09:18.805651Z"
    }
   },
   "outputs": [
    {
     "name": "stdout",
     "output_type": "stream",
     "text": [
      "Hello world!\n",
      "What is your name?\n",
      "James Bond\n",
      "It is good to meet you, James Bond\n",
      "The length of your name is:\n",
      "10\n",
      "What is your age?\n",
      "50\n",
      "<class 'str'>\n",
      "You will be 51 in a year.\n"
     ]
    }
   ],
   "source": [
    "# This program says hello and asks for my name.\n",
    "\n",
    "print('Hello world!')\n",
    "print('What is your name?')    # ask for their name\n",
    "myName = input()\n",
    "print('It is good to meet you, ' + myName)\n",
    "print('The length of your name is:')\n",
    "print(len(myName))\n",
    "print('What is your age?')    # ask for their age\n",
    "myAge = input()\n",
    "print (type(myAge))\n",
    "print('You will be ' + str(int(myAge) + 1) + ' in a year.')"
   ]
  },
  {
   "cell_type": "markdown",
   "metadata": {},
   "source": [
    "### Program Breakdown"
   ]
  },
  {
   "cell_type": "markdown",
   "metadata": {
    "ExecuteTime": {
     "end_time": "2018-06-27T09:43:38.683366Z",
     "start_time": "2018-06-27T09:43:38.675388Z"
    }
   },
   "source": [
    "The following line is called a comment. Python ignores comments, and you can use them to write notes or remind yourself what the code is trying to do. Any text for the rest of the line following a hash mark `#` is part of a comment."
   ]
  },
  {
   "cell_type": "markdown",
   "metadata": {},
   "source": [
    "#### Comments"
   ]
  },
  {
   "cell_type": "code",
   "execution_count": 5,
   "metadata": {
    "ExecuteTime": {
     "end_time": "2018-06-27T09:44:16.819207Z",
     "start_time": "2018-06-27T09:44:16.815212Z"
    }
   },
   "outputs": [],
   "source": [
    "# This program says hello and asks for my name."
   ]
  },
  {
   "cell_type": "markdown",
   "metadata": {},
   "source": [
    "The `print()` function displays the `string` value inside the parentheses on the screen. Notice that the quotes are not printed to the screen. They just mark where the string begins and ends; they are not part of the string value."
   ]
  },
  {
   "cell_type": "markdown",
   "metadata": {},
   "source": [
    "#### `print()` function"
   ]
  },
  {
   "cell_type": "code",
   "execution_count": 6,
   "metadata": {
    "ExecuteTime": {
     "end_time": "2018-06-27T09:45:41.772088Z",
     "start_time": "2018-06-27T09:45:41.764087Z"
    }
   },
   "outputs": [
    {
     "name": "stdout",
     "output_type": "stream",
     "text": [
      "Hello world!\n",
      "What is your name?\n"
     ]
    }
   ],
   "source": [
    "print('Hello world!')\n",
    "print('What is your name?')    # ask for their name"
   ]
  },
  {
   "cell_type": "markdown",
   "metadata": {},
   "source": [
    "The `input()` function waits for the user to type some text on the keyboard and press ENTER key.\n",
    "The user input will then be stored in `myName` variable"
   ]
  },
  {
   "cell_type": "markdown",
   "metadata": {},
   "source": [
    "#### `input()` function"
   ]
  },
  {
   "cell_type": "code",
   "execution_count": 7,
   "metadata": {
    "ExecuteTime": {
     "end_time": "2018-06-27T09:47:57.345988Z",
     "start_time": "2018-06-27T09:47:44.580356Z"
    }
   },
   "outputs": [
    {
     "name": "stdout",
     "output_type": "stream",
     "text": [
      "Gandolf the Gray\n"
     ]
    }
   ],
   "source": [
    "myName = input()"
   ]
  },
  {
   "cell_type": "markdown",
   "metadata": {},
   "source": [
    "The expression `'It is good to meet you, ' + myName` is evaluated and is `print`ed on the screen."
   ]
  },
  {
   "cell_type": "code",
   "execution_count": 8,
   "metadata": {
    "ExecuteTime": {
     "end_time": "2018-06-27T09:49:06.300283Z",
     "start_time": "2018-06-27T09:49:06.292287Z"
    }
   },
   "outputs": [
    {
     "name": "stdout",
     "output_type": "stream",
     "text": [
      "It is good to meet you, Gandolf the Gray\n"
     ]
    }
   ],
   "source": [
    "print('It is good to meet you, ' + myName)"
   ]
  },
  {
   "cell_type": "markdown",
   "metadata": {},
   "source": [
    "The `len()` function returns the number of characters in the given string."
   ]
  },
  {
   "cell_type": "markdown",
   "metadata": {},
   "source": [
    "#### `len()` function"
   ]
  },
  {
   "cell_type": "code",
   "execution_count": 9,
   "metadata": {
    "ExecuteTime": {
     "end_time": "2018-06-27T09:49:47.701469Z",
     "start_time": "2018-06-27T09:49:47.693472Z"
    }
   },
   "outputs": [
    {
     "name": "stdout",
     "output_type": "stream",
     "text": [
      "The length of your name is:\n",
      "16\n"
     ]
    }
   ],
   "source": [
    "print('The length of your name is:')\n",
    "print(len(myName))"
   ]
  },
  {
   "cell_type": "markdown",
   "metadata": {},
   "source": [
    "#### type() function"
   ]
  },
  {
   "cell_type": "markdown",
   "metadata": {},
   "source": [
    "The `type()` function returns the data type of the value given"
   ]
  },
  {
   "cell_type": "code",
   "execution_count": 7,
   "metadata": {
    "ExecuteTime": {
     "end_time": "2018-06-28T15:10:31.254178Z",
     "start_time": "2018-06-28T15:10:29.193350Z"
    }
   },
   "outputs": [
    {
     "name": "stdout",
     "output_type": "stream",
     "text": [
      "What is your age?\n",
      "50\n",
      "<class 'str'>\n"
     ]
    }
   ],
   "source": [
    "print('What is your age?')    # ask for their age\n",
    "myAge = input()\n",
    "print (type(myAge))           # the input functions usually returns a string data type"
   ]
  },
  {
   "cell_type": "markdown",
   "metadata": {},
   "source": [
    "#### `str(), int(), float()` functions"
   ]
  },
  {
   "cell_type": "markdown",
   "metadata": {},
   "source": [
    "These functions are used to change the data types of the values. <br>\n",
    "As the `input()` function returns `str` data, `myAge` variable is of `str` data type. <br>\n",
    "To add a numerical value to it, the value should be converted to `int`.<br> \n",
    "After performing the addition, the `int` value is converted back to `str` again so that it can be concatenated with other strings."
   ]
  },
  {
   "cell_type": "code",
   "execution_count": 8,
   "metadata": {
    "ExecuteTime": {
     "end_time": "2018-06-28T15:10:37.979478Z",
     "start_time": "2018-06-28T15:10:37.973500Z"
    }
   },
   "outputs": [
    {
     "name": "stdout",
     "output_type": "stream",
     "text": [
      "50\n"
     ]
    }
   ],
   "source": [
    "print('You will be ' + str(int(myAge) + 1) + ' in a year.')"
   ]
  },
  {
   "cell_type": "markdown",
   "metadata": {},
   "source": [
    "# Flow control"
   ]
  },
  {
   "cell_type": "markdown",
   "metadata": {},
   "source": [
    "## `and,or,not` and `<,>,<=,>=,==,!=`"
   ]
  },
  {
   "cell_type": "markdown",
   "metadata": {},
   "source": [
    "- Boolean Values: `True, False`\n",
    "- Boolean operators: `and,or,not`\n",
    "    - returns `True` or `False`\n",
    "- Comparison operators: `<, >, <=, >=, ==, !=`\n",
    "    - returns `True` or `False`"
   ]
  },
  {
   "cell_type": "code",
   "execution_count": 14,
   "metadata": {
    "ExecuteTime": {
     "end_time": "2018-06-28T17:28:47.932616Z",
     "start_time": "2018-06-28T17:28:47.925617Z"
    }
   },
   "outputs": [
    {
     "data": {
      "text/plain": [
       "(False, True, False)"
      ]
     },
     "execution_count": 14,
     "metadata": {},
     "output_type": "execute_result"
    }
   ],
   "source": [
    "5 > 6"
   ]
  },
  {
   "cell_type": "code",
   "execution_count": 20,
   "metadata": {
    "ExecuteTime": {
     "end_time": "2018-06-28T17:29:57.912911Z",
     "start_time": "2018-06-28T17:29:57.904933Z"
    }
   },
   "outputs": [
    {
     "data": {
      "text/plain": [
       "(True, False, True, False)"
      ]
     },
     "execution_count": 20,
     "metadata": {},
     "output_type": "execute_result"
    }
   ],
   "source": [
    "5 <= 6, 3>5, 3!=5, 3 == 5"
   ]
  },
  {
   "cell_type": "code",
   "execution_count": 17,
   "metadata": {
    "ExecuteTime": {
     "end_time": "2018-06-28T17:29:15.083136Z",
     "start_time": "2018-06-28T17:29:15.075158Z"
    }
   },
   "outputs": [
    {
     "data": {
      "text/plain": [
       "(False, True)"
      ]
     },
     "execution_count": 17,
     "metadata": {},
     "output_type": "execute_result"
    }
   ],
   "source": [
    "5<6 and 3>5, 5<6 or 3>5"
   ]
  },
  {
   "cell_type": "code",
   "execution_count": 12,
   "metadata": {
    "ExecuteTime": {
     "end_time": "2018-06-28T17:28:29.602211Z",
     "start_time": "2018-06-28T17:28:29.595208Z"
    }
   },
   "outputs": [
    {
     "data": {
      "text/plain": [
       "(False, True)"
      ]
     },
     "execution_count": 12,
     "metadata": {},
     "output_type": "execute_result"
    }
   ],
   "source": [
    "not (True), not(False)"
   ]
  },
  {
   "cell_type": "markdown",
   "metadata": {},
   "source": [
    "## Flow control"
   ]
  },
  {
   "cell_type": "markdown",
   "metadata": {},
   "source": [
    "### if"
   ]
  },
  {
   "cell_type": "markdown",
   "metadata": {
    "ExecuteTime": {
     "end_time": "2018-06-28T17:37:32.256117Z",
     "start_time": "2018-06-28T17:37:32.249104Z"
    }
   },
   "source": [
    "- When `if` condition evalues to `True`, the block of statement indented inside will get executed"
   ]
  },
  {
   "cell_type": "code",
   "execution_count": 30,
   "metadata": {
    "ExecuteTime": {
     "end_time": "2018-06-28T17:34:44.986189Z",
     "start_time": "2018-06-28T17:34:44.980193Z"
    }
   },
   "outputs": [
    {
     "name": "stdout",
     "output_type": "stream",
     "text": [
      "age is less than 10\n"
     ]
    }
   ],
   "source": [
    "age = 5\n",
    "if age < 10:                       # age < 10 evaluates to True      \n",
    "    print ('age is less than 10')"
   ]
  },
  {
   "cell_type": "code",
   "execution_count": 31,
   "metadata": {
    "ExecuteTime": {
     "end_time": "2018-06-28T17:34:45.155141Z",
     "start_time": "2018-06-28T17:34:45.150134Z"
    }
   },
   "outputs": [],
   "source": [
    "age = 15\n",
    "if age < 10:                       # age < 10 evaluates to False             \n",
    "    print ('age is less than 10')  # Doesn't get printed as age variable us more than 10"
   ]
  },
  {
   "cell_type": "markdown",
   "metadata": {},
   "source": [
    "### if else"
   ]
  },
  {
   "cell_type": "markdown",
   "metadata": {
    "ExecuteTime": {
     "end_time": "2018-06-28T17:38:14.878641Z",
     "start_time": "2018-06-28T17:38:14.870647Z"
    }
   },
   "source": [
    "- When `if` condition evalues to `True`, the block of statement indented inside `if` will get executed.\n",
    "- When it evaluates to `False`, the  block of statement indented inside `else` will get executed."
   ]
  },
  {
   "cell_type": "code",
   "execution_count": 32,
   "metadata": {
    "ExecuteTime": {
     "end_time": "2018-06-28T17:35:21.266180Z",
     "start_time": "2018-06-28T17:35:21.260184Z"
    }
   },
   "outputs": [
    {
     "name": "stdout",
     "output_type": "stream",
     "text": [
      "You are an adult\n"
     ]
    }
   ],
   "source": [
    "age = 18\n",
    "if age < 18:                     \n",
    "    print ('You are not an adult')\n",
    "else:\n",
    "    print ('You are an adult')"
   ]
  },
  {
   "cell_type": "markdown",
   "metadata": {},
   "source": [
    "### `if elif else`"
   ]
  },
  {
   "cell_type": "markdown",
   "metadata": {
    "ExecuteTime": {
     "end_time": "2018-06-28T17:39:28.994740Z",
     "start_time": "2018-06-28T17:39:28.986745Z"
    }
   },
   "source": [
    "- When `if` condition evalues to `True`, the block of statement indented inside `if` will get executed.\n",
    "- When it fails, the `elif` condition will be evaluated and if it turns out to be `True`,  the block of statement indented inside `elif` will get executed.\n",
    "- When both `if` and `elif` evaluates to `False`, the  block of statement indented inside `else` will get executed."
   ]
  },
  {
   "cell_type": "code",
   "execution_count": 37,
   "metadata": {
    "ExecuteTime": {
     "end_time": "2018-06-28T17:36:43.078074Z",
     "start_time": "2018-06-28T17:36:43.070076Z"
    }
   },
   "outputs": [
    {
     "name": "stdout",
     "output_type": "stream",
     "text": [
      "You are neither adult nor teen. Just a kid!\n"
     ]
    }
   ],
   "source": [
    "age = 10\n",
    "if age > 18:\n",
    "    print ('You are  an adult')\n",
    "elif age > 12:\n",
    "    print ('You are a teenager')\n",
    "else:\n",
    "    print ('You are neither adult nor teen. Just a kid!')"
   ]
  },
  {
   "cell_type": "markdown",
   "metadata": {
    "ExecuteTime": {
     "end_time": "2018-06-28T17:41:21.725225Z",
     "start_time": "2018-06-28T17:41:21.717231Z"
    }
   },
   "source": [
    "We can have multiple `elif` statements after an `if` statement. In the entire combo, `if-elseif-else` combo, only one of the condition will be exeucted."
   ]
  },
  {
   "cell_type": "code",
   "execution_count": 41,
   "metadata": {
    "ExecuteTime": {
     "end_time": "2018-06-28T17:40:55.946528Z",
     "start_time": "2018-06-28T17:40:55.937553Z"
    }
   },
   "outputs": [
    {
     "name": "stdout",
     "output_type": "stream",
     "text": [
      "You are a teenager\n"
     ]
    }
   ],
   "source": [
    "age = 15\n",
    "if age >60 :\n",
    "    print ('You are very old')\n",
    "elif age>18:\n",
    "    print ('You are an adult')\n",
    "elif age > 12:\n",
    "    print ('You are a teenager')\n",
    "else:\n",
    "    print ('You are neither adult nor teen. Just a kid!')"
   ]
  },
  {
   "cell_type": "markdown",
   "metadata": {},
   "source": [
    "### nested `if`"
   ]
  },
  {
   "cell_type": "markdown",
   "metadata": {},
   "source": [
    "We can have `if-else` inside another `if-else` and we can keep nesting them. The deeper the nest gets, the harder it will be to debug and trace."
   ]
  },
  {
   "cell_type": "code",
   "execution_count": 44,
   "metadata": {
    "ExecuteTime": {
     "end_time": "2018-06-28T17:46:21.765952Z",
     "start_time": "2018-06-28T17:46:14.614365Z"
    }
   },
   "outputs": [
    {
     "name": "stdout",
     "output_type": "stream",
     "text": [
      "Enter user name: james bond\n",
      "Enter pass word: 008\n",
      "Access denied. Wrong password\n"
     ]
    }
   ],
   "source": [
    "user_name = input('Enter user name: ')      # james bond\n",
    "pass_word = input('Enter pass word: ')      # 007\n",
    "if user_name == 'james bond':\n",
    "    if pass_word == '007':\n",
    "        print ('Access granted')\n",
    "    else:\n",
    "        print ('Access denied. Wrong password')\n",
    "else:\n",
    "     print ('Access denied. Wrong username')\n",
    "        "
   ]
  },
  {
   "cell_type": "markdown",
   "metadata": {
    "ExecuteTime": {
     "end_time": "2018-06-28T17:48:00.330476Z",
     "start_time": "2018-06-28T17:48:00.323501Z"
    }
   },
   "source": [
    "The above code could be re-witten as follows using `boolean` and `comparison operators` making it easy to read and follow"
   ]
  },
  {
   "cell_type": "code",
   "execution_count": 46,
   "metadata": {
    "ExecuteTime": {
     "end_time": "2018-06-28T17:47:18.575904Z",
     "start_time": "2018-06-28T17:47:12.425393Z"
    }
   },
   "outputs": [
    {
     "name": "stdout",
     "output_type": "stream",
     "text": [
      "Enter user name: james bond\n",
      "Enter pass word: 007\n",
      "Access granted\n"
     ]
    }
   ],
   "source": [
    "user_name = input('Enter user name: ')      # james bond\n",
    "pass_word = input('Enter pass word: ')      # 007\n",
    "if user_name == 'james bond' and pass_word == '007':\n",
    "    print ('Access granted')\n",
    "else:\n",
    "    print ('Access denied. Wrong login details')"
   ]
  },
  {
   "cell_type": "code",
   "execution_count": null,
   "metadata": {},
   "outputs": [],
   "source": []
  }
 ],
 "metadata": {
  "kernelspec": {
   "display_name": "Python (ML)",
   "language": "python",
   "name": "ml"
  },
  "language_info": {
   "codemirror_mode": {
    "name": "ipython",
    "version": 3
   },
   "file_extension": ".py",
   "mimetype": "text/x-python",
   "name": "python",
   "nbconvert_exporter": "python",
   "pygments_lexer": "ipython3",
   "version": "3.6.1"
  },
  "toc": {
   "base_numbering": "0",
   "nav_menu": {},
   "number_sections": true,
   "sideBar": true,
   "skip_h1_title": false,
   "title_cell": "Table of Contents",
   "title_sidebar": "Contents",
   "toc_cell": false,
   "toc_position": {},
   "toc_section_display": true,
   "toc_window_display": true
  }
 },
 "nbformat": 4,
 "nbformat_minor": 2
}

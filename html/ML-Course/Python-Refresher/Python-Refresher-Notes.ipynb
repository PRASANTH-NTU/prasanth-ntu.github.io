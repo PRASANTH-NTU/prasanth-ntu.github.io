{
 "cells": [
  {
   "cell_type": "markdown",
   "metadata": {
    "ExecuteTime": {
     "end_time": "2018-06-29T01:48:34.594903Z",
     "start_time": "2018-06-29T01:48:34.586925Z"
    }
   },
   "source": [
    "*For full screen view & to download, visit *\n",
    "- `HTML`: <a href =\"https://prasanth-ntu.github.io/html/ML-Course/Python-Refresher/Python-Refresher-Notes.html\" target=\"_blank\">Click here</a>\n",
    "- `GITHUB`: <a href =\"https://github.com/prasanth-ntu/prasanth-ntu.github.io/blob/master/html/ML-Course/Python-Refresher/Python-Refresher-Notes.ipynb\" target=\"_blank\">Click here</a>"
   ]
  },
  {
   "cell_type": "markdown",
   "metadata": {
    "ExecuteTime": {
     "end_time": "2018-06-27T08:28:44.322503Z",
     "start_time": "2018-06-27T08:28:43.384360Z"
    }
   },
   "source": [
    "# Introduction"
   ]
  },
  {
   "cell_type": "markdown",
   "metadata": {
    "ExecuteTime": {
     "end_time": "2018-06-29T04:00:01.693329Z",
     "start_time": "2018-06-29T04:00:01.685333Z"
    }
   },
   "source": [
    "<font size=4>__Topics Covered__</font>\n",
    "\n",
    "\n",
    "1 [Python Basics](#Python Basics) <br>\n",
    "2 [Flow Control](#Flow Control) <br>\n",
    "3 [Functions](#Functions) <br>\n"
   ]
  },
  {
   "cell_type": "markdown",
   "metadata": {},
   "source": [
    "We have to learn some basic programming concepts before doing anything in Maching Learning or Data Science or any Projects.\n",
    "\n",
    "This notebook is created on the presumption that you have some basic grounding on programming world, with some idea on `variables & data types, arrays, flow conditions - if | else | elif | while | for | break | continue, importing libraries & functions, Functions - creating functions | passing arguments | returning values`."
   ]
  },
  {
   "cell_type": "markdown",
   "metadata": {},
   "source": [
    "<a id=\"Python Basics\"></a>\n",
    "# Python Basics"
   ]
  },
  {
   "cell_type": "markdown",
   "metadata": {},
   "source": [
    "## Entering expressions"
   ]
  },
  {
   "cell_type": "code",
   "execution_count": 1,
   "metadata": {
    "ExecuteTime": {
     "end_time": "2018-06-28T14:38:58.205924Z",
     "start_time": "2018-06-28T14:38:58.183934Z"
    }
   },
   "outputs": [
    {
     "data": {
      "text/plain": [
       "4"
      ]
     },
     "execution_count": 1,
     "metadata": {},
     "output_type": "execute_result"
    }
   ],
   "source": [
    "2+2"
   ]
  },
  {
   "cell_type": "markdown",
   "metadata": {
    "ExecuteTime": {
     "end_time": "2018-06-27T08:31:09.787160Z",
     "start_time": "2018-06-27T08:31:09.779163Z"
    }
   },
   "source": [
    "**Commonly used math operators**\n",
    "- Addition \n",
    "- Subtraction\n",
    "- Multiplication\n",
    "- Division\n",
    "- Integer Division\n",
    "- Moduls/ Remainder\n",
    "- Exponent/ Power\n",
    "\n",
    "**Order of Precedence**\n",
    "\n",
    "The order of operations (also called precedence) of Python math operators is similar to that of mathematics. The ** operator is evaluated first; the *, /, //, and % operators are evaluated next, from left to right; and the + and - operators are evaluated last (also from left to right)"
   ]
  },
  {
   "cell_type": "code",
   "execution_count": 15,
   "metadata": {
    "ExecuteTime": {
     "end_time": "2018-06-27T08:36:00.497367Z",
     "start_time": "2018-06-27T08:36:00.489372Z"
    }
   },
   "outputs": [
    {
     "data": {
      "text/plain": [
       "20"
      ]
     },
     "execution_count": 15,
     "metadata": {},
     "output_type": "execute_result"
    }
   ],
   "source": [
    "2+3*6"
   ]
  },
  {
   "cell_type": "code",
   "execution_count": 16,
   "metadata": {
    "ExecuteTime": {
     "end_time": "2018-06-27T08:36:05.158056Z",
     "start_time": "2018-06-27T08:36:05.150042Z"
    }
   },
   "outputs": [
    {
     "data": {
      "text/plain": [
       "30"
      ]
     },
     "execution_count": 16,
     "metadata": {},
     "output_type": "execute_result"
    }
   ],
   "source": [
    "(2 + 3) * 6"
   ]
  },
  {
   "cell_type": "code",
   "execution_count": 17,
   "metadata": {
    "ExecuteTime": {
     "end_time": "2018-06-27T08:36:11.911226Z",
     "start_time": "2018-06-27T08:36:11.899234Z"
    }
   },
   "outputs": [
    {
     "data": {
      "text/plain": [
       "32"
      ]
     },
     "execution_count": 17,
     "metadata": {},
     "output_type": "execute_result"
    }
   ],
   "source": [
    "2**5"
   ]
  },
  {
   "cell_type": "code",
   "execution_count": 25,
   "metadata": {
    "ExecuteTime": {
     "end_time": "2018-06-27T09:31:51.210956Z",
     "start_time": "2018-06-27T09:31:51.202980Z"
    }
   },
   "outputs": [
    {
     "data": {
      "text/plain": [
       "3.142857142857143"
      ]
     },
     "execution_count": 25,
     "metadata": {},
     "output_type": "execute_result"
    }
   ],
   "source": [
    "22/7"
   ]
  },
  {
   "cell_type": "code",
   "execution_count": 26,
   "metadata": {
    "ExecuteTime": {
     "end_time": "2018-06-27T09:31:53.900896Z",
     "start_time": "2018-06-27T09:31:53.892917Z"
    }
   },
   "outputs": [
    {
     "data": {
      "text/plain": [
       "3"
      ]
     },
     "execution_count": 26,
     "metadata": {},
     "output_type": "execute_result"
    }
   ],
   "source": [
    "22//7"
   ]
  },
  {
   "cell_type": "code",
   "execution_count": 27,
   "metadata": {
    "ExecuteTime": {
     "end_time": "2018-06-27T09:31:56.640839Z",
     "start_time": "2018-06-27T09:31:56.632842Z"
    }
   },
   "outputs": [
    {
     "data": {
      "text/plain": [
       "1"
      ]
     },
     "execution_count": 27,
     "metadata": {},
     "output_type": "execute_result"
    }
   ],
   "source": [
    "22 % 7"
   ]
  },
  {
   "cell_type": "markdown",
   "metadata": {},
   "source": [
    "## Common data types"
   ]
  },
  {
   "cell_type": "markdown",
   "metadata": {},
   "source": [
    "**Common Data Types**\n",
    "- Integer - `int`\n",
    "    - e.g. `0,50,-100`\n",
    "- Floating-Point - `float`\n",
    "    - e.g. `1.25, 3.14, -1.0, --0.5, 0.0`\n",
    "- String - `str`\n",
    "    - e.g. `'a', 'aa', 'aaa', 'Hello!', '11 cats'`\n",
    "- Boolean - `bool`\n",
    "    - e.g. `True, False`"
   ]
  },
  {
   "cell_type": "markdown",
   "metadata": {},
   "source": [
    "String can be enclosed in single or double quotes"
   ]
  },
  {
   "cell_type": "markdown",
   "metadata": {},
   "source": [
    "## String concatenation & Replicaiton"
   ]
  },
  {
   "cell_type": "markdown",
   "metadata": {},
   "source": [
    "The meaning of an operator (e.g. `+`) may change based on the data types of the values next to it\n"
   ]
  },
  {
   "cell_type": "code",
   "execution_count": 23,
   "metadata": {
    "ExecuteTime": {
     "end_time": "2018-06-27T08:41:08.764193Z",
     "start_time": "2018-06-27T08:41:08.756216Z"
    }
   },
   "outputs": [
    {
     "data": {
      "text/plain": [
       "3"
      ]
     },
     "execution_count": 23,
     "metadata": {},
     "output_type": "execute_result"
    }
   ],
   "source": [
    "# Addition for int or float\n",
    "1 + 2"
   ]
  },
  {
   "cell_type": "code",
   "execution_count": 22,
   "metadata": {
    "ExecuteTime": {
     "end_time": "2018-06-27T08:40:49.806583Z",
     "start_time": "2018-06-27T08:40:49.794610Z"
    }
   },
   "outputs": [
    {
     "data": {
      "text/plain": [
       "'BruceWayne'"
      ]
     },
     "execution_count": 22,
     "metadata": {},
     "output_type": "execute_result"
    }
   ],
   "source": [
    "# Concatenation for string data type\n",
    "'Bruce' + 'Wayne'"
   ]
  },
  {
   "cell_type": "markdown",
   "metadata": {},
   "source": [
    "if you try to use the + operator on a string and an integer value, Python will not know how to handle this, and it will display an <font color = red>error message</font>."
   ]
  },
  {
   "cell_type": "code",
   "execution_count": 29,
   "metadata": {
    "ExecuteTime": {
     "end_time": "2018-06-27T09:32:31.739717Z",
     "start_time": "2018-06-27T09:32:31.723723Z"
    }
   },
   "outputs": [
    {
     "ename": "TypeError",
     "evalue": "must be str, not int",
     "output_type": "error",
     "traceback": [
      "\u001b[1;31m---------------------------------------------------------------------------\u001b[0m",
      "\u001b[1;31mTypeError\u001b[0m                                 Traceback (most recent call last)",
      "\u001b[1;32m<ipython-input-29-ec44728c2272>\u001b[0m in \u001b[0;36m<module>\u001b[1;34m()\u001b[0m\n\u001b[0;32m      1\u001b[0m \u001b[1;31m# if you try to use the + operator on a string and an integer value,\u001b[0m\u001b[1;33m\u001b[0m\u001b[1;33m\u001b[0m\u001b[0m\n\u001b[0;32m      2\u001b[0m \u001b[1;31m# Python will not know how to handle this, and it will display an error message.\u001b[0m\u001b[1;33m\u001b[0m\u001b[1;33m\u001b[0m\u001b[0m\n\u001b[1;32m----> 3\u001b[1;33m \u001b[1;34m'Bruce'\u001b[0m \u001b[1;33m+\u001b[0m \u001b[1;36m42\u001b[0m\u001b[1;33m\u001b[0m\u001b[0m\n\u001b[0m",
      "\u001b[1;31mTypeError\u001b[0m: must be str, not int"
     ]
    }
   ],
   "source": [
    "'Bruce' + 42"
   ]
  },
  {
   "cell_type": "markdown",
   "metadata": {
    "ExecuteTime": {
     "end_time": "2018-06-27T09:34:50.278962Z",
     "start_time": "2018-06-27T09:34:50.270964Z"
    }
   },
   "source": [
    "The `*` operator when used on one string value and one integer value becomes string replication operator."
   ]
  },
  {
   "cell_type": "code",
   "execution_count": 31,
   "metadata": {
    "ExecuteTime": {
     "end_time": "2018-06-27T09:34:27.049334Z",
     "start_time": "2018-06-27T09:34:27.041361Z"
    }
   },
   "outputs": [
    {
     "data": {
      "text/plain": [
       "10"
      ]
     },
     "execution_count": 31,
     "metadata": {},
     "output_type": "execute_result"
    }
   ],
   "source": [
    "2*5"
   ]
  },
  {
   "cell_type": "code",
   "execution_count": 30,
   "metadata": {
    "ExecuteTime": {
     "end_time": "2018-06-27T09:33:51.330742Z",
     "start_time": "2018-06-27T09:33:51.322765Z"
    }
   },
   "outputs": [
    {
     "data": {
      "text/plain": [
       "'BatmanBatmanBatmanBatmanBatman'"
      ]
     },
     "execution_count": 30,
     "metadata": {},
     "output_type": "execute_result"
    }
   ],
   "source": [
    "'Batman'*5"
   ]
  },
  {
   "cell_type": "markdown",
   "metadata": {
    "ExecuteTime": {
     "end_time": "2018-06-27T09:36:49.908939Z",
     "start_time": "2018-06-27T09:36:49.900963Z"
    }
   },
   "source": [
    "**Varaibles**\n",
    "- It's like box in the computer’s memory where we can store values\n",
    "\n",
    "**Variable Names** are case sensitive.<br>We  can name a variable anything as long as it obeys the following three rules:\n",
    "\n",
    "- It can be only one word.\n",
    "- It can use only letters, numbers, and the underscore `_` character.\n",
    "- It can’t begin with a number.\n",
    "\n",
    "e.g. of *invalid variable names*: \t\n",
    "`current-balance, current balance 4account, total_$um, 'batman'`"
   ]
  },
  {
   "cell_type": "markdown",
   "metadata": {},
   "source": [
    "## `Hello world` - First Python program"
   ]
  },
  {
   "cell_type": "code",
   "execution_count": 4,
   "metadata": {
    "ExecuteTime": {
     "end_time": "2018-06-28T15:09:30.254443Z",
     "start_time": "2018-06-28T15:09:18.805651Z"
    }
   },
   "outputs": [
    {
     "name": "stdout",
     "output_type": "stream",
     "text": [
      "Hello world!\n",
      "What is your name?\n",
      "James Bond\n",
      "It is good to meet you, James Bond\n",
      "The length of your name is:\n",
      "10\n",
      "What is your age?\n",
      "50\n",
      "<class 'str'>\n",
      "You will be 51 in a year.\n"
     ]
    }
   ],
   "source": [
    "# This program says hello and asks for my name.\n",
    "\n",
    "print('Hello world!')\n",
    "print('What is your name?')    # ask for their name\n",
    "myName = input()\n",
    "print('It is good to meet you, ' + myName)\n",
    "print('The length of your name is:')\n",
    "print(len(myName))\n",
    "print('What is your age?')    # ask for their age\n",
    "myAge = input()\n",
    "print (type(myAge))\n",
    "print('You will be ' + str(int(myAge) + 1) + ' in a year.')"
   ]
  },
  {
   "cell_type": "markdown",
   "metadata": {},
   "source": [
    "### Program Breakdown"
   ]
  },
  {
   "cell_type": "markdown",
   "metadata": {
    "ExecuteTime": {
     "end_time": "2018-06-27T09:43:38.683366Z",
     "start_time": "2018-06-27T09:43:38.675388Z"
    }
   },
   "source": [
    "The following line is called a comment. Python ignores comments, and you can use them to write notes or remind yourself what the code is trying to do. Any text for the rest of the line following a hash mark `#` is part of a comment."
   ]
  },
  {
   "cell_type": "markdown",
   "metadata": {},
   "source": [
    "#### Comments"
   ]
  },
  {
   "cell_type": "code",
   "execution_count": 5,
   "metadata": {
    "ExecuteTime": {
     "end_time": "2018-06-27T09:44:16.819207Z",
     "start_time": "2018-06-27T09:44:16.815212Z"
    }
   },
   "outputs": [],
   "source": [
    "# This program says hello and asks for my name."
   ]
  },
  {
   "cell_type": "markdown",
   "metadata": {},
   "source": [
    "The `print()` function displays the `string` value inside the parentheses on the screen. Notice that the quotes are not printed to the screen. They just mark where the string begins and ends; they are not part of the string value."
   ]
  },
  {
   "cell_type": "markdown",
   "metadata": {},
   "source": [
    "#### `print()` function"
   ]
  },
  {
   "cell_type": "code",
   "execution_count": 6,
   "metadata": {
    "ExecuteTime": {
     "end_time": "2018-06-27T09:45:41.772088Z",
     "start_time": "2018-06-27T09:45:41.764087Z"
    }
   },
   "outputs": [
    {
     "name": "stdout",
     "output_type": "stream",
     "text": [
      "Hello world!\n",
      "What is your name?\n"
     ]
    }
   ],
   "source": [
    "print('Hello world!')\n",
    "print('What is your name?')    # ask for their name"
   ]
  },
  {
   "cell_type": "markdown",
   "metadata": {},
   "source": [
    "The `input()` function waits for the user to type some text on the keyboard and press ENTER key.\n",
    "The user input will then be stored in `myName` variable"
   ]
  },
  {
   "cell_type": "markdown",
   "metadata": {},
   "source": [
    "#### `input()` function"
   ]
  },
  {
   "cell_type": "code",
   "execution_count": 7,
   "metadata": {
    "ExecuteTime": {
     "end_time": "2018-06-27T09:47:57.345988Z",
     "start_time": "2018-06-27T09:47:44.580356Z"
    }
   },
   "outputs": [
    {
     "name": "stdout",
     "output_type": "stream",
     "text": [
      "Gandolf the Gray\n"
     ]
    }
   ],
   "source": [
    "myName = input()"
   ]
  },
  {
   "cell_type": "markdown",
   "metadata": {},
   "source": [
    "The expression `'It is good to meet you, ' + myName` is evaluated and is `print`ed on the screen."
   ]
  },
  {
   "cell_type": "code",
   "execution_count": 8,
   "metadata": {
    "ExecuteTime": {
     "end_time": "2018-06-27T09:49:06.300283Z",
     "start_time": "2018-06-27T09:49:06.292287Z"
    }
   },
   "outputs": [
    {
     "name": "stdout",
     "output_type": "stream",
     "text": [
      "It is good to meet you, Gandolf the Gray\n"
     ]
    }
   ],
   "source": [
    "print('It is good to meet you, ' + myName)"
   ]
  },
  {
   "cell_type": "markdown",
   "metadata": {},
   "source": [
    "The `len()` function returns the number of characters in the given string."
   ]
  },
  {
   "cell_type": "markdown",
   "metadata": {},
   "source": [
    "#### `len()` function"
   ]
  },
  {
   "cell_type": "code",
   "execution_count": 9,
   "metadata": {
    "ExecuteTime": {
     "end_time": "2018-06-27T09:49:47.701469Z",
     "start_time": "2018-06-27T09:49:47.693472Z"
    }
   },
   "outputs": [
    {
     "name": "stdout",
     "output_type": "stream",
     "text": [
      "The length of your name is:\n",
      "16\n"
     ]
    }
   ],
   "source": [
    "print('The length of your name is:')\n",
    "print(len(myName))"
   ]
  },
  {
   "cell_type": "markdown",
   "metadata": {},
   "source": [
    "#### type() function"
   ]
  },
  {
   "cell_type": "markdown",
   "metadata": {},
   "source": [
    "The `type()` function returns the data type of the value given"
   ]
  },
  {
   "cell_type": "code",
   "execution_count": 7,
   "metadata": {
    "ExecuteTime": {
     "end_time": "2018-06-28T15:10:31.254178Z",
     "start_time": "2018-06-28T15:10:29.193350Z"
    }
   },
   "outputs": [
    {
     "name": "stdout",
     "output_type": "stream",
     "text": [
      "What is your age?\n",
      "50\n",
      "<class 'str'>\n"
     ]
    }
   ],
   "source": [
    "print('What is your age?')    # ask for their age\n",
    "myAge = input()\n",
    "print (type(myAge))           # the input functions usually returns a string data type"
   ]
  },
  {
   "cell_type": "markdown",
   "metadata": {},
   "source": [
    "#### `str(), int(), float()` functions"
   ]
  },
  {
   "cell_type": "markdown",
   "metadata": {},
   "source": [
    "These functions are used to change the data types of the values. <br>\n",
    "As the `input()` function returns `str` data, `myAge` variable is of `str` data type. <br>\n",
    "To add a numerical value to it, the value should be converted to `int`.<br> \n",
    "After performing the addition, the `int` value is converted back to `str` again so that it can be concatenated with other strings."
   ]
  },
  {
   "cell_type": "code",
   "execution_count": 8,
   "metadata": {
    "ExecuteTime": {
     "end_time": "2018-06-28T15:10:37.979478Z",
     "start_time": "2018-06-28T15:10:37.973500Z"
    }
   },
   "outputs": [
    {
     "name": "stdout",
     "output_type": "stream",
     "text": [
      "50\n"
     ]
    }
   ],
   "source": [
    "print('You will be ' + str(int(myAge) + 1) + ' in a year.')"
   ]
  },
  {
   "cell_type": "markdown",
   "metadata": {},
   "source": [
    "<a id=\"Flow Control\"></a>\n",
    "# Flow Control"
   ]
  },
  {
   "cell_type": "markdown",
   "metadata": {},
   "source": [
    "## `and,or,not` and `<,>,<=,>=,==,!=`"
   ]
  },
  {
   "cell_type": "markdown",
   "metadata": {},
   "source": [
    "- Boolean Values: `True, False`\n",
    "- Boolean operators: `and,or,not`\n",
    "    - returns `True` or `False`\n",
    "- Comparison operators: `<, >, <=, >=, ==, !=`\n",
    "    - returns `True` or `False`"
   ]
  },
  {
   "cell_type": "code",
   "execution_count": 14,
   "metadata": {
    "ExecuteTime": {
     "end_time": "2018-06-28T17:28:47.932616Z",
     "start_time": "2018-06-28T17:28:47.925617Z"
    }
   },
   "outputs": [
    {
     "data": {
      "text/plain": [
       "(False, True, False)"
      ]
     },
     "execution_count": 14,
     "metadata": {},
     "output_type": "execute_result"
    }
   ],
   "source": [
    "5 > 6"
   ]
  },
  {
   "cell_type": "code",
   "execution_count": 20,
   "metadata": {
    "ExecuteTime": {
     "end_time": "2018-06-28T17:29:57.912911Z",
     "start_time": "2018-06-28T17:29:57.904933Z"
    }
   },
   "outputs": [
    {
     "data": {
      "text/plain": [
       "(True, False, True, False)"
      ]
     },
     "execution_count": 20,
     "metadata": {},
     "output_type": "execute_result"
    }
   ],
   "source": [
    "5 <= 6, 3>5, 3!=5, 3 == 5"
   ]
  },
  {
   "cell_type": "code",
   "execution_count": 17,
   "metadata": {
    "ExecuteTime": {
     "end_time": "2018-06-28T17:29:15.083136Z",
     "start_time": "2018-06-28T17:29:15.075158Z"
    }
   },
   "outputs": [
    {
     "data": {
      "text/plain": [
       "(False, True)"
      ]
     },
     "execution_count": 17,
     "metadata": {},
     "output_type": "execute_result"
    }
   ],
   "source": [
    "5<6 and 3>5, 5<6 or 3>5"
   ]
  },
  {
   "cell_type": "code",
   "execution_count": 12,
   "metadata": {
    "ExecuteTime": {
     "end_time": "2018-06-28T17:28:29.602211Z",
     "start_time": "2018-06-28T17:28:29.595208Z"
    }
   },
   "outputs": [
    {
     "data": {
      "text/plain": [
       "(False, True)"
      ]
     },
     "execution_count": 12,
     "metadata": {},
     "output_type": "execute_result"
    }
   ],
   "source": [
    "not (True), not(False)"
   ]
  },
  {
   "cell_type": "markdown",
   "metadata": {},
   "source": [
    "## Flow control"
   ]
  },
  {
   "cell_type": "markdown",
   "metadata": {},
   "source": [
    "### `if,else,elif`"
   ]
  },
  {
   "cell_type": "markdown",
   "metadata": {},
   "source": [
    "#### `if`"
   ]
  },
  {
   "cell_type": "markdown",
   "metadata": {
    "ExecuteTime": {
     "end_time": "2018-06-28T17:37:32.256117Z",
     "start_time": "2018-06-28T17:37:32.249104Z"
    }
   },
   "source": [
    "- When `if` condition evalues to `True`, the block of statement indented inside will get executed. \n",
    "- The block can be indented (pushed in) by *`Tab`*. The block can be deindented by *`Shift+Tab`*\n",
    "\n",
    "*Note: There should be atleast one line of indented code after `if` condition*"
   ]
  },
  {
   "cell_type": "code",
   "execution_count": 30,
   "metadata": {
    "ExecuteTime": {
     "end_time": "2018-06-28T17:34:44.986189Z",
     "start_time": "2018-06-28T17:34:44.980193Z"
    }
   },
   "outputs": [
    {
     "name": "stdout",
     "output_type": "stream",
     "text": [
      "age is less than 10\n"
     ]
    }
   ],
   "source": [
    "age = 5\n",
    "if age < 10:                       # age < 10 evaluates to True      \n",
    "    print ('age is less than 10')  # if True, this code will get executed"
   ]
  },
  {
   "cell_type": "code",
   "execution_count": 31,
   "metadata": {
    "ExecuteTime": {
     "end_time": "2018-06-28T17:34:45.155141Z",
     "start_time": "2018-06-28T17:34:45.150134Z"
    }
   },
   "outputs": [],
   "source": [
    "age = 15\n",
    "if age < 10:                       # age < 10 evaluates to False             \n",
    "    print ('age is less than 10')  # Doesn't get printed as age variable us more than 10"
   ]
  },
  {
   "cell_type": "markdown",
   "metadata": {},
   "source": [
    "#### `else`"
   ]
  },
  {
   "cell_type": "markdown",
   "metadata": {
    "ExecuteTime": {
     "end_time": "2018-06-28T17:38:14.878641Z",
     "start_time": "2018-06-28T17:38:14.870647Z"
    }
   },
   "source": [
    "- When `if` condition evalues to `True`, the block of statement indented inside `if` will get executed.\n",
    "- When it evaluates to `False`, the  block of statement indented inside `else` will get executed."
   ]
  },
  {
   "cell_type": "code",
   "execution_count": 32,
   "metadata": {
    "ExecuteTime": {
     "end_time": "2018-06-28T17:35:21.266180Z",
     "start_time": "2018-06-28T17:35:21.260184Z"
    }
   },
   "outputs": [
    {
     "name": "stdout",
     "output_type": "stream",
     "text": [
      "You are an adult\n"
     ]
    }
   ],
   "source": [
    "age = 18\n",
    "if age < 18:                     \n",
    "    print ('You are not an adult')\n",
    "else:\n",
    "    print ('You are an adult')"
   ]
  },
  {
   "cell_type": "markdown",
   "metadata": {},
   "source": [
    "#### `elif`"
   ]
  },
  {
   "cell_type": "markdown",
   "metadata": {
    "ExecuteTime": {
     "end_time": "2018-06-28T17:39:28.994740Z",
     "start_time": "2018-06-28T17:39:28.986745Z"
    }
   },
   "source": [
    "- When `if` condition evalues to `True`, the block of statement indented inside `if` will get executed.\n",
    "- When it fails, the `elif` condition will be evaluated and if it turns out to be `True`,  the block of statement indented inside `elif` will get executed.\n",
    "- When both `if` and `elif` evaluates to `False`, the  block of statement indented inside `else` will get executed."
   ]
  },
  {
   "cell_type": "code",
   "execution_count": 37,
   "metadata": {
    "ExecuteTime": {
     "end_time": "2018-06-28T17:36:43.078074Z",
     "start_time": "2018-06-28T17:36:43.070076Z"
    }
   },
   "outputs": [
    {
     "name": "stdout",
     "output_type": "stream",
     "text": [
      "You are neither adult nor teen. Just a kid!\n"
     ]
    }
   ],
   "source": [
    "age = 10\n",
    "if age > 18:\n",
    "    print ('You are  an adult')\n",
    "elif age > 12:\n",
    "    print ('You are a teenager')\n",
    "else:\n",
    "    print ('You are neither adult nor teen. Just a kid!')"
   ]
  },
  {
   "cell_type": "markdown",
   "metadata": {
    "ExecuteTime": {
     "end_time": "2018-06-28T17:41:21.725225Z",
     "start_time": "2018-06-28T17:41:21.717231Z"
    }
   },
   "source": [
    "We can have multiple `elif` statements after an `if` statement. In the entire combo, `if-elseif-else` combo, only one of the condition will be exeucted. The order of execution is from top to bottom."
   ]
  },
  {
   "cell_type": "code",
   "execution_count": 41,
   "metadata": {
    "ExecuteTime": {
     "end_time": "2018-06-28T17:40:55.946528Z",
     "start_time": "2018-06-28T17:40:55.937553Z"
    }
   },
   "outputs": [
    {
     "name": "stdout",
     "output_type": "stream",
     "text": [
      "You are a teenager\n"
     ]
    }
   ],
   "source": [
    "age = 15\n",
    "if age >60 :\n",
    "    print ('You are very old')\n",
    "elif age>18:\n",
    "    print ('You are an adult')\n",
    "elif age > 12:\n",
    "    print ('You are a teenager')\n",
    "else:\n",
    "    print ('You are neither adult nor teen. Just a kid!')"
   ]
  },
  {
   "cell_type": "markdown",
   "metadata": {},
   "source": [
    "#### nested `if`"
   ]
  },
  {
   "cell_type": "markdown",
   "metadata": {},
   "source": [
    "We can have `if-else` inside another `if-else` and we can keep nesting them. The deeper the nest gets, the harder it will be to debug and trace."
   ]
  },
  {
   "cell_type": "code",
   "execution_count": 44,
   "metadata": {
    "ExecuteTime": {
     "end_time": "2018-06-28T17:46:21.765952Z",
     "start_time": "2018-06-28T17:46:14.614365Z"
    }
   },
   "outputs": [
    {
     "name": "stdout",
     "output_type": "stream",
     "text": [
      "Enter user name: james bond\n",
      "Enter pass word: 008\n",
      "Access denied. Wrong password\n"
     ]
    }
   ],
   "source": [
    "user_name = input('Enter user name: ')      # james bond\n",
    "pass_word = input('Enter pass word: ')      # 007\n",
    "if user_name == 'james bond':\n",
    "    if pass_word == '007':\n",
    "        print ('Access granted')\n",
    "    else:\n",
    "        print ('Access denied. Wrong password')\n",
    "else:\n",
    "     print ('Access denied. Wrong username')"
   ]
  },
  {
   "cell_type": "markdown",
   "metadata": {
    "ExecuteTime": {
     "end_time": "2018-06-28T17:48:00.330476Z",
     "start_time": "2018-06-28T17:48:00.323501Z"
    }
   },
   "source": [
    "The above code could be re-witten as follows using `boolean` and `comparison operators` making it easy to read and follow"
   ]
  },
  {
   "cell_type": "code",
   "execution_count": 46,
   "metadata": {
    "ExecuteTime": {
     "end_time": "2018-06-28T17:47:18.575904Z",
     "start_time": "2018-06-28T17:47:12.425393Z"
    }
   },
   "outputs": [
    {
     "name": "stdout",
     "output_type": "stream",
     "text": [
      "Enter user name: james bond\n",
      "Enter pass word: 007\n",
      "Access granted\n"
     ]
    }
   ],
   "source": [
    "user_name = input('Enter user name: ')      # james bond\n",
    "pass_word = input('Enter pass word: ')      # 007\n",
    "if user_name == 'james bond' and pass_word == '007':\n",
    "    print ('Access granted')\n",
    "else:\n",
    "    print ('Access denied. Wrong login details')"
   ]
  },
  {
   "cell_type": "markdown",
   "metadata": {},
   "source": [
    "### Loops"
   ]
  },
  {
   "cell_type": "markdown",
   "metadata": {},
   "source": [
    "#### `while` loop"
   ]
  },
  {
   "cell_type": "markdown",
   "metadata": {},
   "source": [
    "- `while` loop keeps on running as long as the condition evaluates to `True`"
   ]
  },
  {
   "cell_type": "code",
   "execution_count": 1,
   "metadata": {
    "ExecuteTime": {
     "end_time": "2018-06-29T01:23:11.757368Z",
     "start_time": "2018-06-29T01:23:11.733383Z"
    }
   },
   "outputs": [
    {
     "name": "stdout",
     "output_type": "stream",
     "text": [
      "Loop start\n",
      "10\n",
      "9\n",
      "8\n",
      "7\n",
      "6\n",
      "5\n",
      "4\n",
      "3\n",
      "2\n",
      "1\n",
      "Loop end\n"
     ]
    }
   ],
   "source": [
    "i = 10\n",
    "print ('Loop start')\n",
    "while i>0:            # while loop evaluates to true as long as i>0\n",
    "    print (i)\n",
    "    i = i - 1         # everytime, the loop runs, value of `i` decreases by 1\n",
    "print ('Loop end')    # This line of code is outside the loop. Will run only when the while loop ends"
   ]
  },
  {
   "cell_type": "markdown",
   "metadata": {
    "ExecuteTime": {
     "end_time": "2018-06-29T01:25:13.890946Z",
     "start_time": "2018-06-29T01:25:13.884950Z"
    }
   },
   "source": [
    "What happens if you run **`while False:`** and **`while True:`**?"
   ]
  },
  {
   "cell_type": "markdown",
   "metadata": {},
   "source": [
    "#### for loop"
   ]
  },
  {
   "cell_type": "markdown",
   "metadata": {},
   "source": [
    "- `for` loop runs for a fixed number of iterations.\n",
    "- Here, the `range(10)` returns a list of numbers from 0 to 9.\n",
    "- Everytime, the `for` loop runs, the iterator variable `i` takes the next available value from the list."
   ]
  },
  {
   "cell_type": "code",
   "execution_count": 3,
   "metadata": {
    "ExecuteTime": {
     "end_time": "2018-06-29T01:31:05.211143Z",
     "start_time": "2018-06-29T01:31:05.202144Z"
    }
   },
   "outputs": [
    {
     "name": "stdout",
     "output_type": "stream",
     "text": [
      "0\n",
      "1\n",
      "2\n",
      "3\n",
      "4\n",
      "5\n",
      "6\n",
      "7\n",
      "8\n",
      "9\n"
     ]
    }
   ],
   "source": [
    "for i in range(10):\n",
    "    print (i)"
   ]
  },
  {
   "cell_type": "markdown",
   "metadata": {},
   "source": [
    "- Beside using `range()` function in `for` loop, we can use many other data types.\n",
    "- Here, I have used `list` type containing list of 4 names and used `for` loop to read through all names in list, one at a time .\n",
    "\n",
    "*Note: We will see more about list data types later.*"
   ]
  },
  {
   "cell_type": "code",
   "execution_count": 5,
   "metadata": {
    "ExecuteTime": {
     "end_time": "2018-06-29T01:34:54.156627Z",
     "start_time": "2018-06-29T01:34:54.148615Z"
    }
   },
   "outputs": [
    {
     "name": "stdout",
     "output_type": "stream",
     "text": [
      "Batman\n",
      "Superman\n",
      "Ironman\n",
      "Thanos\n"
     ]
    }
   ],
   "source": [
    "for name in ['Batman', 'Superman', 'Ironman', 'Thanos']:\n",
    "    print (name)"
   ]
  },
  {
   "cell_type": "markdown",
   "metadata": {
    "ExecuteTime": {
     "end_time": "2018-06-29T01:36:37.554619Z",
     "start_time": "2018-06-29T01:36:37.547621Z"
    }
   },
   "source": [
    "- We can also loop through each element in a `string` data type\n",
    "\n",
    "*Note: We will see more about string data types later.*"
   ]
  },
  {
   "cell_type": "code",
   "execution_count": 6,
   "metadata": {
    "ExecuteTime": {
     "end_time": "2018-06-29T01:36:07.830347Z",
     "start_time": "2018-06-29T01:36:07.820353Z"
    }
   },
   "outputs": [
    {
     "name": "stdout",
     "output_type": "stream",
     "text": [
      "B\n",
      "r\n",
      "u\n",
      "c\n",
      "e\n",
      " \n",
      "W\n",
      "a\n",
      "y\n",
      "n\n",
      "e\n"
     ]
    }
   ],
   "source": [
    "for letter in 'Bruce Wayne':\n",
    "    print (letter)"
   ]
  },
  {
   "cell_type": "markdown",
   "metadata": {},
   "source": [
    "#### `break`"
   ]
  },
  {
   "cell_type": "markdown",
   "metadata": {},
   "source": [
    "`break` is used to exit the loop (`while` or `for`) the program is currently evaluating prematurely based on certain conditions."
   ]
  },
  {
   "cell_type": "code",
   "execution_count": 9,
   "metadata": {
    "ExecuteTime": {
     "end_time": "2018-06-29T01:40:52.240830Z",
     "start_time": "2018-06-29T01:40:52.229838Z"
    }
   },
   "outputs": [
    {
     "name": "stdout",
     "output_type": "stream",
     "text": [
      "Loop start\n",
      "B\n",
      "r\n",
      "u\n",
      "c\n",
      "e\n",
      "Break the loop\n",
      "Loop end\n"
     ]
    }
   ],
   "source": [
    "print ('Loop start')\n",
    "for letter in 'Bruce Wayne':\n",
    "    print (letter)\n",
    "    if letter == 'e':\n",
    "        print ('Break the loop')\n",
    "        break                     # this command breaks the for loop (takes the program outside the loop)\n",
    "print ('Loop end')"
   ]
  },
  {
   "cell_type": "markdown",
   "metadata": {},
   "source": [
    "#### `continue`"
   ]
  },
  {
   "cell_type": "markdown",
   "metadata": {},
   "source": [
    "- `continue` is used to skip the execution of code inside the loop (`for` or `while`) and move on to next iteration on certain conditions.\n",
    "\n",
    "The program below skips printing the vowel letters and prints the rest of the consonants. "
   ]
  },
  {
   "cell_type": "code",
   "execution_count": 11,
   "metadata": {
    "ExecuteTime": {
     "end_time": "2018-06-29T01:43:35.869488Z",
     "start_time": "2018-06-29T01:43:35.858489Z"
    }
   },
   "outputs": [
    {
     "name": "stdout",
     "output_type": "stream",
     "text": [
      "Loop start\n",
      "B\n",
      "r\n",
      "c\n",
      " \n",
      "W\n",
      "y\n",
      "n\n",
      "Loop end\n"
     ]
    }
   ],
   "source": [
    "print ('Loop start')\n",
    "for letter in 'Bruce Wayne':\n",
    "    if letter == 'a' or letter =='e' or letter =='i' or letter =='o' or letter =='u':\n",
    "        continue      # this command skips lines inside the for loop below this line and starts the next iteration\n",
    "    print (letter)\n",
    "               \n",
    "print ('Loop end')"
   ]
  },
  {
   "cell_type": "markdown",
   "metadata": {},
   "source": [
    "### `in`"
   ]
  },
  {
   "cell_type": "markdown",
   "metadata": {},
   "source": [
    "- The `in` operator can be used to check whether a value is inside another and it evaluates to `bool` (`True`,`False`)\n",
    "\n",
    "*Note: We will see more about `in`, `str` & `list` data types later.*"
   ]
  },
  {
   "cell_type": "code",
   "execution_count": 14,
   "metadata": {
    "ExecuteTime": {
     "end_time": "2018-06-29T01:51:20.312815Z",
     "start_time": "2018-06-29T01:51:20.294847Z"
    }
   },
   "outputs": [
    {
     "data": {
      "text/plain": [
       "True"
      ]
     },
     "execution_count": 14,
     "metadata": {},
     "output_type": "execute_result"
    }
   ],
   "source": [
    "'a' in 'James'"
   ]
  },
  {
   "cell_type": "code",
   "execution_count": 20,
   "metadata": {
    "ExecuteTime": {
     "end_time": "2018-06-29T01:53:50.480512Z",
     "start_time": "2018-06-29T01:53:50.472536Z"
    }
   },
   "outputs": [
    {
     "data": {
      "text/plain": [
       "(False, True, True, False)"
      ]
     },
     "execution_count": 20,
     "metadata": {},
     "output_type": "execute_result"
    }
   ],
   "source": [
    "'b' in 'James', 'Ja' in 'James', 'James' in 'James', 'JameS' in 'James'"
   ]
  },
  {
   "cell_type": "code",
   "execution_count": 13,
   "metadata": {
    "ExecuteTime": {
     "end_time": "2018-06-29T01:49:34.578025Z",
     "start_time": "2018-06-29T01:49:34.567025Z"
    }
   },
   "outputs": [
    {
     "name": "stdout",
     "output_type": "stream",
     "text": [
      "Loop start\n",
      "B\n",
      "r\n",
      "c\n",
      " \n",
      "W\n",
      "y\n",
      "n\n",
      "Loop end\n"
     ]
    }
   ],
   "source": [
    "print ('Loop start')\n",
    "for letter in 'Bruce Wayne':\n",
    "    if letter in 'aeiou':          \n",
    "        continue      # this command skips lines inside the for loop below this line and starts the next iteration\n",
    "    print (letter)\n",
    "               \n",
    "print ('Loop end')"
   ]
  },
  {
   "cell_type": "markdown",
   "metadata": {},
   "source": [
    "<a id=\"Functions\"></a>\n",
    "# Functions"
   ]
  },
  {
   "cell_type": "markdown",
   "metadata": {},
   "source": [
    "## `import`"
   ]
  },
  {
   "cell_type": "markdown",
   "metadata": {
    "ExecuteTime": {
     "end_time": "2018-06-29T01:54:55.171209Z",
     "start_time": "2018-06-29T01:54:55.163215Z"
    }
   },
   "source": [
    "**built-in functions**\n",
    "- Till now, we have used a basic set of functions like `print(), inpu()t, len(), str(), int(), float()`.\n",
    "\n",
    "**standard library**\n",
    "- Set of modules that conatins related group of functions embedded together.\n",
    "- e.g.\n",
    "    - `math` module contains mathematic related functions.\n",
    "    - `random` module containsrandom number related functions.       \n",
    "\n",
    "> Functions are often used as *\"Black Boxes\"*. Often, all we need to know is its inputs (parameter values), outputs and its generic function. We don't have to burden to understand each and every function and the code inside it."
   ]
  },
  {
   "cell_type": "markdown",
   "metadata": {},
   "source": [
    "**`random`** library"
   ]
  },
  {
   "cell_type": "code",
   "execution_count": 24,
   "metadata": {
    "ExecuteTime": {
     "end_time": "2018-06-29T02:00:10.696534Z",
     "start_time": "2018-06-29T02:00:10.689536Z"
    }
   },
   "outputs": [
    {
     "name": "stdout",
     "output_type": "stream",
     "text": [
      "5\n"
     ]
    }
   ],
   "source": [
    "import random                # Before using a function in standard library, we have to use import _______\n",
    "print (random.randint(1,10)) # Randomly generates an integer from 1 to 10"
   ]
  },
  {
   "cell_type": "code",
   "execution_count": 23,
   "metadata": {
    "ExecuteTime": {
     "end_time": "2018-06-29T01:59:55.415952Z",
     "start_time": "2018-06-29T01:59:55.408973Z"
    }
   },
   "outputs": [
    {
     "name": "stdout",
     "output_type": "stream",
     "text": [
      "1\n"
     ]
    }
   ],
   "source": [
    "print (random.randint(1,10))  # Randomly generates an integer from 1 to 10"
   ]
  },
  {
   "cell_type": "markdown",
   "metadata": {
    "ExecuteTime": {
     "end_time": "2018-06-29T02:01:29.983891Z",
     "start_time": "2018-06-29T02:01:29.976916Z"
    }
   },
   "source": [
    "**`math`** library"
   ]
  },
  {
   "cell_type": "code",
   "execution_count": 30,
   "metadata": {
    "ExecuteTime": {
     "end_time": "2018-06-29T02:00:54.318905Z",
     "start_time": "2018-06-29T02:00:54.310911Z"
    }
   },
   "outputs": [
    {
     "data": {
      "text/plain": [
       "1.4142135623730951"
      ]
     },
     "execution_count": 30,
     "metadata": {},
     "output_type": "execute_result"
    }
   ],
   "source": [
    "import math\n",
    "math.sqrt(2)"
   ]
  },
  {
   "cell_type": "code",
   "execution_count": 31,
   "metadata": {
    "ExecuteTime": {
     "end_time": "2018-06-29T02:00:56.615298Z",
     "start_time": "2018-06-29T02:00:56.607301Z"
    }
   },
   "outputs": [
    {
     "data": {
      "text/plain": [
       "3.141592653589793"
      ]
     },
     "execution_count": 31,
     "metadata": {},
     "output_type": "execute_result"
    }
   ],
   "source": [
    "math.pi"
   ]
  },
  {
   "cell_type": "markdown",
   "metadata": {},
   "source": [
    "## Function - `def`"
   ]
  },
  {
   "cell_type": "markdown",
   "metadata": {},
   "source": [
    "- A `function` is like mini program inside a program.\n",
    "- The idea behind function is to avoid duplicating code.\n",
    "- Deduplicaiton makes our code shorter, easier to read and update."
   ]
  },
  {
   "cell_type": "markdown",
   "metadata": {
    "ExecuteTime": {
     "end_time": "2018-06-29T02:10:18.035516Z",
     "start_time": "2018-06-29T02:10:18.030539Z"
    }
   },
   "source": [
    "### fn - without `arguments` and `return`"
   ]
  },
  {
   "cell_type": "code",
   "execution_count": 47,
   "metadata": {
    "ExecuteTime": {
     "end_time": "2018-06-29T02:22:26.003470Z",
     "start_time": "2018-06-29T02:22:25.998474Z"
    }
   },
   "outputs": [],
   "source": [
    "# create a function named 'welcome'. It neither take any input and nor returns any output\n",
    "def welcome():\n",
    "    print ('hi')\n",
    "    print ('mi casa es tu casa')"
   ]
  },
  {
   "cell_type": "code",
   "execution_count": 46,
   "metadata": {
    "ExecuteTime": {
     "end_time": "2018-06-29T02:12:03.816594Z",
     "start_time": "2018-06-29T02:12:03.809598Z"
    }
   },
   "outputs": [
    {
     "name": "stdout",
     "output_type": "stream",
     "text": [
      "hi\n",
      "mi casa es tu casa\n"
     ]
    }
   ],
   "source": [
    "# invoking/ calling a function\n",
    "welcome()"
   ]
  },
  {
   "cell_type": "code",
   "execution_count": 43,
   "metadata": {
    "ExecuteTime": {
     "end_time": "2018-06-29T02:11:49.647742Z",
     "start_time": "2018-06-29T02:11:49.639748Z"
    }
   },
   "outputs": [
    {
     "name": "stdout",
     "output_type": "stream",
     "text": [
      "hi\n",
      "mi casa es tu casa\n",
      "hi\n",
      "mi casa es tu casa\n"
     ]
    }
   ],
   "source": [
    "welcome()\n",
    "welcome()"
   ]
  },
  {
   "cell_type": "markdown",
   "metadata": {
    "ExecuteTime": {
     "end_time": "2018-06-29T02:34:47.332443Z",
     "start_time": "2018-06-29T02:34:47.326447Z"
    }
   },
   "source": [
    "### fn - with `arguments`"
   ]
  },
  {
   "cell_type": "code",
   "execution_count": 51,
   "metadata": {
    "ExecuteTime": {
     "end_time": "2018-06-29T02:36:36.642839Z",
     "start_time": "2018-06-29T02:36:36.636842Z"
    }
   },
   "outputs": [],
   "source": [
    "def hello(name):\n",
    "    print ('Hello ' + name + '!')\n",
    "    print ('Bienvenido a casa')"
   ]
  },
  {
   "cell_type": "code",
   "execution_count": 52,
   "metadata": {
    "ExecuteTime": {
     "end_time": "2018-06-29T02:36:36.798948Z",
     "start_time": "2018-06-29T02:36:36.787955Z"
    }
   },
   "outputs": [
    {
     "name": "stdout",
     "output_type": "stream",
     "text": [
      "Hello Scare Crow!\n",
      "Bienvenido a casa\n"
     ]
    }
   ],
   "source": [
    "hello('Scare Crow')"
   ]
  },
  {
   "cell_type": "markdown",
   "metadata": {},
   "source": [
    "### fn - with `return`"
   ]
  },
  {
   "cell_type": "markdown",
   "metadata": {},
   "source": [
    "- e.g.\n",
    "    - `len()` - returns the lenght of the argument passed inside\n",
    "    - `len('Python')` >>> 5"
   ]
  },
  {
   "cell_type": "code",
   "execution_count": 54,
   "metadata": {
    "ExecuteTime": {
     "end_time": "2018-06-29T03:51:52.295952Z",
     "start_time": "2018-06-29T03:51:52.287976Z"
    }
   },
   "outputs": [],
   "source": [
    "def greet(lan):\n",
    "    if lan == 'english':\n",
    "        return 'Welcome'\n",
    "    elif lan == 'spanish':\n",
    "        return 'Bienvenido'\n",
    "    elif lan == 'french':\n",
    "        return 'Bonjour'\n",
    "    else:\n",
    "        return 'Welcome'"
   ]
  },
  {
   "cell_type": "code",
   "execution_count": 56,
   "metadata": {
    "ExecuteTime": {
     "end_time": "2018-06-29T03:52:14.630916Z",
     "start_time": "2018-06-29T03:52:14.621939Z"
    }
   },
   "outputs": [
    {
     "data": {
      "text/plain": [
       "'Welcome'"
      ]
     },
     "execution_count": 56,
     "metadata": {},
     "output_type": "execute_result"
    }
   ],
   "source": [
    "greet('english')"
   ]
  },
  {
   "cell_type": "code",
   "execution_count": 59,
   "metadata": {
    "ExecuteTime": {
     "end_time": "2018-06-29T03:54:01.112371Z",
     "start_time": "2018-06-29T03:54:01.105363Z"
    }
   },
   "outputs": [
    {
     "data": {
      "text/plain": [
       "'Bonjour'"
      ]
     },
     "execution_count": 59,
     "metadata": {},
     "output_type": "execute_result"
    }
   ],
   "source": [
    "greet('french')"
   ]
  },
  {
   "cell_type": "markdown",
   "metadata": {},
   "source": [
    "## Local and Global scope"
   ]
  },
  {
   "cell_type": "markdown",
   "metadata": {
    "ExecuteTime": {
     "end_time": "2018-06-29T04:17:41.580815Z",
     "start_time": "2018-06-29T04:17:41.571840Z"
    }
   },
   "source": [
    "- *Local scope* - Variables inside the function exist in local scope\n",
    "    - Created whenever a function is called\n",
    "    - Variables created inside a function eist within local scope and they cannot be used outside the function\n",
    "    - When the function returns/ ends, the scope is closed/ destroyed along with the variables inside it\n",
    "    - The next time we call the function, the local scope is created again and they wont remember the previous values \n",
    "    \n",
    "- *Global scope* - Variables that are assigned outside all functions exist in global scope\n",
    "    - Created when our program begins\n",
    "    - When program ends, the global scope is destroyed\n",
    "\n",
    "A variable must be either in local or global scope, cannot be both. \n",
    "\n",
    "*Note: We will see more about `Local and Global scope` later.*"
   ]
  },
  {
   "cell_type": "code",
   "execution_count": null,
   "metadata": {},
   "outputs": [],
   "source": []
  }
 ],
 "metadata": {
  "kernelspec": {
   "display_name": "Python (ML)",
   "language": "python",
   "name": "ml"
  },
  "language_info": {
   "codemirror_mode": {
    "name": "ipython",
    "version": 3
   },
   "file_extension": ".py",
   "mimetype": "text/x-python",
   "name": "python",
   "nbconvert_exporter": "python",
   "pygments_lexer": "ipython3",
   "version": "3.6.1"
  },
  "toc": {
   "base_numbering": "0",
   "nav_menu": {},
   "number_sections": true,
   "sideBar": true,
   "skip_h1_title": false,
   "title_cell": "Table of Contents",
   "title_sidebar": "Contents",
   "toc_cell": false,
   "toc_position": {
    "height": "calc(100% - 180px)",
    "left": "10px",
    "top": "150px",
    "width": "341px"
   },
   "toc_section_display": true,
   "toc_window_display": true
  }
 },
 "nbformat": 4,
 "nbformat_minor": 2
}

{
 "cells": [
  {
   "cell_type": "markdown",
   "metadata": {},
   "source": [
    "*For full screen view & to download, visit *\n",
    "- `GITHUB` : https://github.com/prasanth-ntu/ML-Course/blob/master/Numpy-Introduction/Numpy-Introduction-Notes.ipynb\n",
    "- `NBVIWER`: https://nbviewer.jupyter.org/github/prasanth-ntu/ML-Course/blob/master/Numpy-Introduction/Numpy-Introduction-Notes.ipynb"
   ]
  },
  {
   "cell_type": "markdown",
   "metadata": {},
   "source": [
    "# NUMPY intro from UCSB"
   ]
  },
  {
   "cell_type": "code",
   "execution_count": 2,
   "metadata": {
    "ExecuteTime": {
     "end_time": "2018-06-25T15:53:14.875089Z",
     "start_time": "2018-06-25T15:53:14.851627Z"
    },
    "scrolled": true
   },
   "outputs": [],
   "source": [
    "import numpy as np\n",
    "\n",
    "class color(object):\n",
    "    \"\"\"This 'color' Class allows to print output in different formatting\n",
    "    \"\"\"\n",
    "    PURPLE = '\\033[95m'\n",
    "    CYAN = '\\033[96m'\n",
    "    DARKCYAN = '\\033[36m'\n",
    "    BLUE = '\\033[94m'\n",
    "    GREEN = '\\033[92m'\n",
    "    YELLOW = '\\033[93m'\n",
    "    RED = '\\033[91m'\n",
    "    BOLD = '\\033[1m'\n",
    "    UNDERLINE = '\\033[4m'\n",
    "    END = '\\033[0m'\n",
    "    \n",
    "    def __str__(self):\n",
    "        return \"This Class allows to print output in different formatting\"\n",
    "    \n",
    "# print(color.__doc__)\n",
    "# print (color.__str__(color))\n",
    "# help (color)"
   ]
  },
  {
   "cell_type": "markdown",
   "metadata": {},
   "source": [
    "## ```np.array(L)``` - Creating an Array from List"
   ]
  },
  {
   "cell_type": "code",
   "execution_count": 4,
   "metadata": {
    "ExecuteTime": {
     "end_time": "2018-06-25T14:22:45.969483Z",
     "start_time": "2018-06-25T14:22:45.958874Z"
    }
   },
   "outputs": [
    {
     "name": "stdout",
     "output_type": "stream",
     "text": [
      "[1 2 3 4 5]\n",
      "<class 'numpy.ndarray'>\n"
     ]
    }
   ],
   "source": [
    "# Creating an array\n",
    "\n",
    "L = [1,2,3,4,5]\n",
    "\n",
    "# Array elements are similar to list in Python (except that every element of array should be of same type)\n",
    "a = np.array(L)\n",
    "\n",
    "print (a)\n",
    "print (type(a))"
   ]
  },
  {
   "cell_type": "code",
   "execution_count": 10,
   "metadata": {},
   "outputs": [
    {
     "name": "stdout",
     "output_type": "stream",
     "text": [
      "[ 1.  2.  3.  4.  5.]\n"
     ]
    }
   ],
   "source": [
    "b = np.array(L, float)\n",
    "print (b)"
   ]
  },
  {
   "cell_type": "markdown",
   "metadata": {},
   "source": [
    "## Access, Slicing & Manipulating Array"
   ]
  },
  {
   "cell_type": "code",
   "execution_count": 5,
   "metadata": {
    "ExecuteTime": {
     "end_time": "2018-06-25T14:23:19.588015Z",
     "start_time": "2018-06-25T14:23:19.578330Z"
    }
   },
   "outputs": [
    {
     "name": "stdout",
     "output_type": "stream",
     "text": [
      "[1 2]\n",
      "4\n",
      "[6 2 3 4 5]\n"
     ]
    }
   ],
   "source": [
    "# Access, Slicing & Manipulating Array\n",
    "\n",
    "L = [1,2,3,4,5]\n",
    "a = np.array(L)\n",
    "\n",
    "print (a[:2])   # Slice and Access till element 2, exclusive\n",
    "print (a[3])    # Access element in index 3\n",
    "\n",
    "a[0] = 6        # Manipulate array\n",
    "print (a)"
   ]
  },
  {
   "cell_type": "markdown",
   "metadata": {},
   "source": [
    "## Multidimensional Array"
   ]
  },
  {
   "cell_type": "code",
   "execution_count": 6,
   "metadata": {
    "ExecuteTime": {
     "end_time": "2018-06-25T14:23:29.397963Z",
     "start_time": "2018-06-25T14:23:29.384486Z"
    }
   },
   "outputs": [
    {
     "name": "stdout",
     "output_type": "stream",
     "text": [
      "[[1 2 3]\n",
      " [4 5 6]]\n",
      "1\n",
      "1\n",
      "3\n"
     ]
    }
   ],
   "source": [
    "# Multidimensional Array\n",
    "\n",
    "a = np.array([[1,2,3],[4,5,6]])    # Creates 2x3 array\n",
    "print (a)\n",
    "\n",
    "print (a[0][0])                    # Access elements @ row0, col0\n",
    "print (a[0,0])                     # Same as above => a[i][j] == a[i,j]\n",
    "print (a[0,2])"
   ]
  },
  {
   "cell_type": "markdown",
   "metadata": {},
   "source": [
    "## Slicing 2D array"
   ]
  },
  {
   "cell_type": "code",
   "execution_count": 7,
   "metadata": {
    "ExecuteTime": {
     "end_time": "2018-06-25T14:23:41.158528Z",
     "start_time": "2018-06-25T14:23:41.147700Z"
    }
   },
   "outputs": [
    {
     "name": "stdout",
     "output_type": "stream",
     "text": [
      "[[1 2 3]\n",
      " [4 5 6]]\n",
      "[4 5 6]\n",
      "[3 6]\n",
      "5\n"
     ]
    }
   ],
   "source": [
    "#Slicing 2D Array\n",
    "\n",
    "a = np.array([[1,2,3],[4,5,6]])   # Creates a 2x3 array\n",
    "print(a)\n",
    "\n",
    "print (a[1,:])                    # Access all elements in row1\n",
    "print(a[:,2])                     # Access all elements in col2\n",
    "print(a[-1,-2])                   # Access element from last row, 2nd last col"
   ]
  },
  {
   "cell_type": "markdown",
   "metadata": {},
   "source": [
    "## ```shape```, ```size``` & ```len```"
   ]
  },
  {
   "cell_type": "code",
   "execution_count": 8,
   "metadata": {
    "ExecuteTime": {
     "end_time": "2018-06-25T14:47:48.286852Z",
     "start_time": "2018-06-25T14:47:48.268085Z"
    }
   },
   "outputs": [
    {
     "name": "stdout",
     "output_type": "stream",
     "text": [
      "Array = [[1 2 3]\n",
      " [4 5 6]]\n",
      "Shape = (2, 3)\n",
      "Size = 6\n",
      "Length = 2\n"
     ]
    }
   ],
   "source": [
    "# Shape, Size & Length\n",
    "\n",
    "a = np.array([[1,2,3],[4,5,6]])   # Creates a 2x3 array\n",
    "print(\"Array =\", a)\n",
    "\n",
    "print(\"Shape =\", a.shape)                   # Returns Tuple with size of each array dim \n",
    "print(\"Size =\", a.size)                     # Returns no of elements in array\n",
    "print(\"Length =\", len(a))                   # Returns length of first dimension (i.e. #row)"
   ]
  },
  {
   "cell_type": "markdown",
   "metadata": {},
   "source": [
    "## ```dtype```\n",
    " - Tells the type of value stored in array"
   ]
  },
  {
   "cell_type": "code",
   "execution_count": 9,
   "metadata": {
    "ExecuteTime": {
     "end_time": "2018-06-25T14:48:02.379944Z",
     "start_time": "2018-06-25T14:48:02.371225Z"
    }
   },
   "outputs": [
    {
     "name": "stdout",
     "output_type": "stream",
     "text": [
      "data type of 'a' = int64\n",
      "data type of 'b' = float64\n"
     ]
    }
   ],
   "source": [
    "a = np.array([[1,2,3],[4,5,6]])\n",
    "print (\"data type of 'a' =\", (a.dtype))\n",
    "\n",
    "b = np.array([[1,2,3],[4,5,6]], float)\n",
    "print (\"data type of 'b' =\", (b.dtype))"
   ]
  },
  {
   "cell_type": "markdown",
   "metadata": {},
   "source": [
    "## Using ```in``` statement"
   ]
  },
  {
   "cell_type": "code",
   "execution_count": 10,
   "metadata": {
    "ExecuteTime": {
     "end_time": "2018-06-25T14:48:15.627736Z",
     "start_time": "2018-06-25T14:48:15.609158Z"
    }
   },
   "outputs": [
    {
     "name": "stdout",
     "output_type": "stream",
     "text": [
      "Array = [[1 2 3]\n",
      " [4 5 6]]\n",
      "True\n",
      "False\n",
      "True\n",
      "False\n"
     ]
    },
    {
     "name": "stderr",
     "output_type": "stream",
     "text": [
      "/home/prasanth/deeplearning/lib/python3.5/site-packages/ipykernel_launcher.py:9: DeprecationWarning: elementwise == comparison failed; this will raise an error in the future.\n",
      "  if __name__ == '__main__':\n"
     ]
    }
   ],
   "source": [
    "# in\n",
    "\n",
    "a = np.array([[1,2,3],[4,5,6]])   # Creates a 2x3 array\n",
    "print(\"Array =\", a)\n",
    "\n",
    "print (1 in a)\n",
    "print (-1 in a)\n",
    "print ([1,2,3] in a)\n",
    "print ([1,2] in a)"
   ]
  },
  {
   "cell_type": "markdown",
   "metadata": {},
   "source": [
    "## ```reshape(nRows, nCols)```\n",
    "\n",
    "- Array can be reshaped using reshape function( ), using tuples that specify new dimension. \n",
    "- Reshape funciton creates new array & doesn’t modify the original array\n"
   ]
  },
  {
   "cell_type": "code",
   "execution_count": 13,
   "metadata": {
    "ExecuteTime": {
     "end_time": "2018-06-25T14:49:32.163703Z",
     "start_time": "2018-06-25T14:49:32.138438Z"
    }
   },
   "outputs": [
    {
     "name": "stdout",
     "output_type": "stream",
     "text": [
      "a = [0 1 2 3 4 5 6 7 8 9]\n",
      "New array =\n",
      " [[0 1]\n",
      " [2 3]\n",
      " [4 5]\n",
      " [6 7]\n",
      " [8 9]]\n",
      "New Shape =  (5, 2)\n",
      "\n",
      "Further reshape =\n",
      " [[0]\n",
      " [1]\n",
      " [2]\n",
      " [3]\n",
      " [4]\n",
      " [5]\n",
      " [6]\n",
      " [7]\n",
      " [8]\n",
      " [9]]\n",
      "New Shape =  (10, 1)\n"
     ]
    }
   ],
   "source": [
    "a = np.array(range(10))\n",
    "print (\"a =\", a)\n",
    "\n",
    "b = a.reshape((5,2))\n",
    "print (\"New array =\\n\", b)\n",
    "print (\"New Shape = \", b.shape)\n",
    " \n",
    "print()\n",
    "\n",
    "c = b.reshape((10,1))\n",
    "print (\"Further reshape =\\n\", c)\n",
    "print (\"New Shape = \", c.shape)"
   ]
  },
  {
   "cell_type": "code",
   "execution_count": 42,
   "metadata": {
    "ExecuteTime": {
     "end_time": "2018-06-25T15:15:58.080355Z",
     "start_time": "2018-06-25T15:15:58.070958Z"
    }
   },
   "outputs": [
    {
     "name": "stdout",
     "output_type": "stream",
     "text": [
      "b shape: (10, 1)\n",
      "c shape: (1, 10)\n"
     ]
    }
   ],
   "source": [
    "a = np.array([[0, 1],\n",
    "             [2, 3],\n",
    "             [4, 5],\n",
    "             [6, 7],\n",
    "             [8, 9]])\n",
    "\n",
    "b = np.reshape(a,(-1,1))     # -1 indicates that the one shape dimension (10 rows in this case)\n",
    "print ('b shape:', b.shape)\n",
    "c = np.reshape(a,(1,-1))     # -1 indicates that the one shape dimension (10 cols in this case)\n",
    "print ('c shape:', c.shape)"
   ]
  },
  {
   "cell_type": "markdown",
   "metadata": {},
   "source": [
    "## ```copy()```\n",
    "- Creates a new, seperate copy of array in memory"
   ]
  },
  {
   "cell_type": "code",
   "execution_count": 16,
   "metadata": {
    "ExecuteTime": {
     "end_time": "2018-06-25T14:51:28.303584Z",
     "start_time": "2018-06-25T14:51:28.267328Z"
    }
   },
   "outputs": [
    {
     "name": "stdout",
     "output_type": "stream",
     "text": [
      "a = [0 2 3] id = 140560724466064\n",
      "b = [0 2 3] id = 140560724466064\n",
      "c = [1 2 3] id = 140560724465824\n",
      "\n",
      "d = [0 2 3] id = 140560724539552\n",
      "\n",
      "d = [10  2  3] id = 140560724539552\n",
      "a = [10  2  3] id = 140560724466064\n",
      "b = [10  2  3] id = 140560724466064\n",
      "c = [1 2 3] id = 140560724465824\n"
     ]
    }
   ],
   "source": [
    "a = np.array([1, 2, 3], int)\n",
    "b = a                             # a & b will have same id as they are pointing to same object in memory\n",
    "c = a.copy()                      # When copy() is used, a new object will be created in memory\n",
    "a[0] = 0                          # a & b will change, yet c will remain the same\n",
    "print (\"a =\", a, \"id =\", id(a))  \n",
    "print (\"b =\", b, \"id =\", id(b))\n",
    "print (\"c =\", c, \"id =\", id(c)) \n",
    "\n",
    "print () \n",
    "\n",
    "d = a[:]\n",
    "print (\"d =\", d, \"id =\", id(d))\n",
    "d[0] = 10\n",
    "print ()\n",
    "\n",
    "print (\"d =\", d, \"id =\", id(d))\n",
    "print (\"a =\", a, \"id =\", id(a))  \n",
    "print (\"b =\", b, \"id =\", id(b))\n",
    "print (\"c =\", c, \"id =\", id(c)) "
   ]
  },
  {
   "cell_type": "markdown",
   "metadata": {},
   "source": [
    "## `tolist()` - Creating a List from Array"
   ]
  },
  {
   "cell_type": "code",
   "execution_count": 18,
   "metadata": {
    "ExecuteTime": {
     "end_time": "2018-06-25T14:53:05.449733Z",
     "start_time": "2018-06-25T14:53:05.424009Z"
    }
   },
   "outputs": [
    {
     "name": "stdout",
     "output_type": "stream",
     "text": [
      "array = [1 2 3] <class 'numpy.ndarray'>\n",
      "List = [1, 2, 3] <class 'list'>\n",
      "\n",
      "array =\n",
      " [[1 2 3]\n",
      " [4 5 6]] <class 'numpy.ndarray'>\n",
      "List = [[1, 2, 3], [4, 5, 6]] <class 'list'>\n"
     ]
    }
   ],
   "source": [
    "a = np.array([1, 2, 3], int)\n",
    "l1 = a.tolist()                   # Converts an array into list\n",
    "print (\"array =\", a, type(a))\n",
    "print (\"List =\", l1, type(l1))\n",
    "\n",
    "print ()\n",
    "\n",
    "b = np.array([[1,2,3],[4,5,6]])\n",
    "l2 = b.tolist()\n",
    "print (\"array =\\n\", b, type(b))\n",
    "print (\"List =\", l2, type(l2))"
   ]
  },
  {
   "cell_type": "markdown",
   "metadata": {},
   "source": [
    "## ```transpose()```\n",
    "- Doesn't modify the original function"
   ]
  },
  {
   "cell_type": "code",
   "execution_count": 24,
   "metadata": {
    "ExecuteTime": {
     "end_time": "2018-06-25T14:55:02.688382Z",
     "start_time": "2018-06-25T14:55:02.664396Z"
    }
   },
   "outputs": [
    {
     "name": "stdout",
     "output_type": "stream",
     "text": [
      "Oringinal:\n",
      " [[1 2 3]\n",
      " [4 5 6]]\n",
      "Transposed: \n",
      " [[1 4]\n",
      " [2 5]\n",
      " [3 6]]\n",
      "Transposed:\n",
      " [[1 4]\n",
      " [2 5]\n",
      " [3 6]]\n",
      "\n",
      "\u001b[91mTo take note\u001b[0m\n",
      "Array = [1 2 3]\n",
      "Shape = (3,)\n",
      "Transposed = [1 2 3]\n",
      "Shape of transposed = (3,)\n"
     ]
    }
   ],
   "source": [
    "a = np.array([[1,2,3],[4,5,6]])\n",
    "print (\"Oringinal:\\n\", a)\n",
    "\n",
    "b = a.transpose()\n",
    "print (\"Transposed: \\n\", b)\n",
    "\n",
    "print(\"Transposed:\\n\", a.T)            # Another way to perform transpose\n",
    "\n",
    "print(\"\\n\" + color.RED + \"To take note\" + color.END)\n",
    "\n",
    "c = np.array([1,2,3])                  # Creates a 3, array\n",
    "print (\"Array =\", c)\n",
    "print (\"Shape =\", c.shape)\n",
    "\n",
    "d = c.T                                # Transposing 1D array returns unchanged view of original array\n",
    "print (\"Transposed =\", d)\n",
    "print (\"Shape of transposed =\", d.shape)\n"
   ]
  },
  {
   "cell_type": "markdown",
   "metadata": {},
   "source": [
    "## `flatten()`\n",
    "- Flattens a multi dimensional array into 1D array"
   ]
  },
  {
   "cell_type": "code",
   "execution_count": 25,
   "metadata": {
    "ExecuteTime": {
     "end_time": "2018-06-25T15:09:47.640721Z",
     "start_time": "2018-06-25T15:09:47.629292Z"
    }
   },
   "outputs": [
    {
     "name": "stdout",
     "output_type": "stream",
     "text": [
      "Flattened array = [1 2 3 4 5 6]\n",
      "Shape = (6,)\n"
     ]
    }
   ],
   "source": [
    "a = np.array([[1,2,3],[4,5,6]])\n",
    "b = a.flatten()                    \n",
    "print (\"Flattened array =\", b)\n",
    "\n",
    "print (\"Shape =\", b.shape)"
   ]
  },
  {
   "cell_type": "markdown",
   "metadata": {},
   "source": [
    "## ```concatenate(a,b,..., axis = 0)```\n",
    "- Joins multiple arrays together along existing axis (by default, it concatenates along first dimension => rows)\n",
    "- The input array should be given in a Tuple"
   ]
  },
  {
   "cell_type": "code",
   "execution_count": 43,
   "metadata": {
    "ExecuteTime": {
     "end_time": "2018-06-25T15:17:42.926054Z",
     "start_time": "2018-06-25T15:17:42.900760Z"
    }
   },
   "outputs": [
    {
     "name": "stdout",
     "output_type": "stream",
     "text": [
      "Concatenated array: [1 2 3 4 5 6 7 8 9]\n",
      "\n",
      "--Complex Concatenation--\n",
      "Concatenation along rows\n",
      " [[1 2]\n",
      " [3 4]\n",
      " [5 6]]\n",
      "Concatenation along cols\n",
      " [[1 2 5]\n",
      " [3 4 6]]\n"
     ]
    }
   ],
   "source": [
    "a = np.array([1,2,3])\n",
    "b = np.array([4,5,6])\n",
    "c = np.array([7,8,9])\n",
    "\n",
    "d = np.concatenate((a,b,c))\n",
    "print (\"Concatenated array:\", d)\n",
    "\n",
    "print (\"\\n--Complex Concatenation--\")\n",
    "a = np.array([[1, 2], [3, 4]])\n",
    "b = np.array([[5, 6]])\n",
    "print(\"Concatenation along rows\\n\", np.concatenate((a, b), axis=0))\n",
    "\n",
    "print(\"Concatenation along cols\\n\", np.concatenate((a, b.T), axis=1))"
   ]
  },
  {
   "cell_type": "markdown",
   "metadata": {},
   "source": [
    "## ```newaxis```\n",
    "- Used to increase the dimensionality of an array"
   ]
  },
  {
   "cell_type": "code",
   "execution_count": 44,
   "metadata": {
    "ExecuteTime": {
     "end_time": "2018-06-25T15:18:16.288495Z",
     "start_time": "2018-06-25T15:18:16.269723Z"
    }
   },
   "outputs": [
    {
     "name": "stdout",
     "output_type": "stream",
     "text": [
      "a = [1 2 3]\n",
      "a shape = (3,)\n",
      "\n",
      "New axis as a col\n",
      "b =\n",
      " [[1]\n",
      " [2]\n",
      " [3]]\n",
      "b shape = (3, 1)\n",
      "\n",
      "New axis as a row\n",
      "c = [[1 2 3]]\n",
      "c shape = (1, 3)\n"
     ]
    }
   ],
   "source": [
    "a = np.array([1,2,3])    # This is not the same dimension as the one below\n",
    "#a = np.array([[1,2,3]])\n",
    "print (\"a =\", a)\n",
    "print(\"a shape =\", a.shape)\n",
    "\n",
    "b = a[:,np.newaxis]     # the new array has two dimensions; the one created by newaxis has a length of one\n",
    "print (\"\\nNew axis as a col\")\n",
    "print (\"b =\\n\", b)\n",
    "print (\"b shape =\", b.shape)\n",
    "\n",
    "c = a[np.newaxis,:]     # the new array has two dimensions; the one created by newaxis has a length of one\n",
    "print (\"\\nNew axis as a row\")\n",
    "print (\"c =\", c)\n",
    "print (\"c shape =\", c.shape)"
   ]
  },
  {
   "cell_type": "markdown",
   "metadata": {},
   "source": [
    "## Other ways to create arrays"
   ]
  },
  {
   "cell_type": "markdown",
   "metadata": {},
   "source": [
    "### ```arange```\n",
    "- ```np.arange([start,] stop[, step,], dtype=None)``` \n",
    "    - **Description**: Similar to range fn but returns an array\n",
    "    - ```start``` - number, optional\n",
    "    - ```step``` - number, optional\n",
    "    - ```dtype``` - optional (if not specified, infer data type from other input arguments) "
   ]
  },
  {
   "cell_type": "code",
   "execution_count": 45,
   "metadata": {
    "ExecuteTime": {
     "end_time": "2018-06-25T15:41:30.145261Z",
     "start_time": "2018-06-25T15:41:30.124256Z"
    }
   },
   "outputs": [
    {
     "name": "stdout",
     "output_type": "stream",
     "text": [
      "Integer array:  [0 1 2 3 4]\n",
      "Float array v1: [0. 1. 2. 3. 4.]\n",
      "Float array v2: [0. 1. 2. 3. 4.]\n",
      "Integer array with start, stop and step:\n",
      " [0.   0.01 0.02 0.03 0.04 0.05 0.06 0.07 0.08 0.09 0.1  0.11 0.12 0.13\n",
      " 0.14 0.15 0.16 0.17 0.18 0.19 0.2  0.21 0.22 0.23 0.24 0.25 0.26 0.27\n",
      " 0.28 0.29 0.3  0.31 0.32 0.33 0.34 0.35 0.36 0.37 0.38 0.39 0.4  0.41\n",
      " 0.42 0.43 0.44 0.45 0.46 0.47 0.48 0.49 0.5  0.51 0.52 0.53 0.54 0.55\n",
      " 0.56 0.57 0.58 0.59 0.6  0.61 0.62 0.63 0.64 0.65 0.66 0.67 0.68 0.69\n",
      " 0.7  0.71 0.72 0.73 0.74 0.75 0.76 0.77 0.78 0.79 0.8  0.81 0.82 0.83\n",
      " 0.84 0.85 0.86 0.87 0.88 0.89 0.9  0.91 0.92 0.93 0.94 0.95 0.96 0.97\n",
      " 0.98 0.99 1.  ]\n",
      "Shape of array:  (101,)\n"
     ]
    }
   ],
   "source": [
    "print(\"Integer array: \", np.arange(5))                # Creates an int array from 0 - 5 with step size of 1\n",
    "\n",
    "print(\"Float array v1:\", np.arange(5.0))              # Creates a float array from 0 - 5.0 with step size of 1.0\n",
    "\n",
    "print (\"Float array v2:\",np.arange(5, dtype=float))\n",
    "\n",
    "a = np.arange(0,1.0+.01,.01)\n",
    "print(\"Integer array with start, stop and step:\\n\", a)\n",
    "print (\"Shape of array: \", a.shape)"
   ]
  },
  {
   "cell_type": "markdown",
   "metadata": {},
   "source": [
    "### `ones` & ```zeros``` & `empty`\n",
    "- They create new arrays of specified dimensions filled with these values\n",
    "\n",
    "- ```zeros(shape, dtype=float, order='C')```\n",
    "    - shape - int or sequence of ints in tuple format\n",
    "    - dtype - optional (e.g. `numpy.int8`.  Default is\n",
    "        `numpy.float64`)\n",
    "        \n",
    "        \n",
    "- `empty(shape, dtype=float, order='C')`\n",
    "    - **Description**: \n",
    "        - Return a new array of given shape and type, without initializing entries.\n",
    "        - `empty`, unlike `zeros`, does not set the array values to zero,\n",
    "    and may therefore be marginally faster.  \n",
    "        - On the other hand, it requires\n",
    "    the user to manually set all the values in the array, and should be\n",
    "    used with caution."
   ]
  },
  {
   "cell_type": "code",
   "execution_count": 50,
   "metadata": {
    "ExecuteTime": {
     "end_time": "2018-06-25T15:43:36.271111Z",
     "start_time": "2018-06-25T15:43:36.241013Z"
    }
   },
   "outputs": [
    {
     "name": "stdout",
     "output_type": "stream",
     "text": [
      "Zeros 1D array = [0. 0. 0.]\n",
      "\n",
      "Ones 2D array =\n",
      " [[1. 1. 1.]\n",
      " [1. 1. 1.]]\n",
      "\n",
      "Zeros 2D array =\n",
      " [[0 0]\n",
      " [0 0]\n",
      " [0 0]]\n",
      "\n",
      "Twos 1D array = [2 2 2]\n",
      "Arrays dtype = int8\n",
      "\n",
      "Empty array =\n",
      " [[ 6.94465129e-310  2.24722241e-316  2.91137470e-317  1.97626258e-323]\n",
      " [ 2.44864033e-316  6.94453814e-310  6.94453813e-310 -3.15854048e-242]\n",
      " [ 0.00000000e+000  0.00000000e+000  1.33862002e-201  0.00000000e+000]\n",
      " [ 0.00000000e+000  2.71498118e+022  0.00000000e+000  0.00000000e+000]\n",
      " [ 1.71664060e+185  0.00000000e+000  0.00000000e+000  9.17338682e-251]]\n",
      "\n",
      "Empty array = []\n",
      "Shape of empty array: (0, 4)\n"
     ]
    }
   ],
   "source": [
    "print (\"Zeros 1D array =\", np.zeros(3))    # Sets all the values of array to 0\n",
    "\n",
    "one = np.ones((2,3))                       # Sets all the values of array to 1\n",
    "print (\"\\nOnes 2D array =\\n\", one)\n",
    "\n",
    "zero = np.zeros((3,2), dtype = int)\n",
    "print (\"\\nZeros 2D array =\\n\", zero)\n",
    "\n",
    "two = 2*np.ones(3, dtype = np.int8)\n",
    "print (\"\\nTwos 1D array =\", two)\n",
    "print (\"Arrays dtype =\", two.dtype)\n",
    "\n",
    "emptyArray = np.empty((5,4), float)\n",
    "print (\"\\nEmpty array =\\n\", emptyArray)         # Randomly initializes some values\n",
    "\n",
    "emptyArray = np.empty((0,4), float)\n",
    "print (\"\\nEmpty array =\", emptyArray)\n",
    "print ('Shape of empty array:', emptyArray.shape)       "
   ]
  },
  {
   "cell_type": "markdown",
   "metadata": {},
   "source": [
    "### ```ones_like``` & ```zeros_like```\n",
    "- They create new arrays of zeros/ ones with the same shape and type as a given array\n",
    "- ```zeros_like(a, dtype=None, order='K', subok=True)```\n",
    "    - a - array which have to be mimicked\n",
    "    - dtype - optional (overrides the data type of the results)"
   ]
  },
  {
   "cell_type": "code",
   "execution_count": 53,
   "metadata": {
    "ExecuteTime": {
     "end_time": "2018-06-25T15:45:16.487474Z",
     "start_time": "2018-06-25T15:45:16.464381Z"
    }
   },
   "outputs": [
    {
     "name": "stdout",
     "output_type": "stream",
     "text": [
      "zero like array =\n",
      " [[0 0 0]\n",
      " [0 0 0]]\n",
      "\n",
      "one like array =\n",
      " [[1. 1. 1.]\n",
      " [1. 1. 1.]]\n",
      "\n",
      "100like array =\n",
      " [[100 100 100]\n",
      " [100 100 100]]\n"
     ]
    }
   ],
   "source": [
    "a = np.array([[4,5,6],[1,2,3]])\n",
    "\n",
    "zero_like = np.zeros_like(a)\n",
    "print(\"zero like array =\\n\", zero_like)\n",
    "\n",
    "a = np.array([[4,5,6],[1,2,3]], float)\n",
    "\n",
    "one_like = np.ones_like(a)\n",
    "print(\"\\none like array =\\n\", one_like)\n",
    "\n",
    "hundered_like = np.ones_like(a, dtype=np.int32)*100\n",
    "print(\"\\n100like array =\\n\", hundered_like)"
   ]
  },
  {
   "cell_type": "markdown",
   "metadata": {
    "collapsed": true
   },
   "source": [
    "### ```fill(x)```\n",
    "- Fills an existing array with single value\n",
    "- This modifies the actual array"
   ]
  },
  {
   "cell_type": "code",
   "execution_count": 54,
   "metadata": {
    "ExecuteTime": {
     "end_time": "2018-06-25T15:45:27.427997Z",
     "start_time": "2018-06-25T15:45:27.415548Z"
    }
   },
   "outputs": [
    {
     "name": "stdout",
     "output_type": "stream",
     "text": [
      "Before filling:  [1. 2. 3.]\n",
      "After filling with 0: [0. 0. 0.]\n",
      "After filling with 1: [1. 1. 1.]\n"
     ]
    }
   ],
   "source": [
    "a = np.array([1, 2, 3], float)\n",
    "print (\"Before filling: \", a)\n",
    "a.fill(0)\n",
    "print (\"After filling with 0:\", a)\n",
    "a.fill(1)\n",
    "print (\"After filling with 1:\", a)"
   ]
  },
  {
   "cell_type": "markdown",
   "metadata": {},
   "source": [
    "### `eye` & `identity` matrix\n",
    "- `eye(N, M=None, k=0, dtype=<class 'float'>)`\n",
    "    - Returns a 2D array with ones on the 'k' th diagonal & zeros elsewere\n",
    "     <br><br>\n",
    "- `identity(n, dtype = None)`\n",
    "    - Returns the identity array (Square matrix with ones on main diagonal) "
   ]
  },
  {
   "cell_type": "code",
   "execution_count": 55,
   "metadata": {
    "ExecuteTime": {
     "end_time": "2018-06-25T15:45:41.353011Z",
     "start_time": "2018-06-25T15:45:41.344542Z"
    }
   },
   "outputs": [
    {
     "name": "stdout",
     "output_type": "stream",
     "text": [
      "3x3 matrix:\n",
      " [[1. 0. 0.]\n",
      " [0. 1. 0.]\n",
      " [0. 0. 1.]]\n",
      "\n",
      "5x5 matrix with ones shifted to k-th diagonal\n",
      " [[0. 0. 1. 0. 0.]\n",
      " [0. 0. 0. 1. 0.]\n",
      " [0. 0. 0. 0. 1.]\n",
      " [0. 0. 0. 0. 0.]\n",
      " [0. 0. 0. 0. 0.]]\n"
     ]
    }
   ],
   "source": [
    "print (\"3x3 matrix:\\n\", np.eye(3))\n",
    "\n",
    "print (\"\\n5x5 matrix with ones shifted to k-th diagonal\\n\",np.eye(5,k=2))"
   ]
  },
  {
   "cell_type": "markdown",
   "metadata": {},
   "source": [
    "## Array Math"
   ]
  },
  {
   "cell_type": "code",
   "execution_count": 58,
   "metadata": {
    "ExecuteTime": {
     "end_time": "2018-06-25T15:46:34.187314Z",
     "start_time": "2018-06-25T15:46:34.162656Z"
    }
   },
   "outputs": [
    {
     "name": "stdout",
     "output_type": "stream",
     "text": [
      "Sum = [5 7 9]\n",
      "Dif = [-3 -3 -3]\n",
      "Mul = [ 4 10 18]\n",
      "Div =  [0.25 0.4  0.5 ]\n",
      "Power =  [  1  32 729]\n",
      "Mul =\n",
      " [[ 2  0]\n",
      " [ 3 12]]\n"
     ]
    }
   ],
   "source": [
    "a = np.array([1,2,3])\n",
    "b = np.array([4,5,6])\n",
    "print (\"Sum =\", a + b)\n",
    "print (\"Dif =\", a - b)\n",
    "print (\"Mul =\", a * b)        # Element wise multuplication (1D array)\n",
    "print (\"Div = \", a /b)\n",
    "print (\"Power = \", a ** b)\n",
    "\n",
    "a = np.array([[1,2],\n",
    "              [3,4]])\n",
    "b = np.array([[2,0],\n",
    "              [1,3]])\n",
    "print (\"Mul =\\n\", a * b)       # Element wise multiplication (2D array)"
   ]
  },
  {
   "cell_type": "code",
   "execution_count": 59,
   "metadata": {
    "ExecuteTime": {
     "end_time": "2018-06-25T15:48:40.609957Z",
     "start_time": "2018-06-25T15:48:40.594850Z"
    }
   },
   "outputs": [
    {
     "ename": "ValueError",
     "evalue": "operands could not be broadcast together with shapes (3,) (2,) ",
     "output_type": "error",
     "traceback": [
      "\u001b[0;31m---------------------------------------------------------------------------\u001b[0m",
      "\u001b[0;31mValueError\u001b[0m                                Traceback (most recent call last)",
      "\u001b[0;32m<ipython-input-59-be350e4efca7>\u001b[0m in \u001b[0;36m<module>\u001b[0;34m()\u001b[0m\n\u001b[1;32m      3\u001b[0m \u001b[0mb\u001b[0m \u001b[0;34m=\u001b[0m \u001b[0mnp\u001b[0m\u001b[0;34m.\u001b[0m\u001b[0marray\u001b[0m\u001b[0;34m(\u001b[0m\u001b[0;34m[\u001b[0m\u001b[0;36m3\u001b[0m\u001b[0;34m,\u001b[0m\u001b[0;36m4\u001b[0m\u001b[0;34m]\u001b[0m\u001b[0;34m)\u001b[0m\u001b[0;34m\u001b[0m\u001b[0m\n\u001b[1;32m      4\u001b[0m \u001b[0;34m\u001b[0m\u001b[0m\n\u001b[0;32m----> 5\u001b[0;31m \u001b[0ma\u001b[0m \u001b[0;34m+\u001b[0m \u001b[0mb\u001b[0m\u001b[0;34m\u001b[0m\u001b[0m\n\u001b[0m",
      "\u001b[0;31mValueError\u001b[0m: operands could not be broadcast together with shapes (3,) (2,) "
     ]
    }
   ],
   "source": [
    "# Error thrown if the dimensions doesn't match\n",
    "a = np.array([1,2,3])\n",
    "b = np.array([3,4])\n",
    "\n",
    "a + b"
   ]
  },
  {
   "cell_type": "markdown",
   "metadata": {},
   "source": [
    "### broadcast\n",
    "- Arrays that do not match the no of dimensions will be **broadcasted** by Python to perform mathematical operations"
   ]
  },
  {
   "cell_type": "code",
   "execution_count": 60,
   "metadata": {
    "ExecuteTime": {
     "end_time": "2018-06-25T15:48:51.738123Z",
     "start_time": "2018-06-25T15:48:51.725802Z"
    }
   },
   "outputs": [
    {
     "name": "stdout",
     "output_type": "stream",
     "text": [
      "Array after broadcast: \n",
      " [[0 1]\n",
      " [2 3]\n",
      " [4 5]]\n"
     ]
    }
   ],
   "source": [
    "a = np.array([[1,2],[3,4],[5,6]])\n",
    "b = np.array([-1,-1])\n",
    "\n",
    "c = a + b                                      # Here, 1D array 'b' was broadcasted to 2D array 'a'\n",
    "                                               # => 'b' was repeated for each item in 'a'\n",
    "print (\"Array after broadcast: \\n\", c)"
   ]
  },
  {
   "cell_type": "markdown",
   "metadata": {},
   "source": [
    "- To overcome ambiguity in array broadcasting, we can use **`newaxis`**"
   ]
  },
  {
   "cell_type": "code",
   "execution_count": 61,
   "metadata": {
    "ExecuteTime": {
     "end_time": "2018-06-25T15:49:52.395693Z",
     "start_time": "2018-06-25T15:49:52.376022Z"
    }
   },
   "outputs": [
    {
     "name": "stdout",
     "output_type": "stream",
     "text": [
      "[[0. 0.]\n",
      " [0. 0.]]\n",
      "\n",
      "array b is converted from 2, to 1x2\n",
      "[[ 1. -3.]\n",
      " [ 1. -3.]]\n",
      "\n",
      "array b is converted from 2, to 2x1\n",
      "[[ 1.  1.]\n",
      " [-3. -3.]]\n"
     ]
    }
   ],
   "source": [
    "a = np.zeros((2,2))           # 2x2 array\n",
    "b = np.array([1,-3])          # 2, array\n",
    "print (a)\n",
    "\n",
    "print (\"\\narray b is converted from 2, to 1x2\")\n",
    "c = b[np.newaxis,:]           # 1x2 array (modified using newaxis fn)     \n",
    "print (a+b)\n",
    "\n",
    "print (\"\\narray b is converted from 2, to 2x1\")\n",
    "d = b[:,np.newaxis]\n",
    "print (a+d)"
   ]
  },
  {
   "cell_type": "markdown",
   "metadata": {},
   "source": [
    "## Common Math functions \n",
    "- sin\n",
    "- cos\n",
    "- tan\n",
    "- arcsin\n",
    "- arccos\n",
    "- arctan\n",
    "- log\n",
    "- exp\n",
    "- sqrt\n",
    "- abs\n",
    "\n",
    "Reference [1]: https://matplotlib.org/examples/pylab_examples/subplots_demo.html"
   ]
  },
  {
   "cell_type": "code",
   "execution_count": 16,
   "metadata": {
    "ExecuteTime": {
     "end_time": "2018-06-25T15:56:32.162321Z",
     "start_time": "2018-06-25T15:56:31.532681Z"
    }
   },
   "outputs": [
    {
     "data": {
      "image/png": "[encoded data removed]",
      "text/plain": [
       "<matplotlib.figure.Figure at 0x7f0c10ce3b38>"
      ]
     },
     "metadata": {},
     "output_type": "display_data"
    }
   ],
   "source": [
    "import matplotlib.pyplot as plt \n",
    "\n",
    "f, axarr = plt.subplots(3,2)\n",
    "\n",
    "a = np.arange(0,2*np.pi,.01)                   # 0 to 2*pi (3.14) with step size of 0.01\n",
    "\n",
    "sine = np.sin(a)\n",
    "axarr[0,0].plot(a*180/np.pi, sine, 'b')        # Convert the values from rad to deg before plot\n",
    "axarr[0,0].set_title(\"Sine plot\")\n",
    "\n",
    "cosine = np.cos(a)\n",
    "tangent = np.tan(a)\n",
    "\n",
    "a = np.arange(-1,1,.01)                        # -1 to 1 with step size of 0.01\n",
    "arcsine = np.arcsin(a)\n",
    "axarr[0,1].plot(a, arcsine*180/np.pi, 'r')     # Convert the values from rad to deg before plot\n",
    "axarr[0,1].set_title(\"Sine inverse plot\")\n",
    "\n",
    "exponent = np.exp(a)\n",
    "axarr[1,0].plot(a, exponent)\n",
    "axarr[1,0].set_title(\"Exponent plot\")\n",
    "\n",
    "a = np.arange(.01,1,.01) \n",
    "logarithm = np.log10(a)\n",
    "axarr[1,1].plot(a, logarithm)\n",
    "axarr[1,1].set_title(\"Log base10 plot\")\n",
    "\n",
    "\n",
    "squareroot = np.sqrt(a)\n",
    "axarr[2,1].plot(a, squareroot)\n",
    "axarr[2,1].set_title(\"Square root plot\")\n",
    "\n",
    "f.subplots_adjust(hspace=.7)\n",
    "plt.show()"
   ]
  },
  {
   "cell_type": "markdown",
   "metadata": {},
   "source": [
    "## `floor`, `ceil` & `rint`\n",
    "- `floor` - give lower integer\n",
    "- `ceil` - give upper integer\n",
    "- `rint` - give nearest rounder integer"
   ]
  },
  {
   "cell_type": "code",
   "execution_count": 17,
   "metadata": {
    "ExecuteTime": {
     "end_time": "2018-06-25T15:58:30.456219Z",
     "start_time": "2018-06-25T15:58:30.441027Z"
    }
   },
   "outputs": [
    {
     "name": "stdout",
     "output_type": "stream",
     "text": [
      "floor = [1. 1. 1.]\n",
      "ceil = [2. 2. 2.]\n",
      "rint = [1. 2. 2.]\n"
     ]
    }
   ],
   "source": [
    "a = np.array([1.1, 1.5, 1.9])\n",
    "print (\"floor =\", np.floor(a))\n",
    "print (\"ceil =\", np.ceil(a))\n",
    "print (\"rint =\", np.rint(a))         # .5 and above will be rounded up"
   ]
  },
  {
   "cell_type": "markdown",
   "metadata": {},
   "source": [
    "## Array iteration\n",
    "- Similar to list iteration\n",
    "- For multidimensional array, iteration proceeds over the first axis (row) & each loop returns one row of elements \n",
    "- **Multiple Assigment** can also be used with array iteration"
   ]
  },
  {
   "cell_type": "code",
   "execution_count": 18,
   "metadata": {
    "ExecuteTime": {
     "end_time": "2018-06-25T16:06:12.003848Z",
     "start_time": "2018-06-25T16:06:11.991581Z"
    }
   },
   "outputs": [
    {
     "name": "stdout",
     "output_type": "stream",
     "text": [
      "Iterating over a list:\n",
      "1\n",
      "4\n",
      "5\n",
      "10\n",
      "Data type of an element : <class 'int'>\n"
     ]
    }
   ],
   "source": [
    "print (\"Iterating over a list:\")\n",
    "l = [1,4,5,10]\n",
    "                                                  # 1D array * list\n",
    "for i in l:\n",
    "    print (i)\n",
    "print (\"Data type of an element :\", type(i))"
   ]
  },
  {
   "cell_type": "code",
   "execution_count": 27,
   "metadata": {
    "ExecuteTime": {
     "end_time": "2018-06-25T16:09:18.535464Z",
     "start_time": "2018-06-25T16:09:18.525175Z"
    }
   },
   "outputs": [
    {
     "name": "stdout",
     "output_type": "stream",
     "text": [
      "Iterating over an array:\n",
      "1\n",
      "4\n",
      "5\n",
      "10\n",
      "Data type of an element : <class 'numpy.int64'>\n"
     ]
    }
   ],
   "source": [
    "l = [1,4,5,10]\n",
    "print (\"Iterating over an array:\")\n",
    "a = np.array(l)\n",
    "for i in a:\n",
    "    print (i)\n",
    "print (\"Data type of an element :\", type(i))"
   ]
  },
  {
   "cell_type": "code",
   "execution_count": 22,
   "metadata": {
    "ExecuteTime": {
     "end_time": "2018-06-25T16:06:47.892935Z",
     "start_time": "2018-06-25T16:06:47.879641Z"
    }
   },
   "outputs": [
    {
     "name": "stdout",
     "output_type": "stream",
     "text": [
      "Iterating over a 2D array:\n",
      "[0 1]\n",
      "[2 3]\n",
      "[4 5]\n",
      "Data type of an element : <class 'numpy.ndarray'>\n"
     ]
    }
   ],
   "source": [
    "print (\"Iterating over a 2D array:\")    \n",
    "a = np.arange(6)\n",
    "a = a.reshape(3,2)\n",
    "for i in a:\n",
    "    print (i)\n",
    "print (\"Data type of an element :\", type(i))"
   ]
  },
  {
   "cell_type": "code",
   "execution_count": 28,
   "metadata": {
    "ExecuteTime": {
     "end_time": "2018-06-25T16:09:37.940142Z",
     "start_time": "2018-06-25T16:09:37.929723Z"
    }
   },
   "outputs": [
    {
     "name": "stdout",
     "output_type": "stream",
     "text": [
      "Iterating over a list of lists:\n",
      "[0, 1]\n",
      "[2, 3]\n",
      "[4, 5]\n",
      "Data type of an element : <class 'list'>\n"
     ]
    }
   ],
   "source": [
    "a = np.arange(6).reshape(3,2)\n",
    "print (\"Iterating over a list of lists:\")    \n",
    "l = a.tolist()\n",
    "for i in l:\n",
    "    print (i)\n",
    "print (\"Data type of an element :\", type(i))"
   ]
  },
  {
   "cell_type": "code",
   "execution_count": 29,
   "metadata": {
    "ExecuteTime": {
     "end_time": "2018-06-25T16:09:47.377202Z",
     "start_time": "2018-06-25T16:09:47.362981Z"
    }
   },
   "outputs": [
    {
     "name": "stdout",
     "output_type": "stream",
     "text": [
      "Multiple assigment using tuples:\n",
      "0\n",
      "6\n",
      "20\n",
      "\n",
      "Multiple assigment using lists:\n",
      "0\n",
      "6\n",
      "20\n"
     ]
    }
   ],
   "source": [
    "a = np.arange(6).reshape(3,2)\n",
    "print (\"Multiple assigment using tuples:\")    \n",
    "for (x,y) in a:                              # Assigned two variables in each iteration\n",
    "    print (x*y)\n",
    "    \n",
    "print (\"\\nMultiple assigment using lists:\")    \n",
    "for (x,y) in l:\n",
    "    print (x*y)"
   ]
  },
  {
   "cell_type": "markdown",
   "metadata": {},
   "source": [
    "## Basic Array operations"
   ]
  },
  {
   "cell_type": "markdown",
   "metadata": {},
   "source": [
    "### `sum` & `prod`"
   ]
  },
  {
   "cell_type": "code",
   "execution_count": 30,
   "metadata": {
    "ExecuteTime": {
     "end_time": "2018-06-25T16:10:04.571832Z",
     "start_time": "2018-06-25T16:10:04.559259Z"
    }
   },
   "outputs": [
    {
     "name": "stdout",
     "output_type": "stream",
     "text": [
      "Array =  [2 4 3]\n",
      "Using member fn, Sum = 9\n",
      "Using standalone fn, Sum = 9\n",
      "Prod = 24\n"
     ]
    }
   ],
   "source": [
    "a = np.array([2,4,3])\n",
    "print (\"Array = \", a)\n",
    "\n",
    "print (\"Using member fn, Sum =\", a.sum())               # Here, object 'a' member function is used to compute the sum\n",
    "print (\"Using standalone fn, Sum =\", np.sum(a))         # Here, numpy's standalone function is used\n",
    "\n",
    "print (\"Prod =\", a.prod())"
   ]
  },
  {
   "cell_type": "markdown",
   "metadata": {},
   "source": [
    "### `mean`, `var` & `std`\n",
    "- By defaut, these functions flattens the array and computes the result\n",
    "\n",
    " <img src=\"images/samplevarstd.gif\" width=\"400\" height=\"150\">"
   ]
  },
  {
   "cell_type": "code",
   "execution_count": 33,
   "metadata": {
    "ExecuteTime": {
     "end_time": "2018-06-25T16:47:41.226154Z",
     "start_time": "2018-06-25T16:47:41.201473Z"
    }
   },
   "outputs": [
    {
     "name": "stdout",
     "output_type": "stream",
     "text": [
      "1D Array =  [2 4 3]\n",
      "Mean = 3.0\n",
      "Var = 0.6666666666666666\n",
      "Standard Deviation = 0.816496580927726\n",
      "\n",
      "2D Array = \n",
      " [[2 4 3]\n",
      " [5 6 7]]\n",
      "Mean = 4.5\n",
      "Var = 2.9166666666666665\n",
      "Standard Deviation = 1.707825127659933\n"
     ]
    }
   ],
   "source": [
    "a = np.array([2,4,3])\n",
    "print (\"1D Array = \", a)\n",
    "\n",
    "print(\"Mean =\", a.mean())\n",
    "print(\"Var =\", a.var())\n",
    "print(\"Standard Deviation =\", a.std())\n",
    "\n",
    "a = np.array([[2,4,3],[5,6,7]])\n",
    "print (\"\\n2D Array = \\n\", a)\n",
    "\n",
    "print(\"Mean =\", a.mean())\n",
    "print(\"Var =\", a.var())\n",
    "print(\"Standard Deviation =\", a.std())"
   ]
  },
  {
   "cell_type": "code",
   "execution_count": 34,
   "metadata": {
    "ExecuteTime": {
     "end_time": "2018-06-25T16:47:45.341264Z",
     "start_time": "2018-06-25T16:47:45.313759Z"
    }
   },
   "outputs": [
    {
     "name": "stdout",
     "output_type": "stream",
     "text": [
      "\n",
      "\u001b[95m\u001b[1mUsing axis parameter\u001b[0m\n",
      "\n",
      "Performing operations only on axis 0 => along row elements\n",
      "Mean = [3.5 5.  5. ]\n",
      "Var = [2.25 1.   4.  ]\n",
      "Standard Deviation = [1.5 1.  2. ]\n",
      "\n",
      "Performing operations only on axis1 => along col elements\n",
      "Mean = [3. 6.]\n",
      "Var = [0.66666667 0.66666667]\n",
      "Standard Deviation = [0.81649658 0.81649658]\n"
     ]
    }
   ],
   "source": [
    "a = np.array([[2,4,3],[5,6,7]])\n",
    "print (\"\\n\" + color.PURPLE + color.BOLD +\"Using axis parameter\" + color.END)\n",
    "print (\"\\nPerforming operations only on axis 0 => along row elements\")\n",
    "print(\"Mean =\", a.mean(axis = 0))\n",
    "print(\"Var =\", a.var(axis = 0))\n",
    "print(\"Standard Deviation =\", a.std(axis = 0))\n",
    "\n",
    "print (\"\\nPerforming operations only on axis1 => along col elements\")\n",
    "print(\"Mean =\", a.mean(axis = 1))\n",
    "print(\"Var =\", a.var(axis = 1))\n",
    "print(\"Standard Deviation =\", a.std(axis = 1))"
   ]
  },
  {
   "cell_type": "markdown",
   "metadata": {},
   "source": [
    "### `min, max, argmin, argmax`\n",
    "By defaut, these functions flattens the array and computes the result\n",
    "- `argmin` & `argmax` - returns the index of min & max number in array (**only the first occurrence**)"
   ]
  },
  {
   "cell_type": "code",
   "execution_count": 389,
   "metadata": {},
   "outputs": [
    {
     "name": "stdout",
     "output_type": "stream",
     "text": [
      "2D Array = \n",
      " [[1 2 3]\n",
      " [4 5 6]]\n",
      "min = 1\n",
      "max = 6\n",
      "index of min = 0\n",
      "index of max = 5\n",
      "\n",
      "\u001b[95mUsing axis parameter\u001b[0m\n",
      "min along axis 0 = [1 2 3]\n",
      "min along axis 1 = [1 4]\n",
      "index of min along axis 0 = [0 0 0]\n",
      "index of min along axis 1 = [0 0]\n"
     ]
    }
   ],
   "source": [
    "a = np.array([[1,2,3],[4,5,6]])\n",
    "print (\"2D Array = \\n\", a)\n",
    "\n",
    "print (\"min =\", a.min())\n",
    "print (\"max =\", a.max())\n",
    "\n",
    "print (\"index of min =\", a.argmin())\n",
    "print (\"index of max =\", a.argmax())\n",
    "\n",
    "print (\"\\n\" + color.PURPLE + \"Using axis parameter\" + color.END)\n",
    "print (\"min along axis 0 =\", a.min(axis = 0))\n",
    "print (\"min along axis 1 =\", a.min(axis = 1))\n",
    "\n",
    "print (\"index of min along axis 0 =\", a.argmin(axis = 0))\n",
    "print (\"index of min along axis 1 =\", a.argmin(axis = 1))"
   ]
  },
  {
   "cell_type": "markdown",
   "metadata": {},
   "source": [
    "### `sort`\n",
    " - **Modifies the original function**\n",
    " - `sort(a, axis = -1, kind = 'quicksort')`. \n",
    " \n",
    "     - `axis` : int or None, optional. Axis along which to sort. If None, the array is flattened before\n",
    "          sorting. The default is -1, which sorts along the last axis.\n",
    "     - `kind` : {'quicksort', 'mergesort', 'heapsort'}, optional\n",
    "          Sorting algorithm. Default is 'quicksort'."
   ]
  },
  {
   "cell_type": "code",
   "execution_count": 50,
   "metadata": {
    "ExecuteTime": {
     "end_time": "2018-06-25T16:54:50.537848Z",
     "start_time": "2018-06-25T16:54:50.497215Z"
    }
   },
   "outputs": [
    {
     "name": "stdout",
     "output_type": "stream",
     "text": [
      "\u001b[95m1D Array\u001b[0m\n",
      "Before sorting =  [10  9  8  7  6  5  4  3  2  1]\n",
      "After sorting = [ 1  2  3  4  5  6  7  8  9 10]\n",
      "After sorting in reverse= [10  9  8  7  6  5  4  3  2  1]\n",
      "\n",
      "\u001b[95m2D Array\u001b[0m\n",
      "Before sorting = \n",
      " [[10  9]\n",
      " [ 8  7]\n",
      " [ 6  5]\n",
      " [ 4  3]\n",
      " [ 2  1]]\n",
      "After sorting along axis 1= \n",
      " [[ 9 10]\n",
      " [ 7  8]\n",
      " [ 5  6]\n",
      " [ 3  4]\n",
      " [ 1  2]]\n",
      "After sorting along axis 0= \n",
      " [[ 2  1]\n",
      " [ 4  3]\n",
      " [ 6  5]\n",
      " [ 8  7]\n",
      " [10  9]]\n"
     ]
    }
   ],
   "source": [
    "print (color.PURPLE + \"1D Array\" + color.END)\n",
    "\n",
    "a = np.arange(10,0,-1)\n",
    "print (\"Before sorting = \", a)\n",
    "a.sort()\n",
    "print (\"After sorting =\", a)\n",
    "a = a[::-1]\n",
    "print (\"After sorting in reverse=\", a)\n",
    "\n",
    "print (\"\\n\" + color.PURPLE + \"2D Array\" + color.END)\n",
    "b = np.arange(10,0,-1)\n",
    "b = b.reshape(5,2)\n",
    "print (\"Before sorting = \\n\",b)\n",
    "\n",
    "c = np.copy(b)                                         # Make an array copy of given object\n",
    "c.sort()                                               # by default, sorts along the last axis\n",
    "print (\"After sorting along axis 1= \\n\", c)\n",
    "\n",
    "c = b.copy()\n",
    "c.sort(axis=0)\n",
    "print (\"After sorting along axis 0= \\n\", c)            # axis = 0, sorts along axis 0"
   ]
  },
  {
   "cell_type": "markdown",
   "metadata": {},
   "source": [
    "### sorted\n",
    "- **Doesn't modify the original function & doesn't work for 2D array though it works for 2D lists**\n",
    "- `sorted(iterable, reverse=False)`\n",
    "    - Return a new list containing all items from the iterable in ascending order.\n",
    "    \n",
    "    - `reverse flag` can be set to request the result in descending order"
   ]
  },
  {
   "cell_type": "code",
   "execution_count": 36,
   "metadata": {
    "ExecuteTime": {
     "end_time": "2018-06-25T16:49:37.074932Z",
     "start_time": "2018-06-25T16:49:37.029759Z"
    }
   },
   "outputs": [
    {
     "name": "stdout",
     "output_type": "stream",
     "text": [
      "\u001b[95m1D Array\u001b[0m\n",
      "Before sorting =  [10  9  8  7  6  5  4  3  2  1]\n",
      "After sorting = [1, 2, 3, 4, 5, 6, 7, 8, 9, 10]\n",
      "After sorting in reverse = [10, 9, 8, 7, 6, 5, 4, 3, 2, 1]\n",
      "\n",
      "\u001b[95m2D Array\u001b[0m\n",
      "Before sorting = \n",
      " [[10  9]\n",
      " [ 8  7]\n",
      " [ 6  5]\n",
      " [ 4  3]\n",
      " [ 2  1]]\n"
     ]
    },
    {
     "ename": "ValueError",
     "evalue": "The truth value of an array with more than one element is ambiguous. Use a.any() or a.all()",
     "output_type": "error",
     "traceback": [
      "\u001b[0;31m---------------------------------------------------------------------------\u001b[0m",
      "\u001b[0;31mValueError\u001b[0m                                Traceback (most recent call last)",
      "\u001b[0;32m<ipython-input-36-58e826dae559>\u001b[0m in \u001b[0;36m<module>\u001b[0;34m()\u001b[0m\n\u001b[1;32m     13\u001b[0m \u001b[0mprint\u001b[0m \u001b[0;34m(\u001b[0m\u001b[0;34m\"Before sorting = \\n\"\u001b[0m\u001b[0;34m,\u001b[0m\u001b[0ma\u001b[0m\u001b[0;34m)\u001b[0m\u001b[0;34m\u001b[0m\u001b[0m\n\u001b[1;32m     14\u001b[0m \u001b[0;34m\u001b[0m\u001b[0m\n\u001b[0;32m---> 15\u001b[0;31m \u001b[0msorted\u001b[0m\u001b[0;34m(\u001b[0m\u001b[0ma\u001b[0m\u001b[0;34m)\u001b[0m                                \u001b[0;31m# Throws a ValueError\u001b[0m\u001b[0;34m\u001b[0m\u001b[0m\n\u001b[0m",
      "\u001b[0;31mValueError\u001b[0m: The truth value of an array with more than one element is ambiguous. Use a.any() or a.all()"
     ]
    }
   ],
   "source": [
    "print (color.PURPLE + \"1D Array\" + color.END)\n",
    "\n",
    "a = np.arange(10,0,-1)\n",
    "print (\"Before sorting = \", a)\n",
    "b = sorted(a)                             # This fun doesn't modify the original array\n",
    "print (\"After sorting =\", b)\n",
    "c = sorted(a, reverse = True)\n",
    "print (\"After sorting in reverse =\", c)\n",
    "\n",
    "print (\"\\n\" + color.PURPLE + \"2D Array\" + color.END)\n",
    "a = np.arange(10,0,-1)\n",
    "a = a.reshape(5,2)\n",
    "print (\"Before sorting = \\n\",a)\n",
    "\n",
    "sorted(a)                                # Throws a ValueError"
   ]
  },
  {
   "cell_type": "code",
   "execution_count": 51,
   "metadata": {
    "ExecuteTime": {
     "end_time": "2018-06-25T16:55:19.133621Z",
     "start_time": "2018-06-25T16:55:19.122876Z"
    }
   },
   "outputs": [
    {
     "data": {
      "text/plain": [
       "[[4, 5, 6], [1, 2, 3]]"
      ]
     },
     "execution_count": 51,
     "metadata": {},
     "output_type": "execute_result"
    }
   ],
   "source": [
    "a = [[1,2,3],[4,5,6]]\n",
    "\n",
    "sorted(a, reverse = True)"
   ]
  },
  {
   "cell_type": "markdown",
   "metadata": {},
   "source": [
    "### clip\n",
    "\n",
    "- `clip(a, a_min, a_max, out=None)`\n",
    "    - `Clip (limit)` the values in an array\n",
    "        - `a` - array to be clipped\n",
    "        - `a_min` - Min value. scalar or array like or None\n",
    "        - `a_max` - Max value. scalar or array like or None\n",
    "        - `out` - Output of the clipped array [Optional]\n",
    "    <br><br>\n",
    "    - Given an interval, values outside the interval are clipped (forced) to\n",
    "    the interval edges.  \n",
    "    - For example, if an interval of ``[0, 1]``\n",
    "    is specified, values smaller than 0 become 0, and values larger\n",
    "    than 1 become 1."
   ]
  },
  {
   "cell_type": "code",
   "execution_count": 37,
   "metadata": {
    "ExecuteTime": {
     "end_time": "2018-06-25T16:50:58.559335Z",
     "start_time": "2018-06-25T16:50:58.532214Z"
    }
   },
   "outputs": [
    {
     "name": "stdout",
     "output_type": "stream",
     "text": [
      "Before clipping =\n",
      " [0 1 2 3 4 5 6 7 8 9]\n",
      "After clipping =\n",
      " [4 4 4 4 4 5 6 7 8 8]\n",
      "After clipping in different way =\n",
      " [3 3 3 3 4 5 6 7 7 7]\n",
      "After clipping in different way =\n",
      " [3 4 2 3 4 5 6 7 8 8]\n"
     ]
    }
   ],
   "source": [
    "a = np.arange(0,10)\n",
    "print (\"Before clipping =\\n\",a)\n",
    "\n",
    "b = a.clip(4,8)                        # element < 4 will be clipped to 4\n",
    "                                       # element > 8 will be clipped to 8\n",
    "print (\"After clipping =\\n\", b)\n",
    "\n",
    "c = np.empty(a.shape, int)\n",
    "print (\"After clipping in different way =\\n\",np.clip(a, 3,7, out = c))\n",
    "\n",
    "\n",
    "d = np.clip(a, [3, 4, 1, 1, 1, 4, 4, 4, 4, 4], 8) # min value for each array element is specified seperately\n",
    "print (\"After clipping in different way =\\n\", d)"
   ]
  },
  {
   "cell_type": "markdown",
   "metadata": {},
   "source": [
    "## where"
   ]
  },
  {
   "cell_type": "code",
   "execution_count": 48,
   "metadata": {
    "ExecuteTime": {
     "end_time": "2018-06-25T16:53:50.187925Z",
     "start_time": "2018-06-25T16:53:50.173193Z"
    }
   },
   "outputs": [
    {
     "name": "stdout",
     "output_type": "stream",
     "text": [
      "(array([0, 1, 1]), array([0, 0, 2])) <class 'tuple'>\n",
      "\n",
      "No of items that match our search criteria: 3\n",
      "\n",
      "Index Locataions of the matched item:\n",
      " [[0 0]\n",
      " [1 0]\n",
      " [1 2]]\n"
     ]
    }
   ],
   "source": [
    "a = np.array([[1,2,3],[1,5,1]])\n",
    "\n",
    "index = (np.where(a == a.min()))                      # np.where() returns a tuple\n",
    "print (index, type(index))\n",
    "print ('\\nNo of items that match our search criteria:', len(index[0]))\n",
    "\n",
    "index_array = np.array(index).T\n",
    "print ('\\nIndex Locataions of the matched item:\\n', index_array)"
   ]
  },
  {
   "cell_type": "markdown",
   "metadata": {
    "ExecuteTime": {
     "end_time": "2018-06-25T16:55:41.245477Z",
     "start_time": "2018-06-25T16:55:41.241911Z"
    }
   },
   "source": [
    "# `help()`"
   ]
  },
  {
   "cell_type": "code",
   "execution_count": 33,
   "metadata": {},
   "outputs": [
    {
     "name": "stdout",
     "output_type": "stream",
     "text": [
      "Help on function clip in module numpy.core.fromnumeric:\n",
      "\n",
      "clip(a, a_min, a_max, out=None)\n",
      "    Clip (limit) the values in an array.\n",
      "    \n",
      "    Given an interval, values outside the interval are clipped to\n",
      "    the interval edges.  For example, if an interval of ``[0, 1]``\n",
      "    is specified, values smaller than 0 become 0, and values larger\n",
      "    than 1 become 1.\n",
      "    \n",
      "    Parameters\n",
      "    ----------\n",
      "    a : array_like\n",
      "        Array containing elements to clip.\n",
      "    a_min : scalar or array_like or `None`\n",
      "        Minimum value. If `None`, clipping is not performed on lower\n",
      "        interval edge. Not more than one of `a_min` and `a_max` may be\n",
      "        `None`.\n",
      "    a_max : scalar or array_like or `None`\n",
      "        Maximum value. If `None`, clipping is not performed on upper\n",
      "        interval edge. Not more than one of `a_min` and `a_max` may be\n",
      "        `None`. If `a_min` or `a_max` are array_like, then the three\n",
      "        arrays will be broadcasted to match their shapes.\n",
      "    out : ndarray, optional\n",
      "        The results will be placed in this array. It may be the input\n",
      "        array for in-place clipping.  `out` must be of the right shape\n",
      "        to hold the output.  Its type is preserved.\n",
      "    \n",
      "    Returns\n",
      "    -------\n",
      "    clipped_array : ndarray\n",
      "        An array with the elements of `a`, but where values\n",
      "        < `a_min` are replaced with `a_min`, and those > `a_max`\n",
      "        with `a_max`.\n",
      "    \n",
      "    See Also\n",
      "    --------\n",
      "    numpy.doc.ufuncs : Section \"Output arguments\"\n",
      "    \n",
      "    Examples\n",
      "    --------\n",
      "    >>> a = np.arange(10)\n",
      "    >>> np.clip(a, 1, 8)\n",
      "    array([1, 1, 2, 3, 4, 5, 6, 7, 8, 8])\n",
      "    >>> a\n",
      "    array([0, 1, 2, 3, 4, 5, 6, 7, 8, 9])\n",
      "    >>> np.clip(a, 3, 6, out=a)\n",
      "    array([3, 3, 3, 3, 4, 5, 6, 6, 6, 6])\n",
      "    >>> a = np.arange(10)\n",
      "    >>> a\n",
      "    array([0, 1, 2, 3, 4, 5, 6, 7, 8, 9])\n",
      "    >>> np.clip(a, [3, 4, 1, 1, 1, 4, 4, 4, 4, 4], 8)\n",
      "    array([3, 4, 2, 3, 4, 5, 6, 7, 8, 8])\n",
      "\n"
     ]
    }
   ],
   "source": [
    "help (np.clip)"
   ]
  },
  {
   "cell_type": "code",
   "execution_count": null,
   "metadata": {
    "collapsed": true
   },
   "outputs": [],
   "source": []
  }
 ],
 "metadata": {
  "kernelspec": {
   "display_name": "Python 3",
   "language": "python",
   "name": "python3"
  },
  "language_info": {
   "codemirror_mode": {
    "name": "ipython",
    "version": 3
   },
   "file_extension": ".py",
   "mimetype": "text/x-python",
   "name": "python",
   "nbconvert_exporter": "python",
   "pygments_lexer": "ipython3",
   "version": "3.5.2"
  },
  "toc": {
   "nav_menu": {
    "height": "369px",
    "width": "364px"
   },
   "number_sections": true,
   "sideBar": true,
   "skip_h1_title": false,
   "title_cell": "Table of Contents",
   "title_sidebar": "Contents",
   "toc_cell": false,
   "toc_position": {
    "height": "761px",
    "left": "1576px",
    "right": "20px",
    "top": "114px",
    "width": "319px"
   },
   "toc_section_display": true,
   "toc_window_display": true
  },
  "varInspector": {
   "cols": {
    "lenName": 16,
    "lenType": 16,
    "lenVar": 40
   },
   "kernels_config": {
    "python": {
     "delete_cmd_postfix": "",
     "delete_cmd_prefix": "del ",
     "library": "var_list.py",
     "varRefreshCmd": "print(var_dic_list())"
    },
    "r": {
     "delete_cmd_postfix": ") ",
     "delete_cmd_prefix": "rm(",
     "library": "var_list.r",
     "varRefreshCmd": "cat(var_dic_list()) "
    }
   },
   "position": {
    "height": "196px",
    "left": "1525px",
    "right": "20px",
    "top": "119px",
    "width": "366px"
   },
   "types_to_exclude": [
    "module",
    "function",
    "builtin_function_or_method",
    "instance",
    "_Feature"
   ],
   "window_display": true
  }
 },
 "nbformat": 4,
 "nbformat_minor": 2
}

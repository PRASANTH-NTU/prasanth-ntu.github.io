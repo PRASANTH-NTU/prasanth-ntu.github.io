{
 "cells": [
  {
   "cell_type": "markdown",
   "metadata": {},
   "source": [
    "# import"
   ]
  },
  {
   "cell_type": "code",
   "execution_count": 180,
   "metadata": {
    "ExecuteTime": {
     "end_time": "2019-04-17T03:22:20.429116Z",
     "start_time": "2019-04-17T03:22:20.254751Z"
    }
   },
   "outputs": [],
   "source": [
    "from collections import Counter\n",
    "\n",
    "from sklearn import feature_selection\n",
    "from sklearn.feature_selection import SelectPercentile\n",
    "from sklearn.datasets import make_classification\n",
    "from sklearn.model_selection import train_test_split as tts\n",
    "from sklearn.model_selection import StratifiedKFold, GridSearchCV\n",
    "from sklearn.decomposition import PCA\n",
    "\n",
    "from sklearn.neighbors import KNeighborsClassifier as KNN\n",
    "from sklearn.linear_model import LogisticRegression\n",
    "from sklearn.svm import SVC\n",
    "\n",
    "from sklearn.metrics import classification_report, accuracy_score\n",
    "\n",
    "from imblearn.over_sampling import SMOTE\n",
    "from imblearn.pipeline import Pipeline\n",
    "\n",
    "import pymrmr\n",
    "\n",
    "import pandas as pd\n",
    "import numpy as np\n",
    "import matplotlib.pyplot as plt"
   ]
  },
  {
   "cell_type": "markdown",
   "metadata": {},
   "source": [
    "# Dataset"
   ]
  },
  {
   "cell_type": "code",
   "execution_count": 17,
   "metadata": {
    "ExecuteTime": {
     "end_time": "2019-04-17T00:24:50.867678Z",
     "start_time": "2019-04-17T00:24:50.854082Z"
    }
   },
   "outputs": [
    {
     "name": "stdout",
     "output_type": "stream",
     "text": [
      "Original dataset shape Counter({1: 900, 0: 100})\n"
     ]
    }
   ],
   "source": [
    "### Generates a random n-class classification dataset problem ###\n",
    "X, y = make_classification(n_classes=2,\n",
    "                           class_sep=2,\n",
    "                           weights=[0.1, 0.9],\n",
    "                           n_informative=3,\n",
    "                           n_redundant=1,\n",
    "                           flip_y=0,\n",
    "                           n_features=20,\n",
    "                           n_clusters_per_class=1,\n",
    "                           n_samples=1000,\n",
    "                           random_state=10)\n",
    "\n",
    "print('Original dataset shape {}'.format(Counter(y)))"
   ]
  },
  {
   "cell_type": "markdown",
   "metadata": {},
   "source": [
    "# With and without Pipeline - Example 1"
   ]
  },
  {
   "cell_type": "code",
   "execution_count": 6,
   "metadata": {
    "ExecuteTime": {
     "end_time": "2019-04-16T12:07:11.257620Z",
     "start_time": "2019-04-16T12:07:11.212992Z"
    },
    "scrolled": true
   },
   "outputs": [
    {
     "name": "stdout",
     "output_type": "stream",
     "text": [
      "Classification accuracy: 0.984\n"
     ]
    }
   ],
   "source": [
    "### Using imblearn Pipeline ###\n",
    "# Pipeline assembles several steps that can cross validated together \n",
    "# It sequentially applies a list of transforms, sampling, and a final estimator\n",
    "pca = PCA()\n",
    "smote = SMOTE(random_state=42)\n",
    "knn = KNN()\n",
    "pipeline = Pipeline ([('smote', smote), ('pca', pca), ('knn', knn)])\n",
    "\n",
    "X_train, X_test, y_train, y_test = tts(X,y,random_state=42)\n",
    "\n",
    "pipeline.fit(X_train, y_train)\n",
    "\n",
    "y_hat = pipeline.predict(X_test)\n",
    "print (\"Classification accuracy:\",accuracy_score(y_test, y_hat))"
   ]
  },
  {
   "cell_type": "code",
   "execution_count": 7,
   "metadata": {
    "ExecuteTime": {
     "end_time": "2019-04-16T12:07:13.971177Z",
     "start_time": "2019-04-16T12:07:13.930893Z"
    },
    "scrolled": true
   },
   "outputs": [
    {
     "name": "stdout",
     "output_type": "stream",
     "text": [
      "Classification accuracy: 0.984\n"
     ]
    }
   ],
   "source": [
    "### Using traditional approach - No pipeline##\n",
    "X_pca2 = PCA(random_state=42).fit_transform(X)\n",
    "\n",
    "X_train2, X_test2, y_train2, y_test2 = tts(X_pca2, y, random_state=42)\n",
    "#print (X_train2.shape, Counter(y_train2))\n",
    "\n",
    "X_smote2, y_smote2 = SMOTE(random_state=42).fit_resample(X_train2, y_train2)\n",
    "#print (X_smote2.shape, Counter(y_smote2))\n",
    "\n",
    "knn2 = KNN().fit(X_smote2, y_smote2)\n",
    "y_hat2 = knn2.predict(X_test2)\n",
    "print(\"Classification accuracy:\", accuracy_score(y_test2, y_hat2))"
   ]
  },
  {
   "cell_type": "markdown",
   "metadata": {},
   "source": [
    "# StratifiedKFold CVGridSearch - Example 2"
   ]
  },
  {
   "cell_type": "code",
   "execution_count": 166,
   "metadata": {
    "ExecuteTime": {
     "end_time": "2019-04-17T03:20:00.125497Z",
     "start_time": "2019-04-17T03:19:57.988501Z"
    },
    "scrolled": true
   },
   "outputs": [
    {
     "name": "stdout",
     "output_type": "stream",
     "text": [
      "Best Classifier: SVC(C=0.1, cache_size=200, class_weight=None, coef0=0.0,\n",
      "  decision_function_shape='ovr', degree=3, gamma='auto_deprecated',\n",
      "  kernel='linear', max_iter=-1, probability=False, random_state=None,\n",
      "  shrinking=True, tol=0.001, verbose=False)\n",
      "Best feature sel: SelectPercentile(percentile=20,\n",
      "         score_func=<function f_classif at 0x7f7dbc34fa60>)\n",
      "Best CV score on training data: 0.9933333333333333\n",
      "(1, 23)\n",
      "Test score rank: [1]\n"
     ]
    },
    {
     "data": {
      "text/html": [
       "<div>\n",
       "<style scoped>\n",
       "    .dataframe tbody tr th:only-of-type {\n",
       "        vertical-align: middle;\n",
       "    }\n",
       "\n",
       "    .dataframe tbody tr th {\n",
       "        vertical-align: top;\n",
       "    }\n",
       "\n",
       "    .dataframe thead th {\n",
       "        text-align: right;\n",
       "    }\n",
       "</style>\n",
       "<table border=\"1\" class=\"dataframe\">\n",
       "  <thead>\n",
       "    <tr style=\"text-align: right;\">\n",
       "      <th></th>\n",
       "      <th>mean_fit_time</th>\n",
       "      <th>mean_score_time</th>\n",
       "      <th>mean_test_score</th>\n",
       "      <th>mean_train_score</th>\n",
       "      <th>param_classifier</th>\n",
       "      <th>param_classifier__C</th>\n",
       "      <th>param_classifier__kernel</th>\n",
       "      <th>param_feat_sel</th>\n",
       "      <th>param_feat_sel__percentile</th>\n",
       "      <th>params</th>\n",
       "      <th>...</th>\n",
       "      <th>split1_test_score</th>\n",
       "      <th>split1_train_score</th>\n",
       "      <th>split2_test_score</th>\n",
       "      <th>split2_train_score</th>\n",
       "      <th>split3_test_score</th>\n",
       "      <th>split3_train_score</th>\n",
       "      <th>std_fit_time</th>\n",
       "      <th>std_score_time</th>\n",
       "      <th>std_test_score</th>\n",
       "      <th>std_train_score</th>\n",
       "    </tr>\n",
       "  </thead>\n",
       "  <tbody>\n",
       "    <tr>\n",
       "      <th>0</th>\n",
       "      <td>0.007755</td>\n",
       "      <td>0.000839</td>\n",
       "      <td>0.993333</td>\n",
       "      <td>0.993334</td>\n",
       "      <td>SVC(C=0.1, cache_size=200, class_weight=None, ...</td>\n",
       "      <td>0.1</td>\n",
       "      <td>linear</td>\n",
       "      <td>SelectPercentile(percentile=20,\\n         scor...</td>\n",
       "      <td>20</td>\n",
       "      <td>{'classifier': SVC(C=0.1, cache_size=200, clas...</td>\n",
       "      <td>...</td>\n",
       "      <td>0.984043</td>\n",
       "      <td>0.994662</td>\n",
       "      <td>0.989305</td>\n",
       "      <td>0.994671</td>\n",
       "      <td>1.0</td>\n",
       "      <td>0.991119</td>\n",
       "      <td>0.001809</td>\n",
       "      <td>0.000172</td>\n",
       "      <td>0.006921</td>\n",
       "      <td>0.001472</td>\n",
       "    </tr>\n",
       "  </tbody>\n",
       "</table>\n",
       "<p>1 rows × 23 columns</p>\n",
       "</div>"
      ],
      "text/plain": [
       "   mean_fit_time  mean_score_time  mean_test_score  mean_train_score  \\\n",
       "0       0.007755         0.000839         0.993333          0.993334   \n",
       "\n",
       "                                    param_classifier param_classifier__C  \\\n",
       "0  SVC(C=0.1, cache_size=200, class_weight=None, ...                 0.1   \n",
       "\n",
       "  param_classifier__kernel                                     param_feat_sel  \\\n",
       "0                   linear  SelectPercentile(percentile=20,\\n         scor...   \n",
       "\n",
       "  param_feat_sel__percentile  \\\n",
       "0                         20   \n",
       "\n",
       "                                              params       ...         \\\n",
       "0  {'classifier': SVC(C=0.1, cache_size=200, clas...       ...          \n",
       "\n",
       "   split1_test_score  split1_train_score  split2_test_score  \\\n",
       "0           0.984043            0.994662           0.989305   \n",
       "\n",
       "   split2_train_score  split3_test_score  split3_train_score  std_fit_time  \\\n",
       "0            0.994671                1.0            0.991119      0.001809   \n",
       "\n",
       "   std_score_time  std_test_score  std_train_score  \n",
       "0        0.000172        0.006921         0.001472  \n",
       "\n",
       "[1 rows x 23 columns]"
      ]
     },
     "execution_count": 166,
     "metadata": {},
     "output_type": "execute_result"
    }
   ],
   "source": [
    "pca = PCA()\n",
    "smote = SMOTE(random_state=42)\n",
    "classifier = KNN()\n",
    "pipeline = Pipeline([('smote', smote),\n",
    "                     ('feat_sel',\n",
    "                      SelectPercentile(feature_selection.f_classif)),\n",
    "                     ('classifier', SVC())])\n",
    "\n",
    "para_steps = {}\n",
    "para_steps.update({\n",
    "    'feat_sel': [SelectPercentile(feature_selection.f_classif)],\n",
    "    'feat_sel' + '__percentile': [20]\n",
    "})\n",
    "# para_steps.update({\n",
    "#     'classifier': [classifier],\n",
    "#     'classifier' + '__n_neighbors' : [5,7,9]\n",
    "# })\n",
    "para_steps.update({\n",
    "    'classifier': [SVC()],\n",
    "    'classifier' + '__kernel': ['linear'],  # 'rbf'],\n",
    "    'classifier' + '__C': [0.1],  #, 0.5, 1],\n",
    "})\n",
    "\n",
    "param_grid = para_steps\n",
    "\n",
    "skf = StratifiedKFold(n_splits=4, random_state=42)\n",
    "\n",
    "grid = GridSearchCV(pipeline,\n",
    "                    cv=skf,\n",
    "                    n_jobs=-1,\n",
    "                    param_grid=param_grid,\n",
    "                    return_train_score=\"False\")\n",
    "\n",
    "grid.fit(X_train, y_train)\n",
    "\n",
    "best_classifier, best_evaluator = grid.best_params_[\n",
    "    'classifier'], grid.best_params_['feat_sel']\n",
    "best_score = grid.best_score_\n",
    "\n",
    "print(\"Best Classifier:\", best_classifier)\n",
    "print(\"Best feature sel:\", best_evaluator)\n",
    "print(\"Best CV score on training data:\", best_score)\n",
    "\n",
    "df_cv_results_ = pd.DataFrame(grid.cv_results_)\n",
    "print(df_cv_results_.shape)\n",
    "print(\"Test score rank:\", grid.cv_results_['rank_test_score'])\n",
    "df_cv_results_"
   ]
  },
  {
   "cell_type": "code",
   "execution_count": 218,
   "metadata": {
    "ExecuteTime": {
     "end_time": "2019-04-17T03:42:22.766386Z",
     "start_time": "2019-04-17T03:42:22.735342Z"
    }
   },
   "outputs": [
    {
     "name": "stdout",
     "output_type": "stream",
     "text": [
      "Top features: [ 1  5  6 10]\n",
      "Test accuracy: 0.992\n"
     ]
    }
   ],
   "source": [
    "pipeline = Pipeline([('smote', smote), ('feat_sel', best_evaluator),\n",
    "                     ('classifier', best_classifier)])\n",
    "pipeline.fit(X_train, y_train)\n",
    "\n",
    "print ('Top features:', pipeline.named_steps['feat_sel'].get_support(indices=True))\n",
    "\n",
    "pred_class = pipeline.predict(X_test)\n",
    "print ('Test accuracy:', accuracy_score(y_test, pred_class))"
   ]
  },
  {
   "cell_type": "markdown",
   "metadata": {},
   "source": [
    "## Feature Selection - Manual"
   ]
  },
  {
   "cell_type": "code",
   "execution_count": 311,
   "metadata": {
    "ExecuteTime": {
     "end_time": "2019-04-17T06:41:30.864362Z",
     "start_time": "2019-04-17T06:41:30.857108Z"
    }
   },
   "outputs": [
    {
     "name": "stdout",
     "output_type": "stream",
     "text": [
      "F-value rank (ascending): [19  3  4 17 13 11  8  2  7  9  0 12 18 15 16 14  1  5  6 10]\n",
      "p-value rank (ascending): [10  6  5  1 14 16 15 18 12  0  9  7  2  8 11 13 17  4  3 19]\n"
     ]
    }
   ],
   "source": [
    "F, pval = feature_selection.f_classif(X_train, y_train)\n",
    "\n",
    "print(\"F-value rank (ascending):\", F.argsort())  # higher is better\n",
    "print(\"p-value rank (ascending):\", pval.argsort())  # lower is better"
   ]
  },
  {
   "cell_type": "code",
   "execution_count": 219,
   "metadata": {
    "ExecuteTime": {
     "end_time": "2019-04-17T03:43:02.784326Z",
     "start_time": "2019-04-17T03:43:01.963660Z"
    },
    "scrolled": true
   },
   "outputs": [
    {
     "data": {
      "image/png": "[encoded data removed]",
      "text/plain": [
       "<Figure size 1008x360 with 2 Axes>"
      ]
     },
     "metadata": {},
     "output_type": "display_data"
    }
   ],
   "source": [
    "plt.figure(figsize=(14, 5))\n",
    "\n",
    "plt.subplot(1, 2, 1)\n",
    "plt.bar(range(len(F)), (np.sort(F)), log=True)\n",
    "plt.xticks(np.arange(len(F)), F.argsort())\n",
    "plt.title('ANOVA F-value')\n",
    "plt.xlabel('Feature name/number')\n",
    "\n",
    "plt.subplot(1, 2, 2)\n",
    "plt.bar(range(len(pval)), (np.sort(pval))[::-1])\n",
    "plt.xticks(np.arange(len(pval)), pval.argsort()[::-1])\n",
    "plt.title('p-val')\n",
    "plt.xlabel('Feature name/number')\n",
    "\n",
    "plt.show()"
   ]
  },
  {
   "cell_type": "code",
   "execution_count": 157,
   "metadata": {
    "ExecuteTime": {
     "end_time": "2019-04-17T03:16:48.364976Z",
     "start_time": "2019-04-17T03:16:48.356428Z"
    }
   },
   "outputs": [
    {
     "data": {
      "text/plain": [
       "array([10,  6,  5,  1, 14, 16, 15, 18, 12,  0,  9,  7,  2,  8, 11, 13, 17,\n",
       "        4,  3, 19])"
      ]
     },
     "execution_count": 157,
     "metadata": {},
     "output_type": "execute_result"
    }
   ],
   "source": [
    "selector = SelectPercentile(feature_selection.f_classif, 10)\n",
    "selector.fit(X_train, y_train)\n",
    "selector.pvalues_.argsort()"
   ]
  },
  {
   "cell_type": "code",
   "execution_count": 271,
   "metadata": {
    "ExecuteTime": {
     "end_time": "2019-04-17T05:31:54.758383Z",
     "start_time": "2019-04-17T05:31:54.745704Z"
    }
   },
   "outputs": [
    {
     "data": {
      "text/plain": [
       "array([10,  6,  5,  1, 14, 16, 15, 18, 12,  0,  9,  7,  2,  8, 11, 13, 17,\n",
       "        4,  3, 19])"
      ]
     },
     "execution_count": 271,
     "metadata": {},
     "output_type": "execute_result"
    }
   ],
   "source": [
    "def feature_rank_manual(X_train, y_train):\n",
    "    '''\n",
    "    The functions returns the p-value generated e\n",
    "    '''\n",
    "    F, pval = feature_selection.f_classif(X_train, y_train)\n",
    "    return (None, pval)\n",
    "\n",
    "# Need to feed in a function that returns p-value for the SelectPercentile\n",
    "# lower p-value is better ranked feature\n",
    "selector = SelectPercentile(feature_rank_manual, percentile=10)\n",
    "selector.fit(X_train, y_train)\n",
    "selector.pvalues_.argsort()"
   ]
  },
  {
   "cell_type": "markdown",
   "metadata": {},
   "source": [
    "## MRMR feature selection"
   ]
  },
  {
   "cell_type": "code",
   "execution_count": 322,
   "metadata": {
    "ExecuteTime": {
     "end_time": "2019-04-17T07:42:35.196193Z",
     "start_time": "2019-04-17T07:42:34.918478Z"
    }
   },
   "outputs": [
    {
     "data": {
      "text/plain": [
       "array([10, 15,  9,  6,  5,  0,  7, 11, 13,  8, 18, 17,  4,  1, 14,  3, 16,\n",
       "        2, 12, 19])"
      ]
     },
     "execution_count": 322,
     "metadata": {},
     "output_type": "execute_result"
    }
   ],
   "source": [
    "def feature_rank_manual(X_train, y_train):\n",
    "    '''\n",
    "    The functions returns the p-value equivalent (rank) generated using MRMR feature selection technique\n",
    "    '''\n",
    "    X_train = np.array(X_train)\n",
    "    y_train = np.array(y_train)\n",
    "    df = pd.DataFrame(X_train, columns =[str(i) for i in range(X_train.shape[1])])\n",
    "    df.insert(loc=0,column='Class', value=y_train)\n",
    "    rank= pymrmr.mRMR(df, 'MID', X_train.shape[1])\n",
    "    rank = [int(i) for i in rank]\n",
    "    pval_eq = np.arange(len(rank))\n",
    "    mrmr = np.arange(len(rank))\n",
    "\n",
    "    for i in range(len(rank)):\n",
    "        pval_eq[rank[i]] = i\n",
    "        mrmr[rank[i]]=len(rank)-i-1\n",
    "    return (mrmr, pval_eq)\n",
    "\n",
    "# Need to feed in a function that returns p-value for the SelectPercentile\n",
    "# lower p-value is better ranked feature\n",
    "selector = SelectPercentile(feature_rank_manual, percentile=10)\n",
    "selector.fit(X_train, y_train)\n",
    "selector.pvalues_.argsort()"
   ]
  },
  {
   "cell_type": "code",
   "execution_count": 321,
   "metadata": {
    "ExecuteTime": {
     "end_time": "2019-04-17T07:41:50.890695Z",
     "start_time": "2019-04-17T07:41:50.642686Z"
    },
    "scrolled": false
   },
   "outputs": [
    {
     "name": "stdout",
     "output_type": "stream",
     "text": [
      "Actual rank of features: [10, 15, 9, 6, 5, 0, 7, 11, 13, 8, 18, 17, 4, 1, 14, 3, 16, 2, 12, 19]\n",
      "MRMR rank: [19 12  2 16  3 14  1  4 17 18  8 13 11  7  0  5  6  9 15 10]\n",
      "P value alike: [10 15  9  6  5  0  7 11 13  8 18 17  4  1 14  3 16  2 12 19]\n"
     ]
    }
   ],
   "source": [
    "df = pd.DataFrame(X_train, columns =[str(i) for i in range(20)])\n",
    "df.insert(loc=0,column='Class', value=y_train)\n",
    "df\n",
    "\n",
    "rank = (pymrmr.mRMR(df, 'MID',  X_train.shape[1]))\n",
    "rank = [int(i) for i in rank]\n",
    "print ('Actual rank of features:', rank)\n",
    "\n",
    "pval_eq = np.arange(len(rank))\n",
    "mrmr = np.arange(len(rank))\n",
    "for i in range(len(rank)):\n",
    "    pval_eq[rank[i]] = i\n",
    "    mrmr[rank[i]]=len(rank)-i-1\n",
    "print ('MRMR rank:', mrmr.argsort())\n",
    "print ('P value alike:', pval_eq.argsort())"
   ]
  },
  {
   "cell_type": "code",
   "execution_count": 319,
   "metadata": {
    "ExecuteTime": {
     "end_time": "2019-04-17T07:41:02.622379Z",
     "start_time": "2019-04-17T07:41:02.129930Z"
    }
   },
   "outputs": [
    {
     "data": {
      "image/png": "[encoded data removed]",
      "text/plain": [
       "<Figure size 1008x360 with 2 Axes>"
      ]
     },
     "metadata": {},
     "output_type": "display_data"
    }
   ],
   "source": [
    "plt.figure(figsize=(14, 5))\n",
    "\n",
    "plt.subplot(1, 2, 1)\n",
    "plt.bar(range(len(mrmr)), (np.sort(mrmr)), log=False)\n",
    "plt.xticks(np.arange(len(mrmr)), mrmr.argsort())\n",
    "plt.title('MRMR rank')\n",
    "plt.xlabel('Feature name/number')\n",
    "plt.ylabel('Rank')\n",
    "\n",
    "plt.subplot(1, 2, 2)\n",
    "plt.bar(range(len(pval_eq)), (np.sort(pval_eq))[::-1])\n",
    "plt.xticks(np.arange(len(pval_eq)), pval_eq.argsort()[::-1])\n",
    "plt.title('p-val eq ')\n",
    "plt.xlabel('Feature name/number')\n",
    "plt.ylabel('Rank')\n",
    "\n",
    "plt.show()"
   ]
  }
 ],
 "metadata": {
  "kernelspec": {
   "display_name": "deeplearning",
   "language": "python",
   "name": "deeplearning"
  },
  "language_info": {
   "codemirror_mode": {
    "name": "ipython",
    "version": 3
   },
   "file_extension": ".py",
   "mimetype": "text/x-python",
   "name": "python",
   "nbconvert_exporter": "python",
   "pygments_lexer": "ipython3",
   "version": "3.5.2"
  },
  "toc": {
   "base_numbering": 1,
   "nav_menu": {},
   "number_sections": true,
   "sideBar": true,
   "skip_h1_title": false,
   "title_cell": "Table of Contents",
   "title_sidebar": "Contents",
   "toc_cell": false,
   "toc_position": {},
   "toc_section_display": true,
   "toc_window_display": true
  }
 },
 "nbformat": 4,
 "nbformat_minor": 2
}

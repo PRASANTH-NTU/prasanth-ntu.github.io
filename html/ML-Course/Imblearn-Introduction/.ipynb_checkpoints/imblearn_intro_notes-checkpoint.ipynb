{
 "cells": [
  {
   "cell_type": "markdown",
   "metadata": {},
   "source": [
    "# import"
   ]
  },
  {
   "cell_type": "code",
   "execution_count": 8,
   "metadata": {
    "ExecuteTime": {
     "end_time": "2019-04-16T12:13:50.344488Z",
     "start_time": "2019-04-16T12:13:50.338231Z"
    }
   },
   "outputs": [],
   "source": [
    "from collections import Counter\n",
    "\n",
    "from sklearn import feature_selection\n",
    "from sklearn.feature_selection import SelectPercentile\n",
    "from sklearn.datasets import make_classification\n",
    "from sklearn.model_selection import train_test_split as tts\n",
    "from sklearn.decomposition import PCA\n",
    "from sklearn.neighbors import KNeighborsClassifier as KNN\n",
    "from sklearn.metrics import classification_report, accuracy_score\n",
    "\n",
    "from imblearn.over_sampling import SMOTE\n",
    "from imblearn.pipeline import Pipeline"
   ]
  },
  {
   "cell_type": "markdown",
   "metadata": {},
   "source": [
    "# Dataset"
   ]
  },
  {
   "cell_type": "code",
   "execution_count": 3,
   "metadata": {
    "ExecuteTime": {
     "end_time": "2019-04-16T12:06:53.070406Z",
     "start_time": "2019-04-16T12:06:53.058003Z"
    }
   },
   "outputs": [
    {
     "name": "stdout",
     "output_type": "stream",
     "text": [
      "Original dataset shape Counter({1: 900, 0: 100})\n"
     ]
    }
   ],
   "source": [
    "### Generates a random n-class classification dataset problem ###\n",
    "X, y = make_classification(n_classes=2,\n",
    "                           class_sep=2,\n",
    "                           weights=[0.1, 0.9],\n",
    "                           n_informative=3,\n",
    "                           n_redundant=1,\n",
    "                           flip_y=0,\n",
    "                           n_features=20,\n",
    "                           n_clusters_per_class=1,\n",
    "                           n_samples=1000,\n",
    "                           random_state=10)\n",
    "\n",
    "print('Original dataset shape {}'.format(Counter(y)))"
   ]
  },
  {
   "cell_type": "markdown",
   "metadata": {},
   "source": [
    "# With and without Pipeline"
   ]
  },
  {
   "cell_type": "code",
   "execution_count": 6,
   "metadata": {
    "ExecuteTime": {
     "end_time": "2019-04-16T12:07:11.257620Z",
     "start_time": "2019-04-16T12:07:11.212992Z"
    },
    "scrolled": true
   },
   "outputs": [
    {
     "name": "stdout",
     "output_type": "stream",
     "text": [
      "Classification accuracy: 0.984\n"
     ]
    }
   ],
   "source": [
    "### Using imblearn Pipeline ###\n",
    "# Pipeline assembles several steps that can cross validated together \n",
    "# It sequentially applies a list of transforms, sampling, and a final estimator\n",
    "pca = PCA()\n",
    "smote = SMOTE(random_state=42)\n",
    "knn = KNN()\n",
    "pipeline = Pipeline ([('smote', smote), ('pca', pca), ('knn', knn)])\n",
    "\n",
    "X_train, X_test, y_train, y_test = tts(X,y,random_state=42)\n",
    "\n",
    "pipeline.fit(X_train, y_train)\n",
    "\n",
    "y_hat = pipeline.predict(X_test)\n",
    "print (\"Classification accuracy:\",accuracy_score(y_test, y_hat))"
   ]
  },
  {
   "cell_type": "code",
   "execution_count": 7,
   "metadata": {
    "ExecuteTime": {
     "end_time": "2019-04-16T12:07:13.971177Z",
     "start_time": "2019-04-16T12:07:13.930893Z"
    },
    "scrolled": true
   },
   "outputs": [
    {
     "name": "stdout",
     "output_type": "stream",
     "text": [
      "Classification accuracy: 0.984\n"
     ]
    }
   ],
   "source": [
    "### Using traditional approach ###\n",
    "X_pca2 = PCA(random_state=42).fit_transform(X)\n",
    "\n",
    "X_train2, X_test2, y_train2, y_test2 = tts(X_pca2,y,random_state=42)\n",
    "#print (X_train2.shape, Counter(y_train2))\n",
    "\n",
    "X_smote2, y_smote2  = SMOTE(random_state=42).fit_resample(X_train2, y_train2)\n",
    "#print (X_smote2.shape, Counter(y_smote2))\n",
    "\n",
    "knn2 = KNN().fit(X_smote2, y_smote2)\n",
    "y_hat2 = knn2.predict(X_test2)\n",
    "print (\"Classification accuracy:\", accuracy_score(y_test2, y_hat2))"
   ]
  },
  {
   "cell_type": "code",
   "execution_count": 11,
   "metadata": {
    "ExecuteTime": {
     "end_time": "2019-04-16T12:15:35.279868Z",
     "start_time": "2019-04-16T12:15:35.273124Z"
    }
   },
   "outputs": [],
   "source": [
    "pca = PCA()\n",
    "smote = SMOTE(random_state=42)\n",
    "knn = KNN()\n",
    "pipeline = Pipeline([('smote', smote), ('feat_sel', SelectPercentile(feature_selection.f_classif)), ('knn', knn)])\n",
    "\n",
    "para_steps = {}\n",
    "para_steps.update({\n",
    "    'feat_sel': [SelectPercentile(feature_selection.f_classif)],\n",
    "    'feat_sel' + '__percentile': [100]\n",
    "})"
   ]
  },
  {
   "cell_type": "code",
   "execution_count": 12,
   "metadata": {
    "ExecuteTime": {
     "end_time": "2019-04-16T12:15:41.251709Z",
     "start_time": "2019-04-16T12:15:41.232978Z"
    }
   },
   "outputs": [
    {
     "data": {
      "text/plain": [
       "{'feat_sel': [SelectPercentile(percentile=10,\n",
       "           score_func=<function f_classif at 0x7f7dbc34fa60>)],\n",
       " 'feat_sel__percentile': [100]}"
      ]
     },
     "execution_count": 12,
     "metadata": {},
     "output_type": "execute_result"
    }
   ],
   "source": [
    "para_steps"
   ]
  }
 ],
 "metadata": {
  "kernelspec": {
   "display_name": "deeplearning",
   "language": "python",
   "name": "deeplearning"
  },
  "language_info": {
   "codemirror_mode": {
    "name": "ipython",
    "version": 3
   },
   "file_extension": ".py",
   "mimetype": "text/x-python",
   "name": "python",
   "nbconvert_exporter": "python",
   "pygments_lexer": "ipython3",
   "version": "3.5.2"
  },
  "toc": {
   "base_numbering": 1,
   "nav_menu": {},
   "number_sections": true,
   "sideBar": true,
   "skip_h1_title": false,
   "title_cell": "Table of Contents",
   "title_sidebar": "Contents",
   "toc_cell": false,
   "toc_position": {},
   "toc_section_display": true,
   "toc_window_display": true
  }
 },
 "nbformat": 4,
 "nbformat_minor": 2
}

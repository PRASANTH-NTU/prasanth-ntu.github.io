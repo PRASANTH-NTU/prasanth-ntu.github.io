{
 "cells": [
  {
   "cell_type": "markdown",
   "metadata": {},
   "source": [
    "*For full screen view & to download, visit *\n",
    "- `HTML` : <a href=\"https://prasanth-ntu.github.io/html/ML-Course/Pandas-Introduction/Pandas-Introduction-Notes.html\" target=\"_blank\">Click here</a>\n",
    "- `GITHUB` : <a href=\"https://github.com/prasanth-ntu/prasanth-ntu.github.io/blob/master/html/ML-Course/Pandas-Introduction/Pandas-Introduction-Notes.ipynb\" target=\"_blank\">Click here</a>\n",
    "- `NBVIEWER` : <a href=\"https://nbviewer.jupyter.org/github/prasanth-ntu/prasanth-ntu.github.io/blob/master/html/ML-Course/Pandas-Introduction/Pandas-Introduction-Notes.ipynb\" target=\"_blank\">Click here</a>\n",
    "\n",
    "*To get back to ML website*, <a href=\"https://prasanth-ntu.github.io/html/ML-Course-9.html\" target=\"_blank\">Click here</a>"
   ]
  },
  {
   "cell_type": "code",
   "execution_count": 1,
   "metadata": {
    "ExecuteTime": {
     "end_time": "2019-03-20T10:54:48.092807Z",
     "start_time": "2019-03-20T10:54:40.703409Z"
    }
   },
   "outputs": [],
   "source": [
    "import pandas as pd\n",
    "import numpy as np"
   ]
  },
  {
   "cell_type": "markdown",
   "metadata": {},
   "source": [
    "# Basic Data Structure\n",
    "<ul>\n",
    "    <li><code>Series</code> : <b>One-dimensional</b> data structure with any data type</li>\n",
    "    <li><code>DataFrame</code>: <b>Two-dimensional</b> data structure with different data type</li>\n",
    "    <li><code>Panel</code>  : <b>Three-dimensional</b> data structure</li>\n",
    "    <li><code>PanelND</code>: <b>N-dimensional data</b> structure </li>\n",
    "</ul>\n",
    "<p>More details : <a href=\"https://pandas.pydata.org/pandas-docs/stable/dsintro.html#dsintro\" target=\"_blank\">Pandas - Basic Data Structure</a></p>"
   ]
  },
  {
   "cell_type": "markdown",
   "metadata": {},
   "source": [
    "## Series"
   ]
  },
  {
   "cell_type": "markdown",
   "metadata": {},
   "source": [
    "- A Pandas Series is a one-dimensional array of indexed data. \n",
    "- It's capable of holding any data type (integers, strings, floating point numbers, Python objects, etc.) \n",
    "- Unlike `list` in Python and `ndarray` in Numpy, the index of Pandas `Series` could be explicitly defined, using keyword `index`.\n",
    "\n",
    "- We will see \n",
    "    - how to create pandas `Series` from `list` and `dict` \n",
    "    - how to access index names/numbering, values,  \n",
    "    - how to do indexing and slicing\n",
    "    - how to define indexes (both numeric and non-numeric)\n",
    "    \n",
    "<p><font size=\"3\" color=\"blue\">Pandas Series data structure has Only One indexing</font></p>\n"
   ]
  },
  {
   "cell_type": "markdown",
   "metadata": {},
   "source": [
    "**Create a Pandas Series with a list**"
   ]
  },
  {
   "cell_type": "markdown",
   "metadata": {},
   "source": [
    "If we don't specify any indexing, Pandas will assign default index no starting from 0."
   ]
  },
  {
   "cell_type": "code",
   "execution_count": 10,
   "metadata": {
    "ExecuteTime": {
     "end_time": "2019-03-20T10:58:33.978769Z",
     "start_time": "2019-03-20T10:58:33.970779Z"
    }
   },
   "outputs": [
    {
     "name": "stdout",
     "output_type": "stream",
     "text": [
      "0        1\n",
      "1        3\n",
      "2        5\n",
      "3      NaN\n",
      "4        9\n",
      "5     11.5\n",
      "6    hello\n",
      "dtype: object\n"
     ]
    }
   ],
   "source": [
    "s = pd.Series(data=[1,3,5,np.nan,9.0,11.5, 'hello'])  \n",
    "print (s)"
   ]
  },
  {
   "cell_type": "markdown",
   "metadata": {},
   "source": [
    "<p>Note: <code>np.NaN</code>, or <b>'Not a Number'</b>, is a special floating point value in Python that indicates a missing data point. In this case, the value in index no <code>3</code> is not available.\n",
    "<br><br>\n",
    "We will go through common ways to handle <code>np.NaN</code> in the later sections of this post.</p>"
   ]
  },
  {
   "cell_type": "markdown",
   "metadata": {},
   "source": [
    "### `index` & `values`"
   ]
  },
  {
   "cell_type": "markdown",
   "metadata": {},
   "source": [
    "- Applying `.index` on a pandas Series will return the index names/numbering.\n",
    "- Applying `.values` on a pandas Series will return the values as *numpy array*."
   ]
  },
  {
   "cell_type": "code",
   "execution_count": 11,
   "metadata": {
    "ExecuteTime": {
     "end_time": "2019-03-20T10:58:34.794298Z",
     "start_time": "2019-03-20T10:58:34.786303Z"
    }
   },
   "outputs": [
    {
     "data": {
      "text/plain": [
       "RangeIndex(start=0, stop=7, step=1)"
      ]
     },
     "execution_count": 11,
     "metadata": {},
     "output_type": "execute_result"
    }
   ],
   "source": [
    "s.index"
   ]
  },
  {
   "cell_type": "code",
   "execution_count": 12,
   "metadata": {
    "ExecuteTime": {
     "end_time": "2019-03-20T10:58:35.134926Z",
     "start_time": "2019-03-20T10:58:35.126930Z"
    }
   },
   "outputs": [
    {
     "data": {
      "text/plain": [
       "array([1, 3, 5, nan, 9.0, 11.5, 'hello'], dtype=object)"
      ]
     },
     "execution_count": 12,
     "metadata": {},
     "output_type": "execute_result"
    }
   ],
   "source": [
    "s.values"
   ]
  },
  {
   "cell_type": "markdown",
   "metadata": {},
   "source": [
    "### indexing & slicing\n",
    "Similar to list & numpy in Python, we can access data in Series by using square-bracket notation `[]`."
   ]
  },
  {
   "cell_type": "code",
   "execution_count": 14,
   "metadata": {
    "ExecuteTime": {
     "end_time": "2019-03-20T10:58:52.466626Z",
     "start_time": "2019-03-20T10:58:52.459608Z"
    }
   },
   "outputs": [
    {
     "data": {
      "text/plain": [
       "3"
      ]
     },
     "execution_count": 14,
     "metadata": {},
     "output_type": "execute_result"
    }
   ],
   "source": [
    "s[1]           # indexing - returns an element"
   ]
  },
  {
   "cell_type": "code",
   "execution_count": 15,
   "metadata": {
    "ExecuteTime": {
     "end_time": "2019-03-20T10:58:55.960694Z",
     "start_time": "2019-03-20T10:58:55.949701Z"
    }
   },
   "outputs": [
    {
     "data": {
      "text/plain": [
       "0      1\n",
       "1      3\n",
       "2      5\n",
       "3    NaN\n",
       "dtype: object"
      ]
     },
     "execution_count": 15,
     "metadata": {},
     "output_type": "execute_result"
    }
   ],
   "source": [
    "s[0:4]         # slicing - returns a pandas Series"
   ]
  },
  {
   "cell_type": "markdown",
   "metadata": {
    "ExecuteTime": {
     "end_time": "2018-12-12T12:53:38.999069Z",
     "start_time": "2018-12-12T12:53:38.994069Z"
    }
   },
   "source": [
    "### `name`\n",
    "\n",
    "Using `.name`, we can assign name to the Pandas Series and its index "
   ]
  },
  {
   "cell_type": "code",
   "execution_count": 17,
   "metadata": {
    "ExecuteTime": {
     "end_time": "2019-03-20T10:59:16.315723Z",
     "start_time": "2019-03-20T10:59:16.306708Z"
    }
   },
   "outputs": [
    {
     "data": {
      "text/plain": [
       "0        1\n",
       "1        3\n",
       "2        5\n",
       "3      NaN\n",
       "4        9\n",
       "5     11.5\n",
       "6    hello\n",
       "dtype: object"
      ]
     },
     "execution_count": 17,
     "metadata": {},
     "output_type": "execute_result"
    }
   ],
   "source": [
    "s            # Before assigning name to Series and its index"
   ]
  },
  {
   "cell_type": "code",
   "execution_count": 24,
   "metadata": {
    "ExecuteTime": {
     "end_time": "2019-03-20T11:00:19.410361Z",
     "start_time": "2019-03-20T11:00:19.404369Z"
    }
   },
   "outputs": [],
   "source": [
    "s.name = 'Series name is Cool'\n",
    "s.index.name= 'idx'"
   ]
  },
  {
   "cell_type": "code",
   "execution_count": 25,
   "metadata": {
    "ExecuteTime": {
     "end_time": "2019-03-20T11:00:19.822584Z",
     "start_time": "2019-03-20T11:00:19.813593Z"
    },
    "scrolled": true
   },
   "outputs": [
    {
     "data": {
      "text/plain": [
       "idx\n",
       "0        1\n",
       "1        3\n",
       "2        5\n",
       "3      NaN\n",
       "4        9\n",
       "5     11.5\n",
       "6    hello\n",
       "Name: Series name is Cool, dtype: object"
      ]
     },
     "execution_count": 25,
     "metadata": {},
     "output_type": "execute_result"
    }
   ],
   "source": [
    "s            # After assigning name to Series and its index"
   ]
  },
  {
   "cell_type": "markdown",
   "metadata": {
    "ExecuteTime": {
     "end_time": "2018-12-12T12:59:40.090325Z",
     "start_time": "2018-12-12T12:59:40.082346Z"
    }
   },
   "source": [
    "**Create a Pandas Series with a list and user-defined index**"
   ]
  },
  {
   "cell_type": "markdown",
   "metadata": {},
   "source": [
    "Here, we are speciying **index values** for each element in the list. This allows us to override default sequential indexing. \n",
    "\n",
    "<u>Note:</u> <i>If data has <code>n</code> elements, index must be the same length as data.</i>"
   ]
  },
  {
   "cell_type": "code",
   "execution_count": 29,
   "metadata": {
    "ExecuteTime": {
     "end_time": "2019-03-20T12:04:22.966771Z",
     "start_time": "2019-03-20T12:04:22.957757Z"
    }
   },
   "outputs": [
    {
     "name": "stdout",
     "output_type": "stream",
     "text": [
      "0         1\n",
      "10        3\n",
      "2         5\n",
      "3       NaN\n",
      "4         9\n",
      "5      11.5\n",
      "6     hello\n",
      "dtype: object\n"
     ]
    }
   ],
   "source": [
    "s2 = pd.Series(data=[1,3,5,np.nan,9.0,11.5, 'hello'], index=[0,10,2,3,4,5,6])  \n",
    "print (s2)"
   ]
  },
  {
   "cell_type": "code",
   "execution_count": 30,
   "metadata": {
    "ExecuteTime": {
     "end_time": "2019-03-20T12:04:25.986619Z",
     "start_time": "2019-03-20T12:04:25.973627Z"
    }
   },
   "outputs": [
    {
     "data": {
      "text/plain": [
       "Int64Index([0, 10, 2, 3, 4, 5, 6], dtype='int64')"
      ]
     },
     "execution_count": 30,
     "metadata": {},
     "output_type": "execute_result"
    }
   ],
   "source": [
    "s2.index"
   ]
  },
  {
   "cell_type": "markdown",
   "metadata": {},
   "source": [
    "We can also specify **non-numeric index values** for each element in the list."
   ]
  },
  {
   "cell_type": "code",
   "execution_count": 36,
   "metadata": {
    "ExecuteTime": {
     "end_time": "2019-03-20T12:06:01.241733Z",
     "start_time": "2019-03-20T12:06:01.231755Z"
    }
   },
   "outputs": [
    {
     "name": "stdout",
     "output_type": "stream",
     "text": [
      "one          1\n",
      "two          3\n",
      "three        5\n",
      "four       NaN\n",
      "five         9\n",
      "six       11.5\n",
      "seven    hello\n",
      "dtype: object\n"
     ]
    }
   ],
   "source": [
    "s3 = pd.Series(data=[1,3,5,np.nan,9.0,11.5, 'hello'], index=[\"one\", \"two\", \"three\", \"four\", \"five\", \"six\", \"seven\"])  \n",
    "print (s3)"
   ]
  },
  {
   "cell_type": "markdown",
   "metadata": {
    "ExecuteTime": {
     "end_time": "2018-12-12T13:33:27.255688Z",
     "start_time": "2018-12-12T13:33:27.248712Z"
    }
   },
   "source": [
    "We can also perform **indexing on Pandas Series with user-defined non-numeric index values**. We can still use the numeric indexing (which works by default) even though the default indexing is overwritten."
   ]
  },
  {
   "cell_type": "code",
   "execution_count": 43,
   "metadata": {
    "ExecuteTime": {
     "end_time": "2019-03-20T12:07:43.095032Z",
     "start_time": "2019-03-20T12:07:43.088035Z"
    }
   },
   "outputs": [
    {
     "data": {
      "text/plain": [
       "5"
      ]
     },
     "execution_count": 43,
     "metadata": {},
     "output_type": "execute_result"
    }
   ],
   "source": [
    "s3[2]                   # using numeric indexing"
   ]
  },
  {
   "cell_type": "code",
   "execution_count": 44,
   "metadata": {
    "ExecuteTime": {
     "end_time": "2019-03-20T12:07:45.121484Z",
     "start_time": "2019-03-20T12:07:45.113497Z"
    }
   },
   "outputs": [
    {
     "data": {
      "text/plain": [
       "5"
      ]
     },
     "execution_count": 44,
     "metadata": {},
     "output_type": "execute_result"
    }
   ],
   "source": [
    "s3[\"three\"]             # using non-numeric indexing "
   ]
  },
  {
   "cell_type": "code",
   "execution_count": 46,
   "metadata": {
    "ExecuteTime": {
     "end_time": "2019-03-20T12:07:54.909016Z",
     "start_time": "2019-03-20T12:07:54.872035Z"
    }
   },
   "outputs": [
    {
     "data": {
      "text/plain": [
       "one         1\n",
       "two         3\n",
       "three       5\n",
       "four      NaN\n",
       "five        9\n",
       "six      11.5\n",
       "dtype: object"
      ]
     },
     "execution_count": 46,
     "metadata": {},
     "output_type": "execute_result"
    }
   ],
   "source": [
    "s3[0:6]"
   ]
  },
  {
   "cell_type": "code",
   "execution_count": 39,
   "metadata": {
    "ExecuteTime": {
     "end_time": "2019-03-20T12:06:22.874961Z",
     "start_time": "2019-03-20T12:06:22.864966Z"
    }
   },
   "outputs": [
    {
     "data": {
      "text/plain": [
       "one         1\n",
       "two         3\n",
       "three       5\n",
       "four      NaN\n",
       "five        9\n",
       "six      11.5\n",
       "dtype: object"
      ]
     },
     "execution_count": 39,
     "metadata": {},
     "output_type": "execute_result"
    }
   ],
   "source": [
    "s3[\"one\":\"six\"]     # slicing"
   ]
  },
  {
   "cell_type": "code",
   "execution_count": 47,
   "metadata": {
    "ExecuteTime": {
     "end_time": "2019-03-20T12:11:42.607920Z",
     "start_time": "2019-03-20T12:11:42.595924Z"
    }
   },
   "outputs": [
    {
     "data": {
      "text/plain": [
       "array([1, 3, 5, nan, 9.0, 11.5, 'hello'], dtype=object)"
      ]
     },
     "execution_count": 47,
     "metadata": {},
     "output_type": "execute_result"
    }
   ],
   "source": [
    "# Attributes values and index\n",
    "s = pd.Series([1,3,5,np.nan,9.0,11.5, 'hello'])\n",
    "val_s = s.values\n",
    "idx_s = s.index\n",
    "val_s"
   ]
  },
  {
   "cell_type": "code",
   "execution_count": 48,
   "metadata": {
    "ExecuteTime": {
     "end_time": "2019-03-20T12:11:52.538034Z",
     "start_time": "2019-03-20T12:11:52.531040Z"
    }
   },
   "outputs": [
    {
     "data": {
      "text/plain": [
       "(array([1, 3, 5, nan, 9.0, 11.5, 'hello'], dtype=object),\n",
       " RangeIndex(start=0, stop=7, step=1))"
      ]
     },
     "execution_count": 48,
     "metadata": {},
     "output_type": "execute_result"
    }
   ],
   "source": [
    "val_s, idx_s"
   ]
  },
  {
   "cell_type": "markdown",
   "metadata": {
    "ExecuteTime": {
     "end_time": "2018-12-12T12:32:19.707041Z",
     "start_time": "2018-12-12T12:32:19.700046Z"
    }
   },
   "source": [
    "**Create a Pandas Series with a dictionary**"
   ]
  },
  {
   "cell_type": "markdown",
   "metadata": {},
   "source": [
    "When we convert a dictionary into Pandas Series, it will sort the index based on dictionary keys and store them. "
   ]
  },
  {
   "cell_type": "code",
   "execution_count": 54,
   "metadata": {
    "ExecuteTime": {
     "end_time": "2019-03-20T12:21:21.082372Z",
     "start_time": "2019-03-20T12:21:21.072382Z"
    }
   },
   "outputs": [
    {
     "data": {
      "text/plain": [
       "Ohio      35000\n",
       "Oregon    16000\n",
       "Texas     71000\n",
       "Utah       5000\n",
       "dtype: int64"
      ]
     },
     "execution_count": 54,
     "metadata": {},
     "output_type": "execute_result"
    }
   ],
   "source": [
    "d = {'Ohio': 35000, 'Texas': 71000, 'Oregon': 16000, 'Utah': 5000}       # user-defined index\n",
    "s = pd.Series(d)\n",
    "s"
   ]
  },
  {
   "cell_type": "code",
   "execution_count": 55,
   "metadata": {
    "ExecuteTime": {
     "end_time": "2019-03-20T12:21:22.504164Z",
     "start_time": "2019-03-20T12:21:22.496173Z"
    }
   },
   "outputs": [
    {
     "data": {
      "text/plain": [
       "Index(['Ohio', 'Oregon', 'Texas', 'Utah'], dtype='object')"
      ]
     },
     "execution_count": 55,
     "metadata": {},
     "output_type": "execute_result"
    }
   ],
   "source": [
    "s.index"
   ]
  },
  {
   "cell_type": "markdown",
   "metadata": {
    "ExecuteTime": {
     "end_time": "2018-12-12T12:46:02.441416Z",
     "start_time": "2018-12-12T12:46:02.434422Z"
    }
   },
   "source": [
    "**Create a Pandas Series with repeated indices**"
   ]
  },
  {
   "cell_type": "code",
   "execution_count": 56,
   "metadata": {
    "ExecuteTime": {
     "end_time": "2019-03-20T12:21:24.178416Z",
     "start_time": "2019-03-20T12:21:24.167424Z"
    }
   },
   "outputs": [
    {
     "data": {
      "text/plain": [
       "a   -0.883589\n",
       "b   -0.292810\n",
       "r   -0.333291\n",
       "a    0.483789\n",
       "c    1.633583\n",
       "a   -1.122912\n",
       "dtype: float64"
      ]
     },
     "execution_count": 56,
     "metadata": {},
     "output_type": "execute_result"
    }
   ],
   "source": [
    "s = pd.Series(np.random.randn(6), index=['a', 'b', 'r', 'a', 'c', 'a'])  # repeated indices\n",
    "s"
   ]
  },
  {
   "cell_type": "code",
   "execution_count": 59,
   "metadata": {
    "ExecuteTime": {
     "end_time": "2019-03-20T12:21:48.785812Z",
     "start_time": "2019-03-20T12:21:48.776816Z"
    }
   },
   "outputs": [
    {
     "data": {
      "text/plain": [
       "a   -0.883589\n",
       "a    0.483789\n",
       "a   -1.122912\n",
       "dtype: float64"
      ]
     },
     "execution_count": 59,
     "metadata": {},
     "output_type": "execute_result"
    }
   ],
   "source": [
    "s['a']               # extracts all values with index as 'a'"
   ]
  },
  {
   "cell_type": "markdown",
   "metadata": {
    "ExecuteTime": {
     "end_time": "2018-12-12T12:47:56.233363Z",
     "start_time": "2018-12-12T12:47:56.225372Z"
    }
   },
   "source": [
    "**Create a Pandas Series and update/change the index names**"
   ]
  },
  {
   "cell_type": "markdown",
   "metadata": {},
   "source": [
    "We can create a Series without specifying any index values/names and later we change and update it."
   ]
  },
  {
   "cell_type": "code",
   "execution_count": 68,
   "metadata": {
    "ExecuteTime": {
     "end_time": "2019-03-20T12:26:11.677174Z",
     "start_time": "2019-03-20T12:26:11.668179Z"
    }
   },
   "outputs": [
    {
     "name": "stdout",
     "output_type": "stream",
     "text": [
      "Panas Series Values: [1 3 5 nan 9.0 11.5 'hello']\n",
      "Pandas Seies Index (before updating the index):\n",
      " RangeIndex(start=0, stop=7, step=1)\n"
     ]
    }
   ],
   "source": [
    "s = pd.Series(data=[1, 3, 5, np.nan, 9.0, 11.5, 'hello'])  \n",
    "print (\"Panas Series Values:\", s.values)\n",
    "print (\"Pandas Seies Index (before updating the index):\\n\", s.index)"
   ]
  },
  {
   "cell_type": "code",
   "execution_count": 69,
   "metadata": {
    "ExecuteTime": {
     "end_time": "2019-03-20T12:26:11.860067Z",
     "start_time": "2019-03-20T12:26:11.852077Z"
    }
   },
   "outputs": [
    {
     "name": "stdout",
     "output_type": "stream",
     "text": [
      "Pandas Seies Index (after updating the index):\n",
      " Index(['a', 'b', 'r', 'a', 'c', 'a', 'd'], dtype='object')\n"
     ]
    }
   ],
   "source": [
    "s.index = ['a', 'b', 'r', 'a', 'c', 'a', 'd']         # updating the index names\n",
    "print (\"Pandas Seies Index (after updating the index):\\n\", s.index)"
   ]
  },
  {
   "cell_type": "code",
   "execution_count": 70,
   "metadata": {
    "ExecuteTime": {
     "end_time": "2019-03-20T12:26:13.290779Z",
     "start_time": "2019-03-20T12:26:13.282785Z"
    }
   },
   "outputs": [
    {
     "data": {
      "text/plain": [
       "a        1\n",
       "b        3\n",
       "r        5\n",
       "a      NaN\n",
       "c        9\n",
       "a     11.5\n",
       "d    hello\n",
       "dtype: object"
      ]
     },
     "execution_count": 70,
     "metadata": {},
     "output_type": "execute_result"
    }
   ],
   "source": [
    "s"
   ]
  },
  {
   "cell_type": "markdown",
   "metadata": {},
   "source": [
    "## `Dataframe`"
   ]
  },
  {
   "cell_type": "markdown",
   "metadata": {},
   "source": [
    "DataFrames are essentially multidimensional arrays with attached **row** and **column** labels, and often with heterogeneous types and/or missing data.\n",
    "\n",
    "<p><font size=\"3\" color=\"blue\">Two indexing, <code><font size=\"4\" color=\"blue\">index</p></code>for rows & <code><font size=\"4\" color=\"blue\">columns</p></code>for columns </font></p>"
   ]
  },
  {
   "cell_type": "markdown",
   "metadata": {},
   "source": [
    "**Create a DataFrame from a dictionary of pd.Series**"
   ]
  },
  {
   "cell_type": "markdown",
   "metadata": {},
   "source": [
    "`d` is a dictionary made of `pd.Series` values. Using `pd.DataFrame()`, the `d` dictionary is converted into a `DataFrame`.\n",
    "\n",
    "Since, the `Age` value for `Steven` is not given, `DataFrame` automatically fills it with `NaN`."
   ]
  },
  {
   "cell_type": "code",
   "execution_count": 77,
   "metadata": {
    "ExecuteTime": {
     "end_time": "2019-03-20T12:33:05.714408Z",
     "start_time": "2019-03-20T12:33:05.689428Z"
    }
   },
   "outputs": [
    {
     "data": {
      "text/html": [
       "<div>\n",
       "<style>\n",
       "    .dataframe thead tr:only-child th {\n",
       "        text-align: right;\n",
       "    }\n",
       "\n",
       "    .dataframe thead th {\n",
       "        text-align: left;\n",
       "    }\n",
       "\n",
       "    .dataframe tbody tr th {\n",
       "        vertical-align: top;\n",
       "    }\n",
       "</style>\n",
       "<table border=\"1\" class=\"dataframe\">\n",
       "  <thead>\n",
       "    <tr style=\"text-align: right;\">\n",
       "      <th></th>\n",
       "      <th>Age</th>\n",
       "      <th>Height</th>\n",
       "    </tr>\n",
       "  </thead>\n",
       "  <tbody>\n",
       "    <tr>\n",
       "      <th>Andrew</th>\n",
       "      <td>30.0</td>\n",
       "      <td>154</td>\n",
       "    </tr>\n",
       "    <tr>\n",
       "      <th>Emma</th>\n",
       "      <td>21.0</td>\n",
       "      <td>177</td>\n",
       "    </tr>\n",
       "    <tr>\n",
       "      <th>John</th>\n",
       "      <td>27.0</td>\n",
       "      <td>165</td>\n",
       "    </tr>\n",
       "    <tr>\n",
       "      <th>Steven</th>\n",
       "      <td>NaN</td>\n",
       "      <td>169</td>\n",
       "    </tr>\n",
       "  </tbody>\n",
       "</table>\n",
       "</div>"
      ],
      "text/plain": [
       "         Age  Height\n",
       "Andrew  30.0     154\n",
       "Emma    21.0     177\n",
       "John    27.0     165\n",
       "Steven   NaN     169"
      ]
     },
     "execution_count": 77,
     "metadata": {},
     "output_type": "execute_result"
    }
   ],
   "source": [
    "d = {'Age'    : pd.Series([27, 21, 30],         index=['John', 'Emma', 'Andrew']), \n",
    "     'Height' : pd.Series([165, 177, 154, 169], index=['John', 'Emma', 'Andrew', 'Steven'])}\n",
    "df_ds = pd.DataFrame(d)\n",
    "df_ds"
   ]
  },
  {
   "cell_type": "markdown",
   "metadata": {},
   "source": [
    "### `index`, `columns` & `values`"
   ]
  },
  {
   "cell_type": "code",
   "execution_count": 11,
   "metadata": {
    "ExecuteTime": {
     "end_time": "2018-12-12T14:43:41.990485Z",
     "start_time": "2018-12-12T14:43:41.983508Z"
    }
   },
   "outputs": [
    {
     "data": {
      "text/plain": [
       "Index(['Andrew', 'Emma', 'John', 'Steven'], dtype='object')"
      ]
     },
     "execution_count": 11,
     "metadata": {},
     "output_type": "execute_result"
    }
   ],
   "source": [
    "df_ds.index"
   ]
  },
  {
   "cell_type": "code",
   "execution_count": 12,
   "metadata": {
    "ExecuteTime": {
     "end_time": "2018-12-12T14:43:42.549897Z",
     "start_time": "2018-12-12T14:43:42.542883Z"
    }
   },
   "outputs": [
    {
     "data": {
      "text/plain": [
       "Index(['Age', 'Height'], dtype='object')"
      ]
     },
     "execution_count": 12,
     "metadata": {},
     "output_type": "execute_result"
    }
   ],
   "source": [
    "df_ds.columns"
   ]
  },
  {
   "cell_type": "code",
   "execution_count": 13,
   "metadata": {
    "ExecuteTime": {
     "end_time": "2018-12-12T14:43:42.846612Z",
     "start_time": "2018-12-12T14:43:42.838616Z"
    }
   },
   "outputs": [
    {
     "data": {
      "text/plain": [
       "array([[ 30., 154.],\n",
       "       [ 21., 177.],\n",
       "       [ 27., 165.],\n",
       "       [ nan, 169.]])"
      ]
     },
     "execution_count": 13,
     "metadata": {},
     "output_type": "execute_result"
    }
   ],
   "source": [
    "df_ds.values"
   ]
  },
  {
   "cell_type": "markdown",
   "metadata": {
    "ExecuteTime": {
     "end_time": "2018-12-12T13:55:15.576202Z",
     "start_time": "2018-12-12T13:55:15.569205Z"
    }
   },
   "source": [
    "The code below is expanded version of the above code."
   ]
  },
  {
   "cell_type": "code",
   "execution_count": 14,
   "metadata": {
    "ExecuteTime": {
     "end_time": "2018-12-12T14:43:47.844547Z",
     "start_time": "2018-12-12T14:43:47.823579Z"
    }
   },
   "outputs": [
    {
     "data": {
      "text/html": [
       "<div>\n",
       "<style>\n",
       "    .dataframe thead tr:only-child th {\n",
       "        text-align: right;\n",
       "    }\n",
       "\n",
       "    .dataframe thead th {\n",
       "        text-align: left;\n",
       "    }\n",
       "\n",
       "    .dataframe tbody tr th {\n",
       "        vertical-align: top;\n",
       "    }\n",
       "</style>\n",
       "<table border=\"1\" class=\"dataframe\">\n",
       "  <thead>\n",
       "    <tr style=\"text-align: right;\">\n",
       "      <th></th>\n",
       "      <th>Age</th>\n",
       "      <th>Height</th>\n",
       "    </tr>\n",
       "  </thead>\n",
       "  <tbody>\n",
       "    <tr>\n",
       "      <th>Andrew</th>\n",
       "      <td>30.0</td>\n",
       "      <td>154</td>\n",
       "    </tr>\n",
       "    <tr>\n",
       "      <th>Emma</th>\n",
       "      <td>21.0</td>\n",
       "      <td>177</td>\n",
       "    </tr>\n",
       "    <tr>\n",
       "      <th>John</th>\n",
       "      <td>27.0</td>\n",
       "      <td>165</td>\n",
       "    </tr>\n",
       "    <tr>\n",
       "      <th>Steven</th>\n",
       "      <td>NaN</td>\n",
       "      <td>169</td>\n",
       "    </tr>\n",
       "  </tbody>\n",
       "</table>\n",
       "</div>"
      ],
      "text/plain": [
       "         Age  Height\n",
       "Andrew  30.0     154\n",
       "Emma    21.0     177\n",
       "John    27.0     165\n",
       "Steven   NaN     169"
      ]
     },
     "execution_count": 14,
     "metadata": {},
     "output_type": "execute_result"
    }
   ],
   "source": [
    "s_1 = pd.Series([27, 21, 30],         index=['John', 'Emma', 'Andrew'])\n",
    "s_2 = pd.Series([165, 177, 154, 169], index=['John', 'Emma', 'Andrew', 'Steven'])\n",
    "d = {'Age'    : s_1,\n",
    "     'Height' : s_2}\n",
    "df_ds = pd.DataFrame(d)\n",
    "df_ds"
   ]
  },
  {
   "cell_type": "markdown",
   "metadata": {},
   "source": [
    "### Sorting using `sort_values(by='')`"
   ]
  },
  {
   "cell_type": "code",
   "execution_count": 17,
   "metadata": {
    "ExecuteTime": {
     "end_time": "2018-12-12T14:44:38.701209Z",
     "start_time": "2018-12-12T14:44:38.687219Z"
    }
   },
   "outputs": [
    {
     "data": {
      "text/html": [
       "<div>\n",
       "<style>\n",
       "    .dataframe thead tr:only-child th {\n",
       "        text-align: right;\n",
       "    }\n",
       "\n",
       "    .dataframe thead th {\n",
       "        text-align: left;\n",
       "    }\n",
       "\n",
       "    .dataframe tbody tr th {\n",
       "        vertical-align: top;\n",
       "    }\n",
       "</style>\n",
       "<table border=\"1\" class=\"dataframe\">\n",
       "  <thead>\n",
       "    <tr style=\"text-align: right;\">\n",
       "      <th></th>\n",
       "      <th>Age</th>\n",
       "      <th>Height</th>\n",
       "    </tr>\n",
       "  </thead>\n",
       "  <tbody>\n",
       "    <tr>\n",
       "      <th>Andrew</th>\n",
       "      <td>30.0</td>\n",
       "      <td>154</td>\n",
       "    </tr>\n",
       "    <tr>\n",
       "      <th>John</th>\n",
       "      <td>27.0</td>\n",
       "      <td>165</td>\n",
       "    </tr>\n",
       "    <tr>\n",
       "      <th>Emma</th>\n",
       "      <td>21.0</td>\n",
       "      <td>177</td>\n",
       "    </tr>\n",
       "    <tr>\n",
       "      <th>Steven</th>\n",
       "      <td>NaN</td>\n",
       "      <td>169</td>\n",
       "    </tr>\n",
       "  </tbody>\n",
       "</table>\n",
       "</div>"
      ],
      "text/plain": [
       "         Age  Height\n",
       "Andrew  30.0     154\n",
       "John    27.0     165\n",
       "Emma    21.0     177\n",
       "Steven   NaN     169"
      ]
     },
     "execution_count": 17,
     "metadata": {},
     "output_type": "execute_result"
    }
   ],
   "source": [
    "df_ds.sort_values(by=\"Age\", ascending=False)"
   ]
  },
  {
   "cell_type": "markdown",
   "metadata": {},
   "source": [
    "### indexing & slicing"
   ]
  },
  {
   "cell_type": "markdown",
   "metadata": {},
   "source": [
    "To extract all the columns of a set of rows. "
   ]
  },
  {
   "cell_type": "code",
   "execution_count": 155,
   "metadata": {
    "ExecuteTime": {
     "end_time": "2018-12-12T14:00:41.283638Z",
     "start_time": "2018-12-12T14:00:41.272645Z"
    }
   },
   "outputs": [
    {
     "data": {
      "text/html": [
       "<div>\n",
       "<style>\n",
       "    .dataframe thead tr:only-child th {\n",
       "        text-align: right;\n",
       "    }\n",
       "\n",
       "    .dataframe thead th {\n",
       "        text-align: left;\n",
       "    }\n",
       "\n",
       "    .dataframe tbody tr th {\n",
       "        vertical-align: top;\n",
       "    }\n",
       "</style>\n",
       "<table border=\"1\" class=\"dataframe\">\n",
       "  <thead>\n",
       "    <tr style=\"text-align: right;\">\n",
       "      <th></th>\n",
       "      <th>Age</th>\n",
       "      <th>Height</th>\n",
       "    </tr>\n",
       "  </thead>\n",
       "  <tbody>\n",
       "    <tr>\n",
       "      <th>Andrew</th>\n",
       "      <td>30.0</td>\n",
       "      <td>154</td>\n",
       "    </tr>\n",
       "  </tbody>\n",
       "</table>\n",
       "</div>"
      ],
      "text/plain": [
       "         Age  Height\n",
       "Andrew  30.0     154"
      ]
     },
     "execution_count": 155,
     "metadata": {},
     "output_type": "execute_result"
    }
   ],
   "source": [
    "df_ds['Andrew':'Andrew']          # slicing - returns a Pandas DataFrame"
   ]
  },
  {
   "cell_type": "code",
   "execution_count": 174,
   "metadata": {
    "ExecuteTime": {
     "end_time": "2018-12-12T14:08:11.071776Z",
     "start_time": "2018-12-12T14:08:11.056786Z"
    }
   },
   "outputs": [
    {
     "data": {
      "text/html": [
       "<div>\n",
       "<style>\n",
       "    .dataframe thead tr:only-child th {\n",
       "        text-align: right;\n",
       "    }\n",
       "\n",
       "    .dataframe thead th {\n",
       "        text-align: left;\n",
       "    }\n",
       "\n",
       "    .dataframe tbody tr th {\n",
       "        vertical-align: top;\n",
       "    }\n",
       "</style>\n",
       "<table border=\"1\" class=\"dataframe\">\n",
       "  <thead>\n",
       "    <tr style=\"text-align: right;\">\n",
       "      <th></th>\n",
       "      <th>Age</th>\n",
       "      <th>Height</th>\n",
       "    </tr>\n",
       "  </thead>\n",
       "  <tbody>\n",
       "    <tr>\n",
       "      <th>Andrew</th>\n",
       "      <td>30.0</td>\n",
       "      <td>154</td>\n",
       "    </tr>\n",
       "    <tr>\n",
       "      <th>Emma</th>\n",
       "      <td>21.0</td>\n",
       "      <td>177</td>\n",
       "    </tr>\n",
       "  </tbody>\n",
       "</table>\n",
       "</div>"
      ],
      "text/plain": [
       "         Age  Height\n",
       "Andrew  30.0     154\n",
       "Emma    21.0     177"
      ]
     },
     "execution_count": 174,
     "metadata": {},
     "output_type": "execute_result"
    }
   ],
   "source": [
    "df_ds[0:2]                        # we select the specific rows using default index no"
   ]
  },
  {
   "cell_type": "code",
   "execution_count": 146,
   "metadata": {
    "ExecuteTime": {
     "end_time": "2018-12-12T13:58:33.261807Z",
     "start_time": "2018-12-12T13:58:33.248838Z"
    }
   },
   "outputs": [
    {
     "data": {
      "text/html": [
       "<div>\n",
       "<style>\n",
       "    .dataframe thead tr:only-child th {\n",
       "        text-align: right;\n",
       "    }\n",
       "\n",
       "    .dataframe thead th {\n",
       "        text-align: left;\n",
       "    }\n",
       "\n",
       "    .dataframe tbody tr th {\n",
       "        vertical-align: top;\n",
       "    }\n",
       "</style>\n",
       "<table border=\"1\" class=\"dataframe\">\n",
       "  <thead>\n",
       "    <tr style=\"text-align: right;\">\n",
       "      <th></th>\n",
       "      <th>Age</th>\n",
       "      <th>Height</th>\n",
       "    </tr>\n",
       "  </thead>\n",
       "  <tbody>\n",
       "    <tr>\n",
       "      <th>Andrew</th>\n",
       "      <td>30.0</td>\n",
       "      <td>154</td>\n",
       "    </tr>\n",
       "    <tr>\n",
       "      <th>Emma</th>\n",
       "      <td>21.0</td>\n",
       "      <td>177</td>\n",
       "    </tr>\n",
       "  </tbody>\n",
       "</table>\n",
       "</div>"
      ],
      "text/plain": [
       "         Age  Height\n",
       "Andrew  30.0     154\n",
       "Emma    21.0     177"
      ]
     },
     "execution_count": 146,
     "metadata": {},
     "output_type": "execute_result"
    }
   ],
   "source": [
    "df_ds['Andrew':'Emma']            # we select the specific rows using index name"
   ]
  },
  {
   "cell_type": "code",
   "execution_count": 69,
   "metadata": {
    "ExecuteTime": {
     "end_time": "2018-12-12T15:19:32.423810Z",
     "start_time": "2018-12-12T15:19:32.414821Z"
    }
   },
   "outputs": [
    {
     "data": {
      "text/plain": [
       "Andrew    30.0\n",
       "Emma      21.0\n",
       "John      27.0\n",
       "Steven     NaN\n",
       "Name: Age, dtype: float64"
      ]
     },
     "execution_count": 69,
     "metadata": {},
     "output_type": "execute_result"
    }
   ],
   "source": [
    "df_ds[\"Age\"]                      # we select the specific column  \n",
    "                                  # returns a Pandas Series"
   ]
  },
  {
   "cell_type": "code",
   "execution_count": 173,
   "metadata": {
    "ExecuteTime": {
     "end_time": "2018-12-12T14:07:41.411704Z",
     "start_time": "2018-12-12T14:07:41.401719Z"
    }
   },
   "outputs": [
    {
     "data": {
      "text/plain": [
       "Andrew    30.0\n",
       "Emma      21.0\n",
       "Name: Age, dtype: float64"
      ]
     },
     "execution_count": 173,
     "metadata": {},
     "output_type": "execute_result"
    }
   ],
   "source": [
    "df_ds[\"Andrew\":\"Emma\"][\"Age\"]     # we select the specific rows & a column"
   ]
  },
  {
   "cell_type": "markdown",
   "metadata": {
    "ExecuteTime": {
     "end_time": "2018-12-12T13:52:58.360704Z",
     "start_time": "2018-12-12T13:52:58.353706Z"
    }
   },
   "source": [
    "**Create a DataFrame from a dictionary of lists**"
   ]
  },
  {
   "cell_type": "code",
   "execution_count": 167,
   "metadata": {
    "ExecuteTime": {
     "end_time": "2018-12-12T14:04:12.566849Z",
     "start_time": "2018-12-12T14:04:12.553856Z"
    }
   },
   "outputs": [
    {
     "data": {
      "text/html": [
       "<div>\n",
       "<style>\n",
       "    .dataframe thead tr:only-child th {\n",
       "        text-align: right;\n",
       "    }\n",
       "\n",
       "    .dataframe thead th {\n",
       "        text-align: left;\n",
       "    }\n",
       "\n",
       "    .dataframe tbody tr th {\n",
       "        vertical-align: top;\n",
       "    }\n",
       "</style>\n",
       "<table border=\"1\" class=\"dataframe\">\n",
       "  <thead>\n",
       "    <tr style=\"text-align: right;\">\n",
       "      <th></th>\n",
       "      <th>list1</th>\n",
       "      <th>list2</th>\n",
       "    </tr>\n",
       "  </thead>\n",
       "  <tbody>\n",
       "    <tr>\n",
       "      <th>0</th>\n",
       "      <td>1</td>\n",
       "      <td>2</td>\n",
       "    </tr>\n",
       "    <tr>\n",
       "      <th>1</th>\n",
       "      <td>2</td>\n",
       "      <td>4</td>\n",
       "    </tr>\n",
       "    <tr>\n",
       "      <th>2</th>\n",
       "      <td>3</td>\n",
       "      <td>6</td>\n",
       "    </tr>\n",
       "    <tr>\n",
       "      <th>3</th>\n",
       "      <td>4</td>\n",
       "      <td>8</td>\n",
       "    </tr>\n",
       "    <tr>\n",
       "      <th>4</th>\n",
       "      <td>5</td>\n",
       "      <td>10</td>\n",
       "    </tr>\n",
       "  </tbody>\n",
       "</table>\n",
       "</div>"
      ],
      "text/plain": [
       "   list1  list2\n",
       "0      1      2\n",
       "1      2      4\n",
       "2      3      6\n",
       "3      4      8\n",
       "4      5     10"
      ]
     },
     "execution_count": 167,
     "metadata": {},
     "output_type": "execute_result"
    }
   ],
   "source": [
    "# 2. Create from a list of dictionaries \n",
    "l_1 = [1, 2, 3, 4, 5]\n",
    "l_2 = [2, 4, 6, 8, 10]\n",
    "l_d = {'list1': l_1, 'list2':l_2}   \n",
    "df_dl = pd.DataFrame(l_d)\n",
    "df_dl"
   ]
  },
  {
   "cell_type": "markdown",
   "metadata": {},
   "source": [
    "We can also index and slice through the rows and columns of the above DataFrame."
   ]
  },
  {
   "cell_type": "code",
   "execution_count": 175,
   "metadata": {
    "ExecuteTime": {
     "end_time": "2018-12-12T14:08:52.991623Z",
     "start_time": "2018-12-12T14:08:52.978654Z"
    }
   },
   "outputs": [
    {
     "data": {
      "text/html": [
       "<div>\n",
       "<style>\n",
       "    .dataframe thead tr:only-child th {\n",
       "        text-align: right;\n",
       "    }\n",
       "\n",
       "    .dataframe thead th {\n",
       "        text-align: left;\n",
       "    }\n",
       "\n",
       "    .dataframe tbody tr th {\n",
       "        vertical-align: top;\n",
       "    }\n",
       "</style>\n",
       "<table border=\"1\" class=\"dataframe\">\n",
       "  <thead>\n",
       "    <tr style=\"text-align: right;\">\n",
       "      <th></th>\n",
       "      <th>list1</th>\n",
       "      <th>list2</th>\n",
       "    </tr>\n",
       "  </thead>\n",
       "  <tbody>\n",
       "    <tr>\n",
       "      <th>0</th>\n",
       "      <td>1</td>\n",
       "      <td>2</td>\n",
       "    </tr>\n",
       "    <tr>\n",
       "      <th>1</th>\n",
       "      <td>2</td>\n",
       "      <td>4</td>\n",
       "    </tr>\n",
       "    <tr>\n",
       "      <th>2</th>\n",
       "      <td>3</td>\n",
       "      <td>6</td>\n",
       "    </tr>\n",
       "  </tbody>\n",
       "</table>\n",
       "</div>"
      ],
      "text/plain": [
       "   list1  list2\n",
       "0      1      2\n",
       "1      2      4\n",
       "2      3      6"
      ]
     },
     "execution_count": 175,
     "metadata": {},
     "output_type": "execute_result"
    }
   ],
   "source": [
    "df_dl[0:3]"
   ]
  },
  {
   "cell_type": "code",
   "execution_count": 169,
   "metadata": {
    "ExecuteTime": {
     "end_time": "2018-12-12T14:05:29.985784Z",
     "start_time": "2018-12-12T14:05:29.976790Z"
    }
   },
   "outputs": [
    {
     "data": {
      "text/plain": [
       "0    1\n",
       "1    2\n",
       "2    3\n",
       "Name: list1, dtype: int64"
      ]
     },
     "execution_count": 169,
     "metadata": {},
     "output_type": "execute_result"
    }
   ],
   "source": [
    "df_dl[0:3]['list1']"
   ]
  },
  {
   "cell_type": "markdown",
   "metadata": {},
   "source": [
    "## Index Object\n",
    "Both the `Series` and `DataFrame` objects contain an explicit **`index`** that helps you reference and modify data. \n",
    "\n",
    "It is an `immutable array` and `ordered set`.\n",
    "- `immutable` - Values in the index cannot be changed\n",
    "- `ordered set` - The values will stay in the same sequence they are created (Similar to dictionary)"
   ]
  },
  {
   "cell_type": "code",
   "execution_count": 179,
   "metadata": {
    "ExecuteTime": {
     "end_time": "2018-12-12T14:21:19.762152Z",
     "start_time": "2018-12-12T14:21:19.752177Z"
    }
   },
   "outputs": [
    {
     "name": "stdout",
     "output_type": "stream",
     "text": [
      "Int64Index([1, 3, 5, 7, 9, 11], dtype='int64')\n",
      "Data type: <class 'pandas.core.indexes.numeric.Int64Index'>\n"
     ]
    }
   ],
   "source": [
    "idx1 = pd.Index([1, 3, 5, 7, 9, 11])\n",
    "idx2 = pd.Index([2, 4, 5, 7, 9, 12])\n",
    "\n",
    "print (idx1)\n",
    "print (\"Data type:\", type(idx1))"
   ]
  },
  {
   "cell_type": "markdown",
   "metadata": {},
   "source": [
    "### indexing and slicing"
   ]
  },
  {
   "cell_type": "code",
   "execution_count": 188,
   "metadata": {
    "ExecuteTime": {
     "end_time": "2018-12-12T14:22:47.342754Z",
     "start_time": "2018-12-12T14:22:47.335757Z"
    }
   },
   "outputs": [
    {
     "data": {
      "text/plain": [
       "5"
      ]
     },
     "execution_count": 188,
     "metadata": {},
     "output_type": "execute_result"
    }
   ],
   "source": [
    "idx1[2]                 # indexing"
   ]
  },
  {
   "cell_type": "code",
   "execution_count": 190,
   "metadata": {
    "ExecuteTime": {
     "end_time": "2018-12-12T14:23:02.294948Z",
     "start_time": "2018-12-12T14:23:02.287948Z"
    }
   },
   "outputs": [
    {
     "data": {
      "text/plain": [
       "Int64Index([5, 7, 9], dtype='int64')"
      ]
     },
     "execution_count": 190,
     "metadata": {},
     "output_type": "execute_result"
    }
   ],
   "source": [
    "idx1[2:5]               # slicing"
   ]
  },
  {
   "cell_type": "markdown",
   "metadata": {
    "ExecuteTime": {
     "end_time": "2018-12-12T14:23:25.599681Z",
     "start_time": "2018-12-12T14:23:25.591707Z"
    }
   },
   "source": [
    "### `size`,`shape`,`ndim`,`dtype`"
   ]
  },
  {
   "cell_type": "code",
   "execution_count": 195,
   "metadata": {
    "ExecuteTime": {
     "end_time": "2018-12-12T14:26:21.482359Z",
     "start_time": "2018-12-12T14:26:21.472365Z"
    }
   },
   "outputs": [
    {
     "name": "stdout",
     "output_type": "stream",
     "text": [
      "size of the index      : 6\n",
      "shape of the index     : (6,)\n",
      "dimension of the index : 1\n",
      "type of the index      : int64\n"
     ]
    }
   ],
   "source": [
    "print (\"size of the index      :\", idx1.size)    # can be applied to Series, DataFrame as well\n",
    "print (\"shape of the index     :\", idx1.shape)   # can be applied to Series, DataFrame as well\n",
    "print (\"dimension of the index :\", idx1.ndim)    # can be applied to Series, DataFrame as well\n",
    "print (\"type of the index      :\", idx1.dtype)   # can be applied to Series as well"
   ]
  },
  {
   "cell_type": "markdown",
   "metadata": {},
   "source": [
    "### Set operation - `&`,`|`,`^`"
   ]
  },
  {
   "cell_type": "markdown",
   "metadata": {},
   "source": [
    "https://c1.staticflickr.com/5/4162/34264296262_7cb1fb7395_o.jpg"
   ]
  },
  {
   "cell_type": "code",
   "execution_count": 207,
   "metadata": {
    "ExecuteTime": {
     "end_time": "2018-12-12T14:30:11.504100Z",
     "start_time": "2018-12-12T14:30:11.490097Z"
    }
   },
   "outputs": [
    {
     "name": "stdout",
     "output_type": "stream",
     "text": [
      "idx1                                  : Int64Index([1, 3, 5, 7, 9, 11], dtype='int64')\n",
      "idx2                                  : Int64Index([2, 4, 5, 7, 9, 12], dtype='int64') \n",
      "\n",
      "Intersection of idx1 and idx2         : Int64Index([5, 7, 9], dtype='int64')\n",
      "Union of idx1 and idx2                : Int64Index([1, 2, 3, 4, 5, 7, 9, 11, 12], dtype='int64')\n",
      "Symmetric difference of idx1 and idx2 : Int64Index([1, 2, 3, 4, 11, 12], dtype='int64')\n"
     ]
    }
   ],
   "source": [
    "print ('idx1                                  :', idx1)\n",
    "print ('idx2                                  :', idx2, \"\\n\")\n",
    "print (\"Intersection of idx1 and idx2         :\", idx1 & idx2)\n",
    "print (\"Union of idx1 and idx2                :\", idx1 | idx2)\n",
    "print (\"Symmetric difference of idx1 and idx2 :\", idx1 ^ idx2)"
   ]
  },
  {
   "cell_type": "markdown",
   "metadata": {},
   "source": [
    "# Basic Statistics"
   ]
  },
  {
   "cell_type": "code",
   "execution_count": 215,
   "metadata": {
    "ExecuteTime": {
     "end_time": "2018-12-12T14:34:07.947583Z",
     "start_time": "2018-12-12T14:34:07.920600Z"
    }
   },
   "outputs": [
    {
     "data": {
      "text/html": [
       "<div>\n",
       "<style>\n",
       "    .dataframe thead tr:only-child th {\n",
       "        text-align: right;\n",
       "    }\n",
       "\n",
       "    .dataframe thead th {\n",
       "        text-align: left;\n",
       "    }\n",
       "\n",
       "    .dataframe tbody tr th {\n",
       "        vertical-align: top;\n",
       "    }\n",
       "</style>\n",
       "<table border=\"1\" class=\"dataframe\">\n",
       "  <thead>\n",
       "    <tr style=\"text-align: right;\">\n",
       "      <th></th>\n",
       "      <th>area_total</th>\n",
       "      <th>area_water</th>\n",
       "      <th>population</th>\n",
       "    </tr>\n",
       "  </thead>\n",
       "  <tbody>\n",
       "    <tr>\n",
       "      <th>AZ</th>\n",
       "      <td>295.2</td>\n",
       "      <td>1.0</td>\n",
       "      <td>6.90</td>\n",
       "    </tr>\n",
       "    <tr>\n",
       "      <th>CA</th>\n",
       "      <td>424.0</td>\n",
       "      <td>20.5</td>\n",
       "      <td>39.30</td>\n",
       "    </tr>\n",
       "    <tr>\n",
       "      <th>FL</th>\n",
       "      <td>170.3</td>\n",
       "      <td>31.4</td>\n",
       "      <td>20.60</td>\n",
       "    </tr>\n",
       "    <tr>\n",
       "      <th>HI</th>\n",
       "      <td>28.3</td>\n",
       "      <td>11.7</td>\n",
       "      <td>1.43</td>\n",
       "    </tr>\n",
       "    <tr>\n",
       "      <th>MI</th>\n",
       "      <td>250.5</td>\n",
       "      <td>104.1</td>\n",
       "      <td>9.93</td>\n",
       "    </tr>\n",
       "    <tr>\n",
       "      <th>PA</th>\n",
       "      <td>119.3</td>\n",
       "      <td>3.4</td>\n",
       "      <td>12.80</td>\n",
       "    </tr>\n",
       "    <tr>\n",
       "      <th>TX</th>\n",
       "      <td>695.7</td>\n",
       "      <td>19.1</td>\n",
       "      <td>27.90</td>\n",
       "    </tr>\n",
       "    <tr>\n",
       "      <th>VA</th>\n",
       "      <td>110.8</td>\n",
       "      <td>8.5</td>\n",
       "      <td>8.40</td>\n",
       "    </tr>\n",
       "    <tr>\n",
       "      <th>WA</th>\n",
       "      <td>184.7</td>\n",
       "      <td>12.5</td>\n",
       "      <td>7.30</td>\n",
       "    </tr>\n",
       "  </tbody>\n",
       "</table>\n",
       "</div>"
      ],
      "text/plain": [
       "    area_total  area_water  population\n",
       "AZ       295.2         1.0        6.90\n",
       "CA       424.0        20.5       39.30\n",
       "FL       170.3        31.4       20.60\n",
       "HI        28.3        11.7        1.43\n",
       "MI       250.5       104.1        9.93\n",
       "PA       119.3         3.4       12.80\n",
       "TX       695.7        19.1       27.90\n",
       "VA       110.8         8.5        8.40\n",
       "WA       184.7        12.5        7.30"
      ]
     },
     "execution_count": 215,
     "metadata": {},
     "output_type": "execute_result"
    }
   ],
   "source": [
    "# Create a DataFrame\n",
    "# AZ = Arizona, CA = California, FL = Florida\n",
    "# HI = Hawaii,  MI = Michigan,   PA = Pennsylvania\n",
    "# TX = Texas,   VA = Virginia,   WA = Washington\n",
    "\n",
    "s_popu  = pd.Series([6.9,   39.3,  20.6,  1.43, 9.93,  12.8,  27.9,  8.4,   7.3])    # million persons\n",
    "s_area  = pd.Series([295.2, 424.0, 170.3, 28.3, 250.5, 119.3, 695.7, 110.8, 184.7])  # thousand km^2\n",
    "s_warea = pd.Series([1.0,   20.5,  31.4,  11.7, 104.1, 3.4,   19.1,  8.5,   12.5])   # thousand km^2\n",
    "\n",
    "d = {'area_water'  : s_warea, \n",
    "     'population'  : s_popu,\n",
    "     'area_total'  : s_area\n",
    "    }\n",
    "\n",
    "df = pd.DataFrame(d)\n",
    "df.index = ['AZ', 'CA', 'FL', 'HI', 'MI', 'PA', 'TX', 'VA', 'WA']\n",
    "df"
   ]
  },
  {
   "cell_type": "markdown",
   "metadata": {
    "ExecuteTime": {
     "end_time": "2018-12-12T14:35:06.188928Z",
     "start_time": "2018-12-12T14:35:06.183935Z"
    }
   },
   "source": [
    "## `mean`, `min`, `max`,`std`"
   ]
  },
  {
   "cell_type": "code",
   "execution_count": 223,
   "metadata": {
    "ExecuteTime": {
     "end_time": "2018-12-12T14:36:31.495709Z",
     "start_time": "2018-12-12T14:36:31.488710Z"
    }
   },
   "outputs": [
    {
     "name": "stdout",
     "output_type": "stream",
     "text": [
      "The average of ...\n",
      " area_total    253.200000\n",
      "area_water     23.577778\n",
      "population     14.951111\n",
      "dtype: float64\n"
     ]
    }
   ],
   "source": [
    "df_mean = df.mean(axis = 0)                  # axis=0 => Calculate average along the columns\n",
    "print (\"The average of ...\\n\", df_mean)"
   ]
  },
  {
   "cell_type": "code",
   "execution_count": 224,
   "metadata": {
    "ExecuteTime": {
     "end_time": "2018-12-12T14:37:23.209589Z",
     "start_time": "2018-12-12T14:37:23.200611Z"
    }
   },
   "outputs": [
    {
     "name": "stdout",
     "output_type": "stream",
     "text": [
      "The minimum of ...\n",
      " area_total    28.30\n",
      "area_water     1.00\n",
      "population     1.43\n",
      "dtype: float64\n"
     ]
    }
   ],
   "source": [
    "df_min = df.min(axis = 0)                   # axis=0 => Calculate average along the columns\n",
    "print (\"The minimum of ...\\n\", df_min)"
   ]
  },
  {
   "cell_type": "code",
   "execution_count": 225,
   "metadata": {
    "ExecuteTime": {
     "end_time": "2018-12-12T14:37:33.059075Z",
     "start_time": "2018-12-12T14:37:33.051080Z"
    }
   },
   "outputs": [
    {
     "name": "stdout",
     "output_type": "stream",
     "text": [
      "The maximum of ...\n",
      " area_total    695.7\n",
      "area_water    104.1\n",
      "population     39.3\n",
      "dtype: float64\n"
     ]
    }
   ],
   "source": [
    "df_max = df.max(axis = 0)                   # axis=0 => Calculate average along the columns\n",
    "print (\"The maximum of ...\\n\", df_max)"
   ]
  },
  {
   "cell_type": "code",
   "execution_count": 229,
   "metadata": {
    "ExecuteTime": {
     "end_time": "2018-12-12T14:39:01.554729Z",
     "start_time": "2018-12-12T14:39:01.544757Z"
    }
   },
   "outputs": [
    {
     "name": "stdout",
     "output_type": "stream",
     "text": [
      "The standard deviation of ...\n",
      " area_total    202.207140\n",
      "area_water     31.588320\n",
      "population     12.100559\n",
      "dtype: float64\n"
     ]
    }
   ],
   "source": [
    "df_std = df.std(axis = 0)                   # axis=0 => Calculate average along the columns\n",
    "print (\"The standard deviation of ...\\n\", df_std)"
   ]
  },
  {
   "cell_type": "markdown",
   "metadata": {
    "ExecuteTime": {
     "end_time": "2018-12-12T14:38:26.300798Z",
     "start_time": "2018-12-12T14:38:26.295792Z"
    }
   },
   "source": [
    "## `corr`"
   ]
  },
  {
   "cell_type": "code",
   "execution_count": 230,
   "metadata": {
    "ExecuteTime": {
     "end_time": "2018-12-12T14:39:25.086766Z",
     "start_time": "2018-12-12T14:39:25.072796Z"
    }
   },
   "outputs": [
    {
     "name": "stdout",
     "output_type": "stream",
     "text": [
      "The correlation between the columns are ...\n",
      "             area_total  area_water  population\n",
      "area_total    1.000000    0.077453    0.709171\n",
      "area_water    0.077453    1.000000    0.024941\n",
      "population    0.709171    0.024941    1.000000\n"
     ]
    }
   ],
   "source": [
    "df_corr = df.corr()                  \n",
    "print (\"The correlation between the columns are ...\\n\", df_corr)"
   ]
  },
  {
   "cell_type": "markdown",
   "metadata": {},
   "source": [
    "# `DataFrame` - Revisited in detail"
   ]
  },
  {
   "cell_type": "markdown",
   "metadata": {},
   "source": [
    "## `read_csv()`"
   ]
  },
  {
   "cell_type": "code",
   "execution_count": 5,
   "metadata": {
    "ExecuteTime": {
     "end_time": "2018-12-12T14:41:57.455756Z",
     "start_time": "2018-12-12T14:41:56.687639Z"
    },
    "scrolled": true
   },
   "outputs": [
    {
     "data": {
      "text/html": [
       "<div>\n",
       "<style>\n",
       "    .dataframe thead tr:only-child th {\n",
       "        text-align: right;\n",
       "    }\n",
       "\n",
       "    .dataframe thead th {\n",
       "        text-align: left;\n",
       "    }\n",
       "\n",
       "    .dataframe tbody tr th {\n",
       "        vertical-align: top;\n",
       "    }\n",
       "</style>\n",
       "<table border=\"1\" class=\"dataframe\">\n",
       "  <thead>\n",
       "    <tr style=\"text-align: right;\">\n",
       "      <th></th>\n",
       "      <th>Name</th>\n",
       "      <th>PClass</th>\n",
       "      <th>Age</th>\n",
       "      <th>Sex</th>\n",
       "      <th>Survived</th>\n",
       "    </tr>\n",
       "  </thead>\n",
       "  <tbody>\n",
       "    <tr>\n",
       "      <th>0</th>\n",
       "      <td>Allen, Miss Elisabeth Walton</td>\n",
       "      <td>1st</td>\n",
       "      <td>29.00</td>\n",
       "      <td>female</td>\n",
       "      <td>1</td>\n",
       "    </tr>\n",
       "    <tr>\n",
       "      <th>1</th>\n",
       "      <td>Allison, Miss Helen Loraine</td>\n",
       "      <td>1st</td>\n",
       "      <td>2.00</td>\n",
       "      <td>female</td>\n",
       "      <td>0</td>\n",
       "    </tr>\n",
       "    <tr>\n",
       "      <th>2</th>\n",
       "      <td>Allison, Mr Hudson Joshua Creighton</td>\n",
       "      <td>1st</td>\n",
       "      <td>30.00</td>\n",
       "      <td>male</td>\n",
       "      <td>0</td>\n",
       "    </tr>\n",
       "    <tr>\n",
       "      <th>3</th>\n",
       "      <td>Allison, Mrs Hudson JC (Bessie Waldo Daniels)</td>\n",
       "      <td>1st</td>\n",
       "      <td>25.00</td>\n",
       "      <td>female</td>\n",
       "      <td>0</td>\n",
       "    </tr>\n",
       "    <tr>\n",
       "      <th>4</th>\n",
       "      <td>Allison, Master Hudson Trevor</td>\n",
       "      <td>1st</td>\n",
       "      <td>0.92</td>\n",
       "      <td>male</td>\n",
       "      <td>1</td>\n",
       "    </tr>\n",
       "    <tr>\n",
       "      <th>5</th>\n",
       "      <td>Anderson, Mr Harry</td>\n",
       "      <td>1st</td>\n",
       "      <td>47.00</td>\n",
       "      <td>male</td>\n",
       "      <td>1</td>\n",
       "    </tr>\n",
       "    <tr>\n",
       "      <th>6</th>\n",
       "      <td>Andrews, Miss Kornelia Theodosia</td>\n",
       "      <td>1st</td>\n",
       "      <td>63.00</td>\n",
       "      <td>female</td>\n",
       "      <td>1</td>\n",
       "    </tr>\n",
       "    <tr>\n",
       "      <th>7</th>\n",
       "      <td>Andrews, Mr Thomas, jr</td>\n",
       "      <td>1st</td>\n",
       "      <td>39.00</td>\n",
       "      <td>male</td>\n",
       "      <td>0</td>\n",
       "    </tr>\n",
       "    <tr>\n",
       "      <th>8</th>\n",
       "      <td>Appleton, Mrs Edward Dale (Charlotte Lamson)</td>\n",
       "      <td>1st</td>\n",
       "      <td>58.00</td>\n",
       "      <td>female</td>\n",
       "      <td>1</td>\n",
       "    </tr>\n",
       "    <tr>\n",
       "      <th>9</th>\n",
       "      <td>Artagaveytia, Mr Ramon</td>\n",
       "      <td>1st</td>\n",
       "      <td>71.00</td>\n",
       "      <td>male</td>\n",
       "      <td>0</td>\n",
       "    </tr>\n",
       "    <tr>\n",
       "      <th>10</th>\n",
       "      <td>Astor, Colonel John Jacob</td>\n",
       "      <td>1st</td>\n",
       "      <td>47.00</td>\n",
       "      <td>male</td>\n",
       "      <td>0</td>\n",
       "    </tr>\n",
       "    <tr>\n",
       "      <th>11</th>\n",
       "      <td>Astor, Mrs John Jacob (Madeleine Talmadge Force)</td>\n",
       "      <td>1st</td>\n",
       "      <td>19.00</td>\n",
       "      <td>female</td>\n",
       "      <td>1</td>\n",
       "    </tr>\n",
       "    <tr>\n",
       "      <th>12</th>\n",
       "      <td>Aubert, Mrs Leontine Pauline</td>\n",
       "      <td>1st</td>\n",
       "      <td>NaN</td>\n",
       "      <td>female</td>\n",
       "      <td>1</td>\n",
       "    </tr>\n",
       "    <tr>\n",
       "      <th>13</th>\n",
       "      <td>Barkworth, Mr Algernon H</td>\n",
       "      <td>1st</td>\n",
       "      <td>NaN</td>\n",
       "      <td>male</td>\n",
       "      <td>1</td>\n",
       "    </tr>\n",
       "    <tr>\n",
       "      <th>14</th>\n",
       "      <td>Baumann, Mr John D</td>\n",
       "      <td>1st</td>\n",
       "      <td>NaN</td>\n",
       "      <td>male</td>\n",
       "      <td>0</td>\n",
       "    </tr>\n",
       "    <tr>\n",
       "      <th>15</th>\n",
       "      <td>Baxter, Mrs James (Helene DeLaudeniere Chaput)</td>\n",
       "      <td>1st</td>\n",
       "      <td>50.00</td>\n",
       "      <td>female</td>\n",
       "      <td>1</td>\n",
       "    </tr>\n",
       "    <tr>\n",
       "      <th>16</th>\n",
       "      <td>Baxter, Mr Quigg Edmond</td>\n",
       "      <td>1st</td>\n",
       "      <td>24.00</td>\n",
       "      <td>male</td>\n",
       "      <td>0</td>\n",
       "    </tr>\n",
       "    <tr>\n",
       "      <th>17</th>\n",
       "      <td>Beattie, Mr Thomson</td>\n",
       "      <td>1st</td>\n",
       "      <td>36.00</td>\n",
       "      <td>male</td>\n",
       "      <td>0</td>\n",
       "    </tr>\n",
       "    <tr>\n",
       "      <th>18</th>\n",
       "      <td>Beckwith, Mr Richard Leonard</td>\n",
       "      <td>1st</td>\n",
       "      <td>37.00</td>\n",
       "      <td>male</td>\n",
       "      <td>1</td>\n",
       "    </tr>\n",
       "    <tr>\n",
       "      <th>19</th>\n",
       "      <td>Beckwith, Mrs Richard Leonard (Sallie Monypeny)</td>\n",
       "      <td>1st</td>\n",
       "      <td>47.00</td>\n",
       "      <td>female</td>\n",
       "      <td>1</td>\n",
       "    </tr>\n",
       "    <tr>\n",
       "      <th>20</th>\n",
       "      <td>Behr, Mr Karl Howell</td>\n",
       "      <td>1st</td>\n",
       "      <td>26.00</td>\n",
       "      <td>male</td>\n",
       "      <td>1</td>\n",
       "    </tr>\n",
       "    <tr>\n",
       "      <th>21</th>\n",
       "      <td>Birnbaum, Mr Jakob</td>\n",
       "      <td>1st</td>\n",
       "      <td>25.00</td>\n",
       "      <td>male</td>\n",
       "      <td>0</td>\n",
       "    </tr>\n",
       "    <tr>\n",
       "      <th>22</th>\n",
       "      <td>Bishop, Mr Dickinson H</td>\n",
       "      <td>1st</td>\n",
       "      <td>25.00</td>\n",
       "      <td>male</td>\n",
       "      <td>1</td>\n",
       "    </tr>\n",
       "    <tr>\n",
       "      <th>23</th>\n",
       "      <td>Bishop, Mrs Dickinson H (Helen Walton)</td>\n",
       "      <td>1st</td>\n",
       "      <td>19.00</td>\n",
       "      <td>female</td>\n",
       "      <td>1</td>\n",
       "    </tr>\n",
       "    <tr>\n",
       "      <th>24</th>\n",
       "      <td>Bjornstrm-Steffansson, Mr Mauritz Hakan</td>\n",
       "      <td>1st</td>\n",
       "      <td>28.00</td>\n",
       "      <td>male</td>\n",
       "      <td>1</td>\n",
       "    </tr>\n",
       "    <tr>\n",
       "      <th>25</th>\n",
       "      <td>Blackwell, Mr Stephen Weart</td>\n",
       "      <td>1st</td>\n",
       "      <td>45.00</td>\n",
       "      <td>male</td>\n",
       "      <td>0</td>\n",
       "    </tr>\n",
       "    <tr>\n",
       "      <th>26</th>\n",
       "      <td>Blank, Mr Henry</td>\n",
       "      <td>1st</td>\n",
       "      <td>39.00</td>\n",
       "      <td>male</td>\n",
       "      <td>1</td>\n",
       "    </tr>\n",
       "    <tr>\n",
       "      <th>27</th>\n",
       "      <td>Bonnell, Miss Caroline</td>\n",
       "      <td>1st</td>\n",
       "      <td>30.00</td>\n",
       "      <td>female</td>\n",
       "      <td>1</td>\n",
       "    </tr>\n",
       "    <tr>\n",
       "      <th>28</th>\n",
       "      <td>Bonnell, Miss Elizabeth</td>\n",
       "      <td>1st</td>\n",
       "      <td>58.00</td>\n",
       "      <td>female</td>\n",
       "      <td>1</td>\n",
       "    </tr>\n",
       "    <tr>\n",
       "      <th>29</th>\n",
       "      <td>Borebank, Mr John James</td>\n",
       "      <td>1st</td>\n",
       "      <td>NaN</td>\n",
       "      <td>male</td>\n",
       "      <td>0</td>\n",
       "    </tr>\n",
       "    <tr>\n",
       "      <th>...</th>\n",
       "      <td>...</td>\n",
       "      <td>...</td>\n",
       "      <td>...</td>\n",
       "      <td>...</td>\n",
       "      <td>...</td>\n",
       "    </tr>\n",
       "    <tr>\n",
       "      <th>1282</th>\n",
       "      <td>Vestrom, Miss Hulda Amanda Adolfina</td>\n",
       "      <td>3rd</td>\n",
       "      <td>14.00</td>\n",
       "      <td>female</td>\n",
       "      <td>0</td>\n",
       "    </tr>\n",
       "    <tr>\n",
       "      <th>1283</th>\n",
       "      <td>Vonk, Mr Jenko</td>\n",
       "      <td>3rd</td>\n",
       "      <td>22.00</td>\n",
       "      <td>male</td>\n",
       "      <td>0</td>\n",
       "    </tr>\n",
       "    <tr>\n",
       "      <th>1284</th>\n",
       "      <td>Ware, Mr Frederick</td>\n",
       "      <td>3rd</td>\n",
       "      <td>NaN</td>\n",
       "      <td>male</td>\n",
       "      <td>0</td>\n",
       "    </tr>\n",
       "    <tr>\n",
       "      <th>1285</th>\n",
       "      <td>Warren, Mr Charles William</td>\n",
       "      <td>3rd</td>\n",
       "      <td>NaN</td>\n",
       "      <td>male</td>\n",
       "      <td>0</td>\n",
       "    </tr>\n",
       "    <tr>\n",
       "      <th>1286</th>\n",
       "      <td>Wazli, Mr Yousif</td>\n",
       "      <td>3rd</td>\n",
       "      <td>NaN</td>\n",
       "      <td>male</td>\n",
       "      <td>0</td>\n",
       "    </tr>\n",
       "    <tr>\n",
       "      <th>1287</th>\n",
       "      <td>Webber, Mr James</td>\n",
       "      <td>3rd</td>\n",
       "      <td>NaN</td>\n",
       "      <td>male</td>\n",
       "      <td>0</td>\n",
       "    </tr>\n",
       "    <tr>\n",
       "      <th>1288</th>\n",
       "      <td>Wennerstrom, Mr August Edvard</td>\n",
       "      <td>3rd</td>\n",
       "      <td>NaN</td>\n",
       "      <td>male</td>\n",
       "      <td>1</td>\n",
       "    </tr>\n",
       "    <tr>\n",
       "      <th>1289</th>\n",
       "      <td>Wenzel, Mr Linhart</td>\n",
       "      <td>3rd</td>\n",
       "      <td>NaN</td>\n",
       "      <td>male</td>\n",
       "      <td>0</td>\n",
       "    </tr>\n",
       "    <tr>\n",
       "      <th>1290</th>\n",
       "      <td>Widegren, Mr Charles Peter</td>\n",
       "      <td>3rd</td>\n",
       "      <td>51.00</td>\n",
       "      <td>male</td>\n",
       "      <td>0</td>\n",
       "    </tr>\n",
       "    <tr>\n",
       "      <th>1291</th>\n",
       "      <td>Wiklund, Mr Jacob Alfred</td>\n",
       "      <td>3rd</td>\n",
       "      <td>18.00</td>\n",
       "      <td>male</td>\n",
       "      <td>0</td>\n",
       "    </tr>\n",
       "    <tr>\n",
       "      <th>1292</th>\n",
       "      <td>Wilkes, Mrs Ellen</td>\n",
       "      <td>3rd</td>\n",
       "      <td>45.00</td>\n",
       "      <td>female</td>\n",
       "      <td>1</td>\n",
       "    </tr>\n",
       "    <tr>\n",
       "      <th>1293</th>\n",
       "      <td>Willer, Mr Aaron</td>\n",
       "      <td>3rd</td>\n",
       "      <td>NaN</td>\n",
       "      <td>male</td>\n",
       "      <td>0</td>\n",
       "    </tr>\n",
       "    <tr>\n",
       "      <th>1294</th>\n",
       "      <td>Willey, Mr Edward</td>\n",
       "      <td>3rd</td>\n",
       "      <td>NaN</td>\n",
       "      <td>male</td>\n",
       "      <td>0</td>\n",
       "    </tr>\n",
       "    <tr>\n",
       "      <th>1295</th>\n",
       "      <td>Williams, Mr Howard Hugh</td>\n",
       "      <td>3rd</td>\n",
       "      <td>NaN</td>\n",
       "      <td>male</td>\n",
       "      <td>0</td>\n",
       "    </tr>\n",
       "    <tr>\n",
       "      <th>1296</th>\n",
       "      <td>Williams, Mr Leslie</td>\n",
       "      <td>3rd</td>\n",
       "      <td>28.00</td>\n",
       "      <td>male</td>\n",
       "      <td>0</td>\n",
       "    </tr>\n",
       "    <tr>\n",
       "      <th>1297</th>\n",
       "      <td>Windelov, Mr Einar</td>\n",
       "      <td>3rd</td>\n",
       "      <td>21.00</td>\n",
       "      <td>male</td>\n",
       "      <td>0</td>\n",
       "    </tr>\n",
       "    <tr>\n",
       "      <th>1298</th>\n",
       "      <td>Wirz, Mr Albert</td>\n",
       "      <td>3rd</td>\n",
       "      <td>27.00</td>\n",
       "      <td>male</td>\n",
       "      <td>0</td>\n",
       "    </tr>\n",
       "    <tr>\n",
       "      <th>1299</th>\n",
       "      <td>Wiseman, Mr Phillippe</td>\n",
       "      <td>3rd</td>\n",
       "      <td>NaN</td>\n",
       "      <td>male</td>\n",
       "      <td>0</td>\n",
       "    </tr>\n",
       "    <tr>\n",
       "      <th>1300</th>\n",
       "      <td>Wittevrongel, Mr Camiel</td>\n",
       "      <td>3rd</td>\n",
       "      <td>36.00</td>\n",
       "      <td>male</td>\n",
       "      <td>0</td>\n",
       "    </tr>\n",
       "    <tr>\n",
       "      <th>1301</th>\n",
       "      <td>Yalsevac, Mr Ivan</td>\n",
       "      <td>3rd</td>\n",
       "      <td>NaN</td>\n",
       "      <td>male</td>\n",
       "      <td>1</td>\n",
       "    </tr>\n",
       "    <tr>\n",
       "      <th>1302</th>\n",
       "      <td>Yasbeck, Mr Antoni</td>\n",
       "      <td>3rd</td>\n",
       "      <td>27.00</td>\n",
       "      <td>male</td>\n",
       "      <td>0</td>\n",
       "    </tr>\n",
       "    <tr>\n",
       "      <th>1303</th>\n",
       "      <td>Yasbeck, Mrs Antoni</td>\n",
       "      <td>3rd</td>\n",
       "      <td>15.00</td>\n",
       "      <td>female</td>\n",
       "      <td>1</td>\n",
       "    </tr>\n",
       "    <tr>\n",
       "      <th>1304</th>\n",
       "      <td>Youssef, Mr Gerios</td>\n",
       "      <td>3rd</td>\n",
       "      <td>NaN</td>\n",
       "      <td>male</td>\n",
       "      <td>0</td>\n",
       "    </tr>\n",
       "    <tr>\n",
       "      <th>1305</th>\n",
       "      <td>Zabour, Miss Hileni</td>\n",
       "      <td>3rd</td>\n",
       "      <td>NaN</td>\n",
       "      <td>female</td>\n",
       "      <td>0</td>\n",
       "    </tr>\n",
       "    <tr>\n",
       "      <th>1306</th>\n",
       "      <td>Zabour, Miss Tamini</td>\n",
       "      <td>3rd</td>\n",
       "      <td>NaN</td>\n",
       "      <td>female</td>\n",
       "      <td>0</td>\n",
       "    </tr>\n",
       "    <tr>\n",
       "      <th>1307</th>\n",
       "      <td>Zakarian, Mr Artun</td>\n",
       "      <td>3rd</td>\n",
       "      <td>27.00</td>\n",
       "      <td>male</td>\n",
       "      <td>0</td>\n",
       "    </tr>\n",
       "    <tr>\n",
       "      <th>1308</th>\n",
       "      <td>Zakarian, Mr Maprieder</td>\n",
       "      <td>3rd</td>\n",
       "      <td>26.00</td>\n",
       "      <td>male</td>\n",
       "      <td>0</td>\n",
       "    </tr>\n",
       "    <tr>\n",
       "      <th>1309</th>\n",
       "      <td>Zenni, Mr Philip</td>\n",
       "      <td>3rd</td>\n",
       "      <td>22.00</td>\n",
       "      <td>male</td>\n",
       "      <td>0</td>\n",
       "    </tr>\n",
       "    <tr>\n",
       "      <th>1310</th>\n",
       "      <td>Lievens, Mr Rene</td>\n",
       "      <td>3rd</td>\n",
       "      <td>24.00</td>\n",
       "      <td>male</td>\n",
       "      <td>0</td>\n",
       "    </tr>\n",
       "    <tr>\n",
       "      <th>1311</th>\n",
       "      <td>Zimmerman, Leo</td>\n",
       "      <td>3rd</td>\n",
       "      <td>29.00</td>\n",
       "      <td>male</td>\n",
       "      <td>0</td>\n",
       "    </tr>\n",
       "  </tbody>\n",
       "</table>\n",
       "<p>1312 rows × 5 columns</p>\n",
       "</div>"
      ],
      "text/plain": [
       "                                                  Name PClass    Age     Sex  \\\n",
       "0                         Allen, Miss Elisabeth Walton    1st  29.00  female   \n",
       "1                          Allison, Miss Helen Loraine    1st   2.00  female   \n",
       "2                  Allison, Mr Hudson Joshua Creighton    1st  30.00    male   \n",
       "3        Allison, Mrs Hudson JC (Bessie Waldo Daniels)    1st  25.00  female   \n",
       "4                        Allison, Master Hudson Trevor    1st   0.92    male   \n",
       "5                                   Anderson, Mr Harry    1st  47.00    male   \n",
       "6                     Andrews, Miss Kornelia Theodosia    1st  63.00  female   \n",
       "7                               Andrews, Mr Thomas, jr    1st  39.00    male   \n",
       "8         Appleton, Mrs Edward Dale (Charlotte Lamson)    1st  58.00  female   \n",
       "9                               Artagaveytia, Mr Ramon    1st  71.00    male   \n",
       "10                           Astor, Colonel John Jacob    1st  47.00    male   \n",
       "11    Astor, Mrs John Jacob (Madeleine Talmadge Force)    1st  19.00  female   \n",
       "12                        Aubert, Mrs Leontine Pauline    1st    NaN  female   \n",
       "13                            Barkworth, Mr Algernon H    1st    NaN    male   \n",
       "14                                  Baumann, Mr John D    1st    NaN    male   \n",
       "15      Baxter, Mrs James (Helene DeLaudeniere Chaput)    1st  50.00  female   \n",
       "16                             Baxter, Mr Quigg Edmond    1st  24.00    male   \n",
       "17                                 Beattie, Mr Thomson    1st  36.00    male   \n",
       "18                        Beckwith, Mr Richard Leonard    1st  37.00    male   \n",
       "19     Beckwith, Mrs Richard Leonard (Sallie Monypeny)    1st  47.00  female   \n",
       "20                                Behr, Mr Karl Howell    1st  26.00    male   \n",
       "21                                  Birnbaum, Mr Jakob    1st  25.00    male   \n",
       "22                              Bishop, Mr Dickinson H    1st  25.00    male   \n",
       "23              Bishop, Mrs Dickinson H (Helen Walton)    1st  19.00  female   \n",
       "24             Bjornstrm-Steffansson, Mr Mauritz Hakan    1st  28.00    male   \n",
       "25                         Blackwell, Mr Stephen Weart    1st  45.00    male   \n",
       "26                                     Blank, Mr Henry    1st  39.00    male   \n",
       "27                              Bonnell, Miss Caroline    1st  30.00  female   \n",
       "28                             Bonnell, Miss Elizabeth    1st  58.00  female   \n",
       "29                             Borebank, Mr John James    1st    NaN    male   \n",
       "...                                                ...    ...    ...     ...   \n",
       "1282               Vestrom, Miss Hulda Amanda Adolfina    3rd  14.00  female   \n",
       "1283                                    Vonk, Mr Jenko    3rd  22.00    male   \n",
       "1284                                Ware, Mr Frederick    3rd    NaN    male   \n",
       "1285                        Warren, Mr Charles William    3rd    NaN    male   \n",
       "1286                                  Wazli, Mr Yousif    3rd    NaN    male   \n",
       "1287                                  Webber, Mr James    3rd    NaN    male   \n",
       "1288                     Wennerstrom, Mr August Edvard    3rd    NaN    male   \n",
       "1289                                Wenzel, Mr Linhart    3rd    NaN    male   \n",
       "1290                        Widegren, Mr Charles Peter    3rd  51.00    male   \n",
       "1291                          Wiklund, Mr Jacob Alfred    3rd  18.00    male   \n",
       "1292                                 Wilkes, Mrs Ellen    3rd  45.00  female   \n",
       "1293                                  Willer, Mr Aaron    3rd    NaN    male   \n",
       "1294                                 Willey, Mr Edward    3rd    NaN    male   \n",
       "1295                          Williams, Mr Howard Hugh    3rd    NaN    male   \n",
       "1296                               Williams, Mr Leslie    3rd  28.00    male   \n",
       "1297                                Windelov, Mr Einar    3rd  21.00    male   \n",
       "1298                                   Wirz, Mr Albert    3rd  27.00    male   \n",
       "1299                             Wiseman, Mr Phillippe    3rd    NaN    male   \n",
       "1300                           Wittevrongel, Mr Camiel    3rd  36.00    male   \n",
       "1301                                 Yalsevac, Mr Ivan    3rd    NaN    male   \n",
       "1302                                Yasbeck, Mr Antoni    3rd  27.00    male   \n",
       "1303                               Yasbeck, Mrs Antoni    3rd  15.00  female   \n",
       "1304                                Youssef, Mr Gerios    3rd    NaN    male   \n",
       "1305                               Zabour, Miss Hileni    3rd    NaN  female   \n",
       "1306                               Zabour, Miss Tamini    3rd    NaN  female   \n",
       "1307                                Zakarian, Mr Artun    3rd  27.00    male   \n",
       "1308                            Zakarian, Mr Maprieder    3rd  26.00    male   \n",
       "1309                                  Zenni, Mr Philip    3rd  22.00    male   \n",
       "1310                                  Lievens, Mr Rene    3rd  24.00    male   \n",
       "1311                                    Zimmerman, Leo    3rd  29.00    male   \n",
       "\n",
       "      Survived  \n",
       "0            1  \n",
       "1            0  \n",
       "2            0  \n",
       "3            0  \n",
       "4            1  \n",
       "5            1  \n",
       "6            1  \n",
       "7            0  \n",
       "8            1  \n",
       "9            0  \n",
       "10           0  \n",
       "11           1  \n",
       "12           1  \n",
       "13           1  \n",
       "14           0  \n",
       "15           1  \n",
       "16           0  \n",
       "17           0  \n",
       "18           1  \n",
       "19           1  \n",
       "20           1  \n",
       "21           0  \n",
       "22           1  \n",
       "23           1  \n",
       "24           1  \n",
       "25           0  \n",
       "26           1  \n",
       "27           1  \n",
       "28           1  \n",
       "29           0  \n",
       "...        ...  \n",
       "1282         0  \n",
       "1283         0  \n",
       "1284         0  \n",
       "1285         0  \n",
       "1286         0  \n",
       "1287         0  \n",
       "1288         1  \n",
       "1289         0  \n",
       "1290         0  \n",
       "1291         0  \n",
       "1292         1  \n",
       "1293         0  \n",
       "1294         0  \n",
       "1295         0  \n",
       "1296         0  \n",
       "1297         0  \n",
       "1298         0  \n",
       "1299         0  \n",
       "1300         0  \n",
       "1301         1  \n",
       "1302         0  \n",
       "1303         1  \n",
       "1304         0  \n",
       "1305         0  \n",
       "1306         0  \n",
       "1307         0  \n",
       "1308         0  \n",
       "1309         0  \n",
       "1310         0  \n",
       "1311         0  \n",
       "\n",
       "[1312 rows x 5 columns]"
      ]
     },
     "execution_count": 5,
     "metadata": {},
     "output_type": "execute_result"
    }
   ],
   "source": [
    "import pandas as pd\n",
    "import numpy as np\n",
    "\n",
    "# Read Data from csv file named 'Titanic.csv'\n",
    "# create a Pandas.Dataframe\n",
    "titanic = pd.read_csv('Titanic.csv')\n",
    "titanic"
   ]
  },
  {
   "cell_type": "code",
   "execution_count": 6,
   "metadata": {
    "ExecuteTime": {
     "end_time": "2018-12-12T14:41:58.076398Z",
     "start_time": "2018-12-12T14:41:58.063402Z"
    }
   },
   "outputs": [
    {
     "name": "stdout",
     "output_type": "stream",
     "text": [
      "<class 'pandas.core.frame.DataFrame'>\n"
     ]
    }
   ],
   "source": [
    "print (type(titanic))"
   ]
  },
  {
   "cell_type": "code",
   "execution_count": 7,
   "metadata": {
    "ExecuteTime": {
     "end_time": "2018-12-12T14:41:58.233606Z",
     "start_time": "2018-12-12T14:41:58.224615Z"
    }
   },
   "outputs": [
    {
     "data": {
      "text/plain": [
       "(1312, 5)"
      ]
     },
     "execution_count": 7,
     "metadata": {},
     "output_type": "execute_result"
    }
   ],
   "source": [
    "titanic.shape                      # (nrows, ncols)"
   ]
  },
  {
   "cell_type": "markdown",
   "metadata": {
    "ExecuteTime": {
     "end_time": "2018-12-12T12:16:58.460059Z",
     "start_time": "2018-12-12T12:16:58.396096Z"
    }
   },
   "source": [
    "## `head` & `tail`\n",
    "<ul>\n",
    "    <li>`head()` : return first <b>n</b> rows of a DataFrame</li>\n",
    "    <li>`tail()` : return last <b>n</b> rows of a DataFrame</li>\n",
    "</ul>"
   ]
  },
  {
   "cell_type": "code",
   "execution_count": 7,
   "metadata": {
    "ExecuteTime": {
     "end_time": "2018-12-12T12:18:06.542726Z",
     "start_time": "2018-12-12T12:18:06.523735Z"
    }
   },
   "outputs": [
    {
     "data": {
      "text/html": [
       "<div>\n",
       "<style>\n",
       "    .dataframe thead tr:only-child th {\n",
       "        text-align: right;\n",
       "    }\n",
       "\n",
       "    .dataframe thead th {\n",
       "        text-align: left;\n",
       "    }\n",
       "\n",
       "    .dataframe tbody tr th {\n",
       "        vertical-align: top;\n",
       "    }\n",
       "</style>\n",
       "<table border=\"1\" class=\"dataframe\">\n",
       "  <thead>\n",
       "    <tr style=\"text-align: right;\">\n",
       "      <th></th>\n",
       "      <th>Name</th>\n",
       "      <th>PClass</th>\n",
       "      <th>Age</th>\n",
       "      <th>Sex</th>\n",
       "      <th>Survived</th>\n",
       "    </tr>\n",
       "  </thead>\n",
       "  <tbody>\n",
       "    <tr>\n",
       "      <th>0</th>\n",
       "      <td>Allen, Miss Elisabeth Walton</td>\n",
       "      <td>1st</td>\n",
       "      <td>29.00</td>\n",
       "      <td>female</td>\n",
       "      <td>1</td>\n",
       "    </tr>\n",
       "    <tr>\n",
       "      <th>1</th>\n",
       "      <td>Allison, Miss Helen Loraine</td>\n",
       "      <td>1st</td>\n",
       "      <td>2.00</td>\n",
       "      <td>female</td>\n",
       "      <td>0</td>\n",
       "    </tr>\n",
       "    <tr>\n",
       "      <th>2</th>\n",
       "      <td>Allison, Mr Hudson Joshua Creighton</td>\n",
       "      <td>1st</td>\n",
       "      <td>30.00</td>\n",
       "      <td>male</td>\n",
       "      <td>0</td>\n",
       "    </tr>\n",
       "    <tr>\n",
       "      <th>3</th>\n",
       "      <td>Allison, Mrs Hudson JC (Bessie Waldo Daniels)</td>\n",
       "      <td>1st</td>\n",
       "      <td>25.00</td>\n",
       "      <td>female</td>\n",
       "      <td>0</td>\n",
       "    </tr>\n",
       "    <tr>\n",
       "      <th>4</th>\n",
       "      <td>Allison, Master Hudson Trevor</td>\n",
       "      <td>1st</td>\n",
       "      <td>0.92</td>\n",
       "      <td>male</td>\n",
       "      <td>1</td>\n",
       "    </tr>\n",
       "  </tbody>\n",
       "</table>\n",
       "</div>"
      ],
      "text/plain": [
       "                                            Name PClass    Age     Sex  \\\n",
       "0                   Allen, Miss Elisabeth Walton    1st  29.00  female   \n",
       "1                    Allison, Miss Helen Loraine    1st   2.00  female   \n",
       "2            Allison, Mr Hudson Joshua Creighton    1st  30.00    male   \n",
       "3  Allison, Mrs Hudson JC (Bessie Waldo Daniels)    1st  25.00  female   \n",
       "4                  Allison, Master Hudson Trevor    1st   0.92    male   \n",
       "\n",
       "   Survived  \n",
       "0         1  \n",
       "1         0  \n",
       "2         0  \n",
       "3         0  \n",
       "4         1  "
      ]
     },
     "execution_count": 7,
     "metadata": {},
     "output_type": "execute_result"
    }
   ],
   "source": [
    "titanic.head()                     # default (n = 5)"
   ]
  },
  {
   "cell_type": "code",
   "execution_count": 9,
   "metadata": {
    "ExecuteTime": {
     "end_time": "2018-12-12T14:42:58.096304Z",
     "start_time": "2018-12-12T14:42:58.080333Z"
    }
   },
   "outputs": [
    {
     "data": {
      "text/html": [
       "<div>\n",
       "<style>\n",
       "    .dataframe thead tr:only-child th {\n",
       "        text-align: right;\n",
       "    }\n",
       "\n",
       "    .dataframe thead th {\n",
       "        text-align: left;\n",
       "    }\n",
       "\n",
       "    .dataframe tbody tr th {\n",
       "        vertical-align: top;\n",
       "    }\n",
       "</style>\n",
       "<table border=\"1\" class=\"dataframe\">\n",
       "  <thead>\n",
       "    <tr style=\"text-align: right;\">\n",
       "      <th></th>\n",
       "      <th>Name</th>\n",
       "      <th>PClass</th>\n",
       "      <th>Age</th>\n",
       "      <th>Sex</th>\n",
       "      <th>Survived</th>\n",
       "    </tr>\n",
       "  </thead>\n",
       "  <tbody>\n",
       "    <tr>\n",
       "      <th>1308</th>\n",
       "      <td>Zakarian, Mr Maprieder</td>\n",
       "      <td>3rd</td>\n",
       "      <td>26.0</td>\n",
       "      <td>male</td>\n",
       "      <td>0</td>\n",
       "    </tr>\n",
       "    <tr>\n",
       "      <th>1309</th>\n",
       "      <td>Zenni, Mr Philip</td>\n",
       "      <td>3rd</td>\n",
       "      <td>22.0</td>\n",
       "      <td>male</td>\n",
       "      <td>0</td>\n",
       "    </tr>\n",
       "    <tr>\n",
       "      <th>1310</th>\n",
       "      <td>Lievens, Mr Rene</td>\n",
       "      <td>3rd</td>\n",
       "      <td>24.0</td>\n",
       "      <td>male</td>\n",
       "      <td>0</td>\n",
       "    </tr>\n",
       "    <tr>\n",
       "      <th>1311</th>\n",
       "      <td>Zimmerman, Leo</td>\n",
       "      <td>3rd</td>\n",
       "      <td>29.0</td>\n",
       "      <td>male</td>\n",
       "      <td>0</td>\n",
       "    </tr>\n",
       "  </tbody>\n",
       "</table>\n",
       "</div>"
      ],
      "text/plain": [
       "                        Name PClass   Age   Sex  Survived\n",
       "1308  Zakarian, Mr Maprieder    3rd  26.0  male         0\n",
       "1309        Zenni, Mr Philip    3rd  22.0  male         0\n",
       "1310        Lievens, Mr Rene    3rd  24.0  male         0\n",
       "1311          Zimmerman, Leo    3rd  29.0  male         0"
      ]
     },
     "execution_count": 9,
     "metadata": {},
     "output_type": "execute_result"
    }
   ],
   "source": [
    "titanic.tail(n=4)                    # default (n = 5)"
   ]
  },
  {
   "cell_type": "markdown",
   "metadata": {},
   "source": [
    "## indexing & slicing - Detailed"
   ]
  },
  {
   "cell_type": "markdown",
   "metadata": {
    "ExecuteTime": {
     "end_time": "2018-12-12T14:52:23.391658Z",
     "start_time": "2018-12-12T14:52:23.383682Z"
    }
   },
   "source": [
    "<p>There are commonly three ways of data selection:\n",
    "<ul>\n",
    "    <li>Selection by Label</li>\n",
    "    <li>Selection by Position</li>\n",
    "    <li>Selection by Boolean Mask (Filtering)</li>\n",
    "</ul>\n",
    "\n",
    "<code>.loc[]</code> <i>attribute is the primary indexing method of DataFrames</i>\n",
    "\n",
    "</p>"
   ]
  },
  {
   "cell_type": "code",
   "execution_count": 98,
   "metadata": {
    "ExecuteTime": {
     "end_time": "2018-12-12T15:30:33.263305Z",
     "start_time": "2018-12-12T15:30:33.241317Z"
    }
   },
   "outputs": [
    {
     "data": {
      "text/html": [
       "<div>\n",
       "<style>\n",
       "    .dataframe thead tr:only-child th {\n",
       "        text-align: right;\n",
       "    }\n",
       "\n",
       "    .dataframe thead th {\n",
       "        text-align: left;\n",
       "    }\n",
       "\n",
       "    .dataframe tbody tr th {\n",
       "        vertical-align: top;\n",
       "    }\n",
       "</style>\n",
       "<table border=\"1\" class=\"dataframe\">\n",
       "  <thead>\n",
       "    <tr style=\"text-align: right;\">\n",
       "      <th></th>\n",
       "      <th>Name</th>\n",
       "      <th>PClass</th>\n",
       "      <th>Age</th>\n",
       "      <th>Sex</th>\n",
       "      <th>Survived</th>\n",
       "    </tr>\n",
       "  </thead>\n",
       "  <tbody>\n",
       "    <tr>\n",
       "      <th>0</th>\n",
       "      <td>Allen, Miss Elisabeth Walton</td>\n",
       "      <td>1st</td>\n",
       "      <td>29.00</td>\n",
       "      <td>female</td>\n",
       "      <td>1</td>\n",
       "    </tr>\n",
       "    <tr>\n",
       "      <th>1</th>\n",
       "      <td>Allison, Miss Helen Loraine</td>\n",
       "      <td>1st</td>\n",
       "      <td>2.00</td>\n",
       "      <td>female</td>\n",
       "      <td>0</td>\n",
       "    </tr>\n",
       "    <tr>\n",
       "      <th>2</th>\n",
       "      <td>Allison, Mr Hudson Joshua Creighton</td>\n",
       "      <td>1st</td>\n",
       "      <td>30.00</td>\n",
       "      <td>male</td>\n",
       "      <td>0</td>\n",
       "    </tr>\n",
       "    <tr>\n",
       "      <th>3</th>\n",
       "      <td>Allison, Mrs Hudson JC (Bessie Waldo Daniels)</td>\n",
       "      <td>1st</td>\n",
       "      <td>25.00</td>\n",
       "      <td>female</td>\n",
       "      <td>0</td>\n",
       "    </tr>\n",
       "    <tr>\n",
       "      <th>4</th>\n",
       "      <td>Allison, Master Hudson Trevor</td>\n",
       "      <td>1st</td>\n",
       "      <td>0.92</td>\n",
       "      <td>male</td>\n",
       "      <td>1</td>\n",
       "    </tr>\n",
       "    <tr>\n",
       "      <th>5</th>\n",
       "      <td>Anderson, Mr Harry</td>\n",
       "      <td>1st</td>\n",
       "      <td>47.00</td>\n",
       "      <td>male</td>\n",
       "      <td>1</td>\n",
       "    </tr>\n",
       "    <tr>\n",
       "      <th>6</th>\n",
       "      <td>Andrews, Miss Kornelia Theodosia</td>\n",
       "      <td>1st</td>\n",
       "      <td>63.00</td>\n",
       "      <td>female</td>\n",
       "      <td>1</td>\n",
       "    </tr>\n",
       "  </tbody>\n",
       "</table>\n",
       "</div>"
      ],
      "text/plain": [
       "                                            Name PClass    Age     Sex  \\\n",
       "0                   Allen, Miss Elisabeth Walton    1st  29.00  female   \n",
       "1                    Allison, Miss Helen Loraine    1st   2.00  female   \n",
       "2            Allison, Mr Hudson Joshua Creighton    1st  30.00    male   \n",
       "3  Allison, Mrs Hudson JC (Bessie Waldo Daniels)    1st  25.00  female   \n",
       "4                  Allison, Master Hudson Trevor    1st   0.92    male   \n",
       "5                             Anderson, Mr Harry    1st  47.00    male   \n",
       "6               Andrews, Miss Kornelia Theodosia    1st  63.00  female   \n",
       "\n",
       "   Survived  \n",
       "0         1  \n",
       "1         0  \n",
       "2         0  \n",
       "3         0  \n",
       "4         1  \n",
       "5         1  \n",
       "6         1  "
      ]
     },
     "execution_count": 98,
     "metadata": {},
     "output_type": "execute_result"
    }
   ],
   "source": [
    "titanic_head_7 = titanic.head(n=7).copy()\n",
    "titanic_head_7"
   ]
  },
  {
   "cell_type": "markdown",
   "metadata": {},
   "source": [
    "### `loc` - Selection by Label"
   ]
  },
  {
   "cell_type": "markdown",
   "metadata": {},
   "source": [
    "Using `.loc[]`, we can extract the rows of the dataframe using the index names/numbers."
   ]
  },
  {
   "cell_type": "code",
   "execution_count": 53,
   "metadata": {
    "ExecuteTime": {
     "end_time": "2018-12-12T15:13:05.767083Z",
     "start_time": "2018-12-12T15:13:05.758088Z"
    }
   },
   "outputs": [
    {
     "data": {
      "text/plain": [
       "Name        Allison, Mr Hudson Joshua Creighton\n",
       "PClass                                      1st\n",
       "Age                                          30\n",
       "Sex                                        male\n",
       "Survived                                      0\n",
       "Name: 2, dtype: object"
      ]
     },
     "execution_count": 53,
     "metadata": {},
     "output_type": "execute_result"
    }
   ],
   "source": [
    "titanic_head_7.loc[2]                   # single label"
   ]
  },
  {
   "cell_type": "code",
   "execution_count": 25,
   "metadata": {
    "ExecuteTime": {
     "end_time": "2018-12-12T14:56:05.658241Z",
     "start_time": "2018-12-12T14:56:05.639272Z"
    }
   },
   "outputs": [
    {
     "data": {
      "text/html": [
       "<div>\n",
       "<style>\n",
       "    .dataframe thead tr:only-child th {\n",
       "        text-align: right;\n",
       "    }\n",
       "\n",
       "    .dataframe thead th {\n",
       "        text-align: left;\n",
       "    }\n",
       "\n",
       "    .dataframe tbody tr th {\n",
       "        vertical-align: top;\n",
       "    }\n",
       "</style>\n",
       "<table border=\"1\" class=\"dataframe\">\n",
       "  <thead>\n",
       "    <tr style=\"text-align: right;\">\n",
       "      <th></th>\n",
       "      <th>Name</th>\n",
       "      <th>PClass</th>\n",
       "      <th>Age</th>\n",
       "      <th>Sex</th>\n",
       "      <th>Survived</th>\n",
       "    </tr>\n",
       "  </thead>\n",
       "  <tbody>\n",
       "    <tr>\n",
       "      <th>2</th>\n",
       "      <td>Allison, Mr Hudson Joshua Creighton</td>\n",
       "      <td>1st</td>\n",
       "      <td>30.0</td>\n",
       "      <td>male</td>\n",
       "      <td>0</td>\n",
       "    </tr>\n",
       "    <tr>\n",
       "      <th>3</th>\n",
       "      <td>Allison, Mrs Hudson JC (Bessie Waldo Daniels)</td>\n",
       "      <td>1st</td>\n",
       "      <td>25.0</td>\n",
       "      <td>female</td>\n",
       "      <td>0</td>\n",
       "    </tr>\n",
       "  </tbody>\n",
       "</table>\n",
       "</div>"
      ],
      "text/plain": [
       "                                            Name PClass   Age     Sex  \\\n",
       "2            Allison, Mr Hudson Joshua Creighton    1st  30.0    male   \n",
       "3  Allison, Mrs Hudson JC (Bessie Waldo Daniels)    1st  25.0  female   \n",
       "\n",
       "   Survived  \n",
       "2         0  \n",
       "3         0  "
      ]
     },
     "execution_count": 25,
     "metadata": {},
     "output_type": "execute_result"
    }
   ],
   "source": [
    "titanic_head_7[2:4]                    # slicing - without using `.loc[]` method\n",
    "                                       # note that the index (4) is NOT included"
   ]
  },
  {
   "cell_type": "code",
   "execution_count": 24,
   "metadata": {
    "ExecuteTime": {
     "end_time": "2018-12-12T14:55:58.254438Z",
     "start_time": "2018-12-12T14:55:58.239452Z"
    }
   },
   "outputs": [
    {
     "data": {
      "text/html": [
       "<div>\n",
       "<style>\n",
       "    .dataframe thead tr:only-child th {\n",
       "        text-align: right;\n",
       "    }\n",
       "\n",
       "    .dataframe thead th {\n",
       "        text-align: left;\n",
       "    }\n",
       "\n",
       "    .dataframe tbody tr th {\n",
       "        vertical-align: top;\n",
       "    }\n",
       "</style>\n",
       "<table border=\"1\" class=\"dataframe\">\n",
       "  <thead>\n",
       "    <tr style=\"text-align: right;\">\n",
       "      <th></th>\n",
       "      <th>Name</th>\n",
       "      <th>PClass</th>\n",
       "      <th>Age</th>\n",
       "      <th>Sex</th>\n",
       "      <th>Survived</th>\n",
       "    </tr>\n",
       "  </thead>\n",
       "  <tbody>\n",
       "    <tr>\n",
       "      <th>2</th>\n",
       "      <td>Allison, Mr Hudson Joshua Creighton</td>\n",
       "      <td>1st</td>\n",
       "      <td>30.00</td>\n",
       "      <td>male</td>\n",
       "      <td>0</td>\n",
       "    </tr>\n",
       "    <tr>\n",
       "      <th>3</th>\n",
       "      <td>Allison, Mrs Hudson JC (Bessie Waldo Daniels)</td>\n",
       "      <td>1st</td>\n",
       "      <td>25.00</td>\n",
       "      <td>female</td>\n",
       "      <td>0</td>\n",
       "    </tr>\n",
       "    <tr>\n",
       "      <th>4</th>\n",
       "      <td>Allison, Master Hudson Trevor</td>\n",
       "      <td>1st</td>\n",
       "      <td>0.92</td>\n",
       "      <td>male</td>\n",
       "      <td>1</td>\n",
       "    </tr>\n",
       "  </tbody>\n",
       "</table>\n",
       "</div>"
      ],
      "text/plain": [
       "                                            Name PClass    Age     Sex  \\\n",
       "2            Allison, Mr Hudson Joshua Creighton    1st  30.00    male   \n",
       "3  Allison, Mrs Hudson JC (Bessie Waldo Daniels)    1st  25.00  female   \n",
       "4                  Allison, Master Hudson Trevor    1st   0.92    male   \n",
       "\n",
       "   Survived  \n",
       "2         0  \n",
       "3         0  \n",
       "4         1  "
      ]
     },
     "execution_count": 24,
     "metadata": {},
     "output_type": "execute_result"
    }
   ],
   "source": [
    "titanic_head_7.loc[2:4]                # slicing\n",
    "                                       # note that the index (4) is ALSO included"
   ]
  },
  {
   "cell_type": "code",
   "execution_count": 22,
   "metadata": {
    "ExecuteTime": {
     "end_time": "2018-12-12T14:53:55.408772Z",
     "start_time": "2018-12-12T14:53:55.391799Z"
    }
   },
   "outputs": [
    {
     "data": {
      "text/html": [
       "<div>\n",
       "<style>\n",
       "    .dataframe thead tr:only-child th {\n",
       "        text-align: right;\n",
       "    }\n",
       "\n",
       "    .dataframe thead th {\n",
       "        text-align: left;\n",
       "    }\n",
       "\n",
       "    .dataframe tbody tr th {\n",
       "        vertical-align: top;\n",
       "    }\n",
       "</style>\n",
       "<table border=\"1\" class=\"dataframe\">\n",
       "  <thead>\n",
       "    <tr style=\"text-align: right;\">\n",
       "      <th></th>\n",
       "      <th>Name</th>\n",
       "      <th>PClass</th>\n",
       "      <th>Age</th>\n",
       "      <th>Sex</th>\n",
       "      <th>Survived</th>\n",
       "    </tr>\n",
       "  </thead>\n",
       "  <tbody>\n",
       "    <tr>\n",
       "      <th>4</th>\n",
       "      <td>Allison, Master Hudson Trevor</td>\n",
       "      <td>1st</td>\n",
       "      <td>0.92</td>\n",
       "      <td>male</td>\n",
       "      <td>1</td>\n",
       "    </tr>\n",
       "    <tr>\n",
       "      <th>1</th>\n",
       "      <td>Allison, Miss Helen Loraine</td>\n",
       "      <td>1st</td>\n",
       "      <td>2.00</td>\n",
       "      <td>female</td>\n",
       "      <td>0</td>\n",
       "    </tr>\n",
       "    <tr>\n",
       "      <th>1</th>\n",
       "      <td>Allison, Miss Helen Loraine</td>\n",
       "      <td>1st</td>\n",
       "      <td>2.00</td>\n",
       "      <td>female</td>\n",
       "      <td>0</td>\n",
       "    </tr>\n",
       "    <tr>\n",
       "      <th>2</th>\n",
       "      <td>Allison, Mr Hudson Joshua Creighton</td>\n",
       "      <td>1st</td>\n",
       "      <td>30.00</td>\n",
       "      <td>male</td>\n",
       "      <td>0</td>\n",
       "    </tr>\n",
       "  </tbody>\n",
       "</table>\n",
       "</div>"
      ],
      "text/plain": [
       "                                  Name PClass    Age     Sex  Survived\n",
       "4        Allison, Master Hudson Trevor    1st   0.92    male         1\n",
       "1          Allison, Miss Helen Loraine    1st   2.00  female         0\n",
       "1          Allison, Miss Helen Loraine    1st   2.00  female         0\n",
       "2  Allison, Mr Hudson Joshua Creighton    1st  30.00    male         0"
      ]
     },
     "execution_count": 22,
     "metadata": {},
     "output_type": "execute_result"
    }
   ],
   "source": [
    "titanic_head_7.loc[[4,1,1,2]]           # list or array of label"
   ]
  },
  {
   "cell_type": "code",
   "execution_count": 45,
   "metadata": {
    "ExecuteTime": {
     "end_time": "2018-12-12T15:10:22.198075Z",
     "start_time": "2018-12-12T15:10:22.185087Z"
    }
   },
   "outputs": [
    {
     "data": {
      "text/html": [
       "<div>\n",
       "<style>\n",
       "    .dataframe thead tr:only-child th {\n",
       "        text-align: right;\n",
       "    }\n",
       "\n",
       "    .dataframe thead th {\n",
       "        text-align: left;\n",
       "    }\n",
       "\n",
       "    .dataframe tbody tr th {\n",
       "        vertical-align: top;\n",
       "    }\n",
       "</style>\n",
       "<table border=\"1\" class=\"dataframe\">\n",
       "  <thead>\n",
       "    <tr style=\"text-align: right;\">\n",
       "      <th></th>\n",
       "      <th>Age</th>\n",
       "      <th>Survived</th>\n",
       "    </tr>\n",
       "  </thead>\n",
       "  <tbody>\n",
       "    <tr>\n",
       "      <th>2</th>\n",
       "      <td>30.00</td>\n",
       "      <td>0</td>\n",
       "    </tr>\n",
       "    <tr>\n",
       "      <th>3</th>\n",
       "      <td>25.00</td>\n",
       "      <td>0</td>\n",
       "    </tr>\n",
       "    <tr>\n",
       "      <th>4</th>\n",
       "      <td>0.92</td>\n",
       "      <td>1</td>\n",
       "    </tr>\n",
       "  </tbody>\n",
       "</table>\n",
       "</div>"
      ],
      "text/plain": [
       "     Age  Survived\n",
       "2  30.00         0\n",
       "3  25.00         0\n",
       "4   0.92         1"
      ]
     },
     "execution_count": 45,
     "metadata": {},
     "output_type": "execute_result"
    }
   ],
   "source": [
    "titanic_head_7[2:5][['Age','Survived']] # without using `iloc`\n",
    "                                        # has limitations when it comes to selecting random rows"
   ]
  },
  {
   "cell_type": "code",
   "execution_count": 44,
   "metadata": {
    "ExecuteTime": {
     "end_time": "2018-12-12T15:10:09.167061Z",
     "start_time": "2018-12-12T15:10:09.152088Z"
    }
   },
   "outputs": [
    {
     "data": {
      "text/html": [
       "<div>\n",
       "<style>\n",
       "    .dataframe thead tr:only-child th {\n",
       "        text-align: right;\n",
       "    }\n",
       "\n",
       "    .dataframe thead th {\n",
       "        text-align: left;\n",
       "    }\n",
       "\n",
       "    .dataframe tbody tr th {\n",
       "        vertical-align: top;\n",
       "    }\n",
       "</style>\n",
       "<table border=\"1\" class=\"dataframe\">\n",
       "  <thead>\n",
       "    <tr style=\"text-align: right;\">\n",
       "      <th></th>\n",
       "      <th>Age</th>\n",
       "      <th>Survived</th>\n",
       "    </tr>\n",
       "  </thead>\n",
       "  <tbody>\n",
       "    <tr>\n",
       "      <th>2</th>\n",
       "      <td>30.00</td>\n",
       "      <td>0</td>\n",
       "    </tr>\n",
       "    <tr>\n",
       "      <th>3</th>\n",
       "      <td>25.00</td>\n",
       "      <td>0</td>\n",
       "    </tr>\n",
       "    <tr>\n",
       "      <th>4</th>\n",
       "      <td>0.92</td>\n",
       "      <td>1</td>\n",
       "    </tr>\n",
       "  </tbody>\n",
       "</table>\n",
       "</div>"
      ],
      "text/plain": [
       "     Age  Survived\n",
       "2  30.00         0\n",
       "3  25.00         0\n",
       "4   0.92         1"
      ]
     },
     "execution_count": 44,
     "metadata": {},
     "output_type": "execute_result"
    }
   ],
   "source": [
    "titanic_head_7.loc[2:4,['Age','Survived']]           \n",
    "                                         # Two labels are given as [index, column]"
   ]
  },
  {
   "cell_type": "markdown",
   "metadata": {},
   "source": [
    "### `iloc` - Selection by Postion"
   ]
  },
  {
   "cell_type": "markdown",
   "metadata": {},
   "source": [
    "`.iloc[]` is the primary attribute for selection by absolute position along index and columns.\n",
    "Here 'i' in 'iloc' means 'implicit' indexing"
   ]
  },
  {
   "cell_type": "code",
   "execution_count": 54,
   "metadata": {
    "ExecuteTime": {
     "end_time": "2018-12-12T15:13:09.967913Z",
     "start_time": "2018-12-12T15:13:09.958918Z"
    }
   },
   "outputs": [
    {
     "data": {
      "text/plain": [
       "Name        Allison, Mr Hudson Joshua Creighton\n",
       "PClass                                      1st\n",
       "Age                                          30\n",
       "Sex                                        male\n",
       "Survived                                      0\n",
       "Name: 2, dtype: object"
      ]
     },
     "execution_count": 54,
     "metadata": {},
     "output_type": "execute_result"
    }
   ],
   "source": [
    "titanic_head_7.iloc[2]                # it goes by integer location and nt by index name/number"
   ]
  },
  {
   "cell_type": "code",
   "execution_count": 62,
   "metadata": {
    "ExecuteTime": {
     "end_time": "2018-12-12T15:14:18.896530Z",
     "start_time": "2018-12-12T15:14:18.879560Z"
    }
   },
   "outputs": [
    {
     "data": {
      "text/html": [
       "<div>\n",
       "<style>\n",
       "    .dataframe thead tr:only-child th {\n",
       "        text-align: right;\n",
       "    }\n",
       "\n",
       "    .dataframe thead th {\n",
       "        text-align: left;\n",
       "    }\n",
       "\n",
       "    .dataframe tbody tr th {\n",
       "        vertical-align: top;\n",
       "    }\n",
       "</style>\n",
       "<table border=\"1\" class=\"dataframe\">\n",
       "  <thead>\n",
       "    <tr style=\"text-align: right;\">\n",
       "      <th></th>\n",
       "      <th>Name</th>\n",
       "      <th>PClass</th>\n",
       "      <th>Age</th>\n",
       "    </tr>\n",
       "  </thead>\n",
       "  <tbody>\n",
       "    <tr>\n",
       "      <th>2</th>\n",
       "      <td>Allison, Mr Hudson Joshua Creighton</td>\n",
       "      <td>1st</td>\n",
       "      <td>30.00</td>\n",
       "    </tr>\n",
       "    <tr>\n",
       "      <th>3</th>\n",
       "      <td>Allison, Mrs Hudson JC (Bessie Waldo Daniels)</td>\n",
       "      <td>1st</td>\n",
       "      <td>25.00</td>\n",
       "    </tr>\n",
       "    <tr>\n",
       "      <th>4</th>\n",
       "      <td>Allison, Master Hudson Trevor</td>\n",
       "      <td>1st</td>\n",
       "      <td>0.92</td>\n",
       "    </tr>\n",
       "  </tbody>\n",
       "</table>\n",
       "</div>"
      ],
      "text/plain": [
       "                                            Name PClass    Age\n",
       "2            Allison, Mr Hudson Joshua Creighton    1st  30.00\n",
       "3  Allison, Mrs Hudson JC (Bessie Waldo Daniels)    1st  25.00\n",
       "4                  Allison, Master Hudson Trevor    1st   0.92"
      ]
     },
     "execution_count": 62,
     "metadata": {},
     "output_type": "execute_result"
    }
   ],
   "source": [
    "titanic_head_7.iloc[2:5, 0:3]         # slicing\n",
    "                                      # Two integer locations are given as [index_loc, column_loc]"
   ]
  },
  {
   "cell_type": "code",
   "execution_count": 64,
   "metadata": {
    "ExecuteTime": {
     "end_time": "2018-12-12T15:15:40.303907Z",
     "start_time": "2018-12-12T15:15:40.287921Z"
    }
   },
   "outputs": [
    {
     "data": {
      "text/html": [
       "<div>\n",
       "<style>\n",
       "    .dataframe thead tr:only-child th {\n",
       "        text-align: right;\n",
       "    }\n",
       "\n",
       "    .dataframe thead th {\n",
       "        text-align: left;\n",
       "    }\n",
       "\n",
       "    .dataframe tbody tr th {\n",
       "        vertical-align: top;\n",
       "    }\n",
       "</style>\n",
       "<table border=\"1\" class=\"dataframe\">\n",
       "  <thead>\n",
       "    <tr style=\"text-align: right;\">\n",
       "      <th></th>\n",
       "      <th>Age</th>\n",
       "      <th>Survived</th>\n",
       "    </tr>\n",
       "  </thead>\n",
       "  <tbody>\n",
       "    <tr>\n",
       "      <th>3</th>\n",
       "      <td>25.0</td>\n",
       "      <td>0</td>\n",
       "    </tr>\n",
       "    <tr>\n",
       "      <th>1</th>\n",
       "      <td>2.0</td>\n",
       "      <td>0</td>\n",
       "    </tr>\n",
       "    <tr>\n",
       "      <th>5</th>\n",
       "      <td>47.0</td>\n",
       "      <td>1</td>\n",
       "    </tr>\n",
       "  </tbody>\n",
       "</table>\n",
       "</div>"
      ],
      "text/plain": [
       "    Age  Survived\n",
       "3  25.0         0\n",
       "1   2.0         0\n",
       "5  47.0         1"
      ]
     },
     "execution_count": 64,
     "metadata": {},
     "output_type": "execute_result"
    }
   ],
   "source": [
    "titanic_head_7.iloc[[3, 1, 5], [2, 4]] # list or array of label"
   ]
  },
  {
   "cell_type": "markdown",
   "metadata": {},
   "source": [
    "### Selection by Boolean Mask"
   ]
  },
  {
   "cell_type": "markdown",
   "metadata": {},
   "source": [
    "Boolean masking is very helpful and flexible in specifying condition during data selection.\n",
    "\n",
    "\n",
    "<p><u>Note</u> <i>that direct masking operations are interprected row-wise rather than column-wise</i></p>"
   ]
  },
  {
   "cell_type": "code",
   "execution_count": 68,
   "metadata": {
    "ExecuteTime": {
     "end_time": "2018-12-12T15:19:07.824315Z",
     "start_time": "2018-12-12T15:19:07.814343Z"
    }
   },
   "outputs": [
    {
     "data": {
      "text/plain": [
       "0     True\n",
       "1     True\n",
       "2     True\n",
       "3     True\n",
       "4     True\n",
       "5    False\n",
       "6    False\n",
       "Name: Age, dtype: bool"
      ]
     },
     "execution_count": 68,
     "metadata": {},
     "output_type": "execute_result"
    }
   ],
   "source": [
    "titanic_head_7['Age'] <= 30"
   ]
  },
  {
   "cell_type": "code",
   "execution_count": 71,
   "metadata": {
    "ExecuteTime": {
     "end_time": "2018-12-12T15:19:44.752268Z",
     "start_time": "2018-12-12T15:19:44.742296Z"
    }
   },
   "outputs": [
    {
     "data": {
      "text/plain": [
       "0    False\n",
       "1    False\n",
       "2     True\n",
       "3    False\n",
       "4     True\n",
       "5     True\n",
       "6    False\n",
       "Name: Sex, dtype: bool"
      ]
     },
     "execution_count": 71,
     "metadata": {},
     "output_type": "execute_result"
    }
   ],
   "source": [
    "titanic_head_7['Sex'] == 'male'"
   ]
  },
  {
   "cell_type": "markdown",
   "metadata": {},
   "source": [
    "The result will be `True` only if both the conditions are satisfied as we are using `&` <=> `AND` operator."
   ]
  },
  {
   "cell_type": "code",
   "execution_count": 74,
   "metadata": {
    "ExecuteTime": {
     "end_time": "2018-12-12T15:20:12.251806Z",
     "start_time": "2018-12-12T15:20:12.239795Z"
    },
    "scrolled": true
   },
   "outputs": [
    {
     "data": {
      "text/plain": [
       "0    False\n",
       "1    False\n",
       "2     True\n",
       "3    False\n",
       "4     True\n",
       "5    False\n",
       "6    False\n",
       "dtype: bool"
      ]
     },
     "execution_count": 74,
     "metadata": {},
     "output_type": "execute_result"
    }
   ],
   "source": [
    "(titanic_head_7['Age'] <= 30) & (titanic_head_7['Sex'] == 'male')"
   ]
  },
  {
   "cell_type": "markdown",
   "metadata": {},
   "source": [
    "Extracts the rows from the DataFrame for which the above condition was `True`."
   ]
  },
  {
   "cell_type": "code",
   "execution_count": 75,
   "metadata": {
    "ExecuteTime": {
     "end_time": "2018-12-12T15:21:20.849773Z",
     "start_time": "2018-12-12T15:21:20.830766Z"
    }
   },
   "outputs": [
    {
     "data": {
      "text/html": [
       "<div>\n",
       "<style>\n",
       "    .dataframe thead tr:only-child th {\n",
       "        text-align: right;\n",
       "    }\n",
       "\n",
       "    .dataframe thead th {\n",
       "        text-align: left;\n",
       "    }\n",
       "\n",
       "    .dataframe tbody tr th {\n",
       "        vertical-align: top;\n",
       "    }\n",
       "</style>\n",
       "<table border=\"1\" class=\"dataframe\">\n",
       "  <thead>\n",
       "    <tr style=\"text-align: right;\">\n",
       "      <th></th>\n",
       "      <th>Name</th>\n",
       "      <th>PClass</th>\n",
       "      <th>Age</th>\n",
       "      <th>Sex</th>\n",
       "      <th>Survived</th>\n",
       "    </tr>\n",
       "  </thead>\n",
       "  <tbody>\n",
       "    <tr>\n",
       "      <th>2</th>\n",
       "      <td>Allison, Mr Hudson Joshua Creighton</td>\n",
       "      <td>1st</td>\n",
       "      <td>30.00</td>\n",
       "      <td>male</td>\n",
       "      <td>0</td>\n",
       "    </tr>\n",
       "    <tr>\n",
       "      <th>4</th>\n",
       "      <td>Allison, Master Hudson Trevor</td>\n",
       "      <td>1st</td>\n",
       "      <td>0.92</td>\n",
       "      <td>male</td>\n",
       "      <td>1</td>\n",
       "    </tr>\n",
       "  </tbody>\n",
       "</table>\n",
       "</div>"
      ],
      "text/plain": [
       "                                  Name PClass    Age   Sex  Survived\n",
       "2  Allison, Mr Hudson Joshua Creighton    1st  30.00  male         0\n",
       "4        Allison, Master Hudson Trevor    1st   0.92  male         1"
      ]
     },
     "execution_count": 75,
     "metadata": {},
     "output_type": "execute_result"
    }
   ],
   "source": [
    "titanic_head_7[(titanic_head_7['Age'] <= 30) & (titanic_head_7['Sex'] == 'male')]"
   ]
  },
  {
   "cell_type": "markdown",
   "metadata": {},
   "source": [
    " ### Add new row"
   ]
  },
  {
   "cell_type": "code",
   "execution_count": 99,
   "metadata": {
    "ExecuteTime": {
     "end_time": "2018-12-12T15:30:36.714501Z",
     "start_time": "2018-12-12T15:30:36.694516Z"
    }
   },
   "outputs": [
    {
     "data": {
      "text/html": [
       "<div>\n",
       "<style>\n",
       "    .dataframe thead tr:only-child th {\n",
       "        text-align: right;\n",
       "    }\n",
       "\n",
       "    .dataframe thead th {\n",
       "        text-align: left;\n",
       "    }\n",
       "\n",
       "    .dataframe tbody tr th {\n",
       "        vertical-align: top;\n",
       "    }\n",
       "</style>\n",
       "<table border=\"1\" class=\"dataframe\">\n",
       "  <thead>\n",
       "    <tr style=\"text-align: right;\">\n",
       "      <th></th>\n",
       "      <th>Name</th>\n",
       "      <th>PClass</th>\n",
       "      <th>Age</th>\n",
       "      <th>Sex</th>\n",
       "      <th>Survived</th>\n",
       "    </tr>\n",
       "  </thead>\n",
       "  <tbody>\n",
       "    <tr>\n",
       "      <th>0</th>\n",
       "      <td>Allen, Miss Elisabeth Walton</td>\n",
       "      <td>1st</td>\n",
       "      <td>29.00</td>\n",
       "      <td>female</td>\n",
       "      <td>1</td>\n",
       "    </tr>\n",
       "    <tr>\n",
       "      <th>1</th>\n",
       "      <td>Allison, Miss Helen Loraine</td>\n",
       "      <td>1st</td>\n",
       "      <td>2.00</td>\n",
       "      <td>female</td>\n",
       "      <td>0</td>\n",
       "    </tr>\n",
       "    <tr>\n",
       "      <th>2</th>\n",
       "      <td>Allison, Mr Hudson Joshua Creighton</td>\n",
       "      <td>1st</td>\n",
       "      <td>30.00</td>\n",
       "      <td>male</td>\n",
       "      <td>0</td>\n",
       "    </tr>\n",
       "    <tr>\n",
       "      <th>3</th>\n",
       "      <td>Allison, Mrs Hudson JC (Bessie Waldo Daniels)</td>\n",
       "      <td>1st</td>\n",
       "      <td>25.00</td>\n",
       "      <td>female</td>\n",
       "      <td>0</td>\n",
       "    </tr>\n",
       "    <tr>\n",
       "      <th>4</th>\n",
       "      <td>Allison, Master Hudson Trevor</td>\n",
       "      <td>1st</td>\n",
       "      <td>0.92</td>\n",
       "      <td>male</td>\n",
       "      <td>1</td>\n",
       "    </tr>\n",
       "    <tr>\n",
       "      <th>5</th>\n",
       "      <td>Anderson, Mr Harry</td>\n",
       "      <td>1st</td>\n",
       "      <td>47.00</td>\n",
       "      <td>male</td>\n",
       "      <td>1</td>\n",
       "    </tr>\n",
       "    <tr>\n",
       "      <th>6</th>\n",
       "      <td>Andrews, Miss Kornelia Theodosia</td>\n",
       "      <td>1st</td>\n",
       "      <td>63.00</td>\n",
       "      <td>female</td>\n",
       "      <td>1</td>\n",
       "    </tr>\n",
       "  </tbody>\n",
       "</table>\n",
       "</div>"
      ],
      "text/plain": [
       "                                            Name PClass    Age     Sex  \\\n",
       "0                   Allen, Miss Elisabeth Walton    1st  29.00  female   \n",
       "1                    Allison, Miss Helen Loraine    1st   2.00  female   \n",
       "2            Allison, Mr Hudson Joshua Creighton    1st  30.00    male   \n",
       "3  Allison, Mrs Hudson JC (Bessie Waldo Daniels)    1st  25.00  female   \n",
       "4                  Allison, Master Hudson Trevor    1st   0.92    male   \n",
       "5                             Anderson, Mr Harry    1st  47.00    male   \n",
       "6               Andrews, Miss Kornelia Theodosia    1st  63.00  female   \n",
       "\n",
       "   Survived  \n",
       "0         1  \n",
       "1         0  \n",
       "2         0  \n",
       "3         0  \n",
       "4         1  \n",
       "5         1  \n",
       "6         1  "
      ]
     },
     "execution_count": 99,
     "metadata": {},
     "output_type": "execute_result"
    }
   ],
   "source": [
    "titanic_head_7"
   ]
  },
  {
   "cell_type": "code",
   "execution_count": 103,
   "metadata": {
    "ExecuteTime": {
     "end_time": "2018-12-12T15:30:39.558507Z",
     "start_time": "2018-12-12T15:30:39.550512Z"
    }
   },
   "outputs": [
    {
     "data": {
      "text/plain": [
       "(7, 5)"
      ]
     },
     "execution_count": 103,
     "metadata": {},
     "output_type": "execute_result"
    }
   ],
   "source": [
    "titanic_head_7.shape"
   ]
  },
  {
   "cell_type": "markdown",
   "metadata": {
    "ExecuteTime": {
     "end_time": "2018-12-12T15:26:53.016612Z",
     "start_time": "2018-12-12T15:26:53.008616Z"
    }
   },
   "source": [
    "Let's add a new row to the existing `titanic_head_7`. Remember to use `.loc[]` when **adding a new row** to DataFrame.\n",
    "\n",
    "However, `.iloc[]` can still be used in setting/updating a row if it already exists."
   ]
  },
  {
   "cell_type": "code",
   "execution_count": 104,
   "metadata": {
    "ExecuteTime": {
     "end_time": "2018-12-12T15:30:39.817419Z",
     "start_time": "2018-12-12T15:30:39.792434Z"
    }
   },
   "outputs": [
    {
     "data": {
      "text/html": [
       "<div>\n",
       "<style>\n",
       "    .dataframe thead tr:only-child th {\n",
       "        text-align: right;\n",
       "    }\n",
       "\n",
       "    .dataframe thead th {\n",
       "        text-align: left;\n",
       "    }\n",
       "\n",
       "    .dataframe tbody tr th {\n",
       "        vertical-align: top;\n",
       "    }\n",
       "</style>\n",
       "<table border=\"1\" class=\"dataframe\">\n",
       "  <thead>\n",
       "    <tr style=\"text-align: right;\">\n",
       "      <th></th>\n",
       "      <th>Name</th>\n",
       "      <th>PClass</th>\n",
       "      <th>Age</th>\n",
       "      <th>Sex</th>\n",
       "      <th>Survived</th>\n",
       "    </tr>\n",
       "  </thead>\n",
       "  <tbody>\n",
       "    <tr>\n",
       "      <th>0</th>\n",
       "      <td>Allen, Miss Elisabeth Walton</td>\n",
       "      <td>1st</td>\n",
       "      <td>29.00</td>\n",
       "      <td>female</td>\n",
       "      <td>1.0</td>\n",
       "    </tr>\n",
       "    <tr>\n",
       "      <th>1</th>\n",
       "      <td>Allison, Miss Helen Loraine</td>\n",
       "      <td>1st</td>\n",
       "      <td>2.00</td>\n",
       "      <td>female</td>\n",
       "      <td>0.0</td>\n",
       "    </tr>\n",
       "    <tr>\n",
       "      <th>2</th>\n",
       "      <td>Allison, Mr Hudson Joshua Creighton</td>\n",
       "      <td>1st</td>\n",
       "      <td>30.00</td>\n",
       "      <td>male</td>\n",
       "      <td>0.0</td>\n",
       "    </tr>\n",
       "    <tr>\n",
       "      <th>3</th>\n",
       "      <td>Allison, Mrs Hudson JC (Bessie Waldo Daniels)</td>\n",
       "      <td>1st</td>\n",
       "      <td>25.00</td>\n",
       "      <td>female</td>\n",
       "      <td>0.0</td>\n",
       "    </tr>\n",
       "    <tr>\n",
       "      <th>4</th>\n",
       "      <td>Allison, Master Hudson Trevor</td>\n",
       "      <td>1st</td>\n",
       "      <td>0.92</td>\n",
       "      <td>male</td>\n",
       "      <td>1.0</td>\n",
       "    </tr>\n",
       "    <tr>\n",
       "      <th>5</th>\n",
       "      <td>Anderson, Mr Harry</td>\n",
       "      <td>1st</td>\n",
       "      <td>47.00</td>\n",
       "      <td>male</td>\n",
       "      <td>1.0</td>\n",
       "    </tr>\n",
       "    <tr>\n",
       "      <th>6</th>\n",
       "      <td>Andrews, Miss Kornelia Theodosia</td>\n",
       "      <td>1st</td>\n",
       "      <td>63.00</td>\n",
       "      <td>female</td>\n",
       "      <td>1.0</td>\n",
       "    </tr>\n",
       "    <tr>\n",
       "      <th>7</th>\n",
       "      <td>Emma Stone</td>\n",
       "      <td>1st</td>\n",
       "      <td>28.00</td>\n",
       "      <td>female</td>\n",
       "      <td>1.0</td>\n",
       "    </tr>\n",
       "  </tbody>\n",
       "</table>\n",
       "</div>"
      ],
      "text/plain": [
       "                                            Name PClass    Age     Sex  \\\n",
       "0                   Allen, Miss Elisabeth Walton    1st  29.00  female   \n",
       "1                    Allison, Miss Helen Loraine    1st   2.00  female   \n",
       "2            Allison, Mr Hudson Joshua Creighton    1st  30.00    male   \n",
       "3  Allison, Mrs Hudson JC (Bessie Waldo Daniels)    1st  25.00  female   \n",
       "4                  Allison, Master Hudson Trevor    1st   0.92    male   \n",
       "5                             Anderson, Mr Harry    1st  47.00    male   \n",
       "6               Andrews, Miss Kornelia Theodosia    1st  63.00  female   \n",
       "7                                     Emma Stone    1st  28.00  female   \n",
       "\n",
       "   Survived  \n",
       "0       1.0  \n",
       "1       0.0  \n",
       "2       0.0  \n",
       "3       0.0  \n",
       "4       1.0  \n",
       "5       1.0  \n",
       "6       1.0  \n",
       "7       1.0  "
      ]
     },
     "execution_count": 104,
     "metadata": {},
     "output_type": "execute_result"
    }
   ],
   "source": [
    "new_item = ['Emma Stone', '1st', 28, 'female', 1]\n",
    "\n",
    "# Add the new item into the DataFrame\n",
    "titanic_head_7.loc[7,:] = new_item   # titanic_head_7.iloc[7,:] = new_item ------> will throw an error\n",
    "titanic_head_7"
   ]
  },
  {
   "cell_type": "markdown",
   "metadata": {},
   "source": []
  },
  {
   "cell_type": "markdown",
   "metadata": {
    "ExecuteTime": {
     "end_time": "2018-12-12T15:29:05.770571Z",
     "start_time": "2018-12-12T15:29:05.765575Z"
    }
   },
   "source": [
    "### Add new column"
   ]
  },
  {
   "cell_type": "code",
   "execution_count": 94,
   "metadata": {
    "ExecuteTime": {
     "end_time": "2018-12-12T15:29:49.533516Z",
     "start_time": "2018-12-12T15:29:49.525515Z"
    }
   },
   "outputs": [
    {
     "data": {
      "text/plain": [
       "array([166, 166, 166, 166, 166, 166, 166, 166])"
      ]
     },
     "execution_count": 94,
     "metadata": {},
     "output_type": "execute_result"
    }
   ],
   "source": [
    "height = np.array([166] * len(titanic_head_7)) \n",
    "height"
   ]
  },
  {
   "cell_type": "code",
   "execution_count": 108,
   "metadata": {
    "ExecuteTime": {
     "end_time": "2018-12-12T15:31:08.899938Z",
     "start_time": "2018-12-12T15:31:08.878967Z"
    }
   },
   "outputs": [
    {
     "data": {
      "text/html": [
       "<div>\n",
       "<style>\n",
       "    .dataframe thead tr:only-child th {\n",
       "        text-align: right;\n",
       "    }\n",
       "\n",
       "    .dataframe thead th {\n",
       "        text-align: left;\n",
       "    }\n",
       "\n",
       "    .dataframe tbody tr th {\n",
       "        vertical-align: top;\n",
       "    }\n",
       "</style>\n",
       "<table border=\"1\" class=\"dataframe\">\n",
       "  <thead>\n",
       "    <tr style=\"text-align: right;\">\n",
       "      <th></th>\n",
       "      <th>Name</th>\n",
       "      <th>PClass</th>\n",
       "      <th>Age</th>\n",
       "      <th>Sex</th>\n",
       "      <th>Survived</th>\n",
       "      <th>Height</th>\n",
       "    </tr>\n",
       "  </thead>\n",
       "  <tbody>\n",
       "    <tr>\n",
       "      <th>0</th>\n",
       "      <td>Allen, Miss Elisabeth Walton</td>\n",
       "      <td>1st</td>\n",
       "      <td>29.00</td>\n",
       "      <td>female</td>\n",
       "      <td>1.0</td>\n",
       "      <td>166</td>\n",
       "    </tr>\n",
       "    <tr>\n",
       "      <th>1</th>\n",
       "      <td>Allison, Miss Helen Loraine</td>\n",
       "      <td>1st</td>\n",
       "      <td>2.00</td>\n",
       "      <td>female</td>\n",
       "      <td>0.0</td>\n",
       "      <td>166</td>\n",
       "    </tr>\n",
       "    <tr>\n",
       "      <th>2</th>\n",
       "      <td>Allison, Mr Hudson Joshua Creighton</td>\n",
       "      <td>1st</td>\n",
       "      <td>30.00</td>\n",
       "      <td>male</td>\n",
       "      <td>0.0</td>\n",
       "      <td>166</td>\n",
       "    </tr>\n",
       "    <tr>\n",
       "      <th>3</th>\n",
       "      <td>Allison, Mrs Hudson JC (Bessie Waldo Daniels)</td>\n",
       "      <td>1st</td>\n",
       "      <td>25.00</td>\n",
       "      <td>female</td>\n",
       "      <td>0.0</td>\n",
       "      <td>166</td>\n",
       "    </tr>\n",
       "    <tr>\n",
       "      <th>4</th>\n",
       "      <td>Allison, Master Hudson Trevor</td>\n",
       "      <td>1st</td>\n",
       "      <td>0.92</td>\n",
       "      <td>male</td>\n",
       "      <td>1.0</td>\n",
       "      <td>166</td>\n",
       "    </tr>\n",
       "    <tr>\n",
       "      <th>5</th>\n",
       "      <td>Anderson, Mr Harry</td>\n",
       "      <td>1st</td>\n",
       "      <td>47.00</td>\n",
       "      <td>male</td>\n",
       "      <td>1.0</td>\n",
       "      <td>166</td>\n",
       "    </tr>\n",
       "    <tr>\n",
       "      <th>6</th>\n",
       "      <td>Andrews, Miss Kornelia Theodosia</td>\n",
       "      <td>1st</td>\n",
       "      <td>63.00</td>\n",
       "      <td>female</td>\n",
       "      <td>1.0</td>\n",
       "      <td>166</td>\n",
       "    </tr>\n",
       "    <tr>\n",
       "      <th>7</th>\n",
       "      <td>Emma Stone</td>\n",
       "      <td>1st</td>\n",
       "      <td>28.00</td>\n",
       "      <td>female</td>\n",
       "      <td>1.0</td>\n",
       "      <td>166</td>\n",
       "    </tr>\n",
       "  </tbody>\n",
       "</table>\n",
       "</div>"
      ],
      "text/plain": [
       "                                            Name PClass    Age     Sex  \\\n",
       "0                   Allen, Miss Elisabeth Walton    1st  29.00  female   \n",
       "1                    Allison, Miss Helen Loraine    1st   2.00  female   \n",
       "2            Allison, Mr Hudson Joshua Creighton    1st  30.00    male   \n",
       "3  Allison, Mrs Hudson JC (Bessie Waldo Daniels)    1st  25.00  female   \n",
       "4                  Allison, Master Hudson Trevor    1st   0.92    male   \n",
       "5                             Anderson, Mr Harry    1st  47.00    male   \n",
       "6               Andrews, Miss Kornelia Theodosia    1st  63.00  female   \n",
       "7                                     Emma Stone    1st  28.00  female   \n",
       "\n",
       "   Survived  Height  \n",
       "0       1.0     166  \n",
       "1       0.0     166  \n",
       "2       0.0     166  \n",
       "3       0.0     166  \n",
       "4       1.0     166  \n",
       "5       1.0     166  \n",
       "6       1.0     166  \n",
       "7       1.0     166  "
      ]
     },
     "execution_count": 108,
     "metadata": {},
     "output_type": "execute_result"
    }
   ],
   "source": [
    "titanic_head_7.loc[:,'Height'] = height # titanic_head_7.iloc[:.5] = height ------> will throw an error\n",
    "titanic_head_7"
   ]
  },
  {
   "cell_type": "markdown",
   "metadata": {
    "ExecuteTime": {
     "end_time": "2018-12-12T15:31:49.042724Z",
     "start_time": "2018-12-12T15:31:49.038725Z"
    }
   },
   "source": [
    "### Replace values in DataFrame"
   ]
  },
  {
   "cell_type": "code",
   "execution_count": 111,
   "metadata": {
    "ExecuteTime": {
     "end_time": "2018-12-12T15:33:13.747429Z",
     "start_time": "2018-12-12T15:33:13.726463Z"
    }
   },
   "outputs": [
    {
     "data": {
      "text/html": [
       "<div>\n",
       "<style>\n",
       "    .dataframe thead tr:only-child th {\n",
       "        text-align: right;\n",
       "    }\n",
       "\n",
       "    .dataframe thead th {\n",
       "        text-align: left;\n",
       "    }\n",
       "\n",
       "    .dataframe tbody tr th {\n",
       "        vertical-align: top;\n",
       "    }\n",
       "</style>\n",
       "<table border=\"1\" class=\"dataframe\">\n",
       "  <thead>\n",
       "    <tr style=\"text-align: right;\">\n",
       "      <th></th>\n",
       "      <th>Name</th>\n",
       "      <th>PClass</th>\n",
       "      <th>Age</th>\n",
       "      <th>Sex</th>\n",
       "      <th>Survived</th>\n",
       "      <th>Height</th>\n",
       "    </tr>\n",
       "  </thead>\n",
       "  <tbody>\n",
       "    <tr>\n",
       "      <th>0</th>\n",
       "      <td>Allen, Miss Elisabeth Walton</td>\n",
       "      <td>1st</td>\n",
       "      <td>22</td>\n",
       "      <td>female</td>\n",
       "      <td>1.0</td>\n",
       "      <td>166</td>\n",
       "    </tr>\n",
       "    <tr>\n",
       "      <th>1</th>\n",
       "      <td>Allison, Miss Helen Loraine</td>\n",
       "      <td>1st</td>\n",
       "      <td>22</td>\n",
       "      <td>female</td>\n",
       "      <td>0.0</td>\n",
       "      <td>166</td>\n",
       "    </tr>\n",
       "    <tr>\n",
       "      <th>2</th>\n",
       "      <td>Allison, Mr Hudson Joshua Creighton</td>\n",
       "      <td>1st</td>\n",
       "      <td>22</td>\n",
       "      <td>male</td>\n",
       "      <td>0.0</td>\n",
       "      <td>166</td>\n",
       "    </tr>\n",
       "    <tr>\n",
       "      <th>3</th>\n",
       "      <td>Allison, Mrs Hudson JC (Bessie Waldo Daniels)</td>\n",
       "      <td>1st</td>\n",
       "      <td>22</td>\n",
       "      <td>female</td>\n",
       "      <td>0.0</td>\n",
       "      <td>166</td>\n",
       "    </tr>\n",
       "    <tr>\n",
       "      <th>4</th>\n",
       "      <td>Allison, Master Hudson Trevor</td>\n",
       "      <td>1st</td>\n",
       "      <td>22</td>\n",
       "      <td>male</td>\n",
       "      <td>1.0</td>\n",
       "      <td>166</td>\n",
       "    </tr>\n",
       "    <tr>\n",
       "      <th>5</th>\n",
       "      <td>Anderson, Mr Harry</td>\n",
       "      <td>1st</td>\n",
       "      <td>22</td>\n",
       "      <td>male</td>\n",
       "      <td>1.0</td>\n",
       "      <td>166</td>\n",
       "    </tr>\n",
       "    <tr>\n",
       "      <th>6</th>\n",
       "      <td>Andrews, Miss Kornelia Theodosia</td>\n",
       "      <td>1st</td>\n",
       "      <td>22</td>\n",
       "      <td>female</td>\n",
       "      <td>1.0</td>\n",
       "      <td>166</td>\n",
       "    </tr>\n",
       "    <tr>\n",
       "      <th>7</th>\n",
       "      <td>Emma Stone</td>\n",
       "      <td>1st</td>\n",
       "      <td>22</td>\n",
       "      <td>female</td>\n",
       "      <td>1.0</td>\n",
       "      <td>166</td>\n",
       "    </tr>\n",
       "  </tbody>\n",
       "</table>\n",
       "</div>"
      ],
      "text/plain": [
       "                                            Name PClass  Age     Sex  \\\n",
       "0                   Allen, Miss Elisabeth Walton    1st   22  female   \n",
       "1                    Allison, Miss Helen Loraine    1st   22  female   \n",
       "2            Allison, Mr Hudson Joshua Creighton    1st   22    male   \n",
       "3  Allison, Mrs Hudson JC (Bessie Waldo Daniels)    1st   22  female   \n",
       "4                  Allison, Master Hudson Trevor    1st   22    male   \n",
       "5                             Anderson, Mr Harry    1st   22    male   \n",
       "6               Andrews, Miss Kornelia Theodosia    1st   22  female   \n",
       "7                                     Emma Stone    1st   22  female   \n",
       "\n",
       "   Survived  Height  \n",
       "0       1.0     166  \n",
       "1       0.0     166  \n",
       "2       0.0     166  \n",
       "3       0.0     166  \n",
       "4       1.0     166  \n",
       "5       1.0     166  \n",
       "6       1.0     166  \n",
       "7       1.0     166  "
      ]
     },
     "execution_count": 111,
     "metadata": {},
     "output_type": "execute_result"
    }
   ],
   "source": [
    "replace_age = np.array([22] * len(titanic_head_7))\n",
    "\n",
    "# replace values in DataFrame\n",
    "titanic_head_7.loc[:,'Age'] = replace_age # titanic_head7.iloc[:,2] = replace_age ------> will also work\n",
    "titanic_head_7"
   ]
  },
  {
   "cell_type": "markdown",
   "metadata": {},
   "source": [
    "# Missing Data"
   ]
  },
  {
   "cell_type": "markdown",
   "metadata": {},
   "source": [
    "The difference between data found in many tutorials and data in the real world is that real-world data is rarely clean and homogeneous. In particular, many interesting datasets will have some amount of data missing.\n",
    "\n",
    "Pandas chose to use two already-existing Python null values for missing data:\n",
    "<ul>\n",
    "    <li>the special floating-point <b>NaN</b> value</li>\n",
    "    <li>the Python <b>None</b> object</li>\n",
    "</ul>\n",
    "\n",
    "`NaN` usually appears in numerical datasets and `None` appears in the rest of cases.\n",
    "\n",
    "`NaN` and `None` both have their place, and Pandas is built to handle the two of them nearly interchangeably, converting between them where appropriate."
   ]
  },
  {
   "cell_type": "code",
   "execution_count": 3,
   "metadata": {
    "ExecuteTime": {
     "end_time": "2018-12-13T07:22:34.898208Z",
     "start_time": "2018-12-13T07:22:34.878211Z"
    }
   },
   "outputs": [
    {
     "data": {
      "text/plain": [
       "0    1.0\n",
       "1    NaN\n",
       "2    2.0\n",
       "3    NaN\n",
       "dtype: float64"
      ]
     },
     "execution_count": 3,
     "metadata": {},
     "output_type": "execute_result"
    }
   ],
   "source": [
    "# Let's create a simple Pandas Series example. Data in Series share the same type\n",
    "s_nan = pd.Series([1, np.nan, 2, None])\n",
    "s_nan"
   ]
  },
  {
   "cell_type": "markdown",
   "metadata": {},
   "source": [
    "Note that in the above example, `np.nan` is of dtype float64, thus, 1 and 2 are both upcasted to float64 from integer type. \n",
    "\n",
    "The `None` (dtype: Object) appears in a numerical array, and automatically downcast to float64 as well."
   ]
  },
  {
   "cell_type": "code",
   "execution_count": null,
   "metadata": {},
   "outputs": [],
   "source": []
  },
  {
   "cell_type": "code",
   "execution_count": null,
   "metadata": {},
   "outputs": [],
   "source": [
    "## `Dataframe`\n",
    "\n",
    "DataFrames are essentially multidimensional arrays with attached **row** and **column** labels, and often with heterogeneous types and/or missing data.\n",
    "\n",
    "<p><font size=\"3\" color=\"blue\">Two indexing, <code><font size=\"4\" color=\"blue\">index</p></code>for rows & <code><font size=\"4\" color=\"blue\">columns</p></code>for columns </font></p>\n",
    "\n",
    "**Create a DataFrame from a dictionary of pd.Series**\n",
    "\n",
    "`d` is a dictionary made of `pd.Series` values. Using `pd.DataFrame()`, the `d` dictionary is converted into a `DataFrame`.\n",
    "\n",
    "Since, the `Age` value for `Steven` is not given, `DataFrame` fills it with `NaN`.\n",
    "\n",
    "d = {'Age'    : pd.Series([27, 21, 30],         index=['John', 'Emma', 'Andrew']), \n",
    "     'Height' : pd.Series([165, 177, 154, 169], index=['John', 'Emma', 'Andrew', 'Steven'])}\n",
    "df_ds = pd.DataFrame(d)\n",
    "df_ds\n",
    "\n",
    "### `index`, `columns` & `values`\n",
    "\n",
    "df_ds.index\n",
    "\n",
    "df_ds.columns\n",
    "\n",
    "df_ds.values\n",
    "\n",
    "The code below is expanded version of the above code.\n",
    "\n",
    "s_1 = pd.Series([27, 21, 30],         index=['John', 'Emma', 'Andrew'])\n",
    "s_2 = pd.Series([165, 177, 154, 169], index=['John', 'Emma', 'Andrew', 'Steven'])\n",
    "d = {'Age'    : s_1,\n",
    "     'Height' : s_2}\n",
    "df_ds = pd.DataFrame(d)\n",
    "df_ds\n",
    "\n",
    "### Sorting using `sort_values(by='')`\n",
    "\n",
    "df_ds.sort_values(by=\"Age\", ascending=False)\n",
    "\n",
    "### indexing & slicing\n",
    "\n",
    "To extract all the columns of a set of rows. \n",
    "\n",
    "df_ds['Andrew':'Andrew']          # slicing - returns a Pandas DataFrame\n",
    "\n",
    "df_ds[0:2]                        # we select the specific rows using default index no\n",
    "\n",
    "df_ds['Andrew':'Emma']            # we select the specific rows using index name\n",
    "\n",
    "df_ds[\"Age\"]                      # we select the specific column  \n",
    "                                  # returns a Pandas Series\n",
    "\n",
    "df_ds[\"Andrew\":\"Emma\"][\"Age\"]     # we select the specific rows & a column\n",
    "\n",
    "**Create a DataFrame from a dictionary of lists**\n",
    "\n",
    "# 2. Create from a list of dictionaries \n",
    "l_1 = [1, 2, 3, 4, 5]\n",
    "l_2 = [2, 4, 6, 8, 10]\n",
    "l_d = {'list1': l_1, 'list2':l_2}   \n",
    "df_dl = pd.DataFrame(l_d)\n",
    "df_dl\n",
    "\n",
    "We can also index and slice through the rows and columns of the above DataFrame.\n",
    "\n",
    "df_dl[0:3]\n",
    "\n",
    "df_dl[0:3]['list1']\n",
    "\n",
    "## Index Object\n",
    "Both the `Series` and `DataFrame` objects contain an explicit **`index`** that helps you reference and modify data. \n",
    "\n",
    "It is an `immutable array` and `ordered set`.\n",
    "- `immutable` - Values in the index cannot be changed\n",
    "- `ordered set` - The values will stay in the same sequence they are created (Similar to dictionary)\n",
    "\n",
    "idx1 = pd.Index([1, 3, 5, 7, 9, 11])\n",
    "idx2 = pd.Index([2, 4, 5, 7, 9, 12])\n",
    "\n",
    "print (idx1)\n",
    "print (\"Data type:\", type(idx1))\n",
    "\n",
    "### indexing and slicing\n",
    "\n",
    "idx1[2]                 # indexing\n",
    "\n",
    "idx1[2:5]               # slicing\n",
    "\n",
    "### `size`,`shape`,`ndim`,`dtype`\n",
    "\n",
    "print (\"size of the index      :\", idx1.size)    # can be applied to Series, DataFrame as well\n",
    "print (\"shape of the index     :\", idx1.shape)   # can be applied to Series, DataFrame as well\n",
    "print (\"dimension of the index :\", idx1.ndim)    # can be applied to Series, DataFrame as well\n",
    "print (\"type of the index      :\", idx1.dtype)   # can be applied to Series as well\n",
    "\n",
    "### Set operation - `&`,`|`,`^`\n",
    "\n",
    "https://c1.staticflickr.com/5/4162/34264296262_7cb1fb7395_o.jpg\n",
    "\n",
    "print ('idx1                                  :', idx1)\n",
    "print ('idx2                                  :', idx2, \"\\n\")\n",
    "print (\"Intersection of idx1 and idx2         :\", idx1 & idx2)\n",
    "print (\"Union of idx1 and idx2                :\", idx1 | idx2)\n",
    "print (\"Symmetric difference of idx1 and idx2 :\", idx1 ^ idx2)\n",
    "\n",
    "# Basic Statistics\n",
    "\n",
    "# Create a DataFrame\n",
    "# AZ = Arizona, CA = California, FL = Florida\n",
    "# HI = Hawaii,  MI = Michigan,   PA = Pennsylvania\n",
    "# TX = Texas,   VA = Virginia,   WA = Washington\n",
    "\n",
    "s_popu  = pd.Series([6.9,   39.3,  20.6,  1.43, 9.93,  12.8,  27.9,  8.4,   7.3])    # million persons\n",
    "s_area  = pd.Series([295.2, 424.0, 170.3, 28.3, 250.5, 119.3, 695.7, 110.8, 184.7])  # thousand km^2\n",
    "s_warea = pd.Series([1.0,   20.5,  31.4,  11.7, 104.1, 3.4,   19.1,  8.5,   12.5])   # thousand km^2\n",
    "\n",
    "d = {'area_water'  : s_warea, \n",
    "     'population'  : s_popu,\n",
    "     'area_total'  : s_area\n",
    "    }\n",
    "\n",
    "df = pd.DataFrame(d)\n",
    "df.index = ['AZ', 'CA', 'FL', 'HI', 'MI', 'PA', 'TX', 'VA', 'WA']\n",
    "df\n",
    "\n",
    "## `mean`, `min`, `max`,`std`\n",
    "\n",
    "df_mean = df.mean(axis = 0)                  # axis=0 => Calculate average along the columns\n",
    "print (\"The average of ...\\n\", df_mean)\n",
    "\n",
    "df_min = df.min(axis = 0)                   # axis=0 => Calculate average along the columns\n",
    "print (\"The minimum of ...\\n\", df_min)\n",
    "\n",
    "df_max = df.max(axis = 0)                   # axis=0 => Calculate average along the columns\n",
    "print (\"The maximum of ...\\n\", df_max)\n",
    "\n",
    "df_std = df.std(axis = 0)                   # axis=0 => Calculate average along the columns\n",
    "print (\"The standard deviation of ...\\n\", df_std)\n",
    "\n",
    "## `corr`\n",
    "\n",
    "df_corr = df.corr()                  \n",
    "print (\"The correlation between the columns are ...\\n\", df_corr)\n",
    "\n",
    "# `DataFrame` - Revisited in detail\n",
    "\n",
    "## `read_csv()`\n",
    "\n",
    "import pandas as pd\n",
    "import numpy as np\n",
    "\n",
    "# Read Data from csv file named 'Titanic.csv'\n",
    "# create a Pandas.Dataframe\n",
    "titanic = pd.read_csv('Titanic.csv')\n",
    "titanic\n",
    "\n",
    "print (type(titanic))\n",
    "\n",
    "titanic.shape                      # (nrows, ncols)\n",
    "\n",
    "## `head` & `tail`\n",
    "<ul>\n",
    "    <li>`head()` : return first <b>n</b> rows of a DataFrame</li>\n",
    "    <li>`tail()` : return last <b>n</b> rows of a DataFrame</li>\n",
    "</ul>\n",
    "\n",
    "titanic.head()                     # default (n = 5)\n",
    "\n",
    "titanic.tail(n=4)                    # default (n = 5)\n",
    "\n",
    "## indexing & slicing - Detailed\n",
    "\n",
    "<p>There are commonly three ways of data selection:\n",
    "<ul>\n",
    "    <li>Selection by Label</li>\n",
    "    <li>Selection by Position</li>\n",
    "    <li>Selection by Boolean Mask (Filtering)</li>\n",
    "</ul>\n",
    "\n",
    "<code>.loc[]</code> <i>attribute is the primary indexing method of DataFrames</i>\n",
    "\n",
    "</p>\n",
    "\n",
    "titanic_head_7 = titanic.head(n=7).copy()\n",
    "titanic_head_7\n",
    "\n",
    "### `loc` - Selection by Label\n",
    "\n",
    "Using `.loc[]`, we can extract the rows of the dataframe using the index names/numbers.\n",
    "\n",
    "titanic_head_7.loc[2]                   # single label\n",
    "\n",
    "titanic_head_7[2:4]                    # slicing - without using `.loc[]` method\n",
    "                                       # note that the index (4) is NOT included\n",
    "\n",
    "titanic_head_7.loc[2:4]                # slicing\n",
    "                                       # note that the index (4) is ALSO included\n",
    "\n",
    "titanic_head_7.loc[[4,1,1,2]]           # list or array of label\n",
    "\n",
    "titanic_head_7[2:5][['Age','Survived']] # without using `iloc`\n",
    "                                        # has limitations when it comes to selecting random rows\n",
    "\n",
    "titanic_head_7.loc[2:4,['Age','Survived']]           \n",
    "                                         # Two labels are given as [index, column]\n",
    "\n",
    "### `iloc` - Selection by Postion\n",
    "\n",
    "`.iloc[]` is the primary attribute for selection by absolute position along index and columns.\n",
    "Here 'i' in 'iloc' means 'implicit' indexing\n",
    "\n",
    "titanic_head_7.iloc[2]                # it goes by integer location and nt by index name/number\n",
    "\n",
    "titanic_head_7.iloc[2:5, 0:3]         # slicing\n",
    "                                      # Two integer locations are given as [index_loc, column_loc]\n",
    "\n",
    "titanic_head_7.iloc[[3, 1, 5], [2, 4]] # list or array of label\n",
    "\n",
    "### Selection by Boolean Mask\n",
    "\n",
    "Boolean masking is very helpful and flexible in specifying condition during data selection.\n",
    "\n",
    "\n",
    "<p><u>Note</u> <i>that direct masking operations are interprected row-wise rather than column-wise</i></p>\n",
    "\n",
    "titanic_head_7['Age'] <= 30\n",
    "\n",
    "titanic_head_7['Sex'] == 'male'\n",
    "\n",
    "The result will be `True` only if both the conditions are satisfied as we are using `&` <=> `AND` operator.\n",
    "\n",
    "(titanic_head_7['Age'] <= 30) & (titanic_head_7['Sex'] == 'male')\n",
    "\n",
    "Extracts the rows from the DataFrame for which the above condition was `True`.\n",
    "\n",
    "titanic_head_7[(titanic_head_7['Age'] <= 30) & (titanic_head_7['Sex'] == 'male')]\n",
    "\n",
    " ### Add new row\n",
    "\n",
    "titanic_head_7\n",
    "\n",
    "titanic_head_7.shape\n",
    "\n",
    "Let's add a new row to the existing `titanic_head_7`. Remember to use `.loc[]` when **adding a new row** to DataFrame.\n",
    "\n",
    "However, `.iloc[]` can still be used in setting/updating a row if it already exists.\n",
    "\n",
    "new_item = ['Emma Stone', '1st', 28, 'female', 1]\n",
    "\n",
    "# Add the new item into the DataFrame\n",
    "titanic_head_7.loc[7,:] = new_item   # titanic_head_7.iloc[7,:] = new_item ------> will throw an error\n",
    "titanic_head_7\n",
    "\n",
    "\n",
    "\n",
    "### Add new column\n",
    "\n",
    "height = np.array([166] * len(titanic_head_7)) \n",
    "height\n",
    "\n",
    "titanic_head_7.loc[:,'Height'] = height # titanic_head_7.iloc[:.5] = height ------> will throw an error\n",
    "titanic_head_7\n",
    "\n",
    "### Replace values in DataFrame\n",
    "\n",
    "replace_age = np.array([22] * len(titanic_head_7))\n",
    "\n",
    "# replace values in DataFrame\n",
    "titanic_head_7.loc[:,'Age'] = replace_age # titanic_head7.iloc[:,2] = replace_age ------> will also work\n",
    "titanic_head_7\n",
    "\n",
    "# Missing Data\n",
    "\n",
    "The difference between data found in many tutorials and data in the real world is that real-world data is rarely clean and homogeneous. In particular, many interesting datasets will have some amount of data missing.\n",
    "\n",
    "Pandas chose to use two already-existing Python null values for missing data:\n",
    "<ul>\n",
    "    <li>the special floating-point <b>NaN</b> value</li>\n",
    "    <li>the Python <b>None</b> object</li>\n",
    "</ul>\n",
    "\n",
    "`NaN` usually appears in numerical datasets and `None` appears in the rest of cases.\n",
    "\n",
    "`NaN` and `None` both have their place, and Pandas is built to handle the two of them nearly interchangeably, converting between them where appropriate.\n",
    "\n",
    "# Let's create a simple Pandas Series example. Data in Series share the same type\n",
    "s_nan = pd.Series([1, np.nan, 2, None])\n",
    "s_nan\n",
    "\n",
    "Note that in the above example, `np.nan` is of dtype float64, thus, 1 and 2 are both upcasted to float64 from integer type. \n",
    "\n",
    "The `None` (dtype: Object) appears in a numerical array, and automatically downcast to float64 as well.\n",
    "\n"
   ]
  }
 ],
 "metadata": {
  "kernelspec": {
   "display_name": "Python3",
   "language": "python",
   "name": "python3"
  },
  "language_info": {
   "codemirror_mode": {
    "name": "ipython",
    "version": 3
   },
   "file_extension": ".py",
   "mimetype": "text/x-python",
   "name": "python",
   "nbconvert_exporter": "python",
   "pygments_lexer": "ipython3",
   "version": "3.6.1"
  },
  "toc": {
   "base_numbering": 1,
   "nav_menu": {},
   "number_sections": true,
   "sideBar": true,
   "skip_h1_title": false,
   "title_cell": "Table of Contents",
   "title_sidebar": "Contents",
   "toc_cell": false,
   "toc_position": {
    "height": "calc(100% - 180px)",
    "left": "10px",
    "top": "150px",
    "width": "300px"
   },
   "toc_section_display": true,
   "toc_window_display": true
  }
 },
 "nbformat": 4,
 "nbformat_minor": 2
}

{
 "cells": [
  {
   "cell_type": "markdown",
   "metadata": {
    "ExecuteTime": {
     "end_time": "2018-07-03T12:02:43.936941Z",
     "start_time": "2018-07-03T12:02:43.930614Z"
    }
   },
   "source": [
    "*For full screen view & to download, visit *\n",
    "- `HTML` : <a href=\"https://prasanth-ntu.github.io/html/ML-Course/Intro-to-ML-with-Python/2b-Supervised-Learning-Linear-Regression.html\" target=\"_blank\">Click here</a>\n",
    "- `GITHUB` : <a href=\"https://github.com/prasanth-ntu/prasanth-ntu.github.io/blob/master/html/ML-Course/Intro-to-ML-with-Python\" target=\"_blank\">Click here</a>\n",
    "\n",
    "*To get back to ML website*, <a href=\"https://prasanth-ntu.github.io/html/ML-Course-13.html\" target=\"_blank\">Click here</a>"
   ]
  },
  {
   "cell_type": "markdown",
   "metadata": {
    "toc": "true"
   },
   "source": [
    "<h1>Table of Contents<span class=\"tocSkip\"></span></h1>\n",
    "<div class=\"toc\"><ul class=\"toc-item\"><li><span><a href=\"#Linear-Models-for-regression\" data-toc-modified-id=\"Linear-Models-for-regression-1\"><span class=\"toc-item-num\">1&nbsp;&nbsp;</span>Linear Models for regression</a></span><ul class=\"toc-item\"><li><span><a href=\"#Linear-Regression--Theory\" data-toc-modified-id=\"Linear-Regression--Theory-1.1\"><span class=\"toc-item-num\">1.1&nbsp;&nbsp;</span>Linear Regression- Theory</a></span><ul class=\"toc-item\"><li><span><a href=\"#Linear-regression-with-one-variable\" data-toc-modified-id=\"Linear-regression-with-one-variable-1.1.1\"><span class=\"toc-item-num\">1.1.1&nbsp;&nbsp;</span>Linear regression with one variable</a></span><ul class=\"toc-item\"><li><span><a href=\"#Model-Representation\" data-toc-modified-id=\"Model-Representation-1.1.1.1\"><span class=\"toc-item-num\">1.1.1.1&nbsp;&nbsp;</span>Model Representation</a></span></li><li><span><a href=\"#Cost-function\" data-toc-modified-id=\"Cost-function-1.1.1.2\"><span class=\"toc-item-num\">1.1.1.2&nbsp;&nbsp;</span>Cost function</a></span></li><li><span><a href=\"#Gradient-Descent\" data-toc-modified-id=\"Gradient-Descent-1.1.1.3\"><span class=\"toc-item-num\">1.1.1.3&nbsp;&nbsp;</span>Gradient Descent</a></span></li><li><span><a href=\"#Gradient-Descent-for-linear-regression\" data-toc-modified-id=\"Gradient-Descent-for-linear-regression-1.1.1.4\"><span class=\"toc-item-num\">1.1.1.4&nbsp;&nbsp;</span>Gradient Descent for linear regression</a></span></li></ul></li></ul></li></ul></li><li><span><a href=\"#Linear-Models-for-regression\" data-toc-modified-id=\"Linear-Models-for-regression-2\"><span class=\"toc-item-num\">2&nbsp;&nbsp;</span>Linear Models for regression</a></span><ul class=\"toc-item\"><li><span><a href=\"#Linear-Regression\" data-toc-modified-id=\"Linear-Regression-2.1\"><span class=\"toc-item-num\">2.1&nbsp;&nbsp;</span>Linear Regression</a></span><ul class=\"toc-item\"><li><span><a href=\"#Dataset-with-one-dimension\" data-toc-modified-id=\"Dataset-with-one-dimension-2.1.1\"><span class=\"toc-item-num\">2.1.1&nbsp;&nbsp;</span>Dataset with one dimension</a></span></li><li><span><a href=\"#Dataset-with-multi-dimensions\" data-toc-modified-id=\"Dataset-with-multi-dimensions-2.1.2\"><span class=\"toc-item-num\">2.1.2&nbsp;&nbsp;</span>Dataset with multi dimensions</a></span></li></ul></li><li><span><a href=\"#Ridge-Regression\" data-toc-modified-id=\"Ridge-Regression-2.2\"><span class=\"toc-item-num\">2.2&nbsp;&nbsp;</span>Ridge Regression</a></span><ul class=\"toc-item\"><li><span><a href=\"#alpha\" data-toc-modified-id=\"alpha-2.2.1\"><span class=\"toc-item-num\">2.2.1&nbsp;&nbsp;</span><code>alpha</code></a></span></li><li><span><a href=\"#alpha---Qualitative-insight\" data-toc-modified-id=\"alpha---Qualitative-insight-2.2.2\"><span class=\"toc-item-num\">2.2.2&nbsp;&nbsp;</span>alpha - Qualitative insight</a></span></li></ul></li></ul></li><li><span><a href=\"#Summary\" data-toc-modified-id=\"Summary-3\"><span class=\"toc-item-num\">3&nbsp;&nbsp;</span>Summary</a></span></li><li><span><a href=\"#Later-use\" data-toc-modified-id=\"Later-use-4\"><span class=\"toc-item-num\">4&nbsp;&nbsp;</span>Later use</a></span></li></ul></div>"
   ]
  },
  {
   "cell_type": "markdown",
   "metadata": {},
   "source": [
    "# Linear Models for regression"
   ]
  },
  {
   "cell_type": "markdown",
   "metadata": {
    "ExecuteTime": {
     "end_time": "2018-09-08T14:58:57.398114Z",
     "start_time": "2018-09-08T14:58:57.392122Z"
    }
   },
   "source": [
    "## Linear Regression- Theory"
   ]
  },
  {
   "cell_type": "markdown",
   "metadata": {
    "ExecuteTime": {
     "end_time": "2018-09-08T14:59:18.297117Z",
     "start_time": "2018-09-08T14:59:18.290141Z"
    }
   },
   "source": [
    "### Linear regression with one variable "
   ]
  },
  {
   "cell_type": "markdown",
   "metadata": {
    "ExecuteTime": {
     "end_time": "2018-09-08T15:09:14.905786Z",
     "start_time": "2018-09-08T15:09:14.900789Z"
    }
   },
   "source": [
    "#### Model Representation"
   ]
  },
  {
   "cell_type": "markdown",
   "metadata": {
    "ExecuteTime": {
     "end_time": "2018-09-08T15:12:46.144727Z",
     "start_time": "2018-09-08T15:12:46.135731Z"
    }
   },
   "source": [
    "<p><img src=\"https://prasanth-ntu.github.io/html/ML-Course/Intro-to-ML-with-Python/images/linear_regression_model_representation_1.png\" alt=\"linear_regression_model_representation_1\" title=\"linear_regression_model_representation_1-wikipedia\" style=\"max-width:400px;\"></p>"
   ]
  },
  {
   "cell_type": "markdown",
   "metadata": {},
   "source": [
    "#### Cost function"
   ]
  },
  {
   "cell_type": "markdown",
   "metadata": {
    "ExecuteTime": {
     "end_time": "2018-09-08T15:17:00.530928Z",
     "start_time": "2018-09-08T15:17:00.525930Z"
    }
   },
   "source": [
    "#### Gradient Descent"
   ]
  },
  {
   "cell_type": "markdown",
   "metadata": {
    "ExecuteTime": {
     "end_time": "2018-09-08T15:17:32.968583Z",
     "start_time": "2018-09-08T15:17:32.960587Z"
    }
   },
   "source": [
    "#### Gradient Descent for linear regression "
   ]
  },
  {
   "cell_type": "markdown",
   "metadata": {},
   "source": [
    "# Linear Models for regression"
   ]
  },
  {
   "cell_type": "markdown",
   "metadata": {
    "ExecuteTime": {
     "end_time": "2018-09-09T02:45:36.362215Z",
     "start_time": "2018-09-09T02:45:36.100519Z"
    }
   },
   "source": [
    "For regression, the prediction formula for **a linear model with one input feature (variable)** is\n",
    "\n",
    "- `ŷ = w[0]*x[0] + b = w*x + b`\n",
    "\n",
    "<p style=\"color:green; font-size:110%;  border-left: 5px solid blue; padding-left: 10px;\"><b>This is nothing but equation for a line.</b></p>\n",
    "\n",
    "Here, \n",
    "- `x` denotes the input features (`x[0]` is input feature of a single data point) and, \n",
    "- `ŷ` denotes the prediction made by the model.\n",
    "- `w` is the slope (*weights or coefficients*) along each feature axis (`w[0]` is slope along axis `x[0]`)\n",
    "- `b` is the intercept (offset) along `y-axis`"
   ]
  },
  {
   "cell_type": "markdown",
   "metadata": {},
   "source": [
    "Trying to learn the parameters, `w` and `[b]` is the task of the linear models. \n",
    "\n",
    "For models with `n` input features, the prediction formula will become as\n",
    "\n",
    "- `ŷ = w[0]*x[0] + w[1]*x[1] + ... + w[n-1]*x[n-1] + b = w*x + b`\n",
    "\n",
    "Let's look at an one-dimensional (one input variable) `wave` dataset which will have a following linear line that best approximates the input features with output values.\n",
    "\n",
    "From the output below, we see that the slope `w[0]` of the linear line is around 0.4. The intercept `b` is close to 0.  "
   ]
  },
  {
   "cell_type": "code",
   "execution_count": 31,
   "metadata": {
    "ExecuteTime": {
     "end_time": "2018-09-09T03:12:31.652230Z",
     "start_time": "2018-09-09T03:12:31.151966Z"
    }
   },
   "outputs": [
    {
     "name": "stdout",
     "output_type": "stream",
     "text": [
      "w[0]: 0.393906  b: -0.031804\n"
     ]
    },
    {
     "data": {
      "image/png": "[encoded data removed]",
      "text/plain": [
       "<matplotlib.figure.Figure at 0x1c12369fa58>"
      ]
     },
     "metadata": {},
     "output_type": "display_data"
    }
   ],
   "source": [
    "import mglearn\n",
    "import matplotlib.pyplot as plt\n",
    "import matplotlib\n",
    "\n",
    "mglearn.plots.plot_linear_regression_wave(); plt.title('Linear Regression on One-dimensional wave dataset')\n",
    "fig = matplotlib.pyplot.gcf(); fig.set_size_inches(8, 6); plt.show()"
   ]
  },
  {
   "cell_type": "markdown",
   "metadata": {},
   "source": [
    "<p><b>Linear models for regression can be characterized as regression models for which the prediction is </b>\n",
    "<ul style=\"color:purple; font-size:110%;  border-left: 5px solid blue; padding-left: 20px; list-style: none; line-height: 190%;\">\n",
    "<li>a line for a single input feature (1D),</li>\n",
    "<li>a plane when using two features (2D), or</li>\n",
    "<li>a hyper‐plane in higher dimensions (that is, when using more features).</li></ul></p>"
   ]
  },
  {
   "cell_type": "markdown",
   "metadata": {},
   "source": [
    "There are many different linear models for regression. The difference lies in how the model parameters `w` and `b` are learned from the training data, and how model complexity can be controlled. In this post, we will look at the most popular linear models for regression, namely\n",
    "- `Linear Regression`\n",
    "- `Ridge Regression`\n",
    "- `Lasso`"
   ]
  },
  {
   "cell_type": "markdown",
   "metadata": {},
   "source": [
    "## Linear Regression "
   ]
  },
  {
   "cell_type": "markdown",
   "metadata": {},
   "source": [
    "- Aka ordinary least squares (OLS), is the simplest and most classic linear method. \n",
    "- Linear Regression finds the best parameters `w` and `b` that minimises the mean squared error between true output, y and predicted output, h(x) or  on the training set.\n",
    "- `mean squared error (MSE)`= sum of squared differences between between the predictions and true values \n",
    "<p><img src=\"https://prasanth-ntu.github.io/html/ML-Course/Intro-to-ML-with-Python/images/MSE_1.png\" alt=\"MSE\" title=\"MSE\" style=\"max-width:180px;\"></p>\n",
    "\n",
    "\n",
    "<p style=\"color:red; font-size:110%;  border-left: 5px solid blue; padding-left: 10px;\"><b>Linear regression has no parameters to control which makes it easy to use, but it also has no way to control model complexity. </b></p>\n",
    "\n",
    "For more details, refer http://scikit-learn.org/stable/modules/linear_model.html#ordinary-least-squares"
   ]
  },
  {
   "cell_type": "markdown",
   "metadata": {},
   "source": [
    "### Dataset with one dimension"
   ]
  },
  {
   "cell_type": "code",
   "execution_count": 32,
   "metadata": {
    "ExecuteTime": {
     "end_time": "2018-09-09T03:39:55.562511Z",
     "start_time": "2018-09-09T03:39:55.553516Z"
    }
   },
   "outputs": [],
   "source": [
    "import mglearn\n",
    "from sklearn.linear_model import LinearRegression\n",
    "from sklearn.model_selection import train_test_split\n",
    "import numpy as np\n",
    "\n",
    "X,y = mglearn.datasets.make_wave(n_samples=60)\n",
    "X_train, X_test, y_train, y_test = train_test_split(X,y, random_state=42)\n",
    "\n",
    "lr = LinearRegression().fit(X_train, y_train)        # Fit the linear regression model on the training data"
   ]
  },
  {
   "cell_type": "markdown",
   "metadata": {},
   "source": [
    "- The `intercept_` attribute learned by the `LinearRegression().fit(X_train, y_train)` method will always be a single float number.\n",
    "- The `coef_` learned is a `numpy` array with one entry per input feature. \n",
    "    - As the `wave` dataset code has only one input feature, `coef_` only has a single entry."
   ]
  },
  {
   "cell_type": "code",
   "execution_count": 95,
   "metadata": {
    "ExecuteTime": {
     "end_time": "2018-09-09T04:15:01.729514Z",
     "start_time": "2018-09-09T04:15:01.720520Z"
    }
   },
   "outputs": [
    {
     "name": "stdout",
     "output_type": "stream",
     "text": [
      "--- Slope and intercept learned from the wave training data by Linear Regressor ---\n",
      "lr.coef_: [ 0.39390555]\n",
      "lr.intercept_: -0.031804343026759746\n"
     ]
    }
   ],
   "source": [
    "print ('--- Slope and intercept learned from the wave training data by Linear Regressor ---')\n",
    "print (\"lr.coef_: {}\".format(lr.coef_))              # slope or weight parameter learned from the training data\n",
    "print (\"lr.intercept_: {}\".format(lr.intercept_))    # intercept along y-axis learned from the training data"
   ]
  },
  {
   "cell_type": "code",
   "execution_count": 96,
   "metadata": {
    "ExecuteTime": {
     "end_time": "2018-09-09T04:15:31.572468Z",
     "start_time": "2018-09-09T04:15:31.562815Z"
    }
   },
   "outputs": [
    {
     "name": "stdout",
     "output_type": "stream",
     "text": [
      "--- Compute the linear line learned to include in the plot ---\n"
     ]
    }
   ],
   "source": [
    "print ('--- Compute the linear line learned to include in the plot ---')\n",
    "linear_x = np.array([min(X), max(X)])\n",
    "predicted_y = lr.coef_ * linear_x + lr.intercept_"
   ]
  },
  {
   "cell_type": "code",
   "execution_count": 91,
   "metadata": {
    "ExecuteTime": {
     "end_time": "2018-09-09T04:09:23.915959Z",
     "start_time": "2018-09-09T04:09:23.623307Z"
    }
   },
   "outputs": [
    {
     "data": {
      "image/png": "[encoded data removed]",
      "text/plain": [
       "<matplotlib.figure.Figure at 0x1c12333a080>"
      ]
     },
     "metadata": {},
     "output_type": "display_data"
    }
   ],
   "source": [
    "figure(figsize=(7,5))\n",
    "\n",
    "plt.plot(X_train,y_train, 'o')                        # plot the training data\n",
    "plt.plot(X_test,y_test, 'x')                          # plot the test data\n",
    "\n",
    "plt.plot(linear_x, predicted_y)                       # plot the predicted linear line learned by the LR model\n",
    "\n",
    "# --- Center the axis tick marks --- #\n",
    "ax = plt.gca(); plt.ylim([-3,3])\n",
    "ax.spines['right'].set_color('none'); ax.spines['top'].set_color('none')\n",
    "ax.xaxis.set_ticks_position('bottom'); ax.spines['bottom'].set_position(('data',0))\n",
    "ax.yaxis.set_ticks_position('left'); ax.spines['left'].set_position(('data',0))\n",
    "\n",
    "plt.legend(['training data', 'test data', 'model'])\n",
    "plt.title('Input data and corresponding linear model')\n",
    "plt.grid(); plt.show()"
   ]
  },
  {
   "cell_type": "code",
   "execution_count": 97,
   "metadata": {
    "ExecuteTime": {
     "end_time": "2018-09-09T05:48:50.207539Z",
     "start_time": "2018-09-09T05:48:50.196548Z"
    }
   },
   "outputs": [
    {
     "name": "stdout",
     "output_type": "stream",
     "text": [
      "Training set score: 0.67\n",
      "Test set score: 0.66\n"
     ]
    }
   ],
   "source": [
    "print(\"Training set score: {:.2f}\".format(lr.score(X_train, y_train)))\n",
    "print(\"Test set score: {:.2f}\".format(lr.score(X_test, y_test)))"
   ]
  },
  {
   "cell_type": "markdown",
   "metadata": {},
   "source": [
    "- <p>An <code>R<sup>2</sup></code> test score of 0.66 is not very good.</p>\n",
    "- However, *scores on training and test sets are very close*.\n",
    "    - This implies **we are likely undefitting**.\n",
    "    - For 1D dataset, the model is usually very simple and restricted and there's little danger of overfitting.\n",
    "    \n",
    " \n",
    "- However, for higher dimensional datasets (i.e. dataseets with more number of features), linear models become more powerful, and there's more chance of overfitting. \n",
    "- If we compare the predictions made by straight line with those made by the `KNN` in previous post, using a straight line to make predictions seems very restrictive. \n",
    "    - It's somewhat unrealistic to assume that our target y is a linear combination of features.\n",
    "    - This gives a skewed perspective when we look at 1D data\n",
    "- For multi dimensional dataset, linear models can be very powerful. "
   ]
  },
  {
   "cell_type": "markdown",
   "metadata": {},
   "source": [
    "### Dataset with multi dimensions"
   ]
  },
  {
   "cell_type": "markdown",
   "metadata": {},
   "source": [
    "- Let’s take a look at how `LinearRegression` performs on a more complex dataset, like the `Boston Housing dataset`.\n",
    "- This dataset has *506 input samples* and *105 derived features (or) variables*.\n",
    "- First, we load the dataset and split it into a training and a test set. Then we build the linear regression model as before:"
   ]
  },
  {
   "cell_type": "code",
   "execution_count": 119,
   "metadata": {
    "ExecuteTime": {
     "end_time": "2018-09-09T06:55:52.084415Z",
     "start_time": "2018-09-09T06:55:52.020409Z"
    },
    "scrolled": true
   },
   "outputs": [
    {
     "name": "stdout",
     "output_type": "stream",
     "text": [
      "Shape of training set: (379, 104)\n",
      "Shape of test set    : (127, 104)\n",
      "\n",
      "First 5 lr coefficients: [-402.75223586  -50.07100112 -133.31690803  -12.00210232  -12.71068728] ...\n",
      "lr intercept: 31.64517410082808\n",
      "No of lr coefficients learned: 104\n",
      "\n",
      "Training set score: 0.95\n",
      "Test set score    : 0.61\n"
     ]
    }
   ],
   "source": [
    "X,y = mglearn.datasets.load_extended_boston()\n",
    "X_train, X_test, y_train, y_test = train_test_split(X,y, random_state=0)\n",
    "print (\"Shape of training set: {}\".format(X_train.shape))\n",
    "print (\"Shape of test set    : {}\".format(X_test.shape))\n",
    "\n",
    "lr = LinearRegression().fit(X_train, y_train)       # Fit the linear regression model on the training data\n",
    "\n",
    "print (\"\\nFirst 5 lr coefficients: {}\".format(lr.coef_[:5]), \"...\")\n",
    "print (\"lr intercept: {}\".format(lr.intercept_))\n",
    "print (\"No of lr coefficients learned: {}\".format(len(lr.coef_))) # Same as number of input features\n",
    "\n",
    "print(\"\\nTraining set score: {:.2f}\".format(lr.score(X_train, y_train)))\n",
    "print(\"Test set score    : {:.2f}\".format(lr.score(X_test, y_test)))"
   ]
  },
  {
   "cell_type": "markdown",
   "metadata": {},
   "source": [
    "- <p>From the training and test scores, we find that <i>the prediction is good on training set, but <code>R<sup>2</sup></code> score is worse on the test set</i>.</p>\n",
    "- This discrepancy is **a clear sign of overfitting**\n",
    "    - So, we should find a model that allow us to control complexity\n",
    "    - `Ridge regression` - Most commonly used alternative to standard linear regression, which we will look into next."
   ]
  },
  {
   "cell_type": "markdown",
   "metadata": {
    "ExecuteTime": {
     "end_time": "2018-09-08T15:49:22.293503Z",
     "start_time": "2018-09-08T15:49:22.289484Z"
    }
   },
   "source": [
    "## Ridge Regression"
   ]
  },
  {
   "cell_type": "markdown",
   "metadata": {},
   "source": [
    "- Rigde regression addresses some of the problems of standard Linear Regression (Ordinary Least Squares) by *imposing a penalty on the size of the coefficients*. \n",
    "- *We want the magnitude of coefficients (weights or slope) to be as small as possible;  in other words, all values of `w` should be close to zero*.  \n",
    "    - Intuitively, this means each feature should have as little effect on the outcome (=> having a small slope) while still predicting well.\n",
    "    - This constraint is called as `Regularization\n",
    "    \n",
    "<p style=\"color:green; font-size:110%;  border-left: 5px solid blue; padding-left: 10px;\"><b>Regularization</b> means explicitly restricting a model to avoid overfitting.</p>\n",
    "\n",
    "- The ridge regression used here is also known as `L2 regularization`, which penalizes the Euclidean length of w\n",
    "\n",
    "The ridge coefficients minimize the penalized residual sum of squares. \n",
    "<p><img src=\"https://prasanth-ntu.github.io/html/ML-Course/Intro-to-ML-with-Python/images/Cost_function_2.PNG\" alt=\"Cost function\" title=\"Cost function\" style=\"max-width:250px;\"></p>"
   ]
  },
  {
   "cell_type": "markdown",
   "metadata": {},
   "source": [
    "Let's ses how well `ridge regression` performs on the `boston house dataset`."
   ]
  },
  {
   "cell_type": "code",
   "execution_count": 120,
   "metadata": {
    "ExecuteTime": {
     "end_time": "2018-09-09T08:16:21.207354Z",
     "start_time": "2018-09-09T08:16:21.132398Z"
    }
   },
   "outputs": [
    {
     "name": "stdout",
     "output_type": "stream",
     "text": [
      "Shape of training set: (379, 104)\n",
      "Shape of test set    : (127, 104)\n",
      "Training set score: 0.89\n",
      "Test set score: 0.75\n"
     ]
    }
   ],
   "source": [
    "from sklearn.linear_model import Ridge\n",
    "\n",
    "X_train, X_test, y_train, y_test = train_test_split(X,y, random_state=0)\n",
    "print (\"Shape of training set: {}\".format(X_train.shape))\n",
    "print (\"Shape of test set    : {}\".format(X_test.shape))\n",
    "\n",
    "ridge = Ridge().fit(X_train, y_train)\n",
    "\n",
    "print(\"Training set score: {:.2f}\".format(ridge.score(X_train, y_train)))\n",
    "print(\"Test set score: {:.2f}\".format(ridge.score(X_test, y_test)))"
   ]
  },
  {
   "cell_type": "markdown",
   "metadata": {
    "ExecuteTime": {
     "end_time": "2018-09-08T15:51:11.109572Z",
     "start_time": "2018-09-08T15:51:11.059582Z"
    }
   },
   "source": [
    "- When trained using `linear regression`, the training score was `0.95` whereas test score was `0.61`.\n",
    "- When trained using  `ridge regression`, the training score was `0.89` (*lower* than `LR`) but test score was `0.75` (*higher* than `LR`).\n",
    "\n",
    "**The results are consitent with our expectation. **\n",
    "- With `linear regression`, we are overfitting our training data.\n",
    "- `Ridge` is a more restricted model, and we are less likely to overfit\n",
    "    - A less complex model => worse performance on train set, but better generalization on unknown test set."
   ]
  },
  {
   "cell_type": "markdown",
   "metadata": {},
   "source": [
    "### `alpha`"
   ]
  },
  {
   "cell_type": "markdown",
   "metadata": {},
   "source": [
    "<p style=\"color:green; font-size:110%;  border-left: 5px solid blue; padding-left: 10px;\">The Ridge model makes a trade-off between the model simplicity (near-zero `w` coefficients) and its performance on training set.</p>\n",
    "\n",
    "- The tradeoff can be specified by the us, using the `alpha` parameter (called as `Regularization strength`)\n",
    "- When `alpha` parameter is not specified as in previous case, it uses default value of `alpha=1.0`, which have to be optimized each dataset.\n",
    "\n",
    "<p style=\"color:orangered; font-size:110%;  border-left: 5px solid blue; padding-left: 10px;\"> Larger values specify stronger regularization (by forcing the coefficients <code>w</code> to move toward zero), which decreases the training set performance but might help generalization </p>"
   ]
  },
  {
   "cell_type": "code",
   "execution_count": 198,
   "metadata": {
    "ExecuteTime": {
     "end_time": "2018-09-09T09:17:25.549266Z",
     "start_time": "2018-09-09T09:17:25.489299Z"
    }
   },
   "outputs": [
    {
     "name": "stdout",
     "output_type": "stream",
     "text": [
      "alpha:   0.0010 | Training set score: 0.95 | Test set score: 0.63\n",
      "alpha:   0.0030 | Training set score: 0.95 | Test set score: 0.65\n",
      "alpha:   0.0100 | Training set score: 0.94 | Test set score: 0.70\n",
      "alpha:   0.0300 | Training set score: 0.94 | Test set score: 0.75\n",
      "alpha:   0.1000 | Training set score: 0.93 | Test set score: 0.77\n",
      "alpha:   0.3000 | Training set score: 0.91 | Test set score: 0.77\n",
      "alpha:   1.0000 | Training set score: 0.89 | Test set score: 0.75\n",
      "alpha:   3.0000 | Training set score: 0.85 | Test set score: 0.71\n",
      "alpha:  10.0000 | Training set score: 0.79 | Test set score: 0.64\n",
      "alpha:  30.0000 | Training set score: 0.72 | Test set score: 0.55\n",
      "alpha: 100.0000 | Training set score: 0.60 | Test set score: 0.42\n"
     ]
    }
   ],
   "source": [
    "training_score = []\n",
    "test_score = []\n",
    "alpha_settings = [0.001, 0.003, 0.01, 0.03, 0.1, 0.3, 1.0, 3, 10, 30, 100]\n",
    "for alpha in alpha_settings:\n",
    "    ridge = Ridge(alpha=alpha).fit(X_train, y_train)\n",
    "    training_score.append(ridge.score(X_train, y_train))\n",
    "    test_score.append(ridge.score(X_test, y_test))\n",
    "    print(\"alpha: {:8.4f} | Training set score: {:.2f} | Test set score: {:.2f}\".format(alpha, ridge.score(X_train, y_train), ridge.score(X_test, y_test)))"
   ]
  },
  {
   "cell_type": "code",
   "execution_count": 201,
   "metadata": {
    "ExecuteTime": {
     "end_time": "2018-09-09T09:22:47.037913Z",
     "start_time": "2018-09-09T09:22:45.167840Z"
    }
   },
   "outputs": [
    {
     "name": "stdout",
     "output_type": "stream",
     "text": [
      "--- Based on test set/ generalization ---\n",
      "\n",
      "Best alpha  = 0.3 | Training score = 0.914 | Test score = 0.773\n",
      "Worst alpha = 100 | Training score = 0.596 | Test score = 0.415\n"
     ]
    },
    {
     "data": {
      "image/png": "[encoded data removed]",
      "text/plain": [
       "<matplotlib.figure.Figure at 0x1c125931b38>"
      ]
     },
     "metadata": {},
     "output_type": "display_data"
    }
   ],
   "source": [
    "figure(figsize=(6,4))\n",
    "\n",
    "plt.semilogx(alpha_settings, training_score, '-.', label=\"training R^2 score\")\n",
    "plt.plot(alpha_settings, test_score, '-.', label=\"test R^2 accuracy\")\n",
    "plt.ylabel(\"R^2 score\")\n",
    "plt.xlabel(\"alpha (in log scale)\")\n",
    "plt.title(\"Comparison of training and test R^2 score as a function of alpha\\n\")\n",
    "plt.legend(); plt.grid()\n",
    "\n",
    "print ('--- Based on test set/ generalization ---\\n')\n",
    "\n",
    "index = test_score.index(max(test_score))\n",
    "print ('Best alpha  = {} | Training score = {:0.3f} | Test score = {:0.3f}'.\n",
    "       format(alpha_settings[index], training_score[index], test_score[index]))\n",
    "\n",
    "plt.plot(alpha_settings[index], training_score[index], 'x')\n",
    "plt.plot(alpha_settings[index], test_score[index], 'x')\n",
    "\n",
    "index = test_score.index(min(test_score))\n",
    "print ('Worst alpha = {} | Training score = {:0.3f} | Test score = {:0.3f}'.\n",
    "       format(alpha_settings[index], training_score[index], test_score[index]))\n",
    "\n",
    "plt.show()"
   ]
  },
  {
   "cell_type": "markdown",
   "metadata": {},
   "source": [
    "From the above plot, we see how the `alpha` corresponds to the model complexity.\n",
    "- It's evident that decreasing `alpha` from 100 to 0.1 allows the coefficients to be less restricted (we fix *underfitting* issue).\n",
    "- However if the `alpha` value is set too low (below 0.1), coefficients are barely restricted (we start facing *overfitting* issue) as the penalty for cost function is very low.\n",
    "    - Think, what happens when α is set to a very small value (close to 0). \n",
    "<p><img src=\"https://prasanth-ntu.github.io/html/ML-Course/Intro-to-ML-with-Python/images/Cost_function_2b.png\" alt=\"Cost function - Ridge > Linear regression\" title=\"Cost function - Ridge > Linear regression\" style=\"max-width:350px;\"></p>    \n",
    "    - We end up with a ridge model that is similar to `Linear Regression`.\n",
    "\n",
    "`alpha = 0.1 or 0.3` seems to work well.  We will discuss more about parameter optimization in later topics."
   ]
  },
  {
   "cell_type": "code",
   "execution_count": 205,
   "metadata": {
    "ExecuteTime": {
     "end_time": "2018-09-09T09:38:55.418076Z",
     "start_time": "2018-09-09T09:38:54.448235Z"
    }
   },
   "outputs": [
    {
     "data": {
      "image/png": "[encoded data removed]",
      "text/plain": [
       "<matplotlib.figure.Figure at 0x1c125924780>"
      ]
     },
     "metadata": {},
     "output_type": "display_data"
    },
    {
     "name": "stdout",
     "output_type": "stream",
     "text": [
      "--- Based on test set/ generalization ---\n",
      "\n",
      "Best n_neighour  = 1 | Training score = 1.000 | Test score = 0.652\n",
      "Worst n_neighour = 20 | Training score = 0.675 | Test score = 0.479\n"
     ]
    }
   ],
   "source": [
    "from sklearn.neighbors import KNeighborsRegressor\n",
    "\n",
    "\n",
    "training_score = []\n",
    "test_score = []\n",
    "# try n_neighbors from 1 to 20\n",
    "neighbors_settings = range(1, 21)\n",
    "\n",
    "for n_neighbors in neighbors_settings:\n",
    "    # intialize the knn model parameters\n",
    "    knn = KNeighborsRegressor(n_neighbors=n_neighbors)\n",
    "    # build/ train the model\n",
    "    knn.fit(X_train, y_train)\n",
    "    # save training set accuracy\n",
    "    training_score.append(knn.score(X_train, y_train))\n",
    "    # save test set (generalization) accuracy\n",
    "    test_score.append(knn.score(X_test, y_test))\n",
    "\n",
    "figure(figsize=(6,4))\n",
    "plt.plot(neighbors_settings, training_score, label=\"training R^2 score\")\n",
    "plt.plot(neighbors_settings, test_score, '--', label=\"test R^2 accuracy\")\n",
    "plt.ylabel(\"Accuracy\")\n",
    "plt.xlabel(\"n_neighbors\")\n",
    "plt.title(\"Comparison of training and test R^2 score as a function of n_neighbors\\n\")\n",
    "plt.legend()\n",
    "plt.show()\n",
    "\n",
    "print ('--- Based on test set/ generalization ---\\n')\n",
    "\n",
    "index = test_score.index(max(test_score))\n",
    "print ('Best n_neighour  = {} | Training score = {:0.3f} | Test score = {:0.3f}'.\n",
    "       format(neighbors_settings[index], training_score[index], test_score[index]))\n",
    "\n",
    "index = test_score.index(min(test_score))\n",
    "print ('Worst n_neighour = {} | Training score = {:0.3f} | Test score = {:0.3f}'.\n",
    "       format(neighbors_settings[index], training_score[index], test_score[index]))"
   ]
  },
  {
   "cell_type": "markdown",
   "metadata": {
    "ExecuteTime": {
     "end_time": "2018-09-09T09:40:45.501147Z",
     "start_time": "2018-09-09T09:40:45.493152Z"
    }
   },
   "source": [
    "- Best test score using `Linear Regression   = 0.610`\n",
    "- Best test score using `Ridge Regression    = 0.773` \n",
    "- Best test score using `K-NearestNeighbours = 0.652` "
   ]
  },
  {
   "cell_type": "markdown",
   "metadata": {},
   "source": [
    "### alpha - Qualitative insight "
   ]
  },
  {
   "cell_type": "markdown",
   "metadata": {},
   "source": [
    "We can also get a more qualitative insight into how `alpha` parameter changes the model by inspecting the `coef_` (slope or weight) attribute of models.  "
   ]
  },
  {
   "cell_type": "code",
   "execution_count": 222,
   "metadata": {
    "ExecuteTime": {
     "end_time": "2018-09-09T09:56:35.902317Z",
     "start_time": "2018-09-09T09:56:35.102218Z"
    }
   },
   "outputs": [
    {
     "data": {
      "image/png": "[encoded data removed]",
      "text/plain": [
       "<matplotlib.figure.Figure at 0x1c1259c5940>"
      ]
     },
     "metadata": {},
     "output_type": "display_data"
    },
    {
     "name": "stdout",
     "output_type": "stream",
     "text": [
      "No of features = No of coefficients = 104\n"
     ]
    }
   ],
   "source": [
    "ridge = Ridge(alpha=1).fit(X_train, y_train)\n",
    "ridge10 = Ridge(alpha=10).fit(X_train, y_train)\n",
    "ridge01 = Ridge(alpha=0.1).fit(X_train, y_train)\n",
    "lr = LinearRegression().fit(X_train, y_train)\n",
    "\n",
    "figure(figsize=(16,6))\n",
    "plt.title('Comparing coefcient magnitudes for ridge regression with diﬀerent values of alpha and for linear regression')\n",
    "plt.plot(ridge.coef_, 's', label=\"Ridge alpha=1\")\n",
    "plt.plot(ridge10.coef_, '^', label=\"Ridge alpha=10\")\n",
    "plt.plot(ridge01.coef_, 'v', label=\"Ridge alpha=0.1\")\n",
    "plt.plot(lr.coef_, 'o', label=\"LinearRegression\")\n",
    "plt.xlabel(\"Coefficient index\")\n",
    "plt.ylabel(\"Coefficient magnitude\")\n",
    "plt.hlines(0, 0, len(lr.coef_))\n",
    "plt.xlim(0,50)\n",
    "plt.ylim(-25,25)\n",
    "plt.legend()\n",
    "plt.show()\n",
    "\n",
    "print (\"No of features = No of coefficients = {}\".format(len(lr.coef_)))"
   ]
  },
  {
   "cell_type": "markdown",
   "metadata": {},
   "source": [
    "<p style=\"color:green; font-size:110%;  border-left: 5px solid blue; padding-left: 10px;\"> A higher <code>alpha</code> means a more restricted model (more penalty), so we execpt the <code>coef_</code> (weights) to have smaller magnitude for a higher value of <code>alpha</code>.</p>\n",
    "\n",
    "This is confirmed by the above plot. Here,\n",
    "- `x-axis` spans over 104 data points, but only first 50 data point are shown. It corresponds to the `coeff_` or` weight` of `n`th feature/ dimension\n",
    "- `y-axis` shows the numeric (magnitude) values of the corresponding values of the coefficients.\n",
    "    <p style=\"color:blue\"> &#9632; Coefficients of Ridge model with alpha=1. <font color=\"black\">Here, the coefficients are somewhat larger than range of -3 to 3</font></p>\n",
    "    <p style=\"color:orange\"> &#9650; Coefficients of Ridge model with alpha=10. <font color=\"black\">Here, the coefficients are mostly between -3 to 3</font></p>\n",
    "    <p style=\"color:green\"> &#9660; Coefficients of Ridge model with alpha=0.1. <font color=\"black\">Here, the coefficients have large magnitude</font></p>\n",
    "    <p style=\"color:red\"> &#9679; Coefficients of Linear model (no alpha parameter involved). <font color=\"black\">Here, the coefficients are so large that many of them are outside the chart range</font></p>"
   ]
  },
  {
   "cell_type": "markdown",
   "metadata": {},
   "source": [
    "# Summary"
   ]
  },
  {
   "cell_type": "markdown",
   "metadata": {},
   "source": [
    "# Later use"
   ]
  },
  {
   "cell_type": "markdown",
   "metadata": {
    "ExecuteTime": {
     "end_time": "2018-09-09T06:45:05.922728Z",
     "start_time": "2018-09-09T06:45:05.899741Z"
    }
   },
   "source": [
    "*What does `score` give us? An extract from previous tutorial*\n",
    "\n",
    "- <p>For <code>Classificaiton</code> problems, we used <code>accuracy</code> as our evaluation metric. However for regression, we can't use accuracy. There are still many metrics to measure the regression model performance & by default, <code>score</code> method in <code>sklearn</code> returns <code>R<sup>2</sup></code> score.</p>\n",
    "\n",
    "- <p>The <code>R<sup>2</sup></code> score, also known as the <b>coefficient of determination</b>, is a measure of goodness of a prediction for a regression model, and yields a score between 0 and 1. A value of 1 corresponds to a perfect prediction</p>\n",
    "\n",
    "- `R^2 = (1 - u/v)` where\n",
    "    - `u` is the residual sum of squares `((y_true - y_pred) ** 2).sum()`\n",
    "    - `v` is the total sum of square `((y_true - y_true.mean())**2)`"
   ]
  },
  {
   "cell_type": "code",
   "execution_count": null,
   "metadata": {},
   "outputs": [],
   "source": []
  }
 ],
 "metadata": {
  "kernelspec": {
   "display_name": "Python 3",
   "language": "python",
   "name": "python3"
  },
  "language_info": {
   "codemirror_mode": {
    "name": "ipython",
    "version": 3
   },
   "file_extension": ".py",
   "mimetype": "text/x-python",
   "name": "python",
   "nbconvert_exporter": "python",
   "pygments_lexer": "ipython3",
   "version": "3.6.1"
  },
  "toc": {
   "base_numbering": 1,
   "nav_menu": {},
   "number_sections": true,
   "sideBar": true,
   "skip_h1_title": false,
   "title_cell": "Table of Contents",
   "title_sidebar": "Contents",
   "toc_cell": true,
   "toc_position": {
    "height": "508px",
    "left": "0px",
    "right": "935.099px",
    "top": "110px",
    "width": "261px"
   },
   "toc_section_display": true,
   "toc_window_display": true
  }
 },
 "nbformat": 4,
 "nbformat_minor": 2
}

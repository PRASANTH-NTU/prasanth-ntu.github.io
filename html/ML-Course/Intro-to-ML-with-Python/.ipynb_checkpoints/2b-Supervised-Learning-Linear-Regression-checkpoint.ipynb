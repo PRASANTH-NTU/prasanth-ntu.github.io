{
 "cells": [
  {
   "cell_type": "markdown",
   "metadata": {
    "ExecuteTime": {
     "end_time": "2018-07-03T12:02:43.936941Z",
     "start_time": "2018-07-03T12:02:43.930614Z"
    }
   },
   "source": [
    "*For full screen view & to download, visit *\n",
    "- `HTML` : <a href=\"https://prasanth-ntu.github.io/html/ML-Course/Intro-to-ML-with-Python/2b-Supervised-Learning-Linear-Regression.html\" target=\"_blank\">Click here</a>\n",
    "- `GITHUB` : <a href=\"https://github.com/prasanth-ntu/prasanth-ntu.github.io/blob/master/html/ML-Course/Intro-to-ML-with-Python\" target=\"_blank\">Click here</a>\n",
    "\n",
    "*To get back to ML website*, <a href=\"https://prasanth-ntu.github.io/html/ML-Course-13.html\" target=\"_blank\">Click here</a>"
   ]
  },
  {
   "cell_type": "markdown",
   "metadata": {
    "toc": "true"
   },
   "source": [
    "<h1>Table of Contents<span class=\"tocSkip\"></span></h1>\n",
    "<div class=\"toc\"><ul class=\"toc-item\"><li><span><a href=\"#Linear-Models-for-regression\" data-toc-modified-id=\"Linear-Models-for-regression-1\"><span class=\"toc-item-num\">1&nbsp;&nbsp;</span>Linear Models for regression</a></span><ul class=\"toc-item\"><li><span><a href=\"#Linear-Regression--Theory\" data-toc-modified-id=\"Linear-Regression--Theory-1.1\"><span class=\"toc-item-num\">1.1&nbsp;&nbsp;</span>Linear Regression- Theory</a></span><ul class=\"toc-item\"><li><span><a href=\"#Linear-regression-with-one-variable\" data-toc-modified-id=\"Linear-regression-with-one-variable-1.1.1\"><span class=\"toc-item-num\">1.1.1&nbsp;&nbsp;</span>Linear regression with one variable</a></span><ul class=\"toc-item\"><li><span><a href=\"#Model-Representation\" data-toc-modified-id=\"Model-Representation-1.1.1.1\"><span class=\"toc-item-num\">1.1.1.1&nbsp;&nbsp;</span>Model Representation</a></span></li><li><span><a href=\"#Cost-function\" data-toc-modified-id=\"Cost-function-1.1.1.2\"><span class=\"toc-item-num\">1.1.1.2&nbsp;&nbsp;</span>Cost function</a></span></li><li><span><a href=\"#Gradient-Descent\" data-toc-modified-id=\"Gradient-Descent-1.1.1.3\"><span class=\"toc-item-num\">1.1.1.3&nbsp;&nbsp;</span>Gradient Descent</a></span></li><li><span><a href=\"#Gradient-Descent-for-linear-regression\" data-toc-modified-id=\"Gradient-Descent-for-linear-regression-1.1.1.4\"><span class=\"toc-item-num\">1.1.1.4&nbsp;&nbsp;</span>Gradient Descent for linear regression</a></span></li></ul></li></ul></li></ul></li><li><span><a href=\"#Linear-Models-for-regression\" data-toc-modified-id=\"Linear-Models-for-regression-2\"><span class=\"toc-item-num\">2&nbsp;&nbsp;</span>Linear Models for regression</a></span><ul class=\"toc-item\"><li><span><a href=\"#Linear-Regression\" data-toc-modified-id=\"Linear-Regression-2.1\"><span class=\"toc-item-num\">2.1&nbsp;&nbsp;</span>Linear Regression</a></span><ul class=\"toc-item\"><li><span><a href=\"#makewave:-1-D-dataset\" data-toc-modified-id=\"makewave:-1-D-dataset-2.1.1\"><span class=\"toc-item-num\">2.1.1&nbsp;&nbsp;</span>makewave: <em>1</em>-D dataset</a></span></li><li><span><a href=\"#boston-housing:-n-D-dataset\" data-toc-modified-id=\"boston-housing:-n-D-dataset-2.1.2\"><span class=\"toc-item-num\">2.1.2&nbsp;&nbsp;</span>boston housing: <em>n</em>-D dataset</a></span></li></ul></li><li><span><a href=\"#Ridge-Regression\" data-toc-modified-id=\"Ridge-Regression-2.2\"><span class=\"toc-item-num\">2.2&nbsp;&nbsp;</span>Ridge Regression</a></span><ul class=\"toc-item\"><li><span><a href=\"#boston-housing:-n-D-dataset\" data-toc-modified-id=\"boston-housing:-n-D-dataset-2.2.1\"><span class=\"toc-item-num\">2.2.1&nbsp;&nbsp;</span>boston housing: <em>n</em>-D dataset</a></span></li><li><span><a href=\"#alpha\" data-toc-modified-id=\"alpha-2.2.2\"><span class=\"toc-item-num\">2.2.2&nbsp;&nbsp;</span><code>alpha</code></a></span></li><li><span><a href=\"#alpha---Qualitative-insight\" data-toc-modified-id=\"alpha---Qualitative-insight-2.2.3\"><span class=\"toc-item-num\">2.2.3&nbsp;&nbsp;</span>alpha - Qualitative insight</a></span></li><li><span><a href=\"#Training-size---insight\" data-toc-modified-id=\"Training-size---insight-2.2.4\"><span class=\"toc-item-num\">2.2.4&nbsp;&nbsp;</span>Training size - insight</a></span></li></ul></li><li><span><a href=\"#Lasso\" data-toc-modified-id=\"Lasso-2.3\"><span class=\"toc-item-num\">2.3&nbsp;&nbsp;</span>Lasso</a></span><ul class=\"toc-item\"><li><span><a href=\"#boston-housing:-n-D-dataset\" data-toc-modified-id=\"boston-housing:-n-D-dataset-2.3.1\"><span class=\"toc-item-num\">2.3.1&nbsp;&nbsp;</span>boston housing: <em>n</em>-D dataset</a></span></li><li><span><a href=\"#alpha\" data-toc-modified-id=\"alpha-2.3.2\"><span class=\"toc-item-num\">2.3.2&nbsp;&nbsp;</span><code>alpha</code></a></span></li><li><span><a href=\"#alpha---Qualitative-insight\" data-toc-modified-id=\"alpha---Qualitative-insight-2.3.3\"><span class=\"toc-item-num\">2.3.3&nbsp;&nbsp;</span>alpha - Qualitative insight</a></span></li></ul></li></ul></li><li><span><a href=\"#Summary\" data-toc-modified-id=\"Summary-3\"><span class=\"toc-item-num\">3&nbsp;&nbsp;</span>Summary</a></span></li><li><span><a href=\"#Datasets\" data-toc-modified-id=\"Datasets-4\"><span class=\"toc-item-num\">4&nbsp;&nbsp;</span>Datasets</a></span><ul class=\"toc-item\"><li><span><a href=\"#ElasticNet\" data-toc-modified-id=\"ElasticNet-4.1\"><span class=\"toc-item-num\">4.1&nbsp;&nbsp;</span>ElasticNet</a></span></li></ul></li></ul></div>"
   ]
  },
  {
   "cell_type": "markdown",
   "metadata": {},
   "source": [
    "# Linear Models for regression"
   ]
  },
  {
   "cell_type": "markdown",
   "metadata": {
    "ExecuteTime": {
     "end_time": "2018-09-08T14:58:57.398114Z",
     "start_time": "2018-09-08T14:58:57.392122Z"
    }
   },
   "source": [
    "## Linear Regression- Theory"
   ]
  },
  {
   "cell_type": "markdown",
   "metadata": {
    "ExecuteTime": {
     "end_time": "2018-09-08T14:59:18.297117Z",
     "start_time": "2018-09-08T14:59:18.290141Z"
    }
   },
   "source": [
    "### Linear regression with one variable "
   ]
  },
  {
   "cell_type": "markdown",
   "metadata": {
    "ExecuteTime": {
     "end_time": "2018-09-08T15:09:14.905786Z",
     "start_time": "2018-09-08T15:09:14.900789Z"
    }
   },
   "source": [
    "#### Model Representation"
   ]
  },
  {
   "cell_type": "markdown",
   "metadata": {
    "ExecuteTime": {
     "end_time": "2018-09-08T15:12:46.144727Z",
     "start_time": "2018-09-08T15:12:46.135731Z"
    }
   },
   "source": [
    "<p><img src=\"https://prasanth-ntu.github.io/html/ML-Course/Intro-to-ML-with-Python/images/linear_regression_model_representation_1.png\" alt=\"linear_regression_model_representation_1\" title=\"linear_regression_model_representation_1-wikipedia\" style=\"max-width:400px;\"></p>"
   ]
  },
  {
   "cell_type": "markdown",
   "metadata": {},
   "source": [
    "#### Cost function"
   ]
  },
  {
   "cell_type": "markdown",
   "metadata": {
    "ExecuteTime": {
     "end_time": "2018-09-08T15:17:00.530928Z",
     "start_time": "2018-09-08T15:17:00.525930Z"
    }
   },
   "source": [
    "#### Gradient Descent"
   ]
  },
  {
   "cell_type": "markdown",
   "metadata": {
    "ExecuteTime": {
     "end_time": "2018-09-08T15:17:32.968583Z",
     "start_time": "2018-09-08T15:17:32.960587Z"
    }
   },
   "source": [
    "#### Gradient Descent for linear regression "
   ]
  },
  {
   "cell_type": "markdown",
   "metadata": {},
   "source": [
    "# Linear Models for regression"
   ]
  },
  {
   "cell_type": "markdown",
   "metadata": {
    "ExecuteTime": {
     "end_time": "2018-09-09T02:45:36.362215Z",
     "start_time": "2018-09-09T02:45:36.100519Z"
    }
   },
   "source": [
    "For regression, the prediction formula for **a linear model with one input feature (variable)** is\n",
    "\n",
    "- `ŷ = w[0]*x[0] + b = w*x + b`\n",
    "\n",
    "<p style=\"color:green; font-size:110%;  border-left: 5px solid blue; padding-left: 10px;\"><b>This is nothing but equation for a line.</b></p>\n",
    "\n",
    "Here, \n",
    "- `x` denotes the input features (`x[0]` is input feature of a single data point) and, \n",
    "- `ŷ` denotes the prediction made by the model.\n",
    "- `w` is the slope (*weights or coefficients*) along each feature axis (`w[0]` is slope along axis `x[0]`)\n",
    "- `b` is the intercept (offset) along `y-axis`"
   ]
  },
  {
   "cell_type": "markdown",
   "metadata": {},
   "source": [
    "Trying to learn the parameters, `w` and `[b]` is the task of the linear models. \n",
    "\n",
    "For models with `n` input features, the prediction formula will become as\n",
    "\n",
    "- `ŷ = w[0]*x[0] + w[1]*x[1] + ... + w[n-1]*x[n-1] + b = w*x + b`\n",
    "\n",
    "Let's look at an one-dimensional (one input variable) `wave` dataset which will have a following linear line that best approximates the input features with output values.\n",
    "\n",
    "From the output below, we see that the slope `w[0]` of the linear line is around 0.4. The intercept `b` is close to 0.  "
   ]
  },
  {
   "cell_type": "code",
   "execution_count": 31,
   "metadata": {
    "ExecuteTime": {
     "end_time": "2018-09-09T03:12:31.652230Z",
     "start_time": "2018-09-09T03:12:31.151966Z"
    }
   },
   "outputs": [
    {
     "name": "stdout",
     "output_type": "stream",
     "text": [
      "w[0]: 0.393906  b: -0.031804\n"
     ]
    },
    {
     "data": {
      "image/png": "[encoded data removed]",
      "text/plain": [
       "<matplotlib.figure.Figure at 0x1c12369fa58>"
      ]
     },
     "metadata": {},
     "output_type": "display_data"
    }
   ],
   "source": [
    "import mglearn\n",
    "import matplotlib.pyplot as plt\n",
    "import matplotlib\n",
    "\n",
    "mglearn.plots.plot_linear_regression_wave(); plt.title('Linear Regression on One-dimensional wave dataset')\n",
    "fig = matplotlib.pyplot.gcf(); fig.set_size_inches(8, 6); plt.show()"
   ]
  },
  {
   "cell_type": "markdown",
   "metadata": {},
   "source": [
    "<p><b>Linear models for regression can be characterized as regression models for which the prediction is </b>\n",
    "<ul style=\"color:purple; font-size:110%;  border-left: 5px solid blue; padding-left: 20px; list-style: none; line-height: 190%;\">\n",
    "<li>a line for a single input feature (1D),</li>\n",
    "<li>a plane when using two features (2D), or</li>\n",
    "<li>a hyper‐plane in higher dimensions (that is, when using more features).</li></ul></p>"
   ]
  },
  {
   "cell_type": "markdown",
   "metadata": {},
   "source": [
    "There are many different linear models for regression. The difference lies in how the model parameters `w` and `b` are learned from the training data, and how model complexity can be controlled. In this post, we will look at the most popular linear models for regression, namely\n",
    "- <p><code style=\"font-size:120%;color:green\">Linear Regression</code></p>\n",
    "<p><img src=\"https://prasanth-ntu.github.io/html/ML-Course/Intro-to-ML-with-Python/images/Cost_function_3_LR.png\" alt=\"Cost function - Linear Regression\" title=\"Cost function - Ridge Regression\" style=\"max-width:250px;\"></p>\n",
    "- <p><code style=\"font-size:120%;color:green\">Ridge Regression</code></p>\n",
    "<p><img src=\"https://prasanth-ntu.github.io/html/ML-Course/Intro-to-ML-with-Python/images/Cost_function_3_RR.png\" alt=\"Cost function - Ridge Regression\" title=\"Cost function - Ridge Regression\" style=\"max-width:280px;\"></p>\n",
    "- <p><code style=\"font-size:120%;color:green\">Lasso</code></p>\n",
    "<p><img src=\"https://prasanth-ntu.github.io/html/ML-Course/Intro-to-ML-with-Python/images/Cost_function_3_Lasso.png\" alt=\"Cost function - Lasso\" title=\"Cost function - Lasso\" style=\"max-width:320px;\"></p>"
   ]
  },
  {
   "cell_type": "markdown",
   "metadata": {},
   "source": [
    "## Linear Regression "
   ]
  },
  {
   "cell_type": "markdown",
   "metadata": {},
   "source": [
    "- Aka ordinary least squares (OLS), is the simplest and most classic linear method. \n",
    "- Linear Regression finds the best parameters `w` and `b` that minimises the mean squared error between true output, y and predicted output, h(x) or  on the training set.\n",
    "- `mean squared error (MSE)`= sum of squared differences between between the true and prediction values \n",
    "<p><img src=\"https://prasanth-ntu.github.io/html/ML-Course/Intro-to-ML-with-Python/images/MSE_1.png\" alt=\"MSE\" title=\"MSE\" style=\"max-width:250px;\"></p>\n",
    "\n",
    "\n",
    "<p style=\"color:red; font-size:110%;  border-left: 5px solid blue; padding-left: 10px;\"><b>Linear regression has no parameters to control/tune which makes it easy to use, but it also has no way to control model complexity. </b></p>\n",
    "\n",
    "For more details, refer http://scikit-learn.org/stable/modules/linear_model.html#ordinary-least-squares"
   ]
  },
  {
   "cell_type": "markdown",
   "metadata": {},
   "source": [
    "### makewave: *1*-D dataset"
   ]
  },
  {
   "cell_type": "markdown",
   "metadata": {},
   "source": [
    "Let's look at an one-dimensional (one input variable) `wave` dataset for which we will find a linear line that best approximates the input features with output values."
   ]
  },
  {
   "cell_type": "code",
   "execution_count": 3,
   "metadata": {
    "ExecuteTime": {
     "end_time": "2018-09-14T03:21:16.320509Z",
     "start_time": "2018-09-14T03:21:09.336340Z"
    }
   },
   "outputs": [],
   "source": [
    "import mglearn\n",
    "from sklearn.linear_model import LinearRegression\n",
    "from sklearn.model_selection import train_test_split\n",
    "import numpy as np\n",
    "\n",
    "X,y = mglearn.datasets.make_wave(n_samples=60)\n",
    "X_train, X_test, y_train, y_test = train_test_split(X,y, random_state=42)\n",
    "\n",
    "lr = LinearRegression().fit(X_train, y_train)        # Fit the linear regression model on the training data"
   ]
  },
  {
   "cell_type": "markdown",
   "metadata": {},
   "source": [
    "- The `intercept_` attribute learned by the `LinearRegression().fit(X_train, y_train)` method will always be a single float number.\n",
    "- The `coef_` learned is a `numpy` array with one entry per input feature. \n",
    "    - As the `wave` dataset code has only one input feature, `coef_` only has a single entry."
   ]
  },
  {
   "cell_type": "code",
   "execution_count": 95,
   "metadata": {
    "ExecuteTime": {
     "end_time": "2018-09-09T04:15:01.729514Z",
     "start_time": "2018-09-09T04:15:01.720520Z"
    }
   },
   "outputs": [
    {
     "name": "stdout",
     "output_type": "stream",
     "text": [
      "--- Slope and intercept learned from the wave training data by Linear Regressor ---\n",
      "lr.coef_: [ 0.39390555]\n",
      "lr.intercept_: -0.031804343026759746\n"
     ]
    }
   ],
   "source": [
    "print ('--- Slope and intercept learned from the wave training data by Linear Regressor ---')\n",
    "print (\"lr.coef_: {}\".format(lr.coef_))              # slope or weight parameter learned from the training data\n",
    "print (\"lr.intercept_: {}\".format(lr.intercept_))    # intercept along y-axis learned from the training data"
   ]
  },
  {
   "cell_type": "code",
   "execution_count": 96,
   "metadata": {
    "ExecuteTime": {
     "end_time": "2018-09-09T04:15:31.572468Z",
     "start_time": "2018-09-09T04:15:31.562815Z"
    }
   },
   "outputs": [
    {
     "name": "stdout",
     "output_type": "stream",
     "text": [
      "--- Compute the linear line learned to include in the plot ---\n"
     ]
    }
   ],
   "source": [
    "print ('--- Compute the linear line learned to include in the plot ---')\n",
    "linear_x = np.array([min(X), max(X)])\n",
    "predicted_y = lr.coef_ * linear_x + lr.intercept_"
   ]
  },
  {
   "cell_type": "code",
   "execution_count": 91,
   "metadata": {
    "ExecuteTime": {
     "end_time": "2018-09-09T04:09:23.915959Z",
     "start_time": "2018-09-09T04:09:23.623307Z"
    }
   },
   "outputs": [
    {
     "data": {
      "image/png": "[encoded data removed]",
      "text/plain": [
       "<matplotlib.figure.Figure at 0x1c12333a080>"
      ]
     },
     "metadata": {},
     "output_type": "display_data"
    }
   ],
   "source": [
    "plt.figure(figsize=(7,5))\n",
    "\n",
    "plt.plot(X_train,y_train, 'o')                        # plot the training data\n",
    "plt.plot(X_test,y_test, 'x')                          # plot the test data\n",
    "\n",
    "plt.plot(linear_x, predicted_y)                       # plot the predicted linear line learned by the LR model\n",
    "\n",
    "# --- Center the axis tick marks --- #\n",
    "ax = plt.gca(); plt.ylim([-3,3])\n",
    "ax.spines['right'].set_color('none'); ax.spines['top'].set_color('none')\n",
    "ax.xaxis.set_ticks_position('bottom'); ax.spines['bottom'].set_position(('data',0))\n",
    "ax.yaxis.set_ticks_position('left'); ax.spines['left'].set_position(('data',0))\n",
    "\n",
    "plt.legend(['training data', 'test data', 'model'])\n",
    "plt.title('Input data and corresponding linear model')\n",
    "plt.grid(); plt.show()"
   ]
  },
  {
   "cell_type": "code",
   "execution_count": 97,
   "metadata": {
    "ExecuteTime": {
     "end_time": "2018-09-09T05:48:50.207539Z",
     "start_time": "2018-09-09T05:48:50.196548Z"
    }
   },
   "outputs": [
    {
     "name": "stdout",
     "output_type": "stream",
     "text": [
      "Training set score: 0.67\n",
      "Test set score: 0.66\n"
     ]
    }
   ],
   "source": [
    "print(\"Training set score: {:.2f}\".format(lr.score(X_train, y_train)))\n",
    "print(\"Test set score: {:.2f}\".format(lr.score(X_test, y_test)))"
   ]
  },
  {
   "cell_type": "markdown",
   "metadata": {},
   "source": [
    "- <p>An <code>R<sup>2</sup></code> test score of 0.66 is not very good. </p>\n",
    "    - *We achieved a training score of 0.819 & Test score of 0.834 using KNN with `n=3` in previous post for the same dataset.*\n",
    "- However, *scores on training and test sets are very close when using Linear Regression*.\n",
    "    - This implies **we are likely undefitting**.\n",
    "    - For 1D dataset, the model is usually very simple and restricted and there's little danger of overfitting.\n",
    "    \n",
    " \n",
    "- However, for higher dimensional datasets (i.e. dataseets with more number of features), linear models become more powerful, and there's more chance of overfitting. \n",
    "- If we compare the predictions made by straight line with those made by the `KNN` in previous post, using a straight line to make predictions seems very restrictive. \n",
    "    - It's somewhat unrealistic to assume that our target y is a linear combination of features.\n",
    "    - This gives a skewed perspective when we look at 1D data\n",
    "- For multi dimensional dataset, linear models can be very powerful. "
   ]
  },
  {
   "cell_type": "markdown",
   "metadata": {},
   "source": [
    "### boston housing: *n*-D dataset"
   ]
  },
  {
   "cell_type": "markdown",
   "metadata": {},
   "source": [
    "- Let’s take a look at how `LinearRegression` performs on a more complex dataset, like the `Boston Housing dataset`.\n",
    "- This dataset has *506 input samples* and *105 derived features (or) variables*.\n",
    "- First, we load the dataset and split it into a training and a test set. Then we build the linear regression model as before:"
   ]
  },
  {
   "cell_type": "code",
   "execution_count": 4,
   "metadata": {
    "ExecuteTime": {
     "end_time": "2018-09-14T03:21:31.080398Z",
     "start_time": "2018-09-14T03:21:30.916138Z"
    },
    "scrolled": true
   },
   "outputs": [
    {
     "name": "stdout",
     "output_type": "stream",
     "text": [
      "Shape of training set: (379, 104)\n",
      "Shape of test set    : (127, 104)\n",
      "\n",
      "First 5 lr coefficients: [-402.75223586  -50.07100112 -133.31690803  -12.00210232  -12.71068728] ...\n",
      "lr intercept: 31.64517410082808\n",
      "No of lr coefficients learned: 104\n",
      "\n",
      "Training set score: 0.95\n",
      "Test set score    : 0.61\n"
     ]
    }
   ],
   "source": [
    "import mglearn\n",
    "from sklearn.linear_model import LinearRegression\n",
    "from sklearn.model_selection import train_test_split\n",
    "import numpy as np\n",
    "\n",
    "X,y = mglearn.datasets.load_extended_boston()\n",
    "X_train, X_test, y_train, y_test = train_test_split(X,y, random_state=0)\n",
    "print (\"Shape of training set: {}\".format(X_train.shape))\n",
    "print (\"Shape of test set    : {}\".format(X_test.shape))\n",
    "\n",
    "lr = LinearRegression().fit(X_train, y_train)       # Fit the linear regression model on the training data\n",
    "\n",
    "print (\"\\nFirst 5 lr coefficients: {}\".format(lr.coef_[:5]), \"...\")\n",
    "print (\"lr intercept: {}\".format(lr.intercept_))\n",
    "print (\"No of lr coefficients learned: {}\".format(len(lr.coef_))) # Same as number of input features\n",
    "\n",
    "print(\"\\nTraining set score: {:.2f}\".format(lr.score(X_train, y_train)))\n",
    "print(\"Test set score    : {:.2f}\".format(lr.score(X_test, y_test)))"
   ]
  },
  {
   "cell_type": "markdown",
   "metadata": {},
   "source": [
    "- <p>From the training and test scores, we find that <i>the prediction is good on training set, but <code>R<sup>2</sup></code> score is worse on the test set</i>.</p>\n",
    "- This discrepancy is **a clear sign of overfitting**\n",
    "    - So, we should find a model that allow us to control complexity\n",
    "    - `Ridge regression` - Most commonly used alternative to standard linear regression, which we will look into next."
   ]
  },
  {
   "cell_type": "markdown",
   "metadata": {
    "ExecuteTime": {
     "end_time": "2018-09-08T15:49:22.293503Z",
     "start_time": "2018-09-08T15:49:22.289484Z"
    }
   },
   "source": [
    "## Ridge Regression"
   ]
  },
  {
   "cell_type": "markdown",
   "metadata": {},
   "source": [
    "- Rigde regression addresses some of the problems of standard Linear Regression (Ordinary Least Squares) by *imposing a penalty on the size of the coefficients*. \n",
    "- *We want the magnitude of coefficients (weights or slope) to be as small as possible;  in other words, all values of `w` should be close to zero*.  \n",
    "    - Intuitively, this means each feature should have as little effect on the outcome (=> having a small slope) while still predicting well.\n",
    "    - This constraint is called as `Regularization`\n",
    "    \n",
    "<p style=\"color:green; font-size:110%;  border-left: 5px solid blue; padding-left: 10px;\"><b>Regularization</b> means explicitly restricting a model to avoid overfitting.</p>\n",
    "\n",
    "- The ridge regression used here is also known as `L2 regularization`, which penalizes the Euclidean length of w\n",
    "\n",
    "The ridge coefficients minimize the penalized residual sum of squares. \n",
    "<p><img src=\"https://prasanth-ntu.github.io/html/ML-Course/Intro-to-ML-with-Python/images/Cost_function_2.PNG\" alt=\"Cost function\" title=\"Cost function\" style=\"max-width:250px;\"></p>"
   ]
  },
  {
   "cell_type": "markdown",
   "metadata": {},
   "source": [
    "### boston housing: *n*-D dataset"
   ]
  },
  {
   "cell_type": "markdown",
   "metadata": {},
   "source": [
    "Let's ses how well `ridge regression` performs on the `boston house dataset`."
   ]
  },
  {
   "cell_type": "code",
   "execution_count": 1,
   "metadata": {
    "ExecuteTime": {
     "end_time": "2018-09-14T03:26:28.139772Z",
     "start_time": "2018-09-14T03:26:26.542060Z"
    }
   },
   "outputs": [
    {
     "name": "stdout",
     "output_type": "stream",
     "text": [
      "Shape of training set: (379, 104)\n",
      "Shape of test set    : (127, 104)\n",
      "Training set score: 0.89\n",
      "Test set score: 0.75\n"
     ]
    }
   ],
   "source": [
    "import mglearn\n",
    "from sklearn.linear_model import Ridge\n",
    "from sklearn.model_selection import train_test_split\n",
    "import numpy as np\n",
    "\n",
    "X,y = mglearn.datasets.load_extended_boston()\n",
    "\n",
    "X_train, X_test, y_train, y_test = train_test_split(X,y, random_state=0)\n",
    "print (\"Shape of training set: {}\".format(X_train.shape))\n",
    "print (\"Shape of test set    : {}\".format(X_test.shape))\n",
    "\n",
    "ridge = Ridge().fit(X_train, y_train)\n",
    "\n",
    "print(\"Training set score: {:.2f}\".format(ridge.score(X_train, y_train)))\n",
    "print(\"Test set score: {:.2f}\".format(ridge.score(X_test, y_test)))"
   ]
  },
  {
   "cell_type": "markdown",
   "metadata": {
    "ExecuteTime": {
     "end_time": "2018-09-08T15:51:11.109572Z",
     "start_time": "2018-09-08T15:51:11.059582Z"
    }
   },
   "source": [
    "- When trained using `linear regression`, the training score was `0.95` whereas test score was `0.61`.\n",
    "- When trained using  `ridge regression`, the training score was `0.89` (*lower* than `LR`) but test score was `0.75` (*higher* than `LR`).\n",
    "\n",
    "**The results are consitent with our expectation. **\n",
    "- With `linear regression`, we were overfitting our training data.\n",
    "- `Ridge` is a more restricted model, and we are less likely to overfit\n",
    "    - A less complex model => worse performance on train set, but better generalization on unknown test set."
   ]
  },
  {
   "cell_type": "markdown",
   "metadata": {},
   "source": [
    "### `alpha`"
   ]
  },
  {
   "cell_type": "markdown",
   "metadata": {},
   "source": [
    "<p style=\"color:green; font-size:110%;  border-left: 5px solid blue; padding-left: 10px;\">The Ridge model makes a trade-off between the model simplicity (near-zero `w` coefficients) and its performance on training set.</p>\n",
    "\n",
    "- The tradeoff can be specified by the us, using the `alpha` parameter (called as `Regularization strength`)\n",
    "- When `alpha` parameter is not specified as in previous case, it uses default value of `alpha=1.0`, which have to be optimized for each dataset.\n",
    "\n",
    "<p style=\"color:orangered; font-size:110%;  border-left: 5px solid blue; padding-left: 10px;\"> Larger values specify stronger regularization (by forcing the coefficients <code>w</code> to move toward zero), which decreases the training set performance but might help generalization </p>"
   ]
  },
  {
   "cell_type": "code",
   "execution_count": 2,
   "metadata": {
    "ExecuteTime": {
     "end_time": "2018-09-14T03:26:35.003014Z",
     "start_time": "2018-09-14T03:26:34.939071Z"
    }
   },
   "outputs": [
    {
     "name": "stdout",
     "output_type": "stream",
     "text": [
      "alpha:   0.0010 | Training score: 0.95 | Test score: 0.63\n",
      "alpha:   0.0030 | Training score: 0.95 | Test score: 0.65\n",
      "alpha:   0.0100 | Training score: 0.94 | Test score: 0.70\n",
      "alpha:   0.0300 | Training score: 0.94 | Test score: 0.75\n",
      "alpha:   0.1000 | Training score: 0.93 | Test score: 0.77\n",
      "alpha:   0.3000 | Training score: 0.91 | Test score: 0.77\n",
      "alpha:   1.0000 | Training score: 0.89 | Test score: 0.75\n",
      "alpha:   3.0000 | Training score: 0.85 | Test score: 0.71\n",
      "alpha:  10.0000 | Training score: 0.79 | Test score: 0.64\n",
      "alpha:  30.0000 | Training score: 0.72 | Test score: 0.55\n",
      "alpha: 100.0000 | Training score: 0.60 | Test score: 0.42\n"
     ]
    }
   ],
   "source": [
    "training_score = []\n",
    "test_score = []\n",
    "alpha_settings = [0.001, 0.003, 0.01, 0.03, 0.1, 0.3, 1.0, 3, 10, 30, 100]\n",
    "for alpha in alpha_settings:\n",
    "    ridge = Ridge(alpha=alpha).fit(X_train, y_train)\n",
    "    training_score.append(ridge.score(X_train, y_train))\n",
    "    test_score.append(ridge.score(X_test, y_test))\n",
    "    print(\"alpha: {:8.4f} | Training score: {:.2f} | Test score: {:.2f}\".format(\n",
    "           alpha, ridge.score(X_train, y_train), ridge.score(X_test, y_test)))"
   ]
  },
  {
   "cell_type": "code",
   "execution_count": 6,
   "metadata": {
    "ExecuteTime": {
     "end_time": "2018-09-14T03:28:33.882071Z",
     "start_time": "2018-09-14T03:28:33.118299Z"
    }
   },
   "outputs": [
    {
     "name": "stdout",
     "output_type": "stream",
     "text": [
      "--- Based on test set/ generalization ---\n",
      "\n",
      "Best alpha  = 0.3 | Training score = 0.914 | Test score = 0.773\n",
      "Worst alpha = 100 | Training score = 0.596 | Test score = 0.415\n"
     ]
    },
    {
     "data": {
      "image/png": "[encoded data removed]",
      "text/plain": [
       "<matplotlib.figure.Figure at 0x19e93556940>"
      ]
     },
     "metadata": {},
     "output_type": "display_data"
    }
   ],
   "source": [
    "import matplotlib.pyplot as plt\n",
    "import matplotlib\n",
    "\n",
    "plt.figure(figsize=(6,4))\n",
    "\n",
    "plt.semilogx(alpha_settings, training_score, '-.', label=\"training R^2 score\")\n",
    "plt.plot(alpha_settings, test_score, '-.', label=\"test R^2 accuracy\")\n",
    "plt.ylabel(\"R^2 score\")\n",
    "plt.xlabel(\"alpha (in log scale)\")\n",
    "plt.title(\"Comparison of training and test R^2 score as a function of alpha\\n\")\n",
    "plt.legend(); plt.grid()\n",
    "\n",
    "print ('--- Based on test set/ generalization ---\\n')\n",
    "\n",
    "index = test_score.index(max(test_score))\n",
    "print ('Best alpha  = {} | Training score = {:0.3f} | Test score = {:0.3f}'.\n",
    "       format(alpha_settings[index], training_score[index], test_score[index]))\n",
    "\n",
    "plt.plot(alpha_settings[index], training_score[index], 'x')\n",
    "plt.plot(alpha_settings[index], test_score[index], 'x')\n",
    "\n",
    "index = test_score.index(min(test_score))\n",
    "print ('Worst alpha = {} | Training score = {:0.3f} | Test score = {:0.3f}'.\n",
    "       format(alpha_settings[index], training_score[index], test_score[index]))\n",
    "\n",
    "plt.show()"
   ]
  },
  {
   "cell_type": "markdown",
   "metadata": {},
   "source": [
    "From the above plot, we see how the `alpha` corresponds to the model complexity.\n",
    "- It's evident that decreasing `alpha` from 100 to 0.1 allows the coefficients to be less restricted (we fix *underfitting* issue).\n",
    "- However if the `alpha` value is set too low (below 0.1), coefficients are barely restricted (we start facing *overfitting* issue) as the penalty for cost function is very low.\n",
    "    - Think, what happens when α is set to a very small value (close to 0). \n",
    "<p><img src=\"https://prasanth-ntu.github.io/html/ML-Course/Intro-to-ML-with-Python/images/Cost_function_2b.png\" alt=\"Cost function - Ridge > Linear regression\" title=\"Cost function - Ridge > Linear regression\" style=\"max-width:350px;\"></p>    \n",
    "    - We end up with a ridge model that is similar to `Linear Regression`.\n",
    "\n",
    "`alpha = 0.1 or 0.3` seems to work well.  We will discuss more about parameter optimization in later topics."
   ]
  },
  {
   "cell_type": "code",
   "execution_count": 8,
   "metadata": {
    "ExecuteTime": {
     "end_time": "2018-09-14T03:29:12.076069Z",
     "start_time": "2018-09-14T03:29:11.017493Z"
    }
   },
   "outputs": [
    {
     "data": {
      "image/png": "[encoded data removed]",
      "text/plain": [
       "<matplotlib.figure.Figure at 0x19e93606f60>"
      ]
     },
     "metadata": {},
     "output_type": "display_data"
    },
    {
     "name": "stdout",
     "output_type": "stream",
     "text": [
      "--- Based on test set/ generalization ---\n",
      "\n",
      "Best n_neighour  = 1 | Training score = 1.000 | Test score = 0.652\n",
      "Worst n_neighour = 20 | Training score = 0.675 | Test score = 0.479\n"
     ]
    }
   ],
   "source": [
    "# compare the different models (KNN with linear and ridge regression) on the multi dimensional `boston` dataset\n",
    "from sklearn.neighbors import KNeighborsRegressor\n",
    "\n",
    "training_score = []\n",
    "test_score = []\n",
    "# try n_neighbors from 1 to 20\n",
    "neighbors_settings = range(1, 21)\n",
    "\n",
    "for n_neighbors in neighbors_settings:\n",
    "    # intialize the knn model parameters\n",
    "    knn = KNeighborsRegressor(n_neighbors=n_neighbors)\n",
    "    # build/ train the model\n",
    "    knn.fit(X_train, y_train)\n",
    "    # save training set accuracy\n",
    "    training_score.append(knn.score(X_train, y_train))\n",
    "    # save test set (generalization) accuracy\n",
    "    test_score.append(knn.score(X_test, y_test))\n",
    "\n",
    "plt.figure(figsize=(6,4))\n",
    "plt.plot(neighbors_settings, training_score, label=\"training R^2 score\")\n",
    "plt.plot(neighbors_settings, test_score, '--', label=\"test R^2 accuracy\")\n",
    "plt.ylabel(\"Accuracy\")\n",
    "plt.xlabel(\"n_neighbors\")\n",
    "plt.title(\"Comparison of training and test R^2 score as a function of n_neighbors [in KNN]\\n\")\n",
    "plt.legend()\n",
    "plt.show()\n",
    "\n",
    "print ('--- Based on test set/ generalization ---\\n')\n",
    "\n",
    "index = test_score.index(max(test_score))\n",
    "print ('Best n_neighour  = {} | Training score = {:0.3f} | Test score = {:0.3f}'.\n",
    "       format(neighbors_settings[index], training_score[index], test_score[index]))\n",
    "\n",
    "index = test_score.index(min(test_score))\n",
    "print ('Worst n_neighour = {} | Training score = {:0.3f} | Test score = {:0.3f}'.\n",
    "       format(neighbors_settings[index], training_score[index], test_score[index]))"
   ]
  },
  {
   "cell_type": "markdown",
   "metadata": {
    "ExecuteTime": {
     "end_time": "2018-09-09T09:40:45.501147Z",
     "start_time": "2018-09-09T09:40:45.493152Z"
    }
   },
   "source": [
    "- Best test score using `Linear Regression   = 0.610`\n",
    "- Best test score using `Ridge Regression    = 0.773` \n",
    "- Best test score using `K-NearestNeighbours = 0.652` "
   ]
  },
  {
   "cell_type": "markdown",
   "metadata": {},
   "source": [
    "### alpha - Qualitative insight "
   ]
  },
  {
   "cell_type": "markdown",
   "metadata": {},
   "source": [
    "We can also get a more qualitative insight into how `alpha` parameter changes the model by inspecting the `coef_` (slope or weight) attribute of models.  "
   ]
  },
  {
   "cell_type": "code",
   "execution_count": 222,
   "metadata": {
    "ExecuteTime": {
     "end_time": "2018-09-09T09:56:35.902317Z",
     "start_time": "2018-09-09T09:56:35.102218Z"
    }
   },
   "outputs": [
    {
     "data": {
      "image/png": "[encoded data removed]",
      "text/plain": [
       "<matplotlib.figure.Figure at 0x1c1259c5940>"
      ]
     },
     "metadata": {},
     "output_type": "display_data"
    },
    {
     "name": "stdout",
     "output_type": "stream",
     "text": [
      "No of features = No of coefficients = 104\n"
     ]
    }
   ],
   "source": [
    "ridge = Ridge(alpha=1).fit(X_train, y_train)\n",
    "ridge10 = Ridge(alpha=10).fit(X_train, y_train)\n",
    "ridge01 = Ridge(alpha=0.1).fit(X_train, y_train)\n",
    "lr = LinearRegression().fit(X_train, y_train)\n",
    "\n",
    "plt.figure(figsize=(16,6))\n",
    "plt.title('Comparing coefcient magnitudes for ridge regression with diﬀerent values of alpha and for linear regression')\n",
    "plt.plot(ridge.coef_, 's', label=\"Ridge alpha=1\")\n",
    "plt.plot(ridge10.coef_, '^', label=\"Ridge alpha=10\")\n",
    "plt.plot(ridge01.coef_, 'v', label=\"Ridge alpha=0.1\")\n",
    "plt.plot(lr.coef_, 'o', label=\"LinearRegression\")\n",
    "plt.xlabel(\"Coefficient index\")\n",
    "plt.ylabel(\"Coefficient magnitude\")\n",
    "plt.hlines(0, 0, len(lr.coef_))\n",
    "plt.xlim(0,50)\n",
    "plt.ylim(-25,25)\n",
    "plt.legend()\n",
    "plt.show()\n",
    "\n",
    "print (\"No of features = No of coefficients = {}\".format(len(lr.coef_)))"
   ]
  },
  {
   "cell_type": "markdown",
   "metadata": {},
   "source": [
    "<p style=\"color:green; font-size:110%;  border-left: 5px solid blue; padding-left: 10px;\"> A higher <code>alpha</code> means a more restricted model (more penalty), so we execpt the <code>coef_</code> (weights) to have smaller magnitude for a higher value of <code>alpha</code>.</p>\n",
    "\n",
    "This is confirmed by the above plot. Here,\n",
    "- `x-axis` spans over 104 data points, but only first 50 data point are shown. It corresponds to the `coeff_` or` weight` of `n`th feature/ dimension\n",
    "- `y-axis` shows the numeric (magnitude) values of the corresponding values of the coefficients.\n",
    "    <p style=\"color:blue\"> &#9632; Coefficients of Ridge model with alpha=1. <font color=\"black\">Here, the coefficients are somewhat larger than range of -3 to 3</font></p>\n",
    "    <p style=\"color:orange\"> &#9650; Coefficients of Ridge model with alpha=10. <font color=\"black\">Here, the coefficients are mostly between -3 to 3</font></p>\n",
    "    <p style=\"color:green\"> &#9660; Coefficients of Ridge model with alpha=0.1. <font color=\"black\">Here, the coefficients have large magnitude</font></p>\n",
    "    <p style=\"color:red\"> &#9679; Coefficients of Linear model (no alpha parameter involved). <font color=\"black\">Here, the coefficients are so large that many of them are outside the chart range</font></p>"
   ]
  },
  {
   "cell_type": "markdown",
   "metadata": {},
   "source": [
    "### Training size - insight"
   ]
  },
  {
   "cell_type": "markdown",
   "metadata": {},
   "source": [
    "Another way to understand the effect of regularization is to fix `alpha` but vary the **size of training data**.\n",
    "In the figure below, the `boston housing` dataset is subsampled & evaluated on `LinearRegression` and `Ridge(alpha=1)` with training subsets of increasing size."
   ]
  },
  {
   "cell_type": "code",
   "execution_count": 37,
   "metadata": {
    "ExecuteTime": {
     "end_time": "2018-09-14T04:06:17.945884Z",
     "start_time": "2018-09-14T04:06:14.305961Z"
    }
   },
   "outputs": [
    {
     "data": {
      "image/png": "[encoded data removed]",
      "text/plain": [
       "<matplotlib.figure.Figure at 0x19e933e8c50>"
      ]
     },
     "metadata": {},
     "output_type": "display_data"
    }
   ],
   "source": [
    "plt.figure(figsize=(10,6))\n",
    "mglearn.plots.plot_ridge_n_samples()\n",
    "plt.title('Learning curves for ridge regression and linear regression \\n on Boston housing dataset', y=1.2)\n",
    "plt.grid()\n",
    "plt.ylim([-0.5,1.02])\n",
    "plt.show()"
   ]
  },
  {
   "cell_type": "markdown",
   "metadata": {},
   "source": [
    "From the above learning curve, we can deduce that\n",
    "- Training score is higher than test score for different training set size, for both linear and ridge regression.\n",
    "- As ridge is regularized (as weights are constrained), the training score of ridge is always lower than linear regression. \n",
    "- However, the test score for ridge is better, especially for smaller training dataset.\n",
    "\n",
    "As more and more data becomes available for training the model, both models improve, and linear regression catches up with ridge. The lesson here is that with enough training data, regularization becomes less important. Another interesting aspect is the decrease of training set preformance when more data is added. This implies that, with more data, it becomes harder for the model to overfit or memorize the data crudely."
   ]
  },
  {
   "cell_type": "markdown",
   "metadata": {
    "ExecuteTime": {
     "end_time": "2018-09-14T03:49:13.842928Z",
     "start_time": "2018-09-14T03:49:13.464375Z"
    }
   },
   "source": [
    "## Lasso"
   ]
  },
  {
   "cell_type": "markdown",
   "metadata": {},
   "source": [
    "- An alternative to `Ridge` for  regularizing and to restrict the weight/ slope coefficients close to zero, but in a slightly different way.\n",
    "\n",
    "- The lasso regression is also known as `L1 regularization`, penalizes the sum of absolute value of the `w`\n",
    "<p><img src=\"https://prasanth-ntu.github.io/html/ML-Course/Intro-to-ML-with-Python/images/Cost_function_3_Lasso.png\" alt=\"Cost function - Lasso\" title=\"Cost function - Lasso\" style=\"max-width:320px;\"></p>\n",
    "\n",
    "- The ridge regression is also known as `L2 regularization`, penalizes the Euclidean length of `w`\n",
    "<p><img src=\"https://prasanth-ntu.github.io/html/ML-Course/Intro-to-ML-with-Python/images/Cost_function_3_RR.png\" alt=\"Cost function - Ridge Regression\" title=\"Cost function - Ridge Regression\" style=\"max-width:280px;\"></p>\n",
    "\n",
    "\n",
    "<p style=\"color:red; font-size:110%;  border-left: 5px solid blue; padding-left: 10px;\">The consequence of <code>L1 regularization</code> is that when using lasso, some coefficients are <i>exactly zero</i></p>\n",
    "\n",
    "<p style=\"color:green; font-size:110%;  border-left: 5px solid blue; padding-left: 10px;\">This can be seen as <b>automatic feature selection</b>, where having some coefficients as 0 reveals the most important features of the model, thereby making it easier to interpret it</i></p>"
   ]
  },
  {
   "cell_type": "markdown",
   "metadata": {},
   "source": [
    "### boston housing: *n*-D dataset"
   ]
  },
  {
   "cell_type": "code",
   "execution_count": 92,
   "metadata": {
    "ExecuteTime": {
     "end_time": "2018-09-14T04:47:30.200863Z",
     "start_time": "2018-09-14T04:47:30.165390Z"
    }
   },
   "outputs": [
    {
     "name": "stdout",
     "output_type": "stream",
     "text": [
      "Shape of training set: (379, 104)\n",
      "Shape of test set    : (127, 104)\n",
      "\n",
      "Lasso details: Lasso(alpha=1.0, copy_X=True, fit_intercept=True, max_iter=1000,\n",
      "   normalize=False, positive=False, precompute=False, random_state=None,\n",
      "   selection='cyclic', tol=0.0001, warm_start=False)\n",
      "\n",
      "Number of features used: 4 out of 104\n",
      "Training set score: 0.29\n",
      "Test set score: 0.21\n"
     ]
    }
   ],
   "source": [
    "import mglearn\n",
    "from sklearn.linear_model import Lasso\n",
    "from sklearn.model_selection import train_test_split\n",
    "import numpy as np\n",
    "\n",
    "X,y = mglearn.datasets.load_extended_boston()\n",
    "X_train, X_test, y_train, y_test = train_test_split(X,y, random_state=0)\n",
    "print (\"Shape of training set: {}\".format(X_train.shape))\n",
    "print (\"Shape of test set    : {}\".format(X_test.shape))\n",
    "\n",
    "lasso = Lasso().fit(X_train, y_train)\n",
    "print (\"\\n\" + 'Lasso details:', lasso)\n",
    "print (\"\\nNumber of features used: {} out of {}\".format(np.sum(lasso.coef_ != 0), X.shape[1]))\n",
    "\n",
    "print(\"Training set score: {:.2f}\".format(lasso.score(X_train, y_train)))\n",
    "print(\"Test set score: {:.2f}\".format(lasso.score(X_test, y_test)))"
   ]
  },
  {
   "cell_type": "markdown",
   "metadata": {},
   "source": [
    "### `alpha`"
   ]
  },
  {
   "cell_type": "markdown",
   "metadata": {},
   "source": [
    "- We can see that Lasso does quite badly on both training (`0.29`) and testing (`0.21`) whereas *Ridge scored `0.77` on test set*. \n",
    "-  A low training and test score indicates **underfitting** and it's obvious that the **model only used `4` out of `104` input features**\n",
    "- Similar to `Ridge`, we can control the regularization strength using `alpha` parameter. \n",
    "- To resovle underfitting issue, let's reduce the `alpha` from `default value (1.0)` to `0.01`, thereby reducing the regularization strength.   "
   ]
  },
  {
   "cell_type": "code",
   "execution_count": 93,
   "metadata": {
    "ExecuteTime": {
     "end_time": "2018-09-14T04:54:10.228671Z",
     "start_time": "2018-09-14T04:54:10.152718Z"
    }
   },
   "outputs": [
    {
     "name": "stdout",
     "output_type": "stream",
     "text": [
      "\n",
      "Lasso details: Lasso(alpha=0.01, copy_X=True, fit_intercept=True, max_iter=100000,\n",
      "   normalize=False, positive=False, precompute=False, random_state=None,\n",
      "   selection='cyclic', tol=0.0001, warm_start=False)\n",
      "\n",
      "Number of features used: 33 out of 104\n",
      "Training set score: 0.90\n",
      "Test set score: 0.77\n"
     ]
    }
   ],
   "source": [
    "lasso = Lasso(alpha=.01, max_iter=100000).fit(X_train, y_train)\n",
    "print (\"\\n\" + 'Lasso details:', lasso)\n",
    "print (\"\\nNumber of features used: {} out of {}\".format(np.sum(lasso.coef_ != 0), X.shape[1]))\n",
    "\n",
    "print(\"Training set score: {:.2f}\".format(lasso.score(X_train, y_train)))\n",
    "print(\"Test set score: {:.2f}\".format(lasso.score(X_test, y_test)))"
   ]
  },
  {
   "cell_type": "markdown",
   "metadata": {
    "ExecuteTime": {
     "end_time": "2018-09-14T04:40:13.969734Z",
     "start_time": "2018-09-14T04:40:13.957757Z"
    }
   },
   "source": [
    "- It's evident that lower `alpha` allows us to fit a more complex model, thereby improving the score. \n",
    "- The performance on test data is `0.77` and is slightly better than `Ridge` as we are using only **33 out of 104** features. \n",
    "- If we set the `alpha` too low, we again remove the effect of regularization and end up overfitting, similar to `LinearRegression`."
   ]
  },
  {
   "cell_type": "code",
   "execution_count": 95,
   "metadata": {
    "ExecuteTime": {
     "end_time": "2018-09-14T04:57:21.957624Z",
     "start_time": "2018-09-14T04:57:19.358120Z"
    }
   },
   "outputs": [
    {
     "name": "stdout",
     "output_type": "stream",
     "text": [
      "\n",
      "Lasso details: Lasso(alpha=0.0001, copy_X=True, fit_intercept=True, max_iter=100000,\n",
      "   normalize=False, positive=False, precompute=False, random_state=None,\n",
      "   selection='cyclic', tol=0.0001, warm_start=False)\n",
      "\n",
      "Number of features used: 94 out of 104\n",
      "Training set score: 0.95\n",
      "Test set score: 0.64\n"
     ]
    }
   ],
   "source": [
    "lasso = Lasso(alpha=.0001, max_iter=100000).fit(X_train, y_train)\n",
    "print (\"\\n\" + 'Lasso details:', lasso)\n",
    "print (\"\\nNumber of features used: {} out of {}\".format(np.sum(lasso.coef_ != 0), X.shape[1]))\n",
    "\n",
    "print(\"Training set score: {:.2f}\".format(lasso.score(X_train, y_train)))\n",
    "print(\"Test set score: {:.2f}\".format(lasso.score(X_test, y_test)))"
   ]
  },
  {
   "cell_type": "markdown",
   "metadata": {},
   "source": [
    "- It's evident that a very low `alpha` (close to 0) causes overfitting, thereby failing to generalize well on test set. "
   ]
  },
  {
   "cell_type": "markdown",
   "metadata": {},
   "source": [
    "### alpha - Qualitative insight"
   ]
  },
  {
   "cell_type": "code",
   "execution_count": 105,
   "metadata": {
    "ExecuteTime": {
     "end_time": "2018-09-14T05:05:22.984114Z",
     "start_time": "2018-09-14T05:05:19.997135Z"
    }
   },
   "outputs": [
    {
     "data": {
      "image/png": "[encoded data removed]",
      "text/plain": [
       "<matplotlib.figure.Figure at 0x19e92e45710>"
      ]
     },
     "metadata": {},
     "output_type": "display_data"
    },
    {
     "name": "stdout",
     "output_type": "stream",
     "text": [
      "No of features used by Lasso(alpha=1)     = 4\n",
      "No of features used by Lasso(alpha=0.01)  = 33\n",
      "No of features used by Lasso(alpha=0.0001 = 94\n",
      "No of features used by Ridge(alpha=0.1)   = 104\n"
     ]
    }
   ],
   "source": [
    "lasso1 = Lasso(alpha=1).fit(X_train, y_train)\n",
    "lasso0_01 = Lasso(alpha=0.01, max_iter=100000).fit(X_train, y_train)\n",
    "lasso0_0001 = Lasso(alpha=0.0001, max_iter=100000).fit(X_train, y_train)\n",
    "ridge0_1= Ridge(alpha=0.1).fit(X_train, y_train)\n",
    "\n",
    "plt.figure(figsize=(16,6))\n",
    "plt.title('Comparing coefcient magnitudes for lasso regression with diﬀerent values of alpha and for ridge regression')\n",
    "plt.plot(lasso1.coef_, 's', label=\"Lasso alpha=1\")\n",
    "plt.plot(lasso0_01.coef_, '^', label=\"Lasso alpha=0.01\")\n",
    "plt.plot(lasso0_0001.coef_, 'v', label=\"Lasso alpha=0.0001\")\n",
    "plt.plot(ridge0_1.coef_, 'o', label=\"Ridge alpha=0.1\")\n",
    "plt.xlabel(\"Coefficient index\")\n",
    "plt.ylabel(\"Coefficient magnitude\")\n",
    "plt.hlines(0, 0, len(ridge0_1.coef_))\n",
    "plt.xlim(0,50)\n",
    "plt.ylim(-25,25)\n",
    "plt.legend()\n",
    "plt.show()\n",
    "\n",
    "print (\"No of features used by Lasso(alpha=1)     = {}\".format(np.sum(lasso1.coef_ != 0)))\n",
    "print (\"No of features used by Lasso(alpha=0.01)  = {}\".format(np.sum(lasso0_01.coef_ != 0)))\n",
    "print (\"No of features used by Lasso(alpha=0.0001 = {}\".format(np.sum(lasso0_0001.coef_ != 0)))\n",
    "print (\"No of features used by Ridge(alpha=0.1)   = {}\".format(len(ridge0_1.coef_)))"
   ]
  },
  {
   "cell_type": "markdown",
   "metadata": {},
   "source": [
    "<p style=\"color:green; font-size:110%;  border-left: 5px solid blue; padding-left: 10px;\"> A higher <code>alpha</code> means a more restricted model (more penalty), so we execpt a lot of <code>losso coef_</code> (weights) to have zero magnitude for a higher value of <code>alpha</code>.</p>\n",
    "\n",
    "This is confirmed by the above plot. Here,\n",
    "- `x-axis` spans over 104 data points, but only first 50 data point are shown. It corresponds to the `coeff_` or` weight` of `n`th feature/ dimension\n",
    "- `y-axis` shows the numeric (magnitude) values of the corresponding values of the coefficients.\n",
    "    <p style=\"color:blue\"> &#9632; Coefficients of <code style=\"color:blue\">Losso model with alpha=1</code>: <font color=\"black\">Here, the majority of the coefficients are zero and the remaining 4 features are also small in magnitude</font></p>\n",
    "    <p style=\"color:orange\"> &#9650; Coefficients of <code style=\"color:orange\">Losso model with alpha=0.01</code>: <font color=\"black\">Here, most of the features are still zero, but the remaining 33 features are slightly less restricted than when alpha=1</font></p>\n",
    "    <p style=\"color:green\"> &#9660; Coefficients of <code style=\"color:green\">Losso model with alpha=0.0001</code>: <font color=\"black\">Heremodel is slightly unregularized, woith most coefficients non-zero and large magnitude</font></p>\n",
    "    <p style=\"color:red\"> &#9679; Coefficients of <code style=\"color:red\">Ridge model with alpha=0.1</code>: <font color=\"black\">Here, all the coefficients are non-zero though the test results are similar to Lasso model with alpha=0.01</font></p>"
   ]
  },
  {
   "cell_type": "markdown",
   "metadata": {},
   "source": [
    "# Summary"
   ]
  },
  {
   "cell_type": "markdown",
   "metadata": {},
   "source": [
    "We have covered about 3 most popular linear models for regression, namely\n",
    "- <p><code style=\"font-size:120%;color:green\">Linear Regression</code></p>\n",
    "- <p><code style=\"font-size:120%;color:green\">Ridge Regression</code></p>\n",
    "- <p><code style=\"font-size:120%;color:green\">Lasso</code></p>"
   ]
  },
  {
   "cell_type": "markdown",
   "metadata": {},
   "source": [
    "**General Practice**\n",
    "- `linear regression` is where people start with as it doesn't involve any tuning of parameters, like `alpha`. However, the LR model might easily overfit on the training set and fail to generalize on test set.\n",
    "- `ridge regression` is usually the first choice when compared to `Lasso`, especailly when we have fewer features\n",
    "\n",
    "**When is Lasso better?**\n",
    "- If we have large number of input features and expect only few of them to be important, `Lasso` is a better choice\n",
    "- If we would like to have a model that is easy to interpret, `Lasso` is better as it will select only a subset of features.\n",
    "\n",
    "**ElasticNet**\n",
    "- is a linear regresion model that combines the penalaties of `Lasso` and `Ridge`\n",
    "- This combination works best in practice, though at the price of haign two parameters to adjust\n",
    "    - one for L1 regularization\n",
    "    - one for L2 regularization"
   ]
  },
  {
   "cell_type": "markdown",
   "metadata": {},
   "source": [
    "# Datasets"
   ]
  },
  {
   "cell_type": "code",
   "execution_count": 154,
   "metadata": {
    "ExecuteTime": {
     "end_time": "2018-09-14T06:19:08.404663Z",
     "start_time": "2018-09-14T06:19:08.396668Z"
    }
   },
   "outputs": [],
   "source": [
    "import numpy as np\n",
    "from sklearn.linear_model import LinearRegression\n",
    "from sklearn.model_selection import train_test_split"
   ]
  },
  {
   "cell_type": "code",
   "execution_count": 182,
   "metadata": {
    "ExecuteTime": {
     "end_time": "2018-09-14T06:26:28.267278Z",
     "start_time": "2018-09-14T06:26:28.258285Z"
    }
   },
   "outputs": [
    {
     "name": "stdout",
     "output_type": "stream",
     "text": [
      "(47, 3)\n"
     ]
    }
   ],
   "source": [
    "fname = 'data/ex1data2.txt'\n",
    "data= np.genfromtxt(fname, delimiter=',')\n",
    "print (data.shape)"
   ]
  },
  {
   "cell_type": "code",
   "execution_count": 185,
   "metadata": {
    "ExecuteTime": {
     "end_time": "2018-09-14T06:26:54.377965Z",
     "start_time": "2018-09-14T06:26:54.367977Z"
    }
   },
   "outputs": [
    {
     "name": "stdout",
     "output_type": "stream",
     "text": [
      "Shape of training set: (35, 2)\n",
      "Shape of test set    : (12, 2)\n"
     ]
    }
   ],
   "source": [
    "X = data[:,0:2]\n",
    "y = data[:,-1]\n",
    "\n",
    "# X = X[:,np.newaxis]\n",
    "X_train, X_test, y_train, y_test = train_test_split(X,y, random_state=0)\n",
    "\n",
    "print (\"Shape of training set: {}\".format(X_train.shape))\n",
    "print (\"Shape of test set    : {}\".format(X_test.shape))"
   ]
  },
  {
   "cell_type": "code",
   "execution_count": 173,
   "metadata": {
    "ExecuteTime": {
     "end_time": "2018-09-14T06:24:49.412030Z",
     "start_time": "2018-09-14T06:24:49.192177Z"
    }
   },
   "outputs": [
    {
     "data": {
      "image/png": "[encoded data removed]",
      "text/plain": [
       "<matplotlib.figure.Figure at 0x19e9308ac50>"
      ]
     },
     "metadata": {},
     "output_type": "display_data"
    }
   ],
   "source": [
    "import matplotlib.pyplot as plt\n",
    "plt.plot(X,y,'rx')\n",
    "plt.ylabel(\"Profit in $10,000s\")\n",
    "plt.xlabel(\"Population of City in 10,000s\")\n",
    "plt.show()"
   ]
  },
  {
   "cell_type": "code",
   "execution_count": 186,
   "metadata": {
    "ExecuteTime": {
     "end_time": "2018-09-14T06:27:01.854906Z",
     "start_time": "2018-09-14T06:27:01.498769Z"
    }
   },
   "outputs": [
    {
     "data": {
      "image/png": "[encoded data removed]",
      "text/plain": [
       "<matplotlib.figure.Figure at 0x19e930deac8>"
      ]
     },
     "metadata": {},
     "output_type": "display_data"
    },
    {
     "name": "stdout",
     "output_type": "stream",
     "text": [
      "--- Based on test set/ generalization ---\n",
      "\n",
      "Best n_neighour  = 5 | Training score = 0.683 | Test score = 0.521\n"
     ]
    }
   ],
   "source": [
    "training_score = []\n",
    "test_score = []\n",
    "# try n_neighbors from 1 to 20\n",
    "neighbors_settings = range(1, 21)\n",
    "\n",
    "for n_neighbors in neighbors_settings:\n",
    "    # intialize the knn model parameters\n",
    "    knn = KNeighborsRegressor(n_neighbors=n_neighbors)\n",
    "    # build/ train the model\n",
    "    knn.fit(X_train, y_train)\n",
    "    # save training set accuracy\n",
    "    training_score.append(knn.score(X_train, y_train))\n",
    "    # save test set (generalization) accuracy\n",
    "    test_score.append(knn.score(X_test, y_test))\n",
    "    \n",
    "plt.plot(neighbors_settings, training_score, label=\"training R^2 score\")\n",
    "plt.plot(neighbors_settings, test_score, '--', label=\"test R^2 accuracy\")\n",
    "plt.ylabel(\"Accuracy\")\n",
    "plt.xlabel(\"n_neighbors\")\n",
    "plt.title(\"Comparison of training and test R^2 score as a function of n_neighbors\\n\")\n",
    "plt.legend()\n",
    "plt.show()\n",
    "\n",
    "print ('--- Based on test set/ generalization ---\\n')\n",
    "\n",
    "index = test_score.index(max(test_score))\n",
    "print ('Best n_neighour  = {} | Training score = {:0.3f} | Test score = {:0.3f}'.\n",
    "       format(neighbors_settings[index], training_score[index], test_score[index]))"
   ]
  },
  {
   "cell_type": "code",
   "execution_count": 187,
   "metadata": {
    "ExecuteTime": {
     "end_time": "2018-09-14T06:27:04.734228Z",
     "start_time": "2018-09-14T06:27:04.729230Z"
    },
    "scrolled": true
   },
   "outputs": [],
   "source": [
    "lr = LinearRegression().fit(X_train, y_train)        # Fit the linear regression model on the training data"
   ]
  },
  {
   "cell_type": "code",
   "execution_count": 188,
   "metadata": {
    "ExecuteTime": {
     "end_time": "2018-09-14T06:27:05.556471Z",
     "start_time": "2018-09-14T06:27:05.547498Z"
    }
   },
   "outputs": [
    {
     "name": "stdout",
     "output_type": "stream",
     "text": [
      "Training set score: 0.7370\n",
      "Test set score: 0.6536\n"
     ]
    }
   ],
   "source": [
    "print(\"Training set score: {:.4f}\".format(lr.score(X_train, y_train)))\n",
    "print(\"Test set score: {:.4f}\".format(lr.score(X_test, y_test)))"
   ]
  },
  {
   "cell_type": "code",
   "execution_count": 189,
   "metadata": {
    "ExecuteTime": {
     "end_time": "2018-09-14T06:27:11.013020Z",
     "start_time": "2018-09-14T06:27:10.967068Z"
    }
   },
   "outputs": [
    {
     "name": "stdout",
     "output_type": "stream",
     "text": [
      "alpha:   0.0010 | Training score: 0.7370 | Test score: 0.6536\n",
      "alpha:   0.0030 | Training score: 0.7370 | Test score: 0.6536\n",
      "alpha:   0.0100 | Training score: 0.7370 | Test score: 0.6536\n",
      "alpha:   0.0300 | Training score: 0.7370 | Test score: 0.6536\n",
      "alpha:   0.1000 | Training score: 0.7370 | Test score: 0.6537\n",
      "alpha:   0.3000 | Training score: 0.7370 | Test score: 0.6538\n",
      "alpha:   1.0000 | Training score: 0.7370 | Test score: 0.6541\n",
      "alpha:   3.0000 | Training score: 0.7370 | Test score: 0.6548\n",
      "alpha:  10.0000 | Training score: 0.7370 | Test score: 0.6563\n",
      "alpha:  30.0000 | Training score: 0.7369 | Test score: 0.6578\n",
      "alpha: 100.0000 | Training score: 0.7369 | Test score: 0.6587\n",
      "alpha: 1000.0000 | Training score: 0.7369 | Test score: 0.6592\n"
     ]
    }
   ],
   "source": [
    "training_score = []\n",
    "test_score = []\n",
    "alpha_settings = [0.001, 0.003, 0.01, 0.03, 0.1, 0.3, 1.0, 3, 10, 30, 100, 1000]\n",
    "for alpha in alpha_settings:\n",
    "    ridge = Ridge(alpha=alpha).fit(X_train, y_train)\n",
    "    training_score.append(ridge.score(X_train, y_train))\n",
    "    test_score.append(ridge.score(X_test, y_test))\n",
    "    print(\"alpha: {:8.4f} | Training score: {:.4f} | Test score: {:.4f}\".format(\n",
    "           alpha, ridge.score(X_train, y_train), ridge.score(X_test, y_test)))"
   ]
  },
  {
   "cell_type": "code",
   "execution_count": 190,
   "metadata": {
    "ExecuteTime": {
     "end_time": "2018-09-14T06:27:16.653405Z",
     "start_time": "2018-09-14T06:27:16.531478Z"
    },
    "scrolled": true
   },
   "outputs": [
    {
     "name": "stdout",
     "output_type": "stream",
     "text": [
      "alpha:   0.0010 | l1_ratio:   0.1000 | Training score: 0.7370 | Test score: 0.6536\n",
      "alpha:   0.0010 | l1_ratio:   0.2000 | Training score: 0.7370 | Test score: 0.6536\n",
      "alpha:   0.0010 | l1_ratio:   0.3000 | Training score: 0.7370 | Test score: 0.6536\n",
      "alpha:   0.0010 | l1_ratio:   0.4000 | Training score: 0.7370 | Test score: 0.6536\n",
      "alpha:   0.0010 | l1_ratio:   0.5000 | Training score: 0.7370 | Test score: 0.6536\n",
      "alpha:   0.0010 | l1_ratio:   0.6000 | Training score: 0.7370 | Test score: 0.6536\n",
      "alpha:   0.0010 | l1_ratio:   0.7000 | Training score: 0.7370 | Test score: 0.6536\n",
      "alpha:   0.0010 | l1_ratio:   0.8000 | Training score: 0.7370 | Test score: 0.6536\n",
      "alpha:   0.0010 | l1_ratio:   0.9000 | Training score: 0.7370 | Test score: 0.6536\n",
      "alpha:   0.0010 | l1_ratio:   1.0000 | Training score: 0.7370 | Test score: 0.6536\n",
      "alpha:   0.0030 | l1_ratio:   0.1000 | Training score: 0.7370 | Test score: 0.6537\n",
      "alpha:   0.0030 | l1_ratio:   0.2000 | Training score: 0.7370 | Test score: 0.6537\n",
      "alpha:   0.0030 | l1_ratio:   0.3000 | Training score: 0.7370 | Test score: 0.6537\n",
      "alpha:   0.0030 | l1_ratio:   0.4000 | Training score: 0.7370 | Test score: 0.6537\n",
      "alpha:   0.0030 | l1_ratio:   0.5000 | Training score: 0.7370 | Test score: 0.6537\n",
      "alpha:   0.0030 | l1_ratio:   0.6000 | Training score: 0.7370 | Test score: 0.6537\n",
      "alpha:   0.0030 | l1_ratio:   0.7000 | Training score: 0.7370 | Test score: 0.6536\n",
      "alpha:   0.0030 | l1_ratio:   0.8000 | Training score: 0.7370 | Test score: 0.6536\n",
      "alpha:   0.0030 | l1_ratio:   0.9000 | Training score: 0.7370 | Test score: 0.6536\n",
      "alpha:   0.0030 | l1_ratio:   1.0000 | Training score: 0.7370 | Test score: 0.6536\n",
      "alpha:   0.0100 | l1_ratio:   0.1000 | Training score: 0.7370 | Test score: 0.6538\n",
      "alpha:   0.0100 | l1_ratio:   0.2000 | Training score: 0.7370 | Test score: 0.6538\n",
      "alpha:   0.0100 | l1_ratio:   0.3000 | Training score: 0.7370 | Test score: 0.6538\n",
      "alpha:   0.0100 | l1_ratio:   0.4000 | Training score: 0.7370 | Test score: 0.6537\n",
      "alpha:   0.0100 | l1_ratio:   0.5000 | Training score: 0.7370 | Test score: 0.6537\n",
      "alpha:   0.0100 | l1_ratio:   0.6000 | Training score: 0.7370 | Test score: 0.6537\n",
      "alpha:   0.0100 | l1_ratio:   0.7000 | Training score: 0.7370 | Test score: 0.6537\n",
      "alpha:   0.0100 | l1_ratio:   0.8000 | Training score: 0.7370 | Test score: 0.6537\n",
      "alpha:   0.0100 | l1_ratio:   0.9000 | Training score: 0.7370 | Test score: 0.6536\n",
      "alpha:   0.0100 | l1_ratio:   1.0000 | Training score: 0.7370 | Test score: 0.6536\n",
      "alpha:   0.0300 | l1_ratio:   0.1000 | Training score: 0.7370 | Test score: 0.6541\n",
      "alpha:   0.0300 | l1_ratio:   0.2000 | Training score: 0.7370 | Test score: 0.6540\n",
      "alpha:   0.0300 | l1_ratio:   0.3000 | Training score: 0.7370 | Test score: 0.6540\n",
      "alpha:   0.0300 | l1_ratio:   0.4000 | Training score: 0.7370 | Test score: 0.6539\n",
      "alpha:   0.0300 | l1_ratio:   0.5000 | Training score: 0.7370 | Test score: 0.6539\n",
      "alpha:   0.0300 | l1_ratio:   0.6000 | Training score: 0.7370 | Test score: 0.6538\n",
      "alpha:   0.0300 | l1_ratio:   0.7000 | Training score: 0.7370 | Test score: 0.6538\n",
      "alpha:   0.0300 | l1_ratio:   0.8000 | Training score: 0.7370 | Test score: 0.6537\n",
      "alpha:   0.0300 | l1_ratio:   0.9000 | Training score: 0.7370 | Test score: 0.6537\n",
      "alpha:   0.0300 | l1_ratio:   1.0000 | Training score: 0.7370 | Test score: 0.6536\n",
      "alpha:   0.1000 | l1_ratio:   0.1000 | Training score: 0.7370 | Test score: 0.6549\n",
      "alpha:   0.1000 | l1_ratio:   0.2000 | Training score: 0.7370 | Test score: 0.6548\n",
      "alpha:   0.1000 | l1_ratio:   0.3000 | Training score: 0.7370 | Test score: 0.6547\n",
      "alpha:   0.1000 | l1_ratio:   0.4000 | Training score: 0.7370 | Test score: 0.6545\n",
      "alpha:   0.1000 | l1_ratio:   0.5000 | Training score: 0.7370 | Test score: 0.6544\n",
      "alpha:   0.1000 | l1_ratio:   0.6000 | Training score: 0.7370 | Test score: 0.6543\n",
      "alpha:   0.1000 | l1_ratio:   0.7000 | Training score: 0.7370 | Test score: 0.6541\n",
      "alpha:   0.1000 | l1_ratio:   0.8000 | Training score: 0.7370 | Test score: 0.6540\n",
      "alpha:   0.1000 | l1_ratio:   0.9000 | Training score: 0.7370 | Test score: 0.6538\n",
      "alpha:   0.1000 | l1_ratio:   1.0000 | Training score: 0.7370 | Test score: 0.6536\n",
      "\n",
      "\n",
      "----------------- BEST on TEST set----------------\n",
      "Coefficients of the elastic model: [  122.27003783  2799.48439653]\n"
     ]
    }
   ],
   "source": [
    "training_score_list = []\n",
    "test_score_list = []\n",
    "best_test_score = None\n",
    "best_alpha = 0; best_l1_ratio = 0\n",
    "\n",
    "alpha_settings = [0.001, 0.003, 0.01, 0.03, 0.1]\n",
    "l1_ratio_setting =  [0.1,0.2,0.3,0.4,0.5,0.6,0.7,0.8,0.9,1]\n",
    "for alpha in alpha_settings:\n",
    "    for l1_ratio in l1_ratio_setting:\n",
    "        elastic = ElasticNet(alpha=alpha,l1_ratio=l1_ratio, max_iter=100000, random_state=42).fit(X_train, y_train)\n",
    "        train_score, test_score = elastic.score(X_train, y_train), elastic.score(X_test, y_test)\n",
    "        training_score_list.append(train_score)\n",
    "        test_score_list.append(test_score)\n",
    "        print(\"alpha: {:8.4f} | l1_ratio: {:8.4f} | Training score: {:.4f} | Test score: {:.4f}\".format(alpha, l1_ratio, train_score, test_score))  \n",
    "        \n",
    "        if best_test_score is None or best_test_score < test_score:\n",
    "            best_test_score = test_score\n",
    "            best_alpha = alpha\n",
    "            best_l1_ratio = l1_ratio\n",
    "\n",
    "print (\"\\n\\n----------------- BEST on TEST set----------------\")          \n",
    "elastic = ElasticNet(alpha=alpha,l1_ratio=l1_ratio, max_iter=100000, random_state=42).fit(X_train, y_train)\n",
    "print (\"Coefficients of the elastic model:\", elastic.coef_)"
   ]
  },
  {
   "cell_type": "markdown",
   "metadata": {},
   "source": [
    "## ElasticNet"
   ]
  },
  {
   "cell_type": "code",
   "execution_count": 106,
   "metadata": {
    "ExecuteTime": {
     "end_time": "2018-09-14T05:25:31.752025Z",
     "start_time": "2018-09-14T05:25:31.746030Z"
    }
   },
   "outputs": [],
   "source": [
    "import mglearn\n",
    "from sklearn.linear_model import ElasticNet\n",
    "from sklearn.model_selection import train_test_split\n",
    "import numpy as np\n",
    "\n",
    "X,y = mglearn.datasets.load_extended_boston()\n",
    "X_train, X_test, y_train, y_test = train_test_split(X,y, random_state=0)\n",
    "print (\"Shape of training set: {}\".format(X_train.shape))\n",
    "print (\"Shape of test set    : {}\".format(X_test.shape))\n"
   ]
  },
  {
   "cell_type": "code",
   "execution_count": 131,
   "metadata": {
    "ExecuteTime": {
     "end_time": "2018-09-14T05:40:16.397142Z",
     "start_time": "2018-09-14T05:40:08.438314Z"
    },
    "scrolled": true
   },
   "outputs": [
    {
     "name": "stdout",
     "output_type": "stream",
     "text": [
      "alpha:   0.0010 | l1_ratio:   0.1000 | Training score: 0.9114 | Test score: 0.7719\n",
      "alpha:   0.0010 | l1_ratio:   0.2000 | Training score: 0.9132 | Test score: 0.7728\n",
      "alpha:   0.0010 | l1_ratio:   0.3000 | Training score: 0.9150 | Test score: 0.7737\n",
      "alpha:   0.0010 | l1_ratio:   0.4000 | Training score: 0.9170 | Test score: 0.7746\n",
      "alpha:   0.0010 | l1_ratio:   0.5000 | Training score: 0.9191 | Test score: 0.7752\n",
      "alpha:   0.0010 | l1_ratio:   0.6000 | Training score: 0.9215 | Test score: 0.7758\n",
      "alpha:   0.0010 | l1_ratio:   0.7000 | Training score: 0.9242 | Test score: 0.7760\n",
      "alpha:   0.0010 | l1_ratio:   0.8000 | Training score: 0.9272 | Test score: 0.7755\n",
      "alpha:   0.0010 | l1_ratio:   0.9000 | Training score: 0.9312 | Test score: 0.7735\n",
      "alpha:   0.0010 | l1_ratio:   1.0000 | Training score: 0.9397 | Test score: 0.7397\n",
      "alpha:   0.0030 | l1_ratio:   0.1000 | Training score: 0.8847 | Test score: 0.7515\n",
      "alpha:   0.0030 | l1_ratio:   0.2000 | Training score: 0.8875 | Test score: 0.7542\n",
      "alpha:   0.0030 | l1_ratio:   0.3000 | Training score: 0.8904 | Test score: 0.7570\n",
      "alpha:   0.0030 | l1_ratio:   0.4000 | Training score: 0.8936 | Test score: 0.7597\n",
      "alpha:   0.0030 | l1_ratio:   0.5000 | Training score: 0.8971 | Test score: 0.7626\n",
      "alpha:   0.0030 | l1_ratio:   0.6000 | Training score: 0.9010 | Test score: 0.7655\n",
      "alpha:   0.0030 | l1_ratio:   0.7000 | Training score: 0.9054 | Test score: 0.7689\n",
      "alpha:   0.0030 | l1_ratio:   0.8000 | Training score: 0.9103 | Test score: 0.7730\n",
      "alpha:   0.0030 | l1_ratio:   0.9000 | Training score: 0.9161 | Test score: 0.7779\n",
      "alpha:   0.0030 | l1_ratio:   1.0000 | Training score: 0.9256 | Test score: 0.7806\n",
      "alpha:   0.0100 | l1_ratio:   0.1000 | Training score: 0.8386 | Test score: 0.7012\n",
      "alpha:   0.0100 | l1_ratio:   0.2000 | Training score: 0.8423 | Test score: 0.7055\n",
      "alpha:   0.0100 | l1_ratio:   0.3000 | Training score: 0.8462 | Test score: 0.7102\n",
      "alpha:   0.0100 | l1_ratio:   0.4000 | Training score: 0.8506 | Test score: 0.7153\n",
      "alpha:   0.0100 | l1_ratio:   0.5000 | Training score: 0.8555 | Test score: 0.7209\n",
      "alpha:   0.0100 | l1_ratio:   0.6000 | Training score: 0.8612 | Test score: 0.7270\n",
      "alpha:   0.0100 | l1_ratio:   0.7000 | Training score: 0.8678 | Test score: 0.7337\n",
      "alpha:   0.0100 | l1_ratio:   0.8000 | Training score: 0.8755 | Test score: 0.7415\n",
      "alpha:   0.0100 | l1_ratio:   0.9000 | Training score: 0.8848 | Test score: 0.7515\n",
      "alpha:   0.0100 | l1_ratio:   1.0000 | Training score: 0.8965 | Test score: 0.7656\n",
      "alpha:   0.0300 | l1_ratio:   0.1000 | Training score: 0.7843 | Test score: 0.6303\n",
      "alpha:   0.0300 | l1_ratio:   0.2000 | Training score: 0.7872 | Test score: 0.6342\n",
      "alpha:   0.0300 | l1_ratio:   0.3000 | Training score: 0.7904 | Test score: 0.6384\n",
      "alpha:   0.0300 | l1_ratio:   0.4000 | Training score: 0.7941 | Test score: 0.6433\n",
      "alpha:   0.0300 | l1_ratio:   0.5000 | Training score: 0.7986 | Test score: 0.6490\n",
      "alpha:   0.0300 | l1_ratio:   0.6000 | Training score: 0.8042 | Test score: 0.6557\n",
      "alpha:   0.0300 | l1_ratio:   0.7000 | Training score: 0.8109 | Test score: 0.6638\n",
      "alpha:   0.0300 | l1_ratio:   0.8000 | Training score: 0.8200 | Test score: 0.6750\n",
      "alpha:   0.0300 | l1_ratio:   0.9000 | Training score: 0.8328 | Test score: 0.6914\n",
      "alpha:   0.0300 | l1_ratio:   1.0000 | Training score: 0.8540 | Test score: 0.7208\n",
      "alpha:   0.1000 | l1_ratio:   0.1000 | Training score: 0.7030 | Test score: 0.5262\n",
      "alpha:   0.1000 | l1_ratio:   0.2000 | Training score: 0.7064 | Test score: 0.5307\n",
      "alpha:   0.1000 | l1_ratio:   0.3000 | Training score: 0.7100 | Test score: 0.5357\n",
      "alpha:   0.1000 | l1_ratio:   0.4000 | Training score: 0.7143 | Test score: 0.5414\n",
      "alpha:   0.1000 | l1_ratio:   0.5000 | Training score: 0.7192 | Test score: 0.5476\n",
      "alpha:   0.1000 | l1_ratio:   0.6000 | Training score: 0.7250 | Test score: 0.5549\n",
      "alpha:   0.1000 | l1_ratio:   0.7000 | Training score: 0.7320 | Test score: 0.5644\n",
      "alpha:   0.1000 | l1_ratio:   0.8000 | Training score: 0.7400 | Test score: 0.5768\n",
      "alpha:   0.1000 | l1_ratio:   0.9000 | Training score: 0.7497 | Test score: 0.5933\n",
      "alpha:   0.1000 | l1_ratio:   1.0000 | Training score: 0.7710 | Test score: 0.6302\n",
      "\n",
      "\n",
      "----------------- BEST on TEST set----------------\n",
      "Coefficients of the elastic model: [ -0.           0.          -0.           0.          -0.           0.          -0.\n",
      "  -0.          -0.          -0.          -6.94791033   0.         -15.73526712\n",
      "  -0.           0.          -0.           0.          -0.          -0.          -0.\n",
      "  -0.          -0.          -0.          -0.          -0.          -0.           0.\n",
      "  -0.           0.           0.           0.           0.          -0.           0.\n",
      "  -0.          -0.           0.          -0.          -0.           0.          -0.\n",
      "  -0.          -0.          -0.          -0.          -0.          -0.          -0.\n",
      "  -0.           0.           0.           0.           0.           0.           0.\n",
      "   0.           0.           1.57250048   0.          -0.06794425  -0.          -0.\n",
      "  -0.          -0.          -0.          -0.          -0.          -0.\n",
      "  19.43341184  -0.          -0.          -0.          -5.13377204  -0.\n",
      "   5.34522643  -0.          -0.          -0.          -0.          -0.          -0.\n",
      "   0.          -0.45788656  -0.          -0.          -0.          -0.          -0.\n",
      "  -0.          -0.          -0.          -0.           0.          -0.          -0.\n",
      "  -0.          -0.          -0.          -0.          -0.          -0.           0.\n",
      "  -0.           0.        ]\n"
     ]
    }
   ],
   "source": [
    "training_score_list = []\n",
    "test_score_list = []\n",
    "best_test_score = None\n",
    "best_alpha = 0; best_l1_ratio = 0\n",
    "\n",
    "alpha_settings = [0.001, 0.003, 0.01, 0.03, 0.1]\n",
    "l1_ratio_setting =  [0.1,0.2,0.3,0.4,0.5,0.6,0.7,0.8,0.9,1]\n",
    "for alpha in alpha_settings:\n",
    "    for l1_ratio in l1_ratio_setting:\n",
    "        elastic = ElasticNet(alpha=alpha,l1_ratio=l1_ratio, max_iter=100000, random_state=42).fit(X_train, y_train)\n",
    "        train_score, test_score = elastic.score(X_train, y_train), elastic.score(X_test, y_test)\n",
    "        training_score_list.append(train_score)\n",
    "        test_score_list.append(test_score)\n",
    "        print(\"alpha: {:8.4f} | l1_ratio: {:8.4f} | Training score: {:.4f} | Test score: {:.4f}\".format(alpha, l1_ratio, train_score, test_score))  \n",
    "        \n",
    "        if best_test_score is None or best_test_score < test_score:\n",
    "            best_test_score = test_score\n",
    "            best_alpha = alpha\n",
    "            best_l1_ratio = l1_ratio\n",
    "\n",
    "print (\"\\n\\n----------------- BEST on TEST set----------------\")          \n",
    "elastic = ElasticNet(alpha=alpha,l1_ratio=l1_ratio, max_iter=100000, random_state=42).fit(X_train, y_train)\n",
    "print (\"Coefficients of the elastic model:\", elastic.coef_)"
   ]
  },
  {
   "cell_type": "code",
   "execution_count": null,
   "metadata": {},
   "outputs": [],
   "source": []
  }
 ],
 "metadata": {
  "kernelspec": {
   "display_name": "Python 3",
   "language": "python",
   "name": "python3"
  },
  "language_info": {
   "codemirror_mode": {
    "name": "ipython",
    "version": 3
   },
   "file_extension": ".py",
   "mimetype": "text/x-python",
   "name": "python",
   "nbconvert_exporter": "python",
   "pygments_lexer": "ipython3",
   "version": "3.6.1"
  },
  "toc": {
   "base_numbering": 1,
   "nav_menu": {},
   "number_sections": true,
   "sideBar": true,
   "skip_h1_title": false,
   "title_cell": "Table of Contents",
   "title_sidebar": "Contents",
   "toc_cell": true,
   "toc_position": {
    "height": "508px",
    "left": "0px",
    "right": "935.099px",
    "top": "110px",
    "width": "261px"
   },
   "toc_section_display": true,
   "toc_window_display": true
  }
 },
 "nbformat": 4,
 "nbformat_minor": 2
}
